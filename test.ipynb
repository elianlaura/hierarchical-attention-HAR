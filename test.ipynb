{
 "metadata": {
  "language_info": {
   "codemirror_mode": {
    "name": "ipython",
    "version": 3
   },
   "file_extension": ".py",
   "mimetype": "text/x-python",
   "name": "python",
   "nbconvert_exporter": "python",
   "pygments_lexer": "ipython3",
   "version": "3.8.5-final"
  },
  "orig_nbformat": 2,
  "kernelspec": {
   "name": "python38564bittensorflowconda66bc50cb74e74b9cb5b93d9fb541a0b6",
   "display_name": "Python 3.8.5 64-bit ('tensorflow': conda)"
  }
 },
 "nbformat": 4,
 "nbformat_minor": 2,
 "cells": [
  {
   "cell_type": "code",
   "execution_count": 2,
   "metadata": {},
   "outputs": [],
   "source": [
    "from model.hierarchical_self_attention_model import HSA_model, HSA_VAE\n",
    "import tensorflow as tf\n",
    "import yaml"
   ]
  },
  {
   "cell_type": "code",
   "execution_count": 3,
   "metadata": {},
   "outputs": [],
   "source": [
    "%load_ext autoreload\n",
    "%autoreload 2"
   ]
  },
  {
   "cell_type": "code",
   "execution_count": 25,
   "metadata": {},
   "outputs": [],
   "source": [
    "hparam_file = open('configs/hyperparameters.yaml', mode='r')\n",
    "hyperparameters = yaml.load(hparam_file, Loader=yaml.FullLoader)"
   ]
  },
  {
   "cell_type": "code",
   "execution_count": 26,
   "metadata": {},
   "outputs": [
    {
     "output_type": "execute_result",
     "data": {
      "text/plain": "{'HSA_model': {'modality_indices': {'opp': [0, 9, 18, 27, 36, 45, 61, 77],\n   'mex': [0, 3, 6]},\n  'dff': 512,\n  'd_model': 64,\n  'num_heads': 4,\n  'dropout': 0.2},\n 'train': {'batch_size': 64,\n  'epochs': 100,\n  'val_split': 0.1,\n  'learning_rate': 0.001}}"
     },
     "metadata": {},
     "execution_count": 26
    }
   ],
   "source": [
    "hyperparameters"
   ]
  },
  {
   "cell_type": "code",
   "execution_count": 27,
   "metadata": {
    "tags": []
   },
   "outputs": [
    {
     "output_type": "stream",
     "name": "stdout",
     "text": "Model: \"model_3\"\n_________________________________________________________________\nLayer (type)                 Output Shape              Param #   \n=================================================================\ninput_3 (InputLayer)         [(None, 36, 25, 77)]      0         \n_________________________________________________________________\nmulti_window_encoder_1 (Mult ((None, None, 64), (None, 1249472   \n_________________________________________________________________\nmodality_encoder_block_15 (M (None, None, 64)          170048    \n_________________________________________________________________\ncombined_sensor_self_attenti ((None, 64), (None, 1, No 82880     \n_________________________________________________________________\ndense_232 (Dense)            (None, 6)                 390       \n=================================================================\nTotal params: 1,502,790\nTrainable params: 1,502,790\nNon-trainable params: 0\n_________________________________________________________________\n"
    }
   ],
   "source": [
    "n_window, n_timesteps, n_features, n_outputs = 36, 25, 77, 6\n",
    "\n",
    "hsa_model = HSA_model(hyperparameters['HSA_model']['modality_indices']['opp'], n_window, n_timesteps, n_features, n_outputs, d_model=hyperparameters['HSA_model']['d_model'], num_heads = hyperparameters['HSA_model']['num_heads'], dff=hyperparameters['HSA_model']['dff'], dropout_rate=hyperparameters['HSA_model']['dropout'])\n",
    "\n",
    "model = hsa_model.get_model()\n",
    "\n",
    "model.compile(loss=tf.keras.losses.CategoricalCrossentropy(),\n",
    "              optimizer=tf.keras.optimizers.Adam(lr=hyperparameters['train']['learning_rate']), metrics='accuracy')\n",
    "model.summary()"
   ]
  },
  {
   "cell_type": "code",
   "execution_count": 23,
   "metadata": {
    "tags": []
   },
   "outputs": [],
   "source": [
    "hsa_vae_model = HSA_VAE(base_model=model, feature_dim=hyperparameters['HSA_model']['d_model']).get_model()"
   ]
  },
  {
   "cell_type": "code",
   "execution_count": 28,
   "metadata": {},
   "outputs": [],
   "source": [
    "optimizer = tf.keras.optimizers.Adam(learning_rate=hyperparameters['train']['learning_rate'])\n",
    "hsa_vae_model.compile(optimizer)    "
   ]
  },
  {
   "cell_type": "code",
   "execution_count": null,
   "metadata": {},
   "outputs": [],
   "source": []
  }
 ]
}