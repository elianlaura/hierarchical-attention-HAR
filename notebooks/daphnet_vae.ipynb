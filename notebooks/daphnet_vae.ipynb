{
 "cells": [
  {
   "cell_type": "code",
   "execution_count": 1,
   "metadata": {},
   "outputs": [],
   "source": [
    "import tensorflow as tf\n",
    "import numpy as np\n",
    "import pandas as pd\n",
    "from sklearn.metrics import classification_report, confusion_matrix\n",
    "import seaborn as sns\n",
    "import matplotlib.pyplot as plt\n",
    "import sys\n",
    "import yaml\n",
    "\n",
    "sys.path.append(\"../\")\n",
    "\n",
    "%load_ext autoreload\n",
    "%autoreload 2"
   ]
  },
  {
   "cell_type": "code",
   "execution_count": 2,
   "metadata": {},
   "outputs": [],
   "source": [
    "from sklearn.preprocessing import StandardScaler\n",
    "from preprocessing.sliding_window import create_windowed_dataset"
   ]
  },
  {
   "cell_type": "markdown",
   "metadata": {},
   "source": [
    "### Data loading"
   ]
  },
  {
   "cell_type": "code",
   "execution_count": 3,
   "metadata": {},
   "outputs": [],
   "source": [
    "data_path = '/home/hariub/data/HAR/processed/clean_daphnet_data.csv'\n",
    "df = pd.read_csv(data_path)"
   ]
  },
  {
   "cell_type": "code",
   "execution_count": 4,
   "metadata": {},
   "outputs": [
    {
     "data": {
      "text/html": [
       "<div>\n",
       "<style scoped>\n",
       "    .dataframe tbody tr th:only-of-type {\n",
       "        vertical-align: middle;\n",
       "    }\n",
       "\n",
       "    .dataframe tbody tr th {\n",
       "        vertical-align: top;\n",
       "    }\n",
       "\n",
       "    .dataframe thead th {\n",
       "        text-align: right;\n",
       "    }\n",
       "</style>\n",
       "<table border=\"1\" class=\"dataframe\">\n",
       "  <thead>\n",
       "    <tr style=\"text-align: right;\">\n",
       "      <th></th>\n",
       "      <th>Time</th>\n",
       "      <th>Ankle_acc_x</th>\n",
       "      <th>Ankle_acc_y</th>\n",
       "      <th>Ankle_acc_z</th>\n",
       "      <th>Thigh_acc_x</th>\n",
       "      <th>Thigh_acc_y</th>\n",
       "      <th>Thigh_acc_z</th>\n",
       "      <th>Trunk_acc_x</th>\n",
       "      <th>Trunk_acc_y</th>\n",
       "      <th>Trunk_acc_z</th>\n",
       "      <th>Label</th>\n",
       "      <th>Subject</th>\n",
       "      <th>Run</th>\n",
       "    </tr>\n",
       "  </thead>\n",
       "  <tbody>\n",
       "    <tr>\n",
       "      <th>0</th>\n",
       "      <td>15.0</td>\n",
       "      <td>70.0</td>\n",
       "      <td>39.0</td>\n",
       "      <td>-970.0</td>\n",
       "      <td>0.0</td>\n",
       "      <td>0.0</td>\n",
       "      <td>0.0</td>\n",
       "      <td>0.0</td>\n",
       "      <td>0.0</td>\n",
       "      <td>0.0</td>\n",
       "      <td>0.0</td>\n",
       "      <td>1</td>\n",
       "      <td>1</td>\n",
       "    </tr>\n",
       "    <tr>\n",
       "      <th>1</th>\n",
       "      <td>31.0</td>\n",
       "      <td>70.0</td>\n",
       "      <td>39.0</td>\n",
       "      <td>-970.0</td>\n",
       "      <td>0.0</td>\n",
       "      <td>0.0</td>\n",
       "      <td>0.0</td>\n",
       "      <td>0.0</td>\n",
       "      <td>0.0</td>\n",
       "      <td>0.0</td>\n",
       "      <td>0.0</td>\n",
       "      <td>1</td>\n",
       "      <td>1</td>\n",
       "    </tr>\n",
       "    <tr>\n",
       "      <th>2</th>\n",
       "      <td>46.0</td>\n",
       "      <td>60.0</td>\n",
       "      <td>49.0</td>\n",
       "      <td>-960.0</td>\n",
       "      <td>0.0</td>\n",
       "      <td>0.0</td>\n",
       "      <td>0.0</td>\n",
       "      <td>0.0</td>\n",
       "      <td>0.0</td>\n",
       "      <td>0.0</td>\n",
       "      <td>0.0</td>\n",
       "      <td>1</td>\n",
       "      <td>1</td>\n",
       "    </tr>\n",
       "    <tr>\n",
       "      <th>3</th>\n",
       "      <td>62.0</td>\n",
       "      <td>60.0</td>\n",
       "      <td>49.0</td>\n",
       "      <td>-960.0</td>\n",
       "      <td>0.0</td>\n",
       "      <td>0.0</td>\n",
       "      <td>0.0</td>\n",
       "      <td>0.0</td>\n",
       "      <td>0.0</td>\n",
       "      <td>0.0</td>\n",
       "      <td>0.0</td>\n",
       "      <td>1</td>\n",
       "      <td>1</td>\n",
       "    </tr>\n",
       "    <tr>\n",
       "      <th>4</th>\n",
       "      <td>78.0</td>\n",
       "      <td>50.0</td>\n",
       "      <td>39.0</td>\n",
       "      <td>-960.0</td>\n",
       "      <td>0.0</td>\n",
       "      <td>0.0</td>\n",
       "      <td>0.0</td>\n",
       "      <td>0.0</td>\n",
       "      <td>0.0</td>\n",
       "      <td>0.0</td>\n",
       "      <td>0.0</td>\n",
       "      <td>1</td>\n",
       "      <td>1</td>\n",
       "    </tr>\n",
       "  </tbody>\n",
       "</table>\n",
       "</div>"
      ],
      "text/plain": [
       "   Time  Ankle_acc_x  Ankle_acc_y  Ankle_acc_z  Thigh_acc_x  Thigh_acc_y  \\\n",
       "0  15.0         70.0         39.0       -970.0          0.0          0.0   \n",
       "1  31.0         70.0         39.0       -970.0          0.0          0.0   \n",
       "2  46.0         60.0         49.0       -960.0          0.0          0.0   \n",
       "3  62.0         60.0         49.0       -960.0          0.0          0.0   \n",
       "4  78.0         50.0         39.0       -960.0          0.0          0.0   \n",
       "\n",
       "   Thigh_acc_z  Trunk_acc_x  Trunk_acc_y  Trunk_acc_z  Label  Subject  Run  \n",
       "0          0.0          0.0          0.0          0.0    0.0        1    1  \n",
       "1          0.0          0.0          0.0          0.0    0.0        1    1  \n",
       "2          0.0          0.0          0.0          0.0    0.0        1    1  \n",
       "3          0.0          0.0          0.0          0.0    0.0        1    1  \n",
       "4          0.0          0.0          0.0          0.0    0.0        1    1  "
      ]
     },
     "execution_count": 4,
     "metadata": {},
     "output_type": "execute_result"
    }
   ],
   "source": [
    "df.head()"
   ]
  },
  {
   "cell_type": "code",
   "execution_count": 5,
   "metadata": {},
   "outputs": [],
   "source": [
    "FEATURES = ['Ankle_acc_x', 'Ankle_acc_y', 'Ankle_acc_z', 'Thigh_acc_x','Thigh_acc_y', 'Thigh_acc_z', 'Trunk_acc_x', 'Trunk_acc_y','Trunk_acc_z']\n",
    "LABEL = ['Label']"
   ]
  },
  {
   "cell_type": "code",
   "execution_count": 6,
   "metadata": {},
   "outputs": [],
   "source": [
    "df = df.fillna(0)\n",
    "scaler = StandardScaler()\n",
    "df[FEATURES] = scaler.fit_transform(df[FEATURES])"
   ]
  },
  {
   "cell_type": "code",
   "execution_count": 7,
   "metadata": {},
   "outputs": [],
   "source": [
    "NOVEL_CLASSES = [2]"
   ]
  },
  {
   "cell_type": "code",
   "execution_count": 8,
   "metadata": {},
   "outputs": [],
   "source": [
    "holdout_data = df.loc[df['Label'].isin(NOVEL_CLASSES)]\n",
    "novel_data = holdout_data.copy().reset_index(drop=True)\n",
    "\n",
    "df = df.drop(holdout_data.copy().index)\n",
    "df = df.reset_index(drop=True)"
   ]
  },
  {
   "cell_type": "code",
   "execution_count": 9,
   "metadata": {},
   "outputs": [],
   "source": [
    "hyperparameters = yaml.load(open('../configs/metadata.yaml', mode='r'), Loader=yaml.FullLoader)\n",
    "\n",
    "metadata = yaml.load(open('../configs/metadata.yaml', mode='r'), Loader=yaml.FullLoader)['daphnet_preprocess']"
   ]
  },
  {
   "cell_type": "code",
   "execution_count": 10,
   "metadata": {},
   "outputs": [],
   "source": [
    "train_df = df[(df['Subject'] != 2) & (df['Subject'] != 9)]\n",
    "test_df = df[df['Subject'] == 2]\n",
    "val_df = df[df['Subject'] == 9]\n",
    "\n",
    "SLIDING_WINDOW_LENGTH = metadata['sliding_win_len']\n",
    "SLIDING_WINDOW_STEP = metadata['sliding_win_stride']\n",
    "N_WINDOW, N_TIMESTEP = metadata['n_window'], metadata['n_timestep']\n",
    "\n",
    "# FEATURES = metadata['feature_list']\n",
    "\n",
    "X_train, y_train = create_windowed_dataset(\n",
    "    train_df, FEATURES, 'Label', window_size=SLIDING_WINDOW_LENGTH, stride=SLIDING_WINDOW_STEP)\n",
    "X_val, y_val = create_windowed_dataset(\n",
    "    val_df, FEATURES, 'Label', window_size=SLIDING_WINDOW_LENGTH, stride=SLIDING_WINDOW_STEP)\n",
    "X_test, y_test = create_windowed_dataset(\n",
    "    test_df, FEATURES, 'Label', window_size=SLIDING_WINDOW_LENGTH, stride=SLIDING_WINDOW_STEP)\n",
    "\n",
    "X_train = X_train.reshape(\n",
    "    (X_train.shape[0], N_WINDOW, N_TIMESTEP, len(FEATURES)))\n",
    "X_val = X_val.reshape(\n",
    "    (X_val.shape[0], N_WINDOW, N_TIMESTEP, len(FEATURES)))\n",
    "X_test = X_test.reshape(\n",
    "    (X_test.shape[0], N_WINDOW, N_TIMESTEP, len(FEATURES)))\n",
    "\n",
    "y_train = tf.keras.utils.to_categorical(y_train, num_classes=2)\n",
    "y_val = tf.keras.utils.to_categorical(y_val, num_classes=2)\n",
    "y_test = tf.keras.utils.to_categorical(y_test, num_classes=2)"
   ]
  },
  {
   "cell_type": "code",
   "execution_count": 11,
   "metadata": {},
   "outputs": [],
   "source": [
    "X_holdout, y_holdout = create_windowed_dataset(novel_data, FEATURES,LABEL, window_size=SLIDING_WINDOW_LENGTH, stride=SLIDING_WINDOW_STEP)\n",
    "\n",
    "X_holdout = X_holdout.reshape((X_holdout.shape[0], N_WINDOW, N_TIMESTEP, len(FEATURES)))\n",
    "y_holdout = tf.keras.utils.to_categorical(y_holdout)"
   ]
  },
  {
   "cell_type": "code",
   "execution_count": 12,
   "metadata": {},
   "outputs": [],
   "source": [
    "# from preprocessing.utils import get_train_test_data\n",
    "from model.hierarchical_self_attention_model import HSA_model_session_guided_window"
   ]
  },
  {
   "cell_type": "code",
   "execution_count": 13,
   "metadata": {},
   "outputs": [
    {
     "name": "stdout",
     "output_type": "stream",
     "text": [
      "(9296, 10, 32, 9)\n",
      "(9296, 2)\n"
     ]
    }
   ],
   "source": [
    "print(X_train.shape)\n",
    "print(y_train.shape)"
   ]
  },
  {
   "cell_type": "code",
   "execution_count": 14,
   "metadata": {},
   "outputs": [],
   "source": [
    "y_train_mid = np.repeat(np.expand_dims(y_train, axis=1), repeats=metadata['n_window'], axis=1)\n",
    "y_val_mid = np.repeat(np.expand_dims(y_val, axis=1), repeats=metadata['n_window'], axis=1)\n",
    "y_test_mid = np.repeat(np.expand_dims(y_test, axis=1), repeats=metadata['n_window'], axis=1)"
   ]
  },
  {
   "cell_type": "code",
   "execution_count": 15,
   "metadata": {},
   "outputs": [
    {
     "data": {
      "text/plain": [
       "(9296, 10, 2)"
      ]
     },
     "execution_count": 15,
     "metadata": {},
     "output_type": "execute_result"
    }
   ],
   "source": [
    "y_train_mid.shape"
   ]
  },
  {
   "cell_type": "code",
   "execution_count": 16,
   "metadata": {},
   "outputs": [],
   "source": [
    "hparam_file = open('../configs/hyperparameters.yaml', mode='r')\n",
    "hyperparameters = yaml.load(hparam_file, Loader=yaml.FullLoader)\n",
    "DATASET_NAME = 'daphnet'\n",
    "hparams_all = hyperparameters['HSA_model']\n",
    "hparams = hparams_all[DATASET_NAME]\n",
    "\n",
    "hparams['n_window'], hparams['n_timesteps'], hparams['n_features'], hparams['n_outputs'] = X_train.shape[1], X_train.shape[2], X_train.shape[3], y_train.shape[1]\n",
    "hparams['n_outputs_window']=  y_train.shape[1]"
   ]
  },
  {
   "cell_type": "markdown",
   "metadata": {},
   "source": [
    "## Training"
   ]
  },
  {
   "cell_type": "code",
   "execution_count": 17,
   "metadata": {},
   "outputs": [
    {
     "name": "stdout",
     "output_type": "stream",
     "text": [
      "8 Physical GPUs, 8 Logical GPUs\n",
      "INFO:tensorflow:Using MirroredStrategy with devices ('/job:localhost/replica:0/task:0/device:GPU:6', '/job:localhost/replica:0/task:0/device:GPU:7')\n",
      "Number of devices: 2\n"
     ]
    }
   ],
   "source": [
    "tf.keras.backend.clear_session()\n",
    "gpus = tf.config.experimental.list_physical_devices('GPU')\n",
    "# print(gpus)\n",
    "if gpus:\n",
    "  try:\n",
    "    # Currently, memory growth needs to be the same across GPUs\n",
    "    for gpu in gpus:\n",
    "      tf.config.experimental.set_memory_growth(gpu, True)\n",
    "    logical_gpus = tf.config.experimental.list_logical_devices('GPU')\n",
    "    print(len(gpus), \"Physical GPUs,\", len(logical_gpus), \"Logical GPUs\")\n",
    "  except RuntimeError as e:\n",
    "    # Memory growth must be set before GPUs have been initialized\n",
    "    print(e)\n",
    "    \n",
    "device_list = ['/gpu:'+str(i) for i in range(6, 8)]\n",
    "strategy = tf.distribute.MirroredStrategy(devices=device_list)\n",
    "print('Number of devices: {}'.format(strategy.num_replicas_in_sync))\n",
    "with strategy.scope():\n",
    "    model = HSA_model_session_guided_window(**hparams).get_compiled_model()"
   ]
  },
  {
   "cell_type": "code",
   "execution_count": 18,
   "metadata": {},
   "outputs": [
    {
     "name": "stdout",
     "output_type": "stream",
     "text": [
      "Model: \"model_1\"\n",
      "__________________________________________________________________________________________________\n",
      "Layer (type)                    Output Shape         Param #     Connected to                     \n",
      "==================================================================================================\n",
      "input_1 (InputLayer)            [(None, 10, 32, 9)]  0                                            \n",
      "__________________________________________________________________________________________________\n",
      "multi_window_encoder (MultiWind ((None, None, 64), ( 350144      input_1[0][0]                    \n",
      "__________________________________________________________________________________________________\n",
      "modality_encoder_block_3 (Modal (None, None, 64)     104000      multi_window_encoder[0][0]       \n",
      "__________________________________________________________________________________________________\n",
      "combined_sensor_self_attention_ ((None, 64), (None,  49856       modality_encoder_block_3[0][0]   \n",
      "__________________________________________________________________________________________________\n",
      "tf_op_layer_Shape (TensorFlowOp [(2,)]               0           combined_sensor_self_attention_1[\n",
      "__________________________________________________________________________________________________\n",
      "tf_op_layer_ExpandDims (TensorF [(None, 1, 64)]      0           combined_sensor_self_attention_1[\n",
      "__________________________________________________________________________________________________\n",
      "tf_op_layer_strided_slice_3 (Te [(0,)]               0           tf_op_layer_Shape[0][0]          \n",
      "__________________________________________________________________________________________________\n",
      "tf_op_layer_strided_slice_4 (Te [(1,)]               0           tf_op_layer_Shape[0][0]          \n",
      "__________________________________________________________________________________________________\n",
      "tf_op_layer_Tile (TensorFlowOpL [(None, 10, 64)]     0           tf_op_layer_ExpandDims[0][0]     \n",
      "__________________________________________________________________________________________________\n",
      "tf_op_layer_concat (TensorFlowO [(2,)]               0           tf_op_layer_strided_slice_3[0][0]\n",
      "                                                                 tf_op_layer_strided_slice_4[0][0]\n",
      "__________________________________________________________________________________________________\n",
      "tf_op_layer_Reshape (TensorFlow [(None, 64)]         0           tf_op_layer_Tile[0][0]           \n",
      "                                                                 tf_op_layer_concat[0][0]         \n",
      "__________________________________________________________________________________________________\n",
      "reshape (Reshape)               (None, 10, 64)       0           tf_op_layer_Reshape[0][0]        \n",
      "__________________________________________________________________________________________________\n",
      "concatenate (Concatenate)       (None, 10, 128)      0           multi_window_encoder[0][0]       \n",
      "                                                                 reshape[0][0]                    \n",
      "__________________________________________________________________________________________________\n",
      "dense_60 (Dense)                (None, 10, 512)      66048       concatenate[0][0]                \n",
      "__________________________________________________________________________________________________\n",
      "dense_61 (Dense)                (None, 256)          16640       combined_sensor_self_attention_1[\n",
      "__________________________________________________________________________________________________\n",
      "window_pred (Dense)             (None, 10, 2)        1026        dense_60[0][0]                   \n",
      "__________________________________________________________________________________________________\n",
      "session_pred (Dense)            (None, 2)            514         dense_61[0][0]                   \n",
      "==================================================================================================\n",
      "Total params: 588,228\n",
      "Trainable params: 588,228\n",
      "Non-trainable params: 0\n",
      "__________________________________________________________________________________________________\n"
     ]
    }
   ],
   "source": [
    "model.summary()"
   ]
  },
  {
   "cell_type": "code",
   "execution_count": 19,
   "metadata": {},
   "outputs": [
    {
     "name": "stdout",
     "output_type": "stream",
     "text": [
      "Epoch 1/20\n",
      "INFO:tensorflow:batch_all_reduce: 164 all-reduces with algorithm = nccl, num_packs = 1\n",
      "INFO:tensorflow:Reduce to /job:localhost/replica:0/task:0/device:CPU:0 then broadcast to ('/job:localhost/replica:0/task:0/device:CPU:0',).\n",
      "INFO:tensorflow:Reduce to /job:localhost/replica:0/task:0/device:CPU:0 then broadcast to ('/job:localhost/replica:0/task:0/device:CPU:0',).\n",
      "INFO:tensorflow:Reduce to /job:localhost/replica:0/task:0/device:CPU:0 then broadcast to ('/job:localhost/replica:0/task:0/device:CPU:0',).\n",
      "INFO:tensorflow:Reduce to /job:localhost/replica:0/task:0/device:CPU:0 then broadcast to ('/job:localhost/replica:0/task:0/device:CPU:0',).\n",
      "INFO:tensorflow:Reduce to /job:localhost/replica:0/task:0/device:CPU:0 then broadcast to ('/job:localhost/replica:0/task:0/device:CPU:0',).\n",
      "INFO:tensorflow:Reduce to /job:localhost/replica:0/task:0/device:CPU:0 then broadcast to ('/job:localhost/replica:0/task:0/device:CPU:0',).\n",
      "INFO:tensorflow:Reduce to /job:localhost/replica:0/task:0/device:CPU:0 then broadcast to ('/job:localhost/replica:0/task:0/device:CPU:0',).\n",
      "INFO:tensorflow:Reduce to /job:localhost/replica:0/task:0/device:CPU:0 then broadcast to ('/job:localhost/replica:0/task:0/device:CPU:0',).\n",
      "INFO:tensorflow:Reduce to /job:localhost/replica:0/task:0/device:CPU:0 then broadcast to ('/job:localhost/replica:0/task:0/device:CPU:0',).\n",
      "INFO:tensorflow:Reduce to /job:localhost/replica:0/task:0/device:CPU:0 then broadcast to ('/job:localhost/replica:0/task:0/device:CPU:0',).\n",
      "INFO:tensorflow:batch_all_reduce: 164 all-reduces with algorithm = nccl, num_packs = 1\n",
      "73/73 [==============================] - 13s 177ms/step - session_pred_accuracy: 0.8647 - loss: 0.5770 - session_pred_loss: 0.2886 - window_pred_accuracy: 0.8659 - window_pred_loss: 0.2884 - val_session_pred_accuracy: 0.6411 - val_loss: 2.8710 - val_session_pred_loss: 1.5216 - val_window_pred_accuracy: 0.6618 - val_window_pred_loss: 1.3494\n",
      "Epoch 6/20\n",
      "73/73 [==============================] - 13s 178ms/step - session_pred_accuracy: 0.8657 - loss: 0.5655 - session_pred_loss: 0.2832 - window_pred_accuracy: 0.8660 - window_pred_loss: 0.2823 - val_session_pred_accuracy: 0.6600 - val_loss: 2.2505 - val_session_pred_loss: 1.1025 - val_window_pred_accuracy: 0.6573 - val_window_pred_loss: 1.1480\n",
      "Epoch 7/20\n",
      "73/73 [==============================] - 13s 178ms/step - session_pred_accuracy: 0.8596 - loss: 0.5831 - session_pred_loss: 0.2928 - window_pred_accuracy: 0.8593 - window_pred_loss: 0.2903 - val_session_pred_accuracy: 0.6400 - val_loss: 3.3720 - val_session_pred_loss: 1.7642 - val_window_pred_accuracy: 0.6014 - val_window_pred_loss: 1.6078\n",
      "Epoch 8/20\n",
      "73/73 [==============================] - 13s 179ms/step - session_pred_accuracy: 0.8761 - loss: 0.5359 - session_pred_loss: 0.2684 - window_pred_accuracy: 0.8775 - window_pred_loss: 0.2675 - val_session_pred_accuracy: 0.6537 - val_loss: 1.4770 - val_session_pred_loss: 0.7812 - val_window_pred_accuracy: 0.6359 - val_window_pred_loss: 0.6959\n",
      "Epoch 9/20\n",
      "73/73 [==============================] - 13s 176ms/step - session_pred_accuracy: 0.8735 - loss: 0.5600 - session_pred_loss: 0.2799 - window_pred_accuracy: 0.8736 - window_pred_loss: 0.2801 - val_session_pred_accuracy: 0.6547 - val_loss: 2.2751 - val_session_pred_loss: 1.1900 - val_window_pred_accuracy: 0.6700 - val_window_pred_loss: 1.0850\n",
      "Epoch 10/20\n",
      "73/73 [==============================] - 13s 178ms/step - session_pred_accuracy: 0.8683 - loss: 0.5602 - session_pred_loss: 0.2804 - window_pred_accuracy: 0.8689 - window_pred_loss: 0.2798 - val_session_pred_accuracy: 0.6895 - val_loss: 1.1399 - val_session_pred_loss: 0.5816 - val_window_pred_accuracy: 0.6881 - val_window_pred_loss: 0.5583\n",
      "Epoch 11/20\n",
      "73/73 [==============================] - 13s 178ms/step - session_pred_accuracy: 0.8779 - loss: 0.5412 - session_pred_loss: 0.2728 - window_pred_accuracy: 0.8787 - window_pred_loss: 0.2684 - val_session_pred_accuracy: 0.6484 - val_loss: 4.4747 - val_session_pred_loss: 2.3628 - val_window_pred_accuracy: 0.6492 - val_window_pred_loss: 2.1119\n",
      "Epoch 12/20\n",
      "73/73 [==============================] - 23s 310ms/step - session_pred_accuracy: 0.8761 - loss: 0.5468 - session_pred_loss: 0.2741 - window_pred_accuracy: 0.8758 - window_pred_loss: 0.2727 - val_session_pred_accuracy: 0.6021 - val_loss: 2.2776 - val_session_pred_loss: 1.1084 - val_window_pred_accuracy: 0.6007 - val_window_pred_loss: 1.1691\n",
      "Epoch 13/20\n",
      "73/73 [==============================] - 22s 305ms/step - session_pred_accuracy: 0.8860 - loss: 0.5042 - session_pred_loss: 0.2526 - window_pred_accuracy: 0.8873 - window_pred_loss: 0.2516 - val_session_pred_accuracy: 0.6674 - val_loss: 3.8747 - val_session_pred_loss: 1.9280 - val_window_pred_accuracy: 0.6706 - val_window_pred_loss: 1.9467\n",
      "Epoch 14/20\n",
      "73/73 [==============================] - 25s 341ms/step - session_pred_accuracy: 0.8876 - loss: 0.5035 - session_pred_loss: 0.2525 - window_pred_accuracy: 0.8875 - window_pred_loss: 0.2509 - val_session_pred_accuracy: 0.6737 - val_loss: 3.8129 - val_session_pred_loss: 2.0206 - val_window_pred_accuracy: 0.6724 - val_window_pred_loss: 1.7923\n",
      "Epoch 15/20\n",
      "73/73 [==============================] - 25s 348ms/step - session_pred_accuracy: 0.8698 - loss: 0.5637 - session_pred_loss: 0.2825 - window_pred_accuracy: 0.8697 - window_pred_loss: 0.2813 - val_session_pred_accuracy: 0.6579 - val_loss: 4.6680 - val_session_pred_loss: 2.3203 - val_window_pred_accuracy: 0.6568 - val_window_pred_loss: 2.3477\n",
      "Epoch 16/20\n",
      "73/73 [==============================] - 25s 344ms/step - session_pred_accuracy: 0.8794 - loss: 0.5531 - session_pred_loss: 0.2792 - window_pred_accuracy: 0.8793 - window_pred_loss: 0.2738 - val_session_pred_accuracy: 0.6421 - val_loss: 3.5259 - val_session_pred_loss: 1.8999 - val_window_pred_accuracy: 0.6403 - val_window_pred_loss: 1.6260\n",
      "Epoch 17/20\n",
      "73/73 [==============================] - 25s 341ms/step - session_pred_accuracy: 0.8679 - loss: 0.5631 - session_pred_loss: 0.2829 - window_pred_accuracy: 0.8695 - window_pred_loss: 0.2802 - val_session_pred_accuracy: 0.6337 - val_loss: 1.5564 - val_session_pred_loss: 0.7778 - val_window_pred_accuracy: 0.6332 - val_window_pred_loss: 0.7786\n",
      "Epoch 18/20\n",
      "73/73 [==============================] - 25s 342ms/step - session_pred_accuracy: 0.8896 - loss: 0.4999 - session_pred_loss: 0.2506 - window_pred_accuracy: 0.8900 - window_pred_loss: 0.2493 - val_session_pred_accuracy: 0.6547 - val_loss: 2.7334 - val_session_pred_loss: 1.3412 - val_window_pred_accuracy: 0.6527 - val_window_pred_loss: 1.3921\n",
      "Epoch 19/20\n",
      "73/73 [==============================] - 25s 342ms/step - session_pred_accuracy: 0.8929 - loss: 0.4756 - session_pred_loss: 0.2386 - window_pred_accuracy: 0.8914 - window_pred_loss: 0.2370 - val_session_pred_accuracy: 0.6758 - val_loss: 1.6896 - val_session_pred_loss: 0.8647 - val_window_pred_accuracy: 0.6724 - val_window_pred_loss: 0.8249\n",
      "Epoch 20/20\n",
      "73/73 [==============================] - 25s 342ms/step - session_pred_accuracy: 0.8903 - loss: 0.4963 - session_pred_loss: 0.2491 - window_pred_accuracy: 0.8921 - window_pred_loss: 0.2472 - val_session_pred_accuracy: 0.7684 - val_loss: 0.9824 - val_session_pred_loss: 0.4917 - val_window_pred_accuracy: 0.7703 - val_window_pred_loss: 0.4908\n"
     ]
    },
    {
     "data": {
      "text/plain": [
       "<tensorflow.python.keras.callbacks.History at 0x7fa448ea7670>"
      ]
     },
     "execution_count": 19,
     "metadata": {},
     "output_type": "execute_result"
    }
   ],
   "source": [
    "model.fit(X_train, [y_train_mid, y_train], batch_size=len(device_list) * 64, epochs=20, validation_data=(X_val, [y_val_mid, y_val]), use_multiprocessing=True)"
   ]
  },
  {
   "cell_type": "code",
   "execution_count": 20,
   "metadata": {},
   "outputs": [],
   "source": [
    "pred_mid, pred_sess = model.predict(X_test, batch_size=len(device_list) * 64)"
   ]
  },
  {
   "cell_type": "code",
   "execution_count": 21,
   "metadata": {},
   "outputs": [],
   "source": [
    "# labels_map = {1:'lying',2:'sitting',3:'standing',4:'walking',5:'running',6:'cycling',7:'Nordic walking',\n",
    "#               11:'ascending stairs',12:'descending stairs',13:'vacuum cleaning',\n",
    "#               14:'ironing', 18:'rope jumping'}\n",
    "# class_names = list(labels_map.values())"
   ]
  },
  {
   "cell_type": "code",
   "execution_count": 22,
   "metadata": {},
   "outputs": [
    {
     "name": "stdout",
     "output_type": "stream",
     "text": [
      "              precision    recall  f1-score   support\n",
      "\n",
      "           0       0.82      0.84      0.83       443\n",
      "           1       0.85      0.84      0.84       490\n",
      "\n",
      "    accuracy                           0.84       933\n",
      "   macro avg       0.84      0.84      0.84       933\n",
      "weighted avg       0.84      0.84      0.84       933\n",
      "\n"
     ]
    }
   ],
   "source": [
    "print(classification_report(np.argmax(y_test, axis=1), np.argmax(pred_sess, axis=1)))"
   ]
  },
  {
   "cell_type": "code",
   "execution_count": 23,
   "metadata": {},
   "outputs": [
    {
     "name": "stdout",
     "output_type": "stream",
     "text": [
      "              precision    recall  f1-score   support\n",
      "\n",
      "           0       0.82      0.84      0.83       443\n",
      "           1       0.85      0.84      0.84       490\n",
      "\n",
      "    accuracy                           0.84       933\n",
      "   macro avg       0.84      0.84      0.84       933\n",
      "weighted avg       0.84      0.84      0.84       933\n",
      "\n"
     ]
    }
   ],
   "source": [
    "print(classification_report(np.argmax(y_test, axis=1), np.argmax(pred_sess, axis=1)))"
   ]
  },
  {
   "cell_type": "code",
   "execution_count": 24,
   "metadata": {},
   "outputs": [
    {
     "name": "stdout",
     "output_type": "stream",
     "text": [
      "              precision    recall  f1-score   support\n",
      "\n",
      "           0       0.82      0.84      0.83       443\n",
      "           1       0.85      0.84      0.84       490\n",
      "\n",
      "    accuracy                           0.84       933\n",
      "   macro avg       0.84      0.84      0.84       933\n",
      "weighted avg       0.84      0.84      0.84       933\n",
      "\n"
     ]
    }
   ],
   "source": [
    "print(classification_report(np.argmax(y_test, axis=1), np.argmax(pred_sess, axis=1)))"
   ]
  },
  {
   "cell_type": "code",
   "execution_count": 25,
   "metadata": {},
   "outputs": [],
   "source": [
    "# activity_map"
   ]
  },
  {
   "cell_type": "code",
   "execution_count": 26,
   "metadata": {},
   "outputs": [
    {
     "data": {
      "text/plain": [
       "<AxesSubplot:>"
      ]
     },
     "execution_count": 26,
     "metadata": {},
     "output_type": "execute_result"
    },
    {
     "data": {
      "image/png": "[encoded data removed]",
      "text/plain": [
       "<Figure size 720x576 with 2 Axes>"
      ]
     },
     "metadata": {
      "needs_background": "light"
     },
     "output_type": "display_data"
    }
   ],
   "source": [
    "confm = confusion_matrix(np.argmax(y_test, axis=1), np.argmax(pred_sess, axis=1))\n",
    "# activity_list = list(activity_map.values())\n",
    "df_cm = pd.DataFrame(confm)\n",
    "plt.figure(figsize = (10,8))\n",
    "sns.heatmap(df_cm, annot=True, fmt='d', cmap=\"YlGnBu\")"
   ]
  },
  {
   "cell_type": "code",
   "execution_count": 27,
   "metadata": {},
   "outputs": [
    {
     "data": {
      "text/plain": [
       "(933, 10, 2)"
      ]
     },
     "execution_count": 27,
     "metadata": {},
     "output_type": "execute_result"
    }
   ],
   "source": [
    "y_test_mid.shape"
   ]
  },
  {
   "cell_type": "code",
   "execution_count": 28,
   "metadata": {},
   "outputs": [
    {
     "data": {
      "text/plain": [
       "(933, 10, 2)"
      ]
     },
     "execution_count": 28,
     "metadata": {},
     "output_type": "execute_result"
    }
   ],
   "source": [
    "pred_mid.shape"
   ]
  },
  {
   "cell_type": "code",
   "execution_count": 29,
   "metadata": {},
   "outputs": [
    {
     "name": "stdout",
     "output_type": "stream",
     "text": [
      "              precision    recall  f1-score   support\n",
      "\n",
      "           0       0.82      0.83      0.83      4430\n",
      "           1       0.85      0.84      0.84      4900\n",
      "\n",
      "    accuracy                           0.84      9330\n",
      "   macro avg       0.84      0.84      0.84      9330\n",
      "weighted avg       0.84      0.84      0.84      9330\n",
      "\n"
     ]
    }
   ],
   "source": [
    "print(classification_report(np.argmax(y_test_mid.reshape(-1, 2), axis=1), np.argmax(pred_mid.reshape(-1, 2), axis=1)))"
   ]
  },
  {
   "cell_type": "code",
   "execution_count": 30,
   "metadata": {},
   "outputs": [
    {
     "data": {
      "text/plain": [
       "<AxesSubplot:>"
      ]
     },
     "execution_count": 30,
     "metadata": {},
     "output_type": "execute_result"
    },
    {
     "data": {
      "image/png": "[encoded data removed]",
      "text/plain": [
       "<Figure size 720x576 with 2 Axes>"
      ]
     },
     "metadata": {
      "needs_background": "light"
     },
     "output_type": "display_data"
    }
   ],
   "source": [
    "confm = confusion_matrix(np.argmax(y_test_mid.reshape(-1, 2), axis=1), np.argmax(pred_mid.reshape(-1, 2), axis=1))\n",
    "# activity_list = list(activity_map.values())\n",
    "df_cm = pd.DataFrame(confm)\n",
    "plt.figure(figsize = (10,8))\n",
    "sns.heatmap(df_cm, annot=True, fmt='d', cmap=\"YlGnBu\")"
   ]
  },
  {
   "cell_type": "code",
   "execution_count": null,
   "metadata": {},
   "outputs": [],
   "source": []
  },
  {
   "cell_type": "markdown",
   "metadata": {},
   "source": [
    "## VAE"
   ]
  },
  {
   "cell_type": "code",
   "execution_count": 31,
   "metadata": {},
   "outputs": [
    {
     "name": "stdout",
     "output_type": "stream",
     "text": [
      "input_1\n",
      "multi_window_encoder\n",
      "modality_encoder_block_3\n",
      "combined_sensor_self_attention_1\n",
      "tf_op_layer_Shape\n",
      "tf_op_layer_ExpandDims\n",
      "tf_op_layer_strided_slice_3\n",
      "tf_op_layer_strided_slice_4\n",
      "tf_op_layer_Tile\n",
      "tf_op_layer_concat\n",
      "tf_op_layer_Reshape\n",
      "reshape\n",
      "concatenate\n",
      "dense_60\n",
      "dense_61\n",
      "window_pred\n",
      "session_pred\n"
     ]
    }
   ],
   "source": [
    "for l in model.layers:\n",
    "    print(l.name)"
   ]
  },
  {
   "cell_type": "code",
   "execution_count": 32,
   "metadata": {},
   "outputs": [],
   "source": [
    "hierarchical_model = tf.keras.Model(inputs=model.input, outputs=model.get_layer('combined_sensor_self_attention_1').output, name='hierarchical_encoder')\n",
    "hierarchical_model.trainable = False"
   ]
  },
  {
   "cell_type": "code",
   "execution_count": 33,
   "metadata": {},
   "outputs": [
    {
     "name": "stdout",
     "output_type": "stream",
     "text": [
      "Model: \"hierarchical_encoder\"\n",
      "_________________________________________________________________\n",
      "Layer (type)                 Output Shape              Param #   \n",
      "=================================================================\n",
      "input_1 (InputLayer)         [(None, 10, 32, 9)]       0         \n",
      "_________________________________________________________________\n",
      "multi_window_encoder (MultiW ((None, None, 64), (None, 350144    \n",
      "_________________________________________________________________\n",
      "modality_encoder_block_3 (Mo (None, None, 64)          104000    \n",
      "_________________________________________________________________\n",
      "combined_sensor_self_attenti ((None, 64), (None, 1, No 49856     \n",
      "=================================================================\n",
      "Total params: 504,000\n",
      "Trainable params: 0\n",
      "Non-trainable params: 504,000\n",
      "_________________________________________________________________\n"
     ]
    }
   ],
   "source": [
    "hierarchical_model.summary()"
   ]
  },
  {
   "cell_type": "code",
   "execution_count": 34,
   "metadata": {},
   "outputs": [],
   "source": [
    "class Sampling(tf.keras.layers.Layer):\n",
    "    def call(self, inputs):\n",
    "        z_mean, z_log_var = inputs\n",
    "\n",
    "        batch = tf.shape(z_mean)[0]\n",
    "        dim = tf.shape(z_mean)[1]\n",
    "        \n",
    "        epsilon = tf.keras.backend.random_normal(shape=(batch, dim))\n",
    "        \n",
    "        return z_mean + tf.exp(0.5 * z_log_var) * epsilon\n",
    "\n",
    "\n",
    "class Encoder(tf.keras.layers.Layer):\n",
    "\n",
    "    def __init__(self, latent_dim=16, intermediate_dim=32, name=\"encoder\", **kwargs):\n",
    "        super(Encoder, self).__init__(name=name, **kwargs)\n",
    "        self.dense_proj = tf.keras.layers.Dense(intermediate_dim, activation=\"relu\")\n",
    "        \n",
    "        self.dense_mean = tf.keras.layers.Dense(latent_dim)\n",
    "        self.dense_log_var = tf.keras.layers.Dense(latent_dim)\n",
    "        \n",
    "        self.sampling = Sampling()\n",
    "\n",
    "    def call(self, inputs):\n",
    "        x = self.dense_proj(inputs)\n",
    "        \n",
    "        z_mean = self.dense_mean(x)\n",
    "        z_log_var = self.dense_log_var(x)\n",
    "        z = self.sampling((z_mean, z_log_var))\n",
    "        \n",
    "        return z_mean, z_log_var, z\n",
    "\n",
    "\n",
    "class Decoder(tf.keras.layers.Layer):\n",
    "\n",
    "    def __init__(self, original_dim, intermediate_dim=32, name=\"decoder\", **kwargs):\n",
    "        super(Decoder, self).__init__(name=name, **kwargs)\n",
    "        self.dense_proj = tf.keras.layers.Dense(intermediate_dim, activation=\"relu\")\n",
    "        self.dense_output = tf.keras.layers.Dense(original_dim, activation=\"sigmoid\")\n",
    "\n",
    "    def call(self, inputs):\n",
    "        x = self.dense_proj(inputs)\n",
    "        \n",
    "        return self.dense_output(x)\n",
    "\n",
    "class VariationalAutoEncoder(tf.keras.Model):\n",
    "    \"\"\"Combines the encoder and decoder into an end-to-end model for training.\"\"\"\n",
    "\n",
    "    def __init__(\n",
    "        self,\n",
    "        base_model,\n",
    "        original_dim,\n",
    "        intermediate_dim=32,\n",
    "        latent_dim=16,\n",
    "        name=\"autoencoder\",\n",
    "        **kwargs\n",
    "    ):\n",
    "        super(VariationalAutoEncoder, self).__init__(name=name, **kwargs)\n",
    "        self.base_model = base_model\n",
    "        \n",
    "        self.original_dim = original_dim\n",
    "        \n",
    "        self.encoder = Encoder(latent_dim=latent_dim, intermediate_dim=intermediate_dim)\n",
    "        self.decoder = Decoder(original_dim, intermediate_dim=intermediate_dim)\n",
    "\n",
    "    def call(self, inputs):\n",
    "        inputs, _ = self.base_model(inputs)\n",
    "        z_mean, z_log_var, z = self.encoder(inputs)\n",
    "        reconstructed = self.decoder(z)\n",
    "        \n",
    "        return reconstructed\n",
    "\n",
    "    def train_step(self, data):\n",
    "        with tf.GradientTape() as tape:\n",
    "            # _data, label = data\n",
    "            _data = data\n",
    "            _data, _ = self.base_model(_data)\n",
    "            z_mean, z_log_var, z = self.encoder(_data)\n",
    "            reconstructed = self.decoder(z)\n",
    "\n",
    "            kl_loss = -0.5 * tf.reduce_mean(z_log_var - tf.square(z_mean) - tf.exp(z_log_var) + 1)            \n",
    "            reconstruction = tf.keras.losses.mean_squared_error(_data, reconstructed)\n",
    "            # weighted_reconstruction = tf.math.multiply(reconstruction, label)\n",
    "            # reconstruction_loss = tf.reduce_mean(weighted_reconstruction)\n",
    "            reconstruction_loss = tf.reduce_mean(reconstruction)\n",
    "            \n",
    "            total_loss = reconstruction_loss + kl_loss\n",
    "\n",
    "        grads = tape.gradient(total_loss, self.trainable_weights)\n",
    "\n",
    "        self.optimizer.apply_gradients(zip(grads, self.trainable_weights))\n",
    "\n",
    "        return {\n",
    "            \"loss\": total_loss,\n",
    "            \"reconstruction_loss\": reconstruction_loss,\n",
    "            \"kl_loss\": kl_loss,\n",
    "        }"
   ]
  },
  {
   "cell_type": "markdown",
   "metadata": {},
   "source": [
    "### Open set training"
   ]
  },
  {
   "cell_type": "code",
   "execution_count": 36,
   "metadata": {},
   "outputs": [
    {
     "name": "stdout",
     "output_type": "stream",
     "text": [
      "Epoch 1/60\n",
      "INFO:tensorflow:batch_all_reduce: 10 all-reduces with algorithm = nccl, num_packs = 1\n",
      "INFO:tensorflow:batch_all_reduce: 10 all-reduces with algorithm = nccl, num_packs = 1\n",
      "73/73 - 10s - loss: 1.1333 - reconstruction_loss: 1.0352 - kl_loss: 0.0981\n",
      "Epoch 2/60\n",
      "73/73 - 10s - loss: 0.8929 - reconstruction_loss: 0.8739 - kl_loss: 0.0190\n",
      "Epoch 3/60\n",
      "73/73 - 9s - loss: 0.8138 - reconstruction_loss: 0.7789 - kl_loss: 0.0350\n",
      "Epoch 4/60\n",
      "73/73 - 10s - loss: 0.7455 - reconstruction_loss: 0.6857 - kl_loss: 0.0598\n",
      "Epoch 5/60\n",
      "73/73 - 10s - loss: 0.7069 - reconstruction_loss: 0.6422 - kl_loss: 0.0647\n",
      "Epoch 6/60\n",
      "73/73 - 9s - loss: 0.6899 - reconstruction_loss: 0.6249 - kl_loss: 0.0650\n",
      "Epoch 7/60\n",
      "73/73 - 10s - loss: 0.6845 - reconstruction_loss: 0.6188 - kl_loss: 0.0657\n",
      "Epoch 8/60\n",
      "73/73 - 10s - loss: 0.6816 - reconstruction_loss: 0.6160 - kl_loss: 0.0656\n",
      "Epoch 9/60\n",
      "73/73 - 9s - loss: 0.6758 - reconstruction_loss: 0.6094 - kl_loss: 0.0664\n",
      "Epoch 10/60\n",
      "73/73 - 10s - loss: 0.6731 - reconstruction_loss: 0.6047 - kl_loss: 0.0685\n",
      "Epoch 11/60\n",
      "73/73 - 10s - loss: 0.6703 - reconstruction_loss: 0.5982 - kl_loss: 0.0721\n",
      "Epoch 12/60\n",
      "73/73 - 9s - loss: 0.6654 - reconstruction_loss: 0.5927 - kl_loss: 0.0727\n",
      "Epoch 13/60\n",
      "73/73 - 10s - loss: 0.6598 - reconstruction_loss: 0.5870 - kl_loss: 0.0728\n",
      "Epoch 14/60\n",
      "73/73 - 10s - loss: 0.6555 - reconstruction_loss: 0.5822 - kl_loss: 0.0733\n",
      "Epoch 15/60\n",
      "73/73 - 9s - loss: 0.6515 - reconstruction_loss: 0.5777 - kl_loss: 0.0739\n",
      "Epoch 16/60\n",
      "73/73 - 10s - loss: 0.6438 - reconstruction_loss: 0.5706 - kl_loss: 0.0732\n",
      "Epoch 17/60\n",
      "73/73 - 10s - loss: 0.6380 - reconstruction_loss: 0.5662 - kl_loss: 0.0718\n",
      "Epoch 18/60\n",
      "73/73 - 9s - loss: 0.6329 - reconstruction_loss: 0.5609 - kl_loss: 0.0719\n",
      "Epoch 19/60\n",
      "73/73 - 10s - loss: 0.6272 - reconstruction_loss: 0.5561 - kl_loss: 0.0711\n",
      "Epoch 20/60\n",
      "73/73 - 10s - loss: 0.6268 - reconstruction_loss: 0.5558 - kl_loss: 0.0711\n",
      "Epoch 21/60\n",
      "73/73 - 9s - loss: 0.6245 - reconstruction_loss: 0.5535 - kl_loss: 0.0710\n",
      "Epoch 22/60\n",
      "73/73 - 10s - loss: 0.6240 - reconstruction_loss: 0.5529 - kl_loss: 0.0711\n",
      "Epoch 23/60\n",
      "73/73 - 10s - loss: 0.6217 - reconstruction_loss: 0.5508 - kl_loss: 0.0709\n",
      "Epoch 24/60\n",
      "73/73 - 9s - loss: 0.6219 - reconstruction_loss: 0.5508 - kl_loss: 0.0712\n",
      "Epoch 25/60\n",
      "73/73 - 10s - loss: 0.6200 - reconstruction_loss: 0.5480 - kl_loss: 0.0720\n",
      "Epoch 26/60\n",
      "73/73 - 10s - loss: 0.6184 - reconstruction_loss: 0.5470 - kl_loss: 0.0714\n",
      "Epoch 27/60\n",
      "73/73 - 9s - loss: 0.6194 - reconstruction_loss: 0.5483 - kl_loss: 0.0711\n",
      "Epoch 28/60\n",
      "73/73 - 10s - loss: 0.6192 - reconstruction_loss: 0.5475 - kl_loss: 0.0717\n",
      "Epoch 29/60\n",
      "73/73 - 9s - loss: 0.6144 - reconstruction_loss: 0.5434 - kl_loss: 0.0710\n",
      "Epoch 30/60\n",
      "73/73 - 10s - loss: 0.6156 - reconstruction_loss: 0.5437 - kl_loss: 0.0719\n",
      "Epoch 31/60\n",
      "73/73 - 10s - loss: 0.6152 - reconstruction_loss: 0.5438 - kl_loss: 0.0713\n",
      "Epoch 32/60\n",
      "73/73 - 9s - loss: 0.6125 - reconstruction_loss: 0.5406 - kl_loss: 0.0719\n",
      "Epoch 33/60\n",
      "73/73 - 10s - loss: 0.6120 - reconstruction_loss: 0.5400 - kl_loss: 0.0720\n",
      "Epoch 34/60\n",
      "73/73 - 10s - loss: 0.6100 - reconstruction_loss: 0.5379 - kl_loss: 0.0720\n",
      "Epoch 35/60\n",
      "73/73 - 9s - loss: 0.6100 - reconstruction_loss: 0.5369 - kl_loss: 0.0731\n",
      "Epoch 36/60\n",
      "73/73 - 10s - loss: 0.6089 - reconstruction_loss: 0.5366 - kl_loss: 0.0723\n",
      "Epoch 37/60\n",
      "73/73 - 10s - loss: 0.6072 - reconstruction_loss: 0.5344 - kl_loss: 0.0729\n",
      "Epoch 38/60\n",
      "73/73 - 9s - loss: 0.6066 - reconstruction_loss: 0.5337 - kl_loss: 0.0729\n",
      "Epoch 39/60\n",
      "73/73 - 10s - loss: 0.6063 - reconstruction_loss: 0.5331 - kl_loss: 0.0731\n",
      "Epoch 40/60\n",
      "73/73 - 10s - loss: 0.6060 - reconstruction_loss: 0.5318 - kl_loss: 0.0742\n",
      "Epoch 41/60\n",
      "73/73 - 9s - loss: 0.6055 - reconstruction_loss: 0.5312 - kl_loss: 0.0743\n",
      "Epoch 42/60\n",
      "73/73 - 10s - loss: 0.6052 - reconstruction_loss: 0.5301 - kl_loss: 0.0751\n",
      "Epoch 43/60\n",
      "73/73 - 10s - loss: 0.6050 - reconstruction_loss: 0.5295 - kl_loss: 0.0755\n",
      "Epoch 44/60\n",
      "73/73 - 9s - loss: 0.6032 - reconstruction_loss: 0.5294 - kl_loss: 0.0739\n",
      "Epoch 45/60\n",
      "73/73 - 10s - loss: 0.6034 - reconstruction_loss: 0.5284 - kl_loss: 0.0749\n",
      "Epoch 46/60\n",
      "73/73 - 10s - loss: 0.6022 - reconstruction_loss: 0.5285 - kl_loss: 0.0737\n",
      "Epoch 47/60\n",
      "73/73 - 9s - loss: 0.6043 - reconstruction_loss: 0.5294 - kl_loss: 0.0749\n",
      "Epoch 48/60\n",
      "73/73 - 10s - loss: 0.6013 - reconstruction_loss: 0.5274 - kl_loss: 0.0739\n",
      "Epoch 49/60\n",
      "73/73 - 10s - loss: 0.6031 - reconstruction_loss: 0.5286 - kl_loss: 0.0746\n",
      "Epoch 50/60\n",
      "73/73 - 7s - loss: 0.6037 - reconstruction_loss: 0.5274 - kl_loss: 0.0763\n",
      "Epoch 51/60\n",
      "73/73 - 6s - loss: 0.6030 - reconstruction_loss: 0.5277 - kl_loss: 0.0753\n",
      "Epoch 52/60\n",
      "73/73 - 5s - loss: 0.6030 - reconstruction_loss: 0.5279 - kl_loss: 0.0752\n",
      "Epoch 53/60\n",
      "73/73 - 7s - loss: 0.6021 - reconstruction_loss: 0.5267 - kl_loss: 0.0754\n",
      "Epoch 54/60\n",
      "73/73 - 8s - loss: 0.6009 - reconstruction_loss: 0.5266 - kl_loss: 0.0744\n",
      "Epoch 55/60\n",
      "73/73 - 8s - loss: 0.6018 - reconstruction_loss: 0.5265 - kl_loss: 0.0753\n",
      "Epoch 56/60\n",
      "73/73 - 8s - loss: 0.6014 - reconstruction_loss: 0.5258 - kl_loss: 0.0757\n",
      "Epoch 57/60\n",
      "73/73 - 8s - loss: 0.6019 - reconstruction_loss: 0.5265 - kl_loss: 0.0754\n",
      "Epoch 58/60\n",
      "73/73 - 8s - loss: 0.6013 - reconstruction_loss: 0.5263 - kl_loss: 0.0750\n",
      "Epoch 59/60\n",
      "73/73 - 8s - loss: 0.6015 - reconstruction_loss: 0.5263 - kl_loss: 0.0752\n",
      "Epoch 60/60\n",
      "73/73 - 8s - loss: 0.6007 - reconstruction_loss: 0.5255 - kl_loss: 0.0752\n"
     ]
    }
   ],
   "source": [
    "with strategy.scope():\n",
    "    hsa_vae = VariationalAutoEncoder(base_model=hierarchical_model, original_dim=64)\n",
    "\n",
    "optimizer = tf.keras.optimizers.Adam(learning_rate=1e-3)\n",
    "hsa_vae.compile(optimizer)    \n",
    "\n",
    "vae_history = hsa_vae.fit(X_train, epochs=60, batch_size=128, verbose=2)"
   ]
  },
  {
   "cell_type": "markdown",
   "metadata": {},
   "source": [
    "## Novelty Result"
   ]
  },
  {
   "cell_type": "code",
   "execution_count": 37,
   "metadata": {},
   "outputs": [],
   "source": [
    "z_mean, z_log_var, z = hsa_vae.encoder(hierarchical_model.predict(X_holdout)[0])"
   ]
  },
  {
   "cell_type": "code",
   "execution_count": 38,
   "metadata": {},
   "outputs": [],
   "source": [
    "def kl_div(z_mean, z_log_var):\n",
    "    kl_loss = -0.5 * tf.math.reduce_mean((z_log_var - tf.square(z_mean) - tf.exp(z_log_var) + 1), axis=1)\n",
    "    return kl_loss.numpy()"
   ]
  },
  {
   "cell_type": "code",
   "execution_count": 39,
   "metadata": {},
   "outputs": [],
   "source": [
    "z_mean, z_log_var, z = hsa_vae.encoder(hierarchical_model.predict(X_train)[0])\n",
    "train_kl = kl_div(z_mean, z_log_var)"
   ]
  },
  {
   "cell_type": "code",
   "execution_count": 40,
   "metadata": {},
   "outputs": [],
   "source": [
    "z_mean, z_log_var, z = hsa_vae.encoder(hierarchical_model.predict(X_test)[0])\n",
    "test_kl = kl_div(z_mean, z_log_var)"
   ]
  },
  {
   "cell_type": "code",
   "execution_count": 41,
   "metadata": {},
   "outputs": [],
   "source": [
    "z_mean, z_log_var, z = hsa_vae.encoder(hierarchical_model.predict(X_holdout)[0])\n",
    "holdout_kl = kl_div(z_mean, z_log_var)"
   ]
  },
  {
   "cell_type": "code",
   "execution_count": 42,
   "metadata": {},
   "outputs": [],
   "source": [
    "def novelty_eval_kl(train_kl, test_kl, holdout_kl, mult=0.25):\n",
    "    threshold = np.mean(train_kl) - (mult * np.std(train_kl))\n",
    "    \n",
    "    y_holdout = (holdout_kl > threshold).astype(int)\n",
    "    y_true = np.ones(shape=holdout_kl.shape, dtype=int)\n",
    "    \n",
    "    y_test_n = (test_kl > threshold).astype(int)\n",
    "    _y_true = np.zeros(shape=test_kl.shape, dtype=int)\n",
    "    \n",
    "    y_holdout = np.append(y_holdout, y_test_n)\n",
    "    y_true = np.append(y_true, _y_true)\n",
    "    \n",
    "#     return accuracy_score(y_true, y_holdout), f1_score(y_true, y_holdout, average='macro')\n",
    "    \n",
    "    print(classification_report(y_true, y_holdout, labels=[0, 1], target_names=['KNOWN', 'NOVEL']))"
   ]
  },
  {
   "cell_type": "code",
   "execution_count": 43,
   "metadata": {},
   "outputs": [
    {
     "name": "stdout",
     "output_type": "stream",
     "text": [
      "              precision    recall  f1-score   support\n",
      "\n",
      "       KNOWN       0.33      0.20      0.25       933\n",
      "       NOVEL       0.29      0.44      0.35       691\n",
      "\n",
      "    accuracy                           0.30      1624\n",
      "   macro avg       0.31      0.32      0.30      1624\n",
      "weighted avg       0.31      0.30      0.29      1624\n",
      "\n"
     ]
    }
   ],
   "source": [
    "novelty_eval_kl(train_kl, test_kl, holdout_kl, mult=0.75)"
   ]
  },
  {
   "cell_type": "code",
   "execution_count": 44,
   "metadata": {},
   "outputs": [],
   "source": [
    "train_rec_loss = tf.keras.losses.mean_squared_error(hierarchical_model.predict(X_train)[0], hsa_vae.predict(X_train)).numpy()\n",
    "test_rec_loss = tf.keras.losses.mean_squared_error(hierarchical_model.predict(X_test)[0], hsa_vae.predict(X_test)).numpy()\n",
    "novel_rec_loss = tf.keras.losses.mean_squared_error(hierarchical_model.predict(X_holdout)[0], hsa_vae.predict(X_holdout)).numpy()"
   ]
  },
  {
   "cell_type": "code",
   "execution_count": 45,
   "metadata": {},
   "outputs": [
    {
     "data": {
      "text/plain": [
       "(9296,)"
      ]
     },
     "execution_count": 45,
     "metadata": {},
     "output_type": "execute_result"
    }
   ],
   "source": [
    "train_rec_loss.shape"
   ]
  },
  {
   "cell_type": "code",
   "execution_count": 46,
   "metadata": {},
   "outputs": [
    {
     "data": {
      "text/plain": [
       "(691,)"
      ]
     },
     "execution_count": 46,
     "metadata": {},
     "output_type": "execute_result"
    }
   ],
   "source": [
    "novel_rec_loss.shape"
   ]
  },
  {
   "cell_type": "code",
   "execution_count": 47,
   "metadata": {},
   "outputs": [
    {
     "data": {
      "text/plain": [
       "<AxesSubplot:ylabel='Probability'>"
      ]
     },
     "execution_count": 47,
     "metadata": {},
     "output_type": "execute_result"
    },
    {
     "data": {
      "image/png": "[encoded data removed]",
      "text/plain": [
       "<Figure size 432x288 with 1 Axes>"
      ]
     },
     "metadata": {
      "needs_background": "light"
     },
     "output_type": "display_data"
    }
   ],
   "source": [
    "sns.histplot(train_rec_loss, stat=\"probability\")"
   ]
  },
  {
   "cell_type": "code",
   "execution_count": 48,
   "metadata": {},
   "outputs": [
    {
     "data": {
      "text/plain": [
       "<AxesSubplot:ylabel='Probability'>"
      ]
     },
     "execution_count": 48,
     "metadata": {},
     "output_type": "execute_result"
    },
    {
     "data": {
      "image/png": "[encoded data removed]",
      "text/plain": [
       "<Figure size 432x288 with 1 Axes>"
      ]
     },
     "metadata": {
      "needs_background": "light"
     },
     "output_type": "display_data"
    }
   ],
   "source": [
    "sns.histplot(test_rec_loss, stat=\"probability\")"
   ]
  },
  {
   "cell_type": "code",
   "execution_count": 49,
   "metadata": {},
   "outputs": [
    {
     "data": {
      "text/plain": [
       "<AxesSubplot:ylabel='Count'>"
      ]
     },
     "execution_count": 49,
     "metadata": {},
     "output_type": "execute_result"
    },
    {
     "data": {
      "image/png": "[encoded data removed]",
      "text/plain": [
       "<Figure size 432x288 with 1 Axes>"
      ]
     },
     "metadata": {
      "needs_background": "light"
     },
     "output_type": "display_data"
    }
   ],
   "source": [
    "sns.histplot(novel_rec_loss)"
   ]
  },
  {
   "cell_type": "code",
   "execution_count": 50,
   "metadata": {},
   "outputs": [
    {
     "data": {
      "text/plain": [
       "<AxesSubplot:xlabel='data', ylabel='Probability'>"
      ]
     },
     "execution_count": 50,
     "metadata": {},
     "output_type": "execute_result"
    },
    {
     "data": {
      "image/png": "[encoded data removed]",
      "text/plain": [
       "<Figure size 432x288 with 1 Axes>"
      ]
     },
     "metadata": {
      "needs_background": "light"
     },
     "output_type": "display_data"
    }
   ],
   "source": [
    "combined = pd.DataFrame({'data': novel_rec_loss, 'type': 'NULL'})\n",
    "combined = pd.concat([combined, pd.DataFrame({'data': test_rec_loss, 'type': 'KNOWN_TEST'})])\n",
    "combined = pd.concat([combined, pd.DataFrame({'data': train_rec_loss, 'type': 'KNOWN_TRAIN'})])\n",
    "sns.histplot(combined, x='data', hue='type', stat=\"probability\")"
   ]
  },
  {
   "cell_type": "code",
   "execution_count": 51,
   "metadata": {},
   "outputs": [
    {
     "data": {
      "text/plain": [
       "<AxesSubplot:xlabel='data', ylabel='Probability'>"
      ]
     },
     "execution_count": 51,
     "metadata": {},
     "output_type": "execute_result"
    },
    {
     "data": {
      "image/png": "[encoded data removed]",
      "text/plain": [
       "<Figure size 432x288 with 1 Axes>"
      ]
     },
     "metadata": {
      "needs_background": "light"
     },
     "output_type": "display_data"
    }
   ],
   "source": [
    "combined = pd.DataFrame()\n",
    "combined = pd.concat([combined, pd.DataFrame({'data': test_rec_loss, 'type': 'KNOWN_TEST'})])\n",
    "combined = pd.concat([combined, pd.DataFrame({'data': train_rec_loss, 'type': 'KNOWN_TRAIN'})])\n",
    "sns.histplot(combined, x='data', hue='type', stat=\"probability\")"
   ]
  },
  {
   "cell_type": "code",
   "execution_count": 52,
   "metadata": {},
   "outputs": [],
   "source": [
    "def novelty_eval_reconstrunction(train_rec_loss, test_rec_loss, novel_rec_loss, mult=0.25):\n",
    "    threshold = np.mean(train_rec_loss) - (mult * np.std(train_rec_loss))\n",
    "    \n",
    "    y_holdout = (novel_rec_loss > threshold).astype(int)\n",
    "    y_true = np.ones(shape=novel_rec_loss.shape, dtype=int)\n",
    "    \n",
    "    y_test_n = (test_rec_loss > threshold).astype(int)\n",
    "    _y_true = np.zeros(shape=test_rec_loss.shape, dtype=int)\n",
    "    \n",
    "    y_holdout = np.append(y_holdout, y_test_n)\n",
    "    y_true = np.append(y_true, _y_true)\n",
    "    \n",
    "    return accuracy_score(y_true, y_holdout), f1_score(y_true, y_holdout, average='macro'), \n",
    "    \n",
    "#     print(classification_report(y_true, y_holdout, labels=[0, 1], target_names=['KNOWN', 'NOVEL']))"
   ]
  },
  {
   "cell_type": "code",
   "execution_count": 53,
   "metadata": {},
   "outputs": [],
   "source": [
    "def hparam_search():\n",
    "    table = list()\n",
    "    thresh_vals = list(np.arange(0.0, 1.01, 0.01))\n",
    "    \n",
    "    idx = 0\n",
    "    \n",
    "    for m_val in thresh_vals:\n",
    "        result = novelty_eval_reconstrunction(train_rec_loss, test_rec_loss, novel_rec_loss, mult=m_val)\n",
    "        table.append([idx, m_val, result[0], result[1]])\n",
    "        \n",
    "        idx = idx + 1\n",
    "    \n",
    "    table = np.array(table)\n",
    "    sns.lineplot(table[:, 1], table[:, 2], label='Accuracy')\n",
    "    sns.lineplot(table[:, 1], table[:, 3], label='Macro F1')\n",
    "    plt.xlabel('Hyperparameter Value')\n",
    "    plt.title('Novelty Detection Experiement')\n",
    "    plt.show()\n",
    "    \n",
    "    top_acc = np.array(pd.Series(table[:, 2]).nlargest().index)\n",
    "    top_f1 = np.array(pd.Series(table[:, 3]).nlargest().index)\n",
    "    \n",
    "    print('Index with Top Accuracy and Macro F1 : ', top_acc, top_f1)\n",
    "    print('Most Important Index : ', np.intersect1d(top_acc, top_f1))\n",
    "    \n",
    "    print(tabulate(table, headers=['Index', 'Std. Multiplier Value', 'Accuracy', 'Macro F1'], tablefmt=\"grid\"))"
   ]
  },
  {
   "cell_type": "code",
   "execution_count": 54,
   "metadata": {},
   "outputs": [],
   "source": [
    "from tabulate import tabulate"
   ]
  },
  {
   "cell_type": "code",
   "execution_count": 56,
   "metadata": {},
   "outputs": [],
   "source": [
    "from sklearn.metrics import classification_report, confusion_matrix, accuracy_score, f1_score"
   ]
  },
  {
   "cell_type": "code",
   "execution_count": 57,
   "metadata": {},
   "outputs": [
    {
     "name": "stderr",
     "output_type": "stream",
     "text": [
      "/home/hariub/miniconda3/envs/tf2/lib/python3.8/site-packages/seaborn/_decorators.py:36: FutureWarning: Pass the following variables as keyword args: x, y. From version 0.12, the only valid positional argument will be `data`, and passing other arguments without an explicit keyword will result in an error or misinterpretation.\n",
      "  warnings.warn(\n",
      "/home/hariub/miniconda3/envs/tf2/lib/python3.8/site-packages/seaborn/_decorators.py:36: FutureWarning: Pass the following variables as keyword args: x, y. From version 0.12, the only valid positional argument will be `data`, and passing other arguments without an explicit keyword will result in an error or misinterpretation.\n",
      "  warnings.warn(\n"
     ]
    },
    {
     "data": {
      "image/png": "[encoded data removed]",
      "text/plain": [
       "<Figure size 432x288 with 1 Axes>"
      ]
     },
     "metadata": {
      "needs_background": "light"
     },
     "output_type": "display_data"
    },
    {
     "name": "stdout",
     "output_type": "stream",
     "text": [
      "Index with Top Accuracy and Macro F1 :  [62 61 63 64 60] [47 46 45 48 44]\n",
      "Most Important Index :  []\n",
      "+---------+-------------------------+------------+------------+\n",
      "|   Index |   Std. Multiplier Value |   Accuracy |   Macro F1 |\n",
      "+=========+=========================+============+============+\n",
      "|       0 |                    0    |   0.40702  |   0.374369 |\n",
      "+---------+-------------------------+------------+------------+\n",
      "|       1 |                    0.01 |   0.405172 |   0.373344 |\n",
      "+---------+-------------------------+------------+------------+\n",
      "|       2 |                    0.02 |   0.403325 |   0.373383 |\n",
      "+---------+-------------------------+------------+------------+\n",
      "|       3 |                    0.03 |   0.397783 |   0.369836 |\n",
      "+---------+-------------------------+------------+------------+\n",
      "|       4 |                    0.04 |   0.391626 |   0.365753 |\n",
      "+---------+-------------------------+------------+------------+\n",
      "|       5 |                    0.05 |   0.387931 |   0.362884 |\n",
      "+---------+-------------------------+------------+------------+\n",
      "|       6 |                    0.06 |   0.383005 |   0.359359 |\n",
      "+---------+-------------------------+------------+------------+\n",
      "|       7 |                    0.07 |   0.37931  |   0.358279 |\n",
      "+---------+-------------------------+------------+------------+\n",
      "|       8 |                    0.08 |   0.375    |   0.356272 |\n",
      "+---------+-------------------------+------------+------------+\n",
      "|       9 |                    0.09 |   0.375    |   0.357903 |\n",
      "+---------+-------------------------+------------+------------+\n",
      "|      10 |                    0.1  |   0.371921 |   0.356172 |\n",
      "+---------+-------------------------+------------+------------+\n",
      "|      11 |                    0.11 |   0.371305 |   0.35617  |\n",
      "+---------+-------------------------+------------+------------+\n",
      "|      12 |                    0.12 |   0.369458 |   0.355618 |\n",
      "+---------+-------------------------+------------+------------+\n",
      "|      13 |                    0.13 |   0.367611 |   0.355679 |\n",
      "+---------+-------------------------+------------+------------+\n",
      "|      14 |                    0.14 |   0.371921 |   0.362051 |\n",
      "+---------+-------------------------+------------+------------+\n",
      "|      15 |                    0.15 |   0.371921 |   0.363205 |\n",
      "+---------+-------------------------+------------+------------+\n",
      "|      16 |                    0.16 |   0.370074 |   0.361972 |\n",
      "+---------+-------------------------+------------+------------+\n",
      "|      17 |                    0.17 |   0.369458 |   0.362305 |\n",
      "+---------+-------------------------+------------+------------+\n",
      "|      18 |                    0.18 |   0.369458 |   0.362962 |\n",
      "+---------+-------------------------+------------+------------+\n",
      "|      19 |                    0.19 |   0.368227 |   0.362494 |\n",
      "+---------+-------------------------+------------+------------+\n",
      "|      20 |                    0.2  |   0.371305 |   0.366253 |\n",
      "+---------+-------------------------+------------+------------+\n",
      "|      21 |                    0.21 |   0.377463 |   0.37351  |\n",
      "+---------+-------------------------+------------+------------+\n",
      "|      22 |                    0.22 |   0.376232 |   0.372864 |\n",
      "+---------+-------------------------+------------+------------+\n",
      "|      23 |                    0.23 |   0.37931  |   0.376655 |\n",
      "+---------+-------------------------+------------+------------+\n",
      "|      24 |                    0.24 |   0.380542 |   0.378184 |\n",
      "+---------+-------------------------+------------+------------+\n",
      "|      25 |                    0.25 |   0.381773 |   0.379953 |\n",
      "+---------+-------------------------+------------+------------+\n",
      "|      26 |                    0.26 |   0.384236 |   0.382885 |\n",
      "+---------+-------------------------+------------+------------+\n",
      "|      27 |                    0.27 |   0.384852 |   0.383983 |\n",
      "+---------+-------------------------+------------+------------+\n",
      "|      28 |                    0.28 |   0.384236 |   0.383698 |\n",
      "+---------+-------------------------+------------+------------+\n",
      "|      29 |                    0.29 |   0.3867   |   0.386431 |\n",
      "+---------+-------------------------+------------+------------+\n",
      "|      30 |                    0.3  |   0.388547 |   0.388424 |\n",
      "+---------+-------------------------+------------+------------+\n",
      "|      31 |                    0.31 |   0.390394 |   0.390349 |\n",
      "+---------+-------------------------+------------+------------+\n",
      "|      32 |                    0.32 |   0.39532  |   0.395319 |\n",
      "+---------+-------------------------+------------+------------+\n",
      "|      33 |                    0.33 |   0.397167 |   0.397149 |\n",
      "+---------+-------------------------+------------+------------+\n",
      "|      34 |                    0.34 |   0.393473 |   0.39339  |\n",
      "+---------+-------------------------+------------+------------+\n",
      "|      35 |                    0.35 |   0.393473 |   0.393222 |\n",
      "+---------+-------------------------+------------+------------+\n",
      "|      36 |                    0.36 |   0.39101  |   0.390583 |\n",
      "+---------+-------------------------+------------+------------+\n",
      "|      37 |                    0.37 |   0.391626 |   0.391001 |\n",
      "+---------+-------------------------+------------+------------+\n",
      "|      38 |                    0.38 |   0.394089 |   0.393204 |\n",
      "+---------+-------------------------+------------+------------+\n",
      "|      39 |                    0.39 |   0.394704 |   0.393411 |\n",
      "+---------+-------------------------+------------+------------+\n",
      "|      40 |                    0.4  |   0.397783 |   0.395844 |\n",
      "+---------+-------------------------+------------+------------+\n",
      "|      41 |                    0.41 |   0.397167 |   0.394338 |\n",
      "+---------+-------------------------+------------+------------+\n",
      "|      42 |                    0.42 |   0.401478 |   0.397853 |\n",
      "+---------+-------------------------+------------+------------+\n",
      "|      43 |                    0.43 |   0.401478 |   0.397251 |\n",
      "+---------+-------------------------+------------+------------+\n",
      "|      44 |                    0.44 |   0.403325 |   0.397982 |\n",
      "+---------+-------------------------+------------+------------+\n",
      "|      45 |                    0.45 |   0.405788 |   0.398968 |\n",
      "+---------+-------------------------+------------+------------+\n",
      "|      46 |                    0.46 |   0.408867 |   0.401515 |\n",
      "+---------+-------------------------+------------+------------+\n",
      "|      47 |                    0.47 |   0.412562 |   0.403144 |\n",
      "+---------+-------------------------+------------+------------+\n",
      "|      48 |                    0.48 |   0.408867 |   0.398221 |\n",
      "+---------+-------------------------+------------+------------+\n",
      "|      49 |                    0.49 |   0.409483 |   0.397072 |\n",
      "+---------+-------------------------+------------+------------+\n",
      "|      50 |                    0.5  |   0.408867 |   0.394985 |\n",
      "+---------+-------------------------+------------+------------+\n",
      "|      51 |                    0.51 |   0.410099 |   0.395067 |\n",
      "+---------+-------------------------+------------+------------+\n",
      "|      52 |                    0.52 |   0.410714 |   0.393578 |\n",
      "+---------+-------------------------+------------+------------+\n",
      "|      53 |                    0.53 |   0.412562 |   0.39376  |\n",
      "+---------+-------------------------+------------+------------+\n",
      "|      54 |                    0.54 |   0.413177 |   0.392587 |\n",
      "+---------+-------------------------+------------+------------+\n",
      "|      55 |                    0.55 |   0.414409 |   0.392116 |\n",
      "+---------+-------------------------+------------+------------+\n",
      "|      56 |                    0.56 |   0.416872 |   0.393163 |\n",
      "+---------+-------------------------+------------+------------+\n",
      "|      57 |                    0.57 |   0.418719 |   0.393366 |\n",
      "+---------+-------------------------+------------+------------+\n",
      "|      58 |                    0.58 |   0.421798 |   0.393802 |\n",
      "+---------+-------------------------+------------+------------+\n",
      "|      59 |                    0.59 |   0.42734  |   0.397049 |\n",
      "+---------+-------------------------+------------+------------+\n",
      "|      60 |                    0.6  |   0.428571 |   0.396928 |\n",
      "+---------+-------------------------+------------+------------+\n",
      "|      61 |                    0.61 |   0.429803 |   0.396035 |\n",
      "+---------+-------------------------+------------+------------+\n",
      "|      62 |                    0.62 |   0.43165  |   0.397056 |\n",
      "+---------+-------------------------+------------+------------+\n",
      "|      63 |                    0.63 |   0.429187 |   0.392907 |\n",
      "+---------+-------------------------+------------+------------+\n",
      "|      64 |                    0.64 |   0.429187 |   0.390933 |\n",
      "+---------+-------------------------+------------+------------+\n",
      "|      65 |                    0.65 |   0.428571 |   0.388029 |\n",
      "+---------+-------------------------+------------+------------+\n",
      "|      66 |                    0.66 |   0.426108 |   0.383272 |\n",
      "+---------+-------------------------+------------+------------+\n",
      "|      67 |                    0.67 |   0.423645 |   0.377986 |\n",
      "+---------+-------------------------+------------+------------+\n",
      "|      68 |                    0.68 |   0.421182 |   0.372112 |\n",
      "+---------+-------------------------+------------+------------+\n",
      "|      69 |                    0.69 |   0.420567 |   0.369783 |\n",
      "+---------+-------------------------+------------+------------+\n",
      "|      70 |                    0.7  |   0.420567 |   0.368333 |\n",
      "+---------+-------------------------+------------+------------+\n",
      "|      71 |                    0.71 |   0.421798 |   0.368203 |\n",
      "+---------+-------------------------+------------+------------+\n",
      "|      72 |                    0.72 |   0.422414 |   0.367126 |\n",
      "+---------+-------------------------+------------+------------+\n",
      "|      73 |                    0.73 |   0.419951 |   0.360277 |\n",
      "+---------+-------------------------+------------+------------+\n",
      "|      74 |                    0.74 |   0.420567 |   0.359621 |\n",
      "+---------+-------------------------+------------+------------+\n",
      "|      75 |                    0.75 |   0.418719 |   0.353446 |\n",
      "+---------+-------------------------+------------+------------+\n",
      "|      76 |                    0.76 |   0.421798 |   0.355462 |\n",
      "+---------+-------------------------+------------+------------+\n",
      "|      77 |                    0.77 |   0.417488 |   0.347462 |\n",
      "+---------+-------------------------+------------+------------+\n",
      "|      78 |                    0.78 |   0.413793 |   0.340923 |\n",
      "+---------+-------------------------+------------+------------+\n",
      "|      79 |                    0.79 |   0.412562 |   0.335828 |\n",
      "+---------+-------------------------+------------+------------+\n",
      "|      80 |                    0.8  |   0.409483 |   0.327508 |\n",
      "+---------+-------------------------+------------+------------+\n",
      "|      81 |                    0.81 |   0.409483 |   0.325516 |\n",
      "+---------+-------------------------+------------+------------+\n",
      "|      82 |                    0.82 |   0.410714 |   0.324901 |\n",
      "+---------+-------------------------+------------+------------+\n",
      "|      83 |                    0.83 |   0.409483 |   0.320041 |\n",
      "+---------+-------------------------+------------+------------+\n",
      "|      84 |                    0.84 |   0.410714 |   0.318636 |\n",
      "+---------+-------------------------+------------+------------+\n",
      "|      85 |                    0.85 |   0.407635 |   0.312543 |\n",
      "+---------+-------------------------+------------+------------+\n",
      "|      86 |                    0.86 |   0.409483 |   0.312112 |\n",
      "+---------+-------------------------+------------+------------+\n",
      "|      87 |                    0.87 |   0.413177 |   0.313432 |\n",
      "+---------+-------------------------+------------+------------+\n",
      "|      88 |                    0.88 |   0.411946 |   0.311233 |\n",
      "+---------+-------------------------+------------+------------+\n",
      "|      89 |                    0.89 |   0.411946 |   0.308935 |\n",
      "+---------+-------------------------+------------+------------+\n",
      "|      90 |                    0.9  |   0.411946 |   0.308161 |\n",
      "+---------+-------------------------+------------+------------+\n",
      "|      91 |                    0.91 |   0.412562 |   0.306145 |\n",
      "+---------+-------------------------+------------+------------+\n",
      "|      92 |                    0.92 |   0.414409 |   0.30714  |\n",
      "+---------+-------------------------+------------+------------+\n",
      "|      93 |                    0.93 |   0.414409 |   0.305542 |\n",
      "+---------+-------------------------+------------+------------+\n",
      "|      94 |                    0.94 |   0.418103 |   0.305878 |\n",
      "+---------+-------------------------+------------+------------+\n",
      "|      95 |                    0.95 |   0.418103 |   0.305056 |\n",
      "+---------+-------------------------+------------+------------+\n",
      "|      96 |                    0.96 |   0.419335 |   0.305702 |\n",
      "+---------+-------------------------+------------+------------+\n",
      "|      97 |                    0.97 |   0.421182 |   0.306669 |\n",
      "+---------+-------------------------+------------+------------+\n",
      "|      98 |                    0.98 |   0.42303  |   0.305953 |\n",
      "+---------+-------------------------+------------+------------+\n",
      "|      99 |                    0.99 |   0.423645 |   0.306272 |\n",
      "+---------+-------------------------+------------+------------+\n",
      "|     100 |                    1    |   0.423645 |   0.306272 |\n",
      "+---------+-------------------------+------------+------------+\n"
     ]
    }
   ],
   "source": [
    "hparam_search() "
   ]
  },
  {
   "cell_type": "code",
   "execution_count": null,
   "metadata": {},
   "outputs": [],
   "source": []
  }
 ],
 "metadata": {
  "kernelspec": {
   "display_name": "Python 3",
   "language": "python",
   "name": "python3"
  },
  "language_info": {
   "codemirror_mode": {
    "name": "ipython",
    "version": 3
   },
   "file_extension": ".py",
   "mimetype": "text/x-python",
   "name": "python",
   "nbconvert_exporter": "python",
   "pygments_lexer": "ipython3",
   "version": "3.8.5"
  }
 },
 "nbformat": 4,
 "nbformat_minor": 4
}
