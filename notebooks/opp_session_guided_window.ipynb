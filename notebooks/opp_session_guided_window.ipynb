{
 "cells": [
  {
   "cell_type": "code",
   "execution_count": 2,
   "metadata": {},
   "outputs": [
    {
     "name": "stdout",
     "output_type": "stream",
     "text": [
      "The autoreload extension is already loaded. To reload it, use:\n",
      "  %reload_ext autoreload\n"
     ]
    }
   ],
   "source": [
    "import tensorflow as tf\n",
    "import numpy as np\n",
    "import pandas as pd\n",
    "from sklearn.metrics import classification_report, confusion_matrix\n",
    "import seaborn as sns\n",
    "import matplotlib.pyplot as plt\n",
    "import sys\n",
    "import yaml\n",
    "\n",
    "sys.path.append(\"../\")\n",
    "\n",
    "%load_ext autoreload\n",
    "%autoreload 2"
   ]
  },
  {
   "cell_type": "code",
   "execution_count": 3,
   "metadata": {},
   "outputs": [],
   "source": [
    "from preprocessing.opp_preprocess import *\n",
    "from model.hierarchical_self_attention_model import HSA_model_session_guided_window"
   ]
  },
  {
   "cell_type": "code",
   "execution_count": 4,
   "metadata": {},
   "outputs": [],
   "source": [
    "data_path = '/home/hariub/data/HAR/processed/clean_opp_nodrill.csv'\n",
    "df = pd.read_csv(data_path)\n",
    "\n",
    "metadata_file = open('../configs/metadata.yaml', mode='r')\n",
    "metadata = yaml.load(metadata_file, Loader=yaml.FullLoader)['opp_preprocess']\n",
    "FEATURES = [str(i) for i in range(77)]\n",
    "LOCO_LABEL_COL = 77\n",
    "MID_LABEL_COL = 78\n",
    "HI_LABEL_COL = 79\n",
    "SUBJECT_ID = 80\n",
    "RUN_ID = 81\n",
    "\n",
    "# df = df[df[str(HI_LABEL_COL)] != 0]\n",
    "df[FEATURES] = df[FEATURES].interpolate(method='linear', axis=0)\n",
    "df = df.fillna(0)\n",
    "\n",
    "scaler = StandardScaler()\n",
    "df[FEATURES] = scaler.fit_transform(df[FEATURES])\n",
    "\n",
    "BENCHMARK_TEST = ((df[str(SUBJECT_ID)] == 2) | (df[str(SUBJECT_ID)] == 3)) & (\n",
    "            (df[str(RUN_ID)] == 4) | (df[str(RUN_ID)] == 5))\n",
    "\n",
    "train_df = df[~ BENCHMARK_TEST]\n",
    "test_df = df[BENCHMARK_TEST]\n",
    "\n",
    "SLIDING_WINDOW_LENGTH = metadata['sliding_win_len']\n",
    "SLIDING_WINDOW_STEP = metadata['sliding_win_stride']\n",
    "N_WINDOW, N_TIMESTEP = metadata['n_window'], metadata['n_timestep']\n",
    "\n",
    "X_train, y_train, m_labels_tr, loco_labels_tr = create_windowed_dataset_opp(train_df, FEATURES, str(\n",
    "    HI_LABEL_COL), MID_LABEL_COL, LOCO_LABEL_COL, window_size=SLIDING_WINDOW_LENGTH, stride=SLIDING_WINDOW_STEP)\n",
    "X_test, y_test, m_labels_ts, loco_labels_ts = create_windowed_dataset_opp(test_df, FEATURES, str(\n",
    "    HI_LABEL_COL), MID_LABEL_COL, LOCO_LABEL_COL, window_size=SLIDING_WINDOW_LENGTH, stride=SLIDING_WINDOW_STEP)\n",
    "\n",
    "X_train = X_train.reshape(\n",
    "    (X_train.shape[0], N_WINDOW, N_TIMESTEP, len(FEATURES)))\n",
    "X_test = X_test.reshape(\n",
    "    (X_test.shape[0], N_WINDOW, N_TIMESTEP, len(FEATURES)))\n",
    "\n",
    "y_train = tf.keras.utils.to_categorical(y_train)\n",
    "y_test = tf.keras.utils.to_categorical(y_test)"
   ]
  },
  {
   "cell_type": "code",
   "execution_count": 5,
   "metadata": {},
   "outputs": [
    {
     "name": "stdout",
     "output_type": "stream",
     "text": [
      "(3183, 15, 20, 77)\n",
      "(3183, 6)\n"
     ]
    }
   ],
   "source": [
    "print(X_train.shape)\n",
    "print(y_train.shape)"
   ]
  },
  {
   "cell_type": "code",
   "execution_count": 6,
   "metadata": {},
   "outputs": [],
   "source": [
    "m_labels_tr = np.asarray(m_labels_tr).reshape((X_train.shape[0], N_WINDOW, N_TIMESTEP))\n",
    "m_labels_ts = np.asarray(m_labels_ts).reshape((X_test.shape[0], N_WINDOW, N_TIMESTEP))"
   ]
  },
  {
   "cell_type": "code",
   "execution_count": 7,
   "metadata": {},
   "outputs": [],
   "source": [
    "y_train_mid = np.zeros((X_train.shape[0], N_WINDOW))\n",
    "for i in range(len(y_train_mid)):\n",
    "    for j in range(N_WINDOW):\n",
    "        y_train_mid[i,j] = np.bincount(m_labels_tr[i, j]).argmax()\n",
    "        \n",
    "y_test_mid = np.zeros((X_test.shape[0], N_WINDOW))\n",
    "for i in range(len(y_test_mid)):\n",
    "    for j in range(N_WINDOW):\n",
    "        y_test_mid[i,j] = np.bincount(m_labels_ts[i, j]).argmax()"
   ]
  },
  {
   "cell_type": "code",
   "execution_count": 8,
   "metadata": {},
   "outputs": [],
   "source": [
    "y_train_mid = tf.keras.utils.to_categorical(y_train_mid)\n",
    "y_test_mid = tf.keras.utils.to_categorical(y_test_mid)"
   ]
  },
  {
   "cell_type": "code",
   "execution_count": 9,
   "metadata": {},
   "outputs": [],
   "source": [
    "hparam_file = open('../configs/hyperparameters.yaml', mode='r')\n",
    "hyperparameters = yaml.load(hparam_file, Loader=yaml.FullLoader)\n",
    "hparams = hyperparameters['HSA_model']\n",
    "hparams['modality_indices'] = hparams['modality_indices']['opp']\n",
    "hparams['n_window'], hparams['n_timesteps'], hparams['n_features'], hparams['n_outputs'] = X_train.shape[1], X_train.shape[2], X_train.shape[3], y_train.shape[1]"
   ]
  },
  {
   "cell_type": "markdown",
   "metadata": {},
   "source": [
    "## Training"
   ]
  },
  {
   "cell_type": "code",
   "execution_count": 10,
   "metadata": {},
   "outputs": [
    {
     "name": "stdout",
     "output_type": "stream",
     "text": [
      "8 Physical GPUs, 8 Logical GPUs\n",
      "INFO:tensorflow:Using MirroredStrategy with devices ('/job:localhost/replica:0/task:0/device:GPU:5', '/job:localhost/replica:0/task:0/device:GPU:6', '/job:localhost/replica:0/task:0/device:GPU:7')\n",
      "Number of devices: 3\n"
     ]
    }
   ],
   "source": [
    "tf.keras.backend.clear_session()\n",
    "gpus = tf.config.experimental.list_physical_devices('GPU')\n",
    "if gpus:\n",
    "  try:\n",
    "    # Currently, memory growth needs to be the same across GPUs\n",
    "    for gpu in gpus:\n",
    "      tf.config.experimental.set_memory_growth(gpu, True)\n",
    "    logical_gpus = tf.config.experimental.list_logical_devices('GPU')\n",
    "    print(len(gpus), \"Physical GPUs,\", len(logical_gpus), \"Logical GPUs\")\n",
    "  except RuntimeError as e:\n",
    "    # Memory growth must be set before GPUs have been initialized\n",
    "    print(e)\n",
    "    \n",
    "device_list = ['/gpu:'+str(i) for i in range(5, 8)]\n",
    "strategy = tf.distribute.MirroredStrategy(devices=device_list)\n",
    "print('Number of devices: {}'.format(strategy.num_replicas_in_sync))\n",
    "with strategy.scope():\n",
    "    model = HSA_model_session_guided_window(**hyperparameters['HSA_model']).get_compiled_model()"
   ]
  },
  {
   "cell_type": "code",
   "execution_count": 11,
   "metadata": {},
   "outputs": [
    {
     "name": "stdout",
     "output_type": "stream",
     "text": [
      "Model: \"model_1\"\n",
      "__________________________________________________________________________________________________\n",
      "Layer (type)                    Output Shape         Param #     Connected to                     \n",
      "==================================================================================================\n",
      "input_1 (InputLayer)            [(None, 15, 20, 77)] 0                                            \n",
      "__________________________________________________________________________________________________\n",
      "multi_window_encoder (MultiWind ((None, None, 64), ( 754112      input_1[0][0]                    \n",
      "__________________________________________________________________________________________________\n",
      "modality_encoder_block_7 (Modal (None, None, 64)     104000      multi_window_encoder[0][0]       \n",
      "__________________________________________________________________________________________________\n",
      "combined_sensor_self_attention_ ((None, 64), (None,  49856       modality_encoder_block_7[0][0]   \n",
      "__________________________________________________________________________________________________\n",
      "tf_op_layer_Shape (TensorFlowOp [(2,)]               0           combined_sensor_self_attention_1[\n",
      "__________________________________________________________________________________________________\n",
      "tf_op_layer_ExpandDims (TensorF [(None, 1, 64)]      0           combined_sensor_self_attention_1[\n",
      "__________________________________________________________________________________________________\n",
      "tf_op_layer_strided_slice_7 (Te [(0,)]               0           tf_op_layer_Shape[0][0]          \n",
      "__________________________________________________________________________________________________\n",
      "tf_op_layer_strided_slice_8 (Te [(1,)]               0           tf_op_layer_Shape[0][0]          \n",
      "__________________________________________________________________________________________________\n",
      "tf_op_layer_Tile (TensorFlowOpL [(None, 15, 64)]     0           tf_op_layer_ExpandDims[0][0]     \n",
      "__________________________________________________________________________________________________\n",
      "tf_op_layer_concat (TensorFlowO [(2,)]               0           tf_op_layer_strided_slice_7[0][0]\n",
      "                                                                 tf_op_layer_strided_slice_8[0][0]\n",
      "__________________________________________________________________________________________________\n",
      "tf_op_layer_Reshape (TensorFlow [(None, 64)]         0           tf_op_layer_Tile[0][0]           \n",
      "                                                                 tf_op_layer_concat[0][0]         \n",
      "__________________________________________________________________________________________________\n",
      "reshape (Reshape)               (None, 15, 64)       0           tf_op_layer_Reshape[0][0]        \n",
      "__________________________________________________________________________________________________\n",
      "concatenate (Concatenate)       (None, 15, 128)      0           multi_window_encoder[0][0]       \n",
      "                                                                 reshape[0][0]                    \n",
      "__________________________________________________________________________________________________\n",
      "window_pred (Dense)             (None, 15, 18)       2322        concatenate[0][0]                \n",
      "__________________________________________________________________________________________________\n",
      "session_pred (Dense)            (None, 6)            390         combined_sensor_self_attention_1[\n",
      "==================================================================================================\n",
      "Total params: 910,680\n",
      "Trainable params: 910,680\n",
      "Non-trainable params: 0\n",
      "__________________________________________________________________________________________________\n"
     ]
    }
   ],
   "source": [
    "model.summary()"
   ]
  },
  {
   "cell_type": "code",
   "execution_count": 12,
   "metadata": {},
   "outputs": [
    {
     "name": "stdout",
     "output_type": "stream",
     "text": [
      "Epoch 1/30\n",
      "INFO:tensorflow:batch_all_reduce: 288 all-reduces with algorithm = nccl, num_packs = 1\n",
      "INFO:tensorflow:Reduce to /job:localhost/replica:0/task:0/device:CPU:0 then broadcast to ('/job:localhost/replica:0/task:0/device:CPU:0',).\n",
      "INFO:tensorflow:Reduce to /job:localhost/replica:0/task:0/device:CPU:0 then broadcast to ('/job:localhost/replica:0/task:0/device:CPU:0',).\n",
      "INFO:tensorflow:Reduce to /job:localhost/replica:0/task:0/device:CPU:0 then broadcast to ('/job:localhost/replica:0/task:0/device:CPU:0',).\n",
      "INFO:tensorflow:Reduce to /job:localhost/replica:0/task:0/device:CPU:0 then broadcast to ('/job:localhost/replica:0/task:0/device:CPU:0',).\n",
      "INFO:tensorflow:Reduce to /job:localhost/replica:0/task:0/device:CPU:0 then broadcast to ('/job:localhost/replica:0/task:0/device:CPU:0',).\n",
      "INFO:tensorflow:Reduce to /job:localhost/replica:0/task:0/device:CPU:0 then broadcast to ('/job:localhost/replica:0/task:0/device:CPU:0',).\n",
      "INFO:tensorflow:Reduce to /job:localhost/replica:0/task:0/device:CPU:0 then broadcast to ('/job:localhost/replica:0/task:0/device:CPU:0',).\n",
      "INFO:tensorflow:Reduce to /job:localhost/replica:0/task:0/device:CPU:0 then broadcast to ('/job:localhost/replica:0/task:0/device:CPU:0',).\n",
      "INFO:tensorflow:Reduce to /job:localhost/replica:0/task:0/device:CPU:0 then broadcast to ('/job:localhost/replica:0/task:0/device:CPU:0',).\n",
      "INFO:tensorflow:Reduce to /job:localhost/replica:0/task:0/device:CPU:0 then broadcast to ('/job:localhost/replica:0/task:0/device:CPU:0',).\n",
      "INFO:tensorflow:batch_all_reduce: 288 all-reduces with algorithm = nccl, num_packs = 1\n",
      "15/15 [==============================] - 23s 2s/step - window_pred_loss: 1.3246 - window_pred_accuracy: 0.7544 - session_pred_accuracy: 0.3069 - session_pred_loss: 1.7600 - loss: 3.0846 - val_window_pred_loss: 1.0083 - val_window_pred_accuracy: 0.8199 - val_session_pred_accuracy: 0.4608 - val_session_pred_loss: 1.4394 - val_loss: 2.4477\n",
      "Epoch 2/30\n",
      "15/15 [==============================] - 5s 334ms/step - window_pred_loss: 0.8717 - window_pred_accuracy: 0.8344 - session_pred_accuracy: 0.5402 - session_pred_loss: 1.2396 - loss: 2.1113 - val_window_pred_loss: 0.9334 - val_window_pred_accuracy: 0.8199 - val_session_pred_accuracy: 0.5172 - val_session_pred_loss: 1.5463 - val_loss: 2.4797\n",
      "Epoch 3/30\n",
      "15/15 [==============================] - 5s 333ms/step - window_pred_loss: 0.7649 - window_pred_accuracy: 0.8340 - session_pred_accuracy: 0.6582 - session_pred_loss: 0.9063 - loss: 1.6712 - val_window_pred_loss: 0.8218 - val_window_pred_accuracy: 0.8199 - val_session_pred_accuracy: 0.6708 - val_session_pred_loss: 1.0120 - val_loss: 1.8338\n",
      "Epoch 4/30\n",
      "15/15 [==============================] - 5s 327ms/step - window_pred_loss: 0.6878 - window_pred_accuracy: 0.8321 - session_pred_accuracy: 0.7242 - session_pred_loss: 0.7538 - loss: 1.4416 - val_window_pred_loss: 0.7061 - val_window_pred_accuracy: 0.8146 - val_session_pred_accuracy: 0.7429 - val_session_pred_loss: 0.8792 - val_loss: 1.5853\n",
      "Epoch 5/30\n",
      "15/15 [==============================] - 5s 326ms/step - window_pred_loss: 0.6138 - window_pred_accuracy: 0.8408 - session_pred_accuracy: 0.7657 - session_pred_loss: 0.6303 - loss: 1.2441 - val_window_pred_loss: 0.6376 - val_window_pred_accuracy: 0.8157 - val_session_pred_accuracy: 0.7241 - val_session_pred_loss: 0.7801 - val_loss: 1.4177\n",
      "Epoch 6/30\n",
      "15/15 [==============================] - 5s 323ms/step - window_pred_loss: 0.5639 - window_pred_accuracy: 0.8460 - session_pred_accuracy: 0.7874 - session_pred_loss: 0.5780 - loss: 1.1419 - val_window_pred_loss: 0.6187 - val_window_pred_accuracy: 0.8213 - val_session_pred_accuracy: 0.7367 - val_session_pred_loss: 0.7249 - val_loss: 1.3436\n",
      "Epoch 7/30\n",
      "15/15 [==============================] - 5s 325ms/step - window_pred_loss: 0.5338 - window_pred_accuracy: 0.8522 - session_pred_accuracy: 0.8066 - session_pred_loss: 0.5376 - loss: 1.0714 - val_window_pred_loss: 0.5502 - val_window_pred_accuracy: 0.8355 - val_session_pred_accuracy: 0.7304 - val_session_pred_loss: 0.9362 - val_loss: 1.4863\n",
      "Epoch 8/30\n",
      "15/15 [==============================] - 5s 320ms/step - window_pred_loss: 0.5001 - window_pred_accuracy: 0.8575 - session_pred_accuracy: 0.8146 - session_pred_loss: 0.5054 - loss: 1.0055 - val_window_pred_loss: 0.5211 - val_window_pred_accuracy: 0.8374 - val_session_pred_accuracy: 0.7179 - val_session_pred_loss: 0.8186 - val_loss: 1.3397\n",
      "Epoch 9/30\n",
      "15/15 [==============================] - 5s 320ms/step - window_pred_loss: 0.4760 - window_pred_accuracy: 0.8626 - session_pred_accuracy: 0.8401 - session_pred_loss: 0.4599 - loss: 0.9359 - val_window_pred_loss: 0.4974 - val_window_pred_accuracy: 0.8543 - val_session_pred_accuracy: 0.7335 - val_session_pred_loss: 0.8533 - val_loss: 1.3506\n",
      "Epoch 10/30\n",
      "15/15 [==============================] - 5s 317ms/step - window_pred_loss: 0.4599 - window_pred_accuracy: 0.8629 - session_pred_accuracy: 0.8366 - session_pred_loss: 0.4680 - loss: 0.9280 - val_window_pred_loss: 0.4847 - val_window_pred_accuracy: 0.8575 - val_session_pred_accuracy: 0.7053 - val_session_pred_loss: 0.8908 - val_loss: 1.3755\n",
      "Epoch 11/30\n",
      "15/15 [==============================] - 5s 322ms/step - window_pred_loss: 0.4363 - window_pred_accuracy: 0.8694 - session_pred_accuracy: 0.8495 - session_pred_loss: 0.4136 - loss: 0.8498 - val_window_pred_loss: 0.4642 - val_window_pred_accuracy: 0.8639 - val_session_pred_accuracy: 0.7680 - val_session_pred_loss: 0.8774 - val_loss: 1.3415\n",
      "Epoch 12/30\n",
      "15/15 [==============================] - 5s 322ms/step - window_pred_loss: 0.4309 - window_pred_accuracy: 0.8716 - session_pred_accuracy: 0.8432 - session_pred_loss: 0.4187 - loss: 0.8496 - val_window_pred_loss: 0.4501 - val_window_pred_accuracy: 0.8696 - val_session_pred_accuracy: 0.7461 - val_session_pred_loss: 0.9478 - val_loss: 1.3979\n",
      "Epoch 13/30\n",
      "15/15 [==============================] - 5s 321ms/step - window_pred_loss: 0.4296 - window_pred_accuracy: 0.8699 - session_pred_accuracy: 0.8670 - session_pred_loss: 0.4000 - loss: 0.8296 - val_window_pred_loss: 0.4309 - val_window_pred_accuracy: 0.8652 - val_session_pred_accuracy: 0.7680 - val_session_pred_loss: 0.8272 - val_loss: 1.2581\n",
      "Epoch 14/30\n",
      "15/15 [==============================] - 5s 320ms/step - window_pred_loss: 0.4043 - window_pred_accuracy: 0.8775 - session_pred_accuracy: 0.8893 - session_pred_loss: 0.3372 - loss: 0.7414 - val_window_pred_loss: 0.4383 - val_window_pred_accuracy: 0.8679 - val_session_pred_accuracy: 0.7586 - val_session_pred_loss: 0.9160 - val_loss: 1.3543\n",
      "Epoch 15/30\n",
      "15/15 [==============================] - 5s 319ms/step - window_pred_loss: 0.3934 - window_pred_accuracy: 0.8802 - session_pred_accuracy: 0.8820 - session_pred_loss: 0.3425 - loss: 0.7358 - val_window_pred_loss: 0.4089 - val_window_pred_accuracy: 0.8698 - val_session_pred_accuracy: 0.7555 - val_session_pred_loss: 0.9080 - val_loss: 1.3169\n",
      "Epoch 16/30\n",
      "15/15 [==============================] - 5s 320ms/step - window_pred_loss: 0.3901 - window_pred_accuracy: 0.8788 - session_pred_accuracy: 0.8774 - session_pred_loss: 0.3402 - loss: 0.7304 - val_window_pred_loss: 0.4063 - val_window_pred_accuracy: 0.8717 - val_session_pred_accuracy: 0.7461 - val_session_pred_loss: 0.8824 - val_loss: 1.2887\n",
      "Epoch 17/30\n",
      "15/15 [==============================] - 5s 318ms/step - window_pred_loss: 0.3719 - window_pred_accuracy: 0.8841 - session_pred_accuracy: 0.8984 - session_pred_loss: 0.2921 - loss: 0.6640 - val_window_pred_loss: 0.4077 - val_window_pred_accuracy: 0.8723 - val_session_pred_accuracy: 0.7649 - val_session_pred_loss: 0.9683 - val_loss: 1.3761\n",
      "Epoch 18/30\n",
      "15/15 [==============================] - 5s 316ms/step - window_pred_loss: 0.3621 - window_pred_accuracy: 0.8862 - session_pred_accuracy: 0.9068 - session_pred_loss: 0.2836 - loss: 0.6457 - val_window_pred_loss: 0.4109 - val_window_pred_accuracy: 0.8654 - val_session_pred_accuracy: 0.7712 - val_session_pred_loss: 0.8407 - val_loss: 1.2516\n",
      "Epoch 19/30\n",
      "15/15 [==============================] - 5s 317ms/step - window_pred_loss: 0.3604 - window_pred_accuracy: 0.8864 - session_pred_accuracy: 0.9113 - session_pred_loss: 0.2714 - loss: 0.6318 - val_window_pred_loss: 0.4059 - val_window_pred_accuracy: 0.8694 - val_session_pred_accuracy: 0.7586 - val_session_pred_loss: 0.9010 - val_loss: 1.3069\n",
      "Epoch 20/30\n",
      "15/15 [==============================] - 5s 318ms/step - window_pred_loss: 0.3577 - window_pred_accuracy: 0.8888 - session_pred_accuracy: 0.9019 - session_pred_loss: 0.2809 - loss: 0.6386 - val_window_pred_loss: 0.3918 - val_window_pred_accuracy: 0.8715 - val_session_pred_accuracy: 0.7524 - val_session_pred_loss: 0.9592 - val_loss: 1.3511\n",
      "Epoch 21/30\n",
      "15/15 [==============================] - 5s 318ms/step - window_pred_loss: 0.3540 - window_pred_accuracy: 0.8868 - session_pred_accuracy: 0.9106 - session_pred_loss: 0.2611 - loss: 0.6151 - val_window_pred_loss: 0.3787 - val_window_pred_accuracy: 0.8798 - val_session_pred_accuracy: 0.7586 - val_session_pred_loss: 0.8349 - val_loss: 1.2137\n",
      "Epoch 22/30\n",
      "15/15 [==============================] - 5s 332ms/step - window_pred_loss: 0.3465 - window_pred_accuracy: 0.8898 - session_pred_accuracy: 0.9082 - session_pred_loss: 0.2854 - loss: 0.6318 - val_window_pred_loss: 0.4325 - val_window_pred_accuracy: 0.8548 - val_session_pred_accuracy: 0.7555 - val_session_pred_loss: 0.8459 - val_loss: 1.2784\n",
      "Epoch 23/30\n",
      "15/15 [==============================] - 5s 366ms/step - window_pred_loss: 0.3489 - window_pred_accuracy: 0.8884 - session_pred_accuracy: 0.8848 - session_pred_loss: 0.3205 - loss: 0.6694 - val_window_pred_loss: 0.4068 - val_window_pred_accuracy: 0.8673 - val_session_pred_accuracy: 0.7618 - val_session_pred_loss: 0.7960 - val_loss: 1.2028\n",
      "Epoch 24/30\n",
      "15/15 [==============================] - 6s 372ms/step - window_pred_loss: 0.3311 - window_pred_accuracy: 0.8937 - session_pred_accuracy: 0.9253 - session_pred_loss: 0.2155 - loss: 0.5466 - val_window_pred_loss: 0.3920 - val_window_pred_accuracy: 0.8734 - val_session_pred_accuracy: 0.7837 - val_session_pred_loss: 0.8292 - val_loss: 1.2211\n",
      "Epoch 25/30\n",
      "15/15 [==============================] - 6s 419ms/step - window_pred_loss: 0.3301 - window_pred_accuracy: 0.8928 - session_pred_accuracy: 0.9267 - session_pred_loss: 0.2172 - loss: 0.5473 - val_window_pred_loss: 0.3879 - val_window_pred_accuracy: 0.8719 - val_session_pred_accuracy: 0.7931 - val_session_pred_loss: 0.8111 - val_loss: 1.1990\n",
      "Epoch 26/30\n",
      "15/15 [==============================] - 8s 512ms/step - window_pred_loss: 0.3322 - window_pred_accuracy: 0.8918 - session_pred_accuracy: 0.9159 - session_pred_loss: 0.2450 - loss: 0.5773 - val_window_pred_loss: 0.3878 - val_window_pred_accuracy: 0.8746 - val_session_pred_accuracy: 0.7618 - val_session_pred_loss: 1.0312 - val_loss: 1.4189\n",
      "Epoch 27/30\n",
      "15/15 [==============================] - 8s 535ms/step - window_pred_loss: 0.3297 - window_pred_accuracy: 0.8949 - session_pred_accuracy: 0.9197 - session_pred_loss: 0.2227 - loss: 0.5523 - val_window_pred_loss: 0.3871 - val_window_pred_accuracy: 0.8671 - val_session_pred_accuracy: 0.7618 - val_session_pred_loss: 1.0222 - val_loss: 1.4093\n",
      "Epoch 28/30\n",
      "15/15 [==============================] - 8s 561ms/step - window_pred_loss: 0.3278 - window_pred_accuracy: 0.8925 - session_pred_accuracy: 0.9312 - session_pred_loss: 0.1939 - loss: 0.5217 - val_window_pred_loss: 0.3814 - val_window_pred_accuracy: 0.8777 - val_session_pred_accuracy: 0.7743 - val_session_pred_loss: 0.8841 - val_loss: 1.2655\n",
      "Epoch 29/30\n",
      "15/15 [==============================] - 7s 472ms/step - window_pred_loss: 0.3148 - window_pred_accuracy: 0.8981 - session_pred_accuracy: 0.9347 - session_pred_loss: 0.1940 - loss: 0.5087 - val_window_pred_loss: 0.3995 - val_window_pred_accuracy: 0.8742 - val_session_pred_accuracy: 0.7837 - val_session_pred_loss: 0.7855 - val_loss: 1.1851\n",
      "Epoch 30/30\n",
      "15/15 [==============================] - 6s 425ms/step - window_pred_loss: 0.3125 - window_pred_accuracy: 0.8963 - session_pred_accuracy: 0.9396 - session_pred_loss: 0.1783 - loss: 0.4908 - val_window_pred_loss: 0.4018 - val_window_pred_accuracy: 0.8784 - val_session_pred_accuracy: 0.7994 - val_session_pred_loss: 0.7950 - val_loss: 1.1968\n"
     ]
    },
    {
     "data": {
      "text/plain": [
       "<tensorflow.python.keras.callbacks.History at 0x7f8220359c10>"
      ]
     },
     "execution_count": 12,
     "metadata": {},
     "output_type": "execute_result"
    }
   ],
   "source": [
    "model.fit(X_train, [y_train_mid, y_train], batch_size=len(device_list) * 64, epochs=30, validation_split=0.1, use_multiprocessing=True)"
   ]
  },
  {
   "cell_type": "code",
   "execution_count": 22,
   "metadata": {},
   "outputs": [],
   "source": [
    "pred_mid, pred_sess = model.predict(X_test, batch_size=len(device_list) * 64)"
   ]
  },
  {
   "cell_type": "code",
   "execution_count": 23,
   "metadata": {},
   "outputs": [
    {
     "name": "stdout",
     "output_type": "stream",
     "text": [
      "              precision    recall  f1-score   support\n",
      "\n",
      "           0       0.73      0.80      0.76        88\n",
      "           1       0.98      0.93      0.95        56\n",
      "           2       0.74      0.90      0.81        88\n",
      "           3       0.94      0.88      0.91       162\n",
      "           4       0.71      0.93      0.80        88\n",
      "           5       0.98      0.81      0.89       246\n",
      "\n",
      "    accuracy                           0.86       728\n",
      "   macro avg       0.85      0.87      0.85       728\n",
      "weighted avg       0.88      0.86      0.86       728\n",
      "\n"
     ]
    }
   ],
   "source": [
    "print(classification_report(np.argmax(y_test, axis=1), np.argmax(pred_sess, axis=1)))"
   ]
  },
  {
   "cell_type": "code",
   "execution_count": 24,
   "metadata": {},
   "outputs": [],
   "source": [
    "import json\n",
    "activity_map = json.load(open(os.path.join('..','data', 'activity_maps', 'opp_activity.json')))"
   ]
  },
  {
   "cell_type": "code",
   "execution_count": 25,
   "metadata": {},
   "outputs": [
    {
     "data": {
      "text/plain": [
       "{'0': 'null',\n",
       " '1': 'Relaxing',\n",
       " '2': 'Coffee time',\n",
       " '3': 'Early morning',\n",
       " '4': 'Cleanup',\n",
       " '5': 'Sandwich time'}"
      ]
     },
     "execution_count": 25,
     "metadata": {},
     "output_type": "execute_result"
    }
   ],
   "source": [
    "activity_map"
   ]
  },
  {
   "cell_type": "code",
   "execution_count": 26,
   "metadata": {},
   "outputs": [
    {
     "data": {
      "text/plain": [
       "<AxesSubplot:>"
      ]
     },
     "execution_count": 26,
     "metadata": {},
     "output_type": "execute_result"
    },
    {
     "data": {
      "image/png": "[encoded data removed]",
      "text/plain": [
       "<Figure size 720x576 with 2 Axes>"
      ]
     },
     "metadata": {
      "needs_background": "light"
     },
     "output_type": "display_data"
    }
   ],
   "source": [
    "confm = confusion_matrix(np.argmax(y_test, axis=1), np.argmax(pred_sess, axis=1))\n",
    "activity_list = list(activity_map.values())\n",
    "df_cm = pd.DataFrame(confm, index=activity_list, columns=activity_list)\n",
    "plt.figure(figsize = (10,8))\n",
    "sns.heatmap(df_cm, annot=True, fmt='d', cmap=\"YlGnBu\")"
   ]
  },
  {
   "cell_type": "code",
   "execution_count": 28,
   "metadata": {},
   "outputs": [
    {
     "name": "stdout",
     "output_type": "stream",
     "text": [
      "                  precision    recall  f1-score   support\n",
      "\n",
      "           Other       0.91      0.98      0.94      9123\n",
      "     Open Door 1       0.52      0.34      0.42        64\n",
      "     Open Door 2       0.64      0.79      0.70       107\n",
      "    Close Door 1       0.68      0.25      0.37        52\n",
      "    Close Door 2       0.89      0.30      0.45        82\n",
      "     Open Fridge       0.67      0.52      0.59       270\n",
      "    Close Fridge       0.68      0.58      0.63       182\n",
      " Open Dishwasher       0.55      0.30      0.39       119\n",
      "Close Dishwasher       0.44      0.30      0.36        90\n",
      "   Open Drawer 1       0.27      0.09      0.13        45\n",
      "  Close Drawer 1       0.00      0.00      0.00        52\n",
      "   Open Drawer 2       0.11      0.03      0.05        32\n",
      "  Close Drawer 2       0.00      0.00      0.00        27\n",
      "   Open Drawer 3       0.44      0.52      0.48        79\n",
      "  Close Drawer 3       0.61      0.41      0.49        73\n",
      "     Clean Table       0.91      0.31      0.46       101\n",
      "  Drink from Cup       0.66      0.38      0.48       338\n",
      "   Toggle Switch       0.45      0.06      0.11        84\n",
      "\n",
      "        accuracy                           0.88     10920\n",
      "       macro avg       0.52      0.34      0.39     10920\n",
      "    weighted avg       0.86      0.88      0.86     10920\n",
      "\n"
     ]
    }
   ],
   "source": [
    "print(classification_report(np.argmax(y_test_mid.reshape(-1, 18), axis=1), np.argmax(pred_mid.reshape(-1, 18), axis=1), target_names=mid_activity_opp))"
   ]
  },
  {
   "cell_type": "code",
   "execution_count": null,
   "metadata": {},
   "outputs": [],
   "source": []
  },
  {
   "cell_type": "code",
   "execution_count": 19,
   "metadata": {},
   "outputs": [],
   "source": [
    "mid_activity_opp = ['Other', 'Open Door 1', 'Open Door 2', 'Close Door 1',\n",
    "                    'Close Door 2', 'Open Fridge', 'Close Fridge', \n",
    "                    'Open Dishwasher', 'Close Dishwasher', 'Open Drawer 1', \n",
    "                    'Close Drawer 1', 'Open Drawer 2', 'Close Drawer 2', \n",
    "                    'Open Drawer 3', 'Close Drawer 3', 'Clean Table', \n",
    "                    'Drink from Cup', 'Toggle Switch']"
   ]
  },
  {
   "cell_type": "code",
   "execution_count": null,
   "metadata": {},
   "outputs": [],
   "source": []
  }
 ],
 "metadata": {
  "kernelspec": {
   "display_name": "Python 3",
   "language": "python",
   "name": "python3"
  },
  "language_info": {
   "codemirror_mode": {
    "name": "ipython",
    "version": 3
   },
   "file_extension": ".py",
   "mimetype": "text/x-python",
   "name": "python",
   "nbconvert_exporter": "python",
   "pygments_lexer": "ipython3",
   "version": "3.8.5"
  }
 },
 "nbformat": 4,
 "nbformat_minor": 4
}
