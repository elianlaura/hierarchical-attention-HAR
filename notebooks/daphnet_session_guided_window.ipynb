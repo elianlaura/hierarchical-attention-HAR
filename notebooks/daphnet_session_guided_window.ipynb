{
 "cells": [
  {
   "cell_type": "code",
   "execution_count": 1,
   "metadata": {},
   "outputs": [],
   "source": [
    "import tensorflow as tf\n",
    "import numpy as np\n",
    "import pandas as pd\n",
    "from sklearn.metrics import classification_report, confusion_matrix\n",
    "import seaborn as sns\n",
    "import matplotlib.pyplot as plt\n",
    "import sys\n",
    "import yaml\n",
    "\n",
    "sys.path.append(\"../\")\n",
    "\n",
    "%load_ext autoreload\n",
    "%autoreload 2"
   ]
  },
  {
   "cell_type": "code",
   "execution_count": 2,
   "metadata": {},
   "outputs": [],
   "source": [
    "from sklearn.preprocessing import StandardScaler\n",
    "from preprocessing.sliding_window import create_windowed_dataset"
   ]
  },
  {
   "cell_type": "markdown",
   "metadata": {},
   "source": [
    "### Data loading"
   ]
  },
  {
   "cell_type": "code",
   "execution_count": 3,
   "metadata": {},
   "outputs": [],
   "source": [
    "data_path = '/home/hariub/data/HAR/processed/clean_daphnet_data.csv'\n",
    "df = pd.read_csv(data_path)"
   ]
  },
  {
   "cell_type": "code",
   "execution_count": 4,
   "metadata": {},
   "outputs": [
    {
     "data": {
      "text/html": [
       "<div>\n",
       "<style scoped>\n",
       "    .dataframe tbody tr th:only-of-type {\n",
       "        vertical-align: middle;\n",
       "    }\n",
       "\n",
       "    .dataframe tbody tr th {\n",
       "        vertical-align: top;\n",
       "    }\n",
       "\n",
       "    .dataframe thead th {\n",
       "        text-align: right;\n",
       "    }\n",
       "</style>\n",
       "<table border=\"1\" class=\"dataframe\">\n",
       "  <thead>\n",
       "    <tr style=\"text-align: right;\">\n",
       "      <th></th>\n",
       "      <th>Time</th>\n",
       "      <th>Ankle_acc_x</th>\n",
       "      <th>Ankle_acc_y</th>\n",
       "      <th>Ankle_acc_z</th>\n",
       "      <th>Thigh_acc_x</th>\n",
       "      <th>Thigh_acc_y</th>\n",
       "      <th>Thigh_acc_z</th>\n",
       "      <th>Trunk_acc_x</th>\n",
       "      <th>Trunk_acc_y</th>\n",
       "      <th>Trunk_acc_z</th>\n",
       "      <th>Label</th>\n",
       "      <th>Subject</th>\n",
       "      <th>Run</th>\n",
       "    </tr>\n",
       "  </thead>\n",
       "  <tbody>\n",
       "    <tr>\n",
       "      <th>0</th>\n",
       "      <td>15.0</td>\n",
       "      <td>70.0</td>\n",
       "      <td>39.0</td>\n",
       "      <td>-970.0</td>\n",
       "      <td>0.0</td>\n",
       "      <td>0.0</td>\n",
       "      <td>0.0</td>\n",
       "      <td>0.0</td>\n",
       "      <td>0.0</td>\n",
       "      <td>0.0</td>\n",
       "      <td>0.0</td>\n",
       "      <td>1</td>\n",
       "      <td>1</td>\n",
       "    </tr>\n",
       "    <tr>\n",
       "      <th>1</th>\n",
       "      <td>31.0</td>\n",
       "      <td>70.0</td>\n",
       "      <td>39.0</td>\n",
       "      <td>-970.0</td>\n",
       "      <td>0.0</td>\n",
       "      <td>0.0</td>\n",
       "      <td>0.0</td>\n",
       "      <td>0.0</td>\n",
       "      <td>0.0</td>\n",
       "      <td>0.0</td>\n",
       "      <td>0.0</td>\n",
       "      <td>1</td>\n",
       "      <td>1</td>\n",
       "    </tr>\n",
       "    <tr>\n",
       "      <th>2</th>\n",
       "      <td>46.0</td>\n",
       "      <td>60.0</td>\n",
       "      <td>49.0</td>\n",
       "      <td>-960.0</td>\n",
       "      <td>0.0</td>\n",
       "      <td>0.0</td>\n",
       "      <td>0.0</td>\n",
       "      <td>0.0</td>\n",
       "      <td>0.0</td>\n",
       "      <td>0.0</td>\n",
       "      <td>0.0</td>\n",
       "      <td>1</td>\n",
       "      <td>1</td>\n",
       "    </tr>\n",
       "    <tr>\n",
       "      <th>3</th>\n",
       "      <td>62.0</td>\n",
       "      <td>60.0</td>\n",
       "      <td>49.0</td>\n",
       "      <td>-960.0</td>\n",
       "      <td>0.0</td>\n",
       "      <td>0.0</td>\n",
       "      <td>0.0</td>\n",
       "      <td>0.0</td>\n",
       "      <td>0.0</td>\n",
       "      <td>0.0</td>\n",
       "      <td>0.0</td>\n",
       "      <td>1</td>\n",
       "      <td>1</td>\n",
       "    </tr>\n",
       "    <tr>\n",
       "      <th>4</th>\n",
       "      <td>78.0</td>\n",
       "      <td>50.0</td>\n",
       "      <td>39.0</td>\n",
       "      <td>-960.0</td>\n",
       "      <td>0.0</td>\n",
       "      <td>0.0</td>\n",
       "      <td>0.0</td>\n",
       "      <td>0.0</td>\n",
       "      <td>0.0</td>\n",
       "      <td>0.0</td>\n",
       "      <td>0.0</td>\n",
       "      <td>1</td>\n",
       "      <td>1</td>\n",
       "    </tr>\n",
       "  </tbody>\n",
       "</table>\n",
       "</div>"
      ],
      "text/plain": [
       "   Time  Ankle_acc_x  Ankle_acc_y  Ankle_acc_z  Thigh_acc_x  Thigh_acc_y  \\\n",
       "0  15.0         70.0         39.0       -970.0          0.0          0.0   \n",
       "1  31.0         70.0         39.0       -970.0          0.0          0.0   \n",
       "2  46.0         60.0         49.0       -960.0          0.0          0.0   \n",
       "3  62.0         60.0         49.0       -960.0          0.0          0.0   \n",
       "4  78.0         50.0         39.0       -960.0          0.0          0.0   \n",
       "\n",
       "   Thigh_acc_z  Trunk_acc_x  Trunk_acc_y  Trunk_acc_z  Label  Subject  Run  \n",
       "0          0.0          0.0          0.0          0.0    0.0        1    1  \n",
       "1          0.0          0.0          0.0          0.0    0.0        1    1  \n",
       "2          0.0          0.0          0.0          0.0    0.0        1    1  \n",
       "3          0.0          0.0          0.0          0.0    0.0        1    1  \n",
       "4          0.0          0.0          0.0          0.0    0.0        1    1  "
      ]
     },
     "execution_count": 4,
     "metadata": {},
     "output_type": "execute_result"
    }
   ],
   "source": [
    "df.head()"
   ]
  },
  {
   "cell_type": "code",
   "execution_count": 5,
   "metadata": {},
   "outputs": [],
   "source": [
    "FEATURES = ['Ankle_acc_x', 'Ankle_acc_y', 'Ankle_acc_z', 'Thigh_acc_x','Thigh_acc_y', 'Thigh_acc_z', 'Trunk_acc_x', 'Trunk_acc_y','Trunk_acc_z']\n",
    "LABEL = ['Label']"
   ]
  },
  {
   "cell_type": "code",
   "execution_count": 6,
   "metadata": {},
   "outputs": [],
   "source": [
    "df = df.fillna(0)\n",
    "scaler = StandardScaler()\n",
    "df[FEATURES] = scaler.fit_transform(df[FEATURES])"
   ]
  },
  {
   "cell_type": "code",
   "execution_count": 7,
   "metadata": {},
   "outputs": [],
   "source": [
    "hyperparameters = yaml.load(open('../configs/metadata.yaml', mode='r'), Loader=yaml.FullLoader)\n",
    "\n",
    "metadata = yaml.load(open('../configs/metadata.yaml', mode='r'), Loader=yaml.FullLoader)['daphnet_preprocess']"
   ]
  },
  {
   "cell_type": "code",
   "execution_count": 8,
   "metadata": {},
   "outputs": [],
   "source": [
    "train_df = df[(df['Subject'] != 2) & (df['Subject'] != 9)]\n",
    "test_df = df[df['Subject'] == 2]\n",
    "val_df = df[df['Subject'] == 9]\n",
    "\n",
    "SLIDING_WINDOW_LENGTH = metadata['sliding_win_len']\n",
    "SLIDING_WINDOW_STEP = metadata['sliding_win_stride']\n",
    "N_WINDOW, N_TIMESTEP = metadata['n_window'], metadata['n_timestep']\n",
    "\n",
    "# FEATURES = metadata['feature_list']\n",
    "\n",
    "X_train, y_train = create_windowed_dataset(\n",
    "    train_df, FEATURES, 'Label', window_size=SLIDING_WINDOW_LENGTH, stride=SLIDING_WINDOW_STEP)\n",
    "X_val, y_val = create_windowed_dataset(\n",
    "    val_df, FEATURES, 'Label', window_size=SLIDING_WINDOW_LENGTH, stride=SLIDING_WINDOW_STEP)\n",
    "X_test, y_test = create_windowed_dataset(\n",
    "    test_df, FEATURES, 'Label', window_size=SLIDING_WINDOW_LENGTH, stride=SLIDING_WINDOW_STEP)\n",
    "\n",
    "X_train = X_train.reshape(\n",
    "    (X_train.shape[0], N_WINDOW, N_TIMESTEP, len(FEATURES)))\n",
    "X_val = X_val.reshape(\n",
    "    (X_val.shape[0], N_WINDOW, N_TIMESTEP, len(FEATURES)))\n",
    "X_test = X_test.reshape(\n",
    "    (X_test.shape[0], N_WINDOW, N_TIMESTEP, len(FEATURES)))\n",
    "\n",
    "y_train = tf.keras.utils.to_categorical(y_train, num_classes=3)\n",
    "y_val = tf.keras.utils.to_categorical(y_val, num_classes=3)\n",
    "y_test = tf.keras.utils.to_categorical(y_test, num_classes=3)"
   ]
  },
  {
   "cell_type": "code",
   "execution_count": 9,
   "metadata": {},
   "outputs": [
    {
     "data": {
      "text/plain": [
       "(2594, 15, 100, 9)"
      ]
     },
     "execution_count": 9,
     "metadata": {},
     "output_type": "execute_result"
    }
   ],
   "source": [
    "X_train.shape"
   ]
  },
  {
   "cell_type": "code",
   "execution_count": 10,
   "metadata": {},
   "outputs": [
    {
     "data": {
      "text/plain": [
       "(2594, 3)"
      ]
     },
     "execution_count": 10,
     "metadata": {},
     "output_type": "execute_result"
    }
   ],
   "source": [
    "y_train.shape"
   ]
  },
  {
   "cell_type": "code",
   "execution_count": 11,
   "metadata": {},
   "outputs": [],
   "source": [
    "# from preprocessing.utils import get_train_test_data\n",
    "from model.hierarchical_self_attention_model import HSA_model_session_guided_window"
   ]
  },
  {
   "cell_type": "code",
   "execution_count": 12,
   "metadata": {},
   "outputs": [],
   "source": [
    "# (X_train, y_train), (X_test, y_test) = get_train_test_data(dataset='pamap2', holdout=False)"
   ]
  },
  {
   "cell_type": "code",
   "execution_count": 13,
   "metadata": {},
   "outputs": [
    {
     "name": "stdout",
     "output_type": "stream",
     "text": [
      "(2594, 15, 100, 9)\n",
      "(2594, 3)\n"
     ]
    }
   ],
   "source": [
    "print(X_train.shape)\n",
    "print(y_train.shape)"
   ]
  },
  {
   "cell_type": "code",
   "execution_count": 14,
   "metadata": {},
   "outputs": [],
   "source": [
    "# mid_labels = np.repeat(np.expand_dims(y_train, axis=1), repeats=15, axis=1)"
   ]
  },
  {
   "cell_type": "code",
   "execution_count": 15,
   "metadata": {},
   "outputs": [],
   "source": [
    "# mid_labels[0]"
   ]
  },
  {
   "cell_type": "code",
   "execution_count": 16,
   "metadata": {},
   "outputs": [],
   "source": [
    "y_train_mid = np.repeat(np.expand_dims(y_train, axis=1), repeats=metadata['n_window'], axis=1)\n",
    "y_val_mid = np.repeat(np.expand_dims(y_val, axis=1), repeats=metadata['n_window'], axis=1)\n",
    "y_test_mid = np.repeat(np.expand_dims(y_test, axis=1), repeats=metadata['n_window'], axis=1)"
   ]
  },
  {
   "cell_type": "code",
   "execution_count": 17,
   "metadata": {},
   "outputs": [
    {
     "data": {
      "text/plain": [
       "(2594, 15, 3)"
      ]
     },
     "execution_count": 17,
     "metadata": {},
     "output_type": "execute_result"
    }
   ],
   "source": [
    "y_train_mid.shape"
   ]
  },
  {
   "cell_type": "code",
   "execution_count": 25,
   "metadata": {},
   "outputs": [],
   "source": [
    "hparam_file = open('../configs/hyperparameters.yaml', mode='r')\n",
    "hyperparameters = yaml.load(hparam_file, Loader=yaml.FullLoader)\n",
    "hparams = hyperparameters['HSA_model']\n",
    "hparams['modality_indices'] = hparams['modality_indices']['daphnet']\n",
    "hparams['n_window'], hparams['n_timesteps'], hparams['n_features'], hparams['n_outputs'] = X_train.shape[1], X_train.shape[2], X_train.shape[3], y_train.shape[1]\n",
    "hparams['n_outputs_window']=y_train.shape[1]"
   ]
  },
  {
   "cell_type": "markdown",
   "metadata": {},
   "source": [
    "## Training"
   ]
  },
  {
   "cell_type": "code",
   "execution_count": 26,
   "metadata": {},
   "outputs": [
    {
     "name": "stdout",
     "output_type": "stream",
     "text": [
      "8 Physical GPUs, 8 Logical GPUs\n",
      "INFO:tensorflow:Using MirroredStrategy with devices ('/job:localhost/replica:0/task:0/device:GPU:5', '/job:localhost/replica:0/task:0/device:GPU:6', '/job:localhost/replica:0/task:0/device:GPU:7')\n",
      "Number of devices: 3\n"
     ]
    }
   ],
   "source": [
    "tf.keras.backend.clear_session()\n",
    "gpus = tf.config.experimental.list_physical_devices('GPU')\n",
    "if gpus:\n",
    "  try:\n",
    "    # Currently, memory growth needs to be the same across GPUs\n",
    "    for gpu in gpus:\n",
    "      tf.config.experimental.set_memory_growth(gpu, True)\n",
    "    logical_gpus = tf.config.experimental.list_logical_devices('GPU')\n",
    "    print(len(gpus), \"Physical GPUs,\", len(logical_gpus), \"Logical GPUs\")\n",
    "  except RuntimeError as e:\n",
    "    # Memory growth must be set before GPUs have been initialized\n",
    "    print(e)\n",
    "    \n",
    "device_list = ['/gpu:'+str(i) for i in range(5, 8)]\n",
    "strategy = tf.distribute.MirroredStrategy(devices=device_list)\n",
    "print('Number of devices: {}'.format(strategy.num_replicas_in_sync))\n",
    "with strategy.scope():\n",
    "    model = HSA_model_session_guided_window(**hyperparameters['HSA_model']).get_compiled_model()"
   ]
  },
  {
   "cell_type": "code",
   "execution_count": 27,
   "metadata": {},
   "outputs": [
    {
     "name": "stdout",
     "output_type": "stream",
     "text": [
      "Model: \"model_1\"\n",
      "__________________________________________________________________________________________________\n",
      "Layer (type)                    Output Shape         Param #     Connected to                     \n",
      "==================================================================================================\n",
      "input_1 (InputLayer)            [(None, 15, 100, 9)] 0                                            \n",
      "__________________________________________________________________________________________________\n",
      "multi_window_encoder (MultiWind ((None, None, 64), ( 350144      input_1[0][0]                    \n",
      "__________________________________________________________________________________________________\n",
      "modality_encoder_block_3 (Modal (None, None, 64)     104000      multi_window_encoder[0][0]       \n",
      "__________________________________________________________________________________________________\n",
      "combined_sensor_self_attention_ ((None, 64), (None,  49856       modality_encoder_block_3[0][0]   \n",
      "__________________________________________________________________________________________________\n",
      "tf_op_layer_Shape (TensorFlowOp [(2,)]               0           combined_sensor_self_attention_1[\n",
      "__________________________________________________________________________________________________\n",
      "tf_op_layer_ExpandDims (TensorF [(None, 1, 64)]      0           combined_sensor_self_attention_1[\n",
      "__________________________________________________________________________________________________\n",
      "tf_op_layer_strided_slice_3 (Te [(0,)]               0           tf_op_layer_Shape[0][0]          \n",
      "__________________________________________________________________________________________________\n",
      "tf_op_layer_strided_slice_4 (Te [(1,)]               0           tf_op_layer_Shape[0][0]          \n",
      "__________________________________________________________________________________________________\n",
      "tf_op_layer_Tile (TensorFlowOpL [(None, 15, 64)]     0           tf_op_layer_ExpandDims[0][0]     \n",
      "__________________________________________________________________________________________________\n",
      "tf_op_layer_concat (TensorFlowO [(2,)]               0           tf_op_layer_strided_slice_3[0][0]\n",
      "                                                                 tf_op_layer_strided_slice_4[0][0]\n",
      "__________________________________________________________________________________________________\n",
      "tf_op_layer_Reshape (TensorFlow [(None, 64)]         0           tf_op_layer_Tile[0][0]           \n",
      "                                                                 tf_op_layer_concat[0][0]         \n",
      "__________________________________________________________________________________________________\n",
      "reshape (Reshape)               (None, 15, 64)       0           tf_op_layer_Reshape[0][0]        \n",
      "__________________________________________________________________________________________________\n",
      "concatenate (Concatenate)       (None, 15, 128)      0           multi_window_encoder[0][0]       \n",
      "                                                                 reshape[0][0]                    \n",
      "__________________________________________________________________________________________________\n",
      "window_pred (Dense)             (None, 15, 3)        387         concatenate[0][0]                \n",
      "__________________________________________________________________________________________________\n",
      "session_pred (Dense)            (None, 3)            195         combined_sensor_self_attention_1[\n",
      "==================================================================================================\n",
      "Total params: 504,582\n",
      "Trainable params: 504,582\n",
      "Non-trainable params: 0\n",
      "__________________________________________________________________________________________________\n"
     ]
    }
   ],
   "source": [
    "model.summary()"
   ]
  },
  {
   "cell_type": "code",
   "execution_count": 28,
   "metadata": {},
   "outputs": [
    {
     "name": "stdout",
     "output_type": "stream",
     "text": [
      "Epoch 1/50\n",
      "INFO:tensorflow:batch_all_reduce: 160 all-reduces with algorithm = nccl, num_packs = 1\n",
      "INFO:tensorflow:batch_all_reduce: 160 all-reduces with algorithm = nccl, num_packs = 1\n",
      "14/14 [==============================] - 22s 2s/step - window_pred_loss: 0.6959 - loss: 1.5775 - session_pred_accuracy: 0.5312 - window_pred_accuracy: 0.6789 - session_pred_loss: 0.8816 - val_window_pred_loss: 0.6997 - val_loss: 1.4196 - val_session_pred_accuracy: 0.6154 - val_window_pred_accuracy: 0.6809 - val_session_pred_loss: 0.7199\n",
      "Epoch 2/50\n",
      "14/14 [==============================] - 12s 890ms/step - window_pred_loss: 0.4605 - loss: 0.9361 - session_pred_accuracy: 0.7768 - window_pred_accuracy: 0.7838 - session_pred_loss: 0.4756 - val_window_pred_loss: 0.6908 - val_loss: 1.6119 - val_session_pred_accuracy: 0.6624 - val_window_pred_accuracy: 0.6487 - val_session_pred_loss: 0.9212\n",
      "Epoch 3/50\n",
      "14/14 [==============================] - 12s 892ms/step - window_pred_loss: 0.3972 - loss: 0.8069 - session_pred_accuracy: 0.8111 - window_pred_accuracy: 0.8074 - session_pred_loss: 0.4097 - val_window_pred_loss: 1.1373 - val_loss: 2.3332 - val_session_pred_accuracy: 0.6282 - val_window_pred_accuracy: 0.6037 - val_session_pred_loss: 1.1959\n",
      "Epoch 4/50\n",
      "14/14 [==============================] - 13s 893ms/step - window_pred_loss: 0.3614 - loss: 0.7157 - session_pred_accuracy: 0.8258 - window_pred_accuracy: 0.8253 - session_pred_loss: 0.3544 - val_window_pred_loss: 1.4885 - val_loss: 3.0427 - val_session_pred_accuracy: 0.6154 - val_window_pred_accuracy: 0.6288 - val_session_pred_loss: 1.5542\n",
      "Epoch 5/50\n",
      "14/14 [==============================] - 13s 895ms/step - window_pred_loss: 0.3341 - loss: 0.6511 - session_pred_accuracy: 0.8493 - window_pred_accuracy: 0.8408 - session_pred_loss: 0.3170 - val_window_pred_loss: 1.8343 - val_loss: 3.7413 - val_session_pred_accuracy: 0.6282 - val_window_pred_accuracy: 0.6265 - val_session_pred_loss: 1.9070\n",
      "Epoch 6/50\n",
      "14/14 [==============================] - 13s 894ms/step - window_pred_loss: 0.3095 - loss: 0.6121 - session_pred_accuracy: 0.8574 - window_pred_accuracy: 0.8513 - session_pred_loss: 0.3026 - val_window_pred_loss: 1.3588 - val_loss: 2.6992 - val_session_pred_accuracy: 0.6197 - val_window_pred_accuracy: 0.6177 - val_session_pred_loss: 1.3405\n",
      "Epoch 7/50\n",
      "14/14 [==============================] - 13s 894ms/step - window_pred_loss: 0.2820 - loss: 0.5600 - session_pred_accuracy: 0.8751 - window_pred_accuracy: 0.8713 - session_pred_loss: 0.2780 - val_window_pred_loss: 2.0389 - val_loss: 4.2012 - val_session_pred_accuracy: 0.6325 - val_window_pred_accuracy: 0.6405 - val_session_pred_loss: 2.1623\n",
      "Epoch 8/50\n",
      "14/14 [==============================] - 13s 894ms/step - window_pred_loss: 0.2495 - loss: 0.4917 - session_pred_accuracy: 0.8971 - window_pred_accuracy: 0.8908 - session_pred_loss: 0.2423 - val_window_pred_loss: 1.9044 - val_loss: 4.0257 - val_session_pred_accuracy: 0.6368 - val_window_pred_accuracy: 0.6413 - val_session_pred_loss: 2.1213\n",
      "Epoch 9/50\n",
      "14/14 [==============================] - 13s 898ms/step - window_pred_loss: 0.2433 - loss: 0.4844 - session_pred_accuracy: 0.9017 - window_pred_accuracy: 0.8975 - session_pred_loss: 0.2411 - val_window_pred_loss: 2.0000 - val_loss: 4.1693 - val_session_pred_accuracy: 0.6410 - val_window_pred_accuracy: 0.6407 - val_session_pred_loss: 2.1692\n",
      "Epoch 10/50\n",
      "14/14 [==============================] - 13s 895ms/step - window_pred_loss: 0.2450 - loss: 0.4836 - session_pred_accuracy: 0.8894 - window_pred_accuracy: 0.8914 - session_pred_loss: 0.2386 - val_window_pred_loss: 1.6883 - val_loss: 3.5054 - val_session_pred_accuracy: 0.6410 - val_window_pred_accuracy: 0.6499 - val_session_pred_loss: 1.8170\n",
      "Epoch 11/50\n",
      "14/14 [==============================] - 13s 899ms/step - window_pred_loss: 0.2433 - loss: 0.4829 - session_pred_accuracy: 0.8982 - window_pred_accuracy: 0.8963 - session_pred_loss: 0.2396 - val_window_pred_loss: 1.7899 - val_loss: 3.7282 - val_session_pred_accuracy: 0.6667 - val_window_pred_accuracy: 0.6584 - val_session_pred_loss: 1.9383\n",
      "Epoch 12/50\n",
      "14/14 [==============================] - 13s 896ms/step - window_pred_loss: 0.2341 - loss: 0.4606 - session_pred_accuracy: 0.8944 - window_pred_accuracy: 0.8940 - session_pred_loss: 0.2265 - val_window_pred_loss: 1.8699 - val_loss: 3.9580 - val_session_pred_accuracy: 0.6368 - val_window_pred_accuracy: 0.6373 - val_session_pred_loss: 2.0881\n",
      "Epoch 13/50\n",
      "14/14 [==============================] - 13s 912ms/step - window_pred_loss: 0.2259 - loss: 0.4490 - session_pred_accuracy: 0.9067 - window_pred_accuracy: 0.9018 - session_pred_loss: 0.2230 - val_window_pred_loss: 1.4333 - val_loss: 2.9699 - val_session_pred_accuracy: 0.6239 - val_window_pred_accuracy: 0.6211 - val_session_pred_loss: 1.5366\n",
      "Epoch 14/50\n",
      "14/14 [==============================] - 13s 930ms/step - window_pred_loss: 0.2014 - loss: 0.4013 - session_pred_accuracy: 0.9183 - window_pred_accuracy: 0.9149 - session_pred_loss: 0.1999 - val_window_pred_loss: 1.5824 - val_loss: 3.2174 - val_session_pred_accuracy: 0.6538 - val_window_pred_accuracy: 0.6328 - val_session_pred_loss: 1.6350\n",
      "Epoch 15/50\n",
      "14/14 [==============================] - 13s 942ms/step - window_pred_loss: 0.1866 - loss: 0.3766 - session_pred_accuracy: 0.9210 - window_pred_accuracy: 0.9178 - session_pred_loss: 0.1900 - val_window_pred_loss: 0.9396 - val_loss: 1.9277 - val_session_pred_accuracy: 0.6325 - val_window_pred_accuracy: 0.6305 - val_session_pred_loss: 0.9881\n",
      "Epoch 16/50\n",
      "14/14 [==============================] - 13s 922ms/step - window_pred_loss: 0.1855 - loss: 0.3709 - session_pred_accuracy: 0.9217 - window_pred_accuracy: 0.9242 - session_pred_loss: 0.1854 - val_window_pred_loss: 1.7795 - val_loss: 3.6617 - val_session_pred_accuracy: 0.6453 - val_window_pred_accuracy: 0.6496 - val_session_pred_loss: 1.8822\n",
      "Epoch 17/50\n",
      "14/14 [==============================] - 13s 915ms/step - window_pred_loss: 0.1861 - loss: 0.3701 - session_pred_accuracy: 0.9264 - window_pred_accuracy: 0.9225 - session_pred_loss: 0.1840 - val_window_pred_loss: 1.9271 - val_loss: 4.0950 - val_session_pred_accuracy: 0.6538 - val_window_pred_accuracy: 0.6519 - val_session_pred_loss: 2.1679\n",
      "Epoch 18/50\n",
      "14/14 [==============================] - 13s 930ms/step - window_pred_loss: 0.2163 - loss: 0.4276 - session_pred_accuracy: 0.9094 - window_pred_accuracy: 0.9085 - session_pred_loss: 0.2113 - val_window_pred_loss: 0.6255 - val_loss: 1.2823 - val_session_pred_accuracy: 0.7650 - val_window_pred_accuracy: 0.7672 - val_session_pred_loss: 0.6568\n",
      "Epoch 19/50\n",
      "14/14 [==============================] - 13s 963ms/step - window_pred_loss: 0.2007 - loss: 0.3999 - session_pred_accuracy: 0.9221 - window_pred_accuracy: 0.9148 - session_pred_loss: 0.1992 - val_window_pred_loss: 2.0717 - val_loss: 4.1134 - val_session_pred_accuracy: 0.6368 - val_window_pred_accuracy: 0.6239 - val_session_pred_loss: 2.0418\n",
      "Epoch 20/50\n",
      "14/14 [==============================] - 15s 1s/step - window_pred_loss: 0.1775 - loss: 0.3547 - session_pred_accuracy: 0.9244 - window_pred_accuracy: 0.9263 - session_pred_loss: 0.1771 - val_window_pred_loss: 1.2400 - val_loss: 2.4413 - val_session_pred_accuracy: 0.6111 - val_window_pred_accuracy: 0.6111 - val_session_pred_loss: 1.2013\n",
      "Epoch 21/50\n",
      "14/14 [==============================] - 15s 1s/step - window_pred_loss: 0.1903 - loss: 0.3800 - session_pred_accuracy: 0.9244 - window_pred_accuracy: 0.9265 - session_pred_loss: 0.1897 - val_window_pred_loss: 0.6736 - val_loss: 1.3487 - val_session_pred_accuracy: 0.7735 - val_window_pred_accuracy: 0.7855 - val_session_pred_loss: 0.6752\n",
      "Epoch 22/50\n",
      "14/14 [==============================] - 14s 1s/step - window_pred_loss: 0.1702 - loss: 0.3403 - session_pred_accuracy: 0.9298 - window_pred_accuracy: 0.9292 - session_pred_loss: 0.1700 - val_window_pred_loss: 1.1634 - val_loss: 2.3864 - val_session_pred_accuracy: 0.7179 - val_window_pred_accuracy: 0.7311 - val_session_pred_loss: 1.2230\n",
      "Epoch 23/50\n",
      "14/14 [==============================] - 13s 944ms/step - window_pred_loss: 0.1632 - loss: 0.3225 - session_pred_accuracy: 0.9333 - window_pred_accuracy: 0.9330 - session_pred_loss: 0.1593 - val_window_pred_loss: 0.8011 - val_loss: 1.6310 - val_session_pred_accuracy: 0.7650 - val_window_pred_accuracy: 0.7664 - val_session_pred_loss: 0.8299\n",
      "Epoch 24/50\n",
      "14/14 [==============================] - 13s 945ms/step - window_pred_loss: 0.1708 - loss: 0.3385 - session_pred_accuracy: 0.9264 - window_pred_accuracy: 0.9271 - session_pred_loss: 0.1676 - val_window_pred_loss: 0.7098 - val_loss: 1.4318 - val_session_pred_accuracy: 0.6795 - val_window_pred_accuracy: 0.6900 - val_session_pred_loss: 0.7220\n",
      "Epoch 25/50\n",
      "14/14 [==============================] - 14s 1s/step - window_pred_loss: 0.1600 - loss: 0.3186 - session_pred_accuracy: 0.9302 - window_pred_accuracy: 0.9302 - session_pred_loss: 0.1586 - val_window_pred_loss: 0.9727 - val_loss: 1.9585 - val_session_pred_accuracy: 0.7607 - val_window_pred_accuracy: 0.7812 - val_session_pred_loss: 0.9858\n",
      "Epoch 26/50\n",
      "14/14 [==============================] - 13s 964ms/step - window_pred_loss: 0.1393 - loss: 0.2784 - session_pred_accuracy: 0.9468 - window_pred_accuracy: 0.9426 - session_pred_loss: 0.1392 - val_window_pred_loss: 1.1519 - val_loss: 2.3226 - val_session_pred_accuracy: 0.6111 - val_window_pred_accuracy: 0.6148 - val_session_pred_loss: 1.1707\n",
      "Epoch 27/50\n",
      "14/14 [==============================] - 13s 957ms/step - window_pred_loss: 0.1466 - loss: 0.2936 - session_pred_accuracy: 0.9418 - window_pred_accuracy: 0.9424 - session_pred_loss: 0.1470 - val_window_pred_loss: 0.7779 - val_loss: 1.5644 - val_session_pred_accuracy: 0.7778 - val_window_pred_accuracy: 0.7741 - val_session_pred_loss: 0.7865\n",
      "Epoch 28/50\n",
      "14/14 [==============================] - 14s 978ms/step - window_pred_loss: 0.1368 - loss: 0.2761 - session_pred_accuracy: 0.9472 - window_pred_accuracy: 0.9458 - session_pred_loss: 0.1393 - val_window_pred_loss: 0.9185 - val_loss: 1.8499 - val_session_pred_accuracy: 0.7607 - val_window_pred_accuracy: 0.7581 - val_session_pred_loss: 0.9313\n",
      "Epoch 29/50\n",
      "14/14 [==============================] - 14s 996ms/step - window_pred_loss: 0.1369 - loss: 0.2716 - session_pred_accuracy: 0.9453 - window_pred_accuracy: 0.9460 - session_pred_loss: 0.1348 - val_window_pred_loss: 1.1414 - val_loss: 2.3249 - val_session_pred_accuracy: 0.6154 - val_window_pred_accuracy: 0.6214 - val_session_pred_loss: 1.1835\n",
      "Epoch 30/50\n",
      "14/14 [==============================] - 14s 1s/step - window_pred_loss: 0.1338 - loss: 0.2707 - session_pred_accuracy: 0.9495 - window_pred_accuracy: 0.9494 - session_pred_loss: 0.1369 - val_window_pred_loss: 0.9690 - val_loss: 2.0067 - val_session_pred_accuracy: 0.8120 - val_window_pred_accuracy: 0.8142 - val_session_pred_loss: 1.0376\n",
      "Epoch 31/50\n",
      "14/14 [==============================] - 14s 979ms/step - window_pred_loss: 0.1839 - loss: 0.3648 - session_pred_accuracy: 0.9333 - window_pred_accuracy: 0.9327 - session_pred_loss: 0.1809 - val_window_pred_loss: 1.5615 - val_loss: 3.1819 - val_session_pred_accuracy: 0.6624 - val_window_pred_accuracy: 0.6630 - val_session_pred_loss: 1.6204\n",
      "Epoch 32/50\n",
      "14/14 [==============================] - 14s 997ms/step - window_pred_loss: 0.1542 - loss: 0.3057 - session_pred_accuracy: 0.9410 - window_pred_accuracy: 0.9403 - session_pred_loss: 0.1515 - val_window_pred_loss: 1.8353 - val_loss: 3.7419 - val_session_pred_accuracy: 0.6496 - val_window_pred_accuracy: 0.6439 - val_session_pred_loss: 1.9065\n",
      "Epoch 33/50\n",
      "14/14 [==============================] - 15s 1s/step - window_pred_loss: 0.1344 - loss: 0.2692 - session_pred_accuracy: 0.9503 - window_pred_accuracy: 0.9484 - session_pred_loss: 0.1348 - val_window_pred_loss: 1.1234 - val_loss: 2.2766 - val_session_pred_accuracy: 0.6538 - val_window_pred_accuracy: 0.6618 - val_session_pred_loss: 1.1532\n",
      "Epoch 34/50\n",
      "14/14 [==============================] - 15s 1s/step - window_pred_loss: 0.1566 - loss: 0.3140 - session_pred_accuracy: 0.9387 - window_pred_accuracy: 0.9416 - session_pred_loss: 0.1575 - val_window_pred_loss: 0.8993 - val_loss: 1.8031 - val_session_pred_accuracy: 0.7137 - val_window_pred_accuracy: 0.7179 - val_session_pred_loss: 0.9038\n",
      "Epoch 35/50\n",
      "14/14 [==============================] - 15s 1s/step - window_pred_loss: 0.1686 - loss: 0.3387 - session_pred_accuracy: 0.9310 - window_pred_accuracy: 0.9289 - session_pred_loss: 0.1701 - val_window_pred_loss: 1.9817 - val_loss: 3.9367 - val_session_pred_accuracy: 0.6068 - val_window_pred_accuracy: 0.6171 - val_session_pred_loss: 1.9550\n",
      "Epoch 36/50\n",
      "14/14 [==============================] - 15s 1s/step - window_pred_loss: 0.1463 - loss: 0.2928 - session_pred_accuracy: 0.9460 - window_pred_accuracy: 0.9481 - session_pred_loss: 0.1465 - val_window_pred_loss: 0.7734 - val_loss: 1.5372 - val_session_pred_accuracy: 0.7179 - val_window_pred_accuracy: 0.7439 - val_session_pred_loss: 0.7639\n",
      "Epoch 37/50\n",
      "14/14 [==============================] - 15s 1s/step - window_pred_loss: 0.1328 - loss: 0.2667 - session_pred_accuracy: 0.9499 - window_pred_accuracy: 0.9482 - session_pred_loss: 0.1339 - val_window_pred_loss: 1.3497 - val_loss: 2.7228 - val_session_pred_accuracy: 0.6197 - val_window_pred_accuracy: 0.6271 - val_session_pred_loss: 1.3731\n",
      "Epoch 38/50\n",
      "14/14 [==============================] - 15s 1s/step - window_pred_loss: 0.1221 - loss: 0.2436 - session_pred_accuracy: 0.9537 - window_pred_accuracy: 0.9517 - session_pred_loss: 0.1216 - val_window_pred_loss: 0.9158 - val_loss: 1.7937 - val_session_pred_accuracy: 0.7906 - val_window_pred_accuracy: 0.6650 - val_session_pred_loss: 0.8779\n",
      "Epoch 39/50\n",
      "14/14 [==============================] - 15s 1s/step - window_pred_loss: 0.1143 - loss: 0.2277 - session_pred_accuracy: 0.9557 - window_pred_accuracy: 0.9562 - session_pred_loss: 0.1134 - val_window_pred_loss: 0.9910 - val_loss: 1.9799 - val_session_pred_accuracy: 0.6368 - val_window_pred_accuracy: 0.6256 - val_session_pred_loss: 0.9889\n",
      "Epoch 40/50\n",
      "14/14 [==============================] - 15s 1s/step - window_pred_loss: 0.1179 - loss: 0.2368 - session_pred_accuracy: 0.9564 - window_pred_accuracy: 0.9560 - session_pred_loss: 0.1189 - val_window_pred_loss: 1.0358 - val_loss: 2.0707 - val_session_pred_accuracy: 0.7350 - val_window_pred_accuracy: 0.6724 - val_session_pred_loss: 1.0349\n",
      "Epoch 41/50\n",
      "14/14 [==============================] - 14s 1s/step - window_pred_loss: 0.1240 - loss: 0.2474 - session_pred_accuracy: 0.9530 - window_pred_accuracy: 0.9514 - session_pred_loss: 0.1234 - val_window_pred_loss: 1.0542 - val_loss: 2.0898 - val_session_pred_accuracy: 0.6667 - val_window_pred_accuracy: 0.6644 - val_session_pred_loss: 1.0356\n",
      "Epoch 42/50\n",
      "14/14 [==============================] - 15s 1s/step - window_pred_loss: 0.1411 - loss: 0.2800 - session_pred_accuracy: 0.9464 - window_pred_accuracy: 0.9458 - session_pred_loss: 0.1389 - val_window_pred_loss: 0.8873 - val_loss: 1.7443 - val_session_pred_accuracy: 0.6453 - val_window_pred_accuracy: 0.6481 - val_session_pred_loss: 0.8570\n",
      "Epoch 43/50\n",
      "14/14 [==============================] - 14s 1s/step - window_pred_loss: 0.1235 - loss: 0.2488 - session_pred_accuracy: 0.9514 - window_pred_accuracy: 0.9512 - session_pred_loss: 0.1253 - val_window_pred_loss: 0.8344 - val_loss: 1.6823 - val_session_pred_accuracy: 0.7778 - val_window_pred_accuracy: 0.7798 - val_session_pred_loss: 0.8480\n",
      "Epoch 44/50\n",
      "14/14 [==============================] - 14s 994ms/step - window_pred_loss: 0.1137 - loss: 0.2273 - session_pred_accuracy: 0.9599 - window_pred_accuracy: 0.9575 - session_pred_loss: 0.1136 - val_window_pred_loss: 0.9396 - val_loss: 1.9212 - val_session_pred_accuracy: 0.7607 - val_window_pred_accuracy: 0.7726 - val_session_pred_loss: 0.9815\n",
      "Epoch 45/50\n",
      "14/14 [==============================] - 14s 975ms/step - window_pred_loss: 0.1131 - loss: 0.2277 - session_pred_accuracy: 0.9580 - window_pred_accuracy: 0.9567 - session_pred_loss: 0.1146 - val_window_pred_loss: 1.1431 - val_loss: 2.2540 - val_session_pred_accuracy: 0.6496 - val_window_pred_accuracy: 0.6544 - val_session_pred_loss: 1.1108\n",
      "Epoch 46/50\n",
      "14/14 [==============================] - 13s 928ms/step - window_pred_loss: 0.1173 - loss: 0.2343 - session_pred_accuracy: 0.9564 - window_pred_accuracy: 0.9571 - session_pred_loss: 0.1170 - val_window_pred_loss: 0.8770 - val_loss: 1.7723 - val_session_pred_accuracy: 0.7906 - val_window_pred_accuracy: 0.7883 - val_session_pred_loss: 0.8953\n",
      "Epoch 47/50\n",
      "14/14 [==============================] - 13s 963ms/step - window_pred_loss: 0.1025 - loss: 0.2035 - session_pred_accuracy: 0.9603 - window_pred_accuracy: 0.9595 - session_pred_loss: 0.1011 - val_window_pred_loss: 0.8906 - val_loss: 1.7990 - val_session_pred_accuracy: 0.7821 - val_window_pred_accuracy: 0.7781 - val_session_pred_loss: 0.9084\n",
      "Epoch 48/50\n",
      "14/14 [==============================] - 13s 944ms/step - window_pred_loss: 0.1317 - loss: 0.2625 - session_pred_accuracy: 0.9541 - window_pred_accuracy: 0.9530 - session_pred_loss: 0.1308 - val_window_pred_loss: 0.9103 - val_loss: 1.8177 - val_session_pred_accuracy: 0.7607 - val_window_pred_accuracy: 0.7516 - val_session_pred_loss: 0.9074\n",
      "Epoch 49/50\n",
      "14/14 [==============================] - 14s 978ms/step - window_pred_loss: 0.1434 - loss: 0.2829 - session_pred_accuracy: 0.9503 - window_pred_accuracy: 0.9464 - session_pred_loss: 0.1395 - val_window_pred_loss: 1.0336 - val_loss: 2.0853 - val_session_pred_accuracy: 0.7350 - val_window_pred_accuracy: 0.7464 - val_session_pred_loss: 1.0517\n",
      "Epoch 50/50\n",
      "14/14 [==============================] - 14s 986ms/step - window_pred_loss: 0.1185 - loss: 0.2377 - session_pred_accuracy: 0.9537 - window_pred_accuracy: 0.9553 - session_pred_loss: 0.1191 - val_window_pred_loss: 0.7159 - val_loss: 1.4303 - val_session_pred_accuracy: 0.7692 - val_window_pred_accuracy: 0.7746 - val_session_pred_loss: 0.7144\n"
     ]
    },
    {
     "data": {
      "text/plain": [
       "<tensorflow.python.keras.callbacks.History at 0x7f69c0392850>"
      ]
     },
     "execution_count": 28,
     "metadata": {},
     "output_type": "execute_result"
    }
   ],
   "source": [
    "model.fit(X_train, [y_train_mid, y_train], batch_size=len(device_list) * 64, epochs=50, validation_data=(X_val, [y_val_mid, y_val]), use_multiprocessing=True)"
   ]
  },
  {
   "cell_type": "code",
   "execution_count": 29,
   "metadata": {},
   "outputs": [],
   "source": [
    "pred_mid, pred_sess = model.predict(X_test, batch_size=len(device_list) * 64)"
   ]
  },
  {
   "cell_type": "code",
   "execution_count": 30,
   "metadata": {},
   "outputs": [],
   "source": [
    "# labels_map = {1:'lying',2:'sitting',3:'standing',4:'walking',5:'running',6:'cycling',7:'Nordic walking',\n",
    "#               11:'ascending stairs',12:'descending stairs',13:'vacuum cleaning',\n",
    "#               14:'ironing', 18:'rope jumping'}\n",
    "# class_names = list(labels_map.values())"
   ]
  },
  {
   "cell_type": "code",
   "execution_count": 31,
   "metadata": {},
   "outputs": [
    {
     "name": "stdout",
     "output_type": "stream",
     "text": [
      "              precision    recall  f1-score   support\n",
      "\n",
      "           0       0.91      0.75      0.82       135\n",
      "           1       0.77      0.92      0.84       122\n",
      "\n",
      "    accuracy                           0.83       257\n",
      "   macro avg       0.84      0.83      0.83       257\n",
      "weighted avg       0.84      0.83      0.83       257\n",
      "\n"
     ]
    }
   ],
   "source": [
    "print(classification_report(np.argmax(y_test, axis=1), np.argmax(pred_sess, axis=1)))"
   ]
  },
  {
   "cell_type": "code",
   "execution_count": 32,
   "metadata": {},
   "outputs": [
    {
     "name": "stdout",
     "output_type": "stream",
     "text": [
      "              precision    recall  f1-score   support\n",
      "\n",
      "           0       0.91      0.75      0.82       135\n",
      "           1       0.77      0.92      0.84       122\n",
      "\n",
      "    accuracy                           0.83       257\n",
      "   macro avg       0.84      0.83      0.83       257\n",
      "weighted avg       0.84      0.83      0.83       257\n",
      "\n"
     ]
    }
   ],
   "source": [
    "print(classification_report(np.argmax(y_test, axis=1), np.argmax(pred_sess, axis=1)))"
   ]
  },
  {
   "cell_type": "code",
   "execution_count": 33,
   "metadata": {},
   "outputs": [],
   "source": [
    "# activity_map"
   ]
  },
  {
   "cell_type": "code",
   "execution_count": 34,
   "metadata": {},
   "outputs": [
    {
     "data": {
      "text/plain": [
       "<AxesSubplot:>"
      ]
     },
     "execution_count": 34,
     "metadata": {},
     "output_type": "execute_result"
    },
    {
     "data": {
      "image/png": "[encoded data removed]",
      "text/plain": [
       "<Figure size 720x576 with 2 Axes>"
      ]
     },
     "metadata": {
      "needs_background": "light"
     },
     "output_type": "display_data"
    }
   ],
   "source": [
    "confm = confusion_matrix(np.argmax(y_test, axis=1), np.argmax(pred_sess, axis=1))\n",
    "# activity_list = list(activity_map.values())\n",
    "df_cm = pd.DataFrame(confm)\n",
    "plt.figure(figsize = (10,8))\n",
    "sns.heatmap(df_cm, annot=True, fmt='d', cmap=\"YlGnBu\")"
   ]
  },
  {
   "cell_type": "code",
   "execution_count": 35,
   "metadata": {},
   "outputs": [
    {
     "data": {
      "text/plain": [
       "(257, 15, 3)"
      ]
     },
     "execution_count": 35,
     "metadata": {},
     "output_type": "execute_result"
    }
   ],
   "source": [
    "y_test_mid.shape"
   ]
  },
  {
   "cell_type": "code",
   "execution_count": 36,
   "metadata": {},
   "outputs": [
    {
     "data": {
      "text/plain": [
       "(257, 15, 3)"
      ]
     },
     "execution_count": 36,
     "metadata": {},
     "output_type": "execute_result"
    }
   ],
   "source": [
    "pred_mid.shape"
   ]
  },
  {
   "cell_type": "code",
   "execution_count": 37,
   "metadata": {},
   "outputs": [
    {
     "name": "stdout",
     "output_type": "stream",
     "text": [
      "              precision    recall  f1-score   support\n",
      "\n",
      "           0       0.85      0.75      0.80      2025\n",
      "           1       0.76      0.86      0.81      1830\n",
      "\n",
      "    accuracy                           0.80      3855\n",
      "   macro avg       0.81      0.81      0.80      3855\n",
      "weighted avg       0.81      0.80      0.80      3855\n",
      "\n"
     ]
    }
   ],
   "source": [
    "print(classification_report(np.argmax(y_test_mid.reshape(-1, 3), axis=1), np.argmax(pred_mid.reshape(-1, 3), axis=1)))"
   ]
  },
  {
   "cell_type": "code",
   "execution_count": 38,
   "metadata": {},
   "outputs": [
    {
     "data": {
      "text/plain": [
       "<AxesSubplot:>"
      ]
     },
     "execution_count": 38,
     "metadata": {},
     "output_type": "execute_result"
    },
    {
     "data": {
      "image/png": "[encoded data removed]",
      "text/plain": [
       "<Figure size 720x576 with 2 Axes>"
      ]
     },
     "metadata": {
      "needs_background": "light"
     },
     "output_type": "display_data"
    }
   ],
   "source": [
    "confm = confusion_matrix(np.argmax(y_test_mid.reshape(-1, 3), axis=1), np.argmax(pred_mid.reshape(-1, 3), axis=1))\n",
    "# activity_list = list(activity_map.values())\n",
    "df_cm = pd.DataFrame(confm)\n",
    "plt.figure(figsize = (10,8))\n",
    "sns.heatmap(df_cm, annot=True, fmt='d', cmap=\"YlGnBu\")"
   ]
  },
  {
   "cell_type": "code",
   "execution_count": null,
   "metadata": {},
   "outputs": [],
   "source": []
  }
 ],
 "metadata": {
  "kernelspec": {
   "display_name": "Python 3",
   "language": "python",
   "name": "python3"
  },
  "language_info": {
   "codemirror_mode": {
    "name": "ipython",
    "version": 3
   },
   "file_extension": ".py",
   "mimetype": "text/x-python",
   "name": "python",
   "nbconvert_exporter": "python",
   "pygments_lexer": "ipython3",
   "version": "3.8.5"
  }
 },
 "nbformat": 4,
 "nbformat_minor": 4
}
