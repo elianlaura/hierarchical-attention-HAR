{
 "cells": [
  {
   "cell_type": "code",
   "execution_count": 1,
   "metadata": {},
   "outputs": [],
   "source": [
    "import tensorflow as tf\n",
    "import numpy as np\n",
    "import pandas as pd\n",
    "from sklearn.metrics import classification_report, confusion_matrix\n",
    "import seaborn as sns\n",
    "import matplotlib.pyplot as plt\n",
    "import sys\n",
    "import yaml\n",
    "\n",
    "sys.path.append(\"../\")\n",
    "\n",
    "%load_ext autoreload\n",
    "%autoreload 2"
   ]
  },
  {
   "cell_type": "code",
   "execution_count": 2,
   "metadata": {},
   "outputs": [],
   "source": [
    "from sklearn.preprocessing import StandardScaler\n",
    "from preprocessing.sliding_window import create_windowed_dataset"
   ]
  },
  {
   "cell_type": "markdown",
   "metadata": {},
   "source": [
    "### Data loading"
   ]
  },
  {
   "cell_type": "code",
   "execution_count": 3,
   "metadata": {},
   "outputs": [],
   "source": [
    "data_path = '/home/hariub/data/HAR/processed/clean_daphnet_data.csv'\n",
    "df = pd.read_csv(data_path)"
   ]
  },
  {
   "cell_type": "code",
   "execution_count": 4,
   "metadata": {},
   "outputs": [
    {
     "data": {
      "text/html": [
       "<div>\n",
       "<style scoped>\n",
       "    .dataframe tbody tr th:only-of-type {\n",
       "        vertical-align: middle;\n",
       "    }\n",
       "\n",
       "    .dataframe tbody tr th {\n",
       "        vertical-align: top;\n",
       "    }\n",
       "\n",
       "    .dataframe thead th {\n",
       "        text-align: right;\n",
       "    }\n",
       "</style>\n",
       "<table border=\"1\" class=\"dataframe\">\n",
       "  <thead>\n",
       "    <tr style=\"text-align: right;\">\n",
       "      <th></th>\n",
       "      <th>Time</th>\n",
       "      <th>Ankle_acc_x</th>\n",
       "      <th>Ankle_acc_y</th>\n",
       "      <th>Ankle_acc_z</th>\n",
       "      <th>Thigh_acc_x</th>\n",
       "      <th>Thigh_acc_y</th>\n",
       "      <th>Thigh_acc_z</th>\n",
       "      <th>Trunk_acc_x</th>\n",
       "      <th>Trunk_acc_y</th>\n",
       "      <th>Trunk_acc_z</th>\n",
       "      <th>Label</th>\n",
       "      <th>Subject</th>\n",
       "      <th>Run</th>\n",
       "    </tr>\n",
       "  </thead>\n",
       "  <tbody>\n",
       "    <tr>\n",
       "      <th>0</th>\n",
       "      <td>15.0</td>\n",
       "      <td>70.0</td>\n",
       "      <td>39.0</td>\n",
       "      <td>-970.0</td>\n",
       "      <td>0.0</td>\n",
       "      <td>0.0</td>\n",
       "      <td>0.0</td>\n",
       "      <td>0.0</td>\n",
       "      <td>0.0</td>\n",
       "      <td>0.0</td>\n",
       "      <td>0.0</td>\n",
       "      <td>1</td>\n",
       "      <td>1</td>\n",
       "    </tr>\n",
       "    <tr>\n",
       "      <th>1</th>\n",
       "      <td>31.0</td>\n",
       "      <td>70.0</td>\n",
       "      <td>39.0</td>\n",
       "      <td>-970.0</td>\n",
       "      <td>0.0</td>\n",
       "      <td>0.0</td>\n",
       "      <td>0.0</td>\n",
       "      <td>0.0</td>\n",
       "      <td>0.0</td>\n",
       "      <td>0.0</td>\n",
       "      <td>0.0</td>\n",
       "      <td>1</td>\n",
       "      <td>1</td>\n",
       "    </tr>\n",
       "    <tr>\n",
       "      <th>2</th>\n",
       "      <td>46.0</td>\n",
       "      <td>60.0</td>\n",
       "      <td>49.0</td>\n",
       "      <td>-960.0</td>\n",
       "      <td>0.0</td>\n",
       "      <td>0.0</td>\n",
       "      <td>0.0</td>\n",
       "      <td>0.0</td>\n",
       "      <td>0.0</td>\n",
       "      <td>0.0</td>\n",
       "      <td>0.0</td>\n",
       "      <td>1</td>\n",
       "      <td>1</td>\n",
       "    </tr>\n",
       "    <tr>\n",
       "      <th>3</th>\n",
       "      <td>62.0</td>\n",
       "      <td>60.0</td>\n",
       "      <td>49.0</td>\n",
       "      <td>-960.0</td>\n",
       "      <td>0.0</td>\n",
       "      <td>0.0</td>\n",
       "      <td>0.0</td>\n",
       "      <td>0.0</td>\n",
       "      <td>0.0</td>\n",
       "      <td>0.0</td>\n",
       "      <td>0.0</td>\n",
       "      <td>1</td>\n",
       "      <td>1</td>\n",
       "    </tr>\n",
       "    <tr>\n",
       "      <th>4</th>\n",
       "      <td>78.0</td>\n",
       "      <td>50.0</td>\n",
       "      <td>39.0</td>\n",
       "      <td>-960.0</td>\n",
       "      <td>0.0</td>\n",
       "      <td>0.0</td>\n",
       "      <td>0.0</td>\n",
       "      <td>0.0</td>\n",
       "      <td>0.0</td>\n",
       "      <td>0.0</td>\n",
       "      <td>0.0</td>\n",
       "      <td>1</td>\n",
       "      <td>1</td>\n",
       "    </tr>\n",
       "  </tbody>\n",
       "</table>\n",
       "</div>"
      ],
      "text/plain": [
       "   Time  Ankle_acc_x  Ankle_acc_y  Ankle_acc_z  Thigh_acc_x  Thigh_acc_y  \\\n",
       "0  15.0         70.0         39.0       -970.0          0.0          0.0   \n",
       "1  31.0         70.0         39.0       -970.0          0.0          0.0   \n",
       "2  46.0         60.0         49.0       -960.0          0.0          0.0   \n",
       "3  62.0         60.0         49.0       -960.0          0.0          0.0   \n",
       "4  78.0         50.0         39.0       -960.0          0.0          0.0   \n",
       "\n",
       "   Thigh_acc_z  Trunk_acc_x  Trunk_acc_y  Trunk_acc_z  Label  Subject  Run  \n",
       "0          0.0          0.0          0.0          0.0    0.0        1    1  \n",
       "1          0.0          0.0          0.0          0.0    0.0        1    1  \n",
       "2          0.0          0.0          0.0          0.0    0.0        1    1  \n",
       "3          0.0          0.0          0.0          0.0    0.0        1    1  \n",
       "4          0.0          0.0          0.0          0.0    0.0        1    1  "
      ]
     },
     "execution_count": 4,
     "metadata": {},
     "output_type": "execute_result"
    }
   ],
   "source": [
    "df.head()"
   ]
  },
  {
   "cell_type": "code",
   "execution_count": 5,
   "metadata": {},
   "outputs": [],
   "source": [
    "FEATURES = ['Ankle_acc_x', 'Ankle_acc_y', 'Ankle_acc_z', 'Thigh_acc_x','Thigh_acc_y', 'Thigh_acc_z', 'Trunk_acc_x', 'Trunk_acc_y','Trunk_acc_z']\n",
    "LABEL = ['Label']"
   ]
  },
  {
   "cell_type": "code",
   "execution_count": 6,
   "metadata": {},
   "outputs": [],
   "source": [
    "df = df.fillna(0)\n",
    "scaler = StandardScaler()\n",
    "df[FEATURES] = scaler.fit_transform(df[FEATURES])\n",
    "\n",
    "df = df[df['Label'] != 2]"
   ]
  },
  {
   "cell_type": "code",
   "execution_count": 7,
   "metadata": {},
   "outputs": [],
   "source": [
    "hyperparameters = yaml.load(open('../configs/metadata.yaml', mode='r'), Loader=yaml.FullLoader)\n",
    "\n",
    "metadata = yaml.load(open('../configs/metadata.yaml', mode='r'), Loader=yaml.FullLoader)['daphnet_preprocess']"
   ]
  },
  {
   "cell_type": "code",
   "execution_count": 8,
   "metadata": {},
   "outputs": [],
   "source": [
    "train_df = df[(df['Subject'] != 2) & (df['Subject'] != 9)]\n",
    "test_df = df[df['Subject'] == 2]\n",
    "val_df = df[df['Subject'] == 9]\n",
    "\n",
    "SLIDING_WINDOW_LENGTH = metadata['sliding_win_len']\n",
    "SLIDING_WINDOW_STEP = metadata['sliding_win_stride']\n",
    "N_WINDOW, N_TIMESTEP = metadata['n_window'], metadata['n_timestep']\n",
    "\n",
    "# FEATURES = metadata['feature_list']\n",
    "\n",
    "X_train, y_train = create_windowed_dataset(\n",
    "    train_df, FEATURES, 'Label', window_size=SLIDING_WINDOW_LENGTH, stride=SLIDING_WINDOW_STEP)\n",
    "X_val, y_val = create_windowed_dataset(\n",
    "    val_df, FEATURES, 'Label', window_size=SLIDING_WINDOW_LENGTH, stride=SLIDING_WINDOW_STEP)\n",
    "X_test, y_test = create_windowed_dataset(\n",
    "    test_df, FEATURES, 'Label', window_size=SLIDING_WINDOW_LENGTH, stride=SLIDING_WINDOW_STEP)\n",
    "\n",
    "X_train = X_train.reshape(\n",
    "    (X_train.shape[0], N_WINDOW, N_TIMESTEP, len(FEATURES)))\n",
    "X_val = X_val.reshape(\n",
    "    (X_val.shape[0], N_WINDOW, N_TIMESTEP, len(FEATURES)))\n",
    "X_test = X_test.reshape(\n",
    "    (X_test.shape[0], N_WINDOW, N_TIMESTEP, len(FEATURES)))\n",
    "\n",
    "y_train = tf.keras.utils.to_categorical(y_train, num_classes=2)\n",
    "y_val = tf.keras.utils.to_categorical(y_val, num_classes=2)\n",
    "y_test = tf.keras.utils.to_categorical(y_test, num_classes=2)"
   ]
  },
  {
   "cell_type": "code",
   "execution_count": 9,
   "metadata": {},
   "outputs": [],
   "source": [
    "# from preprocessing.utils import get_train_test_data\n",
    "from model.hierarchical_self_attention_model import HSA_model_session_guided_window"
   ]
  },
  {
   "cell_type": "code",
   "execution_count": 10,
   "metadata": {},
   "outputs": [
    {
     "name": "stdout",
     "output_type": "stream",
     "text": [
      "(9296, 10, 32, 9)\n",
      "(9296, 2)\n"
     ]
    }
   ],
   "source": [
    "print(X_train.shape)\n",
    "print(y_train.shape)"
   ]
  },
  {
   "cell_type": "code",
   "execution_count": 11,
   "metadata": {},
   "outputs": [],
   "source": [
    "y_train_mid = np.repeat(np.expand_dims(y_train, axis=1), repeats=metadata['n_window'], axis=1)\n",
    "y_val_mid = np.repeat(np.expand_dims(y_val, axis=1), repeats=metadata['n_window'], axis=1)\n",
    "y_test_mid = np.repeat(np.expand_dims(y_test, axis=1), repeats=metadata['n_window'], axis=1)"
   ]
  },
  {
   "cell_type": "code",
   "execution_count": 12,
   "metadata": {},
   "outputs": [
    {
     "data": {
      "text/plain": [
       "(9296, 10, 2)"
      ]
     },
     "execution_count": 12,
     "metadata": {},
     "output_type": "execute_result"
    }
   ],
   "source": [
    "y_train_mid.shape"
   ]
  },
  {
   "cell_type": "code",
   "execution_count": 32,
   "metadata": {},
   "outputs": [],
   "source": [
    "hparam_file = open('../configs/hyperparameters.yaml', mode='r')\n",
    "hyperparameters = yaml.load(hparam_file, Loader=yaml.FullLoader)\n",
    "DATASET_NAME = 'daphnet'\n",
    "hparams_all = hyperparameters['HSA_model']\n",
    "hparams = hparams_all[DATASET_NAME]\n",
    "\n",
    "hparams['n_window'], hparams['n_timesteps'], hparams['n_features'], hparams['n_outputs'] = X_train.shape[1], X_train.shape[2], X_train.shape[3], y_train.shape[1]\n",
    "hparams['n_outputs_window']=  y_train.shape[1]"
   ]
  },
  {
   "cell_type": "markdown",
   "metadata": {},
   "source": [
    "## Training"
   ]
  },
  {
   "cell_type": "code",
   "execution_count": 33,
   "metadata": {},
   "outputs": [
    {
     "name": "stdout",
     "output_type": "stream",
     "text": [
      "6 Physical GPUs, 6 Logical GPUs\n",
      "WARNING:tensorflow:Some requested devices in `tf.distribute.Strategy` are not visible to TensorFlow: /job:localhost/replica:0/task:0/device:GPU:7,/job:localhost/replica:0/task:0/device:GPU:6\n",
      "INFO:tensorflow:Using MirroredStrategy with devices ('/job:localhost/replica:0/task:0/device:GPU:6', '/job:localhost/replica:0/task:0/device:GPU:7')\n",
      "Number of devices: 2\n"
     ]
    }
   ],
   "source": [
    "tf.keras.backend.clear_session()\n",
    "gpus = tf.config.experimental.list_physical_devices('GPU')\n",
    "# print(gpus)\n",
    "if gpus:\n",
    "  try:\n",
    "    # Currently, memory growth needs to be the same across GPUs\n",
    "    for gpu in gpus:\n",
    "      tf.config.experimental.set_memory_growth(gpu, True)\n",
    "    logical_gpus = tf.config.experimental.list_logical_devices('GPU')\n",
    "    print(len(gpus), \"Physical GPUs,\", len(logical_gpus), \"Logical GPUs\")\n",
    "  except RuntimeError as e:\n",
    "    # Memory growth must be set before GPUs have been initialized\n",
    "    print(e)\n",
    "    \n",
    "device_list = ['/gpu:'+str(i) for i in range(6, 8)]\n",
    "strategy = tf.distribute.MirroredStrategy(devices=device_list)\n",
    "print('Number of devices: {}'.format(strategy.num_replicas_in_sync))\n",
    "with strategy.scope():\n",
    "    model = HSA_model_session_guided_window(**hparams).get_compiled_model()"
   ]
  },
  {
   "cell_type": "code",
   "execution_count": 34,
   "metadata": {},
   "outputs": [
    {
     "name": "stdout",
     "output_type": "stream",
     "text": [
      "Model: \"model_1\"\n",
      "__________________________________________________________________________________________________\n",
      "Layer (type)                    Output Shape         Param #     Connected to                     \n",
      "==================================================================================================\n",
      "input_1 (InputLayer)            [(None, 10, 32, 9)]  0                                            \n",
      "__________________________________________________________________________________________________\n",
      "multi_window_encoder (MultiWind ((None, None, 64), ( 350144      input_1[0][0]                    \n",
      "__________________________________________________________________________________________________\n",
      "modality_encoder_block_3 (Modal (None, None, 64)     104000      multi_window_encoder[0][0]       \n",
      "__________________________________________________________________________________________________\n",
      "combined_sensor_self_attention_ ((None, 64), (None,  49856       modality_encoder_block_3[0][0]   \n",
      "__________________________________________________________________________________________________\n",
      "tf_op_layer_Shape (TensorFlowOp [(2,)]               0           combined_sensor_self_attention_1[\n",
      "__________________________________________________________________________________________________\n",
      "tf_op_layer_ExpandDims (TensorF [(None, 1, 64)]      0           combined_sensor_self_attention_1[\n",
      "__________________________________________________________________________________________________\n",
      "tf_op_layer_strided_slice_3 (Te [(0,)]               0           tf_op_layer_Shape[0][0]          \n",
      "__________________________________________________________________________________________________\n",
      "tf_op_layer_strided_slice_4 (Te [(1,)]               0           tf_op_layer_Shape[0][0]          \n",
      "__________________________________________________________________________________________________\n",
      "tf_op_layer_Tile (TensorFlowOpL [(None, 10, 64)]     0           tf_op_layer_ExpandDims[0][0]     \n",
      "__________________________________________________________________________________________________\n",
      "tf_op_layer_concat (TensorFlowO [(2,)]               0           tf_op_layer_strided_slice_3[0][0]\n",
      "                                                                 tf_op_layer_strided_slice_4[0][0]\n",
      "__________________________________________________________________________________________________\n",
      "tf_op_layer_Reshape (TensorFlow [(None, 64)]         0           tf_op_layer_Tile[0][0]           \n",
      "                                                                 tf_op_layer_concat[0][0]         \n",
      "__________________________________________________________________________________________________\n",
      "reshape (Reshape)               (None, 10, 64)       0           tf_op_layer_Reshape[0][0]        \n",
      "__________________________________________________________________________________________________\n",
      "concatenate (Concatenate)       (None, 10, 128)      0           multi_window_encoder[0][0]       \n",
      "                                                                 reshape[0][0]                    \n",
      "__________________________________________________________________________________________________\n",
      "dense_60 (Dense)                (None, 10, 512)      66048       concatenate[0][0]                \n",
      "__________________________________________________________________________________________________\n",
      "dense_61 (Dense)                (None, 256)          16640       combined_sensor_self_attention_1[\n",
      "__________________________________________________________________________________________________\n",
      "window_pred (Dense)             (None, 10, 2)        1026        dense_60[0][0]                   \n",
      "__________________________________________________________________________________________________\n",
      "session_pred (Dense)            (None, 2)            514         dense_61[0][0]                   \n",
      "==================================================================================================\n",
      "Total params: 588,228\n",
      "Trainable params: 588,228\n",
      "Non-trainable params: 0\n",
      "__________________________________________________________________________________________________\n"
     ]
    }
   ],
   "source": [
    "model.summary()"
   ]
  },
  {
   "cell_type": "code",
   "execution_count": 35,
   "metadata": {},
   "outputs": [
    {
     "name": "stdout",
     "output_type": "stream",
     "text": [
      "Epoch 1/20\n",
      "73/73 [==============================] - 29s 391ms/step - loss: 0.8323 - window_pred_accuracy: 0.7918 - session_pred_accuracy: 0.7927 - window_pred_loss: 0.4152 - session_pred_loss: 0.4171 - val_loss: 2.6710 - val_window_pred_accuracy: 0.6912 - val_session_pred_accuracy: 0.6832 - val_window_pred_loss: 1.2318 - val_session_pred_loss: 1.4392\n",
      "Epoch 2/20\n",
      "73/73 [==============================] - 23s 319ms/step - loss: 0.7029 - window_pred_accuracy: 0.8214 - session_pred_accuracy: 0.8213 - window_pred_loss: 0.3536 - session_pred_loss: 0.3493 - val_loss: 2.6788 - val_window_pred_accuracy: 0.6719 - val_session_pred_accuracy: 0.6705 - val_window_pred_loss: 1.2619 - val_session_pred_loss: 1.4169\n",
      "Epoch 3/20\n",
      "73/73 [==============================] - 24s 323ms/step - loss: 0.6528 - window_pred_accuracy: 0.8319 - session_pred_accuracy: 0.8283 - window_pred_loss: 0.3264 - session_pred_loss: 0.3265 - val_loss: 2.4879 - val_window_pred_accuracy: 0.6580 - val_session_pred_accuracy: 0.6853 - val_window_pred_loss: 1.1461 - val_session_pred_loss: 1.3418\n",
      "Epoch 4/20\n",
      "73/73 [==============================] - 24s 324ms/step - loss: 0.6055 - window_pred_accuracy: 0.8428 - session_pred_accuracy: 0.8336 - window_pred_loss: 0.2994 - session_pred_loss: 0.3061 - val_loss: 2.6647 - val_window_pred_accuracy: 0.6663 - val_session_pred_accuracy: 0.6579 - val_window_pred_loss: 1.1637 - val_session_pred_loss: 1.5011\n",
      "Epoch 5/20\n",
      "73/73 [==============================] - 24s 324ms/step - loss: 0.6301 - window_pred_accuracy: 0.8415 - session_pred_accuracy: 0.8335 - window_pred_loss: 0.3144 - session_pred_loss: 0.3157 - val_loss: 2.3640 - val_window_pred_accuracy: 0.6225 - val_session_pred_accuracy: 0.6653 - val_window_pred_loss: 1.1215 - val_session_pred_loss: 1.2425\n",
      "Epoch 6/20\n",
      "73/73 [==============================] - 24s 325ms/step - loss: 0.6022 - window_pred_accuracy: 0.8533 - session_pred_accuracy: 0.8470 - window_pred_loss: 0.3000 - session_pred_loss: 0.3022 - val_loss: 3.4907 - val_window_pred_accuracy: 0.6885 - val_session_pred_accuracy: 0.6842 - val_window_pred_loss: 1.7193 - val_session_pred_loss: 1.7714\n",
      "Epoch 7/20\n",
      "73/73 [==============================] - 24s 324ms/step - loss: 0.6022 - window_pred_accuracy: 0.8632 - session_pred_accuracy: 0.8574 - window_pred_loss: 0.3004 - session_pred_loss: 0.3018 - val_loss: 1.8697 - val_window_pred_accuracy: 0.6666 - val_session_pred_accuracy: 0.6653 - val_window_pred_loss: 0.9349 - val_session_pred_loss: 0.9348\n",
      "Epoch 8/20\n",
      "73/73 [==============================] - 24s 325ms/step - loss: 0.5629 - window_pred_accuracy: 0.8747 - session_pred_accuracy: 0.8751 - window_pred_loss: 0.2810 - session_pred_loss: 0.2819 - val_loss: 1.4239 - val_window_pred_accuracy: 0.6691 - val_session_pred_accuracy: 0.6705 - val_window_pred_loss: 0.7130 - val_session_pred_loss: 0.7108\n",
      "Epoch 9/20\n",
      "73/73 [==============================] - 24s 324ms/step - loss: 0.5458 - window_pred_accuracy: 0.8778 - session_pred_accuracy: 0.8777 - window_pred_loss: 0.2721 - session_pred_loss: 0.2738 - val_loss: 1.1292 - val_window_pred_accuracy: 0.6749 - val_session_pred_accuracy: 0.6821 - val_window_pred_loss: 0.5756 - val_session_pred_loss: 0.5535\n",
      "Epoch 10/20\n",
      "73/73 [==============================] - 24s 324ms/step - loss: 0.5153 - window_pred_accuracy: 0.8824 - session_pred_accuracy: 0.8841 - window_pred_loss: 0.2571 - session_pred_loss: 0.2582 - val_loss: 2.3774 - val_window_pred_accuracy: 0.6593 - val_session_pred_accuracy: 0.6632 - val_window_pred_loss: 1.1140 - val_session_pred_loss: 1.2634\n",
      "Epoch 11/20\n",
      "73/73 [==============================] - 24s 324ms/step - loss: 0.5598 - window_pred_accuracy: 0.8654 - session_pred_accuracy: 0.8654 - window_pred_loss: 0.2792 - session_pred_loss: 0.2806 - val_loss: 0.8890 - val_window_pred_accuracy: 0.7792 - val_session_pred_accuracy: 0.7821 - val_window_pred_loss: 0.4302 - val_session_pred_loss: 0.4588\n",
      "Epoch 12/20\n",
      "73/73 [==============================] - 24s 324ms/step - loss: 0.5461 - window_pred_accuracy: 0.8760 - session_pred_accuracy: 0.8764 - window_pred_loss: 0.2722 - session_pred_loss: 0.2740 - val_loss: 1.1986 - val_window_pred_accuracy: 0.7087 - val_session_pred_accuracy: 0.6747 - val_window_pred_loss: 0.5866 - val_session_pred_loss: 0.6120\n",
      "Epoch 13/20\n",
      "73/73 [==============================] - 24s 324ms/step - loss: 0.5897 - window_pred_accuracy: 0.8614 - session_pred_accuracy: 0.8599 - window_pred_loss: 0.2934 - session_pred_loss: 0.2963 - val_loss: 3.5725 - val_window_pred_accuracy: 0.6872 - val_session_pred_accuracy: 0.6884 - val_window_pred_loss: 1.7615 - val_session_pred_loss: 1.8110\n",
      "Epoch 14/20\n",
      "73/73 [==============================] - 23s 322ms/step - loss: 0.5563 - window_pred_accuracy: 0.8722 - session_pred_accuracy: 0.8707 - window_pred_loss: 0.2768 - session_pred_loss: 0.2795 - val_loss: 2.2498 - val_window_pred_accuracy: 0.6652 - val_session_pred_accuracy: 0.6705 - val_window_pred_loss: 1.0907 - val_session_pred_loss: 1.1590\n",
      "Epoch 15/20\n",
      "73/73 [==============================] - 23s 319ms/step - loss: 0.5457 - window_pred_accuracy: 0.8819 - session_pred_accuracy: 0.8811 - window_pred_loss: 0.2719 - session_pred_loss: 0.2739 - val_loss: 1.1182 - val_window_pred_accuracy: 0.7568 - val_session_pred_accuracy: 0.7726 - val_window_pred_loss: 0.5836 - val_session_pred_loss: 0.5346\n",
      "Epoch 16/20\n",
      "73/73 [==============================] - 23s 319ms/step - loss: 0.5161 - window_pred_accuracy: 0.8885 - session_pred_accuracy: 0.8877 - window_pred_loss: 0.2569 - session_pred_loss: 0.2591 - val_loss: 3.4680 - val_window_pred_accuracy: 0.6652 - val_session_pred_accuracy: 0.6663 - val_window_pred_loss: 1.6889 - val_session_pred_loss: 1.7791\n",
      "Epoch 17/20\n",
      "73/73 [==============================] - 23s 320ms/step - loss: 0.4976 - window_pred_accuracy: 0.8876 - session_pred_accuracy: 0.8865 - window_pred_loss: 0.2481 - session_pred_loss: 0.2495 - val_loss: 1.2177 - val_window_pred_accuracy: 0.6848 - val_session_pred_accuracy: 0.6821 - val_window_pred_loss: 0.6208 - val_session_pred_loss: 0.5969\n",
      "Epoch 18/20\n",
      "73/73 [==============================] - 23s 319ms/step - loss: 0.5005 - window_pred_accuracy: 0.8892 - session_pred_accuracy: 0.8889 - window_pred_loss: 0.2489 - session_pred_loss: 0.2516 - val_loss: 2.3936 - val_window_pred_accuracy: 0.6824 - val_session_pred_accuracy: 0.6853 - val_window_pred_loss: 1.2154 - val_session_pred_loss: 1.1781\n",
      "Epoch 19/20\n",
      "73/73 [==============================] - 23s 319ms/step - loss: 0.4827 - window_pred_accuracy: 0.8967 - session_pred_accuracy: 0.8944 - window_pred_loss: 0.2399 - session_pred_loss: 0.2428 - val_loss: 1.4184 - val_window_pred_accuracy: 0.7549 - val_session_pred_accuracy: 0.7558 - val_window_pred_loss: 0.7196 - val_session_pred_loss: 0.6987\n",
      "Epoch 20/20\n",
      "73/73 [==============================] - 23s 319ms/step - loss: 0.4730 - window_pred_accuracy: 0.9004 - session_pred_accuracy: 0.8997 - window_pred_loss: 0.2354 - session_pred_loss: 0.2376 - val_loss: 1.9844 - val_window_pred_accuracy: 0.6351 - val_session_pred_accuracy: 0.6421 - val_window_pred_loss: 0.9327 - val_session_pred_loss: 1.0517\n"
     ]
    },
    {
     "data": {
      "text/plain": [
       "<tensorflow.python.keras.callbacks.History at 0x7f84720f47f0>"
      ]
     },
     "execution_count": 35,
     "metadata": {},
     "output_type": "execute_result"
    }
   ],
   "source": [
    "model.fit(X_train, [y_train_mid, y_train], batch_size=len(device_list) * 64, epochs=20, validation_data=(X_val, [y_val_mid, y_val]), use_multiprocessing=True)"
   ]
  },
  {
   "cell_type": "code",
   "execution_count": 36,
   "metadata": {},
   "outputs": [],
   "source": [
    "pred_mid, pred_sess = model.predict(X_test, batch_size=len(device_list) * 64)"
   ]
  },
  {
   "cell_type": "code",
   "execution_count": 37,
   "metadata": {},
   "outputs": [],
   "source": [
    "# labels_map = {1:'lying',2:'sitting',3:'standing',4:'walking',5:'running',6:'cycling',7:'Nordic walking',\n",
    "#               11:'ascending stairs',12:'descending stairs',13:'vacuum cleaning',\n",
    "#               14:'ironing', 18:'rope jumping'}\n",
    "# class_names = list(labels_map.values())"
   ]
  },
  {
   "cell_type": "code",
   "execution_count": 38,
   "metadata": {},
   "outputs": [
    {
     "name": "stdout",
     "output_type": "stream",
     "text": [
      "              precision    recall  f1-score   support\n",
      "\n",
      "           0       0.85      0.82      0.84       443\n",
      "           1       0.85      0.87      0.86       490\n",
      "\n",
      "    accuracy                           0.85       933\n",
      "   macro avg       0.85      0.85      0.85       933\n",
      "weighted avg       0.85      0.85      0.85       933\n",
      "\n"
     ]
    }
   ],
   "source": [
    "print(classification_report(np.argmax(y_test, axis=1), np.argmax(pred_sess, axis=1)))"
   ]
  },
  {
   "cell_type": "code",
   "execution_count": 39,
   "metadata": {},
   "outputs": [
    {
     "name": "stdout",
     "output_type": "stream",
     "text": [
      "              precision    recall  f1-score   support\n",
      "\n",
      "           0       0.85      0.82      0.84       443\n",
      "           1       0.85      0.87      0.86       490\n",
      "\n",
      "    accuracy                           0.85       933\n",
      "   macro avg       0.85      0.85      0.85       933\n",
      "weighted avg       0.85      0.85      0.85       933\n",
      "\n"
     ]
    }
   ],
   "source": [
    "print(classification_report(np.argmax(y_test, axis=1), np.argmax(pred_sess, axis=1)))"
   ]
  },
  {
   "cell_type": "code",
   "execution_count": 40,
   "metadata": {},
   "outputs": [
    {
     "name": "stdout",
     "output_type": "stream",
     "text": [
      "              precision    recall  f1-score   support\n",
      "\n",
      "           0       0.85      0.82      0.84       443\n",
      "           1       0.85      0.87      0.86       490\n",
      "\n",
      "    accuracy                           0.85       933\n",
      "   macro avg       0.85      0.85      0.85       933\n",
      "weighted avg       0.85      0.85      0.85       933\n",
      "\n"
     ]
    }
   ],
   "source": [
    "print(classification_report(np.argmax(y_test, axis=1), np.argmax(pred_sess, axis=1)))"
   ]
  },
  {
   "cell_type": "code",
   "execution_count": 41,
   "metadata": {},
   "outputs": [],
   "source": [
    "# activity_map"
   ]
  },
  {
   "cell_type": "code",
   "execution_count": 42,
   "metadata": {},
   "outputs": [
    {
     "data": {
      "text/plain": [
       "<AxesSubplot:>"
      ]
     },
     "execution_count": 42,
     "metadata": {},
     "output_type": "execute_result"
    },
    {
     "data": {
      "image/png": "[encoded data removed]",
      "text/plain": [
       "<Figure size 720x576 with 2 Axes>"
      ]
     },
     "metadata": {
      "needs_background": "light"
     },
     "output_type": "display_data"
    }
   ],
   "source": [
    "confm = confusion_matrix(np.argmax(y_test, axis=1), np.argmax(pred_sess, axis=1))\n",
    "# activity_list = list(activity_map.values())\n",
    "df_cm = pd.DataFrame(confm)\n",
    "plt.figure(figsize = (10,8))\n",
    "sns.heatmap(df_cm, annot=True, fmt='d', cmap=\"YlGnBu\")"
   ]
  },
  {
   "cell_type": "code",
   "execution_count": 43,
   "metadata": {},
   "outputs": [
    {
     "data": {
      "text/plain": [
       "(933, 10, 2)"
      ]
     },
     "execution_count": 43,
     "metadata": {},
     "output_type": "execute_result"
    }
   ],
   "source": [
    "y_test_mid.shape"
   ]
  },
  {
   "cell_type": "code",
   "execution_count": 44,
   "metadata": {},
   "outputs": [
    {
     "data": {
      "text/plain": [
       "(933, 10, 2)"
      ]
     },
     "execution_count": 44,
     "metadata": {},
     "output_type": "execute_result"
    }
   ],
   "source": [
    "pred_mid.shape"
   ]
  },
  {
   "cell_type": "code",
   "execution_count": 45,
   "metadata": {},
   "outputs": [
    {
     "name": "stdout",
     "output_type": "stream",
     "text": [
      "              precision    recall  f1-score   support\n",
      "\n",
      "           0       0.85      0.82      0.84      4430\n",
      "           1       0.85      0.87      0.86      4900\n",
      "\n",
      "    accuracy                           0.85      9330\n",
      "   macro avg       0.85      0.85      0.85      9330\n",
      "weighted avg       0.85      0.85      0.85      9330\n",
      "\n"
     ]
    }
   ],
   "source": [
    "print(classification_report(np.argmax(y_test_mid.reshape(-1, 2), axis=1), np.argmax(pred_mid.reshape(-1, 2), axis=1)))"
   ]
  },
  {
   "cell_type": "code",
   "execution_count": 46,
   "metadata": {},
   "outputs": [
    {
     "data": {
      "text/plain": [
       "<AxesSubplot:>"
      ]
     },
     "execution_count": 46,
     "metadata": {},
     "output_type": "execute_result"
    },
    {
     "data": {
      "image/png": "[encoded data removed]",
      "text/plain": [
       "<Figure size 720x576 with 2 Axes>"
      ]
     },
     "metadata": {
      "needs_background": "light"
     },
     "output_type": "display_data"
    }
   ],
   "source": [
    "confm = confusion_matrix(np.argmax(y_test_mid.reshape(-1, 2), axis=1), np.argmax(pred_mid.reshape(-1, 2), axis=1))\n",
    "# activity_list = list(activity_map.values())\n",
    "df_cm = pd.DataFrame(confm)\n",
    "plt.figure(figsize = (10,8))\n",
    "sns.heatmap(df_cm, annot=True, fmt='d', cmap=\"YlGnBu\")"
   ]
  },
  {
   "cell_type": "code",
   "execution_count": null,
   "metadata": {},
   "outputs": [],
   "source": []
  }
 ],
 "metadata": {
  "kernelspec": {
   "display_name": "Python 3",
   "language": "python",
   "name": "python3"
  },
  "language_info": {
   "codemirror_mode": {
    "name": "ipython",
    "version": 3
   },
   "file_extension": ".py",
   "mimetype": "text/x-python",
   "name": "python",
   "nbconvert_exporter": "python",
   "pygments_lexer": "ipython3",
   "version": "3.8.5"
  }
 },
 "nbformat": 4,
 "nbformat_minor": 4
}
