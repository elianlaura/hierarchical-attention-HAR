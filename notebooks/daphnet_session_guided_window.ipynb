{
 "cells": [
  {
   "cell_type": "code",
   "execution_count": 1,
   "metadata": {},
   "outputs": [],
   "source": [
    "import tensorflow as tf\n",
    "import numpy as np\n",
    "import pandas as pd\n",
    "from sklearn.metrics import classification_report, confusion_matrix\n",
    "import seaborn as sns\n",
    "import matplotlib.pyplot as plt\n",
    "import sys\n",
    "import yaml\n",
    "\n",
    "sys.path.append(\"../\")\n",
    "\n",
    "%load_ext autoreload\n",
    "%autoreload 2"
   ]
  },
  {
   "cell_type": "code",
   "execution_count": 2,
   "metadata": {},
   "outputs": [],
   "source": [
    "from sklearn.preprocessing import StandardScaler\n",
    "from preprocessing.sliding_window import create_windowed_dataset"
   ]
  },
  {
   "cell_type": "markdown",
   "metadata": {},
   "source": [
    "### Data loading"
   ]
  },
  {
   "cell_type": "code",
   "execution_count": 3,
   "metadata": {},
   "outputs": [],
   "source": [
    "data_path = '/home/hariub/data/HAR/processed/clean_daphnet_data.csv'\n",
    "df = pd.read_csv(data_path)"
   ]
  },
  {
   "cell_type": "code",
   "execution_count": 4,
   "metadata": {},
   "outputs": [
    {
     "data": {
      "text/html": [
       "<div>\n",
       "<style scoped>\n",
       "    .dataframe tbody tr th:only-of-type {\n",
       "        vertical-align: middle;\n",
       "    }\n",
       "\n",
       "    .dataframe tbody tr th {\n",
       "        vertical-align: top;\n",
       "    }\n",
       "\n",
       "    .dataframe thead th {\n",
       "        text-align: right;\n",
       "    }\n",
       "</style>\n",
       "<table border=\"1\" class=\"dataframe\">\n",
       "  <thead>\n",
       "    <tr style=\"text-align: right;\">\n",
       "      <th></th>\n",
       "      <th>Time</th>\n",
       "      <th>Ankle_acc_x</th>\n",
       "      <th>Ankle_acc_y</th>\n",
       "      <th>Ankle_acc_z</th>\n",
       "      <th>Thigh_acc_x</th>\n",
       "      <th>Thigh_acc_y</th>\n",
       "      <th>Thigh_acc_z</th>\n",
       "      <th>Trunk_acc_x</th>\n",
       "      <th>Trunk_acc_y</th>\n",
       "      <th>Trunk_acc_z</th>\n",
       "      <th>Label</th>\n",
       "      <th>Subject</th>\n",
       "      <th>Run</th>\n",
       "    </tr>\n",
       "  </thead>\n",
       "  <tbody>\n",
       "    <tr>\n",
       "      <th>0</th>\n",
       "      <td>15.0</td>\n",
       "      <td>70.0</td>\n",
       "      <td>39.0</td>\n",
       "      <td>-970.0</td>\n",
       "      <td>0.0</td>\n",
       "      <td>0.0</td>\n",
       "      <td>0.0</td>\n",
       "      <td>0.0</td>\n",
       "      <td>0.0</td>\n",
       "      <td>0.0</td>\n",
       "      <td>0.0</td>\n",
       "      <td>1</td>\n",
       "      <td>1</td>\n",
       "    </tr>\n",
       "    <tr>\n",
       "      <th>1</th>\n",
       "      <td>31.0</td>\n",
       "      <td>70.0</td>\n",
       "      <td>39.0</td>\n",
       "      <td>-970.0</td>\n",
       "      <td>0.0</td>\n",
       "      <td>0.0</td>\n",
       "      <td>0.0</td>\n",
       "      <td>0.0</td>\n",
       "      <td>0.0</td>\n",
       "      <td>0.0</td>\n",
       "      <td>0.0</td>\n",
       "      <td>1</td>\n",
       "      <td>1</td>\n",
       "    </tr>\n",
       "    <tr>\n",
       "      <th>2</th>\n",
       "      <td>46.0</td>\n",
       "      <td>60.0</td>\n",
       "      <td>49.0</td>\n",
       "      <td>-960.0</td>\n",
       "      <td>0.0</td>\n",
       "      <td>0.0</td>\n",
       "      <td>0.0</td>\n",
       "      <td>0.0</td>\n",
       "      <td>0.0</td>\n",
       "      <td>0.0</td>\n",
       "      <td>0.0</td>\n",
       "      <td>1</td>\n",
       "      <td>1</td>\n",
       "    </tr>\n",
       "    <tr>\n",
       "      <th>3</th>\n",
       "      <td>62.0</td>\n",
       "      <td>60.0</td>\n",
       "      <td>49.0</td>\n",
       "      <td>-960.0</td>\n",
       "      <td>0.0</td>\n",
       "      <td>0.0</td>\n",
       "      <td>0.0</td>\n",
       "      <td>0.0</td>\n",
       "      <td>0.0</td>\n",
       "      <td>0.0</td>\n",
       "      <td>0.0</td>\n",
       "      <td>1</td>\n",
       "      <td>1</td>\n",
       "    </tr>\n",
       "    <tr>\n",
       "      <th>4</th>\n",
       "      <td>78.0</td>\n",
       "      <td>50.0</td>\n",
       "      <td>39.0</td>\n",
       "      <td>-960.0</td>\n",
       "      <td>0.0</td>\n",
       "      <td>0.0</td>\n",
       "      <td>0.0</td>\n",
       "      <td>0.0</td>\n",
       "      <td>0.0</td>\n",
       "      <td>0.0</td>\n",
       "      <td>0.0</td>\n",
       "      <td>1</td>\n",
       "      <td>1</td>\n",
       "    </tr>\n",
       "  </tbody>\n",
       "</table>\n",
       "</div>"
      ],
      "text/plain": [
       "   Time  Ankle_acc_x  Ankle_acc_y  Ankle_acc_z  Thigh_acc_x  Thigh_acc_y  \\\n",
       "0  15.0         70.0         39.0       -970.0          0.0          0.0   \n",
       "1  31.0         70.0         39.0       -970.0          0.0          0.0   \n",
       "2  46.0         60.0         49.0       -960.0          0.0          0.0   \n",
       "3  62.0         60.0         49.0       -960.0          0.0          0.0   \n",
       "4  78.0         50.0         39.0       -960.0          0.0          0.0   \n",
       "\n",
       "   Thigh_acc_z  Trunk_acc_x  Trunk_acc_y  Trunk_acc_z  Label  Subject  Run  \n",
       "0          0.0          0.0          0.0          0.0    0.0        1    1  \n",
       "1          0.0          0.0          0.0          0.0    0.0        1    1  \n",
       "2          0.0          0.0          0.0          0.0    0.0        1    1  \n",
       "3          0.0          0.0          0.0          0.0    0.0        1    1  \n",
       "4          0.0          0.0          0.0          0.0    0.0        1    1  "
      ]
     },
     "execution_count": 4,
     "metadata": {},
     "output_type": "execute_result"
    }
   ],
   "source": [
    "df.head()"
   ]
  },
  {
   "cell_type": "code",
   "execution_count": 5,
   "metadata": {},
   "outputs": [],
   "source": [
    "FEATURES = ['Ankle_acc_x', 'Ankle_acc_y', 'Ankle_acc_z', 'Thigh_acc_x','Thigh_acc_y', 'Thigh_acc_z', 'Trunk_acc_x', 'Trunk_acc_y','Trunk_acc_z']\n",
    "LABEL = ['Label']"
   ]
  },
  {
   "cell_type": "code",
   "execution_count": 6,
   "metadata": {},
   "outputs": [],
   "source": [
    "df = df.fillna(0)\n",
    "scaler = StandardScaler()\n",
    "df[FEATURES] = scaler.fit_transform(df[FEATURES])"
   ]
  },
  {
   "cell_type": "code",
   "execution_count": 7,
   "metadata": {},
   "outputs": [],
   "source": [
    "hyperparameters = yaml.load(open('../configs/metadata.yaml', mode='r'), Loader=yaml.FullLoader)\n",
    "\n",
    "metadata = yaml.load(open('../configs/metadata.yaml', mode='r'), Loader=yaml.FullLoader)['daphnet_preprocess']"
   ]
  },
  {
   "cell_type": "code",
   "execution_count": 43,
   "metadata": {},
   "outputs": [],
   "source": [
    "# metadata_file"
   ]
  },
  {
   "cell_type": "code",
   "execution_count": null,
   "metadata": {},
   "outputs": [],
   "source": []
  },
  {
   "cell_type": "code",
   "execution_count": 8,
   "metadata": {},
   "outputs": [],
   "source": [
    "train_df = df[df['Subject'] != 1]\n",
    "test_df = df[df['Subject'] == 1]\n",
    "\n",
    "SLIDING_WINDOW_LENGTH = metadata['sliding_win_len']\n",
    "SLIDING_WINDOW_STEP = metadata['sliding_win_stride']\n",
    "N_WINDOW, N_TIMESTEP = metadata['n_window'], metadata['n_timestep']\n",
    "\n",
    "# FEATURES = metadata['feature_list']\n",
    "\n",
    "X_train, y_train = create_windowed_dataset(\n",
    "    train_df, FEATURES, 'Label', window_size=SLIDING_WINDOW_LENGTH, stride=SLIDING_WINDOW_STEP)\n",
    "X_test, y_test = create_windowed_dataset(\n",
    "    test_df, FEATURES, 'Label', window_size=SLIDING_WINDOW_LENGTH, stride=SLIDING_WINDOW_STEP)\n",
    "\n",
    "X_train = X_train.reshape(\n",
    "    (X_train.shape[0], N_WINDOW, N_TIMESTEP, len(FEATURES)))\n",
    "X_test = X_test.reshape(\n",
    "    (X_test.shape[0], N_WINDOW, N_TIMESTEP, len(FEATURES)))\n",
    "\n",
    "y_train = tf.keras.utils.to_categorical(y_train)\n",
    "y_test = tf.keras.utils.to_categorical(y_test)"
   ]
  },
  {
   "cell_type": "code",
   "execution_count": 9,
   "metadata": {},
   "outputs": [
    {
     "data": {
      "text/plain": [
       "(2754, 15, 100, 9)"
      ]
     },
     "execution_count": 9,
     "metadata": {},
     "output_type": "execute_result"
    }
   ],
   "source": [
    "X_train.shape"
   ]
  },
  {
   "cell_type": "code",
   "execution_count": 10,
   "metadata": {},
   "outputs": [
    {
     "data": {
      "text/plain": [
       "(2754, 3)"
      ]
     },
     "execution_count": 10,
     "metadata": {},
     "output_type": "execute_result"
    }
   ],
   "source": [
    "y_train.shape"
   ]
  },
  {
   "cell_type": "code",
   "execution_count": 11,
   "metadata": {},
   "outputs": [],
   "source": [
    "# from preprocessing.utils import get_train_test_data\n",
    "from model.hierarchical_self_attention_model import HSA_model_session_guided_window"
   ]
  },
  {
   "cell_type": "code",
   "execution_count": 12,
   "metadata": {},
   "outputs": [],
   "source": [
    "# (X_train, y_train), (X_test, y_test) = get_train_test_data(dataset='pamap2', holdout=False)"
   ]
  },
  {
   "cell_type": "code",
   "execution_count": 13,
   "metadata": {},
   "outputs": [
    {
     "name": "stdout",
     "output_type": "stream",
     "text": [
      "(2754, 15, 100, 9)\n",
      "(2754, 3)\n"
     ]
    }
   ],
   "source": [
    "print(X_train.shape)\n",
    "print(y_train.shape)"
   ]
  },
  {
   "cell_type": "code",
   "execution_count": 14,
   "metadata": {},
   "outputs": [],
   "source": [
    "# mid_labels = np.repeat(np.expand_dims(y_train, axis=1), repeats=15, axis=1)"
   ]
  },
  {
   "cell_type": "code",
   "execution_count": 15,
   "metadata": {},
   "outputs": [],
   "source": [
    "# mid_labels[0]"
   ]
  },
  {
   "cell_type": "code",
   "execution_count": 14,
   "metadata": {},
   "outputs": [],
   "source": [
    "y_train_mid = np.repeat(np.expand_dims(y_train, axis=1), repeats=15, axis=1)\n",
    "y_test_mid = np.repeat(np.expand_dims(y_test, axis=1), repeats=15, axis=1)"
   ]
  },
  {
   "cell_type": "code",
   "execution_count": 15,
   "metadata": {},
   "outputs": [
    {
     "data": {
      "text/plain": [
       "(2754, 15, 3)"
      ]
     },
     "execution_count": 15,
     "metadata": {},
     "output_type": "execute_result"
    }
   ],
   "source": [
    "y_train_mid.shape"
   ]
  },
  {
   "cell_type": "code",
   "execution_count": 16,
   "metadata": {},
   "outputs": [],
   "source": [
    "hparam_file = open('../configs/hyperparameters.yaml', mode='r')\n",
    "hyperparameters = yaml.load(hparam_file, Loader=yaml.FullLoader)\n",
    "hparams = hyperparameters['HSA_model']\n",
    "hparams['modality_indices'] = hparams['modality_indices']['daphnet']\n",
    "hparams['n_window'], hparams['n_timesteps'], hparams['n_features'], hparams['n_outputs'] = X_train.shape[1], X_train.shape[2], X_train.shape[3], y_train.shape[1]\n",
    "hparams['n_outputs_window']=3"
   ]
  },
  {
   "cell_type": "markdown",
   "metadata": {},
   "source": [
    "## Training"
   ]
  },
  {
   "cell_type": "code",
   "execution_count": 17,
   "metadata": {},
   "outputs": [
    {
     "name": "stdout",
     "output_type": "stream",
     "text": [
      "8 Physical GPUs, 8 Logical GPUs\n",
      "INFO:tensorflow:Using MirroredStrategy with devices ('/job:localhost/replica:0/task:0/device:GPU:5', '/job:localhost/replica:0/task:0/device:GPU:6', '/job:localhost/replica:0/task:0/device:GPU:7')\n",
      "Number of devices: 3\n"
     ]
    }
   ],
   "source": [
    "tf.keras.backend.clear_session()\n",
    "gpus = tf.config.experimental.list_physical_devices('GPU')\n",
    "if gpus:\n",
    "  try:\n",
    "    # Currently, memory growth needs to be the same across GPUs\n",
    "    for gpu in gpus:\n",
    "      tf.config.experimental.set_memory_growth(gpu, True)\n",
    "    logical_gpus = tf.config.experimental.list_logical_devices('GPU')\n",
    "    print(len(gpus), \"Physical GPUs,\", len(logical_gpus), \"Logical GPUs\")\n",
    "  except RuntimeError as e:\n",
    "    # Memory growth must be set before GPUs have been initialized\n",
    "    print(e)\n",
    "    \n",
    "device_list = ['/gpu:'+str(i) for i in range(5, 8)]\n",
    "strategy = tf.distribute.MirroredStrategy(devices=device_list)\n",
    "print('Number of devices: {}'.format(strategy.num_replicas_in_sync))\n",
    "with strategy.scope():\n",
    "    model = HSA_model_session_guided_window(**hyperparameters['HSA_model']).get_compiled_model()"
   ]
  },
  {
   "cell_type": "code",
   "execution_count": 18,
   "metadata": {},
   "outputs": [
    {
     "name": "stdout",
     "output_type": "stream",
     "text": [
      "Model: \"model_1\"\n",
      "__________________________________________________________________________________________________\n",
      "Layer (type)                    Output Shape         Param #     Connected to                     \n",
      "==================================================================================================\n",
      "input_1 (InputLayer)            [(None, 15, 100, 9)] 0                                            \n",
      "__________________________________________________________________________________________________\n",
      "multi_window_encoder (MultiWind ((None, None, 64), ( 350144      input_1[0][0]                    \n",
      "__________________________________________________________________________________________________\n",
      "modality_encoder_block_3 (Modal (None, None, 64)     104000      multi_window_encoder[0][0]       \n",
      "__________________________________________________________________________________________________\n",
      "combined_sensor_self_attention_ ((None, 64), (None,  49856       modality_encoder_block_3[0][0]   \n",
      "__________________________________________________________________________________________________\n",
      "tf_op_layer_Shape (TensorFlowOp [(2,)]               0           combined_sensor_self_attention_1[\n",
      "__________________________________________________________________________________________________\n",
      "tf_op_layer_ExpandDims (TensorF [(None, 1, 64)]      0           combined_sensor_self_attention_1[\n",
      "__________________________________________________________________________________________________\n",
      "tf_op_layer_strided_slice_3 (Te [(0,)]               0           tf_op_layer_Shape[0][0]          \n",
      "__________________________________________________________________________________________________\n",
      "tf_op_layer_strided_slice_4 (Te [(1,)]               0           tf_op_layer_Shape[0][0]          \n",
      "__________________________________________________________________________________________________\n",
      "tf_op_layer_Tile (TensorFlowOpL [(None, 15, 64)]     0           tf_op_layer_ExpandDims[0][0]     \n",
      "__________________________________________________________________________________________________\n",
      "tf_op_layer_concat (TensorFlowO [(2,)]               0           tf_op_layer_strided_slice_3[0][0]\n",
      "                                                                 tf_op_layer_strided_slice_4[0][0]\n",
      "__________________________________________________________________________________________________\n",
      "tf_op_layer_Reshape (TensorFlow [(None, 64)]         0           tf_op_layer_Tile[0][0]           \n",
      "                                                                 tf_op_layer_concat[0][0]         \n",
      "__________________________________________________________________________________________________\n",
      "reshape (Reshape)               (None, 15, 64)       0           tf_op_layer_Reshape[0][0]        \n",
      "__________________________________________________________________________________________________\n",
      "concatenate (Concatenate)       (None, 15, 128)      0           multi_window_encoder[0][0]       \n",
      "                                                                 reshape[0][0]                    \n",
      "__________________________________________________________________________________________________\n",
      "window_pred (Dense)             (None, 15, 3)        387         concatenate[0][0]                \n",
      "__________________________________________________________________________________________________\n",
      "session_pred (Dense)            (None, 3)            195         combined_sensor_self_attention_1[\n",
      "==================================================================================================\n",
      "Total params: 504,582\n",
      "Trainable params: 504,582\n",
      "Non-trainable params: 0\n",
      "__________________________________________________________________________________________________\n"
     ]
    }
   ],
   "source": [
    "model.summary()"
   ]
  },
  {
   "cell_type": "code",
   "execution_count": 19,
   "metadata": {},
   "outputs": [
    {
     "name": "stdout",
     "output_type": "stream",
     "text": [
      "Epoch 1/40\n",
      "INFO:tensorflow:batch_all_reduce: 160 all-reduces with algorithm = nccl, num_packs = 1\n",
      "INFO:tensorflow:Reduce to /job:localhost/replica:0/task:0/device:CPU:0 then broadcast to ('/job:localhost/replica:0/task:0/device:CPU:0',).\n",
      "INFO:tensorflow:Reduce to /job:localhost/replica:0/task:0/device:CPU:0 then broadcast to ('/job:localhost/replica:0/task:0/device:CPU:0',).\n",
      "INFO:tensorflow:Reduce to /job:localhost/replica:0/task:0/device:CPU:0 then broadcast to ('/job:localhost/replica:0/task:0/device:CPU:0',).\n",
      "INFO:tensorflow:Reduce to /job:localhost/replica:0/task:0/device:CPU:0 then broadcast to ('/job:localhost/replica:0/task:0/device:CPU:0',).\n",
      "INFO:tensorflow:Reduce to /job:localhost/replica:0/task:0/device:CPU:0 then broadcast to ('/job:localhost/replica:0/task:0/device:CPU:0',).\n",
      "INFO:tensorflow:Reduce to /job:localhost/replica:0/task:0/device:CPU:0 then broadcast to ('/job:localhost/replica:0/task:0/device:CPU:0',).\n",
      "INFO:tensorflow:Reduce to /job:localhost/replica:0/task:0/device:CPU:0 then broadcast to ('/job:localhost/replica:0/task:0/device:CPU:0',).\n",
      "INFO:tensorflow:Reduce to /job:localhost/replica:0/task:0/device:CPU:0 then broadcast to ('/job:localhost/replica:0/task:0/device:CPU:0',).\n",
      "INFO:tensorflow:Reduce to /job:localhost/replica:0/task:0/device:CPU:0 then broadcast to ('/job:localhost/replica:0/task:0/device:CPU:0',).\n",
      "INFO:tensorflow:Reduce to /job:localhost/replica:0/task:0/device:CPU:0 then broadcast to ('/job:localhost/replica:0/task:0/device:CPU:0',).\n",
      "INFO:tensorflow:batch_all_reduce: 160 all-reduces with algorithm = nccl, num_packs = 1\n",
      "13/13 [==============================] - 18s 1s/step - window_pred_loss: 0.7423 - loss: 1.4631 - session_pred_accuracy: 0.6441 - session_pred_loss: 0.7209 - window_pred_accuracy: 0.6733 - val_window_pred_loss: 0.7655 - val_loss: 1.6850 - val_session_pred_accuracy: 0.7681 - val_session_pred_loss: 0.9195 - val_window_pred_accuracy: 0.7717\n",
      "Epoch 2/40\n",
      "13/13 [==============================] - 9s 705ms/step - window_pred_loss: 0.4585 - loss: 0.9177 - session_pred_accuracy: 0.7732 - session_pred_loss: 0.4592 - window_pred_accuracy: 0.7667 - val_window_pred_loss: 1.3469 - val_loss: 2.9028 - val_session_pred_accuracy: 0.7572 - val_session_pred_loss: 1.5559 - val_window_pred_accuracy: 0.7616\n",
      "Epoch 3/40\n",
      "13/13 [==============================] - 9s 704ms/step - window_pred_loss: 0.4150 - loss: 0.8242 - session_pred_accuracy: 0.8023 - session_pred_loss: 0.4092 - window_pred_accuracy: 0.7951 - val_window_pred_loss: 1.5478 - val_loss: 3.0221 - val_session_pred_accuracy: 0.7754 - val_session_pred_loss: 1.4742 - val_window_pred_accuracy: 0.7655\n",
      "Epoch 4/40\n",
      "13/13 [==============================] - 9s 703ms/step - window_pred_loss: 0.3952 - loss: 0.7967 - session_pred_accuracy: 0.8059 - session_pred_loss: 0.4015 - window_pred_accuracy: 0.8092 - val_window_pred_loss: 1.5662 - val_loss: 2.7935 - val_session_pred_accuracy: 0.7645 - val_session_pred_loss: 1.2273 - val_window_pred_accuracy: 0.7693\n",
      "Epoch 5/40\n",
      "13/13 [==============================] - 9s 701ms/step - window_pred_loss: 0.3576 - loss: 0.7004 - session_pred_accuracy: 0.8366 - session_pred_loss: 0.3428 - window_pred_accuracy: 0.8303 - val_window_pred_loss: 1.6473 - val_loss: 3.2537 - val_session_pred_accuracy: 0.7717 - val_session_pred_loss: 1.6064 - val_window_pred_accuracy: 0.7754\n",
      "Epoch 6/40\n",
      "13/13 [==============================] - 9s 704ms/step - window_pred_loss: 0.3153 - loss: 0.6328 - session_pred_accuracy: 0.8499 - session_pred_loss: 0.3176 - window_pred_accuracy: 0.8536 - val_window_pred_loss: 2.3639 - val_loss: 5.0804 - val_session_pred_accuracy: 0.5362 - val_session_pred_loss: 2.7165 - val_window_pred_accuracy: 0.5763\n",
      "Epoch 7/40\n",
      "13/13 [==============================] - 9s 706ms/step - window_pred_loss: 0.3048 - loss: 0.6062 - session_pred_accuracy: 0.8559 - session_pred_loss: 0.3014 - window_pred_accuracy: 0.8634 - val_window_pred_loss: 2.2211 - val_loss: 4.7286 - val_session_pred_accuracy: 0.6159 - val_session_pred_loss: 2.5075 - val_window_pred_accuracy: 0.6543\n",
      "Epoch 8/40\n",
      "13/13 [==============================] - 9s 706ms/step - window_pred_loss: 0.2912 - loss: 0.5754 - session_pred_accuracy: 0.8701 - session_pred_loss: 0.2842 - window_pred_accuracy: 0.8676 - val_window_pred_loss: 2.1727 - val_loss: 4.5499 - val_session_pred_accuracy: 0.6630 - val_session_pred_loss: 2.3772 - val_window_pred_accuracy: 0.6628\n",
      "Epoch 9/40\n",
      "13/13 [==============================] - 9s 708ms/step - window_pred_loss: 0.2799 - loss: 0.5569 - session_pred_accuracy: 0.8717 - session_pred_loss: 0.2770 - window_pred_accuracy: 0.8732 - val_window_pred_loss: 2.1937 - val_loss: 4.4354 - val_session_pred_accuracy: 0.6522 - val_session_pred_loss: 2.2417 - val_window_pred_accuracy: 0.6471\n",
      "Epoch 10/40\n",
      "13/13 [==============================] - 13s 984ms/step - window_pred_loss: 0.2701 - loss: 0.5419 - session_pred_accuracy: 0.8838 - session_pred_loss: 0.2719 - window_pred_accuracy: 0.8823 - val_window_pred_loss: 3.0768 - val_loss: 6.0214 - val_session_pred_accuracy: 0.4130 - val_session_pred_loss: 2.9445 - val_window_pred_accuracy: 0.3918\n",
      "Epoch 11/40\n",
      "13/13 [==============================] - 17s 1s/step - window_pred_loss: 0.2491 - loss: 0.5011 - session_pred_accuracy: 0.8874 - session_pred_loss: 0.2520 - window_pred_accuracy: 0.8880 - val_window_pred_loss: 2.1953 - val_loss: 4.6182 - val_session_pred_accuracy: 0.6449 - val_session_pred_loss: 2.4229 - val_window_pred_accuracy: 0.6461\n",
      "Epoch 12/40\n",
      "13/13 [==============================] - 20s 2s/step - window_pred_loss: 0.2626 - loss: 0.5250 - session_pred_accuracy: 0.8862 - session_pred_loss: 0.2624 - window_pred_accuracy: 0.8821 - val_window_pred_loss: 1.7480 - val_loss: 3.5795 - val_session_pred_accuracy: 0.7754 - val_session_pred_loss: 1.8315 - val_window_pred_accuracy: 0.7609\n",
      "Epoch 13/40\n",
      "13/13 [==============================] - 21s 2s/step - window_pred_loss: 0.2542 - loss: 0.5108 - session_pred_accuracy: 0.8906 - session_pred_loss: 0.2566 - window_pred_accuracy: 0.8899 - val_window_pred_loss: 1.8391 - val_loss: 3.7371 - val_session_pred_accuracy: 0.7391 - val_session_pred_loss: 1.8980 - val_window_pred_accuracy: 0.7268\n",
      "Epoch 14/40\n",
      "13/13 [==============================] - 21s 2s/step - window_pred_loss: 0.2758 - loss: 0.5497 - session_pred_accuracy: 0.8789 - session_pred_loss: 0.2739 - window_pred_accuracy: 0.8796 - val_window_pred_loss: 1.7878 - val_loss: 3.5276 - val_session_pred_accuracy: 0.7138 - val_session_pred_loss: 1.7398 - val_window_pred_accuracy: 0.7425\n",
      "Epoch 15/40\n",
      "13/13 [==============================] - 20s 2s/step - window_pred_loss: 0.2610 - loss: 0.5195 - session_pred_accuracy: 0.8866 - session_pred_loss: 0.2585 - window_pred_accuracy: 0.8891 - val_window_pred_loss: 3.3006 - val_loss: 6.4672 - val_session_pred_accuracy: 0.4094 - val_session_pred_loss: 3.1665 - val_window_pred_accuracy: 0.4065\n",
      "Epoch 16/40\n",
      "13/13 [==============================] - 22s 2s/step - window_pred_loss: 0.2578 - loss: 0.5166 - session_pred_accuracy: 0.8914 - session_pred_loss: 0.2588 - window_pred_accuracy: 0.8900 - val_window_pred_loss: 2.9700 - val_loss: 6.1582 - val_session_pred_accuracy: 0.5036 - val_session_pred_loss: 3.1882 - val_window_pred_accuracy: 0.5121\n",
      "Epoch 17/40\n",
      "13/13 [==============================] - 22s 2s/step - window_pred_loss: 0.2360 - loss: 0.4692 - session_pred_accuracy: 0.8943 - session_pred_loss: 0.2332 - window_pred_accuracy: 0.8977 - val_window_pred_loss: 4.1158 - val_loss: 8.6789 - val_session_pred_accuracy: 0.4130 - val_session_pred_loss: 4.5632 - val_window_pred_accuracy: 0.4053\n",
      "Epoch 18/40\n",
      "13/13 [==============================] - 23s 2s/step - window_pred_loss: 0.2362 - loss: 0.4697 - session_pred_accuracy: 0.8947 - session_pred_loss: 0.2335 - window_pred_accuracy: 0.8938 - val_window_pred_loss: 1.7915 - val_loss: 3.6870 - val_session_pred_accuracy: 0.7754 - val_session_pred_loss: 1.8956 - val_window_pred_accuracy: 0.7754\n",
      "Epoch 19/40\n",
      "13/13 [==============================] - 22s 2s/step - window_pred_loss: 0.2383 - loss: 0.4721 - session_pred_accuracy: 0.8959 - session_pred_loss: 0.2339 - window_pred_accuracy: 0.8946 - val_window_pred_loss: 1.8110 - val_loss: 3.7783 - val_session_pred_accuracy: 0.7246 - val_session_pred_loss: 1.9673 - val_window_pred_accuracy: 0.7442\n",
      "Epoch 20/40\n",
      "13/13 [==============================] - 21s 2s/step - window_pred_loss: 0.2195 - loss: 0.4334 - session_pred_accuracy: 0.9011 - session_pred_loss: 0.2139 - window_pred_accuracy: 0.9053 - val_window_pred_loss: 1.7679 - val_loss: 3.6271 - val_session_pred_accuracy: 0.7790 - val_session_pred_loss: 1.8591 - val_window_pred_accuracy: 0.7746\n",
      "Epoch 21/40\n",
      "13/13 [==============================] - 21s 2s/step - window_pred_loss: 0.2107 - loss: 0.4232 - session_pred_accuracy: 0.9027 - session_pred_loss: 0.2124 - window_pred_accuracy: 0.9082 - val_window_pred_loss: 2.7166 - val_loss: 5.4561 - val_session_pred_accuracy: 0.5181 - val_session_pred_loss: 2.7395 - val_window_pred_accuracy: 0.5176\n",
      "Epoch 22/40\n",
      "13/13 [==============================] - 21s 2s/step - window_pred_loss: 0.2146 - loss: 0.4292 - session_pred_accuracy: 0.9060 - session_pred_loss: 0.2147 - window_pred_accuracy: 0.9048 - val_window_pred_loss: 2.1791 - val_loss: 4.3039 - val_session_pred_accuracy: 0.6413 - val_session_pred_loss: 2.1248 - val_window_pred_accuracy: 0.6418\n",
      "Epoch 23/40\n",
      "13/13 [==============================] - 21s 2s/step - window_pred_loss: 0.2062 - loss: 0.4152 - session_pred_accuracy: 0.9149 - session_pred_loss: 0.2090 - window_pred_accuracy: 0.9122 - val_window_pred_loss: 3.9393 - val_loss: 7.9855 - val_session_pred_accuracy: 0.4457 - val_session_pred_loss: 4.0463 - val_window_pred_accuracy: 0.4466\n",
      "Epoch 24/40\n",
      "13/13 [==============================] - 21s 2s/step - window_pred_loss: 0.2451 - loss: 0.4955 - session_pred_accuracy: 0.9003 - session_pred_loss: 0.2505 - window_pred_accuracy: 0.9035 - val_window_pred_loss: 1.7736 - val_loss: 3.2601 - val_session_pred_accuracy: 0.7681 - val_session_pred_loss: 1.4865 - val_window_pred_accuracy: 0.7647\n",
      "Epoch 25/40\n",
      "13/13 [==============================] - 19s 1s/step - window_pred_loss: 0.2333 - loss: 0.4676 - session_pred_accuracy: 0.9011 - session_pred_loss: 0.2343 - window_pred_accuracy: 0.9026 - val_window_pred_loss: 2.8338 - val_loss: 5.4246 - val_session_pred_accuracy: 0.4928 - val_session_pred_loss: 2.5908 - val_window_pred_accuracy: 0.4918\n",
      "Epoch 26/40\n",
      "13/13 [==============================] - 21s 2s/step - window_pred_loss: 0.1964 - loss: 0.3954 - session_pred_accuracy: 0.9140 - session_pred_loss: 0.1990 - window_pred_accuracy: 0.9151 - val_window_pred_loss: 2.2580 - val_loss: 4.5019 - val_session_pred_accuracy: 0.6341 - val_session_pred_loss: 2.2439 - val_window_pred_accuracy: 0.6309\n",
      "Epoch 27/40\n",
      "13/13 [==============================] - 21s 2s/step - window_pred_loss: 0.1866 - loss: 0.3765 - session_pred_accuracy: 0.9205 - session_pred_loss: 0.1899 - window_pred_accuracy: 0.9220 - val_window_pred_loss: 1.6752 - val_loss: 3.4441 - val_session_pred_accuracy: 0.7609 - val_session_pred_loss: 1.7689 - val_window_pred_accuracy: 0.7618\n",
      "Epoch 28/40\n",
      "13/13 [==============================] - 21s 2s/step - window_pred_loss: 0.1878 - loss: 0.3804 - session_pred_accuracy: 0.9225 - session_pred_loss: 0.1927 - window_pred_accuracy: 0.9226 - val_window_pred_loss: 1.7605 - val_loss: 3.5911 - val_session_pred_accuracy: 0.7174 - val_session_pred_loss: 1.8306 - val_window_pred_accuracy: 0.7099\n",
      "Epoch 29/40\n",
      "13/13 [==============================] - 23s 2s/step - window_pred_loss: 0.1757 - loss: 0.3528 - session_pred_accuracy: 0.9274 - session_pred_loss: 0.1771 - window_pred_accuracy: 0.9286 - val_window_pred_loss: 1.7084 - val_loss: 3.5749 - val_session_pred_accuracy: 0.7464 - val_session_pred_loss: 1.8665 - val_window_pred_accuracy: 0.7459\n",
      "Epoch 30/40\n",
      "13/13 [==============================] - 21s 2s/step - window_pred_loss: 0.1866 - loss: 0.3741 - session_pred_accuracy: 0.9237 - session_pred_loss: 0.1876 - window_pred_accuracy: 0.9210 - val_window_pred_loss: 1.9625 - val_loss: 3.9172 - val_session_pred_accuracy: 0.7428 - val_session_pred_loss: 1.9547 - val_window_pred_accuracy: 0.7428\n",
      "Epoch 31/40\n",
      "13/13 [==============================] - 21s 2s/step - window_pred_loss: 0.1919 - loss: 0.3829 - session_pred_accuracy: 0.9225 - session_pred_loss: 0.1910 - window_pred_accuracy: 0.9246 - val_window_pred_loss: 2.0054 - val_loss: 3.8284 - val_session_pred_accuracy: 0.7428 - val_session_pred_loss: 1.8231 - val_window_pred_accuracy: 0.7406\n",
      "Epoch 32/40\n",
      "13/13 [==============================] - 22s 2s/step - window_pred_loss: 0.1932 - loss: 0.3884 - session_pred_accuracy: 0.9221 - session_pred_loss: 0.1952 - window_pred_accuracy: 0.9221 - val_window_pred_loss: 2.3206 - val_loss: 4.5416 - val_session_pred_accuracy: 0.5797 - val_session_pred_loss: 2.2211 - val_window_pred_accuracy: 0.5645\n",
      "Epoch 33/40\n",
      "13/13 [==============================] - 22s 2s/step - window_pred_loss: 0.1833 - loss: 0.3747 - session_pred_accuracy: 0.9221 - session_pred_loss: 0.1914 - window_pred_accuracy: 0.9214 - val_window_pred_loss: 1.9837 - val_loss: 3.9713 - val_session_pred_accuracy: 0.7464 - val_session_pred_loss: 1.9876 - val_window_pred_accuracy: 0.7423\n",
      "Epoch 34/40\n",
      "13/13 [==============================] - 23s 2s/step - window_pred_loss: 0.1595 - loss: 0.3188 - session_pred_accuracy: 0.9362 - session_pred_loss: 0.1593 - window_pred_accuracy: 0.9347 - val_window_pred_loss: 2.0197 - val_loss: 4.0125 - val_session_pred_accuracy: 0.7464 - val_session_pred_loss: 1.9927 - val_window_pred_accuracy: 0.7464\n",
      "Epoch 35/40\n",
      "13/13 [==============================] - 23s 2s/step - window_pred_loss: 0.1980 - loss: 0.3983 - session_pred_accuracy: 0.9189 - session_pred_loss: 0.2003 - window_pred_accuracy: 0.9225 - val_window_pred_loss: 2.4585 - val_loss: 4.7458 - val_session_pred_accuracy: 0.6159 - val_session_pred_loss: 2.2872 - val_window_pred_accuracy: 0.6041\n",
      "Epoch 36/40\n",
      "13/13 [==============================] - 24s 2s/step - window_pred_loss: 0.2044 - loss: 0.4122 - session_pred_accuracy: 0.9132 - session_pred_loss: 0.2078 - window_pred_accuracy: 0.9170 - val_window_pred_loss: 3.5184 - val_loss: 6.8652 - val_session_pred_accuracy: 0.4638 - val_session_pred_loss: 3.3469 - val_window_pred_accuracy: 0.4529\n",
      "Epoch 37/40\n",
      "13/13 [==============================] - 21s 2s/step - window_pred_loss: 0.1826 - loss: 0.3653 - session_pred_accuracy: 0.9257 - session_pred_loss: 0.1827 - window_pred_accuracy: 0.9261 - val_window_pred_loss: 2.4427 - val_loss: 4.7173 - val_session_pred_accuracy: 0.6341 - val_session_pred_loss: 2.2746 - val_window_pred_accuracy: 0.5966\n",
      "Epoch 38/40\n",
      "13/13 [==============================] - 22s 2s/step - window_pred_loss: 0.1738 - loss: 0.3505 - session_pred_accuracy: 0.9274 - session_pred_loss: 0.1767 - window_pred_accuracy: 0.9287 - val_window_pred_loss: 2.1529 - val_loss: 4.1801 - val_session_pred_accuracy: 0.7319 - val_session_pred_loss: 2.0271 - val_window_pred_accuracy: 0.6957\n",
      "Epoch 39/40\n",
      "13/13 [==============================] - 20s 2s/step - window_pred_loss: 0.1628 - loss: 0.3279 - session_pred_accuracy: 0.9306 - session_pred_loss: 0.1652 - window_pred_accuracy: 0.9343 - val_window_pred_loss: 2.3232 - val_loss: 4.5462 - val_session_pred_accuracy: 0.7138 - val_session_pred_loss: 2.2229 - val_window_pred_accuracy: 0.7082\n",
      "Epoch 40/40\n",
      "13/13 [==============================] - 21s 2s/step - window_pred_loss: 0.1786 - loss: 0.3574 - session_pred_accuracy: 0.9298 - session_pred_loss: 0.1789 - window_pred_accuracy: 0.9292 - val_window_pred_loss: 2.0815 - val_loss: 4.0638 - val_session_pred_accuracy: 0.7391 - val_session_pred_loss: 1.9823 - val_window_pred_accuracy: 0.7408\n"
     ]
    },
    {
     "data": {
      "text/plain": [
       "<tensorflow.python.keras.callbacks.History at 0x7f98b813ae80>"
      ]
     },
     "execution_count": 19,
     "metadata": {},
     "output_type": "execute_result"
    }
   ],
   "source": [
    "model.fit(X_train, [y_train_mid, y_train], batch_size=len(device_list) * 64, epochs=40, validation_split=0.1, use_multiprocessing=True)"
   ]
  },
  {
   "cell_type": "code",
   "execution_count": 20,
   "metadata": {},
   "outputs": [],
   "source": [
    "pred_mid, pred_sess = model.predict(X_test, batch_size=len(device_list) * 64)"
   ]
  },
  {
   "cell_type": "code",
   "execution_count": null,
   "metadata": {},
   "outputs": [],
   "source": [
    "# labels_map = {1:'lying',2:'sitting',3:'standing',4:'walking',5:'running',6:'cycling',7:'Nordic walking',\n",
    "#               11:'ascending stairs',12:'descending stairs',13:'vacuum cleaning',\n",
    "#               14:'ironing', 18:'rope jumping'}\n",
    "# class_names = list(labels_map.values())"
   ]
  },
  {
   "cell_type": "code",
   "execution_count": 21,
   "metadata": {},
   "outputs": [
    {
     "name": "stdout",
     "output_type": "stream",
     "text": [
      "              precision    recall  f1-score   support\n",
      "\n",
      "           0       0.96      0.73      0.83       154\n",
      "           1       0.81      0.97      0.88       180\n",
      "\n",
      "    accuracy                           0.86       334\n",
      "   macro avg       0.88      0.85      0.86       334\n",
      "weighted avg       0.88      0.86      0.86       334\n",
      "\n"
     ]
    }
   ],
   "source": [
    "print(classification_report(np.argmax(y_test, axis=1), np.argmax(pred_sess, axis=1)))"
   ]
  },
  {
   "cell_type": "code",
   "execution_count": 43,
   "metadata": {},
   "outputs": [],
   "source": [
    "# import json\n",
    "# import os\n",
    "# activity_map = json.load(open(os.path.join('..','data', 'activity_maps', 'pamap2_activity.json')))"
   ]
  },
  {
   "cell_type": "code",
   "execution_count": 22,
   "metadata": {},
   "outputs": [],
   "source": [
    "# activity_map"
   ]
  },
  {
   "cell_type": "code",
   "execution_count": 23,
   "metadata": {},
   "outputs": [
    {
     "ename": "NameError",
     "evalue": "name 'activity_map' is not defined",
     "output_type": "error",
     "traceback": [
      "\u001b[0;31m---------------------------------------------------------------------------\u001b[0m",
      "\u001b[0;31mNameError\u001b[0m                                 Traceback (most recent call last)",
      "\u001b[0;32m<ipython-input-23-02cfc33325f7>\u001b[0m in \u001b[0;36m<module>\u001b[0;34m\u001b[0m\n\u001b[1;32m      1\u001b[0m \u001b[0mconfm\u001b[0m \u001b[0;34m=\u001b[0m \u001b[0mconfusion_matrix\u001b[0m\u001b[0;34m(\u001b[0m\u001b[0mnp\u001b[0m\u001b[0;34m.\u001b[0m\u001b[0margmax\u001b[0m\u001b[0;34m(\u001b[0m\u001b[0my_test\u001b[0m\u001b[0;34m,\u001b[0m \u001b[0maxis\u001b[0m\u001b[0;34m=\u001b[0m\u001b[0;36m1\u001b[0m\u001b[0;34m)\u001b[0m\u001b[0;34m,\u001b[0m \u001b[0mnp\u001b[0m\u001b[0;34m.\u001b[0m\u001b[0margmax\u001b[0m\u001b[0;34m(\u001b[0m\u001b[0mpred_sess\u001b[0m\u001b[0;34m,\u001b[0m \u001b[0maxis\u001b[0m\u001b[0;34m=\u001b[0m\u001b[0;36m1\u001b[0m\u001b[0;34m)\u001b[0m\u001b[0;34m)\u001b[0m\u001b[0;34m\u001b[0m\u001b[0;34m\u001b[0m\u001b[0m\n\u001b[0;32m----> 2\u001b[0;31m \u001b[0mactivity_list\u001b[0m \u001b[0;34m=\u001b[0m \u001b[0mlist\u001b[0m\u001b[0;34m(\u001b[0m\u001b[0mactivity_map\u001b[0m\u001b[0;34m.\u001b[0m\u001b[0mvalues\u001b[0m\u001b[0;34m(\u001b[0m\u001b[0;34m)\u001b[0m\u001b[0;34m)\u001b[0m\u001b[0;34m\u001b[0m\u001b[0;34m\u001b[0m\u001b[0m\n\u001b[0m\u001b[1;32m      3\u001b[0m \u001b[0mdf_cm\u001b[0m \u001b[0;34m=\u001b[0m \u001b[0mpd\u001b[0m\u001b[0;34m.\u001b[0m\u001b[0mDataFrame\u001b[0m\u001b[0;34m(\u001b[0m\u001b[0mconfm\u001b[0m\u001b[0;34m,\u001b[0m \u001b[0mindex\u001b[0m\u001b[0;34m=\u001b[0m\u001b[0mactivity_list\u001b[0m\u001b[0;34m,\u001b[0m \u001b[0mcolumns\u001b[0m\u001b[0;34m=\u001b[0m\u001b[0mactivity_list\u001b[0m\u001b[0;34m)\u001b[0m\u001b[0;34m\u001b[0m\u001b[0;34m\u001b[0m\u001b[0m\n\u001b[1;32m      4\u001b[0m \u001b[0mplt\u001b[0m\u001b[0;34m.\u001b[0m\u001b[0mfigure\u001b[0m\u001b[0;34m(\u001b[0m\u001b[0mfigsize\u001b[0m \u001b[0;34m=\u001b[0m \u001b[0;34m(\u001b[0m\u001b[0;36m10\u001b[0m\u001b[0;34m,\u001b[0m\u001b[0;36m8\u001b[0m\u001b[0;34m)\u001b[0m\u001b[0;34m)\u001b[0m\u001b[0;34m\u001b[0m\u001b[0;34m\u001b[0m\u001b[0m\n\u001b[1;32m      5\u001b[0m \u001b[0msns\u001b[0m\u001b[0;34m.\u001b[0m\u001b[0mheatmap\u001b[0m\u001b[0;34m(\u001b[0m\u001b[0mdf_cm\u001b[0m\u001b[0;34m,\u001b[0m \u001b[0mannot\u001b[0m\u001b[0;34m=\u001b[0m\u001b[0;32mTrue\u001b[0m\u001b[0;34m,\u001b[0m \u001b[0mfmt\u001b[0m\u001b[0;34m=\u001b[0m\u001b[0;34m'd'\u001b[0m\u001b[0;34m,\u001b[0m \u001b[0mcmap\u001b[0m\u001b[0;34m=\u001b[0m\u001b[0;34m\"YlGnBu\"\u001b[0m\u001b[0;34m)\u001b[0m\u001b[0;34m\u001b[0m\u001b[0;34m\u001b[0m\u001b[0m\n",
      "\u001b[0;31mNameError\u001b[0m: name 'activity_map' is not defined"
     ]
    }
   ],
   "source": [
    "confm = confusion_matrix(np.argmax(y_test, axis=1), np.argmax(pred_sess, axis=1))\n",
    "activity_list = list(activity_map.values())\n",
    "df_cm = pd.DataFrame(confm, index=activity_list, columns=activity_list)\n",
    "plt.figure(figsize = (10,8))\n",
    "sns.heatmap(df_cm, annot=True, fmt='d', cmap=\"YlGnBu\")"
   ]
  },
  {
   "cell_type": "code",
   "execution_count": 26,
   "metadata": {},
   "outputs": [
    {
     "ename": "ValueError",
     "evalue": "Found input variables with inconsistent numbers of samples: [3340, 5010]",
     "output_type": "error",
     "traceback": [
      "\u001b[0;31m---------------------------------------------------------------------------\u001b[0m",
      "\u001b[0;31mValueError\u001b[0m                                Traceback (most recent call last)",
      "\u001b[0;32m<ipython-input-26-8e3a8bd915a3>\u001b[0m in \u001b[0;36m<module>\u001b[0;34m\u001b[0m\n\u001b[0;32m----> 1\u001b[0;31m \u001b[0mprint\u001b[0m\u001b[0;34m(\u001b[0m\u001b[0mclassification_report\u001b[0m\u001b[0;34m(\u001b[0m\u001b[0mnp\u001b[0m\u001b[0;34m.\u001b[0m\u001b[0margmax\u001b[0m\u001b[0;34m(\u001b[0m\u001b[0my_test_mid\u001b[0m\u001b[0;34m.\u001b[0m\u001b[0mreshape\u001b[0m\u001b[0;34m(\u001b[0m\u001b[0;34m-\u001b[0m\u001b[0;36m1\u001b[0m\u001b[0;34m,\u001b[0m \u001b[0;36m3\u001b[0m\u001b[0;34m)\u001b[0m\u001b[0;34m,\u001b[0m \u001b[0maxis\u001b[0m\u001b[0;34m=\u001b[0m\u001b[0;36m1\u001b[0m\u001b[0;34m)\u001b[0m\u001b[0;34m,\u001b[0m \u001b[0mnp\u001b[0m\u001b[0;34m.\u001b[0m\u001b[0margmax\u001b[0m\u001b[0;34m(\u001b[0m\u001b[0mpred_mid\u001b[0m\u001b[0;34m.\u001b[0m\u001b[0mreshape\u001b[0m\u001b[0;34m(\u001b[0m\u001b[0;34m-\u001b[0m\u001b[0;36m1\u001b[0m\u001b[0;34m,\u001b[0m \u001b[0;36m3\u001b[0m\u001b[0;34m)\u001b[0m\u001b[0;34m,\u001b[0m \u001b[0maxis\u001b[0m\u001b[0;34m=\u001b[0m\u001b[0;36m1\u001b[0m\u001b[0;34m)\u001b[0m\u001b[0;34m)\u001b[0m\u001b[0;34m)\u001b[0m\u001b[0;34m\u001b[0m\u001b[0;34m\u001b[0m\u001b[0m\n\u001b[0m",
      "\u001b[0;32m~/miniconda3/envs/tf2/lib/python3.8/site-packages/sklearn/utils/validation.py\u001b[0m in \u001b[0;36minner_f\u001b[0;34m(*args, **kwargs)\u001b[0m\n\u001b[1;32m     70\u001b[0m                           FutureWarning)\n\u001b[1;32m     71\u001b[0m         \u001b[0mkwargs\u001b[0m\u001b[0;34m.\u001b[0m\u001b[0mupdate\u001b[0m\u001b[0;34m(\u001b[0m\u001b[0;34m{\u001b[0m\u001b[0mk\u001b[0m\u001b[0;34m:\u001b[0m \u001b[0marg\u001b[0m \u001b[0;32mfor\u001b[0m \u001b[0mk\u001b[0m\u001b[0;34m,\u001b[0m \u001b[0marg\u001b[0m \u001b[0;32min\u001b[0m \u001b[0mzip\u001b[0m\u001b[0;34m(\u001b[0m\u001b[0msig\u001b[0m\u001b[0;34m.\u001b[0m\u001b[0mparameters\u001b[0m\u001b[0;34m,\u001b[0m \u001b[0margs\u001b[0m\u001b[0;34m)\u001b[0m\u001b[0;34m}\u001b[0m\u001b[0;34m)\u001b[0m\u001b[0;34m\u001b[0m\u001b[0;34m\u001b[0m\u001b[0m\n\u001b[0;32m---> 72\u001b[0;31m         \u001b[0;32mreturn\u001b[0m \u001b[0mf\u001b[0m\u001b[0;34m(\u001b[0m\u001b[0;34m**\u001b[0m\u001b[0mkwargs\u001b[0m\u001b[0;34m)\u001b[0m\u001b[0;34m\u001b[0m\u001b[0;34m\u001b[0m\u001b[0m\n\u001b[0m\u001b[1;32m     73\u001b[0m     \u001b[0;32mreturn\u001b[0m \u001b[0minner_f\u001b[0m\u001b[0;34m\u001b[0m\u001b[0;34m\u001b[0m\u001b[0m\n\u001b[1;32m     74\u001b[0m \u001b[0;34m\u001b[0m\u001b[0m\n",
      "\u001b[0;32m~/miniconda3/envs/tf2/lib/python3.8/site-packages/sklearn/metrics/_classification.py\u001b[0m in \u001b[0;36mclassification_report\u001b[0;34m(y_true, y_pred, labels, target_names, sample_weight, digits, output_dict, zero_division)\u001b[0m\n\u001b[1;32m   1927\u001b[0m     \"\"\"\n\u001b[1;32m   1928\u001b[0m \u001b[0;34m\u001b[0m\u001b[0m\n\u001b[0;32m-> 1929\u001b[0;31m     \u001b[0my_type\u001b[0m\u001b[0;34m,\u001b[0m \u001b[0my_true\u001b[0m\u001b[0;34m,\u001b[0m \u001b[0my_pred\u001b[0m \u001b[0;34m=\u001b[0m \u001b[0m_check_targets\u001b[0m\u001b[0;34m(\u001b[0m\u001b[0my_true\u001b[0m\u001b[0;34m,\u001b[0m \u001b[0my_pred\u001b[0m\u001b[0;34m)\u001b[0m\u001b[0;34m\u001b[0m\u001b[0;34m\u001b[0m\u001b[0m\n\u001b[0m\u001b[1;32m   1930\u001b[0m \u001b[0;34m\u001b[0m\u001b[0m\n\u001b[1;32m   1931\u001b[0m     \u001b[0mlabels_given\u001b[0m \u001b[0;34m=\u001b[0m \u001b[0;32mTrue\u001b[0m\u001b[0;34m\u001b[0m\u001b[0;34m\u001b[0m\u001b[0m\n",
      "\u001b[0;32m~/miniconda3/envs/tf2/lib/python3.8/site-packages/sklearn/metrics/_classification.py\u001b[0m in \u001b[0;36m_check_targets\u001b[0;34m(y_true, y_pred)\u001b[0m\n\u001b[1;32m     79\u001b[0m     \u001b[0my_pred\u001b[0m \u001b[0;34m:\u001b[0m \u001b[0marray\u001b[0m \u001b[0;32mor\u001b[0m \u001b[0mindicator\u001b[0m \u001b[0mmatrix\u001b[0m\u001b[0;34m\u001b[0m\u001b[0;34m\u001b[0m\u001b[0m\n\u001b[1;32m     80\u001b[0m     \"\"\"\n\u001b[0;32m---> 81\u001b[0;31m     \u001b[0mcheck_consistent_length\u001b[0m\u001b[0;34m(\u001b[0m\u001b[0my_true\u001b[0m\u001b[0;34m,\u001b[0m \u001b[0my_pred\u001b[0m\u001b[0;34m)\u001b[0m\u001b[0;34m\u001b[0m\u001b[0;34m\u001b[0m\u001b[0m\n\u001b[0m\u001b[1;32m     82\u001b[0m     \u001b[0mtype_true\u001b[0m \u001b[0;34m=\u001b[0m \u001b[0mtype_of_target\u001b[0m\u001b[0;34m(\u001b[0m\u001b[0my_true\u001b[0m\u001b[0;34m)\u001b[0m\u001b[0;34m\u001b[0m\u001b[0;34m\u001b[0m\u001b[0m\n\u001b[1;32m     83\u001b[0m     \u001b[0mtype_pred\u001b[0m \u001b[0;34m=\u001b[0m \u001b[0mtype_of_target\u001b[0m\u001b[0;34m(\u001b[0m\u001b[0my_pred\u001b[0m\u001b[0;34m)\u001b[0m\u001b[0;34m\u001b[0m\u001b[0;34m\u001b[0m\u001b[0m\n",
      "\u001b[0;32m~/miniconda3/envs/tf2/lib/python3.8/site-packages/sklearn/utils/validation.py\u001b[0m in \u001b[0;36mcheck_consistent_length\u001b[0;34m(*arrays)\u001b[0m\n\u001b[1;32m    253\u001b[0m     \u001b[0muniques\u001b[0m \u001b[0;34m=\u001b[0m \u001b[0mnp\u001b[0m\u001b[0;34m.\u001b[0m\u001b[0munique\u001b[0m\u001b[0;34m(\u001b[0m\u001b[0mlengths\u001b[0m\u001b[0;34m)\u001b[0m\u001b[0;34m\u001b[0m\u001b[0;34m\u001b[0m\u001b[0m\n\u001b[1;32m    254\u001b[0m     \u001b[0;32mif\u001b[0m \u001b[0mlen\u001b[0m\u001b[0;34m(\u001b[0m\u001b[0muniques\u001b[0m\u001b[0;34m)\u001b[0m \u001b[0;34m>\u001b[0m \u001b[0;36m1\u001b[0m\u001b[0;34m:\u001b[0m\u001b[0;34m\u001b[0m\u001b[0;34m\u001b[0m\u001b[0m\n\u001b[0;32m--> 255\u001b[0;31m         raise ValueError(\"Found input variables with inconsistent numbers of\"\n\u001b[0m\u001b[1;32m    256\u001b[0m                          \" samples: %r\" % [int(l) for l in lengths])\n\u001b[1;32m    257\u001b[0m \u001b[0;34m\u001b[0m\u001b[0m\n",
      "\u001b[0;31mValueError\u001b[0m: Found input variables with inconsistent numbers of samples: [3340, 5010]"
     ]
    }
   ],
   "source": [
    "print(classification_report(np.argmax(y_test_mid.reshape(-1, 3), axis=1), np.argmax(pred_mid.reshape(-1, 3), axis=1)))"
   ]
  },
  {
   "cell_type": "code",
   "execution_count": null,
   "metadata": {},
   "outputs": [],
   "source": []
  },
  {
   "cell_type": "code",
   "execution_count": 19,
   "metadata": {},
   "outputs": [],
   "source": [
    "mid_activity_opp = ['Other', 'Open Door 1', 'Open Door 2', 'Close Door 1',\n",
    "                    'Close Door 2', 'Open Fridge', 'Close Fridge', \n",
    "                    'Open Dishwasher', 'Close Dishwasher', 'Open Drawer 1', \n",
    "                    'Close Drawer 1', 'Open Drawer 2', 'Close Drawer 2', \n",
    "                    'Open Drawer 3', 'Close Drawer 3', 'Clean Table', \n",
    "                    'Drink from Cup', 'Toggle Switch']"
   ]
  },
  {
   "cell_type": "code",
   "execution_count": null,
   "metadata": {},
   "outputs": [],
   "source": []
  }
 ],
 "metadata": {
  "kernelspec": {
   "display_name": "Python 3",
   "language": "python",
   "name": "python3"
  },
  "language_info": {
   "codemirror_mode": {
    "name": "ipython",
    "version": 3
   },
   "file_extension": ".py",
   "mimetype": "text/x-python",
   "name": "python",
   "nbconvert_exporter": "python",
   "pygments_lexer": "ipython3",
   "version": "3.8.5"
  }
 },
 "nbformat": 4,
 "nbformat_minor": 4
}
