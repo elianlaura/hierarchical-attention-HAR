{
 "cells": [
  {
   "cell_type": "code",
   "execution_count": 1,
   "metadata": {},
   "outputs": [],
   "source": [
    "import tensorflow as tf\n",
    "import numpy as np\n",
    "import pandas as pd\n",
    "from sklearn.metrics import classification_report, confusion_matrix\n",
    "import seaborn as sns\n",
    "import matplotlib.pyplot as plt\n",
    "import sys\n",
    "import yaml\n",
    "\n",
    "sys.path.append(\"../\")\n",
    "\n",
    "%load_ext autoreload\n",
    "%autoreload 2"
   ]
  },
  {
   "cell_type": "code",
   "execution_count": 2,
   "metadata": {},
   "outputs": [],
   "source": [
    "from sklearn.preprocessing import StandardScaler\n",
    "from preprocessing.sliding_window import create_windowed_dataset"
   ]
  },
  {
   "cell_type": "markdown",
   "metadata": {},
   "source": [
    "### Data loading"
   ]
  },
  {
   "cell_type": "code",
   "execution_count": 3,
   "metadata": {},
   "outputs": [],
   "source": [
    "data_path = '/home/hariub/data/HAR/processed/clean_daphnet_data.csv'\n",
    "df = pd.read_csv(data_path)"
   ]
  },
  {
   "cell_type": "code",
   "execution_count": 4,
   "metadata": {},
   "outputs": [
    {
     "data": {
      "text/html": [
       "<div>\n",
       "<style scoped>\n",
       "    .dataframe tbody tr th:only-of-type {\n",
       "        vertical-align: middle;\n",
       "    }\n",
       "\n",
       "    .dataframe tbody tr th {\n",
       "        vertical-align: top;\n",
       "    }\n",
       "\n",
       "    .dataframe thead th {\n",
       "        text-align: right;\n",
       "    }\n",
       "</style>\n",
       "<table border=\"1\" class=\"dataframe\">\n",
       "  <thead>\n",
       "    <tr style=\"text-align: right;\">\n",
       "      <th></th>\n",
       "      <th>Time</th>\n",
       "      <th>Ankle_acc_x</th>\n",
       "      <th>Ankle_acc_y</th>\n",
       "      <th>Ankle_acc_z</th>\n",
       "      <th>Thigh_acc_x</th>\n",
       "      <th>Thigh_acc_y</th>\n",
       "      <th>Thigh_acc_z</th>\n",
       "      <th>Trunk_acc_x</th>\n",
       "      <th>Trunk_acc_y</th>\n",
       "      <th>Trunk_acc_z</th>\n",
       "      <th>Label</th>\n",
       "      <th>Subject</th>\n",
       "      <th>Run</th>\n",
       "    </tr>\n",
       "  </thead>\n",
       "  <tbody>\n",
       "    <tr>\n",
       "      <th>0</th>\n",
       "      <td>15.0</td>\n",
       "      <td>70.0</td>\n",
       "      <td>39.0</td>\n",
       "      <td>-970.0</td>\n",
       "      <td>0.0</td>\n",
       "      <td>0.0</td>\n",
       "      <td>0.0</td>\n",
       "      <td>0.0</td>\n",
       "      <td>0.0</td>\n",
       "      <td>0.0</td>\n",
       "      <td>0.0</td>\n",
       "      <td>1</td>\n",
       "      <td>1</td>\n",
       "    </tr>\n",
       "    <tr>\n",
       "      <th>1</th>\n",
       "      <td>31.0</td>\n",
       "      <td>70.0</td>\n",
       "      <td>39.0</td>\n",
       "      <td>-970.0</td>\n",
       "      <td>0.0</td>\n",
       "      <td>0.0</td>\n",
       "      <td>0.0</td>\n",
       "      <td>0.0</td>\n",
       "      <td>0.0</td>\n",
       "      <td>0.0</td>\n",
       "      <td>0.0</td>\n",
       "      <td>1</td>\n",
       "      <td>1</td>\n",
       "    </tr>\n",
       "    <tr>\n",
       "      <th>2</th>\n",
       "      <td>46.0</td>\n",
       "      <td>60.0</td>\n",
       "      <td>49.0</td>\n",
       "      <td>-960.0</td>\n",
       "      <td>0.0</td>\n",
       "      <td>0.0</td>\n",
       "      <td>0.0</td>\n",
       "      <td>0.0</td>\n",
       "      <td>0.0</td>\n",
       "      <td>0.0</td>\n",
       "      <td>0.0</td>\n",
       "      <td>1</td>\n",
       "      <td>1</td>\n",
       "    </tr>\n",
       "    <tr>\n",
       "      <th>3</th>\n",
       "      <td>62.0</td>\n",
       "      <td>60.0</td>\n",
       "      <td>49.0</td>\n",
       "      <td>-960.0</td>\n",
       "      <td>0.0</td>\n",
       "      <td>0.0</td>\n",
       "      <td>0.0</td>\n",
       "      <td>0.0</td>\n",
       "      <td>0.0</td>\n",
       "      <td>0.0</td>\n",
       "      <td>0.0</td>\n",
       "      <td>1</td>\n",
       "      <td>1</td>\n",
       "    </tr>\n",
       "    <tr>\n",
       "      <th>4</th>\n",
       "      <td>78.0</td>\n",
       "      <td>50.0</td>\n",
       "      <td>39.0</td>\n",
       "      <td>-960.0</td>\n",
       "      <td>0.0</td>\n",
       "      <td>0.0</td>\n",
       "      <td>0.0</td>\n",
       "      <td>0.0</td>\n",
       "      <td>0.0</td>\n",
       "      <td>0.0</td>\n",
       "      <td>0.0</td>\n",
       "      <td>1</td>\n",
       "      <td>1</td>\n",
       "    </tr>\n",
       "  </tbody>\n",
       "</table>\n",
       "</div>"
      ],
      "text/plain": [
       "   Time  Ankle_acc_x  Ankle_acc_y  Ankle_acc_z  Thigh_acc_x  Thigh_acc_y  \\\n",
       "0  15.0         70.0         39.0       -970.0          0.0          0.0   \n",
       "1  31.0         70.0         39.0       -970.0          0.0          0.0   \n",
       "2  46.0         60.0         49.0       -960.0          0.0          0.0   \n",
       "3  62.0         60.0         49.0       -960.0          0.0          0.0   \n",
       "4  78.0         50.0         39.0       -960.0          0.0          0.0   \n",
       "\n",
       "   Thigh_acc_z  Trunk_acc_x  Trunk_acc_y  Trunk_acc_z  Label  Subject  Run  \n",
       "0          0.0          0.0          0.0          0.0    0.0        1    1  \n",
       "1          0.0          0.0          0.0          0.0    0.0        1    1  \n",
       "2          0.0          0.0          0.0          0.0    0.0        1    1  \n",
       "3          0.0          0.0          0.0          0.0    0.0        1    1  \n",
       "4          0.0          0.0          0.0          0.0    0.0        1    1  "
      ]
     },
     "execution_count": 4,
     "metadata": {},
     "output_type": "execute_result"
    }
   ],
   "source": [
    "df.head()"
   ]
  },
  {
   "cell_type": "code",
   "execution_count": 5,
   "metadata": {},
   "outputs": [],
   "source": [
    "FEATURES = ['Ankle_acc_x', 'Ankle_acc_y', 'Ankle_acc_z', 'Thigh_acc_x','Thigh_acc_y', 'Thigh_acc_z', 'Trunk_acc_x', 'Trunk_acc_y','Trunk_acc_z']\n",
    "LABEL = ['Label']"
   ]
  },
  {
   "cell_type": "code",
   "execution_count": 6,
   "metadata": {},
   "outputs": [],
   "source": [
    "df = df.fillna(0)\n",
    "scaler = StandardScaler()\n",
    "df[FEATURES] = scaler.fit_transform(df[FEATURES])"
   ]
  },
  {
   "cell_type": "code",
   "execution_count": 7,
   "metadata": {},
   "outputs": [],
   "source": [
    "hyperparameters = yaml.load(open('../configs/metadata.yaml', mode='r'), Loader=yaml.FullLoader)\n",
    "\n",
    "metadata = yaml.load(open('../configs/metadata.yaml', mode='r'), Loader=yaml.FullLoader)['daphnet_preprocess']"
   ]
  },
  {
   "cell_type": "code",
   "execution_count": 8,
   "metadata": {},
   "outputs": [],
   "source": [
    "# metadata_file"
   ]
  },
  {
   "cell_type": "code",
   "execution_count": null,
   "metadata": {},
   "outputs": [],
   "source": []
  },
  {
   "cell_type": "code",
   "execution_count": 9,
   "metadata": {},
   "outputs": [],
   "source": [
    "train_df = df[(df['Subject'] != 2) & (df['Subject'] != 9)]\n",
    "test_df = df[df['Subject'] == 2]\n",
    "val_df = df[df['Subject'] == 9]\n",
    "\n",
    "SLIDING_WINDOW_LENGTH = metadata['sliding_win_len']\n",
    "SLIDING_WINDOW_STEP = metadata['sliding_win_stride']\n",
    "N_WINDOW, N_TIMESTEP = metadata['n_window'], metadata['n_timestep']\n",
    "\n",
    "# FEATURES = metadata['feature_list']\n",
    "\n",
    "X_train, y_train = create_windowed_dataset(\n",
    "    train_df, FEATURES, 'Label', window_size=SLIDING_WINDOW_LENGTH, stride=SLIDING_WINDOW_STEP)\n",
    "X_val, y_val = create_windowed_dataset(\n",
    "    val_df, FEATURES, 'Label', window_size=SLIDING_WINDOW_LENGTH, stride=SLIDING_WINDOW_STEP)\n",
    "X_test, y_test = create_windowed_dataset(\n",
    "    test_df, FEATURES, 'Label', window_size=SLIDING_WINDOW_LENGTH, stride=SLIDING_WINDOW_STEP)\n",
    "\n",
    "X_train = X_train.reshape(\n",
    "    (X_train.shape[0], N_WINDOW, N_TIMESTEP, len(FEATURES)))\n",
    "X_val = X_val.reshape(\n",
    "    (X_val.shape[0], N_WINDOW, N_TIMESTEP, len(FEATURES)))\n",
    "X_test = X_test.reshape(\n",
    "    (X_test.shape[0], N_WINDOW, N_TIMESTEP, len(FEATURES)))\n",
    "\n",
    "y_train = tf.keras.utils.to_categorical(y_train, num_classes=3)\n",
    "y_val = tf.keras.utils.to_categorical(y_val, num_classes=3)\n",
    "y_test = tf.keras.utils.to_categorical(y_test, num_classes=3)"
   ]
  },
  {
   "cell_type": "code",
   "execution_count": 10,
   "metadata": {},
   "outputs": [
    {
     "data": {
      "text/plain": [
       "(2594, 15, 100, 9)"
      ]
     },
     "execution_count": 10,
     "metadata": {},
     "output_type": "execute_result"
    }
   ],
   "source": [
    "X_train.shape"
   ]
  },
  {
   "cell_type": "code",
   "execution_count": 11,
   "metadata": {},
   "outputs": [
    {
     "data": {
      "text/plain": [
       "(2594, 3)"
      ]
     },
     "execution_count": 11,
     "metadata": {},
     "output_type": "execute_result"
    }
   ],
   "source": [
    "y_train.shape"
   ]
  },
  {
   "cell_type": "code",
   "execution_count": 12,
   "metadata": {},
   "outputs": [],
   "source": [
    "# from preprocessing.utils import get_train_test_data\n",
    "from model.hierarchical_self_attention_model import HSA_model_session_guided_window"
   ]
  },
  {
   "cell_type": "code",
   "execution_count": 13,
   "metadata": {},
   "outputs": [],
   "source": [
    "# (X_train, y_train), (X_test, y_test) = get_train_test_data(dataset='pamap2', holdout=False)"
   ]
  },
  {
   "cell_type": "code",
   "execution_count": 14,
   "metadata": {},
   "outputs": [
    {
     "name": "stdout",
     "output_type": "stream",
     "text": [
      "(2594, 15, 100, 9)\n",
      "(2594, 3)\n"
     ]
    }
   ],
   "source": [
    "print(X_train.shape)\n",
    "print(y_train.shape)"
   ]
  },
  {
   "cell_type": "code",
   "execution_count": 15,
   "metadata": {},
   "outputs": [],
   "source": [
    "# mid_labels = np.repeat(np.expand_dims(y_train, axis=1), repeats=15, axis=1)"
   ]
  },
  {
   "cell_type": "code",
   "execution_count": 16,
   "metadata": {},
   "outputs": [],
   "source": [
    "# mid_labels[0]"
   ]
  },
  {
   "cell_type": "code",
   "execution_count": 17,
   "metadata": {},
   "outputs": [],
   "source": [
    "y_train_mid = np.repeat(np.expand_dims(y_train, axis=1), repeats=15, axis=1)\n",
    "y_val_mid = np.repeat(np.expand_dims(y_val, axis=1), repeats=15, axis=1)\n",
    "y_test_mid = np.repeat(np.expand_dims(y_test, axis=1), repeats=15, axis=1)"
   ]
  },
  {
   "cell_type": "code",
   "execution_count": 18,
   "metadata": {},
   "outputs": [
    {
     "data": {
      "text/plain": [
       "(2594, 15, 3)"
      ]
     },
     "execution_count": 18,
     "metadata": {},
     "output_type": "execute_result"
    }
   ],
   "source": [
    "y_train_mid.shape"
   ]
  },
  {
   "cell_type": "code",
   "execution_count": 19,
   "metadata": {},
   "outputs": [],
   "source": [
    "hparam_file = open('../configs/hyperparameters.yaml', mode='r')\n",
    "hyperparameters = yaml.load(hparam_file, Loader=yaml.FullLoader)\n",
    "hparams = hyperparameters['HSA_model']\n",
    "hparams['modality_indices'] = hparams['modality_indices']['daphnet']\n",
    "hparams['n_window'], hparams['n_timesteps'], hparams['n_features'], hparams['n_outputs'] = X_train.shape[1], X_train.shape[2], X_train.shape[3], y_train.shape[1]\n",
    "hparams['n_outputs_window']=3"
   ]
  },
  {
   "cell_type": "markdown",
   "metadata": {},
   "source": [
    "## Training"
   ]
  },
  {
   "cell_type": "code",
   "execution_count": 33,
   "metadata": {},
   "outputs": [
    {
     "name": "stdout",
     "output_type": "stream",
     "text": [
      "8 Physical GPUs, 8 Logical GPUs\n",
      "INFO:tensorflow:Using MirroredStrategy with devices ('/job:localhost/replica:0/task:0/device:GPU:5', '/job:localhost/replica:0/task:0/device:GPU:6', '/job:localhost/replica:0/task:0/device:GPU:7')\n",
      "Number of devices: 3\n"
     ]
    }
   ],
   "source": [
    "tf.keras.backend.clear_session()\n",
    "gpus = tf.config.experimental.list_physical_devices('GPU')\n",
    "if gpus:\n",
    "  try:\n",
    "    # Currently, memory growth needs to be the same across GPUs\n",
    "    for gpu in gpus:\n",
    "      tf.config.experimental.set_memory_growth(gpu, True)\n",
    "    logical_gpus = tf.config.experimental.list_logical_devices('GPU')\n",
    "    print(len(gpus), \"Physical GPUs,\", len(logical_gpus), \"Logical GPUs\")\n",
    "  except RuntimeError as e:\n",
    "    # Memory growth must be set before GPUs have been initialized\n",
    "    print(e)\n",
    "    \n",
    "device_list = ['/gpu:'+str(i) for i in range(5, 8)]\n",
    "strategy = tf.distribute.MirroredStrategy(devices=device_list)\n",
    "print('Number of devices: {}'.format(strategy.num_replicas_in_sync))\n",
    "with strategy.scope():\n",
    "    model = HSA_model_session_guided_window(**hyperparameters['HSA_model']).get_compiled_model()"
   ]
  },
  {
   "cell_type": "code",
   "execution_count": 34,
   "metadata": {},
   "outputs": [
    {
     "name": "stdout",
     "output_type": "stream",
     "text": [
      "Model: \"model_1\"\n",
      "__________________________________________________________________________________________________\n",
      "Layer (type)                    Output Shape         Param #     Connected to                     \n",
      "==================================================================================================\n",
      "input_1 (InputLayer)            [(None, 15, 100, 9)] 0                                            \n",
      "__________________________________________________________________________________________________\n",
      "multi_window_encoder (MultiWind ((None, None, 64), ( 350144      input_1[0][0]                    \n",
      "__________________________________________________________________________________________________\n",
      "modality_encoder_block_3 (Modal (None, None, 64)     104000      multi_window_encoder[0][0]       \n",
      "__________________________________________________________________________________________________\n",
      "combined_sensor_self_attention_ ((None, 64), (None,  49856       modality_encoder_block_3[0][0]   \n",
      "__________________________________________________________________________________________________\n",
      "tf_op_layer_Shape (TensorFlowOp [(2,)]               0           combined_sensor_self_attention_1[\n",
      "__________________________________________________________________________________________________\n",
      "tf_op_layer_ExpandDims (TensorF [(None, 1, 64)]      0           combined_sensor_self_attention_1[\n",
      "__________________________________________________________________________________________________\n",
      "tf_op_layer_strided_slice_3 (Te [(0,)]               0           tf_op_layer_Shape[0][0]          \n",
      "__________________________________________________________________________________________________\n",
      "tf_op_layer_strided_slice_4 (Te [(1,)]               0           tf_op_layer_Shape[0][0]          \n",
      "__________________________________________________________________________________________________\n",
      "tf_op_layer_Tile (TensorFlowOpL [(None, 15, 64)]     0           tf_op_layer_ExpandDims[0][0]     \n",
      "__________________________________________________________________________________________________\n",
      "tf_op_layer_concat (TensorFlowO [(2,)]               0           tf_op_layer_strided_slice_3[0][0]\n",
      "                                                                 tf_op_layer_strided_slice_4[0][0]\n",
      "__________________________________________________________________________________________________\n",
      "tf_op_layer_Reshape (TensorFlow [(None, 64)]         0           tf_op_layer_Tile[0][0]           \n",
      "                                                                 tf_op_layer_concat[0][0]         \n",
      "__________________________________________________________________________________________________\n",
      "reshape (Reshape)               (None, 15, 64)       0           tf_op_layer_Reshape[0][0]        \n",
      "__________________________________________________________________________________________________\n",
      "concatenate (Concatenate)       (None, 15, 128)      0           multi_window_encoder[0][0]       \n",
      "                                                                 reshape[0][0]                    \n",
      "__________________________________________________________________________________________________\n",
      "window_pred (Dense)             (None, 15, 3)        387         concatenate[0][0]                \n",
      "__________________________________________________________________________________________________\n",
      "session_pred (Dense)            (None, 3)            195         combined_sensor_self_attention_1[\n",
      "==================================================================================================\n",
      "Total params: 504,582\n",
      "Trainable params: 504,582\n",
      "Non-trainable params: 0\n",
      "__________________________________________________________________________________________________\n"
     ]
    }
   ],
   "source": [
    "model.summary()"
   ]
  },
  {
   "cell_type": "code",
   "execution_count": 35,
   "metadata": {},
   "outputs": [
    {
     "name": "stdout",
     "output_type": "stream",
     "text": [
      "Epoch 1/50\n",
      "INFO:tensorflow:batch_all_reduce: 160 all-reduces with algorithm = nccl, num_packs = 1\n",
      "INFO:tensorflow:batch_all_reduce: 160 all-reduces with algorithm = nccl, num_packs = 1\n",
      "14/14 [==============================] - 17s 1s/step - loss: 1.2787 - window_pred_accuracy: 0.7086 - session_pred_loss: 0.6655 - window_pred_loss: 0.6132 - session_pred_accuracy: 0.6712 - val_loss: 1.3404 - val_window_pred_accuracy: 0.6342 - val_session_pred_loss: 0.6262 - val_window_pred_loss: 0.7142 - val_session_pred_accuracy: 0.6111\n",
      "Epoch 2/50\n",
      "14/14 [==============================] - 10s 681ms/step - loss: 0.8292 - window_pred_accuracy: 0.8065 - session_pred_loss: 0.4208 - window_pred_loss: 0.4084 - session_pred_accuracy: 0.8126 - val_loss: 2.4354 - val_window_pred_accuracy: 0.6513 - val_session_pred_loss: 1.3321 - val_window_pred_loss: 1.1033 - val_session_pred_accuracy: 0.6453\n",
      "Epoch 3/50\n",
      "14/14 [==============================] - 10s 680ms/step - loss: 0.7530 - window_pred_accuracy: 0.8162 - session_pred_loss: 0.3782 - window_pred_loss: 0.3748 - session_pred_accuracy: 0.8196 - val_loss: 2.5134 - val_window_pred_accuracy: 0.6342 - val_session_pred_loss: 1.3145 - val_window_pred_loss: 1.1989 - val_session_pred_accuracy: 0.6325\n",
      "Epoch 4/50\n",
      "14/14 [==============================] - 10s 681ms/step - loss: 0.6641 - window_pred_accuracy: 0.8380 - session_pred_loss: 0.3303 - window_pred_loss: 0.3338 - session_pred_accuracy: 0.8362 - val_loss: 3.0733 - val_window_pred_accuracy: 0.5775 - val_session_pred_loss: 1.5921 - val_window_pred_loss: 1.4812 - val_session_pred_accuracy: 0.5726\n",
      "Epoch 5/50\n",
      "14/14 [==============================] - 10s 680ms/step - loss: 0.6574 - window_pred_accuracy: 0.8371 - session_pred_loss: 0.3288 - window_pred_loss: 0.3286 - session_pred_accuracy: 0.8342 - val_loss: 2.9315 - val_window_pred_accuracy: 0.5758 - val_session_pred_loss: 1.4456 - val_window_pred_loss: 1.4859 - val_session_pred_accuracy: 0.5897\n",
      "Epoch 6/50\n",
      "14/14 [==============================] - 10s 680ms/step - loss: 0.6127 - window_pred_accuracy: 0.8467 - session_pred_loss: 0.3042 - window_pred_loss: 0.3086 - session_pred_accuracy: 0.8435 - val_loss: 2.9618 - val_window_pred_accuracy: 0.5792 - val_session_pred_loss: 1.4826 - val_window_pred_loss: 1.4792 - val_session_pred_accuracy: 0.6453\n",
      "Epoch 7/50\n",
      "14/14 [==============================] - 10s 683ms/step - loss: 0.6046 - window_pred_accuracy: 0.8539 - session_pred_loss: 0.3056 - window_pred_loss: 0.2990 - session_pred_accuracy: 0.8443 - val_loss: 1.4199 - val_window_pred_accuracy: 0.6422 - val_session_pred_loss: 0.7181 - val_window_pred_loss: 0.7017 - val_session_pred_accuracy: 0.6453\n",
      "Epoch 8/50\n",
      "14/14 [==============================] - 10s 684ms/step - loss: 0.5285 - window_pred_accuracy: 0.8771 - session_pred_loss: 0.2653 - window_pred_loss: 0.2631 - session_pred_accuracy: 0.8728 - val_loss: 1.1412 - val_window_pred_accuracy: 0.7382 - val_session_pred_loss: 0.5584 - val_window_pred_loss: 0.5828 - val_session_pred_accuracy: 0.8034\n",
      "Epoch 9/50\n",
      "14/14 [==============================] - 10s 682ms/step - loss: 0.5093 - window_pred_accuracy: 0.8866 - session_pred_loss: 0.2568 - window_pred_loss: 0.2525 - session_pred_accuracy: 0.8816 - val_loss: 3.6777 - val_window_pred_accuracy: 0.6066 - val_session_pred_loss: 1.9581 - val_window_pred_loss: 1.7195 - val_session_pred_accuracy: 0.5983\n",
      "Epoch 10/50\n",
      "14/14 [==============================] - 10s 680ms/step - loss: 0.5025 - window_pred_accuracy: 0.8852 - session_pred_loss: 0.2530 - window_pred_loss: 0.2495 - session_pred_accuracy: 0.8851 - val_loss: 4.0830 - val_window_pred_accuracy: 0.6191 - val_session_pred_loss: 2.2124 - val_window_pred_loss: 1.8706 - val_session_pred_accuracy: 0.6239\n",
      "Epoch 11/50\n",
      "14/14 [==============================] - 10s 681ms/step - loss: 0.4857 - window_pred_accuracy: 0.8992 - session_pred_loss: 0.2434 - window_pred_loss: 0.2423 - session_pred_accuracy: 0.9036 - val_loss: 2.3386 - val_window_pred_accuracy: 0.6293 - val_session_pred_loss: 1.2093 - val_window_pred_loss: 1.1294 - val_session_pred_accuracy: 0.6325\n",
      "Epoch 12/50\n",
      "14/14 [==============================] - 10s 681ms/step - loss: 0.4789 - window_pred_accuracy: 0.9006 - session_pred_loss: 0.2425 - window_pred_loss: 0.2364 - session_pred_accuracy: 0.8967 - val_loss: 2.1525 - val_window_pred_accuracy: 0.6450 - val_session_pred_loss: 1.1782 - val_window_pred_loss: 0.9743 - val_session_pred_accuracy: 0.6538\n",
      "Epoch 13/50\n",
      "14/14 [==============================] - 10s 683ms/step - loss: 0.4729 - window_pred_accuracy: 0.8952 - session_pred_loss: 0.2382 - window_pred_loss: 0.2348 - session_pred_accuracy: 0.8951 - val_loss: 4.1307 - val_window_pred_accuracy: 0.6350 - val_session_pred_loss: 2.2219 - val_window_pred_loss: 1.9088 - val_session_pred_accuracy: 0.6368\n",
      "Epoch 14/50\n",
      "14/14 [==============================] - 10s 684ms/step - loss: 0.4328 - window_pred_accuracy: 0.9079 - session_pred_loss: 0.2187 - window_pred_loss: 0.2141 - session_pred_accuracy: 0.9106 - val_loss: 4.2244 - val_window_pred_accuracy: 0.6379 - val_session_pred_loss: 2.1966 - val_window_pred_loss: 2.0279 - val_session_pred_accuracy: 0.6368\n",
      "Epoch 15/50\n",
      "14/14 [==============================] - 10s 682ms/step - loss: 0.4282 - window_pred_accuracy: 0.9069 - session_pred_loss: 0.2148 - window_pred_loss: 0.2135 - session_pred_accuracy: 0.9075 - val_loss: 3.6049 - val_window_pred_accuracy: 0.6382 - val_session_pred_loss: 1.8649 - val_window_pred_loss: 1.7400 - val_session_pred_accuracy: 0.6453\n",
      "Epoch 16/50\n",
      "14/14 [==============================] - 10s 684ms/step - loss: 0.4701 - window_pred_accuracy: 0.8992 - session_pred_loss: 0.2362 - window_pred_loss: 0.2339 - session_pred_accuracy: 0.8986 - val_loss: 4.0723 - val_window_pred_accuracy: 0.6501 - val_session_pred_loss: 2.1559 - val_window_pred_loss: 1.9164 - val_session_pred_accuracy: 0.6581\n",
      "Epoch 17/50\n",
      "14/14 [==============================] - 10s 686ms/step - loss: 0.4364 - window_pred_accuracy: 0.9076 - session_pred_loss: 0.2193 - window_pred_loss: 0.2171 - session_pred_accuracy: 0.9079 - val_loss: 2.4428 - val_window_pred_accuracy: 0.6242 - val_session_pred_loss: 1.2253 - val_window_pred_loss: 1.2175 - val_session_pred_accuracy: 0.6239\n",
      "Epoch 18/50\n",
      "14/14 [==============================] - 10s 682ms/step - loss: 0.4407 - window_pred_accuracy: 0.9067 - session_pred_loss: 0.2217 - window_pred_loss: 0.2190 - session_pred_accuracy: 0.9056 - val_loss: 3.6633 - val_window_pred_accuracy: 0.6208 - val_session_pred_loss: 1.9722 - val_window_pred_loss: 1.6912 - val_session_pred_accuracy: 0.6239\n",
      "Epoch 19/50\n",
      "14/14 [==============================] - 10s 681ms/step - loss: 0.4357 - window_pred_accuracy: 0.9071 - session_pred_loss: 0.2213 - window_pred_loss: 0.2144 - session_pred_accuracy: 0.9009 - val_loss: 3.9712 - val_window_pred_accuracy: 0.6293 - val_session_pred_loss: 2.1676 - val_window_pred_loss: 1.8037 - val_session_pred_accuracy: 0.6239\n",
      "Epoch 20/50\n",
      "14/14 [==============================] - 10s 683ms/step - loss: 0.3779 - window_pred_accuracy: 0.9198 - session_pred_loss: 0.1912 - window_pred_loss: 0.1867 - session_pred_accuracy: 0.9194 - val_loss: 3.1900 - val_window_pred_accuracy: 0.6453 - val_session_pred_loss: 1.6785 - val_window_pred_loss: 1.5115 - val_session_pred_accuracy: 0.6496\n",
      "Epoch 21/50\n",
      "14/14 [==============================] - 10s 682ms/step - loss: 0.3644 - window_pred_accuracy: 0.9225 - session_pred_loss: 0.1834 - window_pred_loss: 0.1810 - session_pred_accuracy: 0.9198 - val_loss: 2.7411 - val_window_pred_accuracy: 0.6538 - val_session_pred_loss: 1.4450 - val_window_pred_loss: 1.2961 - val_session_pred_accuracy: 0.6581\n",
      "Epoch 22/50\n",
      "14/14 [==============================] - 10s 684ms/step - loss: 0.3723 - window_pred_accuracy: 0.9215 - session_pred_loss: 0.1864 - window_pred_loss: 0.1859 - session_pred_accuracy: 0.9229 - val_loss: 2.6832 - val_window_pred_accuracy: 0.5758 - val_session_pred_loss: 1.3718 - val_window_pred_loss: 1.3114 - val_session_pred_accuracy: 0.5812\n",
      "Epoch 23/50\n",
      "14/14 [==============================] - 10s 685ms/step - loss: 0.3479 - window_pred_accuracy: 0.9251 - session_pred_loss: 0.1761 - window_pred_loss: 0.1718 - session_pred_accuracy: 0.9206 - val_loss: 3.4697 - val_window_pred_accuracy: 0.5704 - val_session_pred_loss: 1.8156 - val_window_pred_loss: 1.6541 - val_session_pred_accuracy: 0.5769\n",
      "Epoch 24/50\n",
      "14/14 [==============================] - 10s 683ms/step - loss: 0.3371 - window_pred_accuracy: 0.9312 - session_pred_loss: 0.1687 - window_pred_loss: 0.1684 - session_pred_accuracy: 0.9333 - val_loss: 4.2208 - val_window_pred_accuracy: 0.6490 - val_session_pred_loss: 2.2971 - val_window_pred_loss: 1.9237 - val_session_pred_accuracy: 0.6453\n",
      "Epoch 25/50\n",
      "14/14 [==============================] - 10s 682ms/step - loss: 0.3415 - window_pred_accuracy: 0.9320 - session_pred_loss: 0.1718 - window_pred_loss: 0.1698 - session_pred_accuracy: 0.9329 - val_loss: 3.7884 - val_window_pred_accuracy: 0.6464 - val_session_pred_loss: 2.0238 - val_window_pred_loss: 1.7646 - val_session_pred_accuracy: 0.6538\n",
      "Epoch 26/50\n",
      "14/14 [==============================] - 11s 787ms/step - loss: 0.3215 - window_pred_accuracy: 0.9406 - session_pred_loss: 0.1614 - window_pred_loss: 0.1601 - session_pred_accuracy: 0.9410 - val_loss: 3.2602 - val_window_pred_accuracy: 0.6373 - val_session_pred_loss: 1.7315 - val_window_pred_loss: 1.5287 - val_session_pred_accuracy: 0.6410\n",
      "Epoch 27/50\n",
      "14/14 [==============================] - 11s 797ms/step - loss: 0.2962 - window_pred_accuracy: 0.9418 - session_pred_loss: 0.1482 - window_pred_loss: 0.1480 - session_pred_accuracy: 0.9406 - val_loss: 2.1851 - val_window_pred_accuracy: 0.6328 - val_session_pred_loss: 1.1366 - val_window_pred_loss: 1.0485 - val_session_pred_accuracy: 0.6325\n",
      "Epoch 28/50\n",
      "14/14 [==============================] - 11s 768ms/step - loss: 0.2984 - window_pred_accuracy: 0.9403 - session_pred_loss: 0.1503 - window_pred_loss: 0.1482 - session_pred_accuracy: 0.9387 - val_loss: 3.4683 - val_window_pred_accuracy: 0.6496 - val_session_pred_loss: 1.8697 - val_window_pred_loss: 1.5986 - val_session_pred_accuracy: 0.6496\n",
      "Epoch 29/50\n",
      "14/14 [==============================] - 11s 757ms/step - loss: 0.3144 - window_pred_accuracy: 0.9366 - session_pred_loss: 0.1564 - window_pred_loss: 0.1580 - session_pred_accuracy: 0.9383 - val_loss: 1.6217 - val_window_pred_accuracy: 0.7462 - val_session_pred_loss: 0.8303 - val_window_pred_loss: 0.7914 - val_session_pred_accuracy: 0.7479\n",
      "Epoch 30/50\n",
      "14/14 [==============================] - 10s 738ms/step - loss: 0.3294 - window_pred_accuracy: 0.9346 - session_pred_loss: 0.1644 - window_pred_loss: 0.1650 - session_pred_accuracy: 0.9341 - val_loss: 2.2386 - val_window_pred_accuracy: 0.6368 - val_session_pred_loss: 1.1757 - val_window_pred_loss: 1.0629 - val_session_pred_accuracy: 0.6325\n",
      "Epoch 31/50\n",
      "14/14 [==============================] - 10s 719ms/step - loss: 0.3042 - window_pred_accuracy: 0.9409 - session_pred_loss: 0.1515 - window_pred_loss: 0.1527 - session_pred_accuracy: 0.9429 - val_loss: 1.3214 - val_window_pred_accuracy: 0.7906 - val_session_pred_loss: 0.6870 - val_window_pred_loss: 0.6344 - val_session_pred_accuracy: 0.7991\n",
      "Epoch 32/50\n",
      "14/14 [==============================] - 10s 738ms/step - loss: 0.3428 - window_pred_accuracy: 0.9316 - session_pred_loss: 0.1712 - window_pred_loss: 0.1716 - session_pred_accuracy: 0.9341 - val_loss: 1.3687 - val_window_pred_accuracy: 0.7382 - val_session_pred_loss: 0.6887 - val_window_pred_loss: 0.6801 - val_session_pred_accuracy: 0.7393\n",
      "Epoch 33/50\n",
      "14/14 [==============================] - 12s 853ms/step - loss: 0.3178 - window_pred_accuracy: 0.9335 - session_pred_loss: 0.1582 - window_pred_loss: 0.1595 - session_pred_accuracy: 0.9333 - val_loss: 1.5275 - val_window_pred_accuracy: 0.6410 - val_session_pred_loss: 0.7837 - val_window_pred_loss: 0.7438 - val_session_pred_accuracy: 0.6410\n",
      "Epoch 34/50\n",
      "14/14 [==============================] - 11s 765ms/step - loss: 0.3215 - window_pred_accuracy: 0.9382 - session_pred_loss: 0.1626 - window_pred_loss: 0.1589 - session_pred_accuracy: 0.9391 - val_loss: 2.2115 - val_window_pred_accuracy: 0.6356 - val_session_pred_loss: 1.1111 - val_window_pred_loss: 1.1004 - val_session_pred_accuracy: 0.6410\n",
      "Epoch 35/50\n",
      "14/14 [==============================] - 10s 748ms/step - loss: 0.3181 - window_pred_accuracy: 0.9370 - session_pred_loss: 0.1598 - window_pred_loss: 0.1583 - session_pred_accuracy: 0.9372 - val_loss: 3.1264 - val_window_pred_accuracy: 0.6484 - val_session_pred_loss: 1.6773 - val_window_pred_loss: 1.4491 - val_session_pred_accuracy: 0.6453\n",
      "Epoch 36/50\n",
      "14/14 [==============================] - 10s 715ms/step - loss: 0.3060 - window_pred_accuracy: 0.9382 - session_pred_loss: 0.1520 - window_pred_loss: 0.1540 - session_pred_accuracy: 0.9406 - val_loss: 2.9263 - val_window_pred_accuracy: 0.6644 - val_session_pred_loss: 1.5480 - val_window_pred_loss: 1.3782 - val_session_pred_accuracy: 0.6667\n",
      "Epoch 37/50\n",
      "14/14 [==============================] - 10s 683ms/step - loss: 0.3125 - window_pred_accuracy: 0.9364 - session_pred_loss: 0.1564 - window_pred_loss: 0.1560 - session_pred_accuracy: 0.9348 - val_loss: 2.0575 - val_window_pred_accuracy: 0.6162 - val_session_pred_loss: 1.0148 - val_window_pred_loss: 1.0427 - val_session_pred_accuracy: 0.6197\n",
      "Epoch 38/50\n",
      "14/14 [==============================] - 10s 684ms/step - loss: 0.3097 - window_pred_accuracy: 0.9423 - session_pred_loss: 0.1548 - window_pred_loss: 0.1549 - session_pred_accuracy: 0.9402 - val_loss: 2.8118 - val_window_pred_accuracy: 0.6541 - val_session_pred_loss: 1.4415 - val_window_pred_loss: 1.3703 - val_session_pred_accuracy: 0.6538\n",
      "Epoch 39/50\n",
      "14/14 [==============================] - 10s 684ms/step - loss: 0.2789 - window_pred_accuracy: 0.9421 - session_pred_loss: 0.1395 - window_pred_loss: 0.1394 - session_pred_accuracy: 0.9418 - val_loss: 3.1704 - val_window_pred_accuracy: 0.6484 - val_session_pred_loss: 1.6663 - val_window_pred_loss: 1.5041 - val_session_pred_accuracy: 0.6453\n",
      "Epoch 40/50\n",
      "14/14 [==============================] - 10s 682ms/step - loss: 0.2882 - window_pred_accuracy: 0.9459 - session_pred_loss: 0.1444 - window_pred_loss: 0.1439 - session_pred_accuracy: 0.9480 - val_loss: 2.1079 - val_window_pred_accuracy: 0.6467 - val_session_pred_loss: 1.0946 - val_window_pred_loss: 1.0133 - val_session_pred_accuracy: 0.6496\n",
      "Epoch 41/50\n",
      "14/14 [==============================] - 10s 684ms/step - loss: 0.2914 - window_pred_accuracy: 0.9442 - session_pred_loss: 0.1465 - window_pred_loss: 0.1449 - session_pred_accuracy: 0.9426 - val_loss: 2.2882 - val_window_pred_accuracy: 0.5977 - val_session_pred_loss: 1.1623 - val_window_pred_loss: 1.1259 - val_session_pred_accuracy: 0.5983\n",
      "Epoch 42/50\n",
      "14/14 [==============================] - 10s 684ms/step - loss: 0.2881 - window_pred_accuracy: 0.9424 - session_pred_loss: 0.1450 - window_pred_loss: 0.1431 - session_pred_accuracy: 0.9426 - val_loss: 3.5345 - val_window_pred_accuracy: 0.6456 - val_session_pred_loss: 1.8309 - val_window_pred_loss: 1.7036 - val_session_pred_accuracy: 0.6410\n",
      "Epoch 43/50\n",
      "14/14 [==============================] - 10s 686ms/step - loss: 0.2808 - window_pred_accuracy: 0.9427 - session_pred_loss: 0.1420 - window_pred_loss: 0.1389 - session_pred_accuracy: 0.9410 - val_loss: 2.0945 - val_window_pred_accuracy: 0.6610 - val_session_pred_loss: 1.0869 - val_window_pred_loss: 1.0077 - val_session_pred_accuracy: 0.6624\n",
      "Epoch 44/50\n",
      "14/14 [==============================] - 10s 680ms/step - loss: 0.2839 - window_pred_accuracy: 0.9455 - session_pred_loss: 0.1424 - window_pred_loss: 0.1415 - session_pred_accuracy: 0.9464 - val_loss: 2.0926 - val_window_pred_accuracy: 0.6433 - val_session_pred_loss: 1.0675 - val_window_pred_loss: 1.0251 - val_session_pred_accuracy: 0.6538\n",
      "Epoch 45/50\n",
      "14/14 [==============================] - 10s 681ms/step - loss: 0.2518 - window_pred_accuracy: 0.9478 - session_pred_loss: 0.1266 - window_pred_loss: 0.1252 - session_pred_accuracy: 0.9460 - val_loss: 2.7510 - val_window_pred_accuracy: 0.6516 - val_session_pred_loss: 1.4029 - val_window_pred_loss: 1.3482 - val_session_pred_accuracy: 0.6538\n",
      "Epoch 46/50\n",
      "14/14 [==============================] - 10s 681ms/step - loss: 0.2405 - window_pred_accuracy: 0.9519 - session_pred_loss: 0.1202 - window_pred_loss: 0.1204 - session_pred_accuracy: 0.9510 - val_loss: 3.9044 - val_window_pred_accuracy: 0.6293 - val_session_pred_loss: 2.0062 - val_window_pred_loss: 1.8982 - val_session_pred_accuracy: 0.6282\n",
      "Epoch 47/50\n",
      "14/14 [==============================] - 10s 684ms/step - loss: 0.3059 - window_pred_accuracy: 0.9357 - session_pred_loss: 0.1531 - window_pred_loss: 0.1528 - session_pred_accuracy: 0.9364 - val_loss: 4.9242 - val_window_pred_accuracy: 0.6020 - val_session_pred_loss: 2.6229 - val_window_pred_loss: 2.3012 - val_session_pred_accuracy: 0.6068\n",
      "Epoch 48/50\n",
      "14/14 [==============================] - 10s 682ms/step - loss: 0.3251 - window_pred_accuracy: 0.9375 - session_pred_loss: 0.1657 - window_pred_loss: 0.1594 - session_pred_accuracy: 0.9337 - val_loss: 4.3572 - val_window_pred_accuracy: 0.5972 - val_session_pred_loss: 2.2742 - val_window_pred_loss: 2.0830 - val_session_pred_accuracy: 0.6068\n",
      "Epoch 49/50\n",
      "14/14 [==============================] - 10s 683ms/step - loss: 0.2903 - window_pred_accuracy: 0.9389 - session_pred_loss: 0.1439 - window_pred_loss: 0.1464 - session_pred_accuracy: 0.9387 - val_loss: 4.3567 - val_window_pred_accuracy: 0.6040 - val_session_pred_loss: 2.2742 - val_window_pred_loss: 2.0825 - val_session_pred_accuracy: 0.6111\n",
      "Epoch 50/50\n",
      "14/14 [==============================] - 10s 681ms/step - loss: 0.2393 - window_pred_accuracy: 0.9518 - session_pred_loss: 0.1193 - window_pred_loss: 0.1201 - session_pred_accuracy: 0.9526 - val_loss: 2.6260 - val_window_pred_accuracy: 0.6501 - val_session_pred_loss: 1.3402 - val_window_pred_loss: 1.2859 - val_session_pred_accuracy: 0.6538\n"
     ]
    },
    {
     "data": {
      "text/plain": [
       "<tensorflow.python.keras.callbacks.History at 0x7f96c07d6940>"
      ]
     },
     "execution_count": 35,
     "metadata": {},
     "output_type": "execute_result"
    }
   ],
   "source": [
    "model.fit(X_train, [y_train_mid, y_train], batch_size=len(device_list) * 64, epochs=50, validation_data=(X_val, [y_val_mid, y_val]), use_multiprocessing=True)"
   ]
  },
  {
   "cell_type": "code",
   "execution_count": 36,
   "metadata": {},
   "outputs": [],
   "source": [
    "pred_mid, pred_sess = model.predict(X_test, batch_size=len(device_list) * 64)"
   ]
  },
  {
   "cell_type": "code",
   "execution_count": 24,
   "metadata": {},
   "outputs": [],
   "source": [
    "# labels_map = {1:'lying',2:'sitting',3:'standing',4:'walking',5:'running',6:'cycling',7:'Nordic walking',\n",
    "#               11:'ascending stairs',12:'descending stairs',13:'vacuum cleaning',\n",
    "#               14:'ironing', 18:'rope jumping'}\n",
    "# class_names = list(labels_map.values())"
   ]
  },
  {
   "cell_type": "code",
   "execution_count": 25,
   "metadata": {},
   "outputs": [
    {
     "name": "stdout",
     "output_type": "stream",
     "text": [
      "              precision    recall  f1-score   support\n",
      "\n",
      "           0       0.86      0.76      0.81       135\n",
      "           1       0.77      0.86      0.81       122\n",
      "\n",
      "    accuracy                           0.81       257\n",
      "   macro avg       0.81      0.81      0.81       257\n",
      "weighted avg       0.81      0.81      0.81       257\n",
      "\n"
     ]
    }
   ],
   "source": [
    "print(classification_report(np.argmax(y_test, axis=1), np.argmax(pred_sess, axis=1)))"
   ]
  },
  {
   "cell_type": "code",
   "execution_count": 26,
   "metadata": {},
   "outputs": [
    {
     "name": "stdout",
     "output_type": "stream",
     "text": [
      "              precision    recall  f1-score   support\n",
      "\n",
      "           0       0.86      0.76      0.81       135\n",
      "           1       0.77      0.86      0.81       122\n",
      "\n",
      "    accuracy                           0.81       257\n",
      "   macro avg       0.81      0.81      0.81       257\n",
      "weighted avg       0.81      0.81      0.81       257\n",
      "\n"
     ]
    }
   ],
   "source": [
    "print(classification_report(np.argmax(y_test, axis=1), np.argmax(pred_sess, axis=1)))"
   ]
  },
  {
   "cell_type": "code",
   "execution_count": 27,
   "metadata": {},
   "outputs": [],
   "source": [
    "# activity_map"
   ]
  },
  {
   "cell_type": "code",
   "execution_count": 28,
   "metadata": {},
   "outputs": [
    {
     "data": {
      "text/plain": [
       "<AxesSubplot:>"
      ]
     },
     "execution_count": 28,
     "metadata": {},
     "output_type": "execute_result"
    },
    {
     "data": {
      "image/png": "[encoded data removed]",
      "text/plain": [
       "<Figure size 720x576 with 2 Axes>"
      ]
     },
     "metadata": {
      "needs_background": "light"
     },
     "output_type": "display_data"
    }
   ],
   "source": [
    "confm = confusion_matrix(np.argmax(y_test, axis=1), np.argmax(pred_sess, axis=1))\n",
    "# activity_list = list(activity_map.values())\n",
    "df_cm = pd.DataFrame(confm)\n",
    "plt.figure(figsize = (10,8))\n",
    "sns.heatmap(df_cm, annot=True, fmt='d', cmap=\"YlGnBu\")"
   ]
  },
  {
   "cell_type": "code",
   "execution_count": 29,
   "metadata": {},
   "outputs": [
    {
     "data": {
      "text/plain": [
       "(257, 15, 3)"
      ]
     },
     "execution_count": 29,
     "metadata": {},
     "output_type": "execute_result"
    }
   ],
   "source": [
    "y_test_mid.shape"
   ]
  },
  {
   "cell_type": "code",
   "execution_count": 30,
   "metadata": {},
   "outputs": [
    {
     "data": {
      "text/plain": [
       "(257, 15, 3)"
      ]
     },
     "execution_count": 30,
     "metadata": {},
     "output_type": "execute_result"
    }
   ],
   "source": [
    "pred_mid.shape"
   ]
  },
  {
   "cell_type": "code",
   "execution_count": 31,
   "metadata": {},
   "outputs": [
    {
     "name": "stdout",
     "output_type": "stream",
     "text": [
      "              precision    recall  f1-score   support\n",
      "\n",
      "           0       0.87      0.75      0.80      2025\n",
      "           1       0.76      0.87      0.81      1830\n",
      "\n",
      "    accuracy                           0.81      3855\n",
      "   macro avg       0.81      0.81      0.81      3855\n",
      "weighted avg       0.81      0.81      0.81      3855\n",
      "\n"
     ]
    }
   ],
   "source": [
    "print(classification_report(np.argmax(y_test_mid.reshape(-1, 3), axis=1), np.argmax(pred_mid.reshape(-1, 3), axis=1)))"
   ]
  },
  {
   "cell_type": "code",
   "execution_count": 32,
   "metadata": {},
   "outputs": [
    {
     "data": {
      "text/plain": [
       "<AxesSubplot:>"
      ]
     },
     "execution_count": 32,
     "metadata": {},
     "output_type": "execute_result"
    },
    {
     "data": {
      "image/png": "[encoded data removed]",
      "text/plain": [
       "<Figure size 720x576 with 2 Axes>"
      ]
     },
     "metadata": {
      "needs_background": "light"
     },
     "output_type": "display_data"
    }
   ],
   "source": [
    "confm = confusion_matrix(np.argmax(y_test_mid.reshape(-1, 3), axis=1), np.argmax(pred_mid.reshape(-1, 3), axis=1))\n",
    "# activity_list = list(activity_map.values())\n",
    "df_cm = pd.DataFrame(confm)\n",
    "plt.figure(figsize = (10,8))\n",
    "sns.heatmap(df_cm, annot=True, fmt='d', cmap=\"YlGnBu\")"
   ]
  },
  {
   "cell_type": "code",
   "execution_count": null,
   "metadata": {},
   "outputs": [],
   "source": []
  }
 ],
 "metadata": {
  "kernelspec": {
   "display_name": "Python 3",
   "language": "python",
   "name": "python3"
  },
  "language_info": {
   "codemirror_mode": {
    "name": "ipython",
    "version": 3
   },
   "file_extension": ".py",
   "mimetype": "text/x-python",
   "name": "python",
   "nbconvert_exporter": "python",
   "pygments_lexer": "ipython3",
   "version": "3.8.5"
  }
 },
 "nbformat": 4,
 "nbformat_minor": 4
}
