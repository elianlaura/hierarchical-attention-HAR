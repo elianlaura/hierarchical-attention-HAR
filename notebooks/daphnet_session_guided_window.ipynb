{
 "cells": [
  {
   "cell_type": "code",
   "execution_count": 1,
   "metadata": {},
   "outputs": [],
   "source": [
    "import tensorflow as tf\n",
    "import numpy as np\n",
    "import pandas as pd\n",
    "from sklearn.metrics import classification_report, confusion_matrix\n",
    "import seaborn as sns\n",
    "import matplotlib.pyplot as plt\n",
    "import sys\n",
    "import yaml\n",
    "\n",
    "sys.path.append(\"../\")\n",
    "\n",
    "%load_ext autoreload\n",
    "%autoreload 2"
   ]
  },
  {
   "cell_type": "code",
   "execution_count": 2,
   "metadata": {},
   "outputs": [],
   "source": [
    "from sklearn.preprocessing import StandardScaler\n",
    "from preprocessing.sliding_window import create_windowed_dataset"
   ]
  },
  {
   "cell_type": "markdown",
   "metadata": {},
   "source": [
    "### Data loading"
   ]
  },
  {
   "cell_type": "code",
   "execution_count": 3,
   "metadata": {},
   "outputs": [],
   "source": [
    "data_path = '/home/hariub/data/HAR/processed/clean_daphnet_data.csv'\n",
    "df = pd.read_csv(data_path)"
   ]
  },
  {
   "cell_type": "code",
   "execution_count": 4,
   "metadata": {},
   "outputs": [
    {
     "data": {
      "text/html": [
       "<div>\n",
       "<style scoped>\n",
       "    .dataframe tbody tr th:only-of-type {\n",
       "        vertical-align: middle;\n",
       "    }\n",
       "\n",
       "    .dataframe tbody tr th {\n",
       "        vertical-align: top;\n",
       "    }\n",
       "\n",
       "    .dataframe thead th {\n",
       "        text-align: right;\n",
       "    }\n",
       "</style>\n",
       "<table border=\"1\" class=\"dataframe\">\n",
       "  <thead>\n",
       "    <tr style=\"text-align: right;\">\n",
       "      <th></th>\n",
       "      <th>Time</th>\n",
       "      <th>Ankle_acc_x</th>\n",
       "      <th>Ankle_acc_y</th>\n",
       "      <th>Ankle_acc_z</th>\n",
       "      <th>Thigh_acc_x</th>\n",
       "      <th>Thigh_acc_y</th>\n",
       "      <th>Thigh_acc_z</th>\n",
       "      <th>Trunk_acc_x</th>\n",
       "      <th>Trunk_acc_y</th>\n",
       "      <th>Trunk_acc_z</th>\n",
       "      <th>Label</th>\n",
       "      <th>Subject</th>\n",
       "      <th>Run</th>\n",
       "    </tr>\n",
       "  </thead>\n",
       "  <tbody>\n",
       "    <tr>\n",
       "      <th>0</th>\n",
       "      <td>15.0</td>\n",
       "      <td>70.0</td>\n",
       "      <td>39.0</td>\n",
       "      <td>-970.0</td>\n",
       "      <td>0.0</td>\n",
       "      <td>0.0</td>\n",
       "      <td>0.0</td>\n",
       "      <td>0.0</td>\n",
       "      <td>0.0</td>\n",
       "      <td>0.0</td>\n",
       "      <td>0.0</td>\n",
       "      <td>1</td>\n",
       "      <td>1</td>\n",
       "    </tr>\n",
       "    <tr>\n",
       "      <th>1</th>\n",
       "      <td>31.0</td>\n",
       "      <td>70.0</td>\n",
       "      <td>39.0</td>\n",
       "      <td>-970.0</td>\n",
       "      <td>0.0</td>\n",
       "      <td>0.0</td>\n",
       "      <td>0.0</td>\n",
       "      <td>0.0</td>\n",
       "      <td>0.0</td>\n",
       "      <td>0.0</td>\n",
       "      <td>0.0</td>\n",
       "      <td>1</td>\n",
       "      <td>1</td>\n",
       "    </tr>\n",
       "    <tr>\n",
       "      <th>2</th>\n",
       "      <td>46.0</td>\n",
       "      <td>60.0</td>\n",
       "      <td>49.0</td>\n",
       "      <td>-960.0</td>\n",
       "      <td>0.0</td>\n",
       "      <td>0.0</td>\n",
       "      <td>0.0</td>\n",
       "      <td>0.0</td>\n",
       "      <td>0.0</td>\n",
       "      <td>0.0</td>\n",
       "      <td>0.0</td>\n",
       "      <td>1</td>\n",
       "      <td>1</td>\n",
       "    </tr>\n",
       "    <tr>\n",
       "      <th>3</th>\n",
       "      <td>62.0</td>\n",
       "      <td>60.0</td>\n",
       "      <td>49.0</td>\n",
       "      <td>-960.0</td>\n",
       "      <td>0.0</td>\n",
       "      <td>0.0</td>\n",
       "      <td>0.0</td>\n",
       "      <td>0.0</td>\n",
       "      <td>0.0</td>\n",
       "      <td>0.0</td>\n",
       "      <td>0.0</td>\n",
       "      <td>1</td>\n",
       "      <td>1</td>\n",
       "    </tr>\n",
       "    <tr>\n",
       "      <th>4</th>\n",
       "      <td>78.0</td>\n",
       "      <td>50.0</td>\n",
       "      <td>39.0</td>\n",
       "      <td>-960.0</td>\n",
       "      <td>0.0</td>\n",
       "      <td>0.0</td>\n",
       "      <td>0.0</td>\n",
       "      <td>0.0</td>\n",
       "      <td>0.0</td>\n",
       "      <td>0.0</td>\n",
       "      <td>0.0</td>\n",
       "      <td>1</td>\n",
       "      <td>1</td>\n",
       "    </tr>\n",
       "  </tbody>\n",
       "</table>\n",
       "</div>"
      ],
      "text/plain": [
       "   Time  Ankle_acc_x  Ankle_acc_y  Ankle_acc_z  Thigh_acc_x  Thigh_acc_y  \\\n",
       "0  15.0         70.0         39.0       -970.0          0.0          0.0   \n",
       "1  31.0         70.0         39.0       -970.0          0.0          0.0   \n",
       "2  46.0         60.0         49.0       -960.0          0.0          0.0   \n",
       "3  62.0         60.0         49.0       -960.0          0.0          0.0   \n",
       "4  78.0         50.0         39.0       -960.0          0.0          0.0   \n",
       "\n",
       "   Thigh_acc_z  Trunk_acc_x  Trunk_acc_y  Trunk_acc_z  Label  Subject  Run  \n",
       "0          0.0          0.0          0.0          0.0    0.0        1    1  \n",
       "1          0.0          0.0          0.0          0.0    0.0        1    1  \n",
       "2          0.0          0.0          0.0          0.0    0.0        1    1  \n",
       "3          0.0          0.0          0.0          0.0    0.0        1    1  \n",
       "4          0.0          0.0          0.0          0.0    0.0        1    1  "
      ]
     },
     "execution_count": 4,
     "metadata": {},
     "output_type": "execute_result"
    }
   ],
   "source": [
    "df.head()"
   ]
  },
  {
   "cell_type": "code",
   "execution_count": 5,
   "metadata": {},
   "outputs": [],
   "source": [
    "FEATURES = ['Ankle_acc_x', 'Ankle_acc_y', 'Ankle_acc_z', 'Thigh_acc_x','Thigh_acc_y', 'Thigh_acc_z', 'Trunk_acc_x', 'Trunk_acc_y','Trunk_acc_z']\n",
    "LABEL = ['Label']"
   ]
  },
  {
   "cell_type": "code",
   "execution_count": 6,
   "metadata": {},
   "outputs": [],
   "source": [
    "df = df.fillna(0)\n",
    "scaler = StandardScaler()\n",
    "df[FEATURES] = scaler.fit_transform(df[FEATURES])\n",
    "\n",
    "df = df[df['Label'] != 2]"
   ]
  },
  {
   "cell_type": "code",
   "execution_count": 7,
   "metadata": {},
   "outputs": [],
   "source": [
    "hyperparameters = yaml.load(open('../configs/metadata.yaml', mode='r'), Loader=yaml.FullLoader)\n",
    "\n",
    "metadata = yaml.load(open('../configs/metadata.yaml', mode='r'), Loader=yaml.FullLoader)['daphnet_preprocess']"
   ]
  },
  {
   "cell_type": "code",
   "execution_count": 8,
   "metadata": {},
   "outputs": [],
   "source": [
    "train_df = df[(df['Subject'] != 2) & (df['Subject'] != 9)]\n",
    "test_df = df[df['Subject'] == 2]\n",
    "val_df = df[df['Subject'] == 9]\n",
    "\n",
    "SLIDING_WINDOW_LENGTH = metadata['sliding_win_len']\n",
    "SLIDING_WINDOW_STEP = metadata['sliding_win_stride']\n",
    "N_WINDOW, N_TIMESTEP = metadata['n_window'], metadata['n_timestep']\n",
    "\n",
    "# FEATURES = metadata['feature_list']\n",
    "\n",
    "X_train, y_train = create_windowed_dataset(\n",
    "    train_df, FEATURES, 'Label', window_size=SLIDING_WINDOW_LENGTH, stride=SLIDING_WINDOW_STEP)\n",
    "X_val, y_val = create_windowed_dataset(\n",
    "    val_df, FEATURES, 'Label', window_size=SLIDING_WINDOW_LENGTH, stride=SLIDING_WINDOW_STEP)\n",
    "X_test, y_test = create_windowed_dataset(\n",
    "    test_df, FEATURES, 'Label', window_size=SLIDING_WINDOW_LENGTH, stride=SLIDING_WINDOW_STEP)\n",
    "\n",
    "X_train = X_train.reshape(\n",
    "    (X_train.shape[0], N_WINDOW, N_TIMESTEP, len(FEATURES)))\n",
    "X_val = X_val.reshape(\n",
    "    (X_val.shape[0], N_WINDOW, N_TIMESTEP, len(FEATURES)))\n",
    "X_test = X_test.reshape(\n",
    "    (X_test.shape[0], N_WINDOW, N_TIMESTEP, len(FEATURES)))\n",
    "\n",
    "y_train = tf.keras.utils.to_categorical(y_train, num_classes=2)\n",
    "y_val = tf.keras.utils.to_categorical(y_val, num_classes=2)\n",
    "y_test = tf.keras.utils.to_categorical(y_test, num_classes=2)"
   ]
  },
  {
   "cell_type": "code",
   "execution_count": 9,
   "metadata": {},
   "outputs": [],
   "source": [
    "# from preprocessing.utils import get_train_test_data\n",
    "from model.hierarchical_self_attention_model import HSA_model_session_guided_window"
   ]
  },
  {
   "cell_type": "code",
   "execution_count": 10,
   "metadata": {},
   "outputs": [
    {
     "name": "stdout",
     "output_type": "stream",
     "text": [
      "(9296, 10, 32, 9)\n",
      "(9296, 2)\n"
     ]
    }
   ],
   "source": [
    "print(X_train.shape)\n",
    "print(y_train.shape)"
   ]
  },
  {
   "cell_type": "code",
   "execution_count": 11,
   "metadata": {},
   "outputs": [],
   "source": [
    "y_train_mid = np.repeat(np.expand_dims(y_train, axis=1), repeats=metadata['n_window'], axis=1)\n",
    "y_val_mid = np.repeat(np.expand_dims(y_val, axis=1), repeats=metadata['n_window'], axis=1)\n",
    "y_test_mid = np.repeat(np.expand_dims(y_test, axis=1), repeats=metadata['n_window'], axis=1)"
   ]
  },
  {
   "cell_type": "code",
   "execution_count": 12,
   "metadata": {},
   "outputs": [
    {
     "data": {
      "text/plain": [
       "(9296, 10, 2)"
      ]
     },
     "execution_count": 12,
     "metadata": {},
     "output_type": "execute_result"
    }
   ],
   "source": [
    "y_train_mid.shape"
   ]
  },
  {
   "cell_type": "code",
   "execution_count": 13,
   "metadata": {},
   "outputs": [],
   "source": [
    "hparam_file = open('../configs/hyperparameters.yaml', mode='r')\n",
    "hyperparameters = yaml.load(hparam_file, Loader=yaml.FullLoader)\n",
    "DATASET_NAME = 'daphnet'\n",
    "hparams_all = hyperparameters['HSA_model']\n",
    "hparams = hparams_all[DATASET_NAME]\n",
    "\n",
    "hparams['n_window'], hparams['n_timesteps'], hparams['n_features'], hparams['n_outputs'] = X_train.shape[1], X_train.shape[2], X_train.shape[3], y_train.shape[1]\n",
    "hparams['n_outputs_window']=  y_train.shape[1]"
   ]
  },
  {
   "cell_type": "markdown",
   "metadata": {},
   "source": [
    "## Training"
   ]
  },
  {
   "cell_type": "code",
   "execution_count": 14,
   "metadata": {},
   "outputs": [
    {
     "name": "stdout",
     "output_type": "stream",
     "text": [
      "6 Physical GPUs, 6 Logical GPUs\n",
      "WARNING:tensorflow:Some requested devices in `tf.distribute.Strategy` are not visible to TensorFlow: /job:localhost/replica:0/task:0/device:GPU:7,/job:localhost/replica:0/task:0/device:GPU:6\n",
      "INFO:tensorflow:Using MirroredStrategy with devices ('/job:localhost/replica:0/task:0/device:GPU:6', '/job:localhost/replica:0/task:0/device:GPU:7')\n",
      "Number of devices: 2\n"
     ]
    }
   ],
   "source": [
    "tf.keras.backend.clear_session()\n",
    "gpus = tf.config.experimental.list_physical_devices('GPU')\n",
    "# print(gpus)\n",
    "if gpus:\n",
    "  try:\n",
    "    # Currently, memory growth needs to be the same across GPUs\n",
    "    for gpu in gpus:\n",
    "      tf.config.experimental.set_memory_growth(gpu, True)\n",
    "    logical_gpus = tf.config.experimental.list_logical_devices('GPU')\n",
    "    print(len(gpus), \"Physical GPUs,\", len(logical_gpus), \"Logical GPUs\")\n",
    "  except RuntimeError as e:\n",
    "    # Memory growth must be set before GPUs have been initialized\n",
    "    print(e)\n",
    "    \n",
    "device_list = ['/gpu:'+str(i) for i in range(6, 8)]\n",
    "strategy = tf.distribute.MirroredStrategy(devices=device_list)\n",
    "print('Number of devices: {}'.format(strategy.num_replicas_in_sync))\n",
    "with strategy.scope():\n",
    "    model = HSA_model_session_guided_window(**hparams).get_compiled_model()"
   ]
  },
  {
   "cell_type": "code",
   "execution_count": 15,
   "metadata": {},
   "outputs": [
    {
     "name": "stdout",
     "output_type": "stream",
     "text": [
      "Model: \"model_1\"\n",
      "__________________________________________________________________________________________________\n",
      "Layer (type)                    Output Shape         Param #     Connected to                     \n",
      "==================================================================================================\n",
      "input_1 (InputLayer)            [(None, 10, 32, 9)]  0                                            \n",
      "__________________________________________________________________________________________________\n",
      "multi_window_encoder (MultiWind ((None, None, 64), ( 350144      input_1[0][0]                    \n",
      "__________________________________________________________________________________________________\n",
      "modality_encoder_block_3 (Modal (None, None, 64)     104000      multi_window_encoder[0][0]       \n",
      "__________________________________________________________________________________________________\n",
      "combined_sensor_self_attention_ ((None, 64), (None,  49856       modality_encoder_block_3[0][0]   \n",
      "__________________________________________________________________________________________________\n",
      "tf_op_layer_Shape (TensorFlowOp [(2,)]               0           combined_sensor_self_attention_1[\n",
      "__________________________________________________________________________________________________\n",
      "tf_op_layer_ExpandDims (TensorF [(None, 1, 64)]      0           combined_sensor_self_attention_1[\n",
      "__________________________________________________________________________________________________\n",
      "tf_op_layer_strided_slice_3 (Te [(0,)]               0           tf_op_layer_Shape[0][0]          \n",
      "__________________________________________________________________________________________________\n",
      "tf_op_layer_strided_slice_4 (Te [(1,)]               0           tf_op_layer_Shape[0][0]          \n",
      "__________________________________________________________________________________________________\n",
      "tf_op_layer_Tile (TensorFlowOpL [(None, 10, 64)]     0           tf_op_layer_ExpandDims[0][0]     \n",
      "__________________________________________________________________________________________________\n",
      "tf_op_layer_concat (TensorFlowO [(2,)]               0           tf_op_layer_strided_slice_3[0][0]\n",
      "                                                                 tf_op_layer_strided_slice_4[0][0]\n",
      "__________________________________________________________________________________________________\n",
      "tf_op_layer_Reshape (TensorFlow [(None, 64)]         0           tf_op_layer_Tile[0][0]           \n",
      "                                                                 tf_op_layer_concat[0][0]         \n",
      "__________________________________________________________________________________________________\n",
      "reshape (Reshape)               (None, 10, 64)       0           tf_op_layer_Reshape[0][0]        \n",
      "__________________________________________________________________________________________________\n",
      "concatenate (Concatenate)       (None, 10, 128)      0           multi_window_encoder[0][0]       \n",
      "                                                                 reshape[0][0]                    \n",
      "__________________________________________________________________________________________________\n",
      "dense_60 (Dense)                (None, 10, 512)      66048       concatenate[0][0]                \n",
      "__________________________________________________________________________________________________\n",
      "dense_61 (Dense)                (None, 256)          16640       combined_sensor_self_attention_1[\n",
      "__________________________________________________________________________________________________\n",
      "window_pred (Dense)             (None, 10, 2)        1026        dense_60[0][0]                   \n",
      "__________________________________________________________________________________________________\n",
      "session_pred (Dense)            (None, 2)            514         dense_61[0][0]                   \n",
      "==================================================================================================\n",
      "Total params: 588,228\n",
      "Trainable params: 588,228\n",
      "Non-trainable params: 0\n",
      "__________________________________________________________________________________________________\n"
     ]
    }
   ],
   "source": [
    "model.summary()"
   ]
  },
  {
   "cell_type": "code",
   "execution_count": null,
   "metadata": {},
   "outputs": [],
   "source": []
  },
  {
   "cell_type": "code",
   "execution_count": null,
   "metadata": {},
   "outputs": [
    {
     "name": "stdout",
     "output_type": "stream",
     "text": [
      "Epoch 1/50\n",
      "INFO:tensorflow:Reduce to /job:localhost/replica:0/task:0/device:GPU:0 then broadcast to ('/job:localhost/replica:0/task:0/device:GPU:0', '/job:localhost/replica:0/task:0/device:GPU:0').\n",
      "INFO:tensorflow:Reduce to /job:localhost/replica:0/task:0/device:GPU:0 then broadcast to ('/job:localhost/replica:0/task:0/device:GPU:0', '/job:localhost/replica:0/task:0/device:GPU:0').\n",
      "INFO:tensorflow:Reduce to /job:localhost/replica:0/task:0/device:GPU:0 then broadcast to ('/job:localhost/replica:0/task:0/device:GPU:0', '/job:localhost/replica:0/task:0/device:GPU:0').\n",
      "INFO:tensorflow:Reduce to /job:localhost/replica:0/task:0/device:GPU:0 then broadcast to ('/job:localhost/replica:0/task:0/device:GPU:0', '/job:localhost/replica:0/task:0/device:GPU:0').\n",
      "INFO:tensorflow:Reduce to /job:localhost/replica:0/task:0/device:GPU:0 then broadcast to ('/job:localhost/replica:0/task:0/device:GPU:0', '/job:localhost/replica:0/task:0/device:GPU:0').\n",
      "INFO:tensorflow:Reduce to /job:localhost/replica:0/task:0/device:GPU:0 then broadcast to ('/job:localhost/replica:0/task:0/device:GPU:0', '/job:localhost/replica:0/task:0/device:GPU:0').\n",
      "INFO:tensorflow:Reduce to /job:localhost/replica:0/task:0/device:GPU:0 then broadcast to ('/job:localhost/replica:0/task:0/device:GPU:0', '/job:localhost/replica:0/task:0/device:GPU:0').\n",
      "INFO:tensorflow:Reduce to /job:localhost/replica:0/task:0/device:GPU:0 then broadcast to ('/job:localhost/replica:0/task:0/device:GPU:0', '/job:localhost/replica:0/task:0/device:GPU:0').\n",
      "INFO:tensorflow:Reduce to /job:localhost/replica:0/task:0/device:GPU:0 then broadcast to ('/job:localhost/replica:0/task:0/device:GPU:0', '/job:localhost/replica:0/task:0/device:GPU:0').\n",
      "INFO:tensorflow:Reduce to /job:localhost/replica:0/task:0/device:GPU:0 then broadcast to ('/job:localhost/replica:0/task:0/device:GPU:0', '/job:localhost/replica:0/task:0/device:GPU:0').\n",
      "INFO:tensorflow:Reduce to /job:localhost/replica:0/task:0/device:CPU:0 then broadcast to ('/job:localhost/replica:0/task:0/device:CPU:0',).\n",
      "INFO:tensorflow:Reduce to /job:localhost/replica:0/task:0/device:CPU:0 then broadcast to ('/job:localhost/replica:0/task:0/device:CPU:0',).\n",
      "INFO:tensorflow:Reduce to /job:localhost/replica:0/task:0/device:CPU:0 then broadcast to ('/job:localhost/replica:0/task:0/device:CPU:0',).\n",
      "INFO:tensorflow:Reduce to /job:localhost/replica:0/task:0/device:CPU:0 then broadcast to ('/job:localhost/replica:0/task:0/device:CPU:0',).\n",
      "INFO:tensorflow:Reduce to /job:localhost/replica:0/task:0/device:CPU:0 then broadcast to ('/job:localhost/replica:0/task:0/device:CPU:0',).\n",
      "INFO:tensorflow:Reduce to /job:localhost/replica:0/task:0/device:CPU:0 then broadcast to ('/job:localhost/replica:0/task:0/device:CPU:0',).\n",
      "INFO:tensorflow:Reduce to /job:localhost/replica:0/task:0/device:CPU:0 then broadcast to ('/job:localhost/replica:0/task:0/device:CPU:0',).\n",
      "INFO:tensorflow:Reduce to /job:localhost/replica:0/task:0/device:CPU:0 then broadcast to ('/job:localhost/replica:0/task:0/device:CPU:0',).\n",
      "INFO:tensorflow:Reduce to /job:localhost/replica:0/task:0/device:CPU:0 then broadcast to ('/job:localhost/replica:0/task:0/device:CPU:0',).\n",
      "INFO:tensorflow:Reduce to /job:localhost/replica:0/task:0/device:CPU:0 then broadcast to ('/job:localhost/replica:0/task:0/device:CPU:0',).\n",
      "37/37 [==============================] - 23s 631ms/step - window_pred_loss: 0.4212 - session_pred_accuracy: 0.7877 - session_pred_loss: 0.4427 - window_pred_accuracy: 0.7907 - loss: 0.8639 - val_window_pred_loss: 0.9603 - val_session_pred_accuracy: 0.6358 - val_session_pred_loss: 0.9857 - val_window_pred_accuracy: 0.6184 - val_loss: 1.9461\n",
      "Epoch 2/50\n",
      "37/37 [==============================] - 18s 476ms/step - window_pred_loss: 0.3331 - session_pred_accuracy: 0.8284 - session_pred_loss: 0.3355 - window_pred_accuracy: 0.8289 - loss: 0.6686 - val_window_pred_loss: 0.9426 - val_session_pred_accuracy: 0.6368 - val_session_pred_loss: 1.1521 - val_window_pred_accuracy: 0.6874 - val_loss: 2.0947\n",
      "Epoch 3/50\n",
      "37/37 [==============================] - 18s 474ms/step - window_pred_loss: 0.3156 - session_pred_accuracy: 0.8313 - session_pred_loss: 0.3174 - window_pred_accuracy: 0.8346 - loss: 0.6331 - val_window_pred_loss: 1.3603 - val_session_pred_accuracy: 0.6884 - val_session_pred_loss: 1.5609 - val_window_pred_accuracy: 0.6216 - val_loss: 2.9212\n",
      "Epoch 4/50\n",
      "37/37 [==============================] - 18s 474ms/step - window_pred_loss: 0.3188 - session_pred_accuracy: 0.8376 - session_pred_loss: 0.3177 - window_pred_accuracy: 0.8396 - loss: 0.6366 - val_window_pred_loss: 0.5425 - val_session_pred_accuracy: 0.6674 - val_session_pred_loss: 0.5379 - val_window_pred_accuracy: 0.6566 - val_loss: 1.0804\n",
      "Epoch 5/50\n",
      "37/37 [==============================] - 18s 475ms/step - window_pred_loss: 0.3021 - session_pred_accuracy: 0.8450 - session_pred_loss: 0.3021 - window_pred_accuracy: 0.8507 - loss: 0.6042 - val_window_pred_loss: 0.9483 - val_session_pred_accuracy: 0.6684 - val_session_pred_loss: 1.1858 - val_window_pred_accuracy: 0.6696 - val_loss: 2.1341\n",
      "Epoch 6/50\n",
      "37/37 [==============================] - 17s 473ms/step - window_pred_loss: 0.2881 - session_pred_accuracy: 0.8624 - session_pred_loss: 0.2917 - window_pred_accuracy: 0.8650 - loss: 0.5798 - val_window_pred_loss: 0.8911 - val_session_pred_accuracy: 0.5979 - val_session_pred_loss: 0.9020 - val_window_pred_accuracy: 0.5859 - val_loss: 1.7930\n",
      "Epoch 7/50\n",
      "37/37 [==============================] - 18s 474ms/step - window_pred_loss: 0.2762 - session_pred_accuracy: 0.8692 - session_pred_loss: 0.2779 - window_pred_accuracy: 0.8708 - loss: 0.5541 - val_window_pred_loss: 1.0232 - val_session_pred_accuracy: 0.6979 - val_session_pred_loss: 1.0770 - val_window_pred_accuracy: 0.6961 - val_loss: 2.1002\n",
      "Epoch 8/50\n",
      "37/37 [==============================] - 18s 475ms/step - window_pred_loss: 0.2746 - session_pred_accuracy: 0.8742 - session_pred_loss: 0.2742 - window_pred_accuracy: 0.8755 - loss: 0.5489 - val_window_pred_loss: 0.5636 - val_session_pred_accuracy: 0.6000 - val_session_pred_loss: 0.5899 - val_window_pred_accuracy: 0.6088 - val_loss: 1.1535\n",
      "Epoch 9/50\n",
      "37/37 [==============================] - 18s 477ms/step - window_pred_loss: 0.2728 - session_pred_accuracy: 0.8788 - session_pred_loss: 0.2743 - window_pred_accuracy: 0.8791 - loss: 0.5471 - val_window_pred_loss: 1.1701 - val_session_pred_accuracy: 0.6705 - val_session_pred_loss: 1.0960 - val_window_pred_accuracy: 0.6655 - val_loss: 2.2661\n",
      "Epoch 10/50\n",
      "37/37 [==============================] - 18s 479ms/step - window_pred_loss: 0.2630 - session_pred_accuracy: 0.8854 - session_pred_loss: 0.2646 - window_pred_accuracy: 0.8857 - loss: 0.5276 - val_window_pred_loss: 0.6560 - val_session_pred_accuracy: 0.6568 - val_session_pred_loss: 0.6779 - val_window_pred_accuracy: 0.6505 - val_loss: 1.3340\n",
      "Epoch 11/50\n",
      "37/37 [==============================] - 18s 477ms/step - window_pred_loss: 0.2531 - session_pred_accuracy: 0.8867 - session_pred_loss: 0.2533 - window_pred_accuracy: 0.8873 - loss: 0.5064 - val_window_pred_loss: 1.3973 - val_session_pred_accuracy: 0.6347 - val_session_pred_loss: 1.4627 - val_window_pred_accuracy: 0.6333 - val_loss: 2.8600\n",
      "Epoch 12/50\n",
      "37/37 [==============================] - 18s 475ms/step - window_pred_loss: 0.2508 - session_pred_accuracy: 0.8879 - session_pred_loss: 0.2516 - window_pred_accuracy: 0.8887 - loss: 0.5024 - val_window_pred_loss: 0.5016 - val_session_pred_accuracy: 0.7663 - val_session_pred_loss: 0.5147 - val_window_pred_accuracy: 0.7379 - val_loss: 1.0163\n",
      "Epoch 13/50\n",
      "37/37 [==============================] - 18s 474ms/step - window_pred_loss: 0.2468 - session_pred_accuracy: 0.8935 - session_pred_loss: 0.2481 - window_pred_accuracy: 0.8938 - loss: 0.4949 - val_window_pred_loss: 0.5268 - val_session_pred_accuracy: 0.7042 - val_session_pred_loss: 0.5215 - val_window_pred_accuracy: 0.7216 - val_loss: 1.0483\n",
      "Epoch 14/50\n",
      "37/37 [==============================] - 18s 477ms/step - window_pred_loss: 0.2535 - session_pred_accuracy: 0.8854 - session_pred_loss: 0.2563 - window_pred_accuracy: 0.8872 - loss: 0.5099 - val_window_pred_loss: 0.8364 - val_session_pred_accuracy: 0.6863 - val_session_pred_loss: 0.8640 - val_window_pred_accuracy: 0.6901 - val_loss: 1.7004\n",
      "Epoch 15/50\n",
      "37/37 [==============================] - 18s 480ms/step - window_pred_loss: 0.2437 - session_pred_accuracy: 0.8893 - session_pred_loss: 0.2457 - window_pred_accuracy: 0.8918 - loss: 0.4894 - val_window_pred_loss: 0.8702 - val_session_pred_accuracy: 0.6516 - val_session_pred_loss: 0.9370 - val_window_pred_accuracy: 0.6540 - val_loss: 1.8072\n",
      "Epoch 16/50\n",
      "37/37 [==============================] - 18s 480ms/step - window_pred_loss: 0.2600 - session_pred_accuracy: 0.8821 - session_pred_loss: 0.2617 - window_pred_accuracy: 0.8811 - loss: 0.5217 - val_window_pred_loss: 1.3476 - val_session_pred_accuracy: 0.5926 - val_session_pred_loss: 1.4076 - val_window_pred_accuracy: 0.5986 - val_loss: 2.7552\n",
      "Epoch 17/50\n",
      "37/37 [==============================] - 18s 480ms/step - window_pred_loss: 0.2388 - session_pred_accuracy: 0.8903 - session_pred_loss: 0.2426 - window_pred_accuracy: 0.8918 - loss: 0.4814 - val_window_pred_loss: 0.5166 - val_session_pred_accuracy: 0.7663 - val_session_pred_loss: 0.5396 - val_window_pred_accuracy: 0.7523 - val_loss: 1.0562\n",
      "Epoch 18/50\n",
      "37/37 [==============================] - 18s 480ms/step - window_pred_loss: 0.2843 - session_pred_accuracy: 0.8694 - session_pred_loss: 0.2904 - window_pred_accuracy: 0.8722 - loss: 0.5747 - val_window_pred_loss: 0.5927 - val_session_pred_accuracy: 0.6979 - val_session_pred_loss: 0.6584 - val_window_pred_accuracy: 0.7016 - val_loss: 1.2511\n",
      "Epoch 19/50\n",
      "37/37 [==============================] - 18s 479ms/step - window_pred_loss: 0.2797 - session_pred_accuracy: 0.8721 - session_pred_loss: 0.2829 - window_pred_accuracy: 0.8733 - loss: 0.5625 - val_window_pred_loss: 0.5803 - val_session_pred_accuracy: 0.6779 - val_session_pred_loss: 0.7028 - val_window_pred_accuracy: 0.7717 - val_loss: 1.2831\n",
      "Epoch 20/50\n",
      "37/37 [==============================] - 18s 479ms/step - window_pred_loss: 0.2512 - session_pred_accuracy: 0.8898 - session_pred_loss: 0.2522 - window_pred_accuracy: 0.8906 - loss: 0.5035 - val_window_pred_loss: 0.7326 - val_session_pred_accuracy: 0.6137 - val_session_pred_loss: 0.7737 - val_window_pred_accuracy: 0.6207 - val_loss: 1.5063\n",
      "Epoch 21/50\n",
      "37/37 [==============================] - 18s 479ms/step - window_pred_loss: 0.2477 - session_pred_accuracy: 0.8923 - session_pred_loss: 0.2506 - window_pred_accuracy: 0.8934 - loss: 0.4983 - val_window_pred_loss: 0.6409 - val_session_pred_accuracy: 0.6379 - val_session_pred_loss: 0.6933 - val_window_pred_accuracy: 0.6304 - val_loss: 1.3342\n",
      "Epoch 22/50\n",
      "37/37 [==============================] - 18s 481ms/step - window_pred_loss: 0.2310 - session_pred_accuracy: 0.8995 - session_pred_loss: 0.2327 - window_pred_accuracy: 0.8991 - loss: 0.4637 - val_window_pred_loss: 0.9075 - val_session_pred_accuracy: 0.5968 - val_session_pred_loss: 0.9354 - val_window_pred_accuracy: 0.6011 - val_loss: 1.8428\n",
      "Epoch 23/50\n",
      "26/37 [====================>.........] - ETA: 5s - window_pred_loss: 0.2550 - session_pred_accuracy: 0.8821 - session_pred_loss: 0.2583 - window_pred_accuracy: 0.8837 - loss: 0.5133"
     ]
    }
   ],
   "source": [
    "model.fit(X_train, [y_train_mid, y_train], batch_size=len(device_list) * 128, epochs=50, validation_data=(X_val, [y_val_mid, y_val]), use_multiprocessing=True)"
   ]
  },
  {
   "cell_type": "code",
   "execution_count": 17,
   "metadata": {},
   "outputs": [],
   "source": [
    "pred_mid, pred_sess = model.predict(X_test, batch_size=len(device_list) * 64)"
   ]
  },
  {
   "cell_type": "code",
   "execution_count": 18,
   "metadata": {},
   "outputs": [],
   "source": [
    "# labels_map = {1:'lying',2:'sitting',3:'standing',4:'walking',5:'running',6:'cycling',7:'Nordic walking',\n",
    "#               11:'ascending stairs',12:'descending stairs',13:'vacuum cleaning',\n",
    "#               14:'ironing', 18:'rope jumping'}\n",
    "# class_names = list(labels_map.values())"
   ]
  },
  {
   "cell_type": "code",
   "execution_count": 19,
   "metadata": {},
   "outputs": [
    {
     "name": "stdout",
     "output_type": "stream",
     "text": [
      "              precision    recall  f1-score   support\n",
      "\n",
      "           0       0.79      0.65      0.71       891\n",
      "           1       0.73      0.84      0.78       984\n",
      "\n",
      "    accuracy                           0.75      1875\n",
      "   macro avg       0.76      0.75      0.75      1875\n",
      "weighted avg       0.76      0.75      0.75      1875\n",
      "\n"
     ]
    }
   ],
   "source": [
    "print(classification_report(np.argmax(y_test, axis=1), np.argmax(pred_sess, axis=1)))"
   ]
  },
  {
   "cell_type": "code",
   "execution_count": 31,
   "metadata": {},
   "outputs": [
    {
     "name": "stdout",
     "output_type": "stream",
     "text": [
      "              precision    recall  f1-score   support\n",
      "\n",
      "           0       0.91      0.75      0.82       135\n",
      "           1       0.77      0.92      0.84       122\n",
      "\n",
      "    accuracy                           0.83       257\n",
      "   macro avg       0.84      0.83      0.83       257\n",
      "weighted avg       0.84      0.83      0.83       257\n",
      "\n"
     ]
    }
   ],
   "source": [
    "print(classification_report(np.argmax(y_test, axis=1), np.argmax(pred_sess, axis=1)))"
   ]
  },
  {
   "cell_type": "code",
   "execution_count": 32,
   "metadata": {},
   "outputs": [
    {
     "name": "stdout",
     "output_type": "stream",
     "text": [
      "              precision    recall  f1-score   support\n",
      "\n",
      "           0       0.91      0.75      0.82       135\n",
      "           1       0.77      0.92      0.84       122\n",
      "\n",
      "    accuracy                           0.83       257\n",
      "   macro avg       0.84      0.83      0.83       257\n",
      "weighted avg       0.84      0.83      0.83       257\n",
      "\n"
     ]
    }
   ],
   "source": [
    "print(classification_report(np.argmax(y_test, axis=1), np.argmax(pred_sess, axis=1)))"
   ]
  },
  {
   "cell_type": "code",
   "execution_count": 33,
   "metadata": {},
   "outputs": [],
   "source": [
    "# activity_map"
   ]
  },
  {
   "cell_type": "code",
   "execution_count": 34,
   "metadata": {},
   "outputs": [
    {
     "data": {
      "text/plain": [
       "<AxesSubplot:>"
      ]
     },
     "execution_count": 34,
     "metadata": {},
     "output_type": "execute_result"
    },
    {
     "data": {
      "image/png": "[encoded data removed]",
      "text/plain": [
       "<Figure size 720x576 with 2 Axes>"
      ]
     },
     "metadata": {
      "needs_background": "light"
     },
     "output_type": "display_data"
    }
   ],
   "source": [
    "confm = confusion_matrix(np.argmax(y_test, axis=1), np.argmax(pred_sess, axis=1))\n",
    "# activity_list = list(activity_map.values())\n",
    "df_cm = pd.DataFrame(confm)\n",
    "plt.figure(figsize = (10,8))\n",
    "sns.heatmap(df_cm, annot=True, fmt='d', cmap=\"YlGnBu\")"
   ]
  },
  {
   "cell_type": "code",
   "execution_count": 35,
   "metadata": {},
   "outputs": [
    {
     "data": {
      "text/plain": [
       "(257, 15, 3)"
      ]
     },
     "execution_count": 35,
     "metadata": {},
     "output_type": "execute_result"
    }
   ],
   "source": [
    "y_test_mid.shape"
   ]
  },
  {
   "cell_type": "code",
   "execution_count": 36,
   "metadata": {},
   "outputs": [
    {
     "data": {
      "text/plain": [
       "(257, 15, 3)"
      ]
     },
     "execution_count": 36,
     "metadata": {},
     "output_type": "execute_result"
    }
   ],
   "source": [
    "pred_mid.shape"
   ]
  },
  {
   "cell_type": "code",
   "execution_count": 37,
   "metadata": {},
   "outputs": [
    {
     "name": "stdout",
     "output_type": "stream",
     "text": [
      "              precision    recall  f1-score   support\n",
      "\n",
      "           0       0.85      0.75      0.80      2025\n",
      "           1       0.76      0.86      0.81      1830\n",
      "\n",
      "    accuracy                           0.80      3855\n",
      "   macro avg       0.81      0.81      0.80      3855\n",
      "weighted avg       0.81      0.80      0.80      3855\n",
      "\n"
     ]
    }
   ],
   "source": [
    "print(classification_report(np.argmax(y_test_mid.reshape(-1, 3), axis=1), np.argmax(pred_mid.reshape(-1, 3), axis=1)))"
   ]
  },
  {
   "cell_type": "code",
   "execution_count": 38,
   "metadata": {},
   "outputs": [
    {
     "data": {
      "text/plain": [
       "<AxesSubplot:>"
      ]
     },
     "execution_count": 38,
     "metadata": {},
     "output_type": "execute_result"
    },
    {
     "data": {
      "image/png": "[encoded data removed]",
      "text/plain": [
       "<Figure size 720x576 with 2 Axes>"
      ]
     },
     "metadata": {
      "needs_background": "light"
     },
     "output_type": "display_data"
    }
   ],
   "source": [
    "confm = confusion_matrix(np.argmax(y_test_mid.reshape(-1, 3), axis=1), np.argmax(pred_mid.reshape(-1, 3), axis=1))\n",
    "# activity_list = list(activity_map.values())\n",
    "df_cm = pd.DataFrame(confm)\n",
    "plt.figure(figsize = (10,8))\n",
    "sns.heatmap(df_cm, annot=True, fmt='d', cmap=\"YlGnBu\")"
   ]
  },
  {
   "cell_type": "code",
   "execution_count": null,
   "metadata": {},
   "outputs": [],
   "source": []
  }
 ],
 "metadata": {
  "kernelspec": {
   "display_name": "Python 3",
   "language": "python",
   "name": "python3"
  },
  "language_info": {
   "codemirror_mode": {
    "name": "ipython",
    "version": 3
   },
   "file_extension": ".py",
   "mimetype": "text/x-python",
   "name": "python",
   "nbconvert_exporter": "python",
   "pygments_lexer": "ipython3",
   "version": "3.8.5"
  }
 },
 "nbformat": 4,
 "nbformat_minor": 4
}
