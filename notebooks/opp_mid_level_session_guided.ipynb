{
 "cells": [
  {
   "cell_type": "code",
   "execution_count": 1,
   "metadata": {},
   "outputs": [],
   "source": [
    "import tensorflow as tf\n",
    "import numpy as np\n",
    "import pandas as pd\n",
    "from sklearn.metrics import classification_report, confusion_matrix\n",
    "import seaborn as sns\n",
    "import matplotlib.pyplot as plt\n",
    "import sys\n",
    "import yaml\n",
    "\n",
    "sys.path.append(\"../\")\n",
    "\n",
    "%load_ext autoreload\n",
    "%autoreload 2"
   ]
  },
  {
   "cell_type": "code",
   "execution_count": 2,
   "metadata": {},
   "outputs": [],
   "source": [
    "from preprocessing.opp_preprocess import *\n",
    "from model.hierarchical_self_attention_model import HSA_model_session_guided_window"
   ]
  },
  {
   "cell_type": "code",
   "execution_count": 3,
   "metadata": {},
   "outputs": [],
   "source": [
    "# import tensorflow as tf\n",
    "# import numpy as np\n",
    "# import pandas as pd\n",
    "# from sklearn.metrics import classification_report, confusion_matrix\n",
    "# import seaborn as sns\n",
    "# import matplotlib.pyplot as plt\n",
    "# import sys\n",
    "# import yaml\n",
    "\n",
    "# sys.path.append(\"../\")\n",
    "\n",
    "# from preprocessing.opp_preprocess import *\n",
    "# from model.hierarchical_self_attention_model import HSA_model_session_guided_window\n",
    "\n",
    "# def session_length_variation():\n",
    "#     activity_list = ['Other', 'Open Door 1', 'Open Door 2', 'Close Door 1',\n",
    "#                     'Close Door 2', 'Open Fridge', 'Close Fridge', \n",
    "#                     'Open Dishwasher', 'Close Dishwasher', 'Open Drawer 1', \n",
    "#                     'Close Drawer 1', 'Open Drawer 2', 'Close Drawer 2', \n",
    "#                     'Open Drawer 3', 'Close Drawer 3', 'Clean Table', \n",
    "#                     'Drink from Cup', 'Toggle Switch']\n",
    "    \n",
    "#     DATA_PATH = '/home/hariub/data/HAR/processed/clean_opp_nodrill.csv'\n",
    "#     df = pd.read_csv(DATA_PATH)\n",
    "    \n",
    "#     FEATURES = [str(i) for i in range(77)]\n",
    "#     LOCO_LABEL_COL = 77\n",
    "#     MID_LABEL_COL = 78\n",
    "#     HI_LABEL_COL = 79\n",
    "#     SUBJECT_ID = 80\n",
    "#     RUN_ID = 81\n",
    "    \n",
    "#     df[FEATURES] = df[FEATURES].interpolate(method='linear', axis=0)\n",
    "#     df = df.fillna(0)\n",
    "#     scaler = StandardScaler()\n",
    "#     df[FEATURES] = scaler.fit_transform(df[FEATURES])\n",
    "\n",
    "#     BENCHMARK_TEST = ((df[str(SUBJECT_ID)] == 2) | (df[str(SUBJECT_ID)] == 3)) & (\n",
    "#                 (df[str(RUN_ID)] == 4) | (df[str(RUN_ID)] == 5))\n",
    "\n",
    "#     train_df = df[~ BENCHMARK_TEST]\n",
    "#     test_df = df[BENCHMARK_TEST]\n",
    "    \n",
    "#     session_len_list = [20, 30, 40, 50, 60, 90, 120 ]\n",
    "#     for session_len in session_len_list:\n",
    "#         SLIDING_WINDOW_LENGTH = session_len\n",
    "#         SLIDING_WINDOW_STEP = SLIDING_WINDOW_LENGTH // 2\n",
    "#         N_WINDOW, N_TIMESTEP = 10, SLIDING_WINDOW_LENGTH //10\n",
    "\n",
    "#         X_train, y_train, m_labels_tr, loco_labels_tr = create_windowed_dataset_opp(train_df, FEATURES, str(\n",
    "#             MID_LABEL_COL), MID_LABEL_COL, LOCO_LABEL_COL, window_size=SLIDING_WINDOW_LENGTH, stride=SLIDING_WINDOW_STEP)\n",
    "#         X_test, y_test, m_labels_ts, loco_labels_ts = create_windowed_dataset_opp(test_df, FEATURES, str(\n",
    "#             MID_LABEL_COL), MID_LABEL_COL, LOCO_LABEL_COL, window_size=SLIDING_WINDOW_LENGTH, stride=SLIDING_WINDOW_STEP)\n",
    "\n",
    "#         X_train = X_train.reshape(\n",
    "#             (X_train.shape[0], N_WINDOW, N_TIMESTEP, len(FEATURES)))\n",
    "#         X_test = X_test.reshape(\n",
    "#             (X_test.shape[0], N_WINDOW, N_TIMESTEP, len(FEATURES)))\n",
    "\n",
    "#         y_train = tf.keras.utils.to_categorical(y_train)\n",
    "#         y_test = tf.keras.utils.to_categorical(y_test)\n",
    "        \n",
    "#         y_train_mid = np.repeat(np.expand_dims(y_train, axis=1), repeats=N_WINDOW, axis=1)\n",
    "#         # y_val_mid = np.repeat(np.expand_dims(y_val, axis=1), repeats=N_WINDOW, axis=1)\n",
    "#         y_test_mid = np.repeat(np.expand_dims(y_test, axis=1), repeats=N_WINDOW, axis=1)\n",
    "        \n",
    "#         hparam_file = open('../configs/hyperparameters.yaml', mode='r')\n",
    "#         hyperparameters = yaml.load(hparam_file, Loader=yaml.FullLoader)\n",
    "#         DATASET_NAME = 'opp'\n",
    "#         hparams_all = hyperparameters['HSA_model']\n",
    "#         hparams = hparams_all[DATASET_NAME]\n",
    "\n",
    "#         hparams['n_window'], hparams['n_timesteps'], hparams['n_features'], hparams['n_outputs'] = X_train.shape[1], X_train.shape[2], X_train.shape[3], y_train.shape[1]\n",
    "#         hparams['n_outputs_window']=  y_train.shape[1]\n",
    "        \n",
    "#         tf.keras.backend.clear_session()\n",
    "#         gpus = tf.config.experimental.list_physical_devices('GPU')\n",
    "#         if gpus:\n",
    "#           try:\n",
    "#             # Currently, memory growth needs to be the same across GPUs\n",
    "#             for gpu in gpus:\n",
    "#               tf.config.experimental.set_memory_growth(gpu, True)\n",
    "#             logical_gpus = tf.config.experimental.list_logical_devices('GPU')\n",
    "#             print(len(gpus), \"Physical GPUs,\", len(logical_gpus), \"Logical GPUs\")\n",
    "#           except RuntimeError as e:\n",
    "#             # Memory growth must be set before GPUs have been initialized\n",
    "#             print(e)\n",
    "\n",
    "#         device_list = ['/gpu:'+str(i) for i in range(5, 8)]\n",
    "#         strategy = tf.distribute.MirroredStrategy(devices=device_list)\n",
    "#         print('Number of devices: {}'.format(strategy.num_replicas_in_sync))\n",
    "#         with strategy.scope():\n",
    "#             model = HSA_model_session_guided_window(**hparams).get_compiled_model()\n",
    "            \n",
    "#         checkpoint_filepath = f\"opp_checkpoints/session_var/cp-{session_len}\" + \"-{epoch:04d}.ckpt\"\n",
    "#         model_checkpoint_callback = tf.keras.callbacks.ModelCheckpoint(filepath=checkpoint_filepath,\n",
    "#                                                                        save_weights_only=True)\n",
    "        \n",
    "#         model.fit(X_train, [y_train_mid, y_train], batch_size=len(device_list) * 128, epochs=1, validation_split=0.1, use_multiprocessing=True, callbacks=[model_checkpoint_callback], verbose=2)\n",
    "        \n",
    "#         model_from_ckpt = HSA_model_session_guided_window(**hparams).get_compiled_model()\n",
    "#         model_from_ckpt.load_weights(\"opp_checkpoints/cp-0001.ckpt\")\n",
    "#         pred_mid, pred_sess =model_from_ckpt.predict(X_test, batch_size= 64)\n",
    "        \n",
    "#         if not os.path.exists('result'):\n",
    "#             os.mkdir('result')\n",
    "            \n",
    "#         out_res_s = open(os.path.join('result',\n",
    "#                                     str('session_' + str(session_len).zfill(3) + '_session' + '.txt')), 'w')\n",
    "        \n",
    "        \n",
    "# #         print(classification_report(np.argmax(y_test, axis=1), np.argmax(pred_sess, axis=1), target_names=activity_list))\n",
    "#         print(classification_report(np.argmax(y_test, axis=1), np.argmax(pred_sess, axis=1), target_names=activity_list), file=out_res_s)\n",
    "        \n",
    "#         confm = confusion_matrix(np.argmax(y_test, axis=1), np.argmax(pred_sess, axis=1), normalize='pred')\n",
    "#         df_cm = pd.DataFrame(confm, index=activity_list, columns=activity_list)\n",
    "#         plt.figure(figsize = (20,15))\n",
    "#         sns.heatmap(df_cm, annot=True, fmt='0.3f', cmap=\"YlGnBu\")\n",
    "        \n",
    "#         if not os.path.exists('figures'):\n",
    "#             os.mkdir('figures')\n",
    "#         out_fig = 'session_' + str(session_len).zfill(3) + '.png'\n",
    "#         plt.savefig(os.path.join('figures', out_fig))\n",
    "        \n",
    "#         out_res_w = open(os.path.join('result',\n",
    "#                                     str('session_' + str(session_len).zfill(3) + '_window' + '.txt')), 'w')\n",
    "# #         print(classification_report(np.argmax(y_test_mid.reshape(-1, 18), axis=1), np.argmax(pred_mid.reshape(-1, 18), axis=1), target_names=activity_list))\n",
    "#         print(classification_report(np.argmax(y_test_mid.reshape(-1, 18), axis=1), np.argmax(pred_mid.reshape(-1, 18), axis=1), target_names=activity_list), file=out_res_w)"
   ]
  },
  {
   "cell_type": "code",
   "execution_count": 4,
   "metadata": {},
   "outputs": [],
   "source": [
    "# session_length_variation()"
   ]
  },
  {
   "cell_type": "code",
   "execution_count": 5,
   "metadata": {},
   "outputs": [],
   "source": [
    "DATA_PATH = '/home/hariub/data/HAR/processed/clean_opp_nodrill.csv'\n",
    "df = pd.read_csv(DATA_PATH)\n",
    "\n",
    "metadata_file = open('../configs/metadata.yaml', mode='r')\n",
    "metadata = yaml.load(metadata_file, Loader=yaml.FullLoader)['opp_preprocess']\n",
    "FEATURES = [str(i) for i in range(77)]\n",
    "LOCO_LABEL_COL = 77\n",
    "MID_LABEL_COL = 78\n",
    "HI_LABEL_COL = 79\n",
    "SUBJECT_ID = 80\n",
    "RUN_ID = 81\n",
    "\n",
    "# df = df[df[str(HI_LABEL_COL)] != 0]\n",
    "df[FEATURES] = df[FEATURES].interpolate(method='linear', axis=0)\n",
    "df = df.fillna(0)\n",
    "\n",
    "scaler = StandardScaler()\n",
    "df[FEATURES] = scaler.fit_transform(df[FEATURES])\n",
    "\n",
    "BENCHMARK_TEST = ((df[str(SUBJECT_ID)] == 2) | (df[str(SUBJECT_ID)] == 3)) & (\n",
    "            (df[str(RUN_ID)] == 4) | (df[str(RUN_ID)] == 5))\n",
    "\n",
    "train_df = df[~ BENCHMARK_TEST]\n",
    "test_df = df[BENCHMARK_TEST]\n",
    "\n",
    "SLIDING_WINDOW_LENGTH = 30\n",
    "SLIDING_WINDOW_STEP = 15\n",
    "N_WINDOW, N_TIMESTEP = 10, 3\n",
    "\n",
    "X_train, y_train, m_labels_tr, loco_labels_tr = create_windowed_dataset_opp(train_df, FEATURES, str(\n",
    "    MID_LABEL_COL), MID_LABEL_COL, LOCO_LABEL_COL, window_size=SLIDING_WINDOW_LENGTH, stride=SLIDING_WINDOW_STEP)\n",
    "X_test, y_test, m_labels_ts, loco_labels_ts = create_windowed_dataset_opp(test_df, FEATURES, str(\n",
    "    MID_LABEL_COL), MID_LABEL_COL, LOCO_LABEL_COL, window_size=SLIDING_WINDOW_LENGTH, stride=SLIDING_WINDOW_STEP)\n",
    "\n",
    "X_train = X_train.reshape(\n",
    "    (X_train.shape[0], N_WINDOW, N_TIMESTEP, len(FEATURES)))\n",
    "X_test = X_test.reshape(\n",
    "    (X_test.shape[0], N_WINDOW, N_TIMESTEP, len(FEATURES)))\n",
    "\n",
    "y_train = tf.keras.utils.to_categorical(y_train)\n",
    "y_test = tf.keras.utils.to_categorical(y_test)"
   ]
  },
  {
   "cell_type": "code",
   "execution_count": 6,
   "metadata": {},
   "outputs": [
    {
     "data": {
      "text/plain": [
       "(31915, 30)"
      ]
     },
     "execution_count": 6,
     "metadata": {},
     "output_type": "execute_result"
    }
   ],
   "source": [
    "np.asarray(m_labels_tr).shape"
   ]
  },
  {
   "cell_type": "code",
   "execution_count": 7,
   "metadata": {},
   "outputs": [
    {
     "data": {
      "text/plain": [
       "(31915, 18)"
      ]
     },
     "execution_count": 7,
     "metadata": {},
     "output_type": "execute_result"
    }
   ],
   "source": [
    "y_train.shape"
   ]
  },
  {
   "cell_type": "code",
   "execution_count": 8,
   "metadata": {},
   "outputs": [
    {
     "name": "stdout",
     "output_type": "stream",
     "text": [
      "(31915, 10, 3, 77)\n",
      "(31915, 18)\n"
     ]
    }
   ],
   "source": [
    "print(X_train.shape)\n",
    "print(y_train.shape)"
   ]
  },
  {
   "cell_type": "code",
   "execution_count": 9,
   "metadata": {},
   "outputs": [
    {
     "data": {
      "text/plain": [
       "(7298, 10, 3, 77)"
      ]
     },
     "execution_count": 9,
     "metadata": {},
     "output_type": "execute_result"
    }
   ],
   "source": [
    "X_test.shape"
   ]
  },
  {
   "cell_type": "code",
   "execution_count": 10,
   "metadata": {},
   "outputs": [],
   "source": [
    "# m_labels_tr = np.asarray(m_labels_tr).reshape((X_train.shape[0], N_WINDOW, N_TIMESTEP))\n",
    "# m_labels_ts = np.asarray(m_labels_ts).reshape((X_test.shape[0], N_WINDOW, N_TIMESTEP))"
   ]
  },
  {
   "cell_type": "code",
   "execution_count": 11,
   "metadata": {},
   "outputs": [],
   "source": [
    "# y_train_mid = np.zeros((X_train.shape[0], N_WINDOW))\n",
    "# for i in range(len(y_train_mid)):\n",
    "#     for j in range(N_WINDOW):\n",
    "#         y_train_mid[i,j] = np.bincount(m_labels_tr[i, j]).argmax()\n",
    "        \n",
    "# y_test_mid = np.zeros((X_test.shape[0], N_WINDOW))\n",
    "# for i in range(len(y_test_mid)):\n",
    "#     for j in range(N_WINDOW):\n",
    "#         y_test_mid[i,j] = np.bincount(m_labels_ts[i, j]).argmax()"
   ]
  },
  {
   "cell_type": "code",
   "execution_count": 12,
   "metadata": {},
   "outputs": [],
   "source": [
    "# y_train_mid = tf.keras.utils.to_categorical(y_train_mid)\n",
    "# y_test_mid = tf.keras.utils.to_categorical(y_test_mid)"
   ]
  },
  {
   "cell_type": "code",
   "execution_count": 13,
   "metadata": {},
   "outputs": [],
   "source": [
    "y_train_mid = np.repeat(np.expand_dims(y_train, axis=1), repeats=N_WINDOW, axis=1)\n",
    "# y_val_mid = np.repeat(np.expand_dims(y_val, axis=1), repeats=N_WINDOW, axis=1)\n",
    "y_test_mid = np.repeat(np.expand_dims(y_test, axis=1), repeats=N_WINDOW, axis=1)"
   ]
  },
  {
   "cell_type": "code",
   "execution_count": null,
   "metadata": {},
   "outputs": [],
   "source": []
  },
  {
   "cell_type": "code",
   "execution_count": 14,
   "metadata": {},
   "outputs": [],
   "source": [
    "hparam_file = open('../configs/hyperparameters.yaml', mode='r')\n",
    "hyperparameters = yaml.load(hparam_file, Loader=yaml.FullLoader)\n",
    "DATASET_NAME = 'opp'\n",
    "hparams_all = hyperparameters['HSA_model']\n",
    "hparams = hparams_all[DATASET_NAME]\n",
    "\n",
    "hparams['n_window'], hparams['n_timesteps'], hparams['n_features'], hparams['n_outputs'] = X_train.shape[1], X_train.shape[2], X_train.shape[3], y_train.shape[1]\n",
    "hparams['n_outputs_window']=  y_train.shape[1]"
   ]
  },
  {
   "cell_type": "markdown",
   "metadata": {},
   "source": [
    "## Training"
   ]
  },
  {
   "cell_type": "code",
   "execution_count": 15,
   "metadata": {},
   "outputs": [
    {
     "name": "stdout",
     "output_type": "stream",
     "text": [
      "8 Physical GPUs, 8 Logical GPUs\n",
      "INFO:tensorflow:Using MirroredStrategy with devices ('/job:localhost/replica:0/task:0/device:GPU:5', '/job:localhost/replica:0/task:0/device:GPU:6', '/job:localhost/replica:0/task:0/device:GPU:7')\n",
      "Number of devices: 3\n"
     ]
    }
   ],
   "source": [
    "tf.keras.backend.clear_session()\n",
    "gpus = tf.config.experimental.list_physical_devices('GPU')\n",
    "if gpus:\n",
    "  try:\n",
    "    # Currently, memory growth needs to be the same across GPUs\n",
    "    for gpu in gpus:\n",
    "      tf.config.experimental.set_memory_growth(gpu, True)\n",
    "    logical_gpus = tf.config.experimental.list_logical_devices('GPU')\n",
    "    print(len(gpus), \"Physical GPUs,\", len(logical_gpus), \"Logical GPUs\")\n",
    "  except RuntimeError as e:\n",
    "    # Memory growth must be set before GPUs have been initialized\n",
    "    print(e)\n",
    "    \n",
    "device_list = ['/gpu:'+str(i) for i in range(5, 8)]\n",
    "strategy = tf.distribute.MirroredStrategy(devices=device_list)\n",
    "print('Number of devices: {}'.format(strategy.num_replicas_in_sync))\n",
    "with strategy.scope():\n",
    "    model = HSA_model_session_guided_window(**hparams).get_compiled_model()"
   ]
  },
  {
   "cell_type": "code",
   "execution_count": 16,
   "metadata": {},
   "outputs": [
    {
     "name": "stdout",
     "output_type": "stream",
     "text": [
      "Model: \"model_1\"\n",
      "__________________________________________________________________________________________________\n",
      "Layer (type)                    Output Shape         Param #     Connected to                     \n",
      "==================================================================================================\n",
      "input_1 (InputLayer)            [(None, 10, 3, 77)]  0                                            \n",
      "__________________________________________________________________________________________________\n",
      "multi_window_encoder (MultiWind ((None, None, 64), ( 1249472     input_1[0][0]                    \n",
      "__________________________________________________________________________________________________\n",
      "modality_encoder_block_7 (Modal (None, None, 64)     170048      multi_window_encoder[0][0]       \n",
      "__________________________________________________________________________________________________\n",
      "combined_sensor_self_attention_ ((None, 64), (None,  82880       modality_encoder_block_7[0][0]   \n",
      "__________________________________________________________________________________________________\n",
      "tf_op_layer_Shape (TensorFlowOp [(2,)]               0           combined_sensor_self_attention_1[\n",
      "__________________________________________________________________________________________________\n",
      "tf_op_layer_ExpandDims (TensorF [(None, 1, 64)]      0           combined_sensor_self_attention_1[\n",
      "__________________________________________________________________________________________________\n",
      "tf_op_layer_strided_slice_7 (Te [(0,)]               0           tf_op_layer_Shape[0][0]          \n",
      "__________________________________________________________________________________________________\n",
      "tf_op_layer_strided_slice_8 (Te [(1,)]               0           tf_op_layer_Shape[0][0]          \n",
      "__________________________________________________________________________________________________\n",
      "tf_op_layer_Tile (TensorFlowOpL [(None, 10, 64)]     0           tf_op_layer_ExpandDims[0][0]     \n",
      "__________________________________________________________________________________________________\n",
      "tf_op_layer_concat (TensorFlowO [(2,)]               0           tf_op_layer_strided_slice_7[0][0]\n",
      "                                                                 tf_op_layer_strided_slice_8[0][0]\n",
      "__________________________________________________________________________________________________\n",
      "tf_op_layer_Reshape (TensorFlow [(None, 64)]         0           tf_op_layer_Tile[0][0]           \n",
      "                                                                 tf_op_layer_concat[0][0]         \n",
      "__________________________________________________________________________________________________\n",
      "reshape (Reshape)               (None, 10, 64)       0           tf_op_layer_Reshape[0][0]        \n",
      "__________________________________________________________________________________________________\n",
      "concatenate (Concatenate)       (None, 10, 128)      0           multi_window_encoder[0][0]       \n",
      "                                                                 reshape[0][0]                    \n",
      "__________________________________________________________________________________________________\n",
      "dense_108 (Dense)               (None, 10, 512)      66048       concatenate[0][0]                \n",
      "__________________________________________________________________________________________________\n",
      "dense_109 (Dense)               (None, 256)          16640       combined_sensor_self_attention_1[\n",
      "__________________________________________________________________________________________________\n",
      "window_pred (Dense)             (None, 10, 18)       9234        dense_108[0][0]                  \n",
      "__________________________________________________________________________________________________\n",
      "session_pred (Dense)            (None, 18)           4626        dense_109[0][0]                  \n",
      "==================================================================================================\n",
      "Total params: 1,598,948\n",
      "Trainable params: 1,598,948\n",
      "Non-trainable params: 0\n",
      "__________________________________________________________________________________________________\n"
     ]
    }
   ],
   "source": [
    "model.summary()"
   ]
  },
  {
   "cell_type": "code",
   "execution_count": 17,
   "metadata": {},
   "outputs": [],
   "source": [
    "checkpoint_filepath = \"opp_checkpoints/cp-{epoch:04d}.ckpt\"\n",
    "\n",
    "model_checkpoint_callback = tf.keras.callbacks.ModelCheckpoint(filepath=checkpoint_filepath,\n",
    "                                                               save_weights_only=True)                            "
   ]
  },
  {
   "cell_type": "code",
   "execution_count": 18,
   "metadata": {},
   "outputs": [
    {
     "name": "stdout",
     "output_type": "stream",
     "text": [
      "Epoch 1/60\n",
      "INFO:tensorflow:batch_all_reduce: 292 all-reduces with algorithm = nccl, num_packs = 1\n",
      "INFO:tensorflow:Reduce to /job:localhost/replica:0/task:0/device:CPU:0 then broadcast to ('/job:localhost/replica:0/task:0/device:CPU:0',).\n",
      "INFO:tensorflow:Reduce to /job:localhost/replica:0/task:0/device:CPU:0 then broadcast to ('/job:localhost/replica:0/task:0/device:CPU:0',).\n",
      "INFO:tensorflow:Reduce to /job:localhost/replica:0/task:0/device:CPU:0 then broadcast to ('/job:localhost/replica:0/task:0/device:CPU:0',).\n",
      "INFO:tensorflow:Reduce to /job:localhost/replica:0/task:0/device:CPU:0 then broadcast to ('/job:localhost/replica:0/task:0/device:CPU:0',).\n",
      "INFO:tensorflow:Reduce to /job:localhost/replica:0/task:0/device:CPU:0 then broadcast to ('/job:localhost/replica:0/task:0/device:CPU:0',).\n",
      "INFO:tensorflow:Reduce to /job:localhost/replica:0/task:0/device:CPU:0 then broadcast to ('/job:localhost/replica:0/task:0/device:CPU:0',).\n",
      "INFO:tensorflow:Reduce to /job:localhost/replica:0/task:0/device:CPU:0 then broadcast to ('/job:localhost/replica:0/task:0/device:CPU:0',).\n",
      "INFO:tensorflow:Reduce to /job:localhost/replica:0/task:0/device:CPU:0 then broadcast to ('/job:localhost/replica:0/task:0/device:CPU:0',).\n",
      "INFO:tensorflow:Reduce to /job:localhost/replica:0/task:0/device:CPU:0 then broadcast to ('/job:localhost/replica:0/task:0/device:CPU:0',).\n",
      "INFO:tensorflow:Reduce to /job:localhost/replica:0/task:0/device:CPU:0 then broadcast to ('/job:localhost/replica:0/task:0/device:CPU:0',).\n",
      "INFO:tensorflow:batch_all_reduce: 292 all-reduces with algorithm = nccl, num_packs = 1\n",
      "75/75 [==============================] - 26s 346ms/step - window_pred_loss: 0.7588 - loss: 1.5848 - window_pred_accuracy: 0.8486 - session_pred_accuracy: 0.8416 - session_pred_loss: 0.8260 - val_window_pred_loss: 0.6104 - val_loss: 1.3431 - val_window_pred_accuracy: 0.8529 - val_session_pred_accuracy: 0.8452 - val_session_pred_loss: 0.7326\n",
      "Epoch 2/60\n",
      "75/75 [==============================] - 12s 158ms/step - window_pred_loss: 0.4394 - loss: 0.9276 - window_pred_accuracy: 0.8813 - session_pred_accuracy: 0.8757 - session_pred_loss: 0.4882 - val_window_pred_loss: 0.4411 - val_loss: 0.9198 - val_window_pred_accuracy: 0.8714 - val_session_pred_accuracy: 0.8568 - val_session_pred_loss: 0.4787\n",
      "Epoch 3/60\n",
      "75/75 [==============================] - 12s 157ms/step - window_pred_loss: 0.3364 - loss: 0.6984 - window_pred_accuracy: 0.8978 - session_pred_accuracy: 0.8924 - session_pred_loss: 0.3620 - val_window_pred_loss: 0.4064 - val_loss: 0.8396 - val_window_pred_accuracy: 0.8729 - val_session_pred_accuracy: 0.8669 - val_session_pred_loss: 0.4332\n",
      "Epoch 4/60\n",
      "75/75 [==============================] - 12s 156ms/step - window_pred_loss: 0.2886 - loss: 0.6020 - window_pred_accuracy: 0.9080 - session_pred_accuracy: 0.8984 - session_pred_loss: 0.3134 - val_window_pred_loss: 0.3404 - val_loss: 0.7049 - val_window_pred_accuracy: 0.8954 - val_session_pred_accuracy: 0.8853 - val_session_pred_loss: 0.3644\n",
      "Epoch 5/60\n",
      "75/75 [==============================] - 12s 157ms/step - window_pred_loss: 0.2576 - loss: 0.5339 - window_pred_accuracy: 0.9155 - session_pred_accuracy: 0.9078 - session_pred_loss: 0.2762 - val_window_pred_loss: 0.3616 - val_loss: 0.7370 - val_window_pred_accuracy: 0.8900 - val_session_pred_accuracy: 0.8847 - val_session_pred_loss: 0.3755\n",
      "Epoch 6/60\n",
      "75/75 [==============================] - 12s 157ms/step - window_pred_loss: 0.2422 - loss: 0.5023 - window_pred_accuracy: 0.9195 - session_pred_accuracy: 0.9123 - session_pred_loss: 0.2600 - val_window_pred_loss: 0.3455 - val_loss: 0.7033 - val_window_pred_accuracy: 0.9003 - val_session_pred_accuracy: 0.8969 - val_session_pred_loss: 0.3578\n",
      "Epoch 7/60\n",
      "75/75 [==============================] - 12s 156ms/step - window_pred_loss: 0.2118 - loss: 0.4375 - window_pred_accuracy: 0.9279 - session_pred_accuracy: 0.9229 - session_pred_loss: 0.2257 - val_window_pred_loss: 0.3279 - val_loss: 0.6661 - val_window_pred_accuracy: 0.9056 - val_session_pred_accuracy: 0.9054 - val_session_pred_loss: 0.3382\n",
      "Epoch 8/60\n",
      "75/75 [==============================] - 12s 156ms/step - window_pred_loss: 0.2024 - loss: 0.4188 - window_pred_accuracy: 0.9304 - session_pred_accuracy: 0.9255 - session_pred_loss: 0.2164 - val_window_pred_loss: 0.3096 - val_loss: 0.6322 - val_window_pred_accuracy: 0.9137 - val_session_pred_accuracy: 0.9038 - val_session_pred_loss: 0.3226\n",
      "Epoch 9/60\n",
      "75/75 [==============================] - 12s 156ms/step - window_pred_loss: 0.1833 - loss: 0.3777 - window_pred_accuracy: 0.9370 - session_pred_accuracy: 0.9328 - session_pred_loss: 0.1944 - val_window_pred_loss: 0.3008 - val_loss: 0.6137 - val_window_pred_accuracy: 0.9030 - val_session_pred_accuracy: 0.8985 - val_session_pred_loss: 0.3128\n",
      "Epoch 10/60\n",
      "75/75 [==============================] - 12s 155ms/step - window_pred_loss: 0.1765 - loss: 0.3629 - window_pred_accuracy: 0.9388 - session_pred_accuracy: 0.9365 - session_pred_loss: 0.1864 - val_window_pred_loss: 0.2871 - val_loss: 0.5698 - val_window_pred_accuracy: 0.9187 - val_session_pred_accuracy: 0.9204 - val_session_pred_loss: 0.2826\n",
      "Epoch 11/60\n",
      "75/75 [==============================] - 12s 156ms/step - window_pred_loss: 0.1622 - loss: 0.3313 - window_pred_accuracy: 0.9439 - session_pred_accuracy: 0.9415 - session_pred_loss: 0.1691 - val_window_pred_loss: 0.3218 - val_loss: 0.6426 - val_window_pred_accuracy: 0.9023 - val_session_pred_accuracy: 0.9029 - val_session_pred_loss: 0.3209\n",
      "Epoch 12/60\n",
      "75/75 [==============================] - 12s 156ms/step - window_pred_loss: 0.1609 - loss: 0.3291 - window_pred_accuracy: 0.9451 - session_pred_accuracy: 0.9433 - session_pred_loss: 0.1681 - val_window_pred_loss: 0.2573 - val_loss: 0.5237 - val_window_pred_accuracy: 0.9212 - val_session_pred_accuracy: 0.9192 - val_session_pred_loss: 0.2664\n",
      "Epoch 13/60\n",
      "75/75 [==============================] - 12s 155ms/step - window_pred_loss: 0.1538 - loss: 0.3149 - window_pred_accuracy: 0.9474 - session_pred_accuracy: 0.9458 - session_pred_loss: 0.1611 - val_window_pred_loss: 0.3296 - val_loss: 0.6676 - val_window_pred_accuracy: 0.9112 - val_session_pred_accuracy: 0.9104 - val_session_pred_loss: 0.3381\n",
      "Epoch 14/60\n",
      "75/75 [==============================] - 12s 155ms/step - window_pred_loss: 0.1451 - loss: 0.2968 - window_pred_accuracy: 0.9499 - session_pred_accuracy: 0.9477 - session_pred_loss: 0.1517 - val_window_pred_loss: 0.2827 - val_loss: 0.5685 - val_window_pred_accuracy: 0.9185 - val_session_pred_accuracy: 0.9189 - val_session_pred_loss: 0.2858\n",
      "Epoch 15/60\n",
      "75/75 [==============================] - 12s 155ms/step - window_pred_loss: 0.1406 - loss: 0.2874 - window_pred_accuracy: 0.9517 - session_pred_accuracy: 0.9505 - session_pred_loss: 0.1468 - val_window_pred_loss: 0.2928 - val_loss: 0.5849 - val_window_pred_accuracy: 0.9181 - val_session_pred_accuracy: 0.9185 - val_session_pred_loss: 0.2921\n",
      "Epoch 16/60\n",
      "75/75 [==============================] - 12s 155ms/step - window_pred_loss: 0.1331 - loss: 0.2727 - window_pred_accuracy: 0.9545 - session_pred_accuracy: 0.9525 - session_pred_loss: 0.1396 - val_window_pred_loss: 0.3286 - val_loss: 0.6661 - val_window_pred_accuracy: 0.9125 - val_session_pred_accuracy: 0.9085 - val_session_pred_loss: 0.3376\n",
      "Epoch 17/60\n",
      "75/75 [==============================] - 12s 156ms/step - window_pred_loss: 0.1176 - loss: 0.2398 - window_pred_accuracy: 0.9605 - session_pred_accuracy: 0.9593 - session_pred_loss: 0.1222 - val_window_pred_loss: 0.3727 - val_loss: 0.7491 - val_window_pred_accuracy: 0.9091 - val_session_pred_accuracy: 0.9113 - val_session_pred_loss: 0.3764\n",
      "Epoch 18/60\n",
      "75/75 [==============================] - 12s 154ms/step - window_pred_loss: 0.1212 - loss: 0.2471 - window_pred_accuracy: 0.9588 - session_pred_accuracy: 0.9588 - session_pred_loss: 0.1258 - val_window_pred_loss: 0.2940 - val_loss: 0.5888 - val_window_pred_accuracy: 0.9259 - val_session_pred_accuracy: 0.9251 - val_session_pred_loss: 0.2948\n",
      "Epoch 19/60\n",
      "75/75 [==============================] - 12s 155ms/step - window_pred_loss: 0.1217 - loss: 0.2484 - window_pred_accuracy: 0.9581 - session_pred_accuracy: 0.9567 - session_pred_loss: 0.1267 - val_window_pred_loss: 0.3237 - val_loss: 0.6333 - val_window_pred_accuracy: 0.9144 - val_session_pred_accuracy: 0.9176 - val_session_pred_loss: 0.3095\n",
      "Epoch 20/60\n",
      "75/75 [==============================] - 12s 155ms/step - window_pred_loss: 0.1104 - loss: 0.2243 - window_pred_accuracy: 0.9635 - session_pred_accuracy: 0.9629 - session_pred_loss: 0.1139 - val_window_pred_loss: 0.3185 - val_loss: 0.6349 - val_window_pred_accuracy: 0.9137 - val_session_pred_accuracy: 0.9142 - val_session_pred_loss: 0.3165\n",
      "Epoch 21/60\n",
      "75/75 [==============================] - 12s 163ms/step - window_pred_loss: 0.1080 - loss: 0.2192 - window_pred_accuracy: 0.9637 - session_pred_accuracy: 0.9636 - session_pred_loss: 0.1112 - val_window_pred_loss: 0.2736 - val_loss: 0.5420 - val_window_pred_accuracy: 0.9250 - val_session_pred_accuracy: 0.9220 - val_session_pred_loss: 0.2684\n",
      "Epoch 22/60\n",
      "75/75 [==============================] - 12s 157ms/step - window_pred_loss: 0.1031 - loss: 0.2102 - window_pred_accuracy: 0.9652 - session_pred_accuracy: 0.9640 - session_pred_loss: 0.1071 - val_window_pred_loss: 0.3574 - val_loss: 0.7062 - val_window_pred_accuracy: 0.9065 - val_session_pred_accuracy: 0.9076 - val_session_pred_loss: 0.3487\n",
      "Epoch 23/60\n",
      "75/75 [==============================] - 12s 156ms/step - window_pred_loss: 0.1145 - loss: 0.2331 - window_pred_accuracy: 0.9609 - session_pred_accuracy: 0.9602 - session_pred_loss: 0.1186 - val_window_pred_loss: 0.3701 - val_loss: 0.7461 - val_window_pred_accuracy: 0.9116 - val_session_pred_accuracy: 0.9095 - val_session_pred_loss: 0.3760\n",
      "Epoch 24/60\n",
      "75/75 [==============================] - 12s 156ms/step - window_pred_loss: 0.1114 - loss: 0.2268 - window_pred_accuracy: 0.9623 - session_pred_accuracy: 0.9623 - session_pred_loss: 0.1154 - val_window_pred_loss: 0.3070 - val_loss: 0.6132 - val_window_pred_accuracy: 0.9121 - val_session_pred_accuracy: 0.9107 - val_session_pred_loss: 0.3062\n",
      "Epoch 25/60\n",
      "75/75 [==============================] - 12s 156ms/step - window_pred_loss: 0.0939 - loss: 0.1911 - window_pred_accuracy: 0.9680 - session_pred_accuracy: 0.9675 - session_pred_loss: 0.0972 - val_window_pred_loss: 0.3163 - val_loss: 0.6268 - val_window_pred_accuracy: 0.9087 - val_session_pred_accuracy: 0.9157 - val_session_pred_loss: 0.3105\n",
      "Epoch 26/60\n",
      "75/75 [==============================] - 12s 156ms/step - window_pred_loss: 0.0968 - loss: 0.1964 - window_pred_accuracy: 0.9669 - session_pred_accuracy: 0.9673 - session_pred_loss: 0.0996 - val_window_pred_loss: 0.3131 - val_loss: 0.6195 - val_window_pred_accuracy: 0.9264 - val_session_pred_accuracy: 0.9273 - val_session_pred_loss: 0.3064\n",
      "Epoch 27/60\n",
      "75/75 [==============================] - 12s 156ms/step - window_pred_loss: 0.0872 - loss: 0.1772 - window_pred_accuracy: 0.9702 - session_pred_accuracy: 0.9702 - session_pred_loss: 0.0900 - val_window_pred_loss: 0.3541 - val_loss: 0.7074 - val_window_pred_accuracy: 0.9288 - val_session_pred_accuracy: 0.9289 - val_session_pred_loss: 0.3534\n",
      "Epoch 28/60\n",
      "75/75 [==============================] - 12s 156ms/step - window_pred_loss: 0.0889 - loss: 0.1810 - window_pred_accuracy: 0.9696 - session_pred_accuracy: 0.9694 - session_pred_loss: 0.0921 - val_window_pred_loss: 0.3831 - val_loss: 0.7663 - val_window_pred_accuracy: 0.9073 - val_session_pred_accuracy: 0.9048 - val_session_pred_loss: 0.3832\n",
      "Epoch 29/60\n",
      "75/75 [==============================] - 12s 156ms/step - window_pred_loss: 0.0907 - loss: 0.1846 - window_pred_accuracy: 0.9691 - session_pred_accuracy: 0.9683 - session_pred_loss: 0.0939 - val_window_pred_loss: 0.3518 - val_loss: 0.6997 - val_window_pred_accuracy: 0.9192 - val_session_pred_accuracy: 0.9192 - val_session_pred_loss: 0.3479\n",
      "Epoch 30/60\n",
      "75/75 [==============================] - 12s 155ms/step - window_pred_loss: 0.0902 - loss: 0.1844 - window_pred_accuracy: 0.9697 - session_pred_accuracy: 0.9687 - session_pred_loss: 0.0941 - val_window_pred_loss: 0.3173 - val_loss: 0.6303 - val_window_pred_accuracy: 0.9206 - val_session_pred_accuracy: 0.9217 - val_session_pred_loss: 0.3130\n",
      "Epoch 31/60\n",
      "75/75 [==============================] - 12s 154ms/step - window_pred_loss: 0.0800 - loss: 0.1625 - window_pred_accuracy: 0.9734 - session_pred_accuracy: 0.9734 - session_pred_loss: 0.0825 - val_window_pred_loss: 0.3464 - val_loss: 0.6830 - val_window_pred_accuracy: 0.9111 - val_session_pred_accuracy: 0.9126 - val_session_pred_loss: 0.3366\n",
      "Epoch 32/60\n",
      "75/75 [==============================] - 11s 153ms/step - window_pred_loss: 0.0851 - loss: 0.1729 - window_pred_accuracy: 0.9708 - session_pred_accuracy: 0.9704 - session_pred_loss: 0.0878 - val_window_pred_loss: 0.3388 - val_loss: 0.6713 - val_window_pred_accuracy: 0.9303 - val_session_pred_accuracy: 0.9289 - val_session_pred_loss: 0.3325\n",
      "Epoch 33/60\n",
      "75/75 [==============================] - 12s 156ms/step - window_pred_loss: 0.0740 - loss: 0.1501 - window_pred_accuracy: 0.9750 - session_pred_accuracy: 0.9747 - session_pred_loss: 0.0761 - val_window_pred_loss: 0.3342 - val_loss: 0.6653 - val_window_pred_accuracy: 0.9262 - val_session_pred_accuracy: 0.9261 - val_session_pred_loss: 0.3311\n",
      "Epoch 34/60\n",
      "75/75 [==============================] - 12s 156ms/step - window_pred_loss: 0.0741 - loss: 0.1506 - window_pred_accuracy: 0.9751 - session_pred_accuracy: 0.9747 - session_pred_loss: 0.0766 - val_window_pred_loss: 0.3422 - val_loss: 0.6801 - val_window_pred_accuracy: 0.9203 - val_session_pred_accuracy: 0.9201 - val_session_pred_loss: 0.3379\n",
      "Epoch 35/60\n",
      "75/75 [==============================] - 12s 156ms/step - window_pred_loss: 0.0675 - loss: 0.1378 - window_pred_accuracy: 0.9771 - session_pred_accuracy: 0.9764 - session_pred_loss: 0.0703 - val_window_pred_loss: 0.3531 - val_loss: 0.7077 - val_window_pred_accuracy: 0.9224 - val_session_pred_accuracy: 0.9223 - val_session_pred_loss: 0.3546\n",
      "Epoch 36/60\n",
      "75/75 [==============================] - 12s 156ms/step - window_pred_loss: 0.0596 - loss: 0.1219 - window_pred_accuracy: 0.9794 - session_pred_accuracy: 0.9784 - session_pred_loss: 0.0623 - val_window_pred_loss: 0.3457 - val_loss: 0.6875 - val_window_pred_accuracy: 0.9222 - val_session_pred_accuracy: 0.9229 - val_session_pred_loss: 0.3418\n",
      "Epoch 37/60\n",
      "75/75 [==============================] - 12s 154ms/step - window_pred_loss: 0.0606 - loss: 0.1235 - window_pred_accuracy: 0.9792 - session_pred_accuracy: 0.9787 - session_pred_loss: 0.0629 - val_window_pred_loss: 0.3587 - val_loss: 0.7072 - val_window_pred_accuracy: 0.9194 - val_session_pred_accuracy: 0.9207 - val_session_pred_loss: 0.3485\n",
      "Epoch 38/60\n",
      "75/75 [==============================] - 12s 154ms/step - window_pred_loss: 0.0702 - loss: 0.1431 - window_pred_accuracy: 0.9756 - session_pred_accuracy: 0.9748 - session_pred_loss: 0.0730 - val_window_pred_loss: 0.3609 - val_loss: 0.7291 - val_window_pred_accuracy: 0.9163 - val_session_pred_accuracy: 0.9176 - val_session_pred_loss: 0.3681\n",
      "Epoch 39/60\n",
      "75/75 [==============================] - 12s 155ms/step - window_pred_loss: 0.0688 - loss: 0.1396 - window_pred_accuracy: 0.9764 - session_pred_accuracy: 0.9768 - session_pred_loss: 0.0708 - val_window_pred_loss: 0.3908 - val_loss: 0.7771 - val_window_pred_accuracy: 0.9160 - val_session_pred_accuracy: 0.9157 - val_session_pred_loss: 0.3863\n",
      "Epoch 40/60\n",
      "75/75 [==============================] - 12s 155ms/step - window_pred_loss: 0.0636 - loss: 0.1296 - window_pred_accuracy: 0.9787 - session_pred_accuracy: 0.9791 - session_pred_loss: 0.0661 - val_window_pred_loss: 0.3891 - val_loss: 0.7807 - val_window_pred_accuracy: 0.9135 - val_session_pred_accuracy: 0.9132 - val_session_pred_loss: 0.3916\n",
      "Epoch 41/60\n",
      "75/75 [==============================] - 12s 155ms/step - window_pred_loss: 0.0520 - loss: 0.1055 - window_pred_accuracy: 0.9823 - session_pred_accuracy: 0.9826 - session_pred_loss: 0.0535 - val_window_pred_loss: 0.4027 - val_loss: 0.7976 - val_window_pred_accuracy: 0.9266 - val_session_pred_accuracy: 0.9261 - val_session_pred_loss: 0.3949\n",
      "Epoch 42/60\n",
      "75/75 [==============================] - 12s 155ms/step - window_pred_loss: 0.0710 - loss: 0.1439 - window_pred_accuracy: 0.9751 - session_pred_accuracy: 0.9746 - session_pred_loss: 0.0730 - val_window_pred_loss: 0.3685 - val_loss: 0.7332 - val_window_pred_accuracy: 0.9240 - val_session_pred_accuracy: 0.9242 - val_session_pred_loss: 0.3647\n",
      "Epoch 43/60\n",
      "75/75 [==============================] - 12s 154ms/step - window_pred_loss: 0.0653 - loss: 0.1329 - window_pred_accuracy: 0.9784 - session_pred_accuracy: 0.9776 - session_pred_loss: 0.0676 - val_window_pred_loss: 0.3810 - val_loss: 0.7736 - val_window_pred_accuracy: 0.9171 - val_session_pred_accuracy: 0.9151 - val_session_pred_loss: 0.3926\n",
      "Epoch 44/60\n",
      "75/75 [==============================] - 12s 155ms/step - window_pred_loss: 0.0634 - loss: 0.1291 - window_pred_accuracy: 0.9791 - session_pred_accuracy: 0.9786 - session_pred_loss: 0.0657 - val_window_pred_loss: 0.3792 - val_loss: 0.7479 - val_window_pred_accuracy: 0.9243 - val_session_pred_accuracy: 0.9232 - val_session_pred_loss: 0.3687\n",
      "Epoch 45/60\n",
      "75/75 [==============================] - 12s 165ms/step - window_pred_loss: 0.0521 - loss: 0.1060 - window_pred_accuracy: 0.9829 - session_pred_accuracy: 0.9825 - session_pred_loss: 0.0539 - val_window_pred_loss: 0.3468 - val_loss: 0.6868 - val_window_pred_accuracy: 0.9308 - val_session_pred_accuracy: 0.9292 - val_session_pred_loss: 0.3400\n",
      "Epoch 46/60\n",
      "75/75 [==============================] - 11s 151ms/step - window_pred_loss: 0.0519 - loss: 0.1056 - window_pred_accuracy: 0.9822 - session_pred_accuracy: 0.9819 - session_pred_loss: 0.0538 - val_window_pred_loss: 0.4399 - val_loss: 0.8720 - val_window_pred_accuracy: 0.9148 - val_session_pred_accuracy: 0.9132 - val_session_pred_loss: 0.4322\n",
      "Epoch 47/60\n",
      "75/75 [==============================] - 11s 152ms/step - window_pred_loss: 0.0580 - loss: 0.1181 - window_pred_accuracy: 0.9808 - session_pred_accuracy: 0.9805 - session_pred_loss: 0.0601 - val_window_pred_loss: 0.3650 - val_loss: 0.7322 - val_window_pred_accuracy: 0.9182 - val_session_pred_accuracy: 0.9170 - val_session_pred_loss: 0.3672\n",
      "Epoch 48/60\n",
      "75/75 [==============================] - 12s 153ms/step - window_pred_loss: 0.0624 - loss: 0.1269 - window_pred_accuracy: 0.9789 - session_pred_accuracy: 0.9787 - session_pred_loss: 0.0645 - val_window_pred_loss: 0.3727 - val_loss: 0.7430 - val_window_pred_accuracy: 0.9186 - val_session_pred_accuracy: 0.9192 - val_session_pred_loss: 0.3703\n",
      "Epoch 49/60\n",
      "75/75 [==============================] - 12s 156ms/step - window_pred_loss: 0.0543 - loss: 0.1104 - window_pred_accuracy: 0.9812 - session_pred_accuracy: 0.9809 - session_pred_loss: 0.0561 - val_window_pred_loss: 0.3950 - val_loss: 0.7852 - val_window_pred_accuracy: 0.9159 - val_session_pred_accuracy: 0.9142 - val_session_pred_loss: 0.3903\n",
      "Epoch 50/60\n",
      "75/75 [==============================] - 12s 154ms/step - window_pred_loss: 0.0524 - loss: 0.1063 - window_pred_accuracy: 0.9823 - session_pred_accuracy: 0.9819 - session_pred_loss: 0.0539 - val_window_pred_loss: 0.4258 - val_loss: 0.8461 - val_window_pred_accuracy: 0.9056 - val_session_pred_accuracy: 0.9038 - val_session_pred_loss: 0.4203\n",
      "Epoch 51/60\n",
      "75/75 [==============================] - 12s 156ms/step - window_pred_loss: 0.0569 - loss: 0.1151 - window_pred_accuracy: 0.9811 - session_pred_accuracy: 0.9811 - session_pred_loss: 0.0582 - val_window_pred_loss: 0.4195 - val_loss: 0.8347 - val_window_pred_accuracy: 0.9044 - val_session_pred_accuracy: 0.9029 - val_session_pred_loss: 0.4152\n",
      "Epoch 52/60\n",
      "75/75 [==============================] - 12s 156ms/step - window_pred_loss: 0.0544 - loss: 0.1107 - window_pred_accuracy: 0.9812 - session_pred_accuracy: 0.9809 - session_pred_loss: 0.0563 - val_window_pred_loss: 0.4938 - val_loss: 0.9849 - val_window_pred_accuracy: 0.8972 - val_session_pred_accuracy: 0.8951 - val_session_pred_loss: 0.4910\n",
      "Epoch 53/60\n",
      "75/75 [==============================] - 12s 156ms/step - window_pred_loss: 0.0523 - loss: 0.1065 - window_pred_accuracy: 0.9827 - session_pred_accuracy: 0.9822 - session_pred_loss: 0.0543 - val_window_pred_loss: 0.4445 - val_loss: 0.8769 - val_window_pred_accuracy: 0.9084 - val_session_pred_accuracy: 0.9085 - val_session_pred_loss: 0.4324\n",
      "Epoch 54/60\n",
      "75/75 [==============================] - 12s 154ms/step - window_pred_loss: 0.0447 - loss: 0.0906 - window_pred_accuracy: 0.9851 - session_pred_accuracy: 0.9851 - session_pred_loss: 0.0459 - val_window_pred_loss: 0.3814 - val_loss: 0.7515 - val_window_pred_accuracy: 0.9281 - val_session_pred_accuracy: 0.9279 - val_session_pred_loss: 0.3700\n",
      "Epoch 55/60\n",
      "75/75 [==============================] - 12s 155ms/step - window_pred_loss: 0.0504 - loss: 0.1024 - window_pred_accuracy: 0.9824 - session_pred_accuracy: 0.9819 - session_pred_loss: 0.0520 - val_window_pred_loss: 0.4232 - val_loss: 0.8385 - val_window_pred_accuracy: 0.9106 - val_session_pred_accuracy: 0.9107 - val_session_pred_loss: 0.4153\n",
      "Epoch 56/60\n",
      "75/75 [==============================] - 12s 154ms/step - window_pred_loss: 0.0424 - loss: 0.0860 - window_pred_accuracy: 0.9857 - session_pred_accuracy: 0.9852 - session_pred_loss: 0.0436 - val_window_pred_loss: 0.4139 - val_loss: 0.8187 - val_window_pred_accuracy: 0.9096 - val_session_pred_accuracy: 0.9085 - val_session_pred_loss: 0.4048\n",
      "Epoch 57/60\n",
      "75/75 [==============================] - 12s 155ms/step - window_pred_loss: 0.0342 - loss: 0.0692 - window_pred_accuracy: 0.9884 - session_pred_accuracy: 0.9883 - session_pred_loss: 0.0350 - val_window_pred_loss: 0.4874 - val_loss: 0.9620 - val_window_pred_accuracy: 0.9000 - val_session_pred_accuracy: 0.9013 - val_session_pred_loss: 0.4746\n",
      "Epoch 58/60\n",
      "75/75 [==============================] - 12s 155ms/step - window_pred_loss: 0.0560 - loss: 0.1136 - window_pred_accuracy: 0.9809 - session_pred_accuracy: 0.9806 - session_pred_loss: 0.0576 - val_window_pred_loss: 0.3255 - val_loss: 0.6469 - val_window_pred_accuracy: 0.9272 - val_session_pred_accuracy: 0.9261 - val_session_pred_loss: 0.3213\n",
      "Epoch 59/60\n",
      "75/75 [==============================] - 12s 155ms/step - window_pred_loss: 0.0520 - loss: 0.1058 - window_pred_accuracy: 0.9832 - session_pred_accuracy: 0.9834 - session_pred_loss: 0.0538 - val_window_pred_loss: 0.3671 - val_loss: 0.7226 - val_window_pred_accuracy: 0.9288 - val_session_pred_accuracy: 0.9292 - val_session_pred_loss: 0.3555\n",
      "Epoch 60/60\n",
      "75/75 [==============================] - 12s 154ms/step - window_pred_loss: 0.0508 - loss: 0.1028 - window_pred_accuracy: 0.9834 - session_pred_accuracy: 0.9832 - session_pred_loss: 0.0520 - val_window_pred_loss: 0.4008 - val_loss: 0.7947 - val_window_pred_accuracy: 0.9125 - val_session_pred_accuracy: 0.9135 - val_session_pred_loss: 0.3939\n"
     ]
    },
    {
     "data": {
      "text/plain": [
       "<tensorflow.python.keras.callbacks.History at 0x7ffa8855ac40>"
      ]
     },
     "execution_count": 18,
     "metadata": {},
     "output_type": "execute_result"
    }
   ],
   "source": [
    "model.fit(X_train, [y_train_mid, y_train], batch_size=len(device_list) * 128, epochs=60, validation_split=0.1, use_multiprocessing=True, callbacks=[model_checkpoint_callback])"
   ]
  },
  {
   "cell_type": "code",
   "execution_count": 67,
   "metadata": {},
   "outputs": [],
   "source": [
    "# model.evaluate(X_test, [y_test_mid, y_test])"
   ]
  },
  {
   "cell_type": "code",
   "execution_count": 20,
   "metadata": {},
   "outputs": [],
   "source": [
    "# pred_mid, pred_sess = model.predict(X_test, batch_size=len(device_list) * 64)"
   ]
  },
  {
   "cell_type": "code",
   "execution_count": 30,
   "metadata": {},
   "outputs": [
    {
     "data": {
      "text/plain": [
       "<tensorflow.python.training.tracking.util.CheckpointLoadStatus at 0x7ffac830b2e0>"
      ]
     },
     "execution_count": 30,
     "metadata": {},
     "output_type": "execute_result"
    }
   ],
   "source": [
    "model_from_ckpt = HSA_model_session_guided_window(**hparams).get_compiled_model()\n",
    "model_from_ckpt.load_weights(\"opp_checkpoints/cp-0055.ckpt\")"
   ]
  },
  {
   "cell_type": "code",
   "execution_count": 31,
   "metadata": {},
   "outputs": [],
   "source": [
    "pred_mid, pred_sess =model_from_ckpt.predict(X_test, batch_size= 64)"
   ]
  },
  {
   "cell_type": "code",
   "execution_count": 32,
   "metadata": {},
   "outputs": [],
   "source": [
    "activity_list = ['Other', 'Open Door 1', 'Open Door 2', 'Close Door 1',\n",
    "                    'Close Door 2', 'Open Fridge', 'Close Fridge', \n",
    "                    'Open Dishwasher', 'Close Dishwasher', 'Open Drawer 1', \n",
    "                    'Close Drawer 1', 'Open Drawer 2', 'Close Drawer 2', \n",
    "                    'Open Drawer 3', 'Close Drawer 3', 'Clean Table', \n",
    "                    'Drink from Cup', 'Toggle Switch']"
   ]
  },
  {
   "cell_type": "code",
   "execution_count": 33,
   "metadata": {},
   "outputs": [
    {
     "name": "stdout",
     "output_type": "stream",
     "text": [
      "                  precision    recall  f1-score   support\n",
      "\n",
      "           Other       0.96      0.97      0.97      6270\n",
      "     Open Door 1       0.76      0.74      0.75        38\n",
      "     Open Door 2       0.92      0.89      0.91        66\n",
      "    Close Door 1       0.74      0.83      0.78        41\n",
      "    Close Door 2       0.92      0.87      0.90        54\n",
      "     Open Fridge       0.77      0.70      0.74       141\n",
      "    Close Fridge       0.94      0.77      0.85        88\n",
      " Open Dishwasher       0.54      0.84      0.66        57\n",
      "Close Dishwasher       0.41      0.79      0.54        42\n",
      "   Open Drawer 1       1.00      0.20      0.33        20\n",
      "  Close Drawer 1       0.56      0.38      0.45        24\n",
      "   Open Drawer 2       1.00      0.29      0.44        21\n",
      "  Close Drawer 2       0.60      0.50      0.55        12\n",
      "   Open Drawer 3       0.77      0.83      0.80        36\n",
      "  Close Drawer 3       0.64      0.83      0.72        30\n",
      "     Clean Table       0.82      0.51      0.63        70\n",
      "  Drink from Cup       0.80      0.67      0.73       228\n",
      "   Toggle Switch       0.83      0.42      0.56        60\n",
      "\n",
      "        accuracy                           0.93      7298\n",
      "       macro avg       0.78      0.67      0.68      7298\n",
      "    weighted avg       0.94      0.93      0.93      7298\n",
      "\n"
     ]
    }
   ],
   "source": [
    "print(classification_report(np.argmax(y_test, axis=1), np.argmax(pred_sess, axis=1), target_names=activity_list))"
   ]
  },
  {
   "cell_type": "code",
   "execution_count": 34,
   "metadata": {},
   "outputs": [
    {
     "name": "stdout",
     "output_type": "stream",
     "text": [
      "                  precision    recall  f1-score   support\n",
      "\n",
      "           Other       0.96      0.97      0.97      6270\n",
      "     Open Door 1       0.76      0.74      0.75        38\n",
      "     Open Door 2       0.92      0.89      0.91        66\n",
      "    Close Door 1       0.74      0.83      0.78        41\n",
      "    Close Door 2       0.92      0.87      0.90        54\n",
      "     Open Fridge       0.77      0.70      0.74       141\n",
      "    Close Fridge       0.94      0.77      0.85        88\n",
      " Open Dishwasher       0.54      0.84      0.66        57\n",
      "Close Dishwasher       0.41      0.79      0.54        42\n",
      "   Open Drawer 1       1.00      0.20      0.33        20\n",
      "  Close Drawer 1       0.56      0.38      0.45        24\n",
      "   Open Drawer 2       1.00      0.29      0.44        21\n",
      "  Close Drawer 2       0.60      0.50      0.55        12\n",
      "   Open Drawer 3       0.77      0.83      0.80        36\n",
      "  Close Drawer 3       0.64      0.83      0.72        30\n",
      "     Clean Table       0.82      0.51      0.63        70\n",
      "  Drink from Cup       0.80      0.67      0.73       228\n",
      "   Toggle Switch       0.83      0.42      0.56        60\n",
      "\n",
      "        accuracy                           0.93      7298\n",
      "       macro avg       0.78      0.67      0.68      7298\n",
      "    weighted avg       0.94      0.93      0.93      7298\n",
      "\n"
     ]
    }
   ],
   "source": [
    "print(classification_report(np.argmax(y_test, axis=1), np.argmax(pred_sess, axis=1), target_names=activity_list))"
   ]
  },
  {
   "cell_type": "code",
   "execution_count": 35,
   "metadata": {},
   "outputs": [
    {
     "data": {
      "text/plain": [
       "<AxesSubplot:>"
      ]
     },
     "execution_count": 35,
     "metadata": {},
     "output_type": "execute_result"
    },
    {
     "data": {
      "image/png": "[encoded data removed]",
      "text/plain": [
       "<Figure size 1440x1080 with 2 Axes>"
      ]
     },
     "metadata": {
      "needs_background": "light"
     },
     "output_type": "display_data"
    }
   ],
   "source": [
    "confm = confusion_matrix(np.argmax(y_test, axis=1), np.argmax(pred_sess, axis=1), normalize='pred')\n",
    "\n",
    "df_cm = pd.DataFrame(confm, index=activity_list, columns=activity_list)\n",
    "plt.figure(figsize = (20,15))\n",
    "sns.heatmap(df_cm, annot=True, fmt='0.3f', cmap=\"YlGnBu\")"
   ]
  },
  {
   "cell_type": "code",
   "execution_count": 36,
   "metadata": {},
   "outputs": [
    {
     "name": "stdout",
     "output_type": "stream",
     "text": [
      "                  precision    recall  f1-score   support\n",
      "\n",
      "           Other       0.96      0.98      0.97     62700\n",
      "     Open Door 1       0.77      0.74      0.76       380\n",
      "     Open Door 2       0.92      0.90      0.91       660\n",
      "    Close Door 1       0.74      0.81      0.77       410\n",
      "    Close Door 2       0.94      0.86      0.90       540\n",
      "     Open Fridge       0.78      0.70      0.74      1410\n",
      "    Close Fridge       0.95      0.75      0.84       880\n",
      " Open Dishwasher       0.55      0.84      0.66       570\n",
      "Close Dishwasher       0.41      0.77      0.54       420\n",
      "   Open Drawer 1       0.77      0.18      0.30       200\n",
      "  Close Drawer 1       0.59      0.39      0.47       240\n",
      "   Open Drawer 2       0.92      0.27      0.42       210\n",
      "  Close Drawer 2       0.61      0.47      0.54       120\n",
      "   Open Drawer 3       0.77      0.82      0.79       360\n",
      "  Close Drawer 3       0.66      0.82      0.73       300\n",
      "     Clean Table       0.84      0.51      0.64       700\n",
      "  Drink from Cup       0.79      0.66      0.72      2280\n",
      "   Toggle Switch       0.85      0.41      0.55       600\n",
      "\n",
      "        accuracy                           0.93     72980\n",
      "       macro avg       0.77      0.66      0.68     72980\n",
      "    weighted avg       0.94      0.93      0.93     72980\n",
      "\n"
     ]
    }
   ],
   "source": [
    "print(classification_report(np.argmax(y_test_mid.reshape(-1, 18), axis=1), np.argmax(pred_mid.reshape(-1, 18), axis=1), target_names=activity_list))"
   ]
  },
  {
   "cell_type": "code",
   "execution_count": null,
   "metadata": {},
   "outputs": [],
   "source": []
  }
 ],
 "metadata": {
  "kernelspec": {
   "display_name": "Python 3",
   "language": "python",
   "name": "python3"
  },
  "language_info": {
   "codemirror_mode": {
    "name": "ipython",
    "version": 3
   },
   "file_extension": ".py",
   "mimetype": "text/x-python",
   "name": "python",
   "nbconvert_exporter": "python",
   "pygments_lexer": "ipython3",
   "version": "3.8.5"
  }
 },
 "nbformat": 4,
 "nbformat_minor": 4
}
