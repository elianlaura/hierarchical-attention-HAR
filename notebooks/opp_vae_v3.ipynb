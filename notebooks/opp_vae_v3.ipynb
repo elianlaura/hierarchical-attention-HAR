{
 "cells": [
  {
   "cell_type": "code",
   "execution_count": 3,
   "metadata": {},
   "outputs": [],
   "source": [
    "import tensorflow as tf\n",
    "import numpy as np\n",
    "import pandas as pd\n",
    "from sklearn.metrics import classification_report, confusion_matrix, accuracy_score, f1_score\n",
    "import seaborn as sns\n",
    "import matplotlib.pyplot as plt\n",
    "import sys\n",
    "import yaml\n",
    "\n",
    "from tabulate import tabulate\n",
    "\n",
    "sys.path.append(\"../\")\n",
    "\n",
    "%load_ext autoreload\n",
    "%autoreload 2"
   ]
  },
  {
   "cell_type": "code",
   "execution_count": 4,
   "metadata": {},
   "outputs": [],
   "source": [
    "from preprocessing.opp_preprocess import *\n",
    "from model.hierarchical_self_attention_model import HSA_model_session_guided_window"
   ]
  },
  {
   "cell_type": "code",
   "execution_count": 5,
   "metadata": {},
   "outputs": [],
   "source": [
    "data_path = '/home/hariub/data/HAR/processed/clean_opp_nodrill.csv'\n",
    "df = pd.read_csv(data_path)\n",
    "\n",
    "metadata_file = open('../configs/metadata.yaml', mode='r')\n",
    "metadata = yaml.load(metadata_file, Loader=yaml.FullLoader)['opp_preprocess']\n",
    "FEATURES = [str(i) for i in range(77)]\n",
    "LOCO_LABEL_COL = 77\n",
    "MID_LABEL_COL = 78\n",
    "HI_LABEL_COL = 79\n",
    "SUBJECT_ID = 80\n",
    "RUN_ID = 81\n",
    "\n",
    "# df = df[df[str(HI_LABEL_COL)] != 0]\n",
    "df[FEATURES] = df[FEATURES].interpolate(method='linear', axis=0)\n",
    "df = df.fillna(0)\n",
    "\n",
    "scaler = StandardScaler()\n",
    "df[FEATURES] = scaler.fit_transform(df[FEATURES])"
   ]
  },
  {
   "cell_type": "code",
   "execution_count": 6,
   "metadata": {},
   "outputs": [],
   "source": [
    "NOVEL_CLASSES = [1,3,7,8]"
   ]
  },
  {
   "cell_type": "code",
   "execution_count": 7,
   "metadata": {},
   "outputs": [],
   "source": [
    "holdout_data = df.loc[df[str(MID_LABEL_COL)].isin(NOVEL_CLASSES)]\n",
    "novel_data = holdout_data.copy().reset_index(drop=True)\n",
    "\n",
    "df = df.drop(holdout_data.copy().index)\n",
    "df = df.reset_index(drop=True)"
   ]
  },
  {
   "cell_type": "code",
   "execution_count": 8,
   "metadata": {},
   "outputs": [],
   "source": [
    "BENCHMARK_TEST = ((df[str(SUBJECT_ID)] == 2) | (df[str(SUBJECT_ID)] == 3)) & (\n",
    "            (df[str(RUN_ID)] == 4) | (df[str(RUN_ID)] == 5))\n",
    "\n",
    "train_df = df[~ BENCHMARK_TEST]\n",
    "test_df = df[BENCHMARK_TEST]\n",
    "\n",
    "SLIDING_WINDOW_LENGTH = 30\n",
    "SLIDING_WINDOW_STEP = 15\n",
    "N_WINDOW, N_TIMESTEP = 10, 3\n",
    "\n",
    "X_train, y_train, m_labels_tr, loco_labels_tr = create_windowed_dataset_opp(train_df, FEATURES, str(\n",
    "    MID_LABEL_COL), MID_LABEL_COL, LOCO_LABEL_COL, window_size=SLIDING_WINDOW_LENGTH, stride=SLIDING_WINDOW_STEP)\n",
    "X_test, y_test, m_labels_ts, loco_labels_ts = create_windowed_dataset_opp(test_df, FEATURES, str(\n",
    "    MID_LABEL_COL), MID_LABEL_COL, LOCO_LABEL_COL, window_size=SLIDING_WINDOW_LENGTH, stride=SLIDING_WINDOW_STEP)\n",
    "\n",
    "X_train = X_train.reshape(\n",
    "    (X_train.shape[0], N_WINDOW, N_TIMESTEP, len(FEATURES)))\n",
    "X_test = X_test.reshape(\n",
    "    (X_test.shape[0], N_WINDOW, N_TIMESTEP, len(FEATURES)))\n",
    "\n",
    "y_train = tf.keras.utils.to_categorical(y_train)\n",
    "y_test = tf.keras.utils.to_categorical(y_test)"
   ]
  },
  {
   "cell_type": "code",
   "execution_count": 9,
   "metadata": {},
   "outputs": [],
   "source": [
    "X_holdout, y_holdout, m_labels_holdout, loco_labels_holdout = create_windowed_dataset_opp(novel_data,FEATURES,str(\n",
    "    MID_LABEL_COL), MID_LABEL_COL, LOCO_LABEL_COL, window_size=SLIDING_WINDOW_LENGTH, stride = SLIDING_WINDOW_STEP)\n",
    "\n",
    "X_holdout = X_holdout.reshape((X_holdout.shape[0], N_WINDOW, N_TIMESTEP, 77))\n",
    "y_holdout = tf.keras.utils.to_categorical(y_holdout)"
   ]
  },
  {
   "cell_type": "code",
   "execution_count": 10,
   "metadata": {},
   "outputs": [
    {
     "name": "stdout",
     "output_type": "stream",
     "text": [
      "(31258, 10, 3, 77)\n",
      "(31258, 18)\n",
      "(7166, 10, 3, 77)\n",
      "(7166, 18)\n",
      "(1058, 10, 3, 77)\n",
      "(1058, 9)\n"
     ]
    }
   ],
   "source": [
    "print(X_train.shape)\n",
    "print(y_train.shape)\n",
    "\n",
    "print(X_test.shape)\n",
    "print(y_test.shape)\n",
    "\n",
    "\n",
    "print(X_holdout.shape)\n",
    "print(y_holdout.shape)"
   ]
  },
  {
   "cell_type": "code",
   "execution_count": 11,
   "metadata": {},
   "outputs": [],
   "source": [
    "y_train_mid = np.repeat(np.expand_dims(y_train, axis=1), repeats=N_WINDOW, axis=1)\n",
    "# y_val_mid = np.repeat(np.expand_dims(y_val, axis=1), repeats=N_WINDOW, axis=1)\n",
    "y_test_mid = np.repeat(np.expand_dims(y_test, axis=1), repeats=N_WINDOW, axis=1)\n",
    "\n",
    "y_holdout_mid = np.repeat(np.expand_dims(y_holdout, axis=1), repeats=N_WINDOW, axis=1)"
   ]
  },
  {
   "cell_type": "code",
   "execution_count": 12,
   "metadata": {},
   "outputs": [],
   "source": [
    "hparam_file = open('../configs/hyperparameters.yaml', mode='r')\n",
    "hyperparameters = yaml.load(hparam_file, Loader=yaml.FullLoader)\n",
    "DATASET_NAME = 'opp'\n",
    "hparams_all = hyperparameters['HSA_model']\n",
    "hparams = hparams_all[DATASET_NAME]\n",
    "\n",
    "hparams['n_window'], hparams['n_timesteps'], hparams['n_features'], hparams['n_outputs'] = X_train.shape[1], X_train.shape[2], X_train.shape[3], y_train.shape[1]\n",
    "hparams['n_outputs_window']=  y_train.shape[1]"
   ]
  },
  {
   "cell_type": "markdown",
   "metadata": {},
   "source": [
    "## Training"
   ]
  },
  {
   "cell_type": "code",
   "execution_count": 13,
   "metadata": {},
   "outputs": [
    {
     "name": "stdout",
     "output_type": "stream",
     "text": [
      "8 Physical GPUs, 8 Logical GPUs\n"
     ]
    }
   ],
   "source": [
    "tf.keras.backend.clear_session()\n",
    "gpus = tf.config.experimental.list_physical_devices('GPU')\n",
    "if gpus:\n",
    "  try:\n",
    "    # Currently, memory growth needs to be the same across GPUs\n",
    "    for gpu in gpus:\n",
    "      tf.config.experimental.set_memory_growth(gpu, True)\n",
    "    logical_gpus = tf.config.experimental.list_logical_devices('GPU')\n",
    "    print(len(gpus), \"Physical GPUs,\", len(logical_gpus), \"Logical GPUs\")\n",
    "  except RuntimeError as e:\n",
    "    # Memory growth must be set before GPUs have been initialized\n",
    "    print(e)"
   ]
  },
  {
   "cell_type": "code",
   "execution_count": 14,
   "metadata": {},
   "outputs": [
    {
     "name": "stdout",
     "output_type": "stream",
     "text": [
      "INFO:tensorflow:Using MirroredStrategy with devices ('/job:localhost/replica:0/task:0/device:GPU:5', '/job:localhost/replica:0/task:0/device:GPU:6', '/job:localhost/replica:0/task:0/device:GPU:7')\n",
      "Number of devices: 3\n"
     ]
    }
   ],
   "source": [
    "device_list = ['/gpu:'+str(i) for i in range(5, 8)]\n",
    "strategy = tf.distribute.MirroredStrategy(devices=device_list)\n",
    "print('Number of devices: {}'.format(strategy.num_replicas_in_sync))\n",
    "with strategy.scope():\n",
    "    model = HSA_model_session_guided_window(**hparams).get_compiled_model()"
   ]
  },
  {
   "cell_type": "code",
   "execution_count": 15,
   "metadata": {},
   "outputs": [
    {
     "name": "stdout",
     "output_type": "stream",
     "text": [
      "Model: \"model_1\"\n",
      "__________________________________________________________________________________________________\n",
      "Layer (type)                    Output Shape         Param #     Connected to                     \n",
      "==================================================================================================\n",
      "input_1 (InputLayer)            [(None, 10, 3, 77)]  0                                            \n",
      "__________________________________________________________________________________________________\n",
      "multi_window_encoder (MultiWind ((None, None, 64), ( 1249472     input_1[0][0]                    \n",
      "__________________________________________________________________________________________________\n",
      "modality_encoder_block_7 (Modal (None, None, 64)     170048      multi_window_encoder[0][0]       \n",
      "__________________________________________________________________________________________________\n",
      "combined_sensor_self_attention_ ((None, 64), (None,  82880       modality_encoder_block_7[0][0]   \n",
      "__________________________________________________________________________________________________\n",
      "tf_op_layer_Shape (TensorFlowOp [(2,)]               0           combined_sensor_self_attention_1[\n",
      "__________________________________________________________________________________________________\n",
      "tf_op_layer_ExpandDims (TensorF [(None, 1, 64)]      0           combined_sensor_self_attention_1[\n",
      "__________________________________________________________________________________________________\n",
      "tf_op_layer_strided_slice_7 (Te [(0,)]               0           tf_op_layer_Shape[0][0]          \n",
      "__________________________________________________________________________________________________\n",
      "tf_op_layer_strided_slice_8 (Te [(1,)]               0           tf_op_layer_Shape[0][0]          \n",
      "__________________________________________________________________________________________________\n",
      "tf_op_layer_Tile (TensorFlowOpL [(None, 10, 64)]     0           tf_op_layer_ExpandDims[0][0]     \n",
      "__________________________________________________________________________________________________\n",
      "tf_op_layer_concat (TensorFlowO [(2,)]               0           tf_op_layer_strided_slice_7[0][0]\n",
      "                                                                 tf_op_layer_strided_slice_8[0][0]\n",
      "__________________________________________________________________________________________________\n",
      "tf_op_layer_Reshape (TensorFlow [(None, 64)]         0           tf_op_layer_Tile[0][0]           \n",
      "                                                                 tf_op_layer_concat[0][0]         \n",
      "__________________________________________________________________________________________________\n",
      "reshape (Reshape)               (None, 10, 64)       0           tf_op_layer_Reshape[0][0]        \n",
      "__________________________________________________________________________________________________\n",
      "concatenate (Concatenate)       (None, 10, 128)      0           multi_window_encoder[0][0]       \n",
      "                                                                 reshape[0][0]                    \n",
      "__________________________________________________________________________________________________\n",
      "dense_108 (Dense)               (None, 10, 512)      66048       concatenate[0][0]                \n",
      "__________________________________________________________________________________________________\n",
      "dense_109 (Dense)               (None, 256)          16640       combined_sensor_self_attention_1[\n",
      "__________________________________________________________________________________________________\n",
      "window_pred (Dense)             (None, 10, 18)       9234        dense_108[0][0]                  \n",
      "__________________________________________________________________________________________________\n",
      "session_pred (Dense)            (None, 18)           4626        dense_109[0][0]                  \n",
      "==================================================================================================\n",
      "Total params: 1,598,948\n",
      "Trainable params: 1,598,948\n",
      "Non-trainable params: 0\n",
      "__________________________________________________________________________________________________\n"
     ]
    }
   ],
   "source": [
    "model.summary()"
   ]
  },
  {
   "cell_type": "code",
   "execution_count": 16,
   "metadata": {},
   "outputs": [],
   "source": [
    "checkpoint_filepath = \"opp_vae_checkpoints/cp-{epoch:04d}.ckpt\"\n",
    "\n",
    "model_checkpoint_callback = tf.keras.callbacks.ModelCheckpoint(filepath=checkpoint_filepath,\n",
    "                                                               save_weights_only=True)                            "
   ]
  },
  {
   "cell_type": "code",
   "execution_count": 17,
   "metadata": {},
   "outputs": [
    {
     "name": "stdout",
     "output_type": "stream",
     "text": [
      "Epoch 1/50\n",
      "INFO:tensorflow:batch_all_reduce: 292 all-reduces with algorithm = nccl, num_packs = 1\n",
      "INFO:tensorflow:Reduce to /job:localhost/replica:0/task:0/device:CPU:0 then broadcast to ('/job:localhost/replica:0/task:0/device:CPU:0',).\n",
      "INFO:tensorflow:Reduce to /job:localhost/replica:0/task:0/device:CPU:0 then broadcast to ('/job:localhost/replica:0/task:0/device:CPU:0',).\n",
      "INFO:tensorflow:Reduce to /job:localhost/replica:0/task:0/device:CPU:0 then broadcast to ('/job:localhost/replica:0/task:0/device:CPU:0',).\n",
      "INFO:tensorflow:Reduce to /job:localhost/replica:0/task:0/device:CPU:0 then broadcast to ('/job:localhost/replica:0/task:0/device:CPU:0',).\n",
      "INFO:tensorflow:Reduce to /job:localhost/replica:0/task:0/device:CPU:0 then broadcast to ('/job:localhost/replica:0/task:0/device:CPU:0',).\n",
      "INFO:tensorflow:Reduce to /job:localhost/replica:0/task:0/device:CPU:0 then broadcast to ('/job:localhost/replica:0/task:0/device:CPU:0',).\n",
      "INFO:tensorflow:Reduce to /job:localhost/replica:0/task:0/device:CPU:0 then broadcast to ('/job:localhost/replica:0/task:0/device:CPU:0',).\n",
      "INFO:tensorflow:Reduce to /job:localhost/replica:0/task:0/device:CPU:0 then broadcast to ('/job:localhost/replica:0/task:0/device:CPU:0',).\n",
      "INFO:tensorflow:Reduce to /job:localhost/replica:0/task:0/device:CPU:0 then broadcast to ('/job:localhost/replica:0/task:0/device:CPU:0',).\n",
      "INFO:tensorflow:Reduce to /job:localhost/replica:0/task:0/device:CPU:0 then broadcast to ('/job:localhost/replica:0/task:0/device:CPU:0',).\n",
      "INFO:tensorflow:batch_all_reduce: 292 all-reduces with algorithm = nccl, num_packs = 1\n",
      "74/74 [==============================] - 26s 356ms/step - loss: 1.2735 - session_pred_accuracy: 0.8765 - window_pred_accuracy: 0.8657 - window_pred_loss: 0.6326 - session_pred_loss: 0.6408 - val_loss: 1.2708 - val_session_pred_accuracy: 0.8756 - val_window_pred_accuracy: 0.8756 - val_window_pred_loss: 0.5930 - val_session_pred_loss: 0.6778\n",
      "Epoch 2/50\n",
      "74/74 [==============================] - 12s 158ms/step - loss: 0.7563 - session_pred_accuracy: 0.8957 - window_pred_accuracy: 0.9013 - window_pred_loss: 0.3503 - session_pred_loss: 0.4060 - val_loss: 0.7326 - val_session_pred_accuracy: 0.8896 - val_window_pred_accuracy: 0.8990 - val_window_pred_loss: 0.3445 - val_session_pred_loss: 0.3881\n",
      "Epoch 3/50\n",
      "74/74 [==============================] - 12s 156ms/step - loss: 0.5253 - session_pred_accuracy: 0.9167 - window_pred_accuracy: 0.9214 - window_pred_loss: 0.2528 - session_pred_loss: 0.2726 - val_loss: 0.6323 - val_session_pred_accuracy: 0.9024 - val_window_pred_accuracy: 0.9050 - val_window_pred_loss: 0.3117 - val_session_pred_loss: 0.3205\n",
      "Epoch 4/50\n",
      "74/74 [==============================] - 12s 157ms/step - loss: 0.4554 - session_pred_accuracy: 0.9240 - window_pred_accuracy: 0.9283 - window_pred_loss: 0.2214 - session_pred_loss: 0.2340 - val_loss: 0.6624 - val_session_pred_accuracy: 0.9044 - val_window_pred_accuracy: 0.9044 - val_window_pred_loss: 0.3360 - val_session_pred_loss: 0.3265\n",
      "Epoch 5/50\n",
      "74/74 [==============================] - 12s 158ms/step - loss: 0.3930 - session_pred_accuracy: 0.9342 - window_pred_accuracy: 0.9366 - window_pred_loss: 0.1925 - session_pred_loss: 0.2005 - val_loss: 0.5318 - val_session_pred_accuracy: 0.9159 - val_window_pred_accuracy: 0.9218 - val_window_pred_loss: 0.2620 - val_session_pred_loss: 0.2698\n",
      "Epoch 6/50\n",
      "74/74 [==============================] - 12s 160ms/step - loss: 0.3859 - session_pred_accuracy: 0.9349 - window_pred_accuracy: 0.9375 - window_pred_loss: 0.1892 - session_pred_loss: 0.1967 - val_loss: 0.6032 - val_session_pred_accuracy: 0.9056 - val_window_pred_accuracy: 0.9066 - val_window_pred_loss: 0.3027 - val_session_pred_loss: 0.3004\n",
      "Epoch 7/50\n",
      "74/74 [==============================] - 12s 166ms/step - loss: 0.3489 - session_pred_accuracy: 0.9402 - window_pred_accuracy: 0.9419 - window_pred_loss: 0.1704 - session_pred_loss: 0.1784 - val_loss: 0.5497 - val_session_pred_accuracy: 0.9184 - val_window_pred_accuracy: 0.9201 - val_window_pred_loss: 0.2730 - val_session_pred_loss: 0.2767\n",
      "Epoch 8/50\n",
      "74/74 [==============================] - 13s 178ms/step - loss: 0.3174 - session_pred_accuracy: 0.9458 - window_pred_accuracy: 0.9467 - window_pred_loss: 0.1560 - session_pred_loss: 0.1614 - val_loss: 0.5650 - val_session_pred_accuracy: 0.9280 - val_window_pred_accuracy: 0.9269 - val_window_pred_loss: 0.2801 - val_session_pred_loss: 0.2849\n",
      "Epoch 9/50\n",
      "74/74 [==============================] - 16s 222ms/step - loss: 0.2913 - session_pred_accuracy: 0.9494 - window_pred_accuracy: 0.9508 - window_pred_loss: 0.1433 - session_pred_loss: 0.1480 - val_loss: 0.5518 - val_session_pred_accuracy: 0.9255 - val_window_pred_accuracy: 0.9272 - val_window_pred_loss: 0.2751 - val_session_pred_loss: 0.2767\n",
      "Epoch 10/50\n",
      "74/74 [==============================] - 20s 269ms/step - loss: 0.2707 - session_pred_accuracy: 0.9513 - window_pred_accuracy: 0.9523 - window_pred_loss: 0.1335 - session_pred_loss: 0.1373 - val_loss: 0.5839 - val_session_pred_accuracy: 0.9146 - val_window_pred_accuracy: 0.9176 - val_window_pred_loss: 0.2883 - val_session_pred_loss: 0.2955\n",
      "Epoch 11/50\n",
      "74/74 [==============================] - 20s 273ms/step - loss: 0.2731 - session_pred_accuracy: 0.9507 - window_pred_accuracy: 0.9515 - window_pred_loss: 0.1347 - session_pred_loss: 0.1384 - val_loss: 0.5988 - val_session_pred_accuracy: 0.9143 - val_window_pred_accuracy: 0.9166 - val_window_pred_loss: 0.3015 - val_session_pred_loss: 0.2972\n",
      "Epoch 12/50\n",
      "74/74 [==============================] - 20s 266ms/step - loss: 0.2660 - session_pred_accuracy: 0.9536 - window_pred_accuracy: 0.9547 - window_pred_loss: 0.1308 - session_pred_loss: 0.1352 - val_loss: 0.5265 - val_session_pred_accuracy: 0.9344 - val_window_pred_accuracy: 0.9329 - val_window_pred_loss: 0.2611 - val_session_pred_loss: 0.2654\n",
      "Epoch 13/50\n",
      "74/74 [==============================] - 19s 257ms/step - loss: 0.2468 - session_pred_accuracy: 0.9559 - window_pred_accuracy: 0.9573 - window_pred_loss: 0.1221 - session_pred_loss: 0.1247 - val_loss: 0.5343 - val_session_pred_accuracy: 0.9274 - val_window_pred_accuracy: 0.9263 - val_window_pred_loss: 0.2698 - val_session_pred_loss: 0.2645\n",
      "Epoch 14/50\n",
      "74/74 [==============================] - 18s 241ms/step - loss: 0.2226 - session_pred_accuracy: 0.9606 - window_pred_accuracy: 0.9609 - window_pred_loss: 0.1097 - session_pred_loss: 0.1129 - val_loss: 0.5524 - val_session_pred_accuracy: 0.9261 - val_window_pred_accuracy: 0.9245 - val_window_pred_loss: 0.2777 - val_session_pred_loss: 0.2747\n",
      "Epoch 15/50\n",
      "74/74 [==============================] - 17s 235ms/step - loss: 0.2084 - session_pred_accuracy: 0.9637 - window_pred_accuracy: 0.9642 - window_pred_loss: 0.1029 - session_pred_loss: 0.1056 - val_loss: 0.5770 - val_session_pred_accuracy: 0.9280 - val_window_pred_accuracy: 0.9280 - val_window_pred_loss: 0.2873 - val_session_pred_loss: 0.2897\n",
      "Epoch 16/50\n",
      "74/74 [==============================] - 18s 243ms/step - loss: 0.2197 - session_pred_accuracy: 0.9614 - window_pred_accuracy: 0.9625 - window_pred_loss: 0.1075 - session_pred_loss: 0.1122 - val_loss: 0.6427 - val_session_pred_accuracy: 0.9280 - val_window_pred_accuracy: 0.9278 - val_window_pred_loss: 0.3246 - val_session_pred_loss: 0.3180\n",
      "Epoch 17/50\n",
      "74/74 [==============================] - 18s 238ms/step - loss: 0.2264 - session_pred_accuracy: 0.9603 - window_pred_accuracy: 0.9608 - window_pred_loss: 0.1118 - session_pred_loss: 0.1147 - val_loss: 0.5008 - val_session_pred_accuracy: 0.9421 - val_window_pred_accuracy: 0.9414 - val_window_pred_loss: 0.2518 - val_session_pred_loss: 0.2490\n",
      "Epoch 18/50\n",
      "74/74 [==============================] - 18s 238ms/step - loss: 0.1949 - session_pred_accuracy: 0.9659 - window_pred_accuracy: 0.9662 - window_pred_loss: 0.0958 - session_pred_loss: 0.0991 - val_loss: 0.5963 - val_session_pred_accuracy: 0.9219 - val_window_pred_accuracy: 0.9228 - val_window_pred_loss: 0.2942 - val_session_pred_loss: 0.3020\n",
      "Epoch 19/50\n",
      "74/74 [==============================] - 18s 249ms/step - loss: 0.1967 - session_pred_accuracy: 0.9647 - window_pred_accuracy: 0.9659 - window_pred_loss: 0.0965 - session_pred_loss: 0.1001 - val_loss: 0.6665 - val_session_pred_accuracy: 0.9287 - val_window_pred_accuracy: 0.9259 - val_window_pred_loss: 0.3369 - val_session_pred_loss: 0.3296\n",
      "Epoch 20/50\n",
      "74/74 [==============================] - 18s 249ms/step - loss: 0.1838 - session_pred_accuracy: 0.9673 - window_pred_accuracy: 0.9680 - window_pred_loss: 0.0905 - session_pred_loss: 0.0933 - val_loss: 0.6092 - val_session_pred_accuracy: 0.9219 - val_window_pred_accuracy: 0.9185 - val_window_pred_loss: 0.3138 - val_session_pred_loss: 0.2954\n",
      "Epoch 21/50\n",
      "74/74 [==============================] - 19s 257ms/step - loss: 0.1789 - session_pred_accuracy: 0.9694 - window_pred_accuracy: 0.9696 - window_pred_loss: 0.0884 - session_pred_loss: 0.0905 - val_loss: 0.5868 - val_session_pred_accuracy: 0.9341 - val_window_pred_accuracy: 0.9331 - val_window_pred_loss: 0.2986 - val_session_pred_loss: 0.2883\n",
      "Epoch 22/50\n",
      "74/74 [==============================] - 17s 232ms/step - loss: 0.2018 - session_pred_accuracy: 0.9648 - window_pred_accuracy: 0.9658 - window_pred_loss: 0.0988 - session_pred_loss: 0.1029 - val_loss: 0.6483 - val_session_pred_accuracy: 0.9152 - val_window_pred_accuracy: 0.9176 - val_window_pred_loss: 0.3279 - val_session_pred_loss: 0.3204\n",
      "Epoch 23/50\n",
      "74/74 [==============================] - 18s 242ms/step - loss: 0.1609 - session_pred_accuracy: 0.9715 - window_pred_accuracy: 0.9720 - window_pred_loss: 0.0790 - session_pred_loss: 0.0819 - val_loss: 0.5984 - val_session_pred_accuracy: 0.9328 - val_window_pred_accuracy: 0.9319 - val_window_pred_loss: 0.3025 - val_session_pred_loss: 0.2960\n",
      "Epoch 24/50\n",
      "74/74 [==============================] - 16s 222ms/step - loss: 0.1681 - session_pred_accuracy: 0.9715 - window_pred_accuracy: 0.9724 - window_pred_loss: 0.0830 - session_pred_loss: 0.0851 - val_loss: 0.5740 - val_session_pred_accuracy: 0.9245 - val_window_pred_accuracy: 0.9254 - val_window_pred_loss: 0.2902 - val_session_pred_loss: 0.2839\n",
      "Epoch 25/50\n",
      "74/74 [==============================] - 20s 268ms/step - loss: 0.1600 - session_pred_accuracy: 0.9720 - window_pred_accuracy: 0.9724 - window_pred_loss: 0.0789 - session_pred_loss: 0.0811 - val_loss: 0.6665 - val_session_pred_accuracy: 0.9287 - val_window_pred_accuracy: 0.9276 - val_window_pred_loss: 0.3323 - val_session_pred_loss: 0.3341\n",
      "Epoch 26/50\n",
      "74/74 [==============================] - 19s 261ms/step - loss: 0.1712 - session_pred_accuracy: 0.9701 - window_pred_accuracy: 0.9703 - window_pred_loss: 0.0839 - session_pred_loss: 0.0873 - val_loss: 0.6440 - val_session_pred_accuracy: 0.9341 - val_window_pred_accuracy: 0.9315 - val_window_pred_loss: 0.3273 - val_session_pred_loss: 0.3167\n",
      "Epoch 27/50\n",
      "74/74 [==============================] - 21s 289ms/step - loss: 0.1385 - session_pred_accuracy: 0.9757 - window_pred_accuracy: 0.9762 - window_pred_loss: 0.0684 - session_pred_loss: 0.0701 - val_loss: 0.6016 - val_session_pred_accuracy: 0.9312 - val_window_pred_accuracy: 0.9309 - val_window_pred_loss: 0.3026 - val_session_pred_loss: 0.2990\n",
      "Epoch 28/50\n",
      "74/74 [==============================] - 20s 276ms/step - loss: 0.1538 - session_pred_accuracy: 0.9727 - window_pred_accuracy: 0.9734 - window_pred_loss: 0.0754 - session_pred_loss: 0.0784 - val_loss: 0.6107 - val_session_pred_accuracy: 0.9251 - val_window_pred_accuracy: 0.9247 - val_window_pred_loss: 0.3073 - val_session_pred_loss: 0.3034\n",
      "Epoch 29/50\n",
      "74/74 [==============================] - 24s 330ms/step - loss: 0.1389 - session_pred_accuracy: 0.9751 - window_pred_accuracy: 0.9758 - window_pred_loss: 0.0685 - session_pred_loss: 0.0704 - val_loss: 0.6305 - val_session_pred_accuracy: 0.9290 - val_window_pred_accuracy: 0.9274 - val_window_pred_loss: 0.3173 - val_session_pred_loss: 0.3132\n",
      "Epoch 30/50\n",
      "74/74 [==============================] - 21s 278ms/step - loss: 0.1347 - session_pred_accuracy: 0.9759 - window_pred_accuracy: 0.9764 - window_pred_loss: 0.0661 - session_pred_loss: 0.0686 - val_loss: 0.6698 - val_session_pred_accuracy: 0.9229 - val_window_pred_accuracy: 0.9233 - val_window_pred_loss: 0.3357 - val_session_pred_loss: 0.3341\n",
      "Epoch 31/50\n",
      "74/74 [==============================] - 22s 296ms/step - loss: 0.1350 - session_pred_accuracy: 0.9759 - window_pred_accuracy: 0.9768 - window_pred_loss: 0.0663 - session_pred_loss: 0.0687 - val_loss: 0.6828 - val_session_pred_accuracy: 0.9264 - val_window_pred_accuracy: 0.9248 - val_window_pred_loss: 0.3493 - val_session_pred_loss: 0.3336\n",
      "Epoch 32/50\n",
      "74/74 [==============================] - 21s 281ms/step - loss: 0.1640 - session_pred_accuracy: 0.9719 - window_pred_accuracy: 0.9724 - window_pred_loss: 0.0811 - session_pred_loss: 0.0830 - val_loss: 0.5964 - val_session_pred_accuracy: 0.9303 - val_window_pred_accuracy: 0.9285 - val_window_pred_loss: 0.3020 - val_session_pred_loss: 0.2945\n",
      "Epoch 33/50\n",
      "74/74 [==============================] - 21s 283ms/step - loss: 0.1252 - session_pred_accuracy: 0.9782 - window_pred_accuracy: 0.9789 - window_pred_loss: 0.0617 - session_pred_loss: 0.0635 - val_loss: 0.5820 - val_session_pred_accuracy: 0.9325 - val_window_pred_accuracy: 0.9320 - val_window_pred_loss: 0.2975 - val_session_pred_loss: 0.2846\n",
      "Epoch 34/50\n",
      "74/74 [==============================] - 19s 261ms/step - loss: 0.1350 - session_pred_accuracy: 0.9762 - window_pred_accuracy: 0.9769 - window_pred_loss: 0.0665 - session_pred_loss: 0.0685 - val_loss: 0.6389 - val_session_pred_accuracy: 0.9175 - val_window_pred_accuracy: 0.9199 - val_window_pred_loss: 0.3194 - val_session_pred_loss: 0.3194\n",
      "Epoch 35/50\n",
      "74/74 [==============================] - 18s 245ms/step - loss: 0.1253 - session_pred_accuracy: 0.9790 - window_pred_accuracy: 0.9789 - window_pred_loss: 0.0622 - session_pred_loss: 0.0631 - val_loss: 0.6534 - val_session_pred_accuracy: 0.9239 - val_window_pred_accuracy: 0.9234 - val_window_pred_loss: 0.3336 - val_session_pred_loss: 0.3198\n",
      "Epoch 36/50\n",
      "74/74 [==============================] - 19s 259ms/step - loss: 0.1148 - session_pred_accuracy: 0.9807 - window_pred_accuracy: 0.9809 - window_pred_loss: 0.0566 - session_pred_loss: 0.0583 - val_loss: 0.6742 - val_session_pred_accuracy: 0.9354 - val_window_pred_accuracy: 0.9341 - val_window_pred_loss: 0.3457 - val_session_pred_loss: 0.3285\n",
      "Epoch 37/50\n",
      "74/74 [==============================] - 18s 247ms/step - loss: 0.1071 - session_pred_accuracy: 0.9827 - window_pred_accuracy: 0.9824 - window_pred_loss: 0.0529 - session_pred_loss: 0.0542 - val_loss: 0.6544 - val_session_pred_accuracy: 0.9299 - val_window_pred_accuracy: 0.9306 - val_window_pred_loss: 0.3298 - val_session_pred_loss: 0.3246\n",
      "Epoch 38/50\n",
      "74/74 [==============================] - 17s 234ms/step - loss: 0.1142 - session_pred_accuracy: 0.9810 - window_pred_accuracy: 0.9818 - window_pred_loss: 0.0561 - session_pred_loss: 0.0580 - val_loss: 0.6599 - val_session_pred_accuracy: 0.9303 - val_window_pred_accuracy: 0.9274 - val_window_pred_loss: 0.3334 - val_session_pred_loss: 0.3265\n",
      "Epoch 39/50\n",
      "74/74 [==============================] - 17s 231ms/step - loss: 0.1198 - session_pred_accuracy: 0.9795 - window_pred_accuracy: 0.9798 - window_pred_loss: 0.0591 - session_pred_loss: 0.0607 - val_loss: 0.6416 - val_session_pred_accuracy: 0.9296 - val_window_pred_accuracy: 0.9274 - val_window_pred_loss: 0.3247 - val_session_pred_loss: 0.3169\n",
      "Epoch 40/50\n",
      "74/74 [==============================] - 16s 220ms/step - loss: 0.1091 - session_pred_accuracy: 0.9819 - window_pred_accuracy: 0.9820 - window_pred_loss: 0.0537 - session_pred_loss: 0.0554 - val_loss: 0.6564 - val_session_pred_accuracy: 0.9216 - val_window_pred_accuracy: 0.9207 - val_window_pred_loss: 0.3308 - val_session_pred_loss: 0.3257\n",
      "Epoch 41/50\n",
      "74/74 [==============================] - 18s 238ms/step - loss: 0.0982 - session_pred_accuracy: 0.9825 - window_pred_accuracy: 0.9829 - window_pred_loss: 0.0483 - session_pred_loss: 0.0499 - val_loss: 0.6286 - val_session_pred_accuracy: 0.9379 - val_window_pred_accuracy: 0.9363 - val_window_pred_loss: 0.3203 - val_session_pred_loss: 0.3083\n",
      "Epoch 42/50\n",
      "74/74 [==============================] - 18s 249ms/step - loss: 0.1042 - session_pred_accuracy: 0.9817 - window_pred_accuracy: 0.9817 - window_pred_loss: 0.0514 - session_pred_loss: 0.0528 - val_loss: 0.6260 - val_session_pred_accuracy: 0.9290 - val_window_pred_accuracy: 0.9278 - val_window_pred_loss: 0.3171 - val_session_pred_loss: 0.3089\n",
      "Epoch 43/50\n",
      "74/74 [==============================] - 20s 265ms/step - loss: 0.0998 - session_pred_accuracy: 0.9829 - window_pred_accuracy: 0.9831 - window_pred_loss: 0.0491 - session_pred_loss: 0.0507 - val_loss: 0.7161 - val_session_pred_accuracy: 0.9245 - val_window_pred_accuracy: 0.9262 - val_window_pred_loss: 0.3611 - val_session_pred_loss: 0.3550\n",
      "Epoch 44/50\n",
      "74/74 [==============================] - 20s 265ms/step - loss: 0.1104 - session_pred_accuracy: 0.9809 - window_pred_accuracy: 0.9807 - window_pred_loss: 0.0546 - session_pred_loss: 0.0559 - val_loss: 0.6438 - val_session_pred_accuracy: 0.9283 - val_window_pred_accuracy: 0.9286 - val_window_pred_loss: 0.3292 - val_session_pred_loss: 0.3146\n",
      "Epoch 45/50\n",
      "74/74 [==============================] - 16s 222ms/step - loss: 0.0912 - session_pred_accuracy: 0.9836 - window_pred_accuracy: 0.9840 - window_pred_loss: 0.0449 - session_pred_loss: 0.0463 - val_loss: 0.7584 - val_session_pred_accuracy: 0.9283 - val_window_pred_accuracy: 0.9282 - val_window_pred_loss: 0.3861 - val_session_pred_loss: 0.3723\n",
      "Epoch 46/50\n",
      "74/74 [==============================] - 21s 283ms/step - loss: 0.0917 - session_pred_accuracy: 0.9848 - window_pred_accuracy: 0.9850 - window_pred_loss: 0.0452 - session_pred_loss: 0.0465 - val_loss: 0.7595 - val_session_pred_accuracy: 0.9325 - val_window_pred_accuracy: 0.9329 - val_window_pred_loss: 0.3857 - val_session_pred_loss: 0.3738\n",
      "Epoch 47/50\n",
      "74/74 [==============================] - 18s 250ms/step - loss: 0.0979 - session_pred_accuracy: 0.9829 - window_pred_accuracy: 0.9831 - window_pred_loss: 0.0485 - session_pred_loss: 0.0494 - val_loss: 0.6946 - val_session_pred_accuracy: 0.9319 - val_window_pred_accuracy: 0.9318 - val_window_pred_loss: 0.3552 - val_session_pred_loss: 0.3394\n",
      "Epoch 48/50\n",
      "74/74 [==============================] - 20s 271ms/step - loss: 0.0937 - session_pred_accuracy: 0.9840 - window_pred_accuracy: 0.9841 - window_pred_loss: 0.0464 - session_pred_loss: 0.0473 - val_loss: 0.6884 - val_session_pred_accuracy: 0.9344 - val_window_pred_accuracy: 0.9337 - val_window_pred_loss: 0.3484 - val_session_pred_loss: 0.3400\n",
      "Epoch 49/50\n",
      "74/74 [==============================] - 21s 290ms/step - loss: 0.0922 - session_pred_accuracy: 0.9840 - window_pred_accuracy: 0.9841 - window_pred_loss: 0.0457 - session_pred_loss: 0.0466 - val_loss: 0.7826 - val_session_pred_accuracy: 0.9101 - val_window_pred_accuracy: 0.9130 - val_window_pred_loss: 0.3960 - val_session_pred_loss: 0.3866\n",
      "Epoch 50/50\n",
      "74/74 [==============================] - 22s 298ms/step - loss: 0.1028 - session_pred_accuracy: 0.9825 - window_pred_accuracy: 0.9825 - window_pred_loss: 0.0508 - session_pred_loss: 0.0520 - val_loss: 0.7761 - val_session_pred_accuracy: 0.9296 - val_window_pred_accuracy: 0.9279 - val_window_pred_loss: 0.3973 - val_session_pred_loss: 0.3789\n"
     ]
    },
    {
     "data": {
      "text/plain": [
       "<tensorflow.python.keras.callbacks.History at 0x7f69e83b8af0>"
      ]
     },
     "execution_count": 17,
     "metadata": {},
     "output_type": "execute_result"
    }
   ],
   "source": [
    "model.fit(X_train, [y_train_mid, y_train], batch_size=len(device_list) * 128, epochs=50, validation_split=0.1, use_multiprocessing=True, callbacks=[model_checkpoint_callback])"
   ]
  },
  {
   "cell_type": "code",
   "execution_count": 18,
   "metadata": {},
   "outputs": [],
   "source": [
    "pred_mid, pred_sess = model.predict(X_test, batch_size=len(device_list) * 64)"
   ]
  },
  {
   "cell_type": "code",
   "execution_count": 19,
   "metadata": {},
   "outputs": [],
   "source": [
    "activity_list = ['Other', 'Open Door 2',\n",
    "                    'Close Door 2', 'Open Fridge', 'Close Fridge',  'Open Drawer 1', \n",
    "                    'Close Drawer 1', 'Open Drawer 2', 'Close Drawer 2', \n",
    "                    'Open Drawer 3', 'Close Drawer 3', 'Clean Table', \n",
    "                    'Drink from Cup', 'Toggle Switch']"
   ]
  },
  {
   "cell_type": "code",
   "execution_count": 20,
   "metadata": {},
   "outputs": [
    {
     "name": "stdout",
     "output_type": "stream",
     "text": [
      "                precision    recall  f1-score   support\n",
      "\n",
      "         Other       0.96      0.97      0.97      6316\n",
      "   Open Door 2       0.88      0.85      0.86        66\n",
      "  Close Door 2       0.90      0.83      0.87        54\n",
      "   Open Fridge       0.82      0.60      0.69       141\n",
      "  Close Fridge       0.94      0.74      0.83        88\n",
      " Open Drawer 1       0.50      0.30      0.37        20\n",
      "Close Drawer 1       0.60      0.38      0.46        24\n",
      " Open Drawer 2       0.48      0.48      0.48        21\n",
      "Close Drawer 2       0.29      0.67      0.40        12\n",
      " Open Drawer 3       0.68      0.58      0.63        36\n",
      "Close Drawer 3       0.39      0.53      0.45        30\n",
      "   Clean Table       0.91      0.43      0.58        70\n",
      "Drink from Cup       0.62      0.73      0.67       228\n",
      " Toggle Switch       0.56      0.42      0.48        60\n",
      "\n",
      "      accuracy                           0.93      7166\n",
      "     macro avg       0.68      0.61      0.62      7166\n",
      "  weighted avg       0.93      0.93      0.93      7166\n",
      "\n"
     ]
    }
   ],
   "source": [
    "print(classification_report(np.argmax(y_test, axis=1), np.argmax(pred_sess, axis=1), target_names=activity_list))"
   ]
  },
  {
   "cell_type": "code",
   "execution_count": 19,
   "metadata": {},
   "outputs": [],
   "source": [
    "# import json\n",
    "# activity_map = json.load(open(os.path.join('..','data', 'activity_maps', 'opp_activity.json')))"
   ]
  },
  {
   "cell_type": "code",
   "execution_count": 20,
   "metadata": {},
   "outputs": [
    {
     "data": {
      "text/plain": [
       "<AxesSubplot:>"
      ]
     },
     "execution_count": 20,
     "metadata": {},
     "output_type": "execute_result"
    },
    {
     "data": {
      "image/png": "[encoded data removed]",
      "text/plain": [
       "<Figure size 720x576 with 2 Axes>"
      ]
     },
     "metadata": {
      "needs_background": "light"
     },
     "output_type": "display_data"
    }
   ],
   "source": [
    "confm = confusion_matrix(np.argmax(y_test, axis=1), np.argmax(pred_sess, axis=1))\n",
    "df_cm = pd.DataFrame(confm, index=activity_list, columns=activity_list)\n",
    "plt.figure(figsize = (10,8))\n",
    "sns.heatmap(df_cm, annot=True, fmt='d', cmap=\"YlGnBu\")"
   ]
  },
  {
   "cell_type": "code",
   "execution_count": 29,
   "metadata": {},
   "outputs": [],
   "source": [
    "_ = model.predict(X_test, batch_size=len(device_list) * 64)"
   ]
  },
  {
   "cell_type": "code",
   "execution_count": 30,
   "metadata": {},
   "outputs": [
    {
     "data": {
      "text/plain": [
       "(7166, 10, 3, 77)"
      ]
     },
     "execution_count": 30,
     "metadata": {},
     "output_type": "execute_result"
    }
   ],
   "source": [
    "X_test.shape"
   ]
  },
  {
   "cell_type": "code",
   "execution_count": 31,
   "metadata": {},
   "outputs": [
    {
     "data": {
      "text/plain": [
       "(1058, 10, 3, 77)"
      ]
     },
     "execution_count": 31,
     "metadata": {},
     "output_type": "execute_result"
    }
   ],
   "source": [
    "X_holdout.shape"
   ]
  },
  {
   "cell_type": "markdown",
   "metadata": {},
   "source": [
    "## VAE"
   ]
  },
  {
   "cell_type": "code",
   "execution_count": 21,
   "metadata": {},
   "outputs": [
    {
     "name": "stdout",
     "output_type": "stream",
     "text": [
      "input_1\n",
      "multi_window_encoder\n",
      "modality_encoder_block_7\n",
      "combined_sensor_self_attention_1\n",
      "tf_op_layer_Shape\n",
      "tf_op_layer_ExpandDims\n",
      "tf_op_layer_strided_slice_7\n",
      "tf_op_layer_strided_slice_8\n",
      "tf_op_layer_Tile\n",
      "tf_op_layer_concat\n",
      "tf_op_layer_Reshape\n",
      "reshape\n",
      "concatenate\n",
      "dense_108\n",
      "dense_109\n",
      "window_pred\n",
      "session_pred\n"
     ]
    }
   ],
   "source": [
    "for l in model.layers:\n",
    "    print(l.name)"
   ]
  },
  {
   "cell_type": "code",
   "execution_count": 22,
   "metadata": {},
   "outputs": [],
   "source": [
    "hierarchical_model = tf.keras.Model(inputs=model.input, outputs=model.get_layer('combined_sensor_self_attention_1').output, name='hierarchical_encoder')\n",
    "hierarchical_model.trainable = False"
   ]
  },
  {
   "cell_type": "code",
   "execution_count": 23,
   "metadata": {},
   "outputs": [
    {
     "name": "stdout",
     "output_type": "stream",
     "text": [
      "Model: \"hierarchical_encoder\"\n",
      "_________________________________________________________________\n",
      "Layer (type)                 Output Shape              Param #   \n",
      "=================================================================\n",
      "input_1 (InputLayer)         [(None, 10, 3, 77)]       0         \n",
      "_________________________________________________________________\n",
      "multi_window_encoder (MultiW ((None, None, 64), (None, 1249472   \n",
      "_________________________________________________________________\n",
      "modality_encoder_block_7 (Mo (None, None, 64)          170048    \n",
      "_________________________________________________________________\n",
      "combined_sensor_self_attenti ((None, 64), (None, 1, No 82880     \n",
      "=================================================================\n",
      "Total params: 1,502,400\n",
      "Trainable params: 0\n",
      "Non-trainable params: 1,502,400\n",
      "_________________________________________________________________\n"
     ]
    }
   ],
   "source": [
    "hierarchical_model.summary()"
   ]
  },
  {
   "cell_type": "code",
   "execution_count": 24,
   "metadata": {},
   "outputs": [],
   "source": [
    "class Sampling(tf.keras.layers.Layer):\n",
    "    def call(self, inputs):\n",
    "        z_mean, z_log_var = inputs\n",
    "\n",
    "        batch = tf.shape(z_mean)[0]\n",
    "        dim = tf.shape(z_mean)[1]\n",
    "        \n",
    "        epsilon = tf.keras.backend.random_normal(shape=(batch, dim))\n",
    "        \n",
    "        return z_mean + tf.exp(0.5 * z_log_var) * epsilon\n",
    "\n",
    "\n",
    "class Encoder(tf.keras.layers.Layer):\n",
    "\n",
    "    def __init__(self, latent_dim=16, intermediate_dim=32, name=\"encoder\", **kwargs):\n",
    "        super(Encoder, self).__init__(name=name, **kwargs)\n",
    "        self.dense_proj = tf.keras.layers.Dense(intermediate_dim, activation=\"relu\")\n",
    "        \n",
    "        self.dense_mean = tf.keras.layers.Dense(latent_dim)\n",
    "        self.dense_log_var = tf.keras.layers.Dense(latent_dim)\n",
    "        \n",
    "        self.sampling = Sampling()\n",
    "\n",
    "    def call(self, inputs):\n",
    "        x = self.dense_proj(inputs)\n",
    "        \n",
    "        z_mean = self.dense_mean(x)\n",
    "        z_log_var = self.dense_log_var(x)\n",
    "        z = self.sampling((z_mean, z_log_var))\n",
    "        \n",
    "        return z_mean, z_log_var, z\n",
    "\n",
    "\n",
    "class Decoder(tf.keras.layers.Layer):\n",
    "\n",
    "    def __init__(self, original_dim, intermediate_dim=32, name=\"decoder\", **kwargs):\n",
    "        super(Decoder, self).__init__(name=name, **kwargs)\n",
    "        self.dense_proj = tf.keras.layers.Dense(intermediate_dim, activation=\"relu\")\n",
    "        self.dense_output = tf.keras.layers.Dense(original_dim, activation=\"sigmoid\")\n",
    "\n",
    "    def call(self, inputs):\n",
    "        x = self.dense_proj(inputs)\n",
    "        \n",
    "        return self.dense_output(x)\n",
    "\n",
    "class VariationalAutoEncoder(tf.keras.Model):\n",
    "    \"\"\"Combines the encoder and decoder into an end-to-end model for training.\"\"\"\n",
    "\n",
    "    def __init__(\n",
    "        self,\n",
    "        base_model,\n",
    "        original_dim,\n",
    "        intermediate_dim=32,\n",
    "        latent_dim=16,\n",
    "        name=\"autoencoder\",\n",
    "        **kwargs\n",
    "    ):\n",
    "        super(VariationalAutoEncoder, self).__init__(name=name, **kwargs)\n",
    "        self.base_model = base_model\n",
    "        \n",
    "        self.original_dim = original_dim\n",
    "        \n",
    "        self.encoder = Encoder(latent_dim=latent_dim, intermediate_dim=intermediate_dim)\n",
    "        self.decoder = Decoder(original_dim, intermediate_dim=intermediate_dim)\n",
    "\n",
    "    def call(self, inputs):\n",
    "        inputs, _ = self.base_model(inputs)\n",
    "        z_mean, z_log_var, z = self.encoder(inputs)\n",
    "        reconstructed = self.decoder(z)\n",
    "        \n",
    "        return reconstructed\n",
    "\n",
    "    def train_step(self, data):\n",
    "        with tf.GradientTape() as tape:\n",
    "            # _data, label = data\n",
    "            _data = data\n",
    "            _data, _ = self.base_model(_data)\n",
    "            z_mean, z_log_var, z = self.encoder(_data)\n",
    "            reconstructed = self.decoder(z)\n",
    "\n",
    "            kl_loss = -0.5 * tf.reduce_mean(z_log_var - tf.square(z_mean) - tf.exp(z_log_var) + 1)            \n",
    "            reconstruction = tf.keras.losses.mean_squared_error(_data, reconstructed)\n",
    "            # weighted_reconstruction = tf.math.multiply(reconstruction, label)\n",
    "            # reconstruction_loss = tf.reduce_mean(weighted_reconstruction)\n",
    "            reconstruction_loss = tf.reduce_mean(reconstruction)\n",
    "            \n",
    "            total_loss = reconstruction_loss + kl_loss\n",
    "\n",
    "        grads = tape.gradient(total_loss, self.trainable_weights)\n",
    "\n",
    "        self.optimizer.apply_gradients(zip(grads, self.trainable_weights))\n",
    "\n",
    "        return {\n",
    "            \"loss\": total_loss,\n",
    "            \"reconstruction_loss\": reconstruction_loss,\n",
    "            \"kl_loss\": kl_loss,\n",
    "        }"
   ]
  },
  {
   "cell_type": "markdown",
   "metadata": {},
   "source": [
    "### Open set training"
   ]
  },
  {
   "cell_type": "code",
   "execution_count": 25,
   "metadata": {},
   "outputs": [
    {
     "name": "stdout",
     "output_type": "stream",
     "text": [
      "Epoch 1/60\n",
      "INFO:tensorflow:batch_all_reduce: 10 all-reduces with algorithm = nccl, num_packs = 1\n",
      "INFO:tensorflow:batch_all_reduce: 10 all-reduces with algorithm = nccl, num_packs = 1\n",
      "245/245 - 11s - loss: 0.8762 - reconstruction_loss: 0.8398 - kl_loss: 0.0365\n",
      "Epoch 2/60\n",
      "245/245 - 11s - loss: 0.6896 - reconstruction_loss: 0.6792 - kl_loss: 0.0104\n",
      "Epoch 3/60\n",
      "245/245 - 11s - loss: 0.6743 - reconstruction_loss: 0.6646 - kl_loss: 0.0097\n",
      "Epoch 4/60\n",
      "245/245 - 11s - loss: 0.6602 - reconstruction_loss: 0.6444 - kl_loss: 0.0158\n",
      "Epoch 5/60\n",
      "245/245 - 11s - loss: 0.6557 - reconstruction_loss: 0.6373 - kl_loss: 0.0183\n",
      "Epoch 6/60\n",
      "245/245 - 11s - loss: 0.6527 - reconstruction_loss: 0.6332 - kl_loss: 0.0194\n",
      "Epoch 7/60\n",
      "245/245 - 11s - loss: 0.6530 - reconstruction_loss: 0.6335 - kl_loss: 0.0195\n",
      "Epoch 8/60\n",
      "245/245 - 11s - loss: 0.6513 - reconstruction_loss: 0.6318 - kl_loss: 0.0195\n",
      "Epoch 9/60\n",
      "245/245 - 11s - loss: 0.6559 - reconstruction_loss: 0.6349 - kl_loss: 0.0210\n",
      "Epoch 10/60\n",
      "245/245 - 11s - loss: 0.6521 - reconstruction_loss: 0.6315 - kl_loss: 0.0206\n",
      "Epoch 11/60\n",
      "245/245 - 11s - loss: 0.6496 - reconstruction_loss: 0.6294 - kl_loss: 0.0202\n",
      "Epoch 12/60\n",
      "245/245 - 11s - loss: 0.6482 - reconstruction_loss: 0.6283 - kl_loss: 0.0199\n",
      "Epoch 13/60\n",
      "245/245 - 11s - loss: 0.6529 - reconstruction_loss: 0.6311 - kl_loss: 0.0218\n",
      "Epoch 14/60\n",
      "245/245 - 11s - loss: 0.6485 - reconstruction_loss: 0.6272 - kl_loss: 0.0213\n",
      "Epoch 15/60\n",
      "245/245 - 11s - loss: 0.6484 - reconstruction_loss: 0.6267 - kl_loss: 0.0217\n",
      "Epoch 16/60\n",
      "245/245 - 11s - loss: 0.6467 - reconstruction_loss: 0.6252 - kl_loss: 0.0215\n",
      "Epoch 17/60\n",
      "245/245 - 11s - loss: 0.6443 - reconstruction_loss: 0.6233 - kl_loss: 0.0210\n",
      "Epoch 18/60\n",
      "245/245 - 11s - loss: 0.6441 - reconstruction_loss: 0.6227 - kl_loss: 0.0214\n",
      "Epoch 19/60\n",
      "245/245 - 11s - loss: 0.6433 - reconstruction_loss: 0.6217 - kl_loss: 0.0216\n",
      "Epoch 20/60\n",
      "245/245 - 11s - loss: 0.6403 - reconstruction_loss: 0.6188 - kl_loss: 0.0215\n",
      "Epoch 21/60\n",
      "245/245 - 11s - loss: 0.6441 - reconstruction_loss: 0.6213 - kl_loss: 0.0228\n",
      "Epoch 22/60\n",
      "245/245 - 11s - loss: 0.6439 - reconstruction_loss: 0.6219 - kl_loss: 0.0220\n",
      "Epoch 23/60\n",
      "245/245 - 11s - loss: 0.6457 - reconstruction_loss: 0.6230 - kl_loss: 0.0227\n",
      "Epoch 24/60\n",
      "245/245 - 11s - loss: 0.6408 - reconstruction_loss: 0.6193 - kl_loss: 0.0215\n",
      "Epoch 25/60\n",
      "245/245 - 11s - loss: 0.6423 - reconstruction_loss: 0.6201 - kl_loss: 0.0222\n",
      "Epoch 26/60\n",
      "245/245 - 11s - loss: 0.6389 - reconstruction_loss: 0.6174 - kl_loss: 0.0216\n",
      "Epoch 27/60\n",
      "245/245 - 11s - loss: 0.6427 - reconstruction_loss: 0.6208 - kl_loss: 0.0219\n",
      "Epoch 28/60\n",
      "245/245 - 11s - loss: 0.6433 - reconstruction_loss: 0.6217 - kl_loss: 0.0216\n",
      "Epoch 29/60\n",
      "245/245 - 11s - loss: 0.6398 - reconstruction_loss: 0.6182 - kl_loss: 0.0216\n",
      "Epoch 30/60\n",
      "245/245 - 11s - loss: 0.6420 - reconstruction_loss: 0.6197 - kl_loss: 0.0223\n",
      "Epoch 31/60\n",
      "245/245 - 11s - loss: 0.6443 - reconstruction_loss: 0.6212 - kl_loss: 0.0231\n",
      "Epoch 32/60\n",
      "245/245 - 11s - loss: 0.6426 - reconstruction_loss: 0.6205 - kl_loss: 0.0221\n",
      "Epoch 33/60\n",
      "245/245 - 11s - loss: 0.6434 - reconstruction_loss: 0.6203 - kl_loss: 0.0230\n",
      "Epoch 34/60\n",
      "245/245 - 11s - loss: 0.6414 - reconstruction_loss: 0.6190 - kl_loss: 0.0224\n",
      "Epoch 35/60\n",
      "245/245 - 11s - loss: 0.6432 - reconstruction_loss: 0.6208 - kl_loss: 0.0225\n",
      "Epoch 36/60\n",
      "245/245 - 11s - loss: 0.6453 - reconstruction_loss: 0.6218 - kl_loss: 0.0235\n",
      "Epoch 37/60\n",
      "245/245 - 11s - loss: 0.6420 - reconstruction_loss: 0.6196 - kl_loss: 0.0225\n",
      "Epoch 38/60\n",
      "245/245 - 11s - loss: 0.6429 - reconstruction_loss: 0.6194 - kl_loss: 0.0234\n",
      "Epoch 39/60\n",
      "245/245 - 11s - loss: 0.6427 - reconstruction_loss: 0.6197 - kl_loss: 0.0230\n",
      "Epoch 40/60\n",
      "245/245 - 11s - loss: 0.6408 - reconstruction_loss: 0.6179 - kl_loss: 0.0228\n",
      "Epoch 41/60\n",
      "245/245 - 11s - loss: 0.6432 - reconstruction_loss: 0.6200 - kl_loss: 0.0232\n",
      "Epoch 42/60\n",
      "245/245 - 11s - loss: 0.6426 - reconstruction_loss: 0.6203 - kl_loss: 0.0223\n",
      "Epoch 43/60\n",
      "245/245 - 11s - loss: 0.6401 - reconstruction_loss: 0.6177 - kl_loss: 0.0224\n",
      "Epoch 44/60\n",
      "245/245 - 11s - loss: 0.6411 - reconstruction_loss: 0.6189 - kl_loss: 0.0223\n",
      "Epoch 45/60\n",
      "245/245 - 11s - loss: 0.6418 - reconstruction_loss: 0.6188 - kl_loss: 0.0230\n",
      "Epoch 46/60\n",
      "245/245 - 11s - loss: 0.6406 - reconstruction_loss: 0.6180 - kl_loss: 0.0226\n",
      "Epoch 47/60\n",
      "245/245 - 11s - loss: 0.6398 - reconstruction_loss: 0.6175 - kl_loss: 0.0223\n",
      "Epoch 48/60\n",
      "245/245 - 11s - loss: 0.6429 - reconstruction_loss: 0.6193 - kl_loss: 0.0236\n",
      "Epoch 49/60\n",
      "245/245 - 11s - loss: 0.6412 - reconstruction_loss: 0.6189 - kl_loss: 0.0224\n",
      "Epoch 50/60\n",
      "245/245 - 11s - loss: 0.6427 - reconstruction_loss: 0.6195 - kl_loss: 0.0231\n",
      "Epoch 51/60\n",
      "245/245 - 11s - loss: 0.6406 - reconstruction_loss: 0.6183 - kl_loss: 0.0223\n",
      "Epoch 52/60\n",
      "245/245 - 11s - loss: 0.6403 - reconstruction_loss: 0.6179 - kl_loss: 0.0224\n",
      "Epoch 53/60\n",
      "245/245 - 11s - loss: 0.6431 - reconstruction_loss: 0.6195 - kl_loss: 0.0236\n",
      "Epoch 54/60\n",
      "245/245 - 11s - loss: 0.6384 - reconstruction_loss: 0.6161 - kl_loss: 0.0222\n",
      "Epoch 55/60\n",
      "245/245 - 10s - loss: 0.6407 - reconstruction_loss: 0.6174 - kl_loss: 0.0232\n",
      "Epoch 56/60\n",
      "245/245 - 11s - loss: 0.6418 - reconstruction_loss: 0.6182 - kl_loss: 0.0236\n",
      "Epoch 57/60\n",
      "245/245 - 11s - loss: 0.6453 - reconstruction_loss: 0.6217 - kl_loss: 0.0235\n",
      "Epoch 58/60\n",
      "245/245 - 11s - loss: 0.6414 - reconstruction_loss: 0.6183 - kl_loss: 0.0230\n",
      "Epoch 59/60\n",
      "245/245 - 11s - loss: 0.6436 - reconstruction_loss: 0.6197 - kl_loss: 0.0240\n",
      "Epoch 60/60\n",
      "245/245 - 11s - loss: 0.6402 - reconstruction_loss: 0.6171 - kl_loss: 0.0231\n"
     ]
    }
   ],
   "source": [
    "with strategy.scope():\n",
    "    hsa_vae = VariationalAutoEncoder(base_model=hierarchical_model, original_dim=64)\n",
    "\n",
    "optimizer = tf.keras.optimizers.Adam(learning_rate=1e-3)\n",
    "hsa_vae.compile(optimizer)    \n",
    "\n",
    "vae_history = hsa_vae.fit(X_train, epochs=60, batch_size=128, verbose=2)"
   ]
  },
  {
   "cell_type": "code",
   "execution_count": 26,
   "metadata": {},
   "outputs": [
    {
     "data": {
      "text/plain": [
       "<tensorflow.python.keras.callbacks.History at 0x7f6757116c70>"
      ]
     },
     "execution_count": 26,
     "metadata": {},
     "output_type": "execute_result"
    }
   ],
   "source": [
    "vae_history"
   ]
  },
  {
   "cell_type": "markdown",
   "metadata": {},
   "source": [
    "## Novelty Result"
   ]
  },
  {
   "cell_type": "code",
   "execution_count": 27,
   "metadata": {},
   "outputs": [],
   "source": [
    "z_mean, z_log_var, z = hsa_vae.encoder(hierarchical_model.predict(X_holdout)[0])"
   ]
  },
  {
   "cell_type": "code",
   "execution_count": 28,
   "metadata": {},
   "outputs": [],
   "source": [
    "def kl_div(z_mean, z_log_var):\n",
    "    kl_loss = -0.5 * tf.math.reduce_mean((z_log_var - tf.square(z_mean) - tf.exp(z_log_var) + 1), axis=1)\n",
    "    return kl_loss.numpy()"
   ]
  },
  {
   "cell_type": "code",
   "execution_count": 29,
   "metadata": {},
   "outputs": [],
   "source": [
    "z_mean, z_log_var, z = hsa_vae.encoder(hierarchical_model.predict(X_train)[0])\n",
    "train_kl = kl_div(z_mean, z_log_var)"
   ]
  },
  {
   "cell_type": "code",
   "execution_count": 30,
   "metadata": {},
   "outputs": [],
   "source": [
    "z_mean, z_log_var, z = hsa_vae.encoder(hierarchical_model.predict(X_test)[0])\n",
    "test_kl = kl_div(z_mean, z_log_var)"
   ]
  },
  {
   "cell_type": "code",
   "execution_count": 31,
   "metadata": {},
   "outputs": [],
   "source": [
    "z_mean, z_log_var, z = hsa_vae.encoder(hierarchical_model.predict(X_holdout)[0])\n",
    "holdout_kl = kl_div(z_mean, z_log_var)"
   ]
  },
  {
   "cell_type": "code",
   "execution_count": 32,
   "metadata": {},
   "outputs": [],
   "source": [
    "def novelty_eval_kl(train_kl, test_kl, holdout_kl, mult=0.25):\n",
    "    threshold = np.mean(train_kl) - (mult * np.std(train_kl))\n",
    "    \n",
    "    y_holdout = (holdout_kl > threshold).astype(int)\n",
    "    y_true = np.ones(shape=holdout_kl.shape, dtype=int)\n",
    "    \n",
    "    y_test_n = (test_kl > threshold).astype(int)\n",
    "    _y_true = np.zeros(shape=test_kl.shape, dtype=int)\n",
    "    \n",
    "    y_holdout = np.append(y_holdout, y_test_n)\n",
    "    y_true = np.append(y_true, _y_true)\n",
    "    \n",
    "#     return accuracy_score(y_true, y_holdout), f1_score(y_true, y_holdout, average='macro')\n",
    "    \n",
    "    print(classification_report(y_true, y_holdout, labels=[0, 1], target_names=['KNOWN', 'NOVEL']))"
   ]
  },
  {
   "cell_type": "code",
   "execution_count": 33,
   "metadata": {},
   "outputs": [
    {
     "name": "stdout",
     "output_type": "stream",
     "text": [
      "              precision    recall  f1-score   support\n",
      "\n",
      "       KNOWN       0.00      0.00      0.00      7166\n",
      "       NOVEL       0.13      1.00      0.23      1058\n",
      "\n",
      "    accuracy                           0.13      8224\n",
      "   macro avg       0.06      0.50      0.11      8224\n",
      "weighted avg       0.02      0.13      0.03      8224\n",
      "\n"
     ]
    },
    {
     "name": "stderr",
     "output_type": "stream",
     "text": [
      "/home/hariub/miniconda3/envs/tf2/lib/python3.8/site-packages/sklearn/metrics/_classification.py:1221: UndefinedMetricWarning: Precision and F-score are ill-defined and being set to 0.0 in labels with no predicted samples. Use `zero_division` parameter to control this behavior.\n",
      "  _warn_prf(average, modifier, msg_start, len(result))\n"
     ]
    }
   ],
   "source": [
    "novelty_eval_kl(train_kl, test_kl, holdout_kl, mult=0.75)"
   ]
  },
  {
   "cell_type": "code",
   "execution_count": 34,
   "metadata": {},
   "outputs": [],
   "source": [
    "train_rec_loss = tf.keras.losses.mean_squared_error(hierarchical_model.predict(X_train)[0], hsa_vae.predict(X_train)).numpy()\n",
    "test_rec_loss = tf.keras.losses.mean_squared_error(hierarchical_model.predict(X_test)[0], hsa_vae.predict(X_test)).numpy()\n",
    "novel_rec_loss = tf.keras.losses.mean_squared_error(hierarchical_model.predict(X_holdout)[0], hsa_vae.predict(X_holdout)).numpy()"
   ]
  },
  {
   "cell_type": "code",
   "execution_count": 35,
   "metadata": {},
   "outputs": [
    {
     "data": {
      "text/plain": [
       "(31258,)"
      ]
     },
     "execution_count": 35,
     "metadata": {},
     "output_type": "execute_result"
    }
   ],
   "source": [
    "train_rec_loss.shape"
   ]
  },
  {
   "cell_type": "code",
   "execution_count": 36,
   "metadata": {},
   "outputs": [
    {
     "data": {
      "text/plain": [
       "(1058,)"
      ]
     },
     "execution_count": 36,
     "metadata": {},
     "output_type": "execute_result"
    }
   ],
   "source": [
    "novel_rec_loss.shape"
   ]
  },
  {
   "cell_type": "code",
   "execution_count": 37,
   "metadata": {},
   "outputs": [
    {
     "data": {
      "text/plain": [
       "<AxesSubplot:ylabel='Probability'>"
      ]
     },
     "execution_count": 37,
     "metadata": {},
     "output_type": "execute_result"
    },
    {
     "data": {
      "image/png": "[encoded data removed]",
      "text/plain": [
       "<Figure size 432x288 with 1 Axes>"
      ]
     },
     "metadata": {
      "needs_background": "light"
     },
     "output_type": "display_data"
    }
   ],
   "source": [
    "sns.histplot(train_rec_loss, stat=\"probability\")"
   ]
  },
  {
   "cell_type": "code",
   "execution_count": 38,
   "metadata": {},
   "outputs": [
    {
     "data": {
      "text/plain": [
       "<AxesSubplot:ylabel='Probability'>"
      ]
     },
     "execution_count": 38,
     "metadata": {},
     "output_type": "execute_result"
    },
    {
     "data": {
      "image/png": "[encoded data removed]",
      "text/plain": [
       "<Figure size 432x288 with 1 Axes>"
      ]
     },
     "metadata": {
      "needs_background": "light"
     },
     "output_type": "display_data"
    }
   ],
   "source": [
    "sns.histplot(test_rec_loss, stat=\"probability\")"
   ]
  },
  {
   "cell_type": "code",
   "execution_count": 39,
   "metadata": {},
   "outputs": [
    {
     "data": {
      "text/plain": [
       "<AxesSubplot:ylabel='Count'>"
      ]
     },
     "execution_count": 39,
     "metadata": {},
     "output_type": "execute_result"
    },
    {
     "data": {
      "image/png": "[encoded data removed]",
      "text/plain": [
       "<Figure size 432x288 with 1 Axes>"
      ]
     },
     "metadata": {
      "needs_background": "light"
     },
     "output_type": "display_data"
    }
   ],
   "source": [
    "sns.histplot(novel_rec_loss)"
   ]
  },
  {
   "cell_type": "code",
   "execution_count": 40,
   "metadata": {},
   "outputs": [
    {
     "data": {
      "text/plain": [
       "<AxesSubplot:xlabel='data', ylabel='Probability'>"
      ]
     },
     "execution_count": 40,
     "metadata": {},
     "output_type": "execute_result"
    },
    {
     "data": {
      "image/png": "[encoded data removed]",
      "text/plain": [
       "<Figure size 432x288 with 1 Axes>"
      ]
     },
     "metadata": {
      "needs_background": "light"
     },
     "output_type": "display_data"
    }
   ],
   "source": [
    "combined = pd.DataFrame({'data': novel_rec_loss, 'type': 'NULL'})\n",
    "combined = pd.concat([combined, pd.DataFrame({'data': test_rec_loss, 'type': 'KNOWN_TEST'})])\n",
    "combined = pd.concat([combined, pd.DataFrame({'data': train_rec_loss, 'type': 'KNOWN_TRAIN'})])\n",
    "sns.histplot(combined, x='data', hue='type', stat=\"probability\")"
   ]
  },
  {
   "cell_type": "code",
   "execution_count": 41,
   "metadata": {},
   "outputs": [
    {
     "data": {
      "text/plain": [
       "<AxesSubplot:xlabel='data', ylabel='Probability'>"
      ]
     },
     "execution_count": 41,
     "metadata": {},
     "output_type": "execute_result"
    },
    {
     "data": {
      "image/png": "[encoded data removed]",
      "text/plain": [
       "<Figure size 432x288 with 1 Axes>"
      ]
     },
     "metadata": {
      "needs_background": "light"
     },
     "output_type": "display_data"
    }
   ],
   "source": [
    "combined = pd.DataFrame()\n",
    "combined = pd.concat([combined, pd.DataFrame({'data': test_rec_loss, 'type': 'KNOWN_TEST'})])\n",
    "combined = pd.concat([combined, pd.DataFrame({'data': train_rec_loss, 'type': 'KNOWN_TRAIN'})])\n",
    "sns.histplot(combined, x='data', hue='type', stat=\"probability\")"
   ]
  },
  {
   "cell_type": "code",
   "execution_count": 42,
   "metadata": {},
   "outputs": [],
   "source": [
    "def novelty_eval_reconstrunction(train_rec_loss, test_rec_loss, novel_rec_loss, mult=0.25):\n",
    "    threshold = np.mean(train_rec_loss) - (mult * np.std(train_rec_loss))\n",
    "    \n",
    "    y_holdout = (novel_rec_loss > threshold).astype(int)\n",
    "    y_true = np.ones(shape=novel_rec_loss.shape, dtype=int)\n",
    "    \n",
    "    y_test_n = (test_rec_loss > threshold).astype(int)\n",
    "    _y_true = np.zeros(shape=test_rec_loss.shape, dtype=int)\n",
    "    \n",
    "    y_holdout = np.append(y_holdout, y_test_n)\n",
    "    y_true = np.append(y_true, _y_true)\n",
    "    \n",
    "    return accuracy_score(y_true, y_holdout), f1_score(y_true, y_holdout, average='macro'), \n",
    "    \n",
    "#     print(classification_report(y_true, y_holdout, labels=[0, 1], target_names=['KNOWN', 'NOVEL']))"
   ]
  },
  {
   "cell_type": "code",
   "execution_count": 43,
   "metadata": {},
   "outputs": [],
   "source": [
    "def hparam_search():\n",
    "    table = list()\n",
    "    thresh_vals = list(np.arange(0.0, 1.01, 0.01))\n",
    "    \n",
    "    idx = 0\n",
    "    \n",
    "    for m_val in thresh_vals:\n",
    "        result = novelty_eval_reconstrunction(train_rec_loss, test_rec_loss, novel_rec_loss, mult=m_val)\n",
    "        table.append([idx, m_val, result[0], result[1]])\n",
    "        \n",
    "        idx = idx + 1\n",
    "    \n",
    "    table = np.array(table)\n",
    "    sns.lineplot(table[:, 1], table[:, 2], label='Accuracy')\n",
    "    sns.lineplot(table[:, 1], table[:, 3], label='Macro F1')\n",
    "    plt.xlabel('Hyperparameter Value')\n",
    "    plt.title('Novelty Detection Experiement')\n",
    "    plt.show()\n",
    "    \n",
    "    top_acc = np.array(pd.Series(table[:, 2]).nlargest().index)\n",
    "    top_f1 = np.array(pd.Series(table[:, 3]).nlargest().index)\n",
    "    \n",
    "    print('Index with Top Accuracy and Macro F1 : ', top_acc, top_f1)\n",
    "    print('Most Important Index : ', np.intersect1d(top_acc, top_f1))\n",
    "    \n",
    "    print(tabulate(table, headers=['Index', 'Std. Multiplier Value', 'Accuracy', 'Macro F1'], tablefmt=\"grid\"))"
   ]
  },
  {
   "cell_type": "code",
   "execution_count": 44,
   "metadata": {},
   "outputs": [
    {
     "name": "stderr",
     "output_type": "stream",
     "text": [
      "/home/hariub/miniconda3/envs/tf2/lib/python3.8/site-packages/seaborn/_decorators.py:36: FutureWarning: Pass the following variables as keyword args: x, y. From version 0.12, the only valid positional argument will be `data`, and passing other arguments without an explicit keyword will result in an error or misinterpretation.\n",
      "  warnings.warn(\n",
      "/home/hariub/miniconda3/envs/tf2/lib/python3.8/site-packages/seaborn/_decorators.py:36: FutureWarning: Pass the following variables as keyword args: x, y. From version 0.12, the only valid positional argument will be `data`, and passing other arguments without an explicit keyword will result in an error or misinterpretation.\n",
      "  warnings.warn(\n"
     ]
    },
    {
     "data": {
      "image/png": "[encoded data removed]",
      "text/plain": [
       "<Figure size 432x288 with 1 Axes>"
      ]
     },
     "metadata": {
      "needs_background": "light"
     },
     "output_type": "display_data"
    },
    {
     "name": "stdout",
     "output_type": "stream",
     "text": [
      "Index with Top Accuracy and Macro F1 :  [0 1 2 3 4] [15 14 11  6  7]\n",
      "Most Important Index :  []\n",
      "+---------+-------------------------+------------+------------+\n",
      "|   Index |   Std. Multiplier Value |   Accuracy |   Macro F1 |\n",
      "+=========+=========================+============+============+\n",
      "|       0 |                    0    |   0.757539 |   0.583069 |\n",
      "+---------+-------------------------+------------+------------+\n",
      "|       1 |                    0.01 |   0.757174 |   0.583903 |\n",
      "+---------+-------------------------+------------+------------+\n",
      "|       2 |                    0.02 |   0.756688 |   0.583964 |\n",
      "+---------+-------------------------+------------+------------+\n",
      "|       3 |                    0.03 |   0.755837 |   0.584398 |\n",
      "+---------+-------------------------+------------+------------+\n",
      "|       4 |                    0.04 |   0.755837 |   0.585718 |\n",
      "+---------+-------------------------+------------+------------+\n",
      "|       5 |                    0.05 |   0.75535  |   0.586422 |\n",
      "+---------+-------------------------+------------+------------+\n",
      "|       6 |                    0.06 |   0.754742 |   0.586588 |\n",
      "+---------+-------------------------+------------+------------+\n",
      "|       7 |                    0.07 |   0.753891 |   0.586557 |\n",
      "+---------+-------------------------+------------+------------+\n",
      "|       8 |                    0.08 |   0.752432 |   0.585611 |\n",
      "+---------+-------------------------+------------+------------+\n",
      "|       9 |                    0.09 |   0.751702 |   0.585885 |\n",
      "+---------+-------------------------+------------+------------+\n",
      "|      10 |                    0.1  |   0.751459 |   0.586328 |\n",
      "+---------+-------------------------+------------+------------+\n",
      "|      11 |                    0.11 |   0.750486 |   0.586609 |\n",
      "+---------+-------------------------+------------+------------+\n",
      "|      12 |                    0.12 |   0.749757 |   0.586448 |\n",
      "+---------+-------------------------+------------+------------+\n",
      "|      13 |                    0.13 |   0.748419 |   0.586012 |\n",
      "+---------+-------------------------+------------+------------+\n",
      "|      14 |                    0.14 |   0.748298 |   0.58695  |\n",
      "+---------+-------------------------+------------+------------+\n",
      "|      15 |                    0.15 |   0.747082 |   0.587011 |\n",
      "+---------+-------------------------+------------+------------+\n",
      "|      16 |                    0.16 |   0.745258 |   0.585974 |\n",
      "+---------+-------------------------+------------+------------+\n",
      "|      17 |                    0.17 |   0.744285 |   0.586215 |\n",
      "+---------+-------------------------+------------+------------+\n",
      "|      18 |                    0.18 |   0.742218 |   0.584986 |\n",
      "+---------+-------------------------+------------+------------+\n",
      "|      19 |                    0.19 |   0.741245 |   0.585017 |\n",
      "+---------+-------------------------+------------+------------+\n",
      "|      20 |                    0.2  |   0.740029 |   0.584852 |\n",
      "+---------+-------------------------+------------+------------+\n",
      "|      21 |                    0.21 |   0.738935 |   0.585169 |\n",
      "+---------+-------------------------+------------+------------+\n",
      "|      22 |                    0.22 |   0.737476 |   0.5848   |\n",
      "+---------+-------------------------+------------+------------+\n",
      "|      23 |                    0.23 |   0.734801 |   0.583091 |\n",
      "+---------+-------------------------+------------+------------+\n",
      "|      24 |                    0.24 |   0.732612 |   0.581767 |\n",
      "+---------+-------------------------+------------+------------+\n",
      "|      25 |                    0.25 |   0.730788 |   0.580921 |\n",
      "+---------+-------------------------+------------+------------+\n",
      "|      26 |                    0.26 |   0.728599 |   0.579791 |\n",
      "+---------+-------------------------+------------+------------+\n",
      "|      27 |                    0.27 |   0.725803 |   0.57838  |\n",
      "+---------+-------------------------+------------+------------+\n",
      "|      28 |                    0.28 |   0.723614 |   0.577807 |\n",
      "+---------+-------------------------+------------+------------+\n",
      "|      29 |                    0.29 |   0.721182 |   0.577219 |\n",
      "+---------+-------------------------+------------+------------+\n",
      "|      30 |                    0.3  |   0.71948  |   0.577716 |\n",
      "+---------+-------------------------+------------+------------+\n",
      "|      31 |                    0.31 |   0.717777 |   0.577832 |\n",
      "+---------+-------------------------+------------+------------+\n",
      "|      32 |                    0.32 |   0.714008 |   0.576864 |\n",
      "+---------+-------------------------+------------+------------+\n",
      "|      33 |                    0.33 |   0.707928 |   0.573593 |\n",
      "+---------+-------------------------+------------+------------+\n",
      "|      34 |                    0.34 |   0.700268 |   0.569134 |\n",
      "+---------+-------------------------+------------+------------+\n",
      "|      35 |                    0.35 |   0.691391 |   0.564435 |\n",
      "+---------+-------------------------+------------+------------+\n",
      "|      36 |                    0.36 |   0.675705 |   0.553771 |\n",
      "+---------+-------------------------+------------+------------+\n",
      "|      37 |                    0.37 |   0.661114 |   0.543908 |\n",
      "+---------+-------------------------+------------+------------+\n",
      "|      38 |                    0.38 |   0.642875 |   0.532284 |\n",
      "+---------+-------------------------+------------+------------+\n",
      "|      39 |                    0.39 |   0.62196  |   0.519407 |\n",
      "+---------+-------------------------+------------+------------+\n",
      "|      40 |                    0.4  |   0.591804 |   0.501456 |\n",
      "+---------+-------------------------+------------+------------+\n",
      "|      41 |                    0.41 |   0.554232 |   0.478158 |\n",
      "+---------+-------------------------+------------+------------+\n",
      "|      42 |                    0.42 |   0.511308 |   0.450639 |\n",
      "+---------+-------------------------+------------+------------+\n",
      "|      43 |                    0.43 |   0.463157 |   0.418332 |\n",
      "+---------+-------------------------+------------+------------+\n",
      "|      44 |                    0.44 |   0.391537 |   0.36621  |\n",
      "+---------+-------------------------+------------+------------+\n",
      "|      45 |                    0.45 |   0.332806 |   0.320899 |\n",
      "+---------+-------------------------+------------+------------+\n",
      "|      46 |                    0.46 |   0.282466 |   0.278244 |\n",
      "+---------+-------------------------+------------+------------+\n",
      "|      47 |                    0.47 |   0.241488 |   0.240853 |\n",
      "+---------+-------------------------+------------+------------+\n",
      "|      48 |                    0.48 |   0.212792 |   0.212747 |\n",
      "+---------+-------------------------+------------+------------+\n",
      "|      49 |                    0.49 |   0.186284 |   0.184988 |\n",
      "+---------+-------------------------+------------+------------+\n",
      "|      50 |                    0.5  |   0.169869 |   0.166702 |\n",
      "+---------+-------------------------+------------+------------+\n",
      "|      51 |                    0.51 |   0.159168 |   0.153801 |\n",
      "+---------+-------------------------+------------+------------+\n",
      "|      52 |                    0.52 |   0.149197 |   0.141693 |\n",
      "+---------+-------------------------+------------+------------+\n",
      "|      53 |                    0.53 |   0.140443 |   0.130692 |\n",
      "+---------+-------------------------+------------+------------+\n",
      "|      54 |                    0.54 |   0.134728 |   0.122975 |\n",
      "+---------+-------------------------+------------+------------+\n",
      "|      55 |                    0.55 |   0.131688 |   0.118789 |\n",
      "+---------+-------------------------+------------+------------+\n",
      "|      56 |                    0.56 |   0.130837 |   0.117203 |\n",
      "+---------+-------------------------+------------+------------+\n",
      "|      57 |                    0.57 |   0.130472 |   0.116423 |\n",
      "+---------+-------------------------+------------+------------+\n",
      "|      58 |                    0.58 |   0.129985 |   0.115708 |\n",
      "+---------+-------------------------+------------+------------+\n",
      "|      59 |                    0.59 |   0.129013 |   0.114495 |\n",
      "+---------+-------------------------+------------+------------+\n",
      "|      60 |                    0.6  |   0.128891 |   0.114288 |\n",
      "+---------+-------------------------+------------+------------+\n",
      "|      61 |                    0.61 |   0.128769 |   0.114136 |\n",
      "+---------+-------------------------+------------+------------+\n",
      "|      62 |                    0.62 |   0.128648 |   0.113984 |\n",
      "+---------+-------------------------+------------+------------+\n",
      "|      63 |                    0.63 |   0.128648 |   0.113984 |\n",
      "+---------+-------------------------+------------+------------+\n",
      "|      64 |                    0.64 |   0.128648 |   0.113984 |\n",
      "+---------+-------------------------+------------+------------+\n",
      "|      65 |                    0.65 |   0.128648 |   0.113984 |\n",
      "+---------+-------------------------+------------+------------+\n",
      "|      66 |                    0.66 |   0.128648 |   0.113984 |\n",
      "+---------+-------------------------+------------+------------+\n",
      "|      67 |                    0.67 |   0.128648 |   0.113984 |\n",
      "+---------+-------------------------+------------+------------+\n",
      "|      68 |                    0.68 |   0.128648 |   0.113984 |\n",
      "+---------+-------------------------+------------+------------+\n",
      "|      69 |                    0.69 |   0.128648 |   0.113984 |\n",
      "+---------+-------------------------+------------+------------+\n",
      "|      70 |                    0.7  |   0.128648 |   0.113984 |\n",
      "+---------+-------------------------+------------+------------+\n",
      "|      71 |                    0.71 |   0.128648 |   0.113984 |\n",
      "+---------+-------------------------+------------+------------+\n",
      "|      72 |                    0.72 |   0.128648 |   0.113984 |\n",
      "+---------+-------------------------+------------+------------+\n",
      "|      73 |                    0.73 |   0.128648 |   0.113984 |\n",
      "+---------+-------------------------+------------+------------+\n",
      "|      74 |                    0.74 |   0.128648 |   0.113984 |\n",
      "+---------+-------------------------+------------+------------+\n",
      "|      75 |                    0.75 |   0.128648 |   0.113984 |\n",
      "+---------+-------------------------+------------+------------+\n",
      "|      76 |                    0.76 |   0.128648 |   0.113984 |\n",
      "+---------+-------------------------+------------+------------+\n",
      "|      77 |                    0.77 |   0.128648 |   0.113984 |\n",
      "+---------+-------------------------+------------+------------+\n",
      "|      78 |                    0.78 |   0.128648 |   0.113984 |\n",
      "+---------+-------------------------+------------+------------+\n",
      "|      79 |                    0.79 |   0.128648 |   0.113984 |\n",
      "+---------+-------------------------+------------+------------+\n",
      "|      80 |                    0.8  |   0.128648 |   0.113984 |\n",
      "+---------+-------------------------+------------+------------+\n",
      "|      81 |                    0.81 |   0.128648 |   0.113984 |\n",
      "+---------+-------------------------+------------+------------+\n",
      "|      82 |                    0.82 |   0.128648 |   0.113984 |\n",
      "+---------+-------------------------+------------+------------+\n",
      "|      83 |                    0.83 |   0.128648 |   0.113984 |\n",
      "+---------+-------------------------+------------+------------+\n",
      "|      84 |                    0.84 |   0.128648 |   0.113984 |\n",
      "+---------+-------------------------+------------+------------+\n",
      "|      85 |                    0.85 |   0.128648 |   0.113984 |\n",
      "+---------+-------------------------+------------+------------+\n",
      "|      86 |                    0.86 |   0.128648 |   0.113984 |\n",
      "+---------+-------------------------+------------+------------+\n",
      "|      87 |                    0.87 |   0.128648 |   0.113984 |\n",
      "+---------+-------------------------+------------+------------+\n",
      "|      88 |                    0.88 |   0.128648 |   0.113984 |\n",
      "+---------+-------------------------+------------+------------+\n",
      "|      89 |                    0.89 |   0.128648 |   0.113984 |\n",
      "+---------+-------------------------+------------+------------+\n",
      "|      90 |                    0.9  |   0.128648 |   0.113984 |\n",
      "+---------+-------------------------+------------+------------+\n",
      "|      91 |                    0.91 |   0.128648 |   0.113984 |\n",
      "+---------+-------------------------+------------+------------+\n",
      "|      92 |                    0.92 |   0.128648 |   0.113984 |\n",
      "+---------+-------------------------+------------+------------+\n",
      "|      93 |                    0.93 |   0.128648 |   0.113984 |\n",
      "+---------+-------------------------+------------+------------+\n",
      "|      94 |                    0.94 |   0.128648 |   0.113984 |\n",
      "+---------+-------------------------+------------+------------+\n",
      "|      95 |                    0.95 |   0.128648 |   0.113984 |\n",
      "+---------+-------------------------+------------+------------+\n",
      "|      96 |                    0.96 |   0.128648 |   0.113984 |\n",
      "+---------+-------------------------+------------+------------+\n",
      "|      97 |                    0.97 |   0.128648 |   0.113984 |\n",
      "+---------+-------------------------+------------+------------+\n",
      "|      98 |                    0.98 |   0.128648 |   0.113984 |\n",
      "+---------+-------------------------+------------+------------+\n",
      "|      99 |                    0.99 |   0.128648 |   0.113984 |\n",
      "+---------+-------------------------+------------+------------+\n",
      "|     100 |                    1    |   0.128648 |   0.113984 |\n",
      "+---------+-------------------------+------------+------------+\n"
     ]
    }
   ],
   "source": [
    "# Result\n",
    "hparam_search() "
   ]
  },
  {
   "cell_type": "code",
   "execution_count": null,
   "metadata": {},
   "outputs": [],
   "source": []
  },
  {
   "cell_type": "code",
   "execution_count": null,
   "metadata": {},
   "outputs": [],
   "source": []
  }
 ],
 "metadata": {
  "kernelspec": {
   "display_name": "Python 3",
   "language": "python",
   "name": "python3"
  },
  "language_info": {
   "codemirror_mode": {
    "name": "ipython",
    "version": 3
   },
   "file_extension": ".py",
   "mimetype": "text/x-python",
   "name": "python",
   "nbconvert_exporter": "python",
   "pygments_lexer": "ipython3",
   "version": "3.8.5"
  }
 },
 "nbformat": 4,
 "nbformat_minor": 4
}
