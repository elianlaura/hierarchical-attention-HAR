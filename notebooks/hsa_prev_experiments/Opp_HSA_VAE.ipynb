{
 "cells": [
  {
   "cell_type": "code",
   "execution_count": 72,
   "metadata": {
    "colab": {
     "base_uri": "https://localhost:8080/",
     "height": 71
    },
    "colab_type": "code",
    "id": "FB-eyA9BQCf7",
    "outputId": "955aa256-b33d-479f-a80f-d6137422e06b"
   },
   "outputs": [],
   "source": [
    "import os\n",
    "\n",
    "import tensorflow as tf\n",
    "import numpy as np\n",
    "import pandas as pd\n",
    "import seaborn as sns\n",
    "import matplotlib.pyplot as plt\n",
    "from scipy import stats\n",
    "from sklearn.metrics import classification_report, confusion_matrix, accuracy_score, f1_score\n",
    "from tabulate import tabulate"
   ]
  },
  {
   "cell_type": "markdown",
   "metadata": {
    "colab_type": "text",
    "id": "TuGGoEdLrsbr"
   },
   "source": [
    "## Download and preprocessing\n",
    "\n"
   ]
  },
  {
   "cell_type": "code",
   "execution_count": 2,
   "metadata": {
    "colab": {},
    "colab_type": "code",
    "id": "NvxHjPJBrxdt"
   },
   "outputs": [],
   "source": [
    "mid_label_map = [\n",
    "            (0,      'Other'),\n",
    "            (406516, 'Open Door 1'),\n",
    "            (406517, 'Open Door 2'),\n",
    "            (404516, 'Close Door 1'),\n",
    "            (404517, 'Close Door 2'),\n",
    "            (406520, 'Open Fridge'),\n",
    "            (404520, 'Close Fridge'),\n",
    "            (406505, 'Open Dishwasher'),\n",
    "            (404505, 'Close Dishwasher'),\n",
    "            (406519, 'Open Drawer 1'),\n",
    "            (404519, 'Close Drawer 1'),\n",
    "            (406511, 'Open Drawer 2'),\n",
    "            (404511, 'Close Drawer 2'),\n",
    "            (406508, 'Open Drawer 3'),\n",
    "            (404508, 'Close Drawer 3'),\n",
    "            (408512, 'Clean Table'),\n",
    "            (407521, 'Drink from Cup'),\n",
    "            (405506, 'Toggle Switch')]\n",
    "mid_label_to_id = {str(x[0]): i for i, x in enumerate(mid_label_map)}\n",
    "mid_idToLabel = [x[1] for x in mid_label_map]\n",
    "\n",
    "hi_label_map = [(0, 'Other'),\n",
    "                (101, 'Relaxing'), (102, 'Coffee time'),\n",
    "                (103, 'Early morning'), (104, 'Cleanup'),\n",
    "                (105, 'Sandwich time')]\n",
    "\n",
    "hi_label_to_id = {str(x[0]): i for i, x in enumerate(hi_label_map)}\n",
    "hi_idToLabel = [x[1] for x in hi_label_map]\n",
    "\n",
    "loco_map = [(0, 'Other'), (1 , 'Stand'), (2,'Walk'), (4, 'Sit'), (5, 'Lie')]\n",
    "loco_label_to_id = {str(x[0]): i for i, x in enumerate(loco_map)}\n",
    "loco_idToLabel = [x[1] for x in loco_map]\n",
    "\n",
    "FEATURES = [str(i) for i in range(77)]\n",
    "LOCO_LABEL_COL = 77\n",
    "MID_LABEL_COL = 78\n",
    "HI_LABEL_COL = 79\n",
    "SUBJECT_ID = 80\n",
    "RUN_ID = 81"
   ]
  },
  {
   "cell_type": "code",
   "execution_count": 3,
   "metadata": {
    "colab": {},
    "colab_type": "code",
    "id": "CTrLYm-pr8lQ"
   },
   "outputs": [],
   "source": [
    "# !wget -q -O clean_opp.csv https://www.dropbox.com/s/uu4iz6lrzmssff8/clean_opp_nodrill.csv?dl=1"
   ]
  },
  {
   "cell_type": "code",
   "execution_count": 4,
   "metadata": {},
   "outputs": [
    {
     "data": {
      "text/plain": [
       "{0: 'Other',\n",
       " 1: 'Relaxing',\n",
       " 2: 'Coffee time',\n",
       " 3: 'Early morning',\n",
       " 4: 'Cleanup',\n",
       " 5: 'Sandwich time'}"
      ]
     },
     "execution_count": 4,
     "metadata": {},
     "output_type": "execute_result"
    }
   ],
   "source": [
    "{i: str(x[1]) for i, x in enumerate(hi_label_map)}"
   ]
  },
  {
   "cell_type": "code",
   "execution_count": 5,
   "metadata": {
    "colab": {},
    "colab_type": "code",
    "id": "9AAqs6jhahQ2"
   },
   "outputs": [],
   "source": [
    "df = pd.read_csv('../data/clean_opp_nodrill.csv')"
   ]
  },
  {
   "cell_type": "code",
   "execution_count": 6,
   "metadata": {
    "colab": {
     "base_uri": "https://localhost:8080/",
     "height": 34
    },
    "colab_type": "code",
    "id": "OBpMZXKzbGKs",
    "outputId": "4c78f697-9b3c-4330-da2f-1226bd4e88ff"
   },
   "outputs": [
    {
     "data": {
      "text/plain": [
       "(630676, 82)"
      ]
     },
     "execution_count": 6,
     "metadata": {},
     "output_type": "execute_result"
    }
   ],
   "source": [
    "df.shape"
   ]
  },
  {
   "cell_type": "markdown",
   "metadata": {},
   "source": [
    "#### Remove null class from novelty (High level)"
   ]
  },
  {
   "cell_type": "code",
   "execution_count": 7,
   "metadata": {},
   "outputs": [],
   "source": [
    "df = df[df[str(HI_LABEL_COL)] != 0]"
   ]
  },
  {
   "cell_type": "code",
   "execution_count": 8,
   "metadata": {},
   "outputs": [
    {
     "data": {
      "text/plain": [
       "(526608, 82)"
      ]
     },
     "execution_count": 8,
     "metadata": {},
     "output_type": "execute_result"
    }
   ],
   "source": [
    "df.shape"
   ]
  },
  {
   "cell_type": "markdown",
   "metadata": {
    "colab_type": "text",
    "id": "2_laTZP5O6FI"
   },
   "source": [
    "### EDA"
   ]
  },
  {
   "cell_type": "code",
   "execution_count": 9,
   "metadata": {
    "colab": {
     "base_uri": "https://localhost:8080/",
     "height": 279
    },
    "colab_type": "code",
    "id": "LXCa5lAQs8Cs",
    "outputId": "837c581b-95e1-4d09-d882-58b3cd2ccb1f"
   },
   "outputs": [
    {
     "data": {
      "text/plain": [
       "<AxesSubplot:>"
      ]
     },
     "execution_count": 9,
     "metadata": {},
     "output_type": "execute_result"
    },
    {
     "data": {
      "image/png": "[encoded data removed]",
      "text/plain": [
       "<Figure size 432x288 with 1 Axes>"
      ]
     },
     "metadata": {
      "needs_background": "light"
     },
     "output_type": "display_data"
    }
   ],
   "source": [
    "df.iloc[:, HI_LABEL_COL].value_counts().plot(kind='bar')"
   ]
  },
  {
   "cell_type": "code",
   "execution_count": 10,
   "metadata": {
    "colab": {
     "base_uri": "https://localhost:8080/",
     "height": 279
    },
    "colab_type": "code",
    "id": "b517gJPbdJyB",
    "outputId": "aae13845-2f31-4c32-b817-df58b68ec278"
   },
   "outputs": [
    {
     "data": {
      "text/plain": [
       "<AxesSubplot:>"
      ]
     },
     "execution_count": 10,
     "metadata": {},
     "output_type": "execute_result"
    },
    {
     "data": {
      "image/png": "[encoded data removed]",
      "text/plain": [
       "<Figure size 432x288 with 1 Axes>"
      ]
     },
     "metadata": {
      "needs_background": "light"
     },
     "output_type": "display_data"
    }
   ],
   "source": [
    "df.iloc[:, SUBJECT_ID].value_counts().plot(kind='bar')"
   ]
  },
  {
   "cell_type": "markdown",
   "metadata": {
    "colab_type": "text",
    "id": "icCt0JFwtuJf"
   },
   "source": [
    "### Imputation scaling"
   ]
  },
  {
   "cell_type": "code",
   "execution_count": 11,
   "metadata": {
    "colab": {},
    "colab_type": "code",
    "id": "OCyLKA1AtmP_"
   },
   "outputs": [],
   "source": [
    "# Perform linear interpolation\n",
    "df[FEATURES] = df[FEATURES].interpolate(method='linear', axis=0)\n",
    "\n",
    "# Remaining missing data are converted to zero\n",
    "df = df.fillna(0)\n",
    "\n",
    "# All sensor channels are normalized\n",
    "from sklearn.preprocessing import StandardScaler\n",
    "\n",
    "scaler = StandardScaler()\n",
    "df[FEATURES] = scaler.fit_transform(df[FEATURES])"
   ]
  },
  {
   "cell_type": "code",
   "execution_count": 1,
   "metadata": {},
   "outputs": [],
   "source": [
    "def get_activity_dict(activity_map:dict, novel_classes:list):\n",
    "    _activity_map = activity_map.copy()\n",
    "    novel_map = dict()\n",
    "    \n",
    "    for activity_class in novel_classes:\n",
    "        novel_map[activity_class] = activity_map[activity_class]\n",
    "        _activity_map.pop(activity_class)\n",
    "        \n",
    "    return _activity_map, novel_map"
   ]
  },
  {
   "cell_type": "code",
   "execution_count": 2,
   "metadata": {},
   "outputs": [],
   "source": [
    "NOVEL_CLASSES = [2, 4]"
   ]
  },
  {
   "cell_type": "code",
   "execution_count": 3,
   "metadata": {},
   "outputs": [
    {
     "name": "stdout",
     "output_type": "stream",
     "text": [
      "{1: 'Relaxing', 3: 'Early morning', 5: 'Sandwich time'}\n",
      "{2: 'Coffee time', 4: 'Cleanup'}\n"
     ]
    }
   ],
   "source": [
    "activity_map = {1: 'Relaxing',2: 'Coffee time', 3: 'Early morning', 4: 'Cleanup', 5: 'Sandwich time'}\n",
    "_activity_map, novel_map = get_activity_dict(activity_map, NOVEL_CLASSES)\n",
    "\n",
    "print(_activity_map)\n",
    "print(novel_map)"
   ]
  },
  {
   "cell_type": "code",
   "execution_count": 4,
   "metadata": {},
   "outputs": [],
   "source": [
    "import json\n",
    "\n",
    "with open(\"activities/opp_activity.json\", \"w\") as outfile:  \n",
    "    json.dump(activity_map, outfile, indent = 4) "
   ]
  },
  {
   "cell_type": "code",
   "execution_count": 15,
   "metadata": {},
   "outputs": [],
   "source": [
    "holdout_data = df.loc[df[str(HI_LABEL_COL)].isin(NOVEL_CLASSES)]\n",
    "novel_data = holdout_data.copy().reset_index(drop=True)\n",
    "\n",
    "df = df.drop(holdout_data.copy().index)\n",
    "df = df.reset_index(drop=True)"
   ]
  },
  {
   "cell_type": "markdown",
   "metadata": {
    "colab_type": "text",
    "id": "PLTNUdehedXK"
   },
   "source": [
    "### train-test"
   ]
  },
  {
   "cell_type": "code",
   "execution_count": 16,
   "metadata": {
    "colab": {},
    "colab_type": "code",
    "id": "81diayImaC1K"
   },
   "outputs": [],
   "source": [
    "BENCHMARK_TEST= ((df[str(SUBJECT_ID)] == 2) | (df[str(SUBJECT_ID)] == 3)) & ((df[str(RUN_ID)] == 4) | (df[str(RUN_ID)] == 5))"
   ]
  },
  {
   "cell_type": "code",
   "execution_count": 17,
   "metadata": {
    "colab": {},
    "colab_type": "code",
    "id": "6B--aZpNeo6o"
   },
   "outputs": [],
   "source": [
    "train_df = df[~ BENCHMARK_TEST]\n",
    "test_df = df[BENCHMARK_TEST]"
   ]
  },
  {
   "cell_type": "markdown",
   "metadata": {
    "colab_type": "text",
    "id": "HWhVW32BthuJ"
   },
   "source": [
    "### Window - session"
   ]
  },
  {
   "cell_type": "code",
   "execution_count": 18,
   "metadata": {
    "colab": {},
    "colab_type": "code",
    "id": "sEqeYSYk0dj4"
   },
   "outputs": [],
   "source": [
    "SLIDING_WINDOW_LENGTH = 30*30\n",
    "SLIDING_WINDOW_STEP = 30*5"
   ]
  },
  {
   "cell_type": "code",
   "execution_count": 19,
   "metadata": {
    "colab": {},
    "colab_type": "code",
    "id": "3Z3BeBjQtlW5"
   },
   "outputs": [],
   "source": [
    "def create_windowed_dataset(df, features= FEATURES, class_label = str(HI_LABEL_COL), window_size=24, stride = 12):\n",
    "    X = df[features].values\n",
    "    y = df[class_label].values\n",
    "    segments = []\n",
    "    labels = []\n",
    "    seg_start= 0\n",
    "    seg_end = window_size\n",
    "    mid_labels = []\n",
    "    loco_labels = []\n",
    "    while seg_end <= len(X):\n",
    "        if len(np.unique(y[seg_start:seg_end])) == 1: #valid-window\n",
    "            segments.append(X[seg_start:seg_end])\n",
    "            labels.append(y[seg_start]) # doesn't matter all same labels\n",
    "            mid_labels.append(df[str(MID_LABEL_COL)].values[seg_start:seg_end])\n",
    "            loco_labels.append(df[str(LOCO_LABEL_COL)].values[seg_start:seg_end])\n",
    "\n",
    "            seg_start += stride\n",
    "            seg_end = seg_start + window_size\n",
    "\n",
    "        else: #mixed- discard last few samples, move start to the new activity\n",
    "            current_label = y[seg_start]\n",
    "            for i in range(seg_start, seg_end):\n",
    "                if y[i] != current_label:\n",
    "                    seg_start = i\n",
    "                    seg_end = seg_start + window_size\n",
    "                    break\n",
    "\n",
    "    return np.asarray(segments).astype(np.float32), np.asarray(labels), mid_labels, loco_labels"
   ]
  },
  {
   "cell_type": "code",
   "execution_count": 21,
   "metadata": {
    "colab": {},
    "colab_type": "code",
    "id": "woEXO_h3yfmi"
   },
   "outputs": [],
   "source": [
    "X_train, y_train, m_labels_tr, loco_labels_tr = create_windowed_dataset(train_df, window_size=SLIDING_WINDOW_LENGTH, stride = SLIDING_WINDOW_STEP)\n",
    "X_test, y_test, m_labels_ts, loco_labels_ts = create_windowed_dataset(test_df, window_size=SLIDING_WINDOW_LENGTH, stride = SLIDING_WINDOW_STEP)\n",
    "X_holdout, y_holdout, m_labels_holdout, loco_labels_holdout = create_windowed_dataset(novel_data, window_size=SLIDING_WINDOW_LENGTH, stride = SLIDING_WINDOW_STEP)"
   ]
  },
  {
   "cell_type": "code",
   "execution_count": 22,
   "metadata": {
    "colab": {},
    "colab_type": "code",
    "id": "OWiYhaKusVjw"
   },
   "outputs": [],
   "source": [
    "def plot_opp_midlevel(idx):\n",
    "    print('Hi lavel activity: ', y_test[idx])\n",
    "    plt.figure(figsize=(12,5))\n",
    "    plt.scatter(np.linspace(0,30,num=900),m_labels_ts[idx], color='g',linewidth=0.5)\n",
    "    plt.yticks(range(18),labels=mid_idToLabel)\n",
    "    plt.grid(True, axis='y',  linestyle='--')\n",
    "    plt.show()"
   ]
  },
  {
   "cell_type": "code",
   "execution_count": 23,
   "metadata": {
    "colab": {
     "base_uri": "https://localhost:8080/",
     "height": 341
    },
    "colab_type": "code",
    "id": "W0vZthD7IV4c",
    "outputId": "d6c28699-d6b4-4008-b73d-f0131d56af2d"
   },
   "outputs": [],
   "source": [
    "# plot_opp_midlevel(44)"
   ]
  },
  {
   "cell_type": "code",
   "execution_count": 24,
   "metadata": {
    "colab": {},
    "colab_type": "code",
    "id": "aK6KQlSPdMsB"
   },
   "outputs": [],
   "source": [
    "def plot_opp_locomotion(idx):\n",
    "    plt.figure(figsize=(8,5))\n",
    "    plt.scatter(np.linspace(0,30,num=900),loco_labels_ts[idx], color='g',linewidth=0.5)\n",
    "    plt.yticks(range(5),labels=loco_idToLabel)\n",
    "    plt.grid(True, axis='y',  linestyle='--')\n",
    "    plt.show()"
   ]
  },
  {
   "cell_type": "code",
   "execution_count": 25,
   "metadata": {
    "colab": {
     "base_uri": "https://localhost:8080/",
     "height": 324
    },
    "colab_type": "code",
    "id": "pnRMAX0AdXsF",
    "outputId": "f53d4f6f-5a19-4250-9a14-25c59bafc096"
   },
   "outputs": [],
   "source": [
    "# plot_opp_locomotion(44)"
   ]
  },
  {
   "cell_type": "code",
   "execution_count": 26,
   "metadata": {
    "colab": {},
    "colab_type": "code",
    "id": "rDZzo11Afyti"
   },
   "outputs": [],
   "source": [
    "# count = 1\n",
    "# prev = y_train[0]\n",
    "# for wndw in y_train:\n",
    "#     if wndw != 0:\n",
    "#         if wndw == prev:\n",
    "#             count+=1\n",
    "#         else:\n",
    "#             print(f'{hi_idToLabel[prev]} -  {count/32} seconds')\n",
    "#             count=1\n",
    "#         prev=wndw"
   ]
  },
  {
   "cell_type": "code",
   "execution_count": 27,
   "metadata": {
    "colab": {},
    "colab_type": "code",
    "id": "WGK_CPkzD_sE"
   },
   "outputs": [],
   "source": [
    "N_WINDOW = 36\n",
    "N_TIMESTEP = 25"
   ]
  },
  {
   "cell_type": "code",
   "execution_count": 28,
   "metadata": {
    "colab": {},
    "colab_type": "code",
    "id": "OsG1hNNji4Wc"
   },
   "outputs": [],
   "source": [
    "X_train = X_train.reshape((X_train.shape[0], N_WINDOW, N_TIMESTEP, 77))\n",
    "# X_val = X_val.reshape((X_val.shape[0], N_WINDOW, N_TIMESTEP, 77))\n",
    "X_test = X_test.reshape((X_test.shape[0], N_WINDOW, N_TIMESTEP, 77))\n",
    "X_holdout = X_holdout.reshape((X_holdout.shape[0], N_WINDOW, N_TIMESTEP, 77))\n",
    "\n",
    "\n",
    "y_train = tf.keras.utils.to_categorical(y_train)\n",
    "# y_val = tf.keras.utils.to_categorical(y_val)\n",
    "y_test = tf.keras.utils.to_categorical(y_test)\n",
    "y_holdout = tf.keras.utils.to_categorical(y_holdout)"
   ]
  },
  {
   "cell_type": "code",
   "execution_count": 29,
   "metadata": {
    "colab": {
     "base_uri": "https://localhost:8080/",
     "height": 119
    },
    "colab_type": "code",
    "id": "AWo6YyT405eM",
    "outputId": "7be73e09-747a-45a9-fff5-bad3d6ca7035"
   },
   "outputs": [
    {
     "name": "stdout",
     "output_type": "stream",
     "text": [
      "(1617, 36, 25, 77)\n",
      "(1617, 6)\n",
      "(417, 36, 25, 77)\n",
      "(417, 6)\n",
      "(916, 36, 25, 77)\n",
      "(916, 5)\n"
     ]
    }
   ],
   "source": [
    "print(X_train.shape)\n",
    "print(y_train.shape)\n",
    "\n",
    "# print(X_val.shape)\n",
    "# print(y_val.shape)\n",
    "\n",
    "print(X_test.shape)\n",
    "print(y_test.shape)\n",
    "\n",
    "\n",
    "print(X_holdout.shape)\n",
    "print(y_holdout.shape)"
   ]
  },
  {
   "cell_type": "markdown",
   "metadata": {
    "colab_type": "text",
    "id": "KixwJrP1_jfC"
   },
   "source": [
    "## Attention Model"
   ]
  },
  {
   "cell_type": "code",
   "execution_count": 30,
   "metadata": {
    "colab": {},
    "colab_type": "code",
    "id": "V_zrEey6hBFy"
   },
   "outputs": [],
   "source": [
    "class AggregateAttention(tf.keras.layers.Layer):\n",
    "    def __init__(self, d_model, num_heads):\n",
    "        super(AggregateAttention, self).__init__()\n",
    "        self.mha = MultiHeadAttention(d_model, num_heads)\n",
    "        self.d_model = d_model\n",
    "        self.query = self.add_weight(\"learned_query\",\n",
    "                                     shape=[1, 1, self.d_model],\n",
    "                                     initializer=tf.keras.initializers.Orthogonal())  \n",
    "    \n",
    "    def call(self, v, k):\n",
    "        batched_query = tf.tile(self.query, [tf.shape(v)[0],1,1])\n",
    "        output, attention_weights = self.mha(v, k, batched_query, mask=None)\n",
    "        output = tf.squeeze(output, axis=1)\n",
    "        attention_weights = tf.squeeze(attention_weights, axis=2)\n",
    "        return output, attention_weights"
   ]
  },
  {
   "cell_type": "markdown",
   "metadata": {
    "colab_type": "text",
    "id": "upG5nPzdkDuo"
   },
   "source": [
    "### Self Attention"
   ]
  },
  {
   "cell_type": "code",
   "execution_count": 31,
   "metadata": {
    "colab": {},
    "colab_type": "code",
    "id": "ztRMqdKa5cBy"
   },
   "outputs": [],
   "source": [
    "class PositionalEncoding(tf.keras.layers.Layer):\n",
    "\n",
    "    def __init__(self, position, d_model, include_dropout=True, dropout_rate=0.2):\n",
    "        super(PositionalEncoding, self).__init__()\n",
    "        self.d_model = d_model\n",
    "        self.pos_encoding = self.positional_encoding(position, d_model)\n",
    "        self.include_dropout = include_dropout\n",
    "        if include_dropout:\n",
    "            self.dropout = tf.keras.layers.Dropout(rate=dropout_rate)\n",
    "\n",
    "    def get_angles(self, position, i, d_model):\n",
    "        angles = 1 / tf.pow(10000, (2 * (i // 2)) / tf.cast(d_model, tf.float32))\n",
    "        return position * angles\n",
    "\n",
    "    def positional_encoding(self, position, d_model):\n",
    "        angle_rads = self.get_angles(\n",
    "            position=tf.range(position, dtype=tf.float32)[:, tf.newaxis],\n",
    "            i=tf.range(d_model, dtype=tf.float32)[tf.newaxis, :],\n",
    "            d_model=d_model)\n",
    "        # apply sin to even index in the array\n",
    "        sines = tf.math.sin(angle_rads[:, 0::2])\n",
    "        # apply cos to odd index in the array\n",
    "        cosines = tf.math.cos(angle_rads[:, 1::2])\n",
    "\n",
    "        pos_encoding = tf.concat([sines, cosines], axis=-1)\n",
    "        pos_encoding = pos_encoding[tf.newaxis, ...]\n",
    "        return tf.cast(pos_encoding, tf.float32)\n",
    "\n",
    "    def call(self, x):\n",
    "        x *= tf.math.sqrt(tf.cast(self.d_model, tf.float32))\n",
    "        x = x + self.pos_encoding[:, :tf.shape(x)[1], :]\n",
    "        if self.include_dropout:\n",
    "            x = self.dropout(x)\n",
    "        return x"
   ]
  },
  {
   "cell_type": "code",
   "execution_count": 32,
   "metadata": {
    "colab": {},
    "colab_type": "code",
    "id": "OPOShXEP7tZc"
   },
   "outputs": [],
   "source": [
    "def create_look_ahead_mask(size):\n",
    "  mask = 1 - tf.linalg.band_part(tf.ones((size, size)), -1, 0)\n",
    "  return mask  # (seq_len, seq_len)"
   ]
  },
  {
   "cell_type": "code",
   "execution_count": 33,
   "metadata": {
    "colab": {},
    "colab_type": "code",
    "id": "u-2H4jrf_u2J"
   },
   "outputs": [],
   "source": [
    "def scaled_dot_product_attention(q, k, v, mask):\n",
    "    \"\"\"Calculate the attention weights.\n",
    "    q, k, v must have matching leading dimensions.\n",
    "    k, v must have matching penultimate dimension, i.e.: seq_len_k = seq_len_v.\n",
    "    The mask has different shapes depending on its type(padding or look ahead) \n",
    "    but it must be broadcastable for addition.\n",
    "\n",
    "    Args:\n",
    "    q: query shape == (..., seq_len_q, depth)\n",
    "    k: key shape == (..., seq_len_k, depth)\n",
    "    v: value shape == (..., seq_len_v, depth_v)\n",
    "    mask: Float tensor with shape broadcastable \n",
    "            to (..., seq_len_q, seq_len_k). Defaults to None.\n",
    "\n",
    "    Returns:\n",
    "    output, attention_weights\n",
    "    \"\"\"\n",
    "\n",
    "    matmul_qk = tf.matmul(q, k, transpose_b=True)  # (..., seq_len_q, seq_len_k)\n",
    "\n",
    "    # scale matmul_qk\n",
    "    dk = tf.cast(tf.shape(k)[-1], tf.float32)\n",
    "    scaled_attention_logits = matmul_qk / tf.math.sqrt(dk)\n",
    "\n",
    "    # add the mask to the scaled tensor.\n",
    "    if mask is not None:\n",
    "        scaled_attention_logits += (mask * -1e9)  \n",
    "\n",
    "    # softmax is normalized on the last axis (seq_len_k) so that the scores\n",
    "    # add up to 1.\n",
    "    attention_weights = tf.nn.softmax(scaled_attention_logits, axis=-1)  # (..., seq_len_q, seq_len_k)\n",
    "\n",
    "    output = tf.matmul(attention_weights, v)  # (..., seq_len_q, depth_v)\n",
    "\n",
    "    return output, attention_weights\n",
    "\n",
    "\n",
    "class MultiHeadAttention(tf.keras.layers.Layer):\n",
    "    def __init__(self, d_model, num_heads):\n",
    "        super(MultiHeadAttention, self).__init__()\n",
    "        self.num_heads = num_heads\n",
    "        self.d_model = d_model\n",
    "\n",
    "        assert d_model % self.num_heads == 0\n",
    "\n",
    "        self.depth = d_model // self.num_heads\n",
    "\n",
    "        self.wq = tf.keras.layers.Dense(d_model,use_bias=False)\n",
    "        self.wk = tf.keras.layers.Dense(d_model,use_bias=True)\n",
    "        self.wv = tf.keras.layers.Dense(d_model,use_bias=True)\n",
    "\n",
    "        self.dense = tf.keras.layers.Dense(d_model)\n",
    "        \n",
    "    def split_heads(self, x, batch_size):\n",
    "        \"\"\"Split the last dimension into (num_heads, depth).\n",
    "        Transpose the result such that the shape is (batch_size, num_heads, seq_len, depth)\n",
    "        \"\"\"\n",
    "        x = tf.reshape(x, (batch_size, -1, self.num_heads, self.depth))\n",
    "        return tf.transpose(x, perm=[0, 2, 1, 3])\n",
    "\n",
    "    def call(self, v, k, q, mask):\n",
    "        batch_size = tf.shape(q)[0]\n",
    "\n",
    "        q = self.wq(q)  # (batch_size, seq_len, d_model)\n",
    "        k = self.wk(k)  # (batch_size, seq_len, d_model)\n",
    "        v = self.wv(v)  # (batch_size, seq_len, d_model)\n",
    "\n",
    "        q = self.split_heads(q, batch_size)  # (batch_size, num_heads, seq_len_q, depth)\n",
    "        k = self.split_heads(k, batch_size)  # (batch_size, num_heads, seq_len_k, depth)\n",
    "        v = self.split_heads(v, batch_size)  # (batch_size, num_heads, seq_len_v, depth)\n",
    "\n",
    "        # scaled_attention.shape == (batch_size, num_heads, seq_len_q, depth)\n",
    "        # attention_weights.shape == (batch_size, num_heads, seq_len_q, seq_len_k)\n",
    "        scaled_attention, attention_weights = scaled_dot_product_attention(\n",
    "            q, k, v, mask)\n",
    "\n",
    "        scaled_attention = tf.transpose(scaled_attention, perm=[0, 2, 1, 3])  # (batch_size, seq_len_q, num_heads, depth)\n",
    "\n",
    "        concat_attention = tf.reshape(scaled_attention, \n",
    "                                        (batch_size, -1, self.d_model))  # (batch_size, seq_len_q, d_model)\n",
    "\n",
    "        output = self.dense(concat_attention)  # (batch_size, seq_len_q, d_model)\n",
    "            \n",
    "        return output, attention_weights\n",
    "\n",
    "\n",
    "def point_wise_feed_forward_network(d_model, dff):\n",
    "    return tf.keras.Sequential([\n",
    "        tf.keras.layers.Dense(dff, activation='relu'),  # (batch_size, seq_len, dff)\n",
    "        tf.keras.layers.Dense(d_model)  # (batch_size, seq_len, d_model)\n",
    "    ])\n"
   ]
  },
  {
   "cell_type": "code",
   "execution_count": 34,
   "metadata": {
    "colab": {},
    "colab_type": "code",
    "id": "JR7zfVqe6aAV"
   },
   "outputs": [],
   "source": [
    "class SelfAttentionBlock(tf.keras.layers.Layer):\n",
    "  def __init__(self, d_model, num_heads, dff, rate=0.1):\n",
    "    super(SelfAttentionBlock, self).__init__()\n",
    "\n",
    "    self.mha = MultiHeadAttention(d_model, num_heads)\n",
    "    self.ffn = point_wise_feed_forward_network(d_model, dff)\n",
    "\n",
    "    self.layernorm1 = tf.keras.layers.LayerNormalization(epsilon=1e-6)\n",
    "    self.layernorm2 = tf.keras.layers.LayerNormalization(epsilon=1e-6)\n",
    "    \n",
    "    self.dropout1 = tf.keras.layers.Dropout(rate)\n",
    "    self.dropout2 = tf.keras.layers.Dropout(rate)\n",
    "    \n",
    "  def call(self, x, training, mask=None):\n",
    "\n",
    "    attn_output, _ = self.mha(x, x, x, mask)  # (batch_size, input_seq_len, d_model)\n",
    "    attn_output = self.dropout1(attn_output, training=training)\n",
    "    out1 = self.layernorm1(x + attn_output)  # (batch_size, input_seq_len, d_model)\n",
    "    \n",
    "    ffn_output = self.ffn(out1)  # (batch_size, input_seq_len, d_model)\n",
    "    ffn_output = self.dropout2(ffn_output, training=training)\n",
    "    out2 = self.layernorm2(out1 + ffn_output)  # (batch_size, input_seq_len, d_model)\n",
    "    \n",
    "    return out2"
   ]
  },
  {
   "cell_type": "code",
   "execution_count": 35,
   "metadata": {
    "colab": {},
    "colab_type": "code",
    "id": "hT8Pf1WWZExw"
   },
   "outputs": [],
   "source": [
    "class CombinedSensorSelfAttention(tf.keras.layers.Layer):\n",
    "    def __init__(self, d_model, num_heads, dff, dropout_rate, concat=True):\n",
    "        super(CombinedSensorSelfAttention, self).__init__()\n",
    "        self.concat = concat\n",
    "        self.agr_attn = AggregateAttention(d_model, num_heads)\n",
    "        self.ffn1 = point_wise_feed_forward_network(d_model, dff)\n",
    "        self.ffn2 = point_wise_feed_forward_network(d_model, dff)\n",
    "        self.layernorm = tf.keras.layers.LayerNormalization(epsilon=1e-6)\n",
    "        self.dropout1 = tf.keras.layers.Dropout(dropout_rate)\n",
    "        self.dropout2 = tf.keras.layers.Dropout(dropout_rate)\n",
    "    \n",
    "    def call(self, x):\n",
    "        if self.concat:\n",
    "            x = tf.concat(x, axis=1)\n",
    "        x = self.ffn1(x)\n",
    "        x, attn_score = self.agr_attn(x, x)\n",
    "        x = self.dropout1(x)\n",
    "        ffn_output = self.ffn2(x)  # (batch_size, d_model)\n",
    "        ffn_output = self.dropout2(ffn_output)\n",
    "        out = self.layernorm(ffn_output + x)  # (batch_size, d_model)\n",
    "        return out, attn_score"
   ]
  },
  {
   "cell_type": "code",
   "execution_count": 36,
   "metadata": {
    "colab": {},
    "colab_type": "code",
    "id": "mE1GXoIUw0rk"
   },
   "outputs": [],
   "source": [
    "class DataTransform(tf.keras.layers.Layer):\n",
    "    def __init__(self, d_model):\n",
    "        super(DataTransform, self).__init__()\n",
    "        # self.ln = tf.keras.layers.LayerNormalization()\n",
    "        self.conv_1d = tf.keras.layers.Conv1D(d_model, 1, activation='relu')\n",
    "    \n",
    "    def call(self, x):\n",
    "        # x = self.ln(x)\n",
    "        x = self.conv_1d(x)\n",
    "        return x"
   ]
  },
  {
   "cell_type": "code",
   "execution_count": 37,
   "metadata": {
    "colab": {},
    "colab_type": "code",
    "id": "O4HX_4dpwoGJ"
   },
   "outputs": [],
   "source": [
    "class ModalityEncoderBlock(tf.keras.layers.Layer):\n",
    "    def __init__(self, n_timesteps, d_model, num_heads, dff, num_sa_blocks=2, dropout_rate=0.1):\n",
    "        super(ModalityEncoderBlock, self).__init__()\n",
    "        self.d_model = d_model\n",
    "        self.n_timesteps = n_timesteps\n",
    "        self.look_ahead_mask = create_look_ahead_mask(n_timesteps)\n",
    "        self.data_transform = DataTransform(d_model)\n",
    "        self.pe = PositionalEncoding(n_timesteps, d_model, dropout_rate=dropout_rate)\n",
    "        self.num_sa_blocks = num_sa_blocks\n",
    "        self.self_attn_blocks = [ SelfAttentionBlock(d_model, num_heads, dff, dropout_rate)\n",
    "                                        for _ in range(self.num_sa_blocks)]\n",
    "        # self.agr_attn = AttentionWithContext(return_attention=True)\n",
    "        \n",
    "    def call(self, x):\n",
    "        batch_size = tf.shape(x)[0]\n",
    "        x = self.data_transform(x)\n",
    "        x = self.pe(x)\n",
    "        for i in range(self.num_sa_blocks):\n",
    "            # x = self.self_attn_blocks[i](x, mask=self.look_ahead_mask)\n",
    "            x = self.self_attn_blocks[i](x)\n",
    "        return x\n",
    "\n",
    "\n",
    "    def compute_output_shape(x, input_shape):\n",
    "        return tf.TensorShape([input_shape[0], self.d_model])"
   ]
  },
  {
   "cell_type": "code",
   "execution_count": 38,
   "metadata": {
    "colab": {},
    "colab_type": "code",
    "id": "UNxDtc-DZ5c9"
   },
   "outputs": [],
   "source": [
    "def get_modality_encoder(modality_indices, n_timesteps, n_features,dff = 512,d_model=128,num_heads = 4,dropout_rate=0.2):\n",
    "    num_modality = len(modality_indices)-1\n",
    "    inputs = tf.keras.layers.Input(shape=(n_timesteps,n_features,))\n",
    "    attn_scores = []\n",
    "    modality_outputs = []\n",
    "    for i in range(num_modality):\n",
    "            modality_x = inputs[:, :, modality_indices[i]:modality_indices[i+1] ]\n",
    "            modality_x = ModalityEncoderBlock(n_timesteps=n_timesteps, d_model=d_model, num_heads=num_heads, dff=dff, num_sa_blocks=2, dropout_rate=dropout_rate)(modality_x)\n",
    "            modality_outputs.append(modality_x)\n",
    "    model = tf.keras.Model(inputs=inputs, outputs=modality_outputs)\n",
    "    return model"
   ]
  },
  {
   "cell_type": "code",
   "execution_count": 39,
   "metadata": {
    "colab": {},
    "colab_type": "code",
    "id": "0x-H8y5aIslr"
   },
   "outputs": [],
   "source": [
    "class MultiWindowEncoder(tf.keras.layers.Layer):\n",
    "    def __init__(self, modality_indices, n_window, n_timesteps, n_features, d_model, num_heads, dff, dropout_rate=0.1):\n",
    "        super(MultiWindowEncoder, self).__init__()\n",
    "        self.n_window = n_window\n",
    "        self.d_model = d_model\n",
    "        self.n_timesteps = n_timesteps\n",
    "        self.window_encoder = get_modality_encoder(modality_indices,n_timesteps=n_timesteps, n_features=n_features, d_model=d_model, num_heads = num_heads, dff=dff, dropout_rate=dropout_rate)\n",
    "        self.combined_sensor_attn = CombinedSensorSelfAttention(d_model, 1, dff, dropout_rate)\n",
    "        \n",
    "    def call(self, x):\n",
    "        batch_size = tf.shape(x)[0]\n",
    "        feature_dim = tf.shape(x)[-1]\n",
    "        x = tf.reshape(x, (-1, self.n_timesteps, feature_dim)) # all sessions in batch dim\n",
    "        x = self.window_encoder(x)\n",
    "        x, attn_scores = self.combined_sensor_attn(x)\n",
    "        x = tf.reshape(x, (batch_size, -1, self.d_model))\n",
    "        attn_scores = tf.reshape(attn_scores, (batch_size, -1, self.n_timesteps))\n",
    "        return x, attn_scores"
   ]
  },
  {
   "cell_type": "code",
   "execution_count": 40,
   "metadata": {
    "colab": {},
    "colab_type": "code",
    "id": "mbj5MsGN6oVZ"
   },
   "outputs": [],
   "source": [
    "def get_modality_model_w_time_hierarchy(modality_indices,n_window, n_timesteps, n_features, n_outputs,dff = 512,d_model=128,num_heads = 4,dropout_rate=0.2):\n",
    "    inputs = tf.keras.layers.Input(shape=(n_window, n_timesteps,n_features,))\n",
    "    x, _ = MultiWindowEncoder(modality_indices, n_window, n_timesteps,n_features, d_model, num_heads, dff, dropout_rate=0.1) (inputs)\n",
    "    x = ModalityEncoderBlock(n_timesteps=n_window, d_model=d_model, num_heads=num_heads, dff=dff, num_sa_blocks=2, dropout_rate=dropout_rate)(x)\n",
    "    x, _ = CombinedSensorSelfAttention(d_model, 1, dff, dropout_rate, concat=False) (x)\n",
    "    predictions = tf.keras.layers.Dense(n_outputs, activation='softmax') (x)\n",
    "    model = tf.keras.Model(inputs=inputs, outputs=predictions)\n",
    "    return model"
   ]
  },
  {
   "cell_type": "markdown",
   "metadata": {
    "colab_type": "text",
    "id": "Iu8Nliz42Cey"
   },
   "source": [
    "## Training"
   ]
  },
  {
   "cell_type": "code",
   "execution_count": 41,
   "metadata": {
    "colab": {
     "base_uri": "https://localhost:8080/",
     "height": 323
    },
    "colab_type": "code",
    "id": "N-SEtee02BoR",
    "outputId": "dc6e9dfc-1a50-4228-94ab-3e4fa2053bd8"
   },
   "outputs": [
    {
     "name": "stdout",
     "output_type": "stream",
     "text": [
      "Model: \"model_1\"\n",
      "_________________________________________________________________\n",
      "Layer (type)                 Output Shape              Param #   \n",
      "=================================================================\n",
      "input_1 (InputLayer)         [(None, 36, 25, 77)]      0         \n",
      "_________________________________________________________________\n",
      "multi_window_encoder (MultiW ((None, None, 64), (None, 787200    \n",
      "_________________________________________________________________\n",
      "modality_encoder_block_7 (Mo (None, None, 64)          104000    \n",
      "_________________________________________________________________\n",
      "combined_sensor_self_attenti ((None, 64), (None, 1, No 82944     \n",
      "_________________________________________________________________\n",
      "dense_112 (Dense)            (None, 6)                 390       \n",
      "=================================================================\n",
      "Total params: 974,534\n",
      "Trainable params: 974,534\n",
      "Non-trainable params: 0\n",
      "_________________________________________________________________\n"
     ]
    }
   ],
   "source": [
    "tf.keras.backend.clear_session()\n",
    "\n",
    "n_window, n_timesteps, n_features, n_outputs = X_train.shape[1], X_train.shape[2], X_train.shape[3], y_train.shape[1]\n",
    "\n",
    "# Create a MirroredStrategy.\n",
    "# device_list = ['/gpu:'+str(i) for i in range(5,8)]\n",
    "# strategy = tf.distribute.MirroredStrategy(devices=device_list)\n",
    "# print('Number of devices: {}'.format(strategy.num_replicas_in_sync))\n",
    "# with strategy.scope():\n",
    "\n",
    "model = get_modality_model_w_time_hierarchy([0,9,18,27,36,45,61,77], n_window, n_timesteps, n_features, n_outputs, d_model=64, num_heads = 2, dff=256)\n",
    "\n",
    "model.compile(loss=tf.keras.losses.CategoricalCrossentropy(),\n",
    "            optimizer=tf.keras.optimizers.Adam(lr=0.0001), metrics='accuracy')\n",
    "model.summary()"
   ]
  },
  {
   "cell_type": "code",
   "execution_count": 43,
   "metadata": {
    "colab": {
     "base_uri": "https://localhost:8080/",
     "height": 1000
    },
    "colab_type": "code",
    "id": "hwtAmh292fQp",
    "outputId": "22efbd3f-083f-462b-8942-3d0be23dfaa8"
   },
   "outputs": [
    {
     "name": "stdout",
     "output_type": "stream",
     "text": [
      "Epoch 1/35\n",
      "23/23 [==============================] - 5s 200ms/step - loss: 0.0027 - accuracy: 1.0000 - val_loss: 0.0735 - val_accuracy: 0.9877\n",
      "Epoch 2/35\n",
      "23/23 [==============================] - 5s 201ms/step - loss: 0.0022 - accuracy: 1.0000 - val_loss: 0.1049 - val_accuracy: 0.9815\n",
      "Epoch 3/35\n",
      "23/23 [==============================] - 5s 200ms/step - loss: 0.0020 - accuracy: 1.0000 - val_loss: 0.0877 - val_accuracy: 0.9815\n",
      "Epoch 4/35\n",
      "23/23 [==============================] - 5s 199ms/step - loss: 0.0024 - accuracy: 1.0000 - val_loss: 0.1226 - val_accuracy: 0.9815\n",
      "Epoch 5/35\n",
      "23/23 [==============================] - 5s 201ms/step - loss: 0.0019 - accuracy: 1.0000 - val_loss: 0.1007 - val_accuracy: 0.9877\n",
      "Epoch 6/35\n",
      "23/23 [==============================] - 5s 201ms/step - loss: 0.0041 - accuracy: 0.9986 - val_loss: 0.0872 - val_accuracy: 0.9877\n",
      "Epoch 7/35\n",
      "23/23 [==============================] - 5s 200ms/step - loss: 0.0034 - accuracy: 1.0000 - val_loss: 0.1393 - val_accuracy: 0.9691\n",
      "Epoch 8/35\n",
      "23/23 [==============================] - 5s 200ms/step - loss: 0.0034 - accuracy: 0.9986 - val_loss: 0.0970 - val_accuracy: 0.9877\n",
      "Epoch 9/35\n",
      "23/23 [==============================] - 5s 200ms/step - loss: 0.0015 - accuracy: 1.0000 - val_loss: 0.1602 - val_accuracy: 0.9753\n",
      "Epoch 10/35\n",
      "23/23 [==============================] - 5s 200ms/step - loss: 0.0014 - accuracy: 1.0000 - val_loss: 0.1472 - val_accuracy: 0.9753\n",
      "Epoch 11/35\n",
      "23/23 [==============================] - 5s 201ms/step - loss: 0.0035 - accuracy: 0.9993 - val_loss: 0.1059 - val_accuracy: 0.9815\n",
      "Epoch 12/35\n",
      "23/23 [==============================] - 5s 201ms/step - loss: 0.0057 - accuracy: 0.9979 - val_loss: 0.0608 - val_accuracy: 0.9938\n",
      "Epoch 13/35\n",
      "23/23 [==============================] - 5s 198ms/step - loss: 0.0224 - accuracy: 0.9924 - val_loss: 0.1340 - val_accuracy: 0.9753\n",
      "Epoch 14/35\n",
      "23/23 [==============================] - 5s 201ms/step - loss: 0.0133 - accuracy: 0.9966 - val_loss: 0.1041 - val_accuracy: 0.9815\n",
      "Epoch 15/35\n",
      "23/23 [==============================] - 5s 200ms/step - loss: 0.0282 - accuracy: 0.9918 - val_loss: 0.0622 - val_accuracy: 0.9877\n",
      "Epoch 16/35\n",
      "23/23 [==============================] - 5s 201ms/step - loss: 0.0024 - accuracy: 1.0000 - val_loss: 0.0808 - val_accuracy: 0.9877\n",
      "Epoch 17/35\n",
      "23/23 [==============================] - 5s 201ms/step - loss: 0.0017 - accuracy: 1.0000 - val_loss: 0.0809 - val_accuracy: 0.9877\n",
      "Epoch 18/35\n",
      "23/23 [==============================] - 5s 201ms/step - loss: 0.0022 - accuracy: 0.9993 - val_loss: 0.0627 - val_accuracy: 0.9877\n",
      "Epoch 19/35\n",
      "23/23 [==============================] - 5s 201ms/step - loss: 0.0015 - accuracy: 1.0000 - val_loss: 0.0994 - val_accuracy: 0.9877\n",
      "Epoch 20/35\n",
      "23/23 [==============================] - 5s 201ms/step - loss: 0.0011 - accuracy: 1.0000 - val_loss: 0.0940 - val_accuracy: 0.9877\n",
      "Epoch 21/35\n",
      "23/23 [==============================] - 5s 201ms/step - loss: 0.0030 - accuracy: 0.9993 - val_loss: 0.0787 - val_accuracy: 0.9877\n",
      "Epoch 22/35\n",
      "23/23 [==============================] - 5s 202ms/step - loss: 0.0039 - accuracy: 0.9993 - val_loss: 0.0756 - val_accuracy: 0.9877\n",
      "Epoch 23/35\n",
      "23/23 [==============================] - 5s 200ms/step - loss: 0.0085 - accuracy: 0.9973 - val_loss: 0.0554 - val_accuracy: 0.9877\n",
      "Epoch 24/35\n",
      "23/23 [==============================] - 5s 200ms/step - loss: 0.0022 - accuracy: 1.0000 - val_loss: 0.1036 - val_accuracy: 0.9877\n",
      "Epoch 25/35\n",
      "23/23 [==============================] - 5s 201ms/step - loss: 0.0012 - accuracy: 1.0000 - val_loss: 0.0908 - val_accuracy: 0.9877\n",
      "Epoch 26/35\n",
      "23/23 [==============================] - 5s 201ms/step - loss: 0.0010 - accuracy: 1.0000 - val_loss: 0.0947 - val_accuracy: 0.9877\n",
      "Epoch 27/35\n",
      "23/23 [==============================] - 5s 201ms/step - loss: 9.6619e-04 - accuracy: 1.0000 - val_loss: 0.0986 - val_accuracy: 0.9877\n",
      "Epoch 28/35\n",
      "23/23 [==============================] - 5s 201ms/step - loss: 8.6097e-04 - accuracy: 1.0000 - val_loss: 0.0909 - val_accuracy: 0.9877\n",
      "Epoch 29/35\n",
      "23/23 [==============================] - 5s 200ms/step - loss: 8.7963e-04 - accuracy: 1.0000 - val_loss: 0.0985 - val_accuracy: 0.9877\n",
      "Epoch 30/35\n",
      "23/23 [==============================] - 5s 201ms/step - loss: 0.0016 - accuracy: 0.9993 - val_loss: 0.0983 - val_accuracy: 0.9877\n",
      "Epoch 31/35\n",
      "23/23 [==============================] - 5s 201ms/step - loss: 7.5988e-04 - accuracy: 1.0000 - val_loss: 0.0959 - val_accuracy: 0.9877\n",
      "Epoch 32/35\n",
      "23/23 [==============================] - 5s 201ms/step - loss: 7.5407e-04 - accuracy: 1.0000 - val_loss: 0.0931 - val_accuracy: 0.9877\n",
      "Epoch 33/35\n",
      "23/23 [==============================] - 5s 201ms/step - loss: 6.9717e-04 - accuracy: 1.0000 - val_loss: 0.0886 - val_accuracy: 0.9877\n",
      "Epoch 34/35\n",
      "23/23 [==============================] - 5s 202ms/step - loss: 6.5433e-04 - accuracy: 1.0000 - val_loss: 0.0874 - val_accuracy: 0.9877\n",
      "Epoch 35/35\n",
      "23/23 [==============================] - 5s 199ms/step - loss: 6.5639e-04 - accuracy: 1.0000 - val_loss: 0.0875 - val_accuracy: 0.9877\n"
     ]
    },
    {
     "data": {
      "text/plain": [
       "<tensorflow.python.keras.callbacks.History at 0x7fdae4967a60>"
      ]
     },
     "execution_count": 43,
     "metadata": {},
     "output_type": "execute_result"
    }
   ],
   "source": [
    "verbose, epochs, batch_size = 1, 35, 64\n",
    "# earlyStopping = tf.keras.callbacks.EarlyStopping(monitor='val_accuracy', patience=5,verbose=1, mode='max')\n",
    "# mcp_save = ModelCheckpoint('test_3_best.hdf5', save_best_only=True, monitor='val_acc', mode='max')\n",
    "# reduce_lr_loss = tf.keras.callbacks.ReduceLROnPlateau(monitor='val_loss', factor=0.1, patience=4, verbose=1, min_delta=1e-4, mode='min')\n",
    "\n",
    "model.fit(X_train, y_train, epochs=epochs, batch_size=batch_size, verbose=verbose, validation_split=0.1, use_multiprocessing=True)"
   ]
  },
  {
   "cell_type": "code",
   "execution_count": 45,
   "metadata": {
    "colab": {},
    "colab_type": "code",
    "id": "xYneMI-9JTns"
   },
   "outputs": [],
   "source": [
    "pred = model.predict(X_test, batch_size=64)"
   ]
  },
  {
   "cell_type": "code",
   "execution_count": 49,
   "metadata": {
    "colab": {
     "base_uri": "https://localhost:8080/",
     "height": 238
    },
    "colab_type": "code",
    "id": "EV3mZ8d3KJ2D",
    "outputId": "afa666db-55f1-4e49-bc78-1859da05680f"
   },
   "outputs": [
    {
     "name": "stdout",
     "output_type": "stream",
     "text": [
      "               precision    recall  f1-score   support\n",
      "\n",
      "     Relaxing       1.00      0.93      0.96        40\n",
      "Early morning       0.97      0.97      0.97       146\n",
      "Sandwich time       0.98      1.00      0.99       231\n",
      "\n",
      "     accuracy                           0.98       417\n",
      "    macro avg       0.99      0.96      0.97       417\n",
      " weighted avg       0.98      0.98      0.98       417\n",
      "\n"
     ]
    }
   ],
   "source": [
    "print(classification_report(np.argmax(y_test, axis=1), np.argmax(pred, axis=1), target_names=_activity_map.values()))"
   ]
  },
  {
   "cell_type": "code",
   "execution_count": 51,
   "metadata": {
    "colab": {
     "base_uri": "https://localhost:8080/",
     "height": 516
    },
    "colab_type": "code",
    "id": "8ZuQv-f7GxfF",
    "outputId": "fea71b86-0bf2-4cdc-b5c7-9de2ffe6b58f"
   },
   "outputs": [
    {
     "data": {
      "text/plain": [
       "<AxesSubplot:>"
      ]
     },
     "execution_count": 51,
     "metadata": {},
     "output_type": "execute_result"
    },
    {
     "data": {
      "image/png": "[encoded data removed]",
      "text/plain": [
       "<Figure size 720x576 with 2 Axes>"
      ]
     },
     "metadata": {
      "needs_background": "light"
     },
     "output_type": "display_data"
    }
   ],
   "source": [
    "confm = confusion_matrix(np.argmax(y_test, axis=1), np.argmax(pred, axis=1))\n",
    "# activity_list = hi_idToLabel\n",
    "df_cm = pd.DataFrame(confm, index=_activity_map.values(), columns=_activity_map.values())\n",
    "plt.figure(figsize = (10,8))\n",
    "sns.heatmap(df_cm, annot=True, fmt='d', cmap=\"YlGnBu\")"
   ]
  },
  {
   "cell_type": "markdown",
   "metadata": {},
   "source": [
    "# VAE [Novelty Detection]"
   ]
  },
  {
   "cell_type": "code",
   "execution_count": 52,
   "metadata": {},
   "outputs": [
    {
     "name": "stdout",
     "output_type": "stream",
     "text": [
      "input_1\n",
      "multi_window_encoder\n",
      "modality_encoder_block_7\n",
      "combined_sensor_self_attention_1\n",
      "dense_112\n"
     ]
    }
   ],
   "source": [
    "for l in model.layers:\n",
    "    print(l.name)"
   ]
  },
  {
   "cell_type": "code",
   "execution_count": 53,
   "metadata": {},
   "outputs": [],
   "source": [
    "hierarchical_model = tf.keras.Model(inputs=model.input, outputs=model.get_layer('combined_sensor_self_attention_1').output, name='hierarchical_encoder')\n",
    "hierarchical_model.trainable = False"
   ]
  },
  {
   "cell_type": "code",
   "execution_count": 54,
   "metadata": {},
   "outputs": [
    {
     "name": "stdout",
     "output_type": "stream",
     "text": [
      "Model: \"hierarchical_encoder\"\n",
      "_________________________________________________________________\n",
      "Layer (type)                 Output Shape              Param #   \n",
      "=================================================================\n",
      "input_1 (InputLayer)         [(None, 36, 25, 77)]      0         \n",
      "_________________________________________________________________\n",
      "multi_window_encoder (MultiW ((None, None, 64), (None, 787200    \n",
      "_________________________________________________________________\n",
      "modality_encoder_block_7 (Mo (None, None, 64)          104000    \n",
      "_________________________________________________________________\n",
      "combined_sensor_self_attenti ((None, 64), (None, 1, No 82944     \n",
      "=================================================================\n",
      "Total params: 974,144\n",
      "Trainable params: 0\n",
      "Non-trainable params: 974,144\n",
      "_________________________________________________________________\n"
     ]
    }
   ],
   "source": [
    "hierarchical_model.summary()"
   ]
  },
  {
   "cell_type": "code",
   "execution_count": 55,
   "metadata": {},
   "outputs": [],
   "source": [
    "class Sampling(tf.keras.layers.Layer):\n",
    "    def call(self, inputs):\n",
    "        z_mean, z_log_var = inputs\n",
    "\n",
    "        batch = tf.shape(z_mean)[0]\n",
    "        dim = tf.shape(z_mean)[1]\n",
    "        \n",
    "        epsilon = tf.keras.backend.random_normal(shape=(batch, dim))\n",
    "        \n",
    "        return z_mean + tf.exp(0.5 * z_log_var) * epsilon\n",
    "\n",
    "\n",
    "class Encoder(tf.keras.layers.Layer):\n",
    "\n",
    "    def __init__(self, latent_dim=16, intermediate_dim=32, name=\"encoder\", **kwargs):\n",
    "        super(Encoder, self).__init__(name=name, **kwargs)\n",
    "        self.dense_proj = tf.keras.layers.Dense(intermediate_dim, activation=\"relu\")\n",
    "        \n",
    "        self.dense_mean = tf.keras.layers.Dense(latent_dim)\n",
    "        self.dense_log_var = tf.keras.layers.Dense(latent_dim)\n",
    "        \n",
    "        self.sampling = Sampling()\n",
    "\n",
    "    def call(self, inputs):\n",
    "        x = self.dense_proj(inputs)\n",
    "        \n",
    "        z_mean = self.dense_mean(x)\n",
    "        z_log_var = self.dense_log_var(x)\n",
    "        z = self.sampling((z_mean, z_log_var))\n",
    "        \n",
    "        return z_mean, z_log_var, z\n",
    "\n",
    "\n",
    "class Decoder(tf.keras.layers.Layer):\n",
    "\n",
    "    def __init__(self, original_dim, intermediate_dim=32, name=\"decoder\", **kwargs):\n",
    "        super(Decoder, self).__init__(name=name, **kwargs)\n",
    "        self.dense_proj = tf.keras.layers.Dense(intermediate_dim, activation=\"relu\")\n",
    "        self.dense_output = tf.keras.layers.Dense(original_dim, activation=\"sigmoid\")\n",
    "\n",
    "    def call(self, inputs):\n",
    "        x = self.dense_proj(inputs)\n",
    "        \n",
    "        return self.dense_output(x)\n",
    "\n",
    "class VariationalAutoEncoder(tf.keras.Model):\n",
    "    \"\"\"Combines the encoder and decoder into an end-to-end model for training.\"\"\"\n",
    "\n",
    "    def __init__(\n",
    "        self,\n",
    "        base_model,\n",
    "        original_dim,\n",
    "        intermediate_dim=32,\n",
    "        latent_dim=16,\n",
    "        name=\"autoencoder\",\n",
    "        **kwargs\n",
    "    ):\n",
    "        super(VariationalAutoEncoder, self).__init__(name=name, **kwargs)\n",
    "        self.base_model = base_model\n",
    "        \n",
    "        self.original_dim = original_dim\n",
    "        \n",
    "        self.encoder = Encoder(latent_dim=latent_dim, intermediate_dim=intermediate_dim)\n",
    "        self.decoder = Decoder(original_dim, intermediate_dim=intermediate_dim)\n",
    "\n",
    "    def call(self, inputs):\n",
    "        inputs, _ = self.base_model(inputs)\n",
    "        z_mean, z_log_var, z = self.encoder(inputs)\n",
    "        reconstructed = self.decoder(z)\n",
    "        \n",
    "        return reconstructed\n",
    "\n",
    "    def train_step(self, data):\n",
    "        with tf.GradientTape() as tape:\n",
    "            data, _ = self.base_model(data)\n",
    "            z_mean, z_log_var, z = self.encoder(data)\n",
    "            reconstructed = self.decoder(z)\n",
    "\n",
    "            kl_loss = -0.5 * tf.reduce_mean(z_log_var - tf.square(z_mean) - tf.exp(z_log_var) + 1)\n",
    "\n",
    "            reconstruction_loss = tf.reduce_mean(tf.keras.losses.mean_squared_error(data, reconstructed))\n",
    "            \n",
    "            total_loss = reconstruction_loss + kl_loss\n",
    "\n",
    "        grads = tape.gradient(total_loss, self.trainable_weights)\n",
    "\n",
    "        self.optimizer.apply_gradients(zip(grads, self.trainable_weights))\n",
    "\n",
    "        return {\n",
    "            \"loss\": total_loss,\n",
    "            \"reconstruction_loss\": reconstruction_loss,\n",
    "            \"kl_loss\": kl_loss,\n",
    "        }"
   ]
  },
  {
   "cell_type": "code",
   "execution_count": 56,
   "metadata": {},
   "outputs": [],
   "source": [
    "hsa_vae = VariationalAutoEncoder(base_model=hierarchical_model, original_dim=64)"
   ]
  },
  {
   "cell_type": "code",
   "execution_count": 57,
   "metadata": {},
   "outputs": [],
   "source": [
    "optimizer = tf.keras.optimizers.Adam(learning_rate=1e-3)\n",
    "hsa_vae.compile(optimizer)    "
   ]
  },
  {
   "cell_type": "code",
   "execution_count": 58,
   "metadata": {},
   "outputs": [
    {
     "name": "stdout",
     "output_type": "stream",
     "text": [
      "Epoch 1/50\n",
      "26/26 [==============================] - 2s 94ms/step - loss: 1.4460 - reconstruction_loss: 1.2543 - kl_loss: 0.1917\n",
      "Epoch 2/50\n",
      "26/26 [==============================] - 3s 96ms/step - loss: 1.1940 - reconstruction_loss: 1.1666 - kl_loss: 0.0275\n",
      "Epoch 3/50\n",
      "26/26 [==============================] - 2s 92ms/step - loss: 1.1031 - reconstruction_loss: 1.0861 - kl_loss: 0.0170\n",
      "Epoch 4/50\n",
      "26/26 [==============================] - 2s 94ms/step - loss: 1.0300 - reconstruction_loss: 1.0073 - kl_loss: 0.0226\n",
      "Epoch 5/50\n",
      "26/26 [==============================] - 2s 94ms/step - loss: 0.9715 - reconstruction_loss: 0.9445 - kl_loss: 0.0270\n",
      "Epoch 6/50\n",
      "26/26 [==============================] - 3s 99ms/step - loss: 0.9452 - reconstruction_loss: 0.9157 - kl_loss: 0.0296\n",
      "Epoch 7/50\n",
      "26/26 [==============================] - 3s 99ms/step - loss: 0.9110 - reconstruction_loss: 0.8744 - kl_loss: 0.0366\n",
      "Epoch 8/50\n",
      "26/26 [==============================] - 3s 102ms/step - loss: 0.8910 - reconstruction_loss: 0.8417 - kl_loss: 0.0493\n",
      "Epoch 9/50\n",
      "26/26 [==============================] - 3s 102ms/step - loss: 0.8574 - reconstruction_loss: 0.7969 - kl_loss: 0.0605\n",
      "Epoch 10/50\n",
      "26/26 [==============================] - 3s 101ms/step - loss: 0.8261 - reconstruction_loss: 0.7569 - kl_loss: 0.0692\n",
      "Epoch 11/50\n",
      "26/26 [==============================] - 2s 95ms/step - loss: 0.8098 - reconstruction_loss: 0.7393 - kl_loss: 0.0705\n",
      "Epoch 12/50\n",
      "26/26 [==============================] - 2s 95ms/step - loss: 0.7937 - reconstruction_loss: 0.7180 - kl_loss: 0.0757\n",
      "Epoch 13/50\n",
      "26/26 [==============================] - 3s 98ms/step - loss: 0.7783 - reconstruction_loss: 0.7016 - kl_loss: 0.0766\n",
      "Epoch 14/50\n",
      "26/26 [==============================] - 2s 93ms/step - loss: 0.7723 - reconstruction_loss: 0.6994 - kl_loss: 0.0729\n",
      "Epoch 15/50\n",
      "26/26 [==============================] - 2s 96ms/step - loss: 0.7664 - reconstruction_loss: 0.6926 - kl_loss: 0.0738\n",
      "Epoch 16/50\n",
      "26/26 [==============================] - 3s 96ms/step - loss: 0.7592 - reconstruction_loss: 0.6861 - kl_loss: 0.0731\n",
      "Epoch 17/50\n",
      "26/26 [==============================] - 3s 97ms/step - loss: 0.7564 - reconstruction_loss: 0.6835 - kl_loss: 0.0729\n",
      "Epoch 18/50\n",
      "26/26 [==============================] - 2s 95ms/step - loss: 0.7502 - reconstruction_loss: 0.6761 - kl_loss: 0.0741\n",
      "Epoch 19/50\n",
      "26/26 [==============================] - 3s 96ms/step - loss: 0.7539 - reconstruction_loss: 0.6769 - kl_loss: 0.0770\n",
      "Epoch 20/50\n",
      "26/26 [==============================] - 2s 94ms/step - loss: 0.7470 - reconstruction_loss: 0.6779 - kl_loss: 0.0691\n",
      "Epoch 21/50\n",
      "26/26 [==============================] - 2s 92ms/step - loss: 0.7402 - reconstruction_loss: 0.6708 - kl_loss: 0.0695\n",
      "Epoch 22/50\n",
      "26/26 [==============================] - 2s 95ms/step - loss: 0.7448 - reconstruction_loss: 0.6707 - kl_loss: 0.0741\n",
      "Epoch 23/50\n",
      "26/26 [==============================] - 3s 97ms/step - loss: 0.7456 - reconstruction_loss: 0.6673 - kl_loss: 0.0783\n",
      "Epoch 24/50\n",
      "26/26 [==============================] - 2s 90ms/step - loss: 0.7461 - reconstruction_loss: 0.6745 - kl_loss: 0.0716\n",
      "Epoch 25/50\n",
      "26/26 [==============================] - 2s 95ms/step - loss: 0.7552 - reconstruction_loss: 0.6786 - kl_loss: 0.0766\n",
      "Epoch 26/50\n",
      "26/26 [==============================] - 3s 96ms/step - loss: 0.7448 - reconstruction_loss: 0.6689 - kl_loss: 0.0759\n",
      "Epoch 27/50\n",
      "26/26 [==============================] - 2s 90ms/step - loss: 0.7382 - reconstruction_loss: 0.6633 - kl_loss: 0.0749\n",
      "Epoch 28/50\n",
      "26/26 [==============================] - 2s 92ms/step - loss: 0.7383 - reconstruction_loss: 0.6675 - kl_loss: 0.0708\n",
      "Epoch 29/50\n",
      "26/26 [==============================] - 2s 93ms/step - loss: 0.7369 - reconstruction_loss: 0.6622 - kl_loss: 0.0747\n",
      "Epoch 30/50\n",
      "26/26 [==============================] - 2s 95ms/step - loss: 0.7364 - reconstruction_loss: 0.6614 - kl_loss: 0.0750\n",
      "Epoch 31/50\n",
      "26/26 [==============================] - 2s 92ms/step - loss: 0.7402 - reconstruction_loss: 0.6613 - kl_loss: 0.0788\n",
      "Epoch 32/50\n",
      "26/26 [==============================] - 3s 102ms/step - loss: 0.7356 - reconstruction_loss: 0.6544 - kl_loss: 0.0811\n",
      "Epoch 33/50\n",
      "26/26 [==============================] - 2s 95ms/step - loss: 0.7337 - reconstruction_loss: 0.6543 - kl_loss: 0.0795\n",
      "Epoch 34/50\n",
      "26/26 [==============================] - 2s 89ms/step - loss: 0.7311 - reconstruction_loss: 0.6511 - kl_loss: 0.0799\n",
      "Epoch 35/50\n",
      "26/26 [==============================] - 2s 96ms/step - loss: 0.7249 - reconstruction_loss: 0.6450 - kl_loss: 0.0799\n",
      "Epoch 36/50\n",
      "26/26 [==============================] - 3s 101ms/step - loss: 0.7340 - reconstruction_loss: 0.6478 - kl_loss: 0.0861\n",
      "Epoch 37/50\n",
      "26/26 [==============================] - 3s 97ms/step - loss: 0.7193 - reconstruction_loss: 0.6380 - kl_loss: 0.0813\n",
      "Epoch 38/50\n",
      "26/26 [==============================] - 2s 91ms/step - loss: 0.7126 - reconstruction_loss: 0.6339 - kl_loss: 0.0788\n",
      "Epoch 39/50\n",
      "26/26 [==============================] - 3s 98ms/step - loss: 0.7298 - reconstruction_loss: 0.6459 - kl_loss: 0.0839\n",
      "Epoch 40/50\n",
      "26/26 [==============================] - 2s 92ms/step - loss: 0.7150 - reconstruction_loss: 0.6280 - kl_loss: 0.0870\n",
      "Epoch 41/50\n",
      "26/26 [==============================] - 2s 91ms/step - loss: 0.7066 - reconstruction_loss: 0.6296 - kl_loss: 0.0770\n",
      "Epoch 42/50\n",
      "26/26 [==============================] - 3s 96ms/step - loss: 0.7210 - reconstruction_loss: 0.6356 - kl_loss: 0.0854\n",
      "Epoch 43/50\n",
      "26/26 [==============================] - 2s 93ms/step - loss: 0.7181 - reconstruction_loss: 0.6311 - kl_loss: 0.0871\n",
      "Epoch 44/50\n",
      "26/26 [==============================] - 3s 97ms/step - loss: 0.7144 - reconstruction_loss: 0.6305 - kl_loss: 0.0839\n",
      "Epoch 45/50\n",
      "26/26 [==============================] - 3s 98ms/step - loss: 0.7120 - reconstruction_loss: 0.6248 - kl_loss: 0.0872\n",
      "Epoch 46/50\n",
      "26/26 [==============================] - 3s 99ms/step - loss: 0.7106 - reconstruction_loss: 0.6202 - kl_loss: 0.0904\n",
      "Epoch 47/50\n",
      "26/26 [==============================] - 3s 99ms/step - loss: 0.7062 - reconstruction_loss: 0.6233 - kl_loss: 0.0829\n",
      "Epoch 48/50\n",
      "26/26 [==============================] - 3s 101ms/step - loss: 0.7055 - reconstruction_loss: 0.6217 - kl_loss: 0.0838\n",
      "Epoch 49/50\n",
      "26/26 [==============================] - 3s 97ms/step - loss: 0.7073 - reconstruction_loss: 0.6245 - kl_loss: 0.0828\n",
      "Epoch 50/50\n",
      "26/26 [==============================] - 2s 92ms/step - loss: 0.7054 - reconstruction_loss: 0.6150 - kl_loss: 0.0904\n"
     ]
    }
   ],
   "source": [
    "vae_history = hsa_vae.fit(X_train, epochs=50, batch_size=64)"
   ]
  },
  {
   "cell_type": "markdown",
   "metadata": {},
   "source": [
    "## Novelty Result"
   ]
  },
  {
   "cell_type": "code",
   "execution_count": 59,
   "metadata": {},
   "outputs": [],
   "source": [
    "z_mean, z_log_var, z = hsa_vae.encoder(hierarchical_model.predict(X_holdout)[0])"
   ]
  },
  {
   "cell_type": "code",
   "execution_count": 60,
   "metadata": {},
   "outputs": [],
   "source": [
    "def kl_div(z_mean, z_log_var):\n",
    "    kl_loss = -0.5 * tf.math.reduce_mean((z_log_var - tf.square(z_mean) - tf.exp(z_log_var) + 1), axis=1)\n",
    "    return kl_loss.numpy()"
   ]
  },
  {
   "cell_type": "code",
   "execution_count": 61,
   "metadata": {},
   "outputs": [],
   "source": [
    "z_mean, z_log_var, z = hsa_vae.encoder(hierarchical_model.predict(X_train)[0])\n",
    "train_kl = kl_div(z_mean, z_log_var)"
   ]
  },
  {
   "cell_type": "code",
   "execution_count": 62,
   "metadata": {},
   "outputs": [],
   "source": [
    "z_mean, z_log_var, z = hsa_vae.encoder(hierarchical_model.predict(X_test)[0])\n",
    "test_kl = kl_div(z_mean, z_log_var)"
   ]
  },
  {
   "cell_type": "code",
   "execution_count": 63,
   "metadata": {},
   "outputs": [],
   "source": [
    "z_mean, z_log_var, z = hsa_vae.encoder(hierarchical_model.predict(X_holdout)[0])\n",
    "holdout_kl = kl_div(z_mean, z_log_var)"
   ]
  },
  {
   "cell_type": "code",
   "execution_count": 64,
   "metadata": {},
   "outputs": [],
   "source": [
    "def novelty_eval_kl(train_kl, test_kl, holdout_kl, mult=0.25):\n",
    "    threshold = np.mean(train_kl) - (mult * np.std(train_kl))\n",
    "    \n",
    "    y_holdout = (holdout_kl > threshold).astype(int)\n",
    "    y_true = np.ones(shape=holdout_kl.shape, dtype=int)\n",
    "    \n",
    "    y_test_n = (test_kl > threshold).astype(int)\n",
    "    _y_true = np.zeros(shape=test_kl.shape, dtype=int)\n",
    "    \n",
    "    y_holdout = np.append(y_holdout, y_test_n)\n",
    "    y_true = np.append(y_true, _y_true)\n",
    "    \n",
    "#     return accuracy_score(y_true, y_holdout), f1_score(y_true, y_holdout, average='macro')\n",
    "    \n",
    "    print(classification_report(y_true, y_holdout, labels=[0, 1], target_names=['KNOWN', 'NOVEL']))"
   ]
  },
  {
   "cell_type": "code",
   "execution_count": 77,
   "metadata": {},
   "outputs": [
    {
     "name": "stdout",
     "output_type": "stream",
     "text": [
      "              precision    recall  f1-score   support\n",
      "\n",
      "       KNOWN       0.12      0.06      0.08       417\n",
      "       NOVEL       0.65      0.80      0.72       916\n",
      "\n",
      "    accuracy                           0.57      1333\n",
      "   macro avg       0.39      0.43      0.40      1333\n",
      "weighted avg       0.49      0.57      0.52      1333\n",
      "\n"
     ]
    }
   ],
   "source": [
    "novelty_eval_kl(train_kl, test_kl, holdout_kl, mult=0.75)"
   ]
  },
  {
   "cell_type": "code",
   "execution_count": 68,
   "metadata": {},
   "outputs": [],
   "source": [
    "train_rec_loss = tf.keras.losses.mean_squared_error(hierarchical_model.predict(X_train)[0], hsa_vae.predict(X_train)).numpy()\n",
    "test_rec_loss = tf.keras.losses.mean_squared_error(hierarchical_model.predict(X_test)[0], hsa_vae.predict(X_test)).numpy()\n",
    "novel_rec_loss = tf.keras.losses.mean_squared_error(hierarchical_model.predict(X_holdout)[0], hsa_vae.predict(X_holdout)).numpy()"
   ]
  },
  {
   "cell_type": "code",
   "execution_count": 69,
   "metadata": {},
   "outputs": [],
   "source": [
    "def novelty_eval_reconstrunction(train_rec_loss, test_rec_loss, novel_rec_loss, mult=0.25):\n",
    "    threshold = np.mean(train_rec_loss) - (mult * np.std(train_rec_loss))\n",
    "    \n",
    "    y_holdout = (novel_rec_loss > threshold).astype(int)\n",
    "    y_true = np.ones(shape=novel_rec_loss.shape, dtype=int)\n",
    "    \n",
    "    y_test_n = (test_rec_loss > threshold).astype(int)\n",
    "    _y_true = np.zeros(shape=test_rec_loss.shape, dtype=int)\n",
    "    \n",
    "    y_holdout = np.append(y_holdout, y_test_n)\n",
    "    y_true = np.append(y_true, _y_true)\n",
    "    \n",
    "    return accuracy_score(y_true, y_holdout), f1_score(y_true, y_holdout, average='macro'), \n",
    "    \n",
    "#     print(classification_report(y_true, y_holdout, labels=[0, 1], target_names=['KNOWN', 'NOVEL']))"
   ]
  },
  {
   "cell_type": "code",
   "execution_count": 70,
   "metadata": {},
   "outputs": [],
   "source": [
    "def hparam_search():\n",
    "    table = list()\n",
    "    thresh_vals = list(np.arange(0.0, 1.01, 0.01))\n",
    "    \n",
    "    idx = 0\n",
    "    \n",
    "    for m_val in thresh_vals:\n",
    "        result = novelty_eval_reconstrunction(train_rec_loss, test_rec_loss, novel_rec_loss, mult=m_val)\n",
    "        table.append([idx, m_val, result[0], result[1]])\n",
    "        \n",
    "        idx = idx + 1\n",
    "    \n",
    "    table = np.array(table)\n",
    "    sns.lineplot(table[:, 1], table[:, 2], label='Accuracy')\n",
    "    sns.lineplot(table[:, 1], table[:, 3], label='Macro F1')\n",
    "    plt.xlabel('Hyperparameter Value')\n",
    "    plt.title('Novelty Detection Experiement')\n",
    "    plt.show()\n",
    "    \n",
    "    top_acc = np.array(pd.Series(table[:, 2]).nlargest().index)\n",
    "    top_f1 = np.array(pd.Series(table[:, 3]).nlargest().index)\n",
    "    \n",
    "    print('Index with Top Accuracy and Macro F1 : ', top_acc, top_f1)\n",
    "    print('Most Important Index : ', np.intersect1d(top_acc, top_f1))\n",
    "    \n",
    "    print(tabulate(table, headers=['Index', 'Std. Multiplier Value', 'Accuracy', 'Macro F1'], tablefmt=\"grid\"))"
   ]
  },
  {
   "cell_type": "code",
   "execution_count": 73,
   "metadata": {},
   "outputs": [
    {
     "data": {
      "image/png": "[encoded data removed]",
      "text/plain": [
       "<Figure size 432x288 with 1 Axes>"
      ]
     },
     "metadata": {
      "needs_background": "light"
     },
     "output_type": "display_data"
    },
    {
     "name": "stdout",
     "output_type": "stream",
     "text": [
      "Index with Top Accuracy and Macro F1 :  [49 50 51 52 48] [32 31 29 33 30]\n",
      "Most Important Index :  []\n",
      "+---------+-------------------------+------------+------------+\n",
      "|   Index |   Std. Multiplier Value |   Accuracy |   Macro F1 |\n",
      "+=========+=========================+============+============+\n",
      "|       0 |                    0    |   0.464366 |   0.464279 |\n",
      "+---------+-------------------------+------------+------------+\n",
      "|       1 |                    0.01 |   0.468117 |   0.468087 |\n",
      "+---------+-------------------------+------------+------------+\n",
      "|       2 |                    0.02 |   0.474119 |   0.474117 |\n",
      "+---------+-------------------------+------------+------------+\n",
      "|       3 |                    0.03 |   0.47937  |   0.479355 |\n",
      "+---------+-------------------------+------------+------------+\n",
      "|       4 |                    0.04 |   0.47862  |   0.47859  |\n",
      "+---------+-------------------------+------------+------------+\n",
      "|       5 |                    0.05 |   0.48087  |   0.480821 |\n",
      "+---------+-------------------------+------------+------------+\n",
      "|       6 |                    0.06 |   0.483121 |   0.483027 |\n",
      "+---------+-------------------------+------------+------------+\n",
      "|       7 |                    0.07 |   0.485371 |   0.485244 |\n",
      "+---------+-------------------------+------------+------------+\n",
      "|       8 |                    0.08 |   0.489122 |   0.488928 |\n",
      "+---------+-------------------------+------------+------------+\n",
      "|       9 |                    0.09 |   0.492123 |   0.491866 |\n",
      "+---------+-------------------------+------------+------------+\n",
      "|      10 |                    0.1  |   0.494374 |   0.494025 |\n",
      "+---------+-------------------------+------------+------------+\n",
      "|      11 |                    0.11 |   0.497374 |   0.496944 |\n",
      "+---------+-------------------------+------------+------------+\n",
      "|      12 |                    0.12 |   0.504126 |   0.503427 |\n",
      "+---------+-------------------------+------------+------------+\n",
      "|      13 |                    0.13 |   0.505626 |   0.504814 |\n",
      "+---------+-------------------------+------------+------------+\n",
      "|      14 |                    0.14 |   0.506377 |   0.505408 |\n",
      "+---------+-------------------------+------------+------------+\n",
      "|      15 |                    0.15 |   0.512378 |   0.510991 |\n",
      "+---------+-------------------------+------------+------------+\n",
      "|      16 |                    0.16 |   0.51838  |   0.516595 |\n",
      "+---------+-------------------------+------------+------------+\n",
      "|      17 |                    0.17 |   0.52138  |   0.519139 |\n",
      "+---------+-------------------------+------------+------------+\n",
      "|      18 |                    0.18 |   0.530383 |   0.527451 |\n",
      "+---------+-------------------------+------------+------------+\n",
      "|      19 |                    0.19 |   0.534134 |   0.530821 |\n",
      "+---------+-------------------------+------------+------------+\n",
      "|      20 |                    0.2  |   0.538635 |   0.534991 |\n",
      "+---------+-------------------------+------------+------------+\n",
      "|      21 |                    0.21 |   0.547637 |   0.543293 |\n",
      "+---------+-------------------------+------------+------------+\n",
      "|      22 |                    0.22 |   0.552138 |   0.547286 |\n",
      "+---------+-------------------------+------------+------------+\n",
      "|      23 |                    0.23 |   0.55964  |   0.553683 |\n",
      "+---------+-------------------------+------------+------------+\n",
      "|      24 |                    0.24 |   0.570143 |   0.563205 |\n",
      "+---------+-------------------------+------------+------------+\n",
      "|      25 |                    0.25 |   0.573143 |   0.564667 |\n",
      "+---------+-------------------------+------------+------------+\n",
      "|      26 |                    0.26 |   0.586647 |   0.576127 |\n",
      "+---------+-------------------------+------------+------------+\n",
      "|      27 |                    0.27 |   0.606152 |   0.592728 |\n",
      "+---------+-------------------------+------------+------------+\n",
      "|      28 |                    0.28 |   0.616654 |   0.599743 |\n",
      "+---------+-------------------------+------------+------------+\n",
      "|      29 |                    0.29 |   0.629407 |   0.608074 |\n",
      "+---------+-------------------------+------------+------------+\n",
      "|      30 |                    0.3  |   0.631658 |   0.605048 |\n",
      "+---------+-------------------------+------------+------------+\n",
      "|      31 |                    0.31 |   0.651163 |   0.618872 |\n",
      "+---------+-------------------------+------------+------------+\n",
      "|      32 |                    0.32 |   0.663916 |   0.62303  |\n",
      "+---------+-------------------------+------------+------------+\n",
      "|      33 |                    0.33 |   0.660915 |   0.606168 |\n",
      "+---------+-------------------------+------------+------------+\n",
      "|      34 |                    0.34 |   0.672168 |   0.604315 |\n",
      "+---------+-------------------------+------------+------------+\n",
      "|      35 |                    0.35 |   0.682671 |   0.601368 |\n",
      "+---------+-------------------------+------------+------------+\n",
      "|      36 |                    0.36 |   0.692423 |   0.596862 |\n",
      "+---------+-------------------------+------------+------------+\n",
      "|      37 |                    0.37 |   0.695424 |   0.589554 |\n",
      "+---------+-------------------------+------------+------------+\n",
      "|      38 |                    0.38 |   0.700675 |   0.589372 |\n",
      "+---------+-------------------------+------------+------------+\n",
      "|      39 |                    0.39 |   0.712678 |   0.594324 |\n",
      "+---------+-------------------------+------------+------------+\n",
      "|      40 |                    0.4  |   0.71943  |   0.595903 |\n",
      "+---------+-------------------------+------------+------------+\n",
      "|      41 |                    0.41 |   0.725431 |   0.598748 |\n",
      "+---------+-------------------------+------------+------------+\n",
      "|      42 |                    0.42 |   0.726932 |   0.598959 |\n",
      "+---------+-------------------------+------------+------------+\n",
      "|      43 |                    0.43 |   0.727682 |   0.597547 |\n",
      "+---------+-------------------------+------------+------------+\n",
      "|      44 |                    0.44 |   0.726932 |   0.59387  |\n",
      "+---------+-------------------------+------------+------------+\n",
      "|      45 |                    0.45 |   0.728432 |   0.594022 |\n",
      "+---------+-------------------------+------------+------------+\n",
      "|      46 |                    0.46 |   0.728432 |   0.590841 |\n",
      "+---------+-------------------------+------------+------------+\n",
      "|      47 |                    0.47 |   0.732183 |   0.593821 |\n",
      "+---------+-------------------------+------------+------------+\n",
      "|      48 |                    0.48 |   0.732933 |   0.593336 |\n",
      "+---------+-------------------------+------------+------------+\n",
      "|      49 |                    0.49 |   0.735184 |   0.592931 |\n",
      "+---------+-------------------------+------------+------------+\n",
      "|      50 |                    0.5  |   0.733683 |   0.587236 |\n",
      "+---------+-------------------------+------------+------------+\n",
      "|      51 |                    0.51 |   0.733683 |   0.586087 |\n",
      "+---------+-------------------------+------------+------------+\n",
      "|      52 |                    0.52 |   0.733683 |   0.58493  |\n",
      "+---------+-------------------------+------------+------------+\n",
      "|      53 |                    0.53 |   0.730683 |   0.576684 |\n",
      "+---------+-------------------------+------------+------------+\n",
      "|      54 |                    0.54 |   0.728432 |   0.571314 |\n",
      "+---------+-------------------------+------------+------------+\n",
      "|      55 |                    0.55 |   0.723181 |   0.558575 |\n",
      "+---------+-------------------------+------------+------------+\n",
      "|      56 |                    0.56 |   0.717179 |   0.543644 |\n",
      "+---------+-------------------------+------------+------------+\n",
      "|      57 |                    0.57 |   0.710428 |   0.521947 |\n",
      "+---------+-------------------------+------------+------------+\n",
      "|      58 |                    0.58 |   0.705176 |   0.507898 |\n",
      "+---------+-------------------------+------------+------------+\n",
      "|      59 |                    0.59 |   0.696174 |   0.479542 |\n",
      "+---------+-------------------------+------------+------------+\n",
      "|      60 |                    0.6  |   0.693923 |   0.467702 |\n",
      "+---------+-------------------------+------------+------------+\n",
      "|      61 |                    0.61 |   0.690923 |   0.453127 |\n",
      "+---------+-------------------------+------------+------------+\n",
      "|      62 |                    0.62 |   0.687172 |   0.441589 |\n",
      "+---------+-------------------------+------------+------------+\n",
      "|      63 |                    0.63 |   0.687922 |   0.435887 |\n",
      "+---------+-------------------------+------------+------------+\n",
      "|      64 |                    0.64 |   0.687172 |   0.427234 |\n",
      "+---------+-------------------------+------------+------------+\n",
      "|      65 |                    0.65 |   0.687922 |   0.423256 |\n",
      "+---------+-------------------------+------------+------------+\n",
      "|      66 |                    0.66 |   0.687172 |   0.416373 |\n",
      "+---------+-------------------------+------------+------------+\n",
      "|      67 |                    0.67 |   0.687922 |   0.414417 |\n",
      "+---------+-------------------------+------------+------------+\n",
      "|      68 |                    0.68 |   0.688672 |   0.414698 |\n",
      "+---------+-------------------------+------------+------------+\n",
      "|      69 |                    0.69 |   0.689422 |   0.414979 |\n",
      "+---------+-------------------------+------------+------------+\n",
      "|      70 |                    0.7  |   0.688672 |   0.412428 |\n",
      "+---------+-------------------------+------------+------------+\n",
      "|      71 |                    0.71 |   0.687922 |   0.409866 |\n",
      "+---------+-------------------------+------------+------------+\n",
      "|      72 |                    0.72 |   0.687922 |   0.409866 |\n",
      "+---------+-------------------------+------------+------------+\n",
      "|      73 |                    0.73 |   0.687922 |   0.409866 |\n",
      "+---------+-------------------------+------------+------------+\n",
      "|      74 |                    0.74 |   0.687922 |   0.409866 |\n",
      "+---------+-------------------------+------------+------------+\n",
      "|      75 |                    0.75 |   0.687922 |   0.409866 |\n",
      "+---------+-------------------------+------------+------------+\n",
      "|      76 |                    0.76 |   0.687172 |   0.407292 |\n",
      "+---------+-------------------------+------------+------------+\n",
      "|      77 |                    0.77 |   0.687172 |   0.407292 |\n",
      "+---------+-------------------------+------------+------------+\n",
      "|      78 |                    0.78 |   0.687172 |   0.407292 |\n",
      "+---------+-------------------------+------------+------------+\n",
      "|      79 |                    0.79 |   0.687172 |   0.407292 |\n",
      "+---------+-------------------------+------------+------------+\n",
      "|      80 |                    0.8  |   0.687172 |   0.407292 |\n",
      "+---------+-------------------------+------------+------------+\n",
      "|      81 |                    0.81 |   0.687172 |   0.407292 |\n",
      "+---------+-------------------------+------------+------------+\n",
      "|      82 |                    0.82 |   0.687172 |   0.407292 |\n",
      "+---------+-------------------------+------------+------------+\n",
      "|      83 |                    0.83 |   0.687172 |   0.407292 |\n",
      "+---------+-------------------------+------------+------------+\n",
      "|      84 |                    0.84 |   0.687172 |   0.407292 |\n",
      "+---------+-------------------------+------------+------------+\n",
      "|      85 |                    0.85 |   0.687172 |   0.407292 |\n",
      "+---------+-------------------------+------------+------------+\n",
      "|      86 |                    0.86 |   0.687172 |   0.407292 |\n",
      "+---------+-------------------------+------------+------------+\n",
      "|      87 |                    0.87 |   0.687172 |   0.407292 |\n",
      "+---------+-------------------------+------------+------------+\n",
      "|      88 |                    0.88 |   0.687172 |   0.407292 |\n",
      "+---------+-------------------------+------------+------------+\n",
      "|      89 |                    0.89 |   0.687172 |   0.407292 |\n",
      "+---------+-------------------------+------------+------------+\n",
      "|      90 |                    0.9  |   0.687172 |   0.407292 |\n",
      "+---------+-------------------------+------------+------------+\n",
      "|      91 |                    0.91 |   0.687172 |   0.407292 |\n",
      "+---------+-------------------------+------------+------------+\n",
      "|      92 |                    0.92 |   0.687172 |   0.407292 |\n",
      "+---------+-------------------------+------------+------------+\n",
      "|      93 |                    0.93 |   0.687172 |   0.407292 |\n",
      "+---------+-------------------------+------------+------------+\n",
      "|      94 |                    0.94 |   0.687172 |   0.407292 |\n",
      "+---------+-------------------------+------------+------------+\n",
      "|      95 |                    0.95 |   0.687172 |   0.407292 |\n",
      "+---------+-------------------------+------------+------------+\n",
      "|      96 |                    0.96 |   0.687172 |   0.407292 |\n",
      "+---------+-------------------------+------------+------------+\n",
      "|      97 |                    0.97 |   0.687172 |   0.407292 |\n",
      "+---------+-------------------------+------------+------------+\n",
      "|      98 |                    0.98 |   0.687172 |   0.407292 |\n",
      "+---------+-------------------------+------------+------------+\n",
      "|      99 |                    0.99 |   0.687172 |   0.407292 |\n",
      "+---------+-------------------------+------------+------------+\n",
      "|     100 |                    1    |   0.687172 |   0.407292 |\n",
      "+---------+-------------------------+------------+------------+\n"
     ]
    }
   ],
   "source": [
    "# Result\n",
    "hparam_search() "
   ]
  },
  {
   "cell_type": "code",
   "execution_count": null,
   "metadata": {},
   "outputs": [],
   "source": []
  },
  {
   "cell_type": "code",
   "execution_count": null,
   "metadata": {
    "colab": {},
    "colab_type": "code",
    "id": "unPB9dQWwueF"
   },
   "outputs": [],
   "source": []
  },
  {
   "cell_type": "markdown",
   "metadata": {
    "colab_type": "text",
    "id": "uhcFVAXDs0lw"
   },
   "source": [
    "## Attention maps"
   ]
  },
  {
   "cell_type": "code",
   "execution_count": null,
   "metadata": {
    "colab": {},
    "colab_type": "code",
    "id": "vC6-vxiwjt5O"
   },
   "outputs": [],
   "source": [
    "np.save('opp_benm_preds.npy', np.argmax(pred, axis=1))"
   ]
  },
  {
   "cell_type": "code",
   "execution_count": null,
   "metadata": {
    "colab": {
     "base_uri": "https://localhost:8080/",
     "height": 34
    },
    "colab_type": "code",
    "id": "UKctAo59s4Yf",
    "outputId": "29483989-25b3-4cde-a641-b5392d758a52"
   },
   "outputs": [
    {
     "data": {
      "text/plain": [
       "['BACK', 'RUA', 'RLA', 'LUA', 'LLA', 'L-SHOE', 'R-SHOE']"
      ]
     },
     "execution_count": 13,
     "metadata": {
      "tags": []
     },
     "output_type": "execute_result"
    }
   ],
   "source": [
    "['BACK', 'RUA', 'RLA', 'LUA', 'LLA', 'L-SHOE', 'R-SHOE']"
   ]
  },
  {
   "cell_type": "code",
   "execution_count": null,
   "metadata": {
    "colab": {},
    "colab_type": "code",
    "id": "qEAOYDQW_0L8"
   },
   "outputs": [],
   "source": [
    "window_model = tf.keras.Model(inputs=model.input, outputs=model.get_layer(\"multi_window_encoder\").output)\n",
    "session_model = tf.keras.Model(inputs=model.input, outputs=model.get_layer(\"combined_sensor_self_attention_1\").output)"
   ]
  },
  {
   "cell_type": "code",
   "execution_count": null,
   "metadata": {
    "colab": {},
    "colab_type": "code",
    "id": "QOKHhYuT_6lk"
   },
   "outputs": [],
   "source": [
    "_, w_out = window_model.predict(X_test)\n",
    "_, s_out = session_model.predict(X_test)"
   ]
  },
  {
   "cell_type": "code",
   "execution_count": null,
   "metadata": {
    "colab": {},
    "colab_type": "code",
    "id": "sX5sUY3J__Vr"
   },
   "outputs": [],
   "source": [
    "np.save('opp_benm_window.npy', w_out)\n",
    "np.save('opp_benm_session.npy', s_out)"
   ]
  },
  {
   "cell_type": "code",
   "execution_count": null,
   "metadata": {
    "colab": {},
    "colab_type": "code",
    "id": "trAKFZENBBRp"
   },
   "outputs": [],
   "source": [
    "idx = 97\n",
    "example = X_test[idx]\n",
    "example = example[np.newaxis, :]\n",
    "_, aa1 = window_model.predict(example)\n",
    "_, aa2 = session_model.predict(example)"
   ]
  },
  {
   "cell_type": "code",
   "execution_count": null,
   "metadata": {
    "colab": {
     "base_uri": "https://localhost:8080/",
     "height": 34
    },
    "colab_type": "code",
    "id": "ePbJgB1oTDY_",
    "outputId": "49977183-37d4-46d5-f535-7eab0967ee13"
   },
   "outputs": [
    {
     "data": {
      "text/plain": [
       "(1, 252, 25)"
      ]
     },
     "execution_count": 75,
     "metadata": {
      "tags": []
     },
     "output_type": "execute_result"
    }
   ],
   "source": [
    "aa1.shape"
   ]
  },
  {
   "cell_type": "code",
   "execution_count": null,
   "metadata": {
    "colab": {
     "base_uri": "https://localhost:8080/",
     "height": 34
    },
    "colab_type": "code",
    "id": "a981Y3jyBQA4",
    "outputId": "90a229de-10b8-4bcb-97b1-d394b31f15e5"
   },
   "outputs": [
    {
     "data": {
      "text/plain": [
       "(1, 1, 36)"
      ]
     },
     "execution_count": 76,
     "metadata": {
      "tags": []
     },
     "output_type": "execute_result"
    }
   ],
   "source": [
    "aa2.shape"
   ]
  },
  {
   "cell_type": "code",
   "execution_count": null,
   "metadata": {
    "colab": {
     "base_uri": "https://localhost:8080/",
     "height": 282
    },
    "colab_type": "code",
    "id": "bHgYS-mSJ2x5",
    "outputId": "098c1596-4a20-4c92-b388-e09c63f502ff"
   },
   "outputs": [
    {
     "data": {
      "text/plain": [
       "[<matplotlib.lines.Line2D at 0x7f642edc4c18>]"
      ]
     },
     "execution_count": 83,
     "metadata": {
      "tags": []
     },
     "output_type": "execute_result"
    },
    {
     "data": {
      "image/png": "[encoded data removed]",
      "text/plain": [
       "<Figure size 432x288 with 1 Axes>"
      ]
     },
     "metadata": {
      "needs_background": "light",
      "tags": []
     },
     "output_type": "display_data"
    }
   ],
   "source": [
    "plt.plot(aa2.flatten())"
   ]
  },
  {
   "cell_type": "code",
   "execution_count": null,
   "metadata": {
    "colab": {},
    "colab_type": "code",
    "id": "_i375XZRJ7Mc"
   },
   "outputs": [],
   "source": []
  }
 ],
 "metadata": {
  "colab": {
   "collapsed_sections": [
    "dP8sVlP9rirJ"
   ],
   "name": "Opp- HSA-high-level.ipynb",
   "provenance": [],
   "toc_visible": true
  },
  "kernelspec": {
   "display_name": "Python 3",
   "language": "python",
   "name": "python3"
  },
  "language_info": {
   "codemirror_mode": {
    "name": "ipython",
    "version": 3
   },
   "file_extension": ".py",
   "mimetype": "text/x-python",
   "name": "python",
   "nbconvert_exporter": "python",
   "pygments_lexer": "ipython3",
   "version": "3.8.5"
  }
 },
 "nbformat": 4,
 "nbformat_minor": 4
}
