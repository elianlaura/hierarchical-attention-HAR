{
 "cells": [
  {
   "cell_type": "code",
   "execution_count": 1,
   "metadata": {},
   "outputs": [],
   "source": [
    "import tensorflow as tf\n",
    "import numpy as np\n",
    "import pandas as pd\n",
    "from sklearn.metrics import classification_report, confusion_matrix\n",
    "import seaborn as sns\n",
    "import matplotlib.pyplot as plt\n",
    "import sys\n",
    "import yaml\n",
    "\n",
    "sys.path.append(\"../\")\n",
    "\n",
    "%load_ext autoreload\n",
    "%autoreload 2"
   ]
  },
  {
   "cell_type": "code",
   "execution_count": 9,
   "metadata": {},
   "outputs": [],
   "source": [
    "from preprocessing.utils import get_train_test_data\n",
    "from model.hierarchical_self_attention_model import HSA_model_session_guided_window"
   ]
  },
  {
   "cell_type": "code",
   "execution_count": 10,
   "metadata": {},
   "outputs": [],
   "source": [
    "hyperparameters = yaml.load(open('../configs/metadata.yaml', mode='r'), Loader=yaml.FullLoader)\n",
    "\n",
    "metadata_file = open('../configs/metadata.yaml', mode='r')"
   ]
  },
  {
   "cell_type": "code",
   "execution_count": 15,
   "metadata": {},
   "outputs": [
    {
     "name": "stdout",
     "output_type": "stream",
     "text": [
      "../../data/HAR/raw/PAMAP2_Dataset/Protocol\n",
      "../../data/HAR/raw/PAMAP2_Dataset/Protocol\n",
      "../../data/HAR/raw/PAMAP2_Dataset/Protocol\n",
      "Done.\n"
     ]
    }
   ],
   "source": [
    "(X_train, y_train), (X_test, y_test) = get_train_test_data(dataset='pamap2', holdout=False)"
   ]
  },
  {
   "cell_type": "code",
   "execution_count": 16,
   "metadata": {},
   "outputs": [
    {
     "name": "stdout",
     "output_type": "stream",
     "text": [
      "(3154, 15, 100, 18)\n",
      "(3154, 19)\n"
     ]
    }
   ],
   "source": [
    "print(X_train.shape)\n",
    "print(y_train.shape)"
   ]
  },
  {
   "cell_type": "code",
   "execution_count": 25,
   "metadata": {},
   "outputs": [],
   "source": [
    "# mid_labels = np.repeat(np.expand_dims(y_train, axis=1), repeats=15, axis=1)"
   ]
  },
  {
   "cell_type": "code",
   "execution_count": 26,
   "metadata": {},
   "outputs": [],
   "source": [
    "# mid_labels[0]"
   ]
  },
  {
   "cell_type": "code",
   "execution_count": 27,
   "metadata": {},
   "outputs": [],
   "source": [
    "y_train_mid = np.repeat(np.expand_dims(y_train, axis=1), repeats=15, axis=1)\n",
    "y_test_mid = np.repeat(np.expand_dims(y_test, axis=1), repeats=15, axis=1)"
   ]
  },
  {
   "cell_type": "code",
   "execution_count": 34,
   "metadata": {},
   "outputs": [
    {
     "data": {
      "text/plain": [
       "(468, 15, 19)"
      ]
     },
     "execution_count": 34,
     "metadata": {},
     "output_type": "execute_result"
    }
   ],
   "source": [
    "y_test_mid.shape"
   ]
  },
  {
   "cell_type": "code",
   "execution_count": 36,
   "metadata": {},
   "outputs": [],
   "source": [
    "hparam_file = open('../configs/hyperparameters.yaml', mode='r')\n",
    "hyperparameters = yaml.load(hparam_file, Loader=yaml.FullLoader)\n",
    "hparams = hyperparameters['HSA_model']\n",
    "hparams['modality_indices'] = hparams['modality_indices']['pamap2']\n",
    "hparams['n_window'], hparams['n_timesteps'], hparams['n_features'], hparams['n_outputs'] = X_train.shape[1], X_train.shape[2], X_train.shape[3], y_train.shape[1]\n",
    "hparams['n_outputs_window']=19"
   ]
  },
  {
   "cell_type": "markdown",
   "metadata": {},
   "source": [
    "## Training"
   ]
  },
  {
   "cell_type": "code",
   "execution_count": 47,
   "metadata": {},
   "outputs": [
    {
     "name": "stdout",
     "output_type": "stream",
     "text": [
      "8 Physical GPUs, 8 Logical GPUs\n",
      "INFO:tensorflow:Using MirroredStrategy with devices ('/job:localhost/replica:0/task:0/device:GPU:5', '/job:localhost/replica:0/task:0/device:GPU:6', '/job:localhost/replica:0/task:0/device:GPU:7')\n",
      "Number of devices: 3\n"
     ]
    }
   ],
   "source": [
    "tf.keras.backend.clear_session()\n",
    "gpus = tf.config.experimental.list_physical_devices('GPU')\n",
    "if gpus:\n",
    "  try:\n",
    "    # Currently, memory growth needs to be the same across GPUs\n",
    "    for gpu in gpus:\n",
    "      tf.config.experimental.set_memory_growth(gpu, True)\n",
    "    logical_gpus = tf.config.experimental.list_logical_devices('GPU')\n",
    "    print(len(gpus), \"Physical GPUs,\", len(logical_gpus), \"Logical GPUs\")\n",
    "  except RuntimeError as e:\n",
    "    # Memory growth must be set before GPUs have been initialized\n",
    "    print(e)\n",
    "    \n",
    "device_list = ['/gpu:'+str(i) for i in range(5, 8)]\n",
    "strategy = tf.distribute.MirroredStrategy(devices=device_list)\n",
    "print('Number of devices: {}'.format(strategy.num_replicas_in_sync))\n",
    "with strategy.scope():\n",
    "    model = HSA_model_session_guided_window(**hyperparameters['HSA_model']).get_compiled_model()"
   ]
  },
  {
   "cell_type": "code",
   "execution_count": 48,
   "metadata": {},
   "outputs": [
    {
     "name": "stdout",
     "output_type": "stream",
     "text": [
      "Model: \"model_1\"\n",
      "__________________________________________________________________________________________________\n",
      "Layer (type)                    Output Shape         Param #     Connected to                     \n",
      "==================================================================================================\n",
      "input_1 (InputLayer)            [(None, 15, 100, 18) 0                                            \n",
      "__________________________________________________________________________________________________\n",
      "multi_window_encoder (MultiWind ((None, None, 64), ( 350720      input_1[0][0]                    \n",
      "__________________________________________________________________________________________________\n",
      "modality_encoder_block_3 (Modal (None, None, 64)     104000      multi_window_encoder[0][0]       \n",
      "__________________________________________________________________________________________________\n",
      "combined_sensor_self_attention_ ((None, 64), (None,  49856       modality_encoder_block_3[0][0]   \n",
      "__________________________________________________________________________________________________\n",
      "tf_op_layer_Shape (TensorFlowOp [(2,)]               0           combined_sensor_self_attention_1[\n",
      "__________________________________________________________________________________________________\n",
      "tf_op_layer_ExpandDims (TensorF [(None, 1, 64)]      0           combined_sensor_self_attention_1[\n",
      "__________________________________________________________________________________________________\n",
      "tf_op_layer_strided_slice_3 (Te [(0,)]               0           tf_op_layer_Shape[0][0]          \n",
      "__________________________________________________________________________________________________\n",
      "tf_op_layer_strided_slice_4 (Te [(1,)]               0           tf_op_layer_Shape[0][0]          \n",
      "__________________________________________________________________________________________________\n",
      "tf_op_layer_Tile (TensorFlowOpL [(None, 15, 64)]     0           tf_op_layer_ExpandDims[0][0]     \n",
      "__________________________________________________________________________________________________\n",
      "tf_op_layer_concat (TensorFlowO [(2,)]               0           tf_op_layer_strided_slice_3[0][0]\n",
      "                                                                 tf_op_layer_strided_slice_4[0][0]\n",
      "__________________________________________________________________________________________________\n",
      "tf_op_layer_Reshape (TensorFlow [(None, 64)]         0           tf_op_layer_Tile[0][0]           \n",
      "                                                                 tf_op_layer_concat[0][0]         \n",
      "__________________________________________________________________________________________________\n",
      "reshape (Reshape)               (None, 15, 64)       0           tf_op_layer_Reshape[0][0]        \n",
      "__________________________________________________________________________________________________\n",
      "concatenate (Concatenate)       (None, 15, 128)      0           multi_window_encoder[0][0]       \n",
      "                                                                 reshape[0][0]                    \n",
      "__________________________________________________________________________________________________\n",
      "window_pred (Dense)             (None, 15, 19)       2451        concatenate[0][0]                \n",
      "__________________________________________________________________________________________________\n",
      "session_pred (Dense)            (None, 19)           1235        combined_sensor_self_attention_1[\n",
      "==================================================================================================\n",
      "Total params: 508,262\n",
      "Trainable params: 508,262\n",
      "Non-trainable params: 0\n",
      "__________________________________________________________________________________________________\n"
     ]
    }
   ],
   "source": [
    "model.summary()"
   ]
  },
  {
   "cell_type": "code",
   "execution_count": 49,
   "metadata": {},
   "outputs": [
    {
     "name": "stdout",
     "output_type": "stream",
     "text": [
      "Epoch 1/40\n",
      "INFO:tensorflow:batch_all_reduce: 160 all-reduces with algorithm = nccl, num_packs = 1\n",
      "INFO:tensorflow:batch_all_reduce: 160 all-reduces with algorithm = nccl, num_packs = 1\n",
      "15/15 [==============================] - 19s 1s/step - loss: 5.4424 - session_pred_accuracy: 0.1071 - window_pred_accuracy: 0.1183 - window_pred_loss: 2.6673 - session_pred_loss: 2.7751 - val_loss: 5.3977 - val_session_pred_accuracy: 0.0506 - val_window_pred_accuracy: 0.0000e+00 - val_window_pred_loss: 2.6935 - val_session_pred_loss: 2.7042\n",
      "Epoch 2/40\n",
      "15/15 [==============================] - 11s 712ms/step - loss: 4.9303 - session_pred_accuracy: 0.1092 - window_pred_accuracy: 0.1675 - window_pred_loss: 2.3928 - session_pred_loss: 2.5375 - val_loss: 5.0743 - val_session_pred_accuracy: 0.0000e+00 - val_window_pred_accuracy: 0.1871 - val_window_pred_loss: 2.4650 - val_session_pred_loss: 2.6093\n",
      "Epoch 3/40\n",
      "15/15 [==============================] - 11s 713ms/step - loss: 4.1391 - session_pred_accuracy: 0.1998 - window_pred_accuracy: 0.3804 - window_pred_loss: 1.8101 - session_pred_loss: 2.3290 - val_loss: 5.5705 - val_session_pred_accuracy: 0.0506 - val_window_pred_accuracy: 0.1004 - val_window_pred_loss: 2.6267 - val_session_pred_loss: 2.9437\n",
      "Epoch 4/40\n",
      "15/15 [==============================] - 11s 710ms/step - loss: 2.5646 - session_pred_accuracy: 0.4986 - window_pred_accuracy: 0.6301 - window_pred_loss: 1.1039 - session_pred_loss: 1.4607 - val_loss: 3.7766 - val_session_pred_accuracy: 0.3418 - val_window_pred_accuracy: 0.4599 - val_window_pred_loss: 1.8495 - val_session_pred_loss: 1.9271\n",
      "Epoch 5/40\n",
      "15/15 [==============================] - 11s 714ms/step - loss: 1.2335 - session_pred_accuracy: 0.7865 - window_pred_accuracy: 0.8199 - window_pred_loss: 0.5512 - session_pred_loss: 0.6823 - val_loss: 2.7720 - val_session_pred_accuracy: 0.4367 - val_window_pred_accuracy: 0.5576 - val_window_pred_loss: 1.3179 - val_session_pred_loss: 1.4541\n",
      "Epoch 6/40\n",
      "15/15 [==============================] - 11s 711ms/step - loss: 0.7181 - session_pred_accuracy: 0.8862 - window_pred_accuracy: 0.8830 - window_pred_loss: 0.3476 - session_pred_loss: 0.3705 - val_loss: 1.2534 - val_session_pred_accuracy: 0.7848 - val_window_pred_accuracy: 0.7637 - val_window_pred_loss: 0.6627 - val_session_pred_loss: 0.5906\n",
      "Epoch 7/40\n",
      "15/15 [==============================] - 11s 715ms/step - loss: 0.4484 - session_pred_accuracy: 0.9415 - window_pred_accuracy: 0.9273 - window_pred_loss: 0.2243 - session_pred_loss: 0.2241 - val_loss: 2.1161 - val_session_pred_accuracy: 0.6582 - val_window_pred_accuracy: 0.6426 - val_window_pred_loss: 0.9912 - val_session_pred_loss: 1.1249\n",
      "Epoch 8/40\n",
      "15/15 [==============================] - 11s 717ms/step - loss: 0.3321 - session_pred_accuracy: 0.9563 - window_pred_accuracy: 0.9448 - window_pred_loss: 0.1685 - session_pred_loss: 0.1637 - val_loss: 1.5983 - val_session_pred_accuracy: 0.6804 - val_window_pred_accuracy: 0.7300 - val_window_pred_loss: 0.7389 - val_session_pred_loss: 0.8594\n",
      "Epoch 9/40\n",
      "15/15 [==============================] - 11s 710ms/step - loss: 0.2823 - session_pred_accuracy: 0.9623 - window_pred_accuracy: 0.9569 - window_pred_loss: 0.1384 - session_pred_loss: 0.1438 - val_loss: 1.4802 - val_session_pred_accuracy: 0.7532 - val_window_pred_accuracy: 0.7171 - val_window_pred_loss: 0.7751 - val_session_pred_loss: 0.7051\n",
      "Epoch 10/40\n",
      "15/15 [==============================] - 11s 710ms/step - loss: 0.3008 - session_pred_accuracy: 0.9563 - window_pred_accuracy: 0.9525 - window_pred_loss: 0.1483 - session_pred_loss: 0.1525 - val_loss: 1.6031 - val_session_pred_accuracy: 0.7152 - val_window_pred_accuracy: 0.6827 - val_window_pred_loss: 0.7824 - val_session_pred_loss: 0.8207\n",
      "Epoch 11/40\n",
      "15/15 [==============================] - 11s 713ms/step - loss: 0.2637 - session_pred_accuracy: 0.9641 - window_pred_accuracy: 0.9620 - window_pred_loss: 0.1298 - session_pred_loss: 0.1339 - val_loss: 2.5179 - val_session_pred_accuracy: 0.7595 - val_window_pred_accuracy: 0.7243 - val_window_pred_loss: 1.1646 - val_session_pred_loss: 1.3533\n",
      "Epoch 12/40\n",
      "15/15 [==============================] - 11s 712ms/step - loss: 0.2130 - session_pred_accuracy: 0.9729 - window_pred_accuracy: 0.9685 - window_pred_loss: 0.1039 - session_pred_loss: 0.1090 - val_loss: 2.1371 - val_session_pred_accuracy: 0.7215 - val_window_pred_accuracy: 0.7184 - val_window_pred_loss: 0.9307 - val_session_pred_loss: 1.2064\n",
      "Epoch 13/40\n",
      "15/15 [==============================] - 11s 707ms/step - loss: 0.1964 - session_pred_accuracy: 0.9708 - window_pred_accuracy: 0.9713 - window_pred_loss: 0.0943 - session_pred_loss: 0.1020 - val_loss: 0.5967 - val_session_pred_accuracy: 0.8038 - val_window_pred_accuracy: 0.8669 - val_window_pred_loss: 0.2805 - val_session_pred_loss: 0.3162\n",
      "Epoch 14/40\n",
      "15/15 [==============================] - 11s 710ms/step - loss: 0.1859 - session_pred_accuracy: 0.9718 - window_pred_accuracy: 0.9678 - window_pred_loss: 0.0952 - session_pred_loss: 0.0907 - val_loss: 1.9075 - val_session_pred_accuracy: 0.6835 - val_window_pred_accuracy: 0.7194 - val_window_pred_loss: 0.8029 - val_session_pred_loss: 1.1045\n",
      "Epoch 15/40\n",
      "15/15 [==============================] - 11s 711ms/step - loss: 0.1577 - session_pred_accuracy: 0.9806 - window_pred_accuracy: 0.9778 - window_pred_loss: 0.0802 - session_pred_loss: 0.0775 - val_loss: 1.4580 - val_session_pred_accuracy: 0.7880 - val_window_pred_accuracy: 0.7808 - val_window_pred_loss: 0.6442 - val_session_pred_loss: 0.8138\n",
      "Epoch 16/40\n",
      "15/15 [==============================] - 11s 708ms/step - loss: 0.1834 - session_pred_accuracy: 0.9732 - window_pred_accuracy: 0.9727 - window_pred_loss: 0.0913 - session_pred_loss: 0.0921 - val_loss: 2.8631 - val_session_pred_accuracy: 0.6646 - val_window_pred_accuracy: 0.6848 - val_window_pred_loss: 1.2616 - val_session_pred_loss: 1.6015\n",
      "Epoch 17/40\n",
      "15/15 [==============================] - 11s 713ms/step - loss: 0.1554 - session_pred_accuracy: 0.9792 - window_pred_accuracy: 0.9792 - window_pred_loss: 0.0767 - session_pred_loss: 0.0787 - val_loss: 1.6282 - val_session_pred_accuracy: 0.7215 - val_window_pred_accuracy: 0.7238 - val_window_pred_loss: 0.6746 - val_session_pred_loss: 0.9536\n",
      "Epoch 18/40\n",
      "15/15 [==============================] - 11s 711ms/step - loss: 0.1233 - session_pred_accuracy: 0.9817 - window_pred_accuracy: 0.9842 - window_pred_loss: 0.0596 - session_pred_loss: 0.0637 - val_loss: 1.8931 - val_session_pred_accuracy: 0.8165 - val_window_pred_accuracy: 0.7890 - val_window_pred_loss: 0.8530 - val_session_pred_loss: 1.0401\n",
      "Epoch 19/40\n",
      "15/15 [==============================] - 11s 711ms/step - loss: 0.1509 - session_pred_accuracy: 0.9789 - window_pred_accuracy: 0.9781 - window_pred_loss: 0.0727 - session_pred_loss: 0.0782 - val_loss: 2.7238 - val_session_pred_accuracy: 0.7025 - val_window_pred_accuracy: 0.6930 - val_window_pred_loss: 1.4985 - val_session_pred_loss: 1.2253\n",
      "Epoch 20/40\n",
      "15/15 [==============================] - 11s 711ms/step - loss: 0.1401 - session_pred_accuracy: 0.9806 - window_pred_accuracy: 0.9823 - window_pred_loss: 0.0673 - session_pred_loss: 0.0728 - val_loss: 1.6786 - val_session_pred_accuracy: 0.7943 - val_window_pred_accuracy: 0.7684 - val_window_pred_loss: 0.8081 - val_session_pred_loss: 0.8705\n",
      "Epoch 21/40\n",
      "15/15 [==============================] - 11s 710ms/step - loss: 0.2089 - session_pred_accuracy: 0.9697 - window_pred_accuracy: 0.9714 - window_pred_loss: 0.0994 - session_pred_loss: 0.1095 - val_loss: 2.0534 - val_session_pred_accuracy: 0.6867 - val_window_pred_accuracy: 0.7264 - val_window_pred_loss: 0.8754 - val_session_pred_loss: 1.1780\n",
      "Epoch 22/40\n",
      "15/15 [==============================] - 11s 710ms/step - loss: 0.1624 - session_pred_accuracy: 0.9750 - window_pred_accuracy: 0.9794 - window_pred_loss: 0.0749 - session_pred_loss: 0.0875 - val_loss: 2.0039 - val_session_pred_accuracy: 0.6962 - val_window_pred_accuracy: 0.7184 - val_window_pred_loss: 1.1966 - val_session_pred_loss: 0.8073\n",
      "Epoch 23/40\n",
      "15/15 [==============================] - 11s 712ms/step - loss: 0.1249 - session_pred_accuracy: 0.9806 - window_pred_accuracy: 0.9824 - window_pred_loss: 0.0593 - session_pred_loss: 0.0656 - val_loss: 1.5989 - val_session_pred_accuracy: 0.8101 - val_window_pred_accuracy: 0.7895 - val_window_pred_loss: 0.9082 - val_session_pred_loss: 0.6906\n",
      "Epoch 24/40\n",
      "15/15 [==============================] - 11s 709ms/step - loss: 0.0991 - session_pred_accuracy: 0.9856 - window_pred_accuracy: 0.9848 - window_pred_loss: 0.0492 - session_pred_loss: 0.0499 - val_loss: 1.2139 - val_session_pred_accuracy: 0.7310 - val_window_pred_accuracy: 0.7819 - val_window_pred_loss: 0.6434 - val_session_pred_loss: 0.5706\n",
      "Epoch 25/40\n",
      "15/15 [==============================] - 11s 708ms/step - loss: 0.1038 - session_pred_accuracy: 0.9841 - window_pred_accuracy: 0.9838 - window_pred_loss: 0.0516 - session_pred_loss: 0.0522 - val_loss: 1.6868 - val_session_pred_accuracy: 0.7627 - val_window_pred_accuracy: 0.7460 - val_window_pred_loss: 0.9429 - val_session_pred_loss: 0.7439\n",
      "Epoch 26/40\n",
      "15/15 [==============================] - 11s 707ms/step - loss: 0.1427 - session_pred_accuracy: 0.9792 - window_pred_accuracy: 0.9794 - window_pred_loss: 0.0689 - session_pred_loss: 0.0739 - val_loss: 1.5692 - val_session_pred_accuracy: 0.8133 - val_window_pred_accuracy: 0.8135 - val_window_pred_loss: 0.9562 - val_session_pred_loss: 0.6130\n",
      "Epoch 27/40\n",
      "15/15 [==============================] - 11s 707ms/step - loss: 0.1262 - session_pred_accuracy: 0.9806 - window_pred_accuracy: 0.9796 - window_pred_loss: 0.0626 - session_pred_loss: 0.0635 - val_loss: 2.6871 - val_session_pred_accuracy: 0.7247 - val_window_pred_accuracy: 0.7414 - val_window_pred_loss: 1.5054 - val_session_pred_loss: 1.1817\n",
      "Epoch 28/40\n",
      "15/15 [==============================] - 11s 711ms/step - loss: 0.0895 - session_pred_accuracy: 0.9880 - window_pred_accuracy: 0.9888 - window_pred_loss: 0.0424 - session_pred_loss: 0.0471 - val_loss: 1.5487 - val_session_pred_accuracy: 0.6930 - val_window_pred_accuracy: 0.7148 - val_window_pred_loss: 0.7129 - val_session_pred_loss: 0.8358\n",
      "Epoch 29/40\n",
      "15/15 [==============================] - 11s 712ms/step - loss: 0.0704 - session_pred_accuracy: 0.9898 - window_pred_accuracy: 0.9899 - window_pred_loss: 0.0358 - session_pred_loss: 0.0346 - val_loss: 1.1462 - val_session_pred_accuracy: 0.7722 - val_window_pred_accuracy: 0.8289 - val_window_pred_loss: 0.4517 - val_session_pred_loss: 0.6945\n",
      "Epoch 30/40\n",
      "15/15 [==============================] - 11s 714ms/step - loss: 0.0471 - session_pred_accuracy: 0.9951 - window_pred_accuracy: 0.9939 - window_pred_loss: 0.0249 - session_pred_loss: 0.0222 - val_loss: 2.7257 - val_session_pred_accuracy: 0.6962 - val_window_pred_accuracy: 0.6964 - val_window_pred_loss: 1.5005 - val_session_pred_loss: 1.2252\n",
      "Epoch 31/40\n",
      "15/15 [==============================] - 11s 714ms/step - loss: 0.0993 - session_pred_accuracy: 0.9863 - window_pred_accuracy: 0.9872 - window_pred_loss: 0.0469 - session_pred_loss: 0.0524 - val_loss: 3.7875 - val_session_pred_accuracy: 0.6741 - val_window_pred_accuracy: 0.6656 - val_window_pred_loss: 1.9808 - val_session_pred_loss: 1.8067\n",
      "Epoch 32/40\n",
      "15/15 [==============================] - 11s 710ms/step - loss: 0.1119 - session_pred_accuracy: 0.9817 - window_pred_accuracy: 0.9838 - window_pred_loss: 0.0537 - session_pred_loss: 0.0583 - val_loss: 3.9325 - val_session_pred_accuracy: 0.7532 - val_window_pred_accuracy: 0.7532 - val_window_pred_loss: 2.0799 - val_session_pred_loss: 1.8526\n",
      "Epoch 33/40\n",
      "15/15 [==============================] - 11s 705ms/step - loss: 0.1274 - session_pred_accuracy: 0.9789 - window_pred_accuracy: 0.9825 - window_pred_loss: 0.0593 - session_pred_loss: 0.0682 - val_loss: 2.5707 - val_session_pred_accuracy: 0.7342 - val_window_pred_accuracy: 0.7722 - val_window_pred_loss: 1.3550 - val_session_pred_loss: 1.2157\n",
      "Epoch 34/40\n",
      "15/15 [==============================] - 11s 708ms/step - loss: 0.1020 - session_pred_accuracy: 0.9848 - window_pred_accuracy: 0.9855 - window_pred_loss: 0.0471 - session_pred_loss: 0.0549 - val_loss: 3.1683 - val_session_pred_accuracy: 0.7785 - val_window_pred_accuracy: 0.7310 - val_window_pred_loss: 1.6743 - val_session_pred_loss: 1.4940\n",
      "Epoch 35/40\n",
      "15/15 [==============================] - 11s 711ms/step - loss: 0.1006 - session_pred_accuracy: 0.9884 - window_pred_accuracy: 0.9868 - window_pred_loss: 0.0501 - session_pred_loss: 0.0505 - val_loss: 0.6878 - val_session_pred_accuracy: 0.9146 - val_window_pred_accuracy: 0.8508 - val_window_pred_loss: 0.3698 - val_session_pred_loss: 0.3180\n",
      "Epoch 36/40\n",
      "15/15 [==============================] - 11s 707ms/step - loss: 0.1497 - session_pred_accuracy: 0.9750 - window_pred_accuracy: 0.9803 - window_pred_loss: 0.0699 - session_pred_loss: 0.0798 - val_loss: 1.8405 - val_session_pred_accuracy: 0.8006 - val_window_pred_accuracy: 0.7899 - val_window_pred_loss: 0.9657 - val_session_pred_loss: 0.8748\n",
      "Epoch 37/40\n",
      "15/15 [==============================] - 11s 710ms/step - loss: 0.1463 - session_pred_accuracy: 0.9767 - window_pred_accuracy: 0.9776 - window_pred_loss: 0.0685 - session_pred_loss: 0.0778 - val_loss: 3.5505 - val_session_pred_accuracy: 0.7690 - val_window_pred_accuracy: 0.7470 - val_window_pred_loss: 1.8435 - val_session_pred_loss: 1.7070\n",
      "Epoch 38/40\n",
      "15/15 [==============================] - 11s 712ms/step - loss: 0.1271 - session_pred_accuracy: 0.9834 - window_pred_accuracy: 0.9830 - window_pred_loss: 0.0625 - session_pred_loss: 0.0646 - val_loss: 3.4446 - val_session_pred_accuracy: 0.8165 - val_window_pred_accuracy: 0.8127 - val_window_pred_loss: 1.8191 - val_session_pred_loss: 1.6255\n",
      "Epoch 39/40\n",
      "15/15 [==============================] - 11s 709ms/step - loss: 0.0853 - session_pred_accuracy: 0.9891 - window_pred_accuracy: 0.9887 - window_pred_loss: 0.0414 - session_pred_loss: 0.0439 - val_loss: 2.8619 - val_session_pred_accuracy: 0.8196 - val_window_pred_accuracy: 0.8184 - val_window_pred_loss: 1.5248 - val_session_pred_loss: 1.3372\n",
      "Epoch 40/40\n",
      "15/15 [==============================] - 11s 706ms/step - loss: 0.1146 - session_pred_accuracy: 0.9799 - window_pred_accuracy: 0.9830 - window_pred_loss: 0.0529 - session_pred_loss: 0.0617 - val_loss: 2.7091 - val_session_pred_accuracy: 0.7278 - val_window_pred_accuracy: 0.7196 - val_window_pred_loss: 1.3017 - val_session_pred_loss: 1.4073\n"
     ]
    },
    {
     "data": {
      "text/plain": [
       "<tensorflow.python.keras.callbacks.History at 0x7fc9e5cfc760>"
      ]
     },
     "execution_count": 49,
     "metadata": {},
     "output_type": "execute_result"
    }
   ],
   "source": [
    "model.fit(X_train, [y_train_mid, y_train], batch_size=len(device_list) * 64, epochs=40, validation_split=0.1, use_multiprocessing=True)"
   ]
  },
  {
   "cell_type": "code",
   "execution_count": 50,
   "metadata": {},
   "outputs": [],
   "source": [
    "pred_mid, pred_sess = model.predict(X_test, batch_size=len(device_list) * 64)"
   ]
  },
  {
   "cell_type": "code",
   "execution_count": 51,
   "metadata": {},
   "outputs": [],
   "source": [
    "labels_map = {1:'lying',2:'sitting',3:'standing',4:'walking',5:'running',6:'cycling',7:'Nordic walking',\n",
    "              11:'ascending stairs',12:'descending stairs',13:'vacuum cleaning',\n",
    "              14:'ironing', 18:'rope jumping'}\n",
    "class_names = list(labels_map.values())"
   ]
  },
  {
   "cell_type": "code",
   "execution_count": 52,
   "metadata": {},
   "outputs": [
    {
     "name": "stdout",
     "output_type": "stream",
     "text": [
      "                   precision    recall  f1-score   support\n",
      "\n",
      "            lying       1.00      1.00      1.00        44\n",
      "          sitting       0.86      1.00      0.93        44\n",
      "         standing       0.97      0.85      0.91        46\n",
      "          walking       1.00      0.98      0.99        49\n",
      "          running       1.00      1.00      1.00        43\n",
      "          cycling       1.00      1.00      1.00        38\n",
      "   Nordic walking       1.00      1.00      1.00        51\n",
      " ascending stairs       1.00      1.00      1.00        22\n",
      "descending stairs       1.00      1.00      1.00        18\n",
      "  vacuum cleaning       1.00      1.00      1.00        40\n",
      "          ironing       1.00      1.00      1.00        73\n",
      "     rope jumping       1.00      1.00      1.00         0\n",
      "\n",
      "        micro avg       0.98      0.98      0.98       468\n",
      "        macro avg       0.99      0.99      0.99       468\n",
      "     weighted avg       0.98      0.98      0.98       468\n",
      "\n"
     ]
    }
   ],
   "source": [
    "print(classification_report(np.argmax(y_test, axis=1), np.argmax(pred_sess, axis=1), labels = list(labels_map.keys()), target_names=class_names, zero_division=1))"
   ]
  },
  {
   "cell_type": "code",
   "execution_count": 43,
   "metadata": {},
   "outputs": [],
   "source": [
    "import json\n",
    "import os\n",
    "activity_map = json.load(open(os.path.join('..','data', 'activity_maps', 'pamap2_activity.json')))"
   ]
  },
  {
   "cell_type": "code",
   "execution_count": 44,
   "metadata": {},
   "outputs": [
    {
     "data": {
      "text/plain": [
       "{'1': 'lying',\n",
       " '2': 'sitting',\n",
       " '3': 'standing',\n",
       " '4': 'walking',\n",
       " '5': 'running',\n",
       " '6': 'cycling',\n",
       " '7': 'Nordic walking',\n",
       " '11': 'ascending stairs',\n",
       " '12': 'descending stairs',\n",
       " '13': 'vacuum cleaning',\n",
       " '14': 'ironing',\n",
       " '18': 'rope jumping'}"
      ]
     },
     "execution_count": 44,
     "metadata": {},
     "output_type": "execute_result"
    }
   ],
   "source": [
    "activity_map"
   ]
  },
  {
   "cell_type": "code",
   "execution_count": 58,
   "metadata": {},
   "outputs": [
    {
     "data": {
      "text/plain": [
       "<AxesSubplot:>"
      ]
     },
     "execution_count": 58,
     "metadata": {},
     "output_type": "execute_result"
    },
    {
     "data": {
      "image/png": "[encoded data removed]",
      "text/plain": [
       "<Figure size 720x576 with 2 Axes>"
      ]
     },
     "metadata": {
      "needs_background": "light"
     },
     "output_type": "display_data"
    }
   ],
   "source": [
    "confm = confusion_matrix(np.argmax(y_test, axis=1), np.argmax(pred_sess, axis=1), labels = list(labels_map.keys()))\n",
    "activity_list = list(activity_map.values())\n",
    "df_cm = pd.DataFrame(confm, index=activity_list, columns=activity_list)\n",
    "plt.figure(figsize = (10,8))\n",
    "sns.heatmap(df_cm, annot=True, fmt='d', cmap=\"YlGnBu\")"
   ]
  },
  {
   "cell_type": "code",
   "execution_count": 56,
   "metadata": {},
   "outputs": [
    {
     "name": "stdout",
     "output_type": "stream",
     "text": [
      "                   precision    recall  f1-score   support\n",
      "\n",
      "            lying       1.00      1.00      1.00       660\n",
      "          sitting       0.86      1.00      0.93       660\n",
      "         standing       0.98      0.85      0.91       690\n",
      "          walking       0.99      0.99      0.99       735\n",
      "          running       1.00      0.99      1.00       645\n",
      "          cycling       1.00      1.00      1.00       570\n",
      "   Nordic walking       1.00      1.00      1.00       765\n",
      " ascending stairs       1.00      1.00      1.00       330\n",
      "descending stairs       1.00      1.00      1.00       270\n",
      "  vacuum cleaning       1.00      1.00      1.00       600\n",
      "          ironing       1.00      1.00      1.00      1095\n",
      "     rope jumping       1.00      1.00      1.00         0\n",
      "\n",
      "        micro avg       0.98      0.98      0.98      7020\n",
      "        macro avg       0.99      0.99      0.98      7020\n",
      "     weighted avg       0.98      0.98      0.98      7020\n",
      "\n"
     ]
    }
   ],
   "source": [
    "print(classification_report(np.argmax(y_test_mid.reshape(-1, 19), axis=1), np.argmax(pred_mid.reshape(-1, 19), axis=1),labels = list(labels_map.keys()), target_names=class_names, zero_division=1))"
   ]
  },
  {
   "cell_type": "code",
   "execution_count": null,
   "metadata": {},
   "outputs": [],
   "source": []
  }
 ],
 "metadata": {
  "kernelspec": {
   "display_name": "Python 3",
   "language": "python",
   "name": "python3"
  },
  "language_info": {
   "codemirror_mode": {
    "name": "ipython",
    "version": 3
   },
   "file_extension": ".py",
   "mimetype": "text/x-python",
   "name": "python",
   "nbconvert_exporter": "python",
   "pygments_lexer": "ipython3",
   "version": "3.8.5"
  }
 },
 "nbformat": 4,
 "nbformat_minor": 4
}
