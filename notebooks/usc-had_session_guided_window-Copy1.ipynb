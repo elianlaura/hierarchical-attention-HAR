{
 "cells": [
  {
   "cell_type": "code",
   "execution_count": 1,
   "metadata": {},
   "outputs": [],
   "source": [
    "import tensorflow as tf\n",
    "import numpy as np\n",
    "import pandas as pd\n",
    "from sklearn.metrics import classification_report, confusion_matrix\n",
    "import seaborn as sns\n",
    "import matplotlib.pyplot as plt\n",
    "import sys\n",
    "import yaml\n",
    "\n",
    "sys.path.append(\"../\")\n",
    "\n",
    "%load_ext autoreload\n",
    "%autoreload 2"
   ]
  },
  {
   "cell_type": "code",
   "execution_count": 2,
   "metadata": {},
   "outputs": [],
   "source": [
    "from sklearn.preprocessing import StandardScaler\n",
    "from preprocessing.sliding_window import create_windowed_dataset\n",
    "from model.hierarchical_self_attention_model import HSA_model_session_guided_window"
   ]
  },
  {
   "cell_type": "markdown",
   "metadata": {},
   "source": [
    "### Data loading"
   ]
  },
  {
   "cell_type": "code",
   "execution_count": 3,
   "metadata": {},
   "outputs": [],
   "source": [
    "data_path = '../data/processed/usc-had.csv'\n",
    "df = pd.read_csv(data_path)"
   ]
  },
  {
   "cell_type": "code",
   "execution_count": 4,
   "metadata": {},
   "outputs": [
    {
     "data": {
      "text/html": [
       "<div>\n",
       "<style scoped>\n",
       "    .dataframe tbody tr th:only-of-type {\n",
       "        vertical-align: middle;\n",
       "    }\n",
       "\n",
       "    .dataframe tbody tr th {\n",
       "        vertical-align: top;\n",
       "    }\n",
       "\n",
       "    .dataframe thead th {\n",
       "        text-align: right;\n",
       "    }\n",
       "</style>\n",
       "<table border=\"1\" class=\"dataframe\">\n",
       "  <thead>\n",
       "    <tr style=\"text-align: right;\">\n",
       "      <th></th>\n",
       "      <th>subject</th>\n",
       "      <th>acc_x</th>\n",
       "      <th>acc_y</th>\n",
       "      <th>acc_z</th>\n",
       "      <th>gyr_x</th>\n",
       "      <th>gyr_y</th>\n",
       "      <th>gyr_z</th>\n",
       "      <th>activity</th>\n",
       "    </tr>\n",
       "  </thead>\n",
       "  <tbody>\n",
       "    <tr>\n",
       "      <th>0</th>\n",
       "      <td>11</td>\n",
       "      <td>0.788496</td>\n",
       "      <td>0.429586</td>\n",
       "      <td>0.158079</td>\n",
       "      <td>-9.520525</td>\n",
       "      <td>1.719961</td>\n",
       "      <td>-0.391400</td>\n",
       "      <td>2</td>\n",
       "    </tr>\n",
       "    <tr>\n",
       "      <th>1</th>\n",
       "      <td>11</td>\n",
       "      <td>0.795364</td>\n",
       "      <td>0.425966</td>\n",
       "      <td>0.176379</td>\n",
       "      <td>-8.312029</td>\n",
       "      <td>-0.693527</td>\n",
       "      <td>0.414264</td>\n",
       "      <td>2</td>\n",
       "    </tr>\n",
       "    <tr>\n",
       "      <th>2</th>\n",
       "      <td>11</td>\n",
       "      <td>0.819400</td>\n",
       "      <td>0.454920</td>\n",
       "      <td>0.205661</td>\n",
       "      <td>-5.492205</td>\n",
       "      <td>-3.495776</td>\n",
       "      <td>1.622760</td>\n",
       "      <td>2</td>\n",
       "    </tr>\n",
       "    <tr>\n",
       "      <th>3</th>\n",
       "      <td>11</td>\n",
       "      <td>0.815967</td>\n",
       "      <td>0.454920</td>\n",
       "      <td>0.212981</td>\n",
       "      <td>0.147443</td>\n",
       "      <td>-5.509936</td>\n",
       "      <td>0.817096</td>\n",
       "      <td>2</td>\n",
       "    </tr>\n",
       "    <tr>\n",
       "      <th>4</th>\n",
       "      <td>11</td>\n",
       "      <td>0.840003</td>\n",
       "      <td>0.454920</td>\n",
       "      <td>0.209321</td>\n",
       "      <td>3.772932</td>\n",
       "      <td>-9.135425</td>\n",
       "      <td>-0.794232</td>\n",
       "      <td>2</td>\n",
       "    </tr>\n",
       "  </tbody>\n",
       "</table>\n",
       "</div>"
      ],
      "text/plain": [
       "   subject     acc_x     acc_y     acc_z     gyr_x     gyr_y     gyr_z  \\\n",
       "0       11  0.788496  0.429586  0.158079 -9.520525  1.719961 -0.391400   \n",
       "1       11  0.795364  0.425966  0.176379 -8.312029 -0.693527  0.414264   \n",
       "2       11  0.819400  0.454920  0.205661 -5.492205 -3.495776  1.622760   \n",
       "3       11  0.815967  0.454920  0.212981  0.147443 -5.509936  0.817096   \n",
       "4       11  0.840003  0.454920  0.209321  3.772932 -9.135425 -0.794232   \n",
       "\n",
       "   activity  \n",
       "0         2  \n",
       "1         2  \n",
       "2         2  \n",
       "3         2  \n",
       "4         2  "
      ]
     },
     "execution_count": 4,
     "metadata": {},
     "output_type": "execute_result"
    }
   ],
   "source": [
    "df.head()"
   ]
  },
  {
   "cell_type": "code",
   "execution_count": 5,
   "metadata": {},
   "outputs": [],
   "source": [
    "FEATURES = ['acc_x', 'acc_y', 'acc_z', 'gyr_x', 'gyr_y', 'gyr_z']\n",
    "LABEL = 'activity'"
   ]
  },
  {
   "cell_type": "code",
   "execution_count": 6,
   "metadata": {},
   "outputs": [],
   "source": [
    "df = df.fillna(0)\n",
    "scaler = StandardScaler()\n",
    "df[FEATURES] = scaler.fit_transform(df[FEATURES])"
   ]
  },
  {
   "cell_type": "code",
   "execution_count": 7,
   "metadata": {},
   "outputs": [],
   "source": [
    "hyperparameters = yaml.load(open('../configs/metadata.yaml', mode='r'), Loader=yaml.FullLoader)\n",
    "\n",
    "metadata = yaml.load(open('../configs/metadata.yaml', mode='r'), Loader=yaml.FullLoader)['uschad_preprocess']"
   ]
  },
  {
   "cell_type": "code",
   "execution_count": 8,
   "metadata": {},
   "outputs": [],
   "source": [
    "# metadata_file"
   ]
  },
  {
   "cell_type": "code",
   "execution_count": 9,
   "metadata": {},
   "outputs": [],
   "source": [
    "train_subject = [1, 2, 3, 4, 5, 6, 7, 8, 9, 10]\n",
    "val_subject = [11, 12]\n",
    "test_subject = [13, 14]"
   ]
  },
  {
   "cell_type": "code",
   "execution_count": 10,
   "metadata": {},
   "outputs": [],
   "source": [
    "train_df = df.loc[df['subject'].isin(train_subject)]\n",
    "val_df = df.loc[df['subject'].isin(val_subject)]\n",
    "test_df = df.loc[df['subject'].isin(test_subject)]\n",
    "\n",
    "SLIDING_WINDOW_LENGTH = metadata['sliding_win_len']\n",
    "SLIDING_WINDOW_STEP = metadata['sliding_win_stride']\n",
    "N_WINDOW, N_TIMESTEP = metadata['n_window'], metadata['n_timestep']\n",
    "\n",
    "# FEATURES = metadata['feature_list']\n",
    "\n",
    "X_train, y_train = create_windowed_dataset(\n",
    "    train_df, FEATURES, LABEL, window_size=SLIDING_WINDOW_LENGTH, stride=SLIDING_WINDOW_STEP)\n",
    "X_val, y_val = create_windowed_dataset(\n",
    "    val_df, FEATURES, LABEL, window_size=SLIDING_WINDOW_LENGTH, stride=SLIDING_WINDOW_STEP)\n",
    "X_test, y_test = create_windowed_dataset(\n",
    "    test_df, FEATURES, LABEL, window_size=SLIDING_WINDOW_LENGTH, stride=SLIDING_WINDOW_STEP)\n",
    "\n",
    "X_train = X_train.reshape(\n",
    "    (X_train.shape[0], N_WINDOW, N_TIMESTEP, len(FEATURES)))\n",
    "X_val = X_val.reshape(\n",
    "    (X_val.shape[0], N_WINDOW, N_TIMESTEP, len(FEATURES)))\n",
    "X_test = X_test.reshape(\n",
    "    (X_test.shape[0], N_WINDOW, N_TIMESTEP, len(FEATURES)))\n",
    "\n",
    "y_train = tf.keras.utils.to_categorical(y_train)\n",
    "y_val = tf.keras.utils.to_categorical(y_val)\n",
    "y_test = tf.keras.utils.to_categorical(y_test)"
   ]
  },
  {
   "cell_type": "code",
   "execution_count": 11,
   "metadata": {},
   "outputs": [],
   "source": [
    "# from preprocessing.utils import get_train_test_data\n"
   ]
  },
  {
   "cell_type": "code",
   "execution_count": 12,
   "metadata": {},
   "outputs": [
    {
     "name": "stdout",
     "output_type": "stream",
     "text": [
      "(2464, 15, 100, 6)\n",
      "(2464, 13)\n"
     ]
    }
   ],
   "source": [
    "print(X_train.shape)\n",
    "print(y_train.shape)"
   ]
  },
  {
   "cell_type": "code",
   "execution_count": 13,
   "metadata": {},
   "outputs": [],
   "source": [
    "y_train_mid = np.repeat(np.expand_dims(y_train, axis=1), repeats=15, axis=1)\n",
    "y_val_mid = np.repeat(np.expand_dims(y_val, axis=1), repeats=15, axis=1)\n",
    "y_test_mid = np.repeat(np.expand_dims(y_test, axis=1), repeats=15, axis=1)"
   ]
  },
  {
   "cell_type": "code",
   "execution_count": 14,
   "metadata": {},
   "outputs": [
    {
     "data": {
      "text/plain": [
       "(2464, 15, 13)"
      ]
     },
     "execution_count": 14,
     "metadata": {},
     "output_type": "execute_result"
    }
   ],
   "source": [
    "y_train_mid.shape"
   ]
  },
  {
   "cell_type": "code",
   "execution_count": 15,
   "metadata": {},
   "outputs": [],
   "source": [
    "hparam_file = open('../configs/hyperparameters.yaml', mode='r')\n",
    "hyperparameters = yaml.load(hparam_file, Loader=yaml.FullLoader)\n",
    "hparams = hyperparameters['HSA_model']\n",
    "hparams['modality_indices'] = hparams['modality_indices']['uschad']\n",
    "hparams['n_window'], hparams['n_timesteps'], hparams['n_features'], hparams['n_outputs'] = X_train.shape[1], X_train.shape[2], X_train.shape[3], y_train.shape[1]\n",
    "hparams['n_outputs_window']=  y_train.shape[1]"
   ]
  },
  {
   "cell_type": "markdown",
   "metadata": {},
   "source": [
    "## Training"
   ]
  },
  {
   "cell_type": "code",
   "execution_count": 16,
   "metadata": {},
   "outputs": [
    {
     "name": "stdout",
     "output_type": "stream",
     "text": [
      "8 Physical GPUs, 8 Logical GPUs\n",
      "INFO:tensorflow:Using MirroredStrategy with devices ('/job:localhost/replica:0/task:0/device:GPU:5', '/job:localhost/replica:0/task:0/device:GPU:6', '/job:localhost/replica:0/task:0/device:GPU:7')\n",
      "Number of devices: 3\n"
     ]
    }
   ],
   "source": [
    "tf.keras.backend.clear_session()\n",
    "gpus = tf.config.experimental.list_physical_devices('GPU')\n",
    "if gpus:\n",
    "  try:\n",
    "    # Currently, memory growth needs to be the same across GPUs\n",
    "    for gpu in gpus:\n",
    "      tf.config.experimental.set_memory_growth(gpu, True)\n",
    "    logical_gpus = tf.config.experimental.list_logical_devices('GPU')\n",
    "    print(len(gpus), \"Physical GPUs,\", len(logical_gpus), \"Logical GPUs\")\n",
    "  except RuntimeError as e:\n",
    "    # Memory growth must be set before GPUs have been initialized\n",
    "    print(e)\n",
    "    \n",
    "device_list = ['/gpu:'+str(i) for i in range(5, 8)]\n",
    "strategy = tf.distribute.MirroredStrategy(devices=device_list)\n",
    "print('Number of devices: {}'.format(strategy.num_replicas_in_sync))\n",
    "with strategy.scope():\n",
    "    model = HSA_model_session_guided_window(**hyperparameters['HSA_model']).get_compiled_model()"
   ]
  },
  {
   "cell_type": "code",
   "execution_count": 17,
   "metadata": {},
   "outputs": [
    {
     "name": "stdout",
     "output_type": "stream",
     "text": [
      "Model: \"model_1\"\n",
      "__________________________________________________________________________________________________\n",
      "Layer (type)                    Output Shape         Param #     Connected to                     \n",
      "==================================================================================================\n",
      "input_1 (InputLayer)            [(None, 15, 100, 6)] 0                                            \n",
      "__________________________________________________________________________________________________\n",
      "multi_window_encoder (MultiWind ((None, None, 64), ( 150144      input_1[0][0]                    \n",
      "__________________________________________________________________________________________________\n",
      "modality_encoder_block_1 (Modal (None, None, 64)     104000      multi_window_encoder[0][0]       \n",
      "__________________________________________________________________________________________________\n",
      "combined_sensor_self_attention_ ((None, 64), (None,  49856       modality_encoder_block_1[0][0]   \n",
      "__________________________________________________________________________________________________\n",
      "tf_op_layer_Shape (TensorFlowOp [(2,)]               0           combined_sensor_self_attention_1[\n",
      "__________________________________________________________________________________________________\n",
      "tf_op_layer_ExpandDims (TensorF [(None, 1, 64)]      0           combined_sensor_self_attention_1[\n",
      "__________________________________________________________________________________________________\n",
      "tf_op_layer_strided_slice_1 (Te [(0,)]               0           tf_op_layer_Shape[0][0]          \n",
      "__________________________________________________________________________________________________\n",
      "tf_op_layer_strided_slice_2 (Te [(1,)]               0           tf_op_layer_Shape[0][0]          \n",
      "__________________________________________________________________________________________________\n",
      "tf_op_layer_Tile (TensorFlowOpL [(None, 15, 64)]     0           tf_op_layer_ExpandDims[0][0]     \n",
      "__________________________________________________________________________________________________\n",
      "tf_op_layer_concat (TensorFlowO [(2,)]               0           tf_op_layer_strided_slice_1[0][0]\n",
      "                                                                 tf_op_layer_strided_slice_2[0][0]\n",
      "__________________________________________________________________________________________________\n",
      "tf_op_layer_Reshape (TensorFlow [(None, 64)]         0           tf_op_layer_Tile[0][0]           \n",
      "                                                                 tf_op_layer_concat[0][0]         \n",
      "__________________________________________________________________________________________________\n",
      "reshape (Reshape)               (None, 15, 64)       0           tf_op_layer_Reshape[0][0]        \n",
      "__________________________________________________________________________________________________\n",
      "concatenate (Concatenate)       (None, 15, 128)      0           multi_window_encoder[0][0]       \n",
      "                                                                 reshape[0][0]                    \n",
      "__________________________________________________________________________________________________\n",
      "window_pred (Dense)             (None, 15, 13)       1677        concatenate[0][0]                \n",
      "__________________________________________________________________________________________________\n",
      "session_pred (Dense)            (None, 13)           845         combined_sensor_self_attention_1[\n",
      "==================================================================================================\n",
      "Total params: 306,522\n",
      "Trainable params: 306,522\n",
      "Non-trainable params: 0\n",
      "__________________________________________________________________________________________________\n"
     ]
    }
   ],
   "source": [
    "model.summary()"
   ]
  },
  {
   "cell_type": "code",
   "execution_count": 18,
   "metadata": {},
   "outputs": [],
   "source": [
    "checkpoint_filepath = \"usc_checkpoints/cp-{epoch:04d}.ckpt\"\n",
    "\n",
    "model_checkpoint_callback = tf.keras.callbacks.ModelCheckpoint(filepath=checkpoint_filepath,\n",
    "                                                               save_weights_only=True,\n",
    "                                                               verbose=1)"
   ]
  },
  {
   "cell_type": "code",
   "execution_count": 19,
   "metadata": {},
   "outputs": [
    {
     "name": "stdout",
     "output_type": "stream",
     "text": [
      "Epoch 1/40\n",
      "INFO:tensorflow:batch_all_reduce: 96 all-reduces with algorithm = nccl, num_packs = 1\n",
      "INFO:tensorflow:Reduce to /job:localhost/replica:0/task:0/device:CPU:0 then broadcast to ('/job:localhost/replica:0/task:0/device:CPU:0',).\n",
      "INFO:tensorflow:Reduce to /job:localhost/replica:0/task:0/device:CPU:0 then broadcast to ('/job:localhost/replica:0/task:0/device:CPU:0',).\n",
      "INFO:tensorflow:Reduce to /job:localhost/replica:0/task:0/device:CPU:0 then broadcast to ('/job:localhost/replica:0/task:0/device:CPU:0',).\n",
      "INFO:tensorflow:Reduce to /job:localhost/replica:0/task:0/device:CPU:0 then broadcast to ('/job:localhost/replica:0/task:0/device:CPU:0',).\n",
      "INFO:tensorflow:Reduce to /job:localhost/replica:0/task:0/device:CPU:0 then broadcast to ('/job:localhost/replica:0/task:0/device:CPU:0',).\n",
      "INFO:tensorflow:Reduce to /job:localhost/replica:0/task:0/device:CPU:0 then broadcast to ('/job:localhost/replica:0/task:0/device:CPU:0',).\n",
      "INFO:tensorflow:Reduce to /job:localhost/replica:0/task:0/device:CPU:0 then broadcast to ('/job:localhost/replica:0/task:0/device:CPU:0',).\n",
      "INFO:tensorflow:Reduce to /job:localhost/replica:0/task:0/device:CPU:0 then broadcast to ('/job:localhost/replica:0/task:0/device:CPU:0',).\n",
      "INFO:tensorflow:Reduce to /job:localhost/replica:0/task:0/device:CPU:0 then broadcast to ('/job:localhost/replica:0/task:0/device:CPU:0',).\n",
      "INFO:tensorflow:Reduce to /job:localhost/replica:0/task:0/device:CPU:0 then broadcast to ('/job:localhost/replica:0/task:0/device:CPU:0',).\n",
      "INFO:tensorflow:batch_all_reduce: 96 all-reduces with algorithm = nccl, num_packs = 1\n",
      "13/13 [==============================] - ETA: 0s - session_pred_accuracy: 0.3174 - window_pred_accuracy: 0.3874 - window_pred_loss: 1.8227 - loss: 3.9046 - session_pred_loss: 2.0820\n",
      "Epoch 00001: saving model to usc_checkpoints/cp-0001.ckpt\n",
      "13/13 [==============================] - 10s 748ms/step - session_pred_accuracy: 0.3174 - window_pred_accuracy: 0.3874 - window_pred_loss: 1.8227 - loss: 3.9046 - session_pred_loss: 2.0820 - val_session_pred_accuracy: 0.4377 - val_window_pred_accuracy: 0.3992 - val_window_pred_loss: 1.6915 - val_loss: 3.2527 - val_session_pred_loss: 1.5612\n",
      "Epoch 2/40\n",
      "13/13 [==============================] - ETA: 0s - session_pred_accuracy: 0.5994 - window_pred_accuracy: 0.6703 - window_pred_loss: 0.8694 - loss: 1.9502 - session_pred_loss: 1.0808\n",
      "Epoch 00002: saving model to usc_checkpoints/cp-0002.ckpt\n",
      "13/13 [==============================] - 4s 305ms/step - session_pred_accuracy: 0.5994 - window_pred_accuracy: 0.6703 - window_pred_loss: 0.8694 - loss: 1.9502 - session_pred_loss: 1.0808 - val_session_pred_accuracy: 0.4994 - val_window_pred_accuracy: 0.5833 - val_window_pred_loss: 1.0973 - val_loss: 2.2415 - val_session_pred_loss: 1.1442\n",
      "Epoch 3/40\n",
      "13/13 [==============================] - ETA: 0s - session_pred_accuracy: 0.8137 - window_pred_accuracy: 0.8129 - window_pred_loss: 0.5377 - loss: 1.1277 - session_pred_loss: 0.5900\n",
      "Epoch 00003: saving model to usc_checkpoints/cp-0003.ckpt\n",
      "13/13 [==============================] - 4s 301ms/step - session_pred_accuracy: 0.8137 - window_pred_accuracy: 0.8129 - window_pred_loss: 0.5377 - loss: 1.1277 - session_pred_loss: 0.5900 - val_session_pred_accuracy: 0.5695 - val_window_pred_accuracy: 0.5941 - val_window_pred_loss: 1.0533 - val_loss: 2.1524 - val_session_pred_loss: 1.0991\n",
      "Epoch 4/40\n",
      "13/13 [==============================] - ETA: 0s - session_pred_accuracy: 0.8705 - window_pred_accuracy: 0.8751 - window_pred_loss: 0.3521 - loss: 0.7263 - session_pred_loss: 0.3742\n",
      "Epoch 00004: saving model to usc_checkpoints/cp-0004.ckpt\n",
      "13/13 [==============================] - 4s 305ms/step - session_pred_accuracy: 0.8705 - window_pred_accuracy: 0.8751 - window_pred_loss: 0.3521 - loss: 0.7263 - session_pred_loss: 0.3742 - val_session_pred_accuracy: 0.7920 - val_window_pred_accuracy: 0.7946 - val_window_pred_loss: 0.6354 - val_loss: 1.3072 - val_session_pred_loss: 0.6718\n",
      "Epoch 5/40\n",
      "13/13 [==============================] - ETA: 0s - session_pred_accuracy: 0.9111 - window_pred_accuracy: 0.8971 - window_pred_loss: 0.2723 - loss: 0.5416 - session_pred_loss: 0.2693\n",
      "Epoch 00005: saving model to usc_checkpoints/cp-0005.ckpt\n",
      "13/13 [==============================] - 4s 303ms/step - session_pred_accuracy: 0.9111 - window_pred_accuracy: 0.8971 - window_pred_loss: 0.2723 - loss: 0.5416 - session_pred_loss: 0.2693 - val_session_pred_accuracy: 0.6542 - val_window_pred_accuracy: 0.6783 - val_window_pred_loss: 0.9374 - val_loss: 1.8988 - val_session_pred_loss: 0.9613\n",
      "Epoch 6/40\n",
      "13/13 [==============================] - ETA: 0s - session_pred_accuracy: 0.9168 - window_pred_accuracy: 0.9098 - window_pred_loss: 0.2281 - loss: 0.4555 - session_pred_loss: 0.2274\n",
      "Epoch 00006: saving model to usc_checkpoints/cp-0006.ckpt\n",
      "13/13 [==============================] - 4s 306ms/step - session_pred_accuracy: 0.9168 - window_pred_accuracy: 0.9098 - window_pred_loss: 0.2281 - loss: 0.4555 - session_pred_loss: 0.2274 - val_session_pred_accuracy: 0.8259 - val_window_pred_accuracy: 0.8301 - val_window_pred_loss: 0.5077 - val_loss: 1.0349 - val_session_pred_loss: 0.5273\n",
      "Epoch 7/40\n",
      "13/13 [==============================] - ETA: 0s - session_pred_accuracy: 0.9083 - window_pred_accuracy: 0.9136 - window_pred_loss: 0.2275 - loss: 0.4556 - session_pred_loss: 0.2280\n",
      "Epoch 00007: saving model to usc_checkpoints/cp-0007.ckpt\n",
      "13/13 [==============================] - 4s 303ms/step - session_pred_accuracy: 0.9083 - window_pred_accuracy: 0.9136 - window_pred_loss: 0.2275 - loss: 0.4556 - session_pred_loss: 0.2280 - val_session_pred_accuracy: 0.8343 - val_window_pred_accuracy: 0.8328 - val_window_pred_loss: 0.4358 - val_loss: 0.8805 - val_session_pred_loss: 0.4447\n",
      "Epoch 8/40\n",
      "13/13 [==============================] - ETA: 0s - session_pred_accuracy: 0.9111 - window_pred_accuracy: 0.9123 - window_pred_loss: 0.2149 - loss: 0.4354 - session_pred_loss: 0.2204\n",
      "Epoch 00008: saving model to usc_checkpoints/cp-0008.ckpt\n",
      "13/13 [==============================] - 4s 302ms/step - session_pred_accuracy: 0.9111 - window_pred_accuracy: 0.9123 - window_pred_loss: 0.2149 - loss: 0.4354 - session_pred_loss: 0.2204 - val_session_pred_accuracy: 0.8392 - val_window_pred_accuracy: 0.8431 - val_window_pred_loss: 0.4914 - val_loss: 1.0098 - val_session_pred_loss: 0.5184\n",
      "Epoch 9/40\n",
      "13/13 [==============================] - ETA: 0s - session_pred_accuracy: 0.9217 - window_pred_accuracy: 0.9165 - window_pred_loss: 0.1950 - loss: 0.3942 - session_pred_loss: 0.1992\n",
      "Epoch 00009: saving model to usc_checkpoints/cp-0009.ckpt\n",
      "13/13 [==============================] - 4s 300ms/step - session_pred_accuracy: 0.9217 - window_pred_accuracy: 0.9165 - window_pred_loss: 0.1950 - loss: 0.3942 - session_pred_loss: 0.1992 - val_session_pred_accuracy: 0.8114 - val_window_pred_accuracy: 0.8136 - val_window_pred_loss: 0.5227 - val_loss: 1.0856 - val_session_pred_loss: 0.5629\n",
      "Epoch 10/40\n",
      "13/13 [==============================] - ETA: 0s - session_pred_accuracy: 0.9164 - window_pred_accuracy: 0.9139 - window_pred_loss: 0.1942 - loss: 0.3905 - session_pred_loss: 0.1963\n",
      "Epoch 00010: saving model to usc_checkpoints/cp-0010.ckpt\n",
      "13/13 [==============================] - 4s 301ms/step - session_pred_accuracy: 0.9164 - window_pred_accuracy: 0.9139 - window_pred_loss: 0.1942 - loss: 0.3905 - session_pred_loss: 0.1963 - val_session_pred_accuracy: 0.7364 - val_window_pred_accuracy: 0.7537 - val_window_pred_loss: 0.8949 - val_loss: 1.8912 - val_session_pred_loss: 0.9963\n",
      "Epoch 11/40\n",
      "13/13 [==============================] - ETA: 0s - session_pred_accuracy: 0.9213 - window_pred_accuracy: 0.9114 - window_pred_loss: 0.1977 - loss: 0.3883 - session_pred_loss: 0.1907\n",
      "Epoch 00011: saving model to usc_checkpoints/cp-0011.ckpt\n",
      "13/13 [==============================] - 4s 299ms/step - session_pred_accuracy: 0.9213 - window_pred_accuracy: 0.9114 - window_pred_loss: 0.1977 - loss: 0.3883 - session_pred_loss: 0.1907 - val_session_pred_accuracy: 0.7352 - val_window_pred_accuracy: 0.7357 - val_window_pred_loss: 0.7932 - val_loss: 1.7200 - val_session_pred_loss: 0.9268\n",
      "Epoch 12/40\n",
      "13/13 [==============================] - ETA: 0s - session_pred_accuracy: 0.9229 - window_pred_accuracy: 0.9243 - window_pred_loss: 0.1701 - loss: 0.3434 - session_pred_loss: 0.1733\n",
      "Epoch 00012: saving model to usc_checkpoints/cp-0012.ckpt\n",
      "13/13 [==============================] - 4s 301ms/step - session_pred_accuracy: 0.9229 - window_pred_accuracy: 0.9243 - window_pred_loss: 0.1701 - loss: 0.3434 - session_pred_loss: 0.1733 - val_session_pred_accuracy: 0.7170 - val_window_pred_accuracy: 0.7223 - val_window_pred_loss: 0.7796 - val_loss: 1.7061 - val_session_pred_loss: 0.9265\n",
      "Epoch 13/40\n",
      "13/13 [==============================] - ETA: 0s - session_pred_accuracy: 0.9221 - window_pred_accuracy: 0.9155 - window_pred_loss: 0.1812 - loss: 0.3547 - session_pred_loss: 0.1735\n",
      "Epoch 00013: saving model to usc_checkpoints/cp-0013.ckpt\n",
      "13/13 [==============================] - 4s 303ms/step - session_pred_accuracy: 0.9221 - window_pred_accuracy: 0.9155 - window_pred_loss: 0.1812 - loss: 0.3547 - session_pred_loss: 0.1735 - val_session_pred_accuracy: 0.7461 - val_window_pred_accuracy: 0.7629 - val_window_pred_loss: 0.7185 - val_loss: 1.6291 - val_session_pred_loss: 0.9106\n",
      "Epoch 14/40\n",
      "13/13 [==============================] - ETA: 0s - session_pred_accuracy: 0.9351 - window_pred_accuracy: 0.9285 - window_pred_loss: 0.1548 - loss: 0.3052 - session_pred_loss: 0.1504\n",
      "Epoch 00014: saving model to usc_checkpoints/cp-0014.ckpt\n",
      "13/13 [==============================] - 4s 301ms/step - session_pred_accuracy: 0.9351 - window_pred_accuracy: 0.9285 - window_pred_loss: 0.1548 - loss: 0.3052 - session_pred_loss: 0.1504 - val_session_pred_accuracy: 0.8029 - val_window_pred_accuracy: 0.8251 - val_window_pred_loss: 0.6324 - val_loss: 1.3714 - val_session_pred_loss: 0.7390\n",
      "Epoch 15/40\n",
      "13/13 [==============================] - ETA: 0s - session_pred_accuracy: 0.9318 - window_pred_accuracy: 0.9307 - window_pred_loss: 0.1454 - loss: 0.2916 - session_pred_loss: 0.1462\n",
      "Epoch 00015: saving model to usc_checkpoints/cp-0015.ckpt\n",
      "13/13 [==============================] - 4s 302ms/step - session_pred_accuracy: 0.9318 - window_pred_accuracy: 0.9307 - window_pred_loss: 0.1454 - loss: 0.2916 - session_pred_loss: 0.1462 - val_session_pred_accuracy: 0.7606 - val_window_pred_accuracy: 0.7924 - val_window_pred_loss: 0.5958 - val_loss: 1.3275 - val_session_pred_loss: 0.7317\n",
      "Epoch 16/40\n",
      "13/13 [==============================] - ETA: 0s - session_pred_accuracy: 0.9355 - window_pred_accuracy: 0.9339 - window_pred_loss: 0.1401 - loss: 0.2783 - session_pred_loss: 0.1383\n",
      "Epoch 00016: saving model to usc_checkpoints/cp-0016.ckpt\n",
      "13/13 [==============================] - 4s 325ms/step - session_pred_accuracy: 0.9355 - window_pred_accuracy: 0.9339 - window_pred_loss: 0.1401 - loss: 0.2783 - session_pred_loss: 0.1383 - val_session_pred_accuracy: 0.8283 - val_window_pred_accuracy: 0.8405 - val_window_pred_loss: 0.5057 - val_loss: 1.0889 - val_session_pred_loss: 0.5832\n",
      "Epoch 17/40\n",
      "13/13 [==============================] - ETA: 0s - session_pred_accuracy: 0.9261 - window_pred_accuracy: 0.9308 - window_pred_loss: 0.1471 - loss: 0.2996 - session_pred_loss: 0.1526\n",
      "Epoch 00017: saving model to usc_checkpoints/cp-0017.ckpt\n",
      "13/13 [==============================] - 4s 304ms/step - session_pred_accuracy: 0.9261 - window_pred_accuracy: 0.9308 - window_pred_loss: 0.1471 - loss: 0.2996 - session_pred_loss: 0.1526 - val_session_pred_accuracy: 0.7134 - val_window_pred_accuracy: 0.7338 - val_window_pred_loss: 0.9585 - val_loss: 2.0731 - val_session_pred_loss: 1.1147\n",
      "Epoch 18/40\n",
      "13/13 [==============================] - ETA: 0s - session_pred_accuracy: 0.9298 - window_pred_accuracy: 0.9283 - window_pred_loss: 0.1501 - loss: 0.2990 - session_pred_loss: 0.1488\n",
      "Epoch 00018: saving model to usc_checkpoints/cp-0018.ckpt\n",
      "13/13 [==============================] - 4s 302ms/step - session_pred_accuracy: 0.9298 - window_pred_accuracy: 0.9283 - window_pred_loss: 0.1501 - loss: 0.2990 - session_pred_loss: 0.1488 - val_session_pred_accuracy: 0.7703 - val_window_pred_accuracy: 0.7898 - val_window_pred_loss: 0.6263 - val_loss: 1.3515 - val_session_pred_loss: 0.7252\n",
      "Epoch 19/40\n",
      "13/13 [==============================] - ETA: 0s - session_pred_accuracy: 0.9310 - window_pred_accuracy: 0.9327 - window_pred_loss: 0.1411 - loss: 0.2822 - session_pred_loss: 0.1411\n",
      "Epoch 00019: saving model to usc_checkpoints/cp-0019.ckpt\n",
      "13/13 [==============================] - 4s 301ms/step - session_pred_accuracy: 0.9310 - window_pred_accuracy: 0.9327 - window_pred_loss: 0.1411 - loss: 0.2822 - session_pred_loss: 0.1411 - val_session_pred_accuracy: 0.6771 - val_window_pred_accuracy: 0.6711 - val_window_pred_loss: 1.1809 - val_loss: 2.4520 - val_session_pred_loss: 1.2710\n",
      "Epoch 20/40\n",
      "13/13 [==============================] - ETA: 0s - session_pred_accuracy: 0.9326 - window_pred_accuracy: 0.9356 - window_pred_loss: 0.1329 - loss: 0.2628 - session_pred_loss: 0.1298\n",
      "Epoch 00020: saving model to usc_checkpoints/cp-0020.ckpt\n",
      "13/13 [==============================] - 4s 301ms/step - session_pred_accuracy: 0.9326 - window_pred_accuracy: 0.9356 - window_pred_loss: 0.1329 - loss: 0.2628 - session_pred_loss: 0.1298 - val_session_pred_accuracy: 0.7630 - val_window_pred_accuracy: 0.7669 - val_window_pred_loss: 0.7008 - val_loss: 1.4364 - val_session_pred_loss: 0.7355\n",
      "Epoch 21/40\n",
      "13/13 [==============================] - ETA: 0s - session_pred_accuracy: 0.9294 - window_pred_accuracy: 0.9249 - window_pred_loss: 0.1520 - loss: 0.3022 - session_pred_loss: 0.1502\n",
      "Epoch 00021: saving model to usc_checkpoints/cp-0021.ckpt\n",
      "13/13 [==============================] - 4s 304ms/step - session_pred_accuracy: 0.9294 - window_pred_accuracy: 0.9249 - window_pred_loss: 0.1520 - loss: 0.3022 - session_pred_loss: 0.1502 - val_session_pred_accuracy: 0.6518 - val_window_pred_accuracy: 0.6760 - val_window_pred_loss: 1.0980 - val_loss: 2.4166 - val_session_pred_loss: 1.3187\n",
      "Epoch 22/40\n",
      "13/13 [==============================] - ETA: 0s - session_pred_accuracy: 0.9330 - window_pred_accuracy: 0.9280 - window_pred_loss: 0.1487 - loss: 0.2974 - session_pred_loss: 0.1487\n",
      "Epoch 00022: saving model to usc_checkpoints/cp-0022.ckpt\n",
      "13/13 [==============================] - 4s 297ms/step - session_pred_accuracy: 0.9330 - window_pred_accuracy: 0.9280 - window_pred_loss: 0.1487 - loss: 0.2974 - session_pred_loss: 0.1487 - val_session_pred_accuracy: 0.7412 - val_window_pred_accuracy: 0.7700 - val_window_pred_loss: 0.6661 - val_loss: 1.4658 - val_session_pred_loss: 0.7996\n",
      "Epoch 23/40\n",
      "13/13 [==============================] - ETA: 0s - session_pred_accuracy: 0.9209 - window_pred_accuracy: 0.9203 - window_pred_loss: 0.1826 - loss: 0.3710 - session_pred_loss: 0.1884\n",
      "Epoch 00023: saving model to usc_checkpoints/cp-0023.ckpt\n",
      "13/13 [==============================] - 4s 298ms/step - session_pred_accuracy: 0.9209 - window_pred_accuracy: 0.9203 - window_pred_loss: 0.1826 - loss: 0.3710 - session_pred_loss: 0.1884 - val_session_pred_accuracy: 0.6215 - val_window_pred_accuracy: 0.6403 - val_window_pred_loss: 1.4761 - val_loss: 3.2670 - val_session_pred_loss: 1.7909\n",
      "Epoch 24/40\n",
      "13/13 [==============================] - ETA: 0s - session_pred_accuracy: 0.9079 - window_pred_accuracy: 0.9117 - window_pred_loss: 0.1874 - loss: 0.3893 - session_pred_loss: 0.2019\n",
      "Epoch 00024: saving model to usc_checkpoints/cp-0024.ckpt\n",
      "13/13 [==============================] - 4s 296ms/step - session_pred_accuracy: 0.9079 - window_pred_accuracy: 0.9117 - window_pred_loss: 0.1874 - loss: 0.3893 - session_pred_loss: 0.2019 - val_session_pred_accuracy: 0.6832 - val_window_pred_accuracy: 0.6947 - val_window_pred_loss: 1.2905 - val_loss: 2.6773 - val_session_pred_loss: 1.3868\n",
      "Epoch 25/40\n",
      "13/13 [==============================] - ETA: 0s - session_pred_accuracy: 0.9148 - window_pred_accuracy: 0.9116 - window_pred_loss: 0.1979 - loss: 0.4153 - session_pred_loss: 0.2175\n",
      "Epoch 00025: saving model to usc_checkpoints/cp-0025.ckpt\n",
      "13/13 [==============================] - 4s 297ms/step - session_pred_accuracy: 0.9148 - window_pred_accuracy: 0.9116 - window_pred_loss: 0.1979 - loss: 0.4153 - session_pred_loss: 0.2175 - val_session_pred_accuracy: 0.7424 - val_window_pred_accuracy: 0.7625 - val_window_pred_loss: 0.7983 - val_loss: 1.7984 - val_session_pred_loss: 1.0001\n",
      "Epoch 26/40\n",
      "13/13 [==============================] - ETA: 0s - session_pred_accuracy: 0.9180 - window_pred_accuracy: 0.9226 - window_pred_loss: 0.1641 - loss: 0.3306 - session_pred_loss: 0.1666\n",
      "Epoch 00026: saving model to usc_checkpoints/cp-0026.ckpt\n",
      "13/13 [==============================] - 4s 299ms/step - session_pred_accuracy: 0.9180 - window_pred_accuracy: 0.9226 - window_pred_loss: 0.1641 - loss: 0.3306 - session_pred_loss: 0.1666 - val_session_pred_accuracy: 0.7243 - val_window_pred_accuracy: 0.7358 - val_window_pred_loss: 0.9307 - val_loss: 1.8857 - val_session_pred_loss: 0.9550\n",
      "Epoch 27/40\n",
      "13/13 [==============================] - ETA: 0s - session_pred_accuracy: 0.9326 - window_pred_accuracy: 0.9325 - window_pred_loss: 0.1428 - loss: 0.2902 - session_pred_loss: 0.1474\n",
      "Epoch 00027: saving model to usc_checkpoints/cp-0027.ckpt\n",
      "13/13 [==============================] - 4s 300ms/step - session_pred_accuracy: 0.9326 - window_pred_accuracy: 0.9325 - window_pred_loss: 0.1428 - loss: 0.2902 - session_pred_loss: 0.1474 - val_session_pred_accuracy: 0.7799 - val_window_pred_accuracy: 0.7847 - val_window_pred_loss: 0.6993 - val_loss: 1.4640 - val_session_pred_loss: 0.7647\n",
      "Epoch 28/40\n",
      "13/13 [==============================] - ETA: 0s - session_pred_accuracy: 0.9351 - window_pred_accuracy: 0.9317 - window_pred_loss: 0.1408 - loss: 0.2799 - session_pred_loss: 0.1391\n",
      "Epoch 00028: saving model to usc_checkpoints/cp-0028.ckpt\n",
      "13/13 [==============================] - 4s 299ms/step - session_pred_accuracy: 0.9351 - window_pred_accuracy: 0.9317 - window_pred_loss: 0.1408 - loss: 0.2799 - session_pred_loss: 0.1391 - val_session_pred_accuracy: 0.7666 - val_window_pred_accuracy: 0.7736 - val_window_pred_loss: 0.7378 - val_loss: 1.5398 - val_session_pred_loss: 0.8020\n",
      "Epoch 29/40\n",
      "13/13 [==============================] - ETA: 0s - session_pred_accuracy: 0.9314 - window_pred_accuracy: 0.9350 - window_pred_loss: 0.1302 - loss: 0.2640 - session_pred_loss: 0.1338\n",
      "Epoch 00029: saving model to usc_checkpoints/cp-0029.ckpt\n",
      "13/13 [==============================] - 4s 298ms/step - session_pred_accuracy: 0.9314 - window_pred_accuracy: 0.9350 - window_pred_loss: 0.1302 - loss: 0.2640 - session_pred_loss: 0.1338 - val_session_pred_accuracy: 0.7981 - val_window_pred_accuracy: 0.8008 - val_window_pred_loss: 0.6982 - val_loss: 1.4490 - val_session_pred_loss: 0.7508\n",
      "Epoch 30/40\n",
      "13/13 [==============================] - ETA: 0s - session_pred_accuracy: 0.9412 - window_pred_accuracy: 0.9408 - window_pred_loss: 0.1211 - loss: 0.2437 - session_pred_loss: 0.1226\n",
      "Epoch 00030: saving model to usc_checkpoints/cp-0030.ckpt\n",
      "13/13 [==============================] - 4s 296ms/step - session_pred_accuracy: 0.9412 - window_pred_accuracy: 0.9408 - window_pred_loss: 0.1211 - loss: 0.2437 - session_pred_loss: 0.1226 - val_session_pred_accuracy: 0.8077 - val_window_pred_accuracy: 0.7932 - val_window_pred_loss: 0.7664 - val_loss: 1.5301 - val_session_pred_loss: 0.7637\n",
      "Epoch 31/40\n",
      "13/13 [==============================] - ETA: 0s - session_pred_accuracy: 0.9448 - window_pred_accuracy: 0.9433 - window_pred_loss: 0.1097 - loss: 0.2181 - session_pred_loss: 0.1083\n",
      "Epoch 00031: saving model to usc_checkpoints/cp-0031.ckpt\n",
      "13/13 [==============================] - 4s 296ms/step - session_pred_accuracy: 0.9448 - window_pred_accuracy: 0.9433 - window_pred_loss: 0.1097 - loss: 0.2181 - session_pred_loss: 0.1083 - val_session_pred_accuracy: 0.8089 - val_window_pred_accuracy: 0.8348 - val_window_pred_loss: 0.5084 - val_loss: 1.0927 - val_session_pred_loss: 0.5843\n",
      "Epoch 32/40\n",
      "13/13 [==============================] - ETA: 0s - session_pred_accuracy: 0.9448 - window_pred_accuracy: 0.9451 - window_pred_loss: 0.1130 - loss: 0.2254 - session_pred_loss: 0.1124\n",
      "Epoch 00032: saving model to usc_checkpoints/cp-0032.ckpt\n",
      "13/13 [==============================] - 4s 300ms/step - session_pred_accuracy: 0.9448 - window_pred_accuracy: 0.9451 - window_pred_loss: 0.1130 - loss: 0.2254 - session_pred_loss: 0.1124 - val_session_pred_accuracy: 0.7715 - val_window_pred_accuracy: 0.7557 - val_window_pred_loss: 0.8400 - val_loss: 1.6990 - val_session_pred_loss: 0.8590\n",
      "Epoch 33/40\n",
      "13/13 [==============================] - ETA: 0s - session_pred_accuracy: 0.9436 - window_pred_accuracy: 0.9419 - window_pred_loss: 0.1115 - loss: 0.2223 - session_pred_loss: 0.1108\n",
      "Epoch 00033: saving model to usc_checkpoints/cp-0033.ckpt\n",
      "13/13 [==============================] - 4s 299ms/step - session_pred_accuracy: 0.9436 - window_pred_accuracy: 0.9419 - window_pred_loss: 0.1115 - loss: 0.2223 - session_pred_loss: 0.1108 - val_session_pred_accuracy: 0.8210 - val_window_pred_accuracy: 0.8191 - val_window_pred_loss: 0.5979 - val_loss: 1.2306 - val_session_pred_loss: 0.6327\n",
      "Epoch 34/40\n",
      "13/13 [==============================] - ETA: 0s - session_pred_accuracy: 0.9383 - window_pred_accuracy: 0.9422 - window_pred_loss: 0.1081 - loss: 0.2201 - session_pred_loss: 0.1121\n",
      "Epoch 00034: saving model to usc_checkpoints/cp-0034.ckpt\n",
      "13/13 [==============================] - 4s 301ms/step - session_pred_accuracy: 0.9383 - window_pred_accuracy: 0.9422 - window_pred_loss: 0.1081 - loss: 0.2201 - session_pred_loss: 0.1121 - val_session_pred_accuracy: 0.8186 - val_window_pred_accuracy: 0.8290 - val_window_pred_loss: 0.6266 - val_loss: 1.3192 - val_session_pred_loss: 0.6926\n",
      "Epoch 35/40\n",
      "13/13 [==============================] - ETA: 0s - session_pred_accuracy: 0.9363 - window_pred_accuracy: 0.9380 - window_pred_loss: 0.1194 - loss: 0.2415 - session_pred_loss: 0.1221\n",
      "Epoch 00035: saving model to usc_checkpoints/cp-0035.ckpt\n",
      "13/13 [==============================] - 4s 299ms/step - session_pred_accuracy: 0.9363 - window_pred_accuracy: 0.9380 - window_pred_loss: 0.1194 - loss: 0.2415 - session_pred_loss: 0.1221 - val_session_pred_accuracy: 0.7086 - val_window_pred_accuracy: 0.7017 - val_window_pred_loss: 1.1148 - val_loss: 2.3062 - val_session_pred_loss: 1.1914\n",
      "Epoch 36/40\n",
      "13/13 [==============================] - ETA: 0s - session_pred_accuracy: 0.9395 - window_pred_accuracy: 0.9422 - window_pred_loss: 0.1106 - loss: 0.2215 - session_pred_loss: 0.1109\n",
      "Epoch 00036: saving model to usc_checkpoints/cp-0036.ckpt\n",
      "13/13 [==============================] - 4s 297ms/step - session_pred_accuracy: 0.9395 - window_pred_accuracy: 0.9422 - window_pred_loss: 0.1106 - loss: 0.2215 - session_pred_loss: 0.1109 - val_session_pred_accuracy: 0.7836 - val_window_pred_accuracy: 0.7840 - val_window_pred_loss: 0.7502 - val_loss: 1.5493 - val_session_pred_loss: 0.7991\n",
      "Epoch 37/40\n",
      "13/13 [==============================] - ETA: 0s - session_pred_accuracy: 0.9403 - window_pred_accuracy: 0.9413 - window_pred_loss: 0.1052 - loss: 0.2108 - session_pred_loss: 0.1057\n",
      "Epoch 00037: saving model to usc_checkpoints/cp-0037.ckpt\n",
      "13/13 [==============================] - 4s 301ms/step - session_pred_accuracy: 0.9403 - window_pred_accuracy: 0.9413 - window_pred_loss: 0.1052 - loss: 0.2108 - session_pred_loss: 0.1057 - val_session_pred_accuracy: 0.7582 - val_window_pred_accuracy: 0.7577 - val_window_pred_loss: 0.7581 - val_loss: 1.5946 - val_session_pred_loss: 0.8366\n",
      "Epoch 38/40\n",
      "13/13 [==============================] - ETA: 0s - session_pred_accuracy: 0.9416 - window_pred_accuracy: 0.9390 - window_pred_loss: 0.1229 - loss: 0.2491 - session_pred_loss: 0.1263\n",
      "Epoch 00038: saving model to usc_checkpoints/cp-0038.ckpt\n",
      "13/13 [==============================] - 4s 297ms/step - session_pred_accuracy: 0.9416 - window_pred_accuracy: 0.9390 - window_pred_loss: 0.1229 - loss: 0.2491 - session_pred_loss: 0.1263 - val_session_pred_accuracy: 0.8162 - val_window_pred_accuracy: 0.8200 - val_window_pred_loss: 0.5158 - val_loss: 1.0875 - val_session_pred_loss: 0.5718\n",
      "Epoch 39/40\n",
      "13/13 [==============================] - ETA: 0s - session_pred_accuracy: 0.9412 - window_pred_accuracy: 0.9358 - window_pred_loss: 0.1160 - loss: 0.2302 - session_pred_loss: 0.1142\n",
      "Epoch 00039: saving model to usc_checkpoints/cp-0039.ckpt\n",
      "13/13 [==============================] - 4s 297ms/step - session_pred_accuracy: 0.9412 - window_pred_accuracy: 0.9358 - window_pred_loss: 0.1160 - loss: 0.2302 - session_pred_loss: 0.1142 - val_session_pred_accuracy: 0.7787 - val_window_pred_accuracy: 0.7869 - val_window_pred_loss: 0.7156 - val_loss: 1.5374 - val_session_pred_loss: 0.8218\n",
      "Epoch 40/40\n",
      "13/13 [==============================] - ETA: 0s - session_pred_accuracy: 0.9391 - window_pred_accuracy: 0.9412 - window_pred_loss: 0.1090 - loss: 0.2156 - session_pred_loss: 0.1065\n",
      "Epoch 00040: saving model to usc_checkpoints/cp-0040.ckpt\n",
      "13/13 [==============================] - 4s 296ms/step - session_pred_accuracy: 0.9391 - window_pred_accuracy: 0.9412 - window_pred_loss: 0.1090 - loss: 0.2156 - session_pred_loss: 0.1065 - val_session_pred_accuracy: 0.7594 - val_window_pred_accuracy: 0.7678 - val_window_pred_loss: 0.8206 - val_loss: 1.7191 - val_session_pred_loss: 0.8984\n"
     ]
    },
    {
     "data": {
      "text/plain": [
       "<tensorflow.python.keras.callbacks.History at 0x7f7c9a1520d0>"
      ]
     },
     "execution_count": 19,
     "metadata": {},
     "output_type": "execute_result"
    }
   ],
   "source": [
    "model.fit(X_train, [y_train_mid, y_train], batch_size=len(device_list) * 64, epochs=40, validation_data=(X_val, [y_val_mid, y_val]), use_multiprocessing=True,callbacks=[model_checkpoint_callback] )"
   ]
  },
  {
   "cell_type": "code",
   "execution_count": 20,
   "metadata": {},
   "outputs": [],
   "source": [
    "pred_mid, pred_sess = model.predict(X_test, batch_size=len(device_list) * 64)"
   ]
  },
  {
   "cell_type": "code",
   "execution_count": 21,
   "metadata": {},
   "outputs": [],
   "source": [
    "# labels_map = {1:'lying',2:'sitting',3:'standing',4:'walking',5:'running',6:'cycling',7:'Nordic walking',\n",
    "#               11:'ascending stairs',12:'descending stairs',13:'vacuum cleaning',\n",
    "#               14:'ironing', 18:'rope jumping'}\n",
    "# class_names = list(labels_map.values())"
   ]
  },
  {
   "cell_type": "code",
   "execution_count": 22,
   "metadata": {},
   "outputs": [
    {
     "name": "stdout",
     "output_type": "stream",
     "text": [
      "              precision    recall  f1-score   support\n",
      "\n",
      "           1       1.00      0.59      0.74       135\n",
      "           2       0.88      0.65      0.75        77\n",
      "           3       0.95      0.55      0.69        64\n",
      "           4       0.22      0.60      0.32        20\n",
      "           5       0.15      0.83      0.25        18\n",
      "           6       1.00      0.52      0.69        63\n",
      "           7       0.14      0.29      0.19        14\n",
      "           8       0.29      0.71      0.42        80\n",
      "           9       0.22      0.04      0.07        50\n",
      "          10       1.00      0.10      0.18       130\n",
      "          11       0.12      0.12      0.12        25\n",
      "          12       0.10      0.38      0.16        16\n",
      "\n",
      "    accuracy                           0.45       692\n",
      "   macro avg       0.51      0.45      0.38       692\n",
      "weighted avg       0.73      0.45      0.47       692\n",
      "\n"
     ]
    }
   ],
   "source": [
    "print(classification_report(np.argmax(y_test, axis=1), np.argmax(pred_sess, axis=1)))"
   ]
  },
  {
   "cell_type": "code",
   "execution_count": 23,
   "metadata": {},
   "outputs": [
    {
     "name": "stdout",
     "output_type": "stream",
     "text": [
      "              precision    recall  f1-score   support\n",
      "\n",
      "           1       1.00      0.59      0.74       135\n",
      "           2       0.88      0.65      0.75        77\n",
      "           3       0.95      0.55      0.69        64\n",
      "           4       0.22      0.60      0.32        20\n",
      "           5       0.15      0.83      0.25        18\n",
      "           6       1.00      0.52      0.69        63\n",
      "           7       0.14      0.29      0.19        14\n",
      "           8       0.29      0.71      0.42        80\n",
      "           9       0.22      0.04      0.07        50\n",
      "          10       1.00      0.10      0.18       130\n",
      "          11       0.12      0.12      0.12        25\n",
      "          12       0.10      0.38      0.16        16\n",
      "\n",
      "    accuracy                           0.45       692\n",
      "   macro avg       0.51      0.45      0.38       692\n",
      "weighted avg       0.73      0.45      0.47       692\n",
      "\n"
     ]
    }
   ],
   "source": [
    "print(classification_report(np.argmax(y_test, axis=1), np.argmax(pred_sess, axis=1)))"
   ]
  },
  {
   "cell_type": "code",
   "execution_count": 24,
   "metadata": {},
   "outputs": [],
   "source": [
    "# activity_map"
   ]
  },
  {
   "cell_type": "code",
   "execution_count": 25,
   "metadata": {},
   "outputs": [
    {
     "data": {
      "text/plain": [
       "<AxesSubplot:>"
      ]
     },
     "execution_count": 25,
     "metadata": {},
     "output_type": "execute_result"
    },
    {
     "data": {
      "image/png": "[encoded data removed]",
      "text/plain": [
       "<Figure size 720x576 with 2 Axes>"
      ]
     },
     "metadata": {
      "needs_background": "light"
     },
     "output_type": "display_data"
    }
   ],
   "source": [
    "confm = confusion_matrix(np.argmax(y_test, axis=1), np.argmax(pred_sess, axis=1))\n",
    "# activity_list = list(activity_map.values())\n",
    "df_cm = pd.DataFrame(confm)\n",
    "plt.figure(figsize = (10,8))\n",
    "sns.heatmap(df_cm, annot=True, fmt='d', cmap=\"YlGnBu\")"
   ]
  },
  {
   "cell_type": "code",
   "execution_count": 31,
   "metadata": {},
   "outputs": [
    {
     "data": {
      "text/plain": [
       "(692, 15, 13)"
      ]
     },
     "execution_count": 31,
     "metadata": {},
     "output_type": "execute_result"
    }
   ],
   "source": [
    "y_test_mid.shape"
   ]
  },
  {
   "cell_type": "code",
   "execution_count": 32,
   "metadata": {},
   "outputs": [
    {
     "data": {
      "text/plain": [
       "(692, 15, 13)"
      ]
     },
     "execution_count": 32,
     "metadata": {},
     "output_type": "execute_result"
    }
   ],
   "source": [
    "pred_mid.shape"
   ]
  },
  {
   "cell_type": "code",
   "execution_count": 36,
   "metadata": {},
   "outputs": [
    {
     "name": "stdout",
     "output_type": "stream",
     "text": [
      "              precision    recall  f1-score   support\n",
      "\n",
      "           1       1.00      0.60      0.75      2025\n",
      "           2       0.89      0.62      0.73      1155\n",
      "           3       0.95      0.49      0.64       960\n",
      "           4       0.19      0.57      0.29       300\n",
      "           5       0.15      0.82      0.25       270\n",
      "           6       1.00      0.53      0.69       945\n",
      "           7       0.14      0.29      0.19       210\n",
      "           8       0.30      0.73      0.43      1200\n",
      "           9       0.21      0.03      0.06       750\n",
      "          10       1.00      0.11      0.20      1950\n",
      "          11       0.10      0.06      0.07       375\n",
      "          12       0.11      0.48      0.18       240\n",
      "\n",
      "    accuracy                           0.44     10380\n",
      "   macro avg       0.50      0.44      0.37     10380\n",
      "weighted avg       0.73      0.44      0.47     10380\n",
      "\n"
     ]
    }
   ],
   "source": [
    "print(classification_report(np.argmax(y_test_mid.reshape(-1, 13), axis=1), np.argmax(pred_mid.reshape(-1, 13), axis=1)))"
   ]
  },
  {
   "cell_type": "code",
   "execution_count": 37,
   "metadata": {},
   "outputs": [
    {
     "data": {
      "text/plain": [
       "<AxesSubplot:>"
      ]
     },
     "execution_count": 37,
     "metadata": {},
     "output_type": "execute_result"
    },
    {
     "data": {
      "image/png": "[encoded data removed]",
      "text/plain": [
       "<Figure size 720x576 with 2 Axes>"
      ]
     },
     "metadata": {
      "needs_background": "light"
     },
     "output_type": "display_data"
    }
   ],
   "source": [
    "confm = confusion_matrix(np.argmax(y_test_mid.reshape(-1, 13), axis=1), np.argmax(pred_mid.reshape(-1, 13), axis=1))\n",
    "# activity_list = list(activity_map.values())\n",
    "df_cm = pd.DataFrame(confm)\n",
    "plt.figure(figsize = (10,8))\n",
    "sns.heatmap(df_cm, annot=True, fmt='d', cmap=\"YlGnBu\")"
   ]
  },
  {
   "cell_type": "code",
   "execution_count": null,
   "metadata": {},
   "outputs": [],
   "source": []
  }
 ],
 "metadata": {
  "kernelspec": {
   "display_name": "Python 3",
   "language": "python",
   "name": "python3"
  },
  "language_info": {
   "codemirror_mode": {
    "name": "ipython",
    "version": 3
   },
   "file_extension": ".py",
   "mimetype": "text/x-python",
   "name": "python",
   "nbconvert_exporter": "python",
   "pygments_lexer": "ipython3",
   "version": "3.8.5"
  }
 },
 "nbformat": 4,
 "nbformat_minor": 4
}
