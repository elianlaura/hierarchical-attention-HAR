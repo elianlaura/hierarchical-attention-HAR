{
 "cells": [
  {
   "cell_type": "code",
   "execution_count": 1,
   "metadata": {},
   "outputs": [],
   "source": [
    "import tensorflow as tf\n",
    "import numpy as np\n",
    "import pandas as pd\n",
    "from sklearn.metrics import classification_report, confusion_matrix\n",
    "import seaborn as sns\n",
    "import matplotlib.pyplot as plt\n",
    "import sys\n",
    "import yaml\n",
    "\n",
    "sys.path.append(\"../\")\n",
    "\n",
    "%load_ext autoreload\n",
    "%autoreload 2"
   ]
  },
  {
   "cell_type": "code",
   "execution_count": 2,
   "metadata": {},
   "outputs": [],
   "source": [
    "from sklearn.preprocessing import StandardScaler\n",
    "from preprocessing.sliding_window import create_windowed_dataset\n",
    "from model.hierarchical_self_attention_model import HSA_model_session_guided_window"
   ]
  },
  {
   "cell_type": "markdown",
   "metadata": {},
   "source": [
    "### Data loading"
   ]
  },
  {
   "cell_type": "code",
   "execution_count": 3,
   "metadata": {},
   "outputs": [],
   "source": [
    "data_path = '../data/processed/usc-had.csv'\n",
    "df = pd.read_csv(data_path)"
   ]
  },
  {
   "cell_type": "code",
   "execution_count": 4,
   "metadata": {},
   "outputs": [
    {
     "data": {
      "text/html": [
       "<div>\n",
       "<style scoped>\n",
       "    .dataframe tbody tr th:only-of-type {\n",
       "        vertical-align: middle;\n",
       "    }\n",
       "\n",
       "    .dataframe tbody tr th {\n",
       "        vertical-align: top;\n",
       "    }\n",
       "\n",
       "    .dataframe thead th {\n",
       "        text-align: right;\n",
       "    }\n",
       "</style>\n",
       "<table border=\"1\" class=\"dataframe\">\n",
       "  <thead>\n",
       "    <tr style=\"text-align: right;\">\n",
       "      <th></th>\n",
       "      <th>subject</th>\n",
       "      <th>acc_x</th>\n",
       "      <th>acc_y</th>\n",
       "      <th>acc_z</th>\n",
       "      <th>gyr_x</th>\n",
       "      <th>gyr_y</th>\n",
       "      <th>gyr_z</th>\n",
       "      <th>activity</th>\n",
       "    </tr>\n",
       "  </thead>\n",
       "  <tbody>\n",
       "    <tr>\n",
       "      <th>0</th>\n",
       "      <td>11</td>\n",
       "      <td>0.788496</td>\n",
       "      <td>0.429586</td>\n",
       "      <td>0.158079</td>\n",
       "      <td>-9.520525</td>\n",
       "      <td>1.719961</td>\n",
       "      <td>-0.391400</td>\n",
       "      <td>2</td>\n",
       "    </tr>\n",
       "    <tr>\n",
       "      <th>1</th>\n",
       "      <td>11</td>\n",
       "      <td>0.795364</td>\n",
       "      <td>0.425966</td>\n",
       "      <td>0.176379</td>\n",
       "      <td>-8.312029</td>\n",
       "      <td>-0.693527</td>\n",
       "      <td>0.414264</td>\n",
       "      <td>2</td>\n",
       "    </tr>\n",
       "    <tr>\n",
       "      <th>2</th>\n",
       "      <td>11</td>\n",
       "      <td>0.819400</td>\n",
       "      <td>0.454920</td>\n",
       "      <td>0.205661</td>\n",
       "      <td>-5.492205</td>\n",
       "      <td>-3.495776</td>\n",
       "      <td>1.622760</td>\n",
       "      <td>2</td>\n",
       "    </tr>\n",
       "    <tr>\n",
       "      <th>3</th>\n",
       "      <td>11</td>\n",
       "      <td>0.815967</td>\n",
       "      <td>0.454920</td>\n",
       "      <td>0.212981</td>\n",
       "      <td>0.147443</td>\n",
       "      <td>-5.509936</td>\n",
       "      <td>0.817096</td>\n",
       "      <td>2</td>\n",
       "    </tr>\n",
       "    <tr>\n",
       "      <th>4</th>\n",
       "      <td>11</td>\n",
       "      <td>0.840003</td>\n",
       "      <td>0.454920</td>\n",
       "      <td>0.209321</td>\n",
       "      <td>3.772932</td>\n",
       "      <td>-9.135425</td>\n",
       "      <td>-0.794232</td>\n",
       "      <td>2</td>\n",
       "    </tr>\n",
       "  </tbody>\n",
       "</table>\n",
       "</div>"
      ],
      "text/plain": [
       "   subject     acc_x     acc_y     acc_z     gyr_x     gyr_y     gyr_z  \\\n",
       "0       11  0.788496  0.429586  0.158079 -9.520525  1.719961 -0.391400   \n",
       "1       11  0.795364  0.425966  0.176379 -8.312029 -0.693527  0.414264   \n",
       "2       11  0.819400  0.454920  0.205661 -5.492205 -3.495776  1.622760   \n",
       "3       11  0.815967  0.454920  0.212981  0.147443 -5.509936  0.817096   \n",
       "4       11  0.840003  0.454920  0.209321  3.772932 -9.135425 -0.794232   \n",
       "\n",
       "   activity  \n",
       "0         2  \n",
       "1         2  \n",
       "2         2  \n",
       "3         2  \n",
       "4         2  "
      ]
     },
     "execution_count": 4,
     "metadata": {},
     "output_type": "execute_result"
    }
   ],
   "source": [
    "df.head()"
   ]
  },
  {
   "cell_type": "code",
   "execution_count": 5,
   "metadata": {},
   "outputs": [],
   "source": [
    "FEATURES = ['acc_x', 'acc_y', 'acc_z', 'gyr_x', 'gyr_y', 'gyr_z']\n",
    "LABEL = 'activity'"
   ]
  },
  {
   "cell_type": "code",
   "execution_count": 6,
   "metadata": {},
   "outputs": [],
   "source": [
    "df = df.fillna(0)\n",
    "scaler = StandardScaler()\n",
    "df[FEATURES] = scaler.fit_transform(df[FEATURES])"
   ]
  },
  {
   "cell_type": "code",
   "execution_count": 7,
   "metadata": {},
   "outputs": [],
   "source": [
    "hyperparameters = yaml.load(open('../configs/metadata.yaml', mode='r'), Loader=yaml.FullLoader)\n",
    "\n",
    "metadata = yaml.load(open('../configs/metadata.yaml', mode='r'), Loader=yaml.FullLoader)['uschad_preprocess']"
   ]
  },
  {
   "cell_type": "code",
   "execution_count": 8,
   "metadata": {},
   "outputs": [],
   "source": [
    "train_subject = [1, 2, 3, 4, 5, 6, 7, 8, 9, 10, 12]\n",
    "val_subject = [12]\n",
    "test_subject = [13, 14]"
   ]
  },
  {
   "cell_type": "code",
   "execution_count": 9,
   "metadata": {},
   "outputs": [],
   "source": [
    "train_df = df.loc[df['subject'].isin(train_subject)]\n",
    "val_df = df.loc[df['subject'].isin(val_subject)]\n",
    "test_df = df.loc[df['subject'].isin(test_subject)]\n",
    "\n",
    "SLIDING_WINDOW_LENGTH = metadata['sliding_win_len']\n",
    "SLIDING_WINDOW_STEP = metadata['sliding_win_stride']\n",
    "N_WINDOW, N_TIMESTEP = metadata['n_window'], metadata['n_timestep']\n",
    "\n",
    "# FEATURES = metadata['feature_list']\n",
    "\n",
    "X_train, y_train = create_windowed_dataset(\n",
    "    train_df, FEATURES, LABEL, window_size=SLIDING_WINDOW_LENGTH, stride=SLIDING_WINDOW_STEP)\n",
    "X_val, y_val = create_windowed_dataset(\n",
    "    val_df, FEATURES, LABEL, window_size=SLIDING_WINDOW_LENGTH, stride=SLIDING_WINDOW_STEP)\n",
    "X_test, y_test = create_windowed_dataset(\n",
    "    test_df, FEATURES, LABEL, window_size=SLIDING_WINDOW_LENGTH, stride=SLIDING_WINDOW_STEP)\n",
    "\n",
    "X_train = X_train.reshape(\n",
    "    (X_train.shape[0], N_WINDOW, N_TIMESTEP, len(FEATURES)))\n",
    "X_val = X_val.reshape(\n",
    "    (X_val.shape[0], N_WINDOW, N_TIMESTEP, len(FEATURES)))\n",
    "X_test = X_test.reshape(\n",
    "    (X_test.shape[0], N_WINDOW, N_TIMESTEP, len(FEATURES)))\n",
    "\n",
    "y_train = tf.keras.utils.to_categorical(y_train)\n",
    "y_val = tf.keras.utils.to_categorical(y_val)\n",
    "y_test = tf.keras.utils.to_categorical(y_test)"
   ]
  },
  {
   "cell_type": "code",
   "execution_count": 10,
   "metadata": {},
   "outputs": [
    {
     "name": "stdout",
     "output_type": "stream",
     "text": [
      "(6462, 10, 100, 6)\n",
      "(6462, 13)\n"
     ]
    }
   ],
   "source": [
    "print(X_train.shape)\n",
    "print(y_train.shape)"
   ]
  },
  {
   "cell_type": "code",
   "execution_count": 11,
   "metadata": {},
   "outputs": [],
   "source": [
    "y_train_mid = np.repeat(np.expand_dims(y_train, axis=1), repeats=metadata['n_window'], axis=1)\n",
    "y_val_mid = np.repeat(np.expand_dims(y_val, axis=1), repeats=metadata['n_window'], axis=1)\n",
    "y_test_mid = np.repeat(np.expand_dims(y_test, axis=1), repeats=metadata['n_window'], axis=1)"
   ]
  },
  {
   "cell_type": "code",
   "execution_count": 12,
   "metadata": {},
   "outputs": [
    {
     "data": {
      "text/plain": [
       "(6462, 10, 13)"
      ]
     },
     "execution_count": 12,
     "metadata": {},
     "output_type": "execute_result"
    }
   ],
   "source": [
    "y_train_mid.shape"
   ]
  },
  {
   "cell_type": "code",
   "execution_count": 13,
   "metadata": {},
   "outputs": [],
   "source": [
    "hparam_file = open('../configs/hyperparameters.yaml', mode='r')\n",
    "hyperparameters = yaml.load(hparam_file, Loader=yaml.FullLoader)\n",
    "DATASET_NAME = 'uschad'\n",
    "hparams_all = hyperparameters['HSA_model']\n",
    "hparams = hparams_all[DATASET_NAME]\n",
    "\n",
    "hparams['n_window'], hparams['n_timesteps'], hparams['n_features'], hparams['n_outputs'] = X_train.shape[1], X_train.shape[2], X_train.shape[3], y_train.shape[1]\n",
    "hparams['n_outputs_window']=  y_train.shape[1]"
   ]
  },
  {
   "cell_type": "markdown",
   "metadata": {},
   "source": [
    "## Training"
   ]
  },
  {
   "cell_type": "code",
   "execution_count": 14,
   "metadata": {},
   "outputs": [
    {
     "name": "stdout",
     "output_type": "stream",
     "text": [
      "6 Physical GPUs, 6 Logical GPUs\n"
     ]
    }
   ],
   "source": [
    "tf.keras.backend.clear_session()\n",
    "gpus = tf.config.experimental.list_physical_devices('GPU')\n",
    "if gpus:\n",
    "  try:\n",
    "    # Currently, memory growth needs to be the same across GPUs\n",
    "    for gpu in gpus:\n",
    "      tf.config.experimental.set_memory_growth(gpu, True)\n",
    "    logical_gpus = tf.config.experimental.list_logical_devices('GPU')\n",
    "    print(len(gpus), \"Physical GPUs,\", len(logical_gpus), \"Logical GPUs\")\n",
    "  except RuntimeError as e:\n",
    "    # Memory growth must be set before GPUs have been initialized\n",
    "    print(e)"
   ]
  },
  {
   "cell_type": "code",
   "execution_count": 15,
   "metadata": {},
   "outputs": [
    {
     "name": "stdout",
     "output_type": "stream",
     "text": [
      "INFO:tensorflow:Using MirroredStrategy with devices ('/job:localhost/replica:0/task:0/device:GPU:5',)\n",
      "Number of devices: 1\n"
     ]
    }
   ],
   "source": [
    "device_list = ['/gpu:'+str(i) for i in range(5, 6)]\n",
    "strategy = tf.distribute.MirroredStrategy(devices=device_list)\n",
    "print('Number of devices: {}'.format(strategy.num_replicas_in_sync))\n",
    "with strategy.scope():\n",
    "    model = HSA_model_session_guided_window(**hparams).get_compiled_model()"
   ]
  },
  {
   "cell_type": "code",
   "execution_count": 16,
   "metadata": {},
   "outputs": [
    {
     "name": "stdout",
     "output_type": "stream",
     "text": [
      "Model: \"model_1\"\n",
      "__________________________________________________________________________________________________\n",
      "Layer (type)                    Output Shape         Param #     Connected to                     \n",
      "==================================================================================================\n",
      "input_1 (InputLayer)            [(None, 10, 100, 6)] 0                                            \n",
      "__________________________________________________________________________________________________\n",
      "multi_window_encoder (MultiWind ((None, None, 128),  595200      input_1[0][0]                    \n",
      "__________________________________________________________________________________________________\n",
      "modality_encoder_block_1 (Modal (None, None, 128)    412800      multi_window_encoder[0][0]       \n",
      "__________________________________________________________________________________________________\n",
      "combined_sensor_self_attention_ ((None, 128), (None, 198016      modality_encoder_block_1[0][0]   \n",
      "__________________________________________________________________________________________________\n",
      "tf_op_layer_Shape (TensorFlowOp [(2,)]               0           combined_sensor_self_attention_1[\n",
      "__________________________________________________________________________________________________\n",
      "tf_op_layer_ExpandDims (TensorF [(None, 1, 128)]     0           combined_sensor_self_attention_1[\n",
      "__________________________________________________________________________________________________\n",
      "tf_op_layer_strided_slice_1 (Te [(0,)]               0           tf_op_layer_Shape[0][0]          \n",
      "__________________________________________________________________________________________________\n",
      "tf_op_layer_strided_slice_2 (Te [(1,)]               0           tf_op_layer_Shape[0][0]          \n",
      "__________________________________________________________________________________________________\n",
      "tf_op_layer_Tile (TensorFlowOpL [(None, 10, 128)]    0           tf_op_layer_ExpandDims[0][0]     \n",
      "__________________________________________________________________________________________________\n",
      "tf_op_layer_concat (TensorFlowO [(2,)]               0           tf_op_layer_strided_slice_1[0][0]\n",
      "                                                                 tf_op_layer_strided_slice_2[0][0]\n",
      "__________________________________________________________________________________________________\n",
      "tf_op_layer_Reshape (TensorFlow [(None, 128)]        0           tf_op_layer_Tile[0][0]           \n",
      "                                                                 tf_op_layer_concat[0][0]         \n",
      "__________________________________________________________________________________________________\n",
      "reshape (Reshape)               (None, 10, 128)      0           tf_op_layer_Reshape[0][0]        \n",
      "__________________________________________________________________________________________________\n",
      "concatenate (Concatenate)       (None, 10, 256)      0           multi_window_encoder[0][0]       \n",
      "                                                                 reshape[0][0]                    \n",
      "__________________________________________________________________________________________________\n",
      "dense_36 (Dense)                (None, 10, 1024)     263168      concatenate[0][0]                \n",
      "__________________________________________________________________________________________________\n",
      "dense_37 (Dense)                (None, 512)          66048       combined_sensor_self_attention_1[\n",
      "__________________________________________________________________________________________________\n",
      "window_pred (Dense)             (None, 10, 13)       13325       dense_36[0][0]                   \n",
      "__________________________________________________________________________________________________\n",
      "session_pred (Dense)            (None, 13)           6669        dense_37[0][0]                   \n",
      "==================================================================================================\n",
      "Total params: 1,555,226\n",
      "Trainable params: 1,555,226\n",
      "Non-trainable params: 0\n",
      "__________________________________________________________________________________________________\n"
     ]
    }
   ],
   "source": [
    "model.summary()"
   ]
  },
  {
   "cell_type": "code",
   "execution_count": 17,
   "metadata": {},
   "outputs": [],
   "source": [
    "checkpoint_filepath = \"usc_checkpoints/cp-{epoch:04d}.ckpt\"\n",
    "\n",
    "model_checkpoint_callback = tf.keras.callbacks.ModelCheckpoint(filepath=checkpoint_filepath,\n",
    "                                                               save_weights_only=True,\n",
    "                                                               verbose=1)"
   ]
  },
  {
   "cell_type": "code",
   "execution_count": null,
   "metadata": {},
   "outputs": [
    {
     "name": "stdout",
     "output_type": "stream",
     "text": [
      "Epoch 1/45\n",
      "INFO:tensorflow:Reduce to /job:localhost/replica:0/task:0/device:CPU:0 then broadcast to ('/job:localhost/replica:0/task:0/device:CPU:0',).\n",
      "INFO:tensorflow:Reduce to /job:localhost/replica:0/task:0/device:CPU:0 then broadcast to ('/job:localhost/replica:0/task:0/device:CPU:0',).\n",
      "INFO:tensorflow:Reduce to /job:localhost/replica:0/task:0/device:CPU:0 then broadcast to ('/job:localhost/replica:0/task:0/device:CPU:0',).\n",
      "INFO:tensorflow:Reduce to /job:localhost/replica:0/task:0/device:CPU:0 then broadcast to ('/job:localhost/replica:0/task:0/device:CPU:0',).\n",
      "INFO:tensorflow:Reduce to /job:localhost/replica:0/task:0/device:CPU:0 then broadcast to ('/job:localhost/replica:0/task:0/device:CPU:0',).\n",
      "INFO:tensorflow:Reduce to /job:localhost/replica:0/task:0/device:CPU:0 then broadcast to ('/job:localhost/replica:0/task:0/device:CPU:0',).\n",
      "INFO:tensorflow:Reduce to /job:localhost/replica:0/task:0/device:CPU:0 then broadcast to ('/job:localhost/replica:0/task:0/device:CPU:0',).\n",
      "INFO:tensorflow:Reduce to /job:localhost/replica:0/task:0/device:CPU:0 then broadcast to ('/job:localhost/replica:0/task:0/device:CPU:0',).\n",
      "INFO:tensorflow:Reduce to /job:localhost/replica:0/task:0/device:CPU:0 then broadcast to ('/job:localhost/replica:0/task:0/device:CPU:0',).\n",
      "INFO:tensorflow:Reduce to /job:localhost/replica:0/task:0/device:CPU:0 then broadcast to ('/job:localhost/replica:0/task:0/device:CPU:0',).\n",
      "101/101 [==============================] - 37s 371ms/step - window_pred_loss: 0.8353 - loss: 1.7522 - session_pred_accuracy: 0.6569 - session_pred_loss: 0.9170 - window_pred_accuracy: 0.6831 - val_window_pred_loss: 0.2486 - val_loss: 0.5680 - val_session_pred_accuracy: 0.8590 - val_session_pred_loss: 0.3195 - val_window_pred_accuracy: 0.8949\n",
      "Epoch 2/45\n",
      "101/101 [==============================] - 35s 344ms/step - window_pred_loss: 0.4300 - loss: 0.9095 - session_pred_accuracy: 0.8174 - session_pred_loss: 0.4795 - window_pred_accuracy: 0.8304 - val_window_pred_loss: 0.2020 - val_loss: 0.4371 - val_session_pred_accuracy: 0.9119 - val_session_pred_loss: 0.2351 - val_window_pred_accuracy: 0.9279\n",
      "Epoch 3/45\n",
      "101/101 [==============================] - 35s 344ms/step - window_pred_loss: 0.3452 - loss: 0.7249 - session_pred_accuracy: 0.8479 - session_pred_loss: 0.3797 - window_pred_accuracy: 0.8626 - val_window_pred_loss: 0.2424 - val_loss: 0.4956 - val_session_pred_accuracy: 0.8733 - val_session_pred_loss: 0.2532 - val_window_pred_accuracy: 0.8968\n",
      "Epoch 4/45\n",
      "101/101 [==============================] - 35s 344ms/step - window_pred_loss: 0.3670 - loss: 0.7763 - session_pred_accuracy: 0.8417 - session_pred_loss: 0.4093 - window_pred_accuracy: 0.8557 - val_window_pred_loss: 0.1704 - val_loss: 0.3742 - val_session_pred_accuracy: 0.8943 - val_session_pred_loss: 0.2039 - val_window_pred_accuracy: 0.9220\n",
      "Epoch 5/45\n",
      " 46/101 [============>.................] - ETA: 17s - window_pred_loss: 0.3042 - loss: 0.6401 - session_pred_accuracy: 0.8580 - session_pred_loss: 0.3359 - window_pred_accuracy: 0.8786"
     ]
    }
   ],
   "source": [
    "model.fit(X_train, [y_train_mid, y_train], batch_size=len(device_list) * 64, epochs=45, validation_data=(X_val, [y_val_mid, y_val]), use_multiprocessing=True )"
   ]
  },
  {
   "cell_type": "code",
   "execution_count": null,
   "metadata": {},
   "outputs": [],
   "source": [
    "pred_mid, pred_sess = model.predict(X_test, batch_size=len(device_list) * 64)"
   ]
  },
  {
   "cell_type": "code",
   "execution_count": null,
   "metadata": {},
   "outputs": [],
   "source": [
    "activity_map = { 1:'Walking Forward', 2:'Walking Left',  3:'Walking Right',\n",
    "                4:'Walking Upstairs', 5:'Walking Downstairs', 6:'Running Forward',\n",
    "                7:'Jumping Up', 8:'Sitting', 9:'Standing', 10: 'Sleeping',\n",
    "                11:'Elevator Up', 12:'Elevator Down'}\n",
    "activity_list = list(activity_map.values())"
   ]
  },
  {
   "cell_type": "code",
   "execution_count": null,
   "metadata": {},
   "outputs": [],
   "source": [
    "print(classification_report(np.argmax(y_test, axis=1), np.argmax(pred_sess, axis=1), labels=list(activity_map.keys()), target_names=activity_list))"
   ]
  },
  {
   "cell_type": "code",
   "execution_count": 26,
   "metadata": {},
   "outputs": [],
   "source": [
    "# activity_map"
   ]
  },
  {
   "cell_type": "code",
   "execution_count": 27,
   "metadata": {},
   "outputs": [
    {
     "data": {
      "text/plain": [
       "<AxesSubplot:>"
      ]
     },
     "execution_count": 27,
     "metadata": {},
     "output_type": "execute_result"
    },
    {
     "data": {
      "image/png": "[encoded data removed]",
      "text/plain": [
       "<Figure size 720x576 with 2 Axes>"
      ]
     },
     "metadata": {
      "needs_background": "light"
     },
     "output_type": "display_data"
    }
   ],
   "source": [
    "confm = confusion_matrix(np.argmax(y_test, axis=1), np.argmax(pred_sess, axis=1))\n",
    "# activity_list = list(activity_map.values())\n",
    "df_cm = pd.DataFrame(confm, index=activity_list, columns=activity_list)\n",
    "plt.figure(figsize = (10,8))\n",
    "sns.heatmap(df_cm, annot=True, fmt='d', cmap=\"YlGnBu\")"
   ]
  },
  {
   "cell_type": "code",
   "execution_count": 28,
   "metadata": {},
   "outputs": [
    {
     "data": {
      "text/plain": [
       "(797, 10, 13)"
      ]
     },
     "execution_count": 28,
     "metadata": {},
     "output_type": "execute_result"
    }
   ],
   "source": [
    "y_test_mid.shape"
   ]
  },
  {
   "cell_type": "code",
   "execution_count": 29,
   "metadata": {},
   "outputs": [
    {
     "data": {
      "text/plain": [
       "(797, 10, 13)"
      ]
     },
     "execution_count": 29,
     "metadata": {},
     "output_type": "execute_result"
    }
   ],
   "source": [
    "pred_mid.shape"
   ]
  },
  {
   "cell_type": "code",
   "execution_count": 30,
   "metadata": {},
   "outputs": [
    {
     "name": "stdout",
     "output_type": "stream",
     "text": [
      "                    precision    recall  f1-score   support\n",
      "\n",
      "   Walking Forward       0.90      0.63      0.74      1430\n",
      "      Walking Left       0.72      0.82      0.77       860\n",
      "     Walking Right       0.56      0.36      0.44       720\n",
      "  Walking Upstairs       0.26      0.51      0.34       280\n",
      "Walking Downstairs       0.27      0.64      0.38       260\n",
      "   Running Forward       0.64      0.89      0.74       710\n",
      "        Jumping Up       0.56      0.21      0.30       240\n",
      "           Sitting       0.30      0.72      0.43       900\n",
      "          Standing       0.27      0.09      0.13       600\n",
      "          Sleeping       1.00      0.08      0.15      1400\n",
      "       Elevator Up       0.11      0.02      0.04       330\n",
      "     Elevator Down       0.13      0.41      0.20       240\n",
      "\n",
      "          accuracy                           0.47      7970\n",
      "         macro avg       0.48      0.45      0.39      7970\n",
      "      weighted avg       0.62      0.47      0.45      7970\n",
      "\n"
     ]
    }
   ],
   "source": [
    "print(classification_report(np.argmax(y_test_mid.reshape(-1, 13), axis=1), np.argmax(pred_mid.reshape(-1, 13), axis=1), labels=list(activity_map.keys()), target_names=activity_list))"
   ]
  },
  {
   "cell_type": "code",
   "execution_count": 28,
   "metadata": {},
   "outputs": [
    {
     "data": {
      "text/plain": [
       "<AxesSubplot:>"
      ]
     },
     "execution_count": 28,
     "metadata": {},
     "output_type": "execute_result"
    },
    {
     "data": {
      "image/png": "[encoded data removed]",
      "text/plain": [
       "<Figure size 720x576 with 2 Axes>"
      ]
     },
     "metadata": {
      "needs_background": "light"
     },
     "output_type": "display_data"
    }
   ],
   "source": [
    "confm = confusion_matrix(np.argmax(y_test_mid.reshape(-1, 13), axis=1), np.argmax(pred_mid.reshape(-1, 13), axis=1))\n",
    "# activity_list = list(activity_map.values())\n",
    "df_cm = pd.DataFrame(confm, index=activity_list, columns=activity_list)\n",
    "plt.figure(figsize = (10,8))\n",
    "sns.heatmap(df_cm, annot=True, fmt='d', cmap=\"YlGnBu\")"
   ]
  },
  {
   "cell_type": "code",
   "execution_count": null,
   "metadata": {},
   "outputs": [],
   "source": []
  }
 ],
 "metadata": {
  "kernelspec": {
   "display_name": "Python 3",
   "language": "python",
   "name": "python3"
  },
  "language_info": {
   "codemirror_mode": {
    "name": "ipython",
    "version": 3
   },
   "file_extension": ".py",
   "mimetype": "text/x-python",
   "name": "python",
   "nbconvert_exporter": "python",
   "pygments_lexer": "ipython3",
   "version": "3.8.5"
  }
 },
 "nbformat": 4,
 "nbformat_minor": 4
}
