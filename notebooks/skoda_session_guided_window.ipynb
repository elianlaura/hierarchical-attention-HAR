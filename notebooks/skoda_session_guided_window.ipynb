{
 "cells": [
  {
   "cell_type": "code",
   "execution_count": 1,
   "metadata": {},
   "outputs": [],
   "source": [
    "import tensorflow as tf\n",
    "import numpy as np\n",
    "import pandas as pd\n",
    "from sklearn.metrics import classification_report, confusion_matrix\n",
    "import seaborn as sns\n",
    "import matplotlib.pyplot as plt\n",
    "import scipy.io as sio\n",
    "import sys\n",
    "import yaml\n",
    "from sklearn.preprocessing import StandardScaler\n",
    "\n",
    "sys.path.append(\"../\")"
   ]
  },
  {
   "cell_type": "code",
   "execution_count": 2,
   "metadata": {},
   "outputs": [],
   "source": [
    "from preprocessing.sliding_window import create_windowed_dataset\n",
    "from preprocessing.skoda_preprocess import get_train_val_test\n",
    "from model.hierarchical_self_attention_model import HSA_model_session_guided_window"
   ]
  },
  {
   "cell_type": "code",
   "execution_count": 3,
   "metadata": {},
   "outputs": [],
   "source": [
    "%load_ext autoreload\n",
    "%autoreload 2"
   ]
  },
  {
   "cell_type": "code",
   "execution_count": 4,
   "metadata": {},
   "outputs": [],
   "source": [
    "skoda_file = '/home/hariub/data/HAR/raw/SkodaMiniCP_2015_08/right_classall_clean.mat'\n",
    "\n",
    "data_dict = sio.loadmat(skoda_file, squeeze_me=True)\n",
    "all_data = data_dict[list(data_dict.keys())[3]]"
   ]
  },
  {
   "cell_type": "code",
   "execution_count": 5,
   "metadata": {},
   "outputs": [],
   "source": [
    "_x_train, _y_train, _x_test, _y_test, _x_val, _y_val = get_train_val_test(all_data)"
   ]
  },
  {
   "cell_type": "code",
   "execution_count": 6,
   "metadata": {},
   "outputs": [
    {
     "name": "stdout",
     "output_type": "stream",
     "text": [
      "(571774, 60)\n",
      "(571774,)\n",
      "(63535, 60)\n",
      "(63535,)\n",
      "(70595, 60)\n",
      "(70595,)\n"
     ]
    }
   ],
   "source": [
    "print(_x_train.shape)\n",
    "print(_y_train.shape)\n",
    "print(_x_val.shape)\n",
    "print(_y_val.shape)\n",
    "print(_x_test.shape)\n",
    "print(_y_test.shape)"
   ]
  },
  {
   "cell_type": "code",
   "execution_count": 7,
   "metadata": {},
   "outputs": [],
   "source": [
    "import json\n",
    "import os\n",
    "activity_map = json.load(open(os.path.join('..','data', 'activity_maps', 'skoda_activity.json')))"
   ]
  },
  {
   "cell_type": "code",
   "execution_count": 8,
   "metadata": {},
   "outputs": [
    {
     "data": {
      "text/plain": [
       "{'0': 'null',\n",
       " '1': 'write on notepad',\n",
       " '2': 'open hood',\n",
       " '3': 'close hood',\n",
       " '4': 'check gaps on the front door',\n",
       " '5': 'open left front door',\n",
       " '6': 'close left front door',\n",
       " '7': 'close both left door',\n",
       " '8': 'check trunk gaps',\n",
       " '9': 'open and close trunk',\n",
       " '10': 'check steering wheel'}"
      ]
     },
     "execution_count": 8,
     "metadata": {},
     "output_type": "execute_result"
    }
   ],
   "source": [
    "activity_map"
   ]
  },
  {
   "cell_type": "code",
   "execution_count": 9,
   "metadata": {},
   "outputs": [
    {
     "name": "stdout",
     "output_type": "stream",
     "text": [
      "SLIDING_WINDOW_LENGTH : 490\n",
      "SLIDING_WINDOW_STEP : 100\n",
      "N_WINDOW : 10\n",
      "N_TIMESTEP : 49\n"
     ]
    }
   ],
   "source": [
    "metadata = yaml.load(open('../configs/metadata.yaml', mode='r'), Loader=yaml.FullLoader)['skoda_preprocess']\n",
    "\n",
    "SLIDING_WINDOW_LENGTH = metadata['sliding_win_len']\n",
    "SLIDING_WINDOW_STEP = metadata['sliding_win_stride']\n",
    "N_WINDOW, N_TIMESTEP = metadata['n_window'], metadata['n_timestep']\n",
    "\n",
    "print('SLIDING_WINDOW_LENGTH :', SLIDING_WINDOW_LENGTH)\n",
    "print('SLIDING_WINDOW_STEP :', SLIDING_WINDOW_STEP)\n",
    "print('N_WINDOW :', N_WINDOW)\n",
    "print('N_TIMESTEP :', N_TIMESTEP)"
   ]
  },
  {
   "cell_type": "code",
   "execution_count": 10,
   "metadata": {},
   "outputs": [],
   "source": [
    "X_train, y_train = create_windowed_dataset(df=None, features=None, class_label=None, window_size=SLIDING_WINDOW_LENGTH, stride=SLIDING_WINDOW_STEP, X=_x_train, y=_y_train)\n",
    "X_val, y_val = create_windowed_dataset(df=None, features=None, class_label=None, window_size=SLIDING_WINDOW_LENGTH, stride=SLIDING_WINDOW_STEP, X=_x_val, y=_y_val)\n",
    "X_test, y_test = create_windowed_dataset(df=None, features=None, class_label=None, window_size=SLIDING_WINDOW_LENGTH, stride=SLIDING_WINDOW_STEP, X=_x_test, y=_y_test)\n",
    "\n",
    "X_train = X_train.reshape(X_train.shape[0], N_WINDOW, N_TIMESTEP, _x_train.shape[1])\n",
    "X_val = X_val.reshape(X_val.shape[0], N_WINDOW, N_TIMESTEP, _x_val.shape[1])\n",
    "X_test = X_test.reshape(X_test.shape[0], N_WINDOW, N_TIMESTEP, _x_test.shape[1])\n",
    "\n",
    "y_train = tf.keras.utils.to_categorical(y_train)\n",
    "y_val = tf.keras.utils.to_categorical(y_val)\n",
    "y_test = tf.keras.utils.to_categorical(y_test)"
   ]
  },
  {
   "cell_type": "code",
   "execution_count": 11,
   "metadata": {},
   "outputs": [
    {
     "name": "stdout",
     "output_type": "stream",
     "text": [
      "(5667, 10, 49, 60)\n",
      "(5667, 11)\n",
      "(587, 10, 49, 60)\n",
      "(587, 11)\n",
      "(658, 10, 49, 60)\n",
      "(658, 11)\n"
     ]
    }
   ],
   "source": [
    "print(X_train.shape)\n",
    "print(y_train.shape)\n",
    "\n",
    "print(X_val.shape)\n",
    "print(y_val.shape)\n",
    "\n",
    "print(X_test.shape)\n",
    "print(y_test.shape)"
   ]
  },
  {
   "cell_type": "code",
   "execution_count": 12,
   "metadata": {},
   "outputs": [],
   "source": [
    "y_train_mid = np.repeat(np.expand_dims(y_train, axis=1), repeats=N_WINDOW, axis=1)\n",
    "y_val_mid = np.repeat(np.expand_dims(y_val, axis=1), repeats=N_WINDOW, axis=1)\n",
    "y_test_mid = np.repeat(np.expand_dims(y_test, axis=1), repeats=N_WINDOW, axis=1)"
   ]
  },
  {
   "cell_type": "code",
   "execution_count": 13,
   "metadata": {},
   "outputs": [
    {
     "name": "stdout",
     "output_type": "stream",
     "text": [
      "(5667, 10, 11)\n",
      "(587, 10, 11)\n",
      "(658, 10, 11)\n"
     ]
    }
   ],
   "source": [
    "print(y_train_mid.shape)\n",
    "print(y_val_mid.shape)\n",
    "print(y_test_mid.shape)"
   ]
  },
  {
   "cell_type": "code",
   "execution_count": 14,
   "metadata": {},
   "outputs": [],
   "source": [
    "hparam_file = open('../configs/hyperparameters.yaml', mode='r')\n",
    "hyperparameters = yaml.load(hparam_file, Loader=yaml.FullLoader)\n",
    "hparams = hyperparameters['HSA_model']\n",
    "hparams['modality_indices'] = hparams['modality_indices']['skoda']\n",
    "hparams['n_window'], hparams['n_timesteps'], hparams['n_features'], hparams['n_outputs'] = X_train.shape[1], X_train.shape[2], X_train.shape[3], y_train.shape[1]\n",
    "hparams['n_outputs_window'] = len(activity_map)"
   ]
  },
  {
   "cell_type": "code",
   "execution_count": 15,
   "metadata": {},
   "outputs": [
    {
     "name": "stdout",
     "output_type": "stream",
     "text": [
      "8 Physical GPUs, 8 Logical GPUs\n",
      "INFO:tensorflow:Using MirroredStrategy with devices ('/job:localhost/replica:0/task:0/device:GPU:0', '/job:localhost/replica:0/task:0/device:GPU:1', '/job:localhost/replica:0/task:0/device:GPU:2', '/job:localhost/replica:0/task:0/device:GPU:3')\n",
      "Number of devices: 4\n"
     ]
    }
   ],
   "source": [
    "tf.keras.backend.clear_session()\n",
    "gpus = tf.config.experimental.list_physical_devices('GPU')\n",
    "if gpus:\n",
    "  try:\n",
    "    # Currently, memory growth needs to be the same across GPUs\n",
    "    for gpu in gpus:\n",
    "      tf.config.experimental.set_memory_growth(gpu, True)\n",
    "    logical_gpus = tf.config.experimental.list_logical_devices('GPU')\n",
    "    print(len(gpus), \"Physical GPUs,\", len(logical_gpus), \"Logical GPUs\")\n",
    "  except RuntimeError as e:\n",
    "    # Memory growth must be set before GPUs have been initialized\n",
    "    print(e)\n",
    "    \n",
    "device_list = ['/gpu:'+str(i) for i in range(0, 4)]\n",
    "strategy = tf.distribute.MirroredStrategy(devices=device_list)\n",
    "print('Number of devices: {}'.format(strategy.num_replicas_in_sync))\n",
    "with strategy.scope():\n",
    "    model = HSA_model_session_guided_window(**hyperparameters['HSA_model']).get_compiled_model()"
   ]
  },
  {
   "cell_type": "code",
   "execution_count": 16,
   "metadata": {},
   "outputs": [],
   "source": [
    "checkpoint_filepath = \"skoda_checkpoints/cp-{epoch:04d}.ckpt\"\n",
    "\n",
    "model_checkpoint_callback = tf.keras.callbacks.ModelCheckpoint(filepath=checkpoint_filepath,\n",
    "                                                               save_weights_only=True,\n",
    "                                                               verbose=1)"
   ]
  },
  {
   "cell_type": "code",
   "execution_count": 17,
   "metadata": {},
   "outputs": [
    {
     "name": "stdout",
     "output_type": "stream",
     "text": [
      "Model: \"model_1\"\n",
      "__________________________________________________________________________________________________\n",
      "Layer (type)                    Output Shape         Param #     Connected to                     \n",
      "==================================================================================================\n",
      "input_1 (InputLayer)            [(None, 10, 49, 60)] 0                                            \n",
      "__________________________________________________________________________________________________\n",
      "multi_window_encoder (MultiWind ((None, None, 64), ( 1951680     input_1[0][0]                    \n",
      "__________________________________________________________________________________________________\n",
      "modality_encoder_block_19 (Moda (None, None, 64)     104000      multi_window_encoder[0][0]       \n",
      "__________________________________________________________________________________________________\n",
      "combined_sensor_self_attention_ ((None, 64), (None,  49856       modality_encoder_block_19[0][0]  \n",
      "__________________________________________________________________________________________________\n",
      "tf_op_layer_Shape (TensorFlowOp [(2,)]               0           combined_sensor_self_attention_1[\n",
      "__________________________________________________________________________________________________\n",
      "tf_op_layer_ExpandDims (TensorF [(None, 1, 64)]      0           combined_sensor_self_attention_1[\n",
      "__________________________________________________________________________________________________\n",
      "tf_op_layer_strided_slice_19 (T [(0,)]               0           tf_op_layer_Shape[0][0]          \n",
      "__________________________________________________________________________________________________\n",
      "tf_op_layer_strided_slice_20 (T [(1,)]               0           tf_op_layer_Shape[0][0]          \n",
      "__________________________________________________________________________________________________\n",
      "tf_op_layer_Tile (TensorFlowOpL [(None, 10, 64)]     0           tf_op_layer_ExpandDims[0][0]     \n",
      "__________________________________________________________________________________________________\n",
      "tf_op_layer_concat (TensorFlowO [(2,)]               0           tf_op_layer_strided_slice_19[0][0\n",
      "                                                                 tf_op_layer_strided_slice_20[0][0\n",
      "__________________________________________________________________________________________________\n",
      "tf_op_layer_Reshape (TensorFlow [(None, 64)]         0           tf_op_layer_Tile[0][0]           \n",
      "                                                                 tf_op_layer_concat[0][0]         \n",
      "__________________________________________________________________________________________________\n",
      "reshape (Reshape)               (None, 10, 64)       0           tf_op_layer_Reshape[0][0]        \n",
      "__________________________________________________________________________________________________\n",
      "concatenate (Concatenate)       (None, 10, 128)      0           multi_window_encoder[0][0]       \n",
      "                                                                 reshape[0][0]                    \n",
      "__________________________________________________________________________________________________\n",
      "window_pred (Dense)             (None, 10, 11)       1419        concatenate[0][0]                \n",
      "__________________________________________________________________________________________________\n",
      "session_pred (Dense)            (None, 11)           715         combined_sensor_self_attention_1[\n",
      "==================================================================================================\n",
      "Total params: 2,107,670\n",
      "Trainable params: 2,107,670\n",
      "Non-trainable params: 0\n",
      "__________________________________________________________________________________________________\n"
     ]
    }
   ],
   "source": [
    "model.summary()"
   ]
  },
  {
   "cell_type": "code",
   "execution_count": 18,
   "metadata": {},
   "outputs": [
    {
     "name": "stdout",
     "output_type": "stream",
     "text": [
      "Epoch 1/40\n",
      "INFO:tensorflow:batch_all_reduce: 672 all-reduces with algorithm = nccl, num_packs = 1\n",
      "INFO:tensorflow:Reduce to /job:localhost/replica:0/task:0/device:CPU:0 then broadcast to ('/job:localhost/replica:0/task:0/device:CPU:0',).\n",
      "INFO:tensorflow:Reduce to /job:localhost/replica:0/task:0/device:CPU:0 then broadcast to ('/job:localhost/replica:0/task:0/device:CPU:0',).\n",
      "INFO:tensorflow:Reduce to /job:localhost/replica:0/task:0/device:CPU:0 then broadcast to ('/job:localhost/replica:0/task:0/device:CPU:0',).\n",
      "INFO:tensorflow:Reduce to /job:localhost/replica:0/task:0/device:CPU:0 then broadcast to ('/job:localhost/replica:0/task:0/device:CPU:0',).\n",
      "INFO:tensorflow:Reduce to /job:localhost/replica:0/task:0/device:CPU:0 then broadcast to ('/job:localhost/replica:0/task:0/device:CPU:0',).\n",
      "INFO:tensorflow:Reduce to /job:localhost/replica:0/task:0/device:CPU:0 then broadcast to ('/job:localhost/replica:0/task:0/device:CPU:0',).\n",
      "INFO:tensorflow:Reduce to /job:localhost/replica:0/task:0/device:CPU:0 then broadcast to ('/job:localhost/replica:0/task:0/device:CPU:0',).\n",
      "INFO:tensorflow:Reduce to /job:localhost/replica:0/task:0/device:CPU:0 then broadcast to ('/job:localhost/replica:0/task:0/device:CPU:0',).\n",
      "INFO:tensorflow:Reduce to /job:localhost/replica:0/task:0/device:CPU:0 then broadcast to ('/job:localhost/replica:0/task:0/device:CPU:0',).\n",
      "INFO:tensorflow:Reduce to /job:localhost/replica:0/task:0/device:CPU:0 then broadcast to ('/job:localhost/replica:0/task:0/device:CPU:0',).\n",
      "INFO:tensorflow:batch_all_reduce: 672 all-reduces with algorithm = nccl, num_packs = 1\n",
      "23/23 [==============================] - ETA: 0s - loss: 4.9774 - window_pred_loss: 2.4724 - session_pred_loss: 2.5051 - session_pred_accuracy: 0.1772 - window_pred_accuracy: 0.1887\n",
      "Epoch 00001: saving model to skoda_checkpoints/cp-0001.ckpt\n",
      "23/23 [==============================] - 75s 3s/step - loss: 4.9774 - window_pred_loss: 2.4724 - session_pred_loss: 2.5051 - session_pred_accuracy: 0.1772 - window_pred_accuracy: 0.1887 - val_loss: 4.4652 - val_window_pred_loss: 2.1874 - val_session_pred_loss: 2.2778 - val_session_pred_accuracy: 0.2470 - val_window_pred_accuracy: 0.2629\n",
      "Epoch 2/40\n",
      "23/23 [==============================] - ETA: 0s - loss: 4.1881 - window_pred_loss: 1.9193 - session_pred_loss: 2.2687 - session_pred_accuracy: 0.2335 - window_pred_accuracy: 0.3524\n",
      "Epoch 00002: saving model to skoda_checkpoints/cp-0002.ckpt\n",
      "23/23 [==============================] - 33s 1s/step - loss: 4.1881 - window_pred_loss: 1.9193 - session_pred_loss: 2.2687 - session_pred_accuracy: 0.2335 - window_pred_accuracy: 0.3524 - val_loss: 2.7453 - val_window_pred_loss: 1.0989 - val_session_pred_loss: 1.6464 - val_session_pred_accuracy: 0.3305 - val_window_pred_accuracy: 0.5901\n",
      "Epoch 3/40\n",
      "23/23 [==============================] - ETA: 0s - loss: 2.1094 - window_pred_loss: 0.8772 - session_pred_loss: 1.2321 - session_pred_accuracy: 0.5230 - window_pred_accuracy: 0.6621\n",
      "Epoch 00003: saving model to skoda_checkpoints/cp-0003.ckpt\n",
      "23/23 [==============================] - 31s 1s/step - loss: 2.1094 - window_pred_loss: 0.8772 - session_pred_loss: 1.2321 - session_pred_accuracy: 0.5230 - window_pred_accuracy: 0.6621 - val_loss: 1.0501 - val_window_pred_loss: 0.4453 - val_session_pred_loss: 0.6048 - val_session_pred_accuracy: 0.7291 - val_window_pred_accuracy: 0.8308\n",
      "Epoch 4/40\n",
      "23/23 [==============================] - ETA: 0s - loss: 0.7481 - window_pred_loss: 0.3333 - session_pred_loss: 0.4148 - session_pred_accuracy: 0.8198 - window_pred_accuracy: 0.8480\n",
      "Epoch 00004: saving model to skoda_checkpoints/cp-0004.ckpt\n",
      "23/23 [==============================] - 31s 1s/step - loss: 0.7481 - window_pred_loss: 0.3333 - session_pred_loss: 0.4148 - session_pred_accuracy: 0.8198 - window_pred_accuracy: 0.8480 - val_loss: 0.4558 - val_window_pred_loss: 0.2345 - val_session_pred_loss: 0.2214 - val_session_pred_accuracy: 0.8842 - val_window_pred_accuracy: 0.8843\n",
      "Epoch 5/40\n",
      "23/23 [==============================] - ETA: 0s - loss: 0.4978 - window_pred_loss: 0.2379 - session_pred_loss: 0.2599 - session_pred_accuracy: 0.8636 - window_pred_accuracy: 0.8728\n",
      "Epoch 00005: saving model to skoda_checkpoints/cp-0005.ckpt\n",
      "23/23 [==============================] - 31s 1s/step - loss: 0.4978 - window_pred_loss: 0.2379 - session_pred_loss: 0.2599 - session_pred_accuracy: 0.8636 - window_pred_accuracy: 0.8728 - val_loss: 0.3534 - val_window_pred_loss: 0.1794 - val_session_pred_loss: 0.1740 - val_session_pred_accuracy: 0.9114 - val_window_pred_accuracy: 0.8956\n",
      "Epoch 6/40\n",
      "23/23 [==============================] - ETA: 0s - loss: 0.3975 - window_pred_loss: 0.1929 - session_pred_loss: 0.2046 - session_pred_accuracy: 0.8814 - window_pred_accuracy: 0.8906\n",
      "Epoch 00006: saving model to skoda_checkpoints/cp-0006.ckpt\n",
      "23/23 [==============================] - 31s 1s/step - loss: 0.3975 - window_pred_loss: 0.1929 - session_pred_loss: 0.2046 - session_pred_accuracy: 0.8814 - window_pred_accuracy: 0.8906 - val_loss: 0.3199 - val_window_pred_loss: 0.1491 - val_session_pred_loss: 0.1708 - val_session_pred_accuracy: 0.8790 - val_window_pred_accuracy: 0.8993\n",
      "Epoch 7/40\n",
      "23/23 [==============================] - ETA: 0s - loss: 0.3438 - window_pred_loss: 0.1544 - session_pred_loss: 0.1894 - session_pred_accuracy: 0.8991 - window_pred_accuracy: 0.9180\n",
      "Epoch 00007: saving model to skoda_checkpoints/cp-0007.ckpt\n",
      "23/23 [==============================] - 31s 1s/step - loss: 0.3438 - window_pred_loss: 0.1544 - session_pred_loss: 0.1894 - session_pred_accuracy: 0.8991 - window_pred_accuracy: 0.9180 - val_loss: 0.5604 - val_window_pred_loss: 0.2429 - val_session_pred_loss: 0.3175 - val_session_pred_accuracy: 0.8262 - val_window_pred_accuracy: 0.8666\n",
      "Epoch 8/40\n",
      "23/23 [==============================] - ETA: 0s - loss: 0.6219 - window_pred_loss: 0.2949 - session_pred_loss: 0.3271 - session_pred_accuracy: 0.8645 - window_pred_accuracy: 0.8799\n",
      "Epoch 00008: saving model to skoda_checkpoints/cp-0008.ckpt\n",
      "23/23 [==============================] - 31s 1s/step - loss: 0.6219 - window_pred_loss: 0.2949 - session_pred_loss: 0.3271 - session_pred_accuracy: 0.8645 - window_pred_accuracy: 0.8799 - val_loss: 0.2243 - val_window_pred_loss: 0.1087 - val_session_pred_loss: 0.1156 - val_session_pred_accuracy: 0.9574 - val_window_pred_accuracy: 0.9516\n",
      "Epoch 9/40\n",
      "23/23 [==============================] - ETA: 0s - loss: 0.2089 - window_pred_loss: 0.0971 - session_pred_loss: 0.1118 - session_pred_accuracy: 0.9502 - window_pred_accuracy: 0.9516\n",
      "Epoch 00009: saving model to skoda_checkpoints/cp-0009.ckpt\n",
      "23/23 [==============================] - 31s 1s/step - loss: 0.2089 - window_pred_loss: 0.0971 - session_pred_loss: 0.1118 - session_pred_accuracy: 0.9502 - window_pred_accuracy: 0.9516 - val_loss: 0.1239 - val_window_pred_loss: 0.0609 - val_session_pred_loss: 0.0631 - val_session_pred_accuracy: 0.9591 - val_window_pred_accuracy: 0.9591\n",
      "Epoch 10/40\n",
      "23/23 [==============================] - ETA: 0s - loss: 0.1539 - window_pred_loss: 0.0743 - session_pred_loss: 0.0796 - session_pred_accuracy: 0.9578 - window_pred_accuracy: 0.9591\n",
      "Epoch 00010: saving model to skoda_checkpoints/cp-0010.ckpt\n",
      "23/23 [==============================] - 31s 1s/step - loss: 0.1539 - window_pred_loss: 0.0743 - session_pred_loss: 0.0796 - session_pred_accuracy: 0.9578 - window_pred_accuracy: 0.9591 - val_loss: 0.1186 - val_window_pred_loss: 0.0578 - val_session_pred_loss: 0.0608 - val_session_pred_accuracy: 0.9591 - val_window_pred_accuracy: 0.9591\n",
      "Epoch 11/40\n",
      "23/23 [==============================] - ETA: 0s - loss: 0.1537 - window_pred_loss: 0.0761 - session_pred_loss: 0.0776 - session_pred_accuracy: 0.9584 - window_pred_accuracy: 0.9541\n",
      "Epoch 00011: saving model to skoda_checkpoints/cp-0011.ckpt\n",
      "23/23 [==============================] - 31s 1s/step - loss: 0.1537 - window_pred_loss: 0.0761 - session_pred_loss: 0.0776 - session_pred_accuracy: 0.9584 - window_pred_accuracy: 0.9541 - val_loss: 0.1657 - val_window_pred_loss: 0.0862 - val_session_pred_loss: 0.0795 - val_session_pred_accuracy: 0.9489 - val_window_pred_accuracy: 0.9503\n",
      "Epoch 12/40\n",
      "23/23 [==============================] - ETA: 0s - loss: 0.3045 - window_pred_loss: 0.1511 - session_pred_loss: 0.1534 - session_pred_accuracy: 0.9329 - window_pred_accuracy: 0.9307\n",
      "Epoch 00012: saving model to skoda_checkpoints/cp-0012.ckpt\n",
      "23/23 [==============================] - 31s 1s/step - loss: 0.3045 - window_pred_loss: 0.1511 - session_pred_loss: 0.1534 - session_pred_accuracy: 0.9329 - window_pred_accuracy: 0.9307 - val_loss: 0.1324 - val_window_pred_loss: 0.0668 - val_session_pred_loss: 0.0657 - val_session_pred_accuracy: 0.9591 - val_window_pred_accuracy: 0.9748\n",
      "Epoch 13/40\n",
      "23/23 [==============================] - ETA: 0s - loss: 0.1572 - window_pred_loss: 0.0795 - session_pred_loss: 0.0777 - session_pred_accuracy: 0.9561 - window_pred_accuracy: 0.9535\n",
      "Epoch 00013: saving model to skoda_checkpoints/cp-0013.ckpt\n",
      "23/23 [==============================] - 31s 1s/step - loss: 0.1572 - window_pred_loss: 0.0795 - session_pred_loss: 0.0777 - session_pred_accuracy: 0.9561 - window_pred_accuracy: 0.9535 - val_loss: 0.1202 - val_window_pred_loss: 0.0598 - val_session_pred_loss: 0.0603 - val_session_pred_accuracy: 0.9625 - val_window_pred_accuracy: 0.9615\n",
      "Epoch 14/40\n",
      "23/23 [==============================] - ETA: 0s - loss: 0.1392 - window_pred_loss: 0.0688 - session_pred_loss: 0.0704 - session_pred_accuracy: 0.9571 - window_pred_accuracy: 0.9575\n",
      "Epoch 00014: saving model to skoda_checkpoints/cp-0014.ckpt\n",
      "23/23 [==============================] - 31s 1s/step - loss: 0.1392 - window_pred_loss: 0.0688 - session_pred_loss: 0.0704 - session_pred_accuracy: 0.9571 - window_pred_accuracy: 0.9575 - val_loss: 0.1132 - val_window_pred_loss: 0.0569 - val_session_pred_loss: 0.0563 - val_session_pred_accuracy: 0.9625 - val_window_pred_accuracy: 0.9591\n",
      "Epoch 15/40\n",
      "23/23 [==============================] - ETA: 0s - loss: 0.2806 - window_pred_loss: 0.1393 - session_pred_loss: 0.1413 - session_pred_accuracy: 0.9430 - window_pred_accuracy: 0.9404\n",
      "Epoch 00015: saving model to skoda_checkpoints/cp-0015.ckpt\n",
      "23/23 [==============================] - 31s 1s/step - loss: 0.2806 - window_pred_loss: 0.1393 - session_pred_loss: 0.1413 - session_pred_accuracy: 0.9430 - window_pred_accuracy: 0.9404 - val_loss: 3.6524 - val_window_pred_loss: 1.4872 - val_session_pred_loss: 2.1652 - val_session_pred_accuracy: 0.6320 - val_window_pred_accuracy: 0.6702\n",
      "Epoch 16/40\n",
      "23/23 [==============================] - ETA: 0s - loss: 0.6992 - window_pred_loss: 0.3379 - session_pred_loss: 0.3613 - session_pred_accuracy: 0.8788 - window_pred_accuracy: 0.8812\n",
      "Epoch 00016: saving model to skoda_checkpoints/cp-0016.ckpt\n",
      "23/23 [==============================] - 31s 1s/step - loss: 0.6992 - window_pred_loss: 0.3379 - session_pred_loss: 0.3613 - session_pred_accuracy: 0.8788 - window_pred_accuracy: 0.8812 - val_loss: 0.3603 - val_window_pred_loss: 0.1142 - val_session_pred_loss: 0.2461 - val_session_pred_accuracy: 0.8893 - val_window_pred_accuracy: 0.9467\n",
      "Epoch 17/40\n",
      "23/23 [==============================] - ETA: 0s - loss: 0.2817 - window_pred_loss: 0.1287 - session_pred_loss: 0.1530 - session_pred_accuracy: 0.9400 - window_pred_accuracy: 0.9394\n",
      "Epoch 00017: saving model to skoda_checkpoints/cp-0017.ckpt\n",
      "23/23 [==============================] - 31s 1s/step - loss: 0.2817 - window_pred_loss: 0.1287 - session_pred_loss: 0.1530 - session_pred_accuracy: 0.9400 - window_pred_accuracy: 0.9394 - val_loss: 0.1287 - val_window_pred_loss: 0.0646 - val_session_pred_loss: 0.0640 - val_session_pred_accuracy: 0.9625 - val_window_pred_accuracy: 0.9622\n",
      "Epoch 18/40\n",
      "23/23 [==============================] - ETA: 0s - loss: 0.1711 - window_pred_loss: 0.0833 - session_pred_loss: 0.0878 - session_pred_accuracy: 0.9534 - window_pred_accuracy: 0.9545\n",
      "Epoch 00018: saving model to skoda_checkpoints/cp-0018.ckpt\n",
      "23/23 [==============================] - 31s 1s/step - loss: 0.1711 - window_pred_loss: 0.0833 - session_pred_loss: 0.0878 - session_pred_accuracy: 0.9534 - window_pred_accuracy: 0.9545 - val_loss: 0.1198 - val_window_pred_loss: 0.0602 - val_session_pred_loss: 0.0596 - val_session_pred_accuracy: 0.9625 - val_window_pred_accuracy: 0.9625\n",
      "Epoch 19/40\n",
      "23/23 [==============================] - ETA: 0s - loss: 0.1466 - window_pred_loss: 0.0738 - session_pred_loss: 0.0728 - session_pred_accuracy: 0.9552 - window_pred_accuracy: 0.9563\n",
      "Epoch 00019: saving model to skoda_checkpoints/cp-0019.ckpt\n",
      "23/23 [==============================] - 31s 1s/step - loss: 0.1466 - window_pred_loss: 0.0738 - session_pred_loss: 0.0728 - session_pred_accuracy: 0.9552 - window_pred_accuracy: 0.9563 - val_loss: 0.1248 - val_window_pred_loss: 0.0628 - val_session_pred_loss: 0.0620 - val_session_pred_accuracy: 0.9608 - val_window_pred_accuracy: 0.9610\n",
      "Epoch 20/40\n",
      "23/23 [==============================] - ETA: 0s - loss: 0.1397 - window_pred_loss: 0.0696 - session_pred_loss: 0.0701 - session_pred_accuracy: 0.9562 - window_pred_accuracy: 0.9556\n",
      "Epoch 00020: saving model to skoda_checkpoints/cp-0020.ckpt\n",
      "23/23 [==============================] - 31s 1s/step - loss: 0.1397 - window_pred_loss: 0.0696 - session_pred_loss: 0.0701 - session_pred_accuracy: 0.9562 - window_pred_accuracy: 0.9556 - val_loss: 0.1135 - val_window_pred_loss: 0.0567 - val_session_pred_loss: 0.0568 - val_session_pred_accuracy: 0.9625 - val_window_pred_accuracy: 0.9625\n",
      "Epoch 21/40\n",
      "23/23 [==============================] - ETA: 0s - loss: 0.1341 - window_pred_loss: 0.0667 - session_pred_loss: 0.0674 - session_pred_accuracy: 0.9598 - window_pred_accuracy: 0.9572\n",
      "Epoch 00021: saving model to skoda_checkpoints/cp-0021.ckpt\n",
      "23/23 [==============================] - 31s 1s/step - loss: 0.1341 - window_pred_loss: 0.0667 - session_pred_loss: 0.0674 - session_pred_accuracy: 0.9598 - window_pred_accuracy: 0.9572 - val_loss: 0.1121 - val_window_pred_loss: 0.0560 - val_session_pred_loss: 0.0561 - val_session_pred_accuracy: 0.9625 - val_window_pred_accuracy: 0.9632\n",
      "Epoch 22/40\n",
      "23/23 [==============================] - ETA: 0s - loss: 0.1317 - window_pred_loss: 0.0651 - session_pred_loss: 0.0666 - session_pred_accuracy: 0.9561 - window_pred_accuracy: 0.9571\n",
      "Epoch 00022: saving model to skoda_checkpoints/cp-0022.ckpt\n",
      "23/23 [==============================] - 31s 1s/step - loss: 0.1317 - window_pred_loss: 0.0651 - session_pred_loss: 0.0666 - session_pred_accuracy: 0.9561 - window_pred_accuracy: 0.9571 - val_loss: 0.1127 - val_window_pred_loss: 0.0565 - val_session_pred_loss: 0.0562 - val_session_pred_accuracy: 0.9625 - val_window_pred_accuracy: 0.9625\n",
      "Epoch 23/40\n",
      "23/23 [==============================] - ETA: 0s - loss: 0.1298 - window_pred_loss: 0.0638 - session_pred_loss: 0.0660 - session_pred_accuracy: 0.9566 - window_pred_accuracy: 0.9581\n",
      "Epoch 00023: saving model to skoda_checkpoints/cp-0023.ckpt\n",
      "23/23 [==============================] - 31s 1s/step - loss: 0.1298 - window_pred_loss: 0.0638 - session_pred_loss: 0.0660 - session_pred_accuracy: 0.9566 - window_pred_accuracy: 0.9581 - val_loss: 0.1110 - val_window_pred_loss: 0.0553 - val_session_pred_loss: 0.0556 - val_session_pred_accuracy: 0.9591 - val_window_pred_accuracy: 0.9647\n",
      "Epoch 24/40\n",
      "23/23 [==============================] - ETA: 0s - loss: 0.1321 - window_pred_loss: 0.0657 - session_pred_loss: 0.0664 - session_pred_accuracy: 0.9548 - window_pred_accuracy: 0.9561\n",
      "Epoch 00024: saving model to skoda_checkpoints/cp-0024.ckpt\n",
      "23/23 [==============================] - 31s 1s/step - loss: 0.1321 - window_pred_loss: 0.0657 - session_pred_loss: 0.0664 - session_pred_accuracy: 0.9548 - window_pred_accuracy: 0.9561 - val_loss: 0.1121 - val_window_pred_loss: 0.0565 - val_session_pred_loss: 0.0556 - val_session_pred_accuracy: 0.9591 - val_window_pred_accuracy: 0.9591\n",
      "Epoch 25/40\n",
      "23/23 [==============================] - ETA: 0s - loss: 0.2659 - window_pred_loss: 0.1283 - session_pred_loss: 0.1375 - session_pred_accuracy: 0.9381 - window_pred_accuracy: 0.9384\n",
      "Epoch 00025: saving model to skoda_checkpoints/cp-0025.ckpt\n",
      "23/23 [==============================] - 31s 1s/step - loss: 0.2659 - window_pred_loss: 0.1283 - session_pred_loss: 0.1375 - session_pred_accuracy: 0.9381 - window_pred_accuracy: 0.9384 - val_loss: 0.1265 - val_window_pred_loss: 0.0656 - val_session_pred_loss: 0.0609 - val_session_pred_accuracy: 0.9591 - val_window_pred_accuracy: 0.9591\n",
      "Epoch 26/40\n",
      "23/23 [==============================] - ETA: 0s - loss: 0.1464 - window_pred_loss: 0.0739 - session_pred_loss: 0.0725 - session_pred_accuracy: 0.9573 - window_pred_accuracy: 0.9571\n",
      "Epoch 00026: saving model to skoda_checkpoints/cp-0026.ckpt\n",
      "23/23 [==============================] - 31s 1s/step - loss: 0.1464 - window_pred_loss: 0.0739 - session_pred_loss: 0.0725 - session_pred_accuracy: 0.9573 - window_pred_accuracy: 0.9571 - val_loss: 0.1142 - val_window_pred_loss: 0.0583 - val_session_pred_loss: 0.0559 - val_session_pred_accuracy: 0.9591 - val_window_pred_accuracy: 0.9591\n",
      "Epoch 27/40\n",
      "23/23 [==============================] - ETA: 0s - loss: 0.1277 - window_pred_loss: 0.0635 - session_pred_loss: 0.0642 - session_pred_accuracy: 0.9596 - window_pred_accuracy: 0.9589\n",
      "Epoch 00027: saving model to skoda_checkpoints/cp-0027.ckpt\n",
      "23/23 [==============================] - 31s 1s/step - loss: 0.1277 - window_pred_loss: 0.0635 - session_pred_loss: 0.0642 - session_pred_accuracy: 0.9596 - window_pred_accuracy: 0.9589 - val_loss: 0.1097 - val_window_pred_loss: 0.0543 - val_session_pred_loss: 0.0553 - val_session_pred_accuracy: 0.9625 - val_window_pred_accuracy: 0.9773\n",
      "Epoch 28/40\n",
      "23/23 [==============================] - ETA: 0s - loss: 0.1277 - window_pred_loss: 0.0627 - session_pred_loss: 0.0650 - session_pred_accuracy: 0.9573 - window_pred_accuracy: 0.9596\n",
      "Epoch 00028: saving model to skoda_checkpoints/cp-0028.ckpt\n",
      "23/23 [==============================] - 31s 1s/step - loss: 0.1277 - window_pred_loss: 0.0627 - session_pred_loss: 0.0650 - session_pred_accuracy: 0.9573 - window_pred_accuracy: 0.9596 - val_loss: 0.1134 - val_window_pred_loss: 0.0583 - val_session_pred_loss: 0.0550 - val_session_pred_accuracy: 0.9625 - val_window_pred_accuracy: 0.9591\n",
      "Epoch 29/40\n",
      "23/23 [==============================] - ETA: 0s - loss: 0.1238 - window_pred_loss: 0.0614 - session_pred_loss: 0.0624 - session_pred_accuracy: 0.9603 - window_pred_accuracy: 0.9608\n",
      "Epoch 00029: saving model to skoda_checkpoints/cp-0029.ckpt\n",
      "23/23 [==============================] - 31s 1s/step - loss: 0.1238 - window_pred_loss: 0.0614 - session_pred_loss: 0.0624 - session_pred_accuracy: 0.9603 - window_pred_accuracy: 0.9608 - val_loss: 0.1162 - val_window_pred_loss: 0.0607 - val_session_pred_loss: 0.0556 - val_session_pred_accuracy: 0.9591 - val_window_pred_accuracy: 0.9591\n",
      "Epoch 30/40\n",
      "23/23 [==============================] - ETA: 0s - loss: 0.1245 - window_pred_loss: 0.0610 - session_pred_loss: 0.0636 - session_pred_accuracy: 0.9578 - window_pred_accuracy: 0.9623\n",
      "Epoch 00030: saving model to skoda_checkpoints/cp-0030.ckpt\n",
      "23/23 [==============================] - 31s 1s/step - loss: 0.1245 - window_pred_loss: 0.0610 - session_pred_loss: 0.0636 - session_pred_accuracy: 0.9578 - window_pred_accuracy: 0.9623 - val_loss: 0.1217 - val_window_pred_loss: 0.0666 - val_session_pred_loss: 0.0551 - val_session_pred_accuracy: 0.9625 - val_window_pred_accuracy: 0.9591\n",
      "Epoch 31/40\n",
      "23/23 [==============================] - ETA: 0s - loss: 0.1268 - window_pred_loss: 0.0638 - session_pred_loss: 0.0630 - session_pred_accuracy: 0.9589 - window_pred_accuracy: 0.9582\n",
      "Epoch 00031: saving model to skoda_checkpoints/cp-0031.ckpt\n",
      "23/23 [==============================] - 31s 1s/step - loss: 0.1268 - window_pred_loss: 0.0638 - session_pred_loss: 0.0630 - session_pred_accuracy: 0.9589 - window_pred_accuracy: 0.9582 - val_loss: 0.1094 - val_window_pred_loss: 0.0542 - val_session_pred_loss: 0.0552 - val_session_pred_accuracy: 0.9625 - val_window_pred_accuracy: 0.9712\n",
      "Epoch 32/40\n",
      "23/23 [==============================] - ETA: 0s - loss: 0.1291 - window_pred_loss: 0.0648 - session_pred_loss: 0.0643 - session_pred_accuracy: 0.9589 - window_pred_accuracy: 0.9603\n",
      "Epoch 00032: saving model to skoda_checkpoints/cp-0032.ckpt\n",
      "23/23 [==============================] - 31s 1s/step - loss: 0.1291 - window_pred_loss: 0.0648 - session_pred_loss: 0.0643 - session_pred_accuracy: 0.9589 - window_pred_accuracy: 0.9603 - val_loss: 0.1107 - val_window_pred_loss: 0.0545 - val_session_pred_loss: 0.0562 - val_session_pred_accuracy: 0.9591 - val_window_pred_accuracy: 0.9625\n",
      "Epoch 33/40\n",
      "23/23 [==============================] - ETA: 0s - loss: 0.1264 - window_pred_loss: 0.0624 - session_pred_loss: 0.0640 - session_pred_accuracy: 0.9584 - window_pred_accuracy: 0.9622\n",
      "Epoch 00033: saving model to skoda_checkpoints/cp-0033.ckpt\n",
      "23/23 [==============================] - 31s 1s/step - loss: 0.1264 - window_pred_loss: 0.0624 - session_pred_loss: 0.0640 - session_pred_accuracy: 0.9584 - window_pred_accuracy: 0.9622 - val_loss: 0.1205 - val_window_pred_loss: 0.0584 - val_session_pred_loss: 0.0621 - val_session_pred_accuracy: 0.9591 - val_window_pred_accuracy: 0.9591\n",
      "Epoch 34/40\n",
      "23/23 [==============================] - ETA: 0s - loss: 0.1269 - window_pred_loss: 0.0624 - session_pred_loss: 0.0646 - session_pred_accuracy: 0.9557 - window_pred_accuracy: 0.9571\n",
      "Epoch 00034: saving model to skoda_checkpoints/cp-0034.ckpt\n",
      "23/23 [==============================] - 31s 1s/step - loss: 0.1269 - window_pred_loss: 0.0624 - session_pred_loss: 0.0646 - session_pred_accuracy: 0.9557 - window_pred_accuracy: 0.9571 - val_loss: 0.1108 - val_window_pred_loss: 0.0557 - val_session_pred_loss: 0.0552 - val_session_pred_accuracy: 0.9591 - val_window_pred_accuracy: 0.9591\n",
      "Epoch 35/40\n",
      "23/23 [==============================] - ETA: 0s - loss: 0.1224 - window_pred_loss: 0.0611 - session_pred_loss: 0.0613 - session_pred_accuracy: 0.9584 - window_pred_accuracy: 0.9586\n",
      "Epoch 00035: saving model to skoda_checkpoints/cp-0035.ckpt\n",
      "23/23 [==============================] - 30s 1s/step - loss: 0.1224 - window_pred_loss: 0.0611 - session_pred_loss: 0.0613 - session_pred_accuracy: 0.9584 - window_pred_accuracy: 0.9586 - val_loss: 0.1099 - val_window_pred_loss: 0.0550 - val_session_pred_loss: 0.0549 - val_session_pred_accuracy: 0.9591 - val_window_pred_accuracy: 0.9593\n",
      "Epoch 36/40\n",
      "23/23 [==============================] - ETA: 0s - loss: 0.1214 - window_pred_loss: 0.0607 - session_pred_loss: 0.0607 - session_pred_accuracy: 0.9598 - window_pred_accuracy: 0.9599\n",
      "Epoch 00036: saving model to skoda_checkpoints/cp-0036.ckpt\n",
      "23/23 [==============================] - 30s 1s/step - loss: 0.1214 - window_pred_loss: 0.0607 - session_pred_loss: 0.0607 - session_pred_accuracy: 0.9598 - window_pred_accuracy: 0.9599 - val_loss: 0.1079 - val_window_pred_loss: 0.0533 - val_session_pred_loss: 0.0545 - val_session_pred_accuracy: 0.9779 - val_window_pred_accuracy: 0.9693\n",
      "Epoch 37/40\n",
      "23/23 [==============================] - ETA: 0s - loss: 0.1228 - window_pred_loss: 0.0607 - session_pred_loss: 0.0621 - session_pred_accuracy: 0.9594 - window_pred_accuracy: 0.9603\n",
      "Epoch 00037: saving model to skoda_checkpoints/cp-0037.ckpt\n",
      "23/23 [==============================] - 31s 1s/step - loss: 0.1228 - window_pred_loss: 0.0607 - session_pred_loss: 0.0621 - session_pred_accuracy: 0.9594 - window_pred_accuracy: 0.9603 - val_loss: 0.1134 - val_window_pred_loss: 0.0586 - val_session_pred_loss: 0.0548 - val_session_pred_accuracy: 0.9591 - val_window_pred_accuracy: 0.9591\n",
      "Epoch 38/40\n",
      "23/23 [==============================] - ETA: 0s - loss: 0.1197 - window_pred_loss: 0.0587 - session_pred_loss: 0.0610 - session_pred_accuracy: 0.9628 - window_pred_accuracy: 0.9649\n",
      "Epoch 00038: saving model to skoda_checkpoints/cp-0038.ckpt\n",
      "23/23 [==============================] - 31s 1s/step - loss: 0.1197 - window_pred_loss: 0.0587 - session_pred_loss: 0.0610 - session_pred_accuracy: 0.9628 - window_pred_accuracy: 0.9649 - val_loss: 0.1121 - val_window_pred_loss: 0.0576 - val_session_pred_loss: 0.0546 - val_session_pred_accuracy: 0.9949 - val_window_pred_accuracy: 0.9593\n",
      "Epoch 39/40\n",
      "23/23 [==============================] - ETA: 0s - loss: 0.1217 - window_pred_loss: 0.0601 - session_pred_loss: 0.0616 - session_pred_accuracy: 0.9582 - window_pred_accuracy: 0.9620\n",
      "Epoch 00039: saving model to skoda_checkpoints/cp-0039.ckpt\n",
      "23/23 [==============================] - 33s 1s/step - loss: 0.1217 - window_pred_loss: 0.0601 - session_pred_loss: 0.0616 - session_pred_accuracy: 0.9582 - window_pred_accuracy: 0.9620 - val_loss: 0.1089 - val_window_pred_loss: 0.0545 - val_session_pred_loss: 0.0544 - val_session_pred_accuracy: 0.9625 - val_window_pred_accuracy: 0.9603\n",
      "Epoch 40/40\n",
      "23/23 [==============================] - ETA: 0s - loss: 0.1231 - window_pred_loss: 0.0614 - session_pred_loss: 0.0616 - session_pred_accuracy: 0.9589 - window_pred_accuracy: 0.9608\n",
      "Epoch 00040: saving model to skoda_checkpoints/cp-0040.ckpt\n",
      "23/23 [==============================] - 31s 1s/step - loss: 0.1231 - window_pred_loss: 0.0614 - session_pred_loss: 0.0616 - session_pred_accuracy: 0.9589 - window_pred_accuracy: 0.9608 - val_loss: 0.1095 - val_window_pred_loss: 0.0544 - val_session_pred_loss: 0.0551 - val_session_pred_accuracy: 0.9591 - val_window_pred_accuracy: 0.9625\n"
     ]
    },
    {
     "data": {
      "text/plain": [
       "<tensorflow.python.keras.callbacks.History at 0x7f8414460df0>"
      ]
     },
     "execution_count": 18,
     "metadata": {},
     "output_type": "execute_result"
    }
   ],
   "source": [
    "model.fit(X_train, [y_train_mid, y_train], batch_size=len(device_list) * 64, epochs=40, validation_data=(X_val, [y_val_mid, y_val]), callbacks=[model_checkpoint_callback], use_multiprocessing=True)"
   ]
  },
  {
   "cell_type": "code",
   "execution_count": 19,
   "metadata": {},
   "outputs": [],
   "source": [
    "pred_mid, pred_sess = model.predict(X_test, batch_size=len(device_list) * 64)"
   ]
  },
  {
   "cell_type": "markdown",
   "metadata": {},
   "source": [
    "## Session Level Result"
   ]
  },
  {
   "cell_type": "code",
   "execution_count": 27,
   "metadata": {},
   "outputs": [
    {
     "name": "stdout",
     "output_type": "stream",
     "text": [
      "                              precision    recall  f1-score   support\n",
      "\n",
      "                        null       1.00      1.00      1.00       162\n",
      "            write on notepad       1.00      1.00      1.00        58\n",
      "                   open hood       1.00      1.00      1.00        69\n",
      "                  close hood       1.00      1.00      1.00        66\n",
      "check gaps on the front door       1.00      1.00      1.00        46\n",
      "        open left front door       1.00      0.00      0.00        27\n",
      "       close left front door       0.48      1.00      0.65        25\n",
      "        close both left door       1.00      1.00      1.00        50\n",
      "            check trunk gaps       1.00      1.00      1.00        55\n",
      "        open and close trunk       1.00      1.00      1.00        65\n",
      "        check steering wheel       1.00      1.00      1.00        35\n",
      "\n",
      "                    accuracy                           0.96       658\n",
      "                   macro avg       0.95      0.91      0.88       658\n",
      "                weighted avg       0.98      0.96      0.95       658\n",
      "\n"
     ]
    }
   ],
   "source": [
    "print(classification_report(np.argmax(y_test, axis=1), np.argmax(pred_sess, axis=1), labels=list(map(int, list(activity_map.keys()))), target_names=list(activity_map.values()), zero_division=1))"
   ]
  },
  {
   "cell_type": "markdown",
   "metadata": {},
   "source": [
    "## Window Level Result"
   ]
  },
  {
   "cell_type": "code",
   "execution_count": 28,
   "metadata": {},
   "outputs": [
    {
     "name": "stdout",
     "output_type": "stream",
     "text": [
      "                              precision    recall  f1-score   support\n",
      "\n",
      "                        null       1.00      1.00      1.00      1620\n",
      "            write on notepad       1.00      1.00      1.00       580\n",
      "                   open hood       1.00      1.00      1.00       690\n",
      "                  close hood       1.00      1.00      1.00       660\n",
      "check gaps on the front door       1.00      1.00      1.00       460\n",
      "        open left front door       0.52      1.00      0.68       270\n",
      "       close left front door       1.00      0.00      0.00       250\n",
      "        close both left door       1.00      1.00      1.00       500\n",
      "            check trunk gaps       1.00      1.00      1.00       550\n",
      "        open and close trunk       1.00      1.00      1.00       650\n",
      "        check steering wheel       1.00      1.00      1.00       350\n",
      "\n",
      "                    accuracy                           0.96      6580\n",
      "                   macro avg       0.96      0.91      0.88      6580\n",
      "                weighted avg       0.98      0.96      0.95      6580\n",
      "\n"
     ]
    }
   ],
   "source": [
    "print(classification_report(np.argmax(y_test_mid.reshape(-1, len(activity_map)), axis=1), np.argmax(pred_mid.reshape(-1, len(activity_map)), axis=1), labels=list(map(int, list(activity_map.keys()))), target_names=list(activity_map.values()), zero_division=1))"
   ]
  },
  {
   "cell_type": "code",
   "execution_count": 42,
   "metadata": {},
   "outputs": [
    {
     "data": {
      "text/plain": [
       "<AxesSubplot:>"
      ]
     },
     "execution_count": 42,
     "metadata": {},
     "output_type": "execute_result"
    },
    {
     "data": {
      "image/png": "[encoded data removed]",
      "text/plain": [
       "<Figure size 1080x864 with 2 Axes>"
      ]
     },
     "metadata": {
      "needs_background": "light"
     },
     "output_type": "display_data"
    }
   ],
   "source": [
    "confm = confusion_matrix(np.argmax(y_test, axis=1), np.argmax(pred_sess, axis=1), labels=list(map(int, list(activity_map.keys()))), normalize='pred')\n",
    "activity_list = list(activity_map.values())\n",
    "df_cm = pd.DataFrame(confm, index=activity_list, columns=activity_list)\n",
    "plt.figure(figsize = (15, 12))\n",
    "sns.heatmap(df_cm, annot=True, fmt='0.3f', cmap=\"YlGnBu\")"
   ]
  },
  {
   "cell_type": "code",
   "execution_count": null,
   "metadata": {},
   "outputs": [],
   "source": []
  }
 ],
 "metadata": {
  "kernelspec": {
   "display_name": "Python 3",
   "language": "python",
   "name": "python3"
  },
  "language_info": {
   "codemirror_mode": {
    "name": "ipython",
    "version": 3
   },
   "file_extension": ".py",
   "mimetype": "text/x-python",
   "name": "python",
   "nbconvert_exporter": "python",
   "pygments_lexer": "ipython3",
   "version": "3.8.5"
  }
 },
 "nbformat": 4,
 "nbformat_minor": 4
}
