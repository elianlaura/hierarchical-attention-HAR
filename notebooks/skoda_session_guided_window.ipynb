{
 "cells": [
  {
   "cell_type": "code",
   "execution_count": 1,
   "metadata": {},
   "outputs": [],
   "source": [
    "import tensorflow as tf\n",
    "import numpy as np\n",
    "import pandas as pd\n",
    "from sklearn.metrics import classification_report, confusion_matrix\n",
    "import seaborn as sns\n",
    "import matplotlib.pyplot as plt\n",
    "import scipy.io as sio\n",
    "import sys\n",
    "import yaml\n",
    "from sklearn.preprocessing import StandardScaler\n",
    "\n",
    "sys.path.append(\"../\")"
   ]
  },
  {
   "cell_type": "code",
   "execution_count": 2,
   "metadata": {},
   "outputs": [],
   "source": [
    "from preprocessing.sliding_window import create_windowed_dataset\n",
    "from preprocessing.skoda_preprocess import get_train_val_test\n",
    "from model.hierarchical_self_attention_model import HSA_model_session_guided_window"
   ]
  },
  {
   "cell_type": "code",
   "execution_count": 3,
   "metadata": {},
   "outputs": [],
   "source": [
    "%load_ext autoreload\n",
    "%autoreload 2"
   ]
  },
  {
   "cell_type": "code",
   "execution_count": 4,
   "metadata": {},
   "outputs": [],
   "source": [
    "skoda_file = '/home/hariub/data/HAR/raw/SkodaMiniCP_2015_08/right_classall_clean.mat'\n",
    "\n",
    "data_dict = sio.loadmat(skoda_file, squeeze_me=True)\n",
    "all_data = data_dict[list(data_dict.keys())[3]]"
   ]
  },
  {
   "cell_type": "code",
   "execution_count": 5,
   "metadata": {},
   "outputs": [],
   "source": [
    "_x_train, _y_train, _x_test, _y_test, _x_val, _y_val = get_train_val_test(all_data)"
   ]
  },
  {
   "cell_type": "code",
   "execution_count": 6,
   "metadata": {},
   "outputs": [
    {
     "name": "stdout",
     "output_type": "stream",
     "text": [
      "(571774, 60)\n",
      "(571774,)\n",
      "(63535, 60)\n",
      "(63535,)\n",
      "(70595, 60)\n",
      "(70595,)\n"
     ]
    }
   ],
   "source": [
    "print(_x_train.shape)\n",
    "print(_y_train.shape)\n",
    "print(_x_val.shape)\n",
    "print(_y_val.shape)\n",
    "print(_x_test.shape)\n",
    "print(_y_test.shape)"
   ]
  },
  {
   "cell_type": "code",
   "execution_count": 7,
   "metadata": {},
   "outputs": [],
   "source": [
    "import json\n",
    "import os\n",
    "activity_map = json.load(open(os.path.join('..','data', 'activity_maps', 'skoda_activity.json')))"
   ]
  },
  {
   "cell_type": "code",
   "execution_count": 8,
   "metadata": {},
   "outputs": [
    {
     "data": {
      "text/plain": [
       "{'0': 'null',\n",
       " '1': 'write on notepad',\n",
       " '2': 'open hood',\n",
       " '3': 'close hood',\n",
       " '4': 'check gaps on the front door',\n",
       " '5': 'open left front door',\n",
       " '6': 'close left front door',\n",
       " '7': 'close both left door',\n",
       " '8': 'check trunk gaps',\n",
       " '9': 'open and close trunk',\n",
       " '10': 'check steering wheel'}"
      ]
     },
     "execution_count": 8,
     "metadata": {},
     "output_type": "execute_result"
    }
   ],
   "source": [
    "activity_map"
   ]
  },
  {
   "cell_type": "code",
   "execution_count": 9,
   "metadata": {},
   "outputs": [
    {
     "name": "stdout",
     "output_type": "stream",
     "text": [
      "SLIDING_WINDOW_LENGTH : 715\n",
      "SLIDING_WINDOW_STEP : 245\n",
      "N_WINDOW : 13\n",
      "N_TIMESTEP : 55\n"
     ]
    }
   ],
   "source": [
    "metadata = yaml.load(open('../configs/metadata.yaml', mode='r'), Loader=yaml.FullLoader)['skoda_preprocess']\n",
    "\n",
    "SLIDING_WINDOW_LENGTH = metadata['sliding_win_len']\n",
    "SLIDING_WINDOW_STEP = metadata['sliding_win_stride']\n",
    "N_WINDOW, N_TIMESTEP = metadata['n_window'], metadata['n_timestep']\n",
    "\n",
    "print('SLIDING_WINDOW_LENGTH :', SLIDING_WINDOW_LENGTH)\n",
    "print('SLIDING_WINDOW_STEP :', SLIDING_WINDOW_STEP)\n",
    "print('N_WINDOW :', N_WINDOW)\n",
    "print('N_TIMESTEP :', N_TIMESTEP)"
   ]
  },
  {
   "cell_type": "code",
   "execution_count": 10,
   "metadata": {},
   "outputs": [],
   "source": [
    "X_train, y_train = create_windowed_dataset(df=None, features=None, class_label=None, window_size=SLIDING_WINDOW_LENGTH, stride=SLIDING_WINDOW_STEP, X=_x_train, y=_y_train)\n",
    "X_val, y_val = create_windowed_dataset(df=None, features=None, class_label=None, window_size=SLIDING_WINDOW_LENGTH, stride=SLIDING_WINDOW_STEP, X=_x_val, y=_y_val)\n",
    "X_test, y_test = create_windowed_dataset(df=None, features=None, class_label=None, window_size=SLIDING_WINDOW_LENGTH, stride=SLIDING_WINDOW_STEP, X=_x_test, y=_y_test)\n",
    "\n",
    "X_train = X_train.reshape(X_train.shape[0], N_WINDOW, N_TIMESTEP, _x_train.shape[1])\n",
    "X_val = X_val.reshape(X_val.shape[0], N_WINDOW, N_TIMESTEP, _x_val.shape[1])\n",
    "X_test = X_test.reshape(X_test.shape[0], N_WINDOW, N_TIMESTEP, _x_test.shape[1])\n",
    "\n",
    "y_train = tf.keras.utils.to_categorical(y_train)\n",
    "y_val = tf.keras.utils.to_categorical(y_val)\n",
    "y_test = tf.keras.utils.to_categorical(y_test)"
   ]
  },
  {
   "cell_type": "code",
   "execution_count": 11,
   "metadata": {},
   "outputs": [
    {
     "name": "stdout",
     "output_type": "stream",
     "text": [
      "(2308, 13, 55, 60)\n",
      "(2308, 11)\n",
      "(233, 13, 55, 60)\n",
      "(233, 11)\n",
      "(261, 13, 55, 60)\n",
      "(261, 11)\n"
     ]
    }
   ],
   "source": [
    "print(X_train.shape)\n",
    "print(y_train.shape)\n",
    "\n",
    "print(X_val.shape)\n",
    "print(y_val.shape)\n",
    "\n",
    "print(X_test.shape)\n",
    "print(y_test.shape)"
   ]
  },
  {
   "cell_type": "code",
   "execution_count": 12,
   "metadata": {},
   "outputs": [],
   "source": [
    "y_train_mid = np.repeat(np.expand_dims(y_train, axis=1), repeats=N_WINDOW, axis=1)\n",
    "y_val_mid = np.repeat(np.expand_dims(y_val, axis=1), repeats=N_WINDOW, axis=1)\n",
    "y_test_mid = np.repeat(np.expand_dims(y_test, axis=1), repeats=N_WINDOW, axis=1)"
   ]
  },
  {
   "cell_type": "code",
   "execution_count": 13,
   "metadata": {},
   "outputs": [
    {
     "name": "stdout",
     "output_type": "stream",
     "text": [
      "(2308, 13, 11)\n",
      "(233, 13, 11)\n",
      "(261, 13, 11)\n"
     ]
    }
   ],
   "source": [
    "print(y_train_mid.shape)\n",
    "print(y_val_mid.shape)\n",
    "print(y_test_mid.shape)"
   ]
  },
  {
   "cell_type": "code",
   "execution_count": 14,
   "metadata": {},
   "outputs": [],
   "source": [
    "hparam_file = open('../configs/hyperparameters.yaml', mode='r')\n",
    "hyperparameters = yaml.load(hparam_file, Loader=yaml.FullLoader)\n",
    "\n",
    "hparams = hyperparameters['HSA_model']['skoda']\n",
    "hparams['modality_indices'] = hyperparameters['HSA_model']['modality_indices']['skoda']\n",
    "hparams['n_window'], hparams['n_timesteps'], hparams['n_features'], hparams['n_outputs'] = X_train.shape[1], X_train.shape[2], X_train.shape[3], y_train.shape[1]\n",
    "hparams['n_outputs_window'] = len(activity_map)"
   ]
  },
  {
   "cell_type": "code",
   "execution_count": 15,
   "metadata": {},
   "outputs": [
    {
     "data": {
      "text/plain": [
       "{'modality_indices': [0,\n",
       "  3,\n",
       "  6,\n",
       "  9,\n",
       "  12,\n",
       "  15,\n",
       "  18,\n",
       "  21,\n",
       "  24,\n",
       "  27,\n",
       "  30,\n",
       "  33,\n",
       "  36,\n",
       "  39,\n",
       "  42,\n",
       "  45,\n",
       "  48,\n",
       "  51,\n",
       "  54,\n",
       "  57],\n",
       " 'dff': 256,\n",
       " 'd_model': 64,\n",
       " 'num_heads': 4,\n",
       " 'dropout_rate': 0.2,\n",
       " 'n_window': 13,\n",
       " 'n_timesteps': 55,\n",
       " 'n_features': 60,\n",
       " 'n_outputs': 11,\n",
       " 'n_outputs_window': 11}"
      ]
     },
     "execution_count": 15,
     "metadata": {},
     "output_type": "execute_result"
    }
   ],
   "source": [
    "hparams"
   ]
  },
  {
   "cell_type": "code",
   "execution_count": 16,
   "metadata": {},
   "outputs": [
    {
     "name": "stdout",
     "output_type": "stream",
     "text": [
      "8 Physical GPUs, 8 Logical GPUs\n",
      "INFO:tensorflow:Using MirroredStrategy with devices ('/job:localhost/replica:0/task:0/device:GPU:0', '/job:localhost/replica:0/task:0/device:GPU:1', '/job:localhost/replica:0/task:0/device:GPU:2', '/job:localhost/replica:0/task:0/device:GPU:3')\n",
      "Number of devices: 4\n"
     ]
    }
   ],
   "source": [
    "tf.keras.backend.clear_session()\n",
    "gpus = tf.config.experimental.list_physical_devices('GPU')\n",
    "if gpus:\n",
    "  try:\n",
    "    # Currently, memory growth needs to be the same across GPUs\n",
    "    for gpu in gpus:\n",
    "      tf.config.experimental.set_memory_growth(gpu, True)\n",
    "    logical_gpus = tf.config.experimental.list_logical_devices('GPU')\n",
    "    print(len(gpus), \"Physical GPUs,\", len(logical_gpus), \"Logical GPUs\")\n",
    "  except RuntimeError as e:\n",
    "    # Memory growth must be set before GPUs have been initialized\n",
    "    print(e)\n",
    "    \n",
    "device_list = ['/gpu:'+str(i) for i in range(0, 4)]\n",
    "strategy = tf.distribute.MirroredStrategy(devices=device_list)\n",
    "print('Number of devices: {}'.format(strategy.num_replicas_in_sync))\n",
    "with strategy.scope():\n",
    "    model = HSA_model_session_guided_window(**hparams).get_compiled_model()"
   ]
  },
  {
   "cell_type": "code",
   "execution_count": 17,
   "metadata": {},
   "outputs": [],
   "source": [
    "checkpoint_filepath = \"skoda_checkpoints/cp-{epoch:04d}.ckpt\"\n",
    "\n",
    "model_checkpoint_callback = tf.keras.callbacks.ModelCheckpoint(filepath=checkpoint_filepath,\n",
    "                                                               save_weights_only=True,\n",
    "                                                               verbose=1)"
   ]
  },
  {
   "cell_type": "code",
   "execution_count": 18,
   "metadata": {},
   "outputs": [
    {
     "name": "stdout",
     "output_type": "stream",
     "text": [
      "Model: \"model_1\"\n",
      "__________________________________________________________________________________________________\n",
      "Layer (type)                    Output Shape         Param #     Connected to                     \n",
      "==================================================================================================\n",
      "input_1 (InputLayer)            [(None, 13, 55, 60)] 0                                            \n",
      "__________________________________________________________________________________________________\n",
      "multi_window_encoder (MultiWind ((None, None, 64), ( 1951680     input_1[0][0]                    \n",
      "__________________________________________________________________________________________________\n",
      "modality_encoder_block_19 (Moda (None, None, 64)     104000      multi_window_encoder[0][0]       \n",
      "__________________________________________________________________________________________________\n",
      "combined_sensor_self_attention_ ((None, 64), (None,  49856       modality_encoder_block_19[0][0]  \n",
      "__________________________________________________________________________________________________\n",
      "tf_op_layer_Shape (TensorFlowOp [(2,)]               0           combined_sensor_self_attention_1[\n",
      "__________________________________________________________________________________________________\n",
      "tf_op_layer_ExpandDims (TensorF [(None, 1, 64)]      0           combined_sensor_self_attention_1[\n",
      "__________________________________________________________________________________________________\n",
      "tf_op_layer_strided_slice_19 (T [(0,)]               0           tf_op_layer_Shape[0][0]          \n",
      "__________________________________________________________________________________________________\n",
      "tf_op_layer_strided_slice_20 (T [(1,)]               0           tf_op_layer_Shape[0][0]          \n",
      "__________________________________________________________________________________________________\n",
      "tf_op_layer_Tile (TensorFlowOpL [(None, 13, 64)]     0           tf_op_layer_ExpandDims[0][0]     \n",
      "__________________________________________________________________________________________________\n",
      "tf_op_layer_concat (TensorFlowO [(2,)]               0           tf_op_layer_strided_slice_19[0][0\n",
      "                                                                 tf_op_layer_strided_slice_20[0][0\n",
      "__________________________________________________________________________________________________\n",
      "tf_op_layer_Reshape (TensorFlow [(None, 64)]         0           tf_op_layer_Tile[0][0]           \n",
      "                                                                 tf_op_layer_concat[0][0]         \n",
      "__________________________________________________________________________________________________\n",
      "reshape (Reshape)               (None, 13, 64)       0           tf_op_layer_Reshape[0][0]        \n",
      "__________________________________________________________________________________________________\n",
      "concatenate (Concatenate)       (None, 13, 128)      0           multi_window_encoder[0][0]       \n",
      "                                                                 reshape[0][0]                    \n",
      "__________________________________________________________________________________________________\n",
      "window_pred (Dense)             (None, 13, 11)       1419        concatenate[0][0]                \n",
      "__________________________________________________________________________________________________\n",
      "session_pred (Dense)            (None, 11)           715         combined_sensor_self_attention_1[\n",
      "==================================================================================================\n",
      "Total params: 2,107,670\n",
      "Trainable params: 2,107,670\n",
      "Non-trainable params: 0\n",
      "__________________________________________________________________________________________________\n"
     ]
    }
   ],
   "source": [
    "model.summary()"
   ]
  },
  {
   "cell_type": "code",
   "execution_count": 26,
   "metadata": {},
   "outputs": [
    {
     "name": "stdout",
     "output_type": "stream",
     "text": [
      "Epoch 1/2\n",
      "10/10 [==============================] - ETA: 0s - loss: 0.1277 - session_pred_accuracy: 0.9567 - window_pred_accuracy: 0.9567 - session_pred_loss: 0.0646 - window_pred_loss: 0.0631\n",
      "Epoch 00001: saving model to skoda_checkpoints/cp-0001.ckpt\n",
      "10/10 [==============================] - 18s 2s/step - loss: 0.1277 - session_pred_accuracy: 0.9567 - window_pred_accuracy: 0.9567 - session_pred_loss: 0.0646 - window_pred_loss: 0.0631 - val_loss: 0.1039 - val_session_pred_accuracy: 0.9614 - val_window_pred_accuracy: 0.9637 - val_session_pred_loss: 0.0532 - val_window_pred_loss: 0.0508\n",
      "Epoch 2/2\n",
      "10/10 [==============================] - ETA: 0s - loss: 0.1242 - session_pred_accuracy: 0.9593 - window_pred_accuracy: 0.9613 - session_pred_loss: 0.0642 - window_pred_loss: 0.0600\n",
      "Epoch 00002: saving model to skoda_checkpoints/cp-0002.ckpt\n",
      "10/10 [==============================] - 17s 2s/step - loss: 0.1242 - session_pred_accuracy: 0.9593 - window_pred_accuracy: 0.9613 - session_pred_loss: 0.0642 - window_pred_loss: 0.0600 - val_loss: 0.1018 - val_session_pred_accuracy: 0.9657 - val_window_pred_accuracy: 0.9657 - val_session_pred_loss: 0.0514 - val_window_pred_loss: 0.0505\n"
     ]
    },
    {
     "data": {
      "text/plain": [
       "<tensorflow.python.keras.callbacks.History at 0x7f07c0315b50>"
      ]
     },
     "execution_count": 26,
     "metadata": {},
     "output_type": "execute_result"
    }
   ],
   "source": [
    "model.fit(X_train, [y_train_mid, y_train], batch_size=len(device_list) * 64, epochs=2, validation_data=(X_val, [y_val_mid, y_val]), callbacks=[model_checkpoint_callback], use_multiprocessing=True)"
   ]
  },
  {
   "cell_type": "code",
   "execution_count": 29,
   "metadata": {},
   "outputs": [
    {
     "data": {
      "text/plain": [
       "<tensorflow.python.training.tracking.util.CheckpointLoadStatus at 0x7f07c02f7f10>"
      ]
     },
     "execution_count": 29,
     "metadata": {},
     "output_type": "execute_result"
    }
   ],
   "source": [
    "# pred_mid, pred_sess = model.predict(X_test, batch_size=32)\n",
    "\n",
    "model_from_ckpt = HSA_model_session_guided_window(**hparams).get_compiled_model()\n",
    "model_from_ckpt.load_weights(\"skoda_checkpoints/cp-0040.ckpt\")"
   ]
  },
  {
   "cell_type": "code",
   "execution_count": 34,
   "metadata": {},
   "outputs": [],
   "source": [
    "pred_mid, pred_sess =model_from_ckpt.predict(X_test, batch_size=32)"
   ]
  },
  {
   "cell_type": "markdown",
   "metadata": {},
   "source": [
    "## Session Level Result"
   ]
  },
  {
   "cell_type": "code",
   "execution_count": 35,
   "metadata": {},
   "outputs": [
    {
     "name": "stdout",
     "output_type": "stream",
     "text": [
      "                              precision    recall  f1-score   support\n",
      "\n",
      "                        null       1.00      1.00      1.00        65\n",
      "            write on notepad       1.00      1.00      1.00        23\n",
      "                   open hood       1.00      1.00      1.00        28\n",
      "                  close hood       1.00      1.00      1.00        26\n",
      "check gaps on the front door       1.00      1.00      1.00        18\n",
      "        open left front door       0.50      1.00      0.67        10\n",
      "       close left front door       1.00      0.00      0.00        10\n",
      "        close both left door       1.00      1.00      1.00        20\n",
      "            check trunk gaps       1.00      1.00      1.00        22\n",
      "        open and close trunk       1.00      1.00      1.00        26\n",
      "        check steering wheel       1.00      1.00      1.00        13\n",
      "\n",
      "                    accuracy                           0.96       261\n",
      "                   macro avg       0.95      0.91      0.88       261\n",
      "                weighted avg       0.98      0.96      0.95       261\n",
      "\n"
     ]
    }
   ],
   "source": [
    "print(classification_report(np.argmax(y_test, axis=1), np.argmax(pred_sess, axis=1), labels=list(map(int, list(activity_map.keys()))), target_names=list(activity_map.values()), zero_division=1))"
   ]
  },
  {
   "cell_type": "markdown",
   "metadata": {},
   "source": [
    "## Window Level Result"
   ]
  },
  {
   "cell_type": "code",
   "execution_count": 36,
   "metadata": {},
   "outputs": [
    {
     "name": "stdout",
     "output_type": "stream",
     "text": [
      "                              precision    recall  f1-score   support\n",
      "\n",
      "                        null       1.00      1.00      1.00       845\n",
      "            write on notepad       1.00      1.00      1.00       299\n",
      "                   open hood       1.00      1.00      1.00       364\n",
      "                  close hood       1.00      1.00      1.00       338\n",
      "check gaps on the front door       1.00      1.00      1.00       234\n",
      "        open left front door       1.00      0.00      0.00       130\n",
      "       close left front door       0.50      1.00      0.67       130\n",
      "        close both left door       1.00      1.00      1.00       260\n",
      "            check trunk gaps       1.00      1.00      1.00       286\n",
      "        open and close trunk       1.00      1.00      1.00       338\n",
      "        check steering wheel       1.00      1.00      1.00       169\n",
      "\n",
      "                    accuracy                           0.96      3393\n",
      "                   macro avg       0.95      0.91      0.88      3393\n",
      "                weighted avg       0.98      0.96      0.95      3393\n",
      "\n"
     ]
    }
   ],
   "source": [
    "print(classification_report(np.argmax(y_test_mid.reshape(-1, len(activity_map)), axis=1), np.argmax(pred_mid.reshape(-1, len(activity_map)), axis=1), labels=list(map(int, list(activity_map.keys()))), target_names=list(activity_map.values()), zero_division=1))"
   ]
  },
  {
   "cell_type": "code",
   "execution_count": 37,
   "metadata": {},
   "outputs": [
    {
     "data": {
      "text/plain": [
       "<AxesSubplot:>"
      ]
     },
     "execution_count": 37,
     "metadata": {},
     "output_type": "execute_result"
    },
    {
     "data": {
      "image/png": "[encoded data removed]",
      "text/plain": [
       "<Figure size 1080x864 with 2 Axes>"
      ]
     },
     "metadata": {
      "needs_background": "light"
     },
     "output_type": "display_data"
    }
   ],
   "source": [
    "confm = confusion_matrix(np.argmax(y_test, axis=1), np.argmax(pred_sess, axis=1), labels=list(map(int, list(activity_map.keys()))), normalize='pred')\n",
    "activity_list = list(activity_map.values())\n",
    "df_cm = pd.DataFrame(confm, index=activity_list, columns=activity_list)\n",
    "plt.figure(figsize = (15, 12))\n",
    "sns.heatmap(df_cm, annot=True, fmt='0.3f', cmap=\"YlGnBu\")"
   ]
  },
  {
   "cell_type": "code",
   "execution_count": null,
   "metadata": {},
   "outputs": [],
   "source": []
  }
 ],
 "metadata": {
  "kernelspec": {
   "display_name": "Python 3",
   "language": "python",
   "name": "python3"
  },
  "language_info": {
   "codemirror_mode": {
    "name": "ipython",
    "version": 3
   },
   "file_extension": ".py",
   "mimetype": "text/x-python",
   "name": "python",
   "nbconvert_exporter": "python",
   "pygments_lexer": "ipython3",
   "version": "3.8.5"
  }
 },
 "nbformat": 4,
 "nbformat_minor": 4
}
