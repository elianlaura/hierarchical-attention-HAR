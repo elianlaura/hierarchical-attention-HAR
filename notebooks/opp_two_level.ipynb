{
 "cells": [
  {
   "cell_type": "code",
   "execution_count": 1,
   "metadata": {},
   "outputs": [],
   "source": [
    "import tensorflow as tf\n",
    "import numpy as np\n",
    "import pandas as pd\n",
    "import sys\n",
    "sys.path.append(\"../\")\n",
    "\n",
    "%load_ext autoreload\n",
    "%autoreload 2"
   ]
  },
  {
   "cell_type": "code",
   "execution_count": 2,
   "metadata": {},
   "outputs": [],
   "source": [
    "from model.hierarchical_self_attention_model import HSA_model_two_level\n",
    "from sklearn.metrics import classification_report, confusion_matrix\n",
    "import seaborn as sns\n",
    "import matplotlib.pyplot as plt"
   ]
  },
  {
   "cell_type": "code",
   "execution_count": 3,
   "metadata": {},
   "outputs": [],
   "source": [
    "from preprocessing.opp_preprocess import *\n",
    "import yaml"
   ]
  },
  {
   "cell_type": "code",
   "execution_count": 4,
   "metadata": {},
   "outputs": [],
   "source": [
    "data_path = '/home/hariub/data/HAR/processed/clean_opp_nodrill.csv'"
   ]
  },
  {
   "cell_type": "code",
   "execution_count": 5,
   "metadata": {},
   "outputs": [],
   "source": [
    "df = pd.read_csv(data_path)"
   ]
  },
  {
   "cell_type": "code",
   "execution_count": 6,
   "metadata": {},
   "outputs": [],
   "source": [
    "metadata_file = open('../configs/metadata.yaml', mode='r')\n",
    "metadata = yaml.load(metadata_file, Loader=yaml.FullLoader)['opp_preprocess']\n",
    "FEATURES = [str(i) for i in range(77)]\n",
    "LOCO_LABEL_COL = 77\n",
    "MID_LABEL_COL = 78\n",
    "HI_LABEL_COL = 79\n",
    "SUBJECT_ID = 80\n",
    "RUN_ID = 81\n",
    "\n",
    "# df = df[df[str(HI_LABEL_COL)] != 0]\n",
    "df[FEATURES] = df[FEATURES].interpolate(method='linear', axis=0)\n",
    "df = df.fillna(0)\n",
    "\n",
    "scaler = StandardScaler()\n",
    "df[FEATURES] = scaler.fit_transform(df[FEATURES])\n",
    "\n",
    "BENCHMARK_TEST = ((df[str(SUBJECT_ID)] == 2) | (df[str(SUBJECT_ID)] == 3)) & (\n",
    "            (df[str(RUN_ID)] == 4) | (df[str(RUN_ID)] == 5))\n",
    "\n",
    "train_df = df[~ BENCHMARK_TEST]\n",
    "test_df = df[BENCHMARK_TEST]\n",
    "\n",
    "SLIDING_WINDOW_LENGTH = metadata['sliding_win_len']\n",
    "SLIDING_WINDOW_STEP = metadata['sliding_win_stride']\n",
    "N_WINDOW, N_TIMESTEP = metadata['n_window'], metadata['n_timestep']\n",
    "\n",
    "X_train, y_train, m_labels_tr, loco_labels_tr = create_windowed_dataset_opp(train_df, FEATURES, str(\n",
    "    HI_LABEL_COL), MID_LABEL_COL, LOCO_LABEL_COL, window_size=SLIDING_WINDOW_LENGTH, stride=SLIDING_WINDOW_STEP)\n",
    "X_test, y_test, m_labels_ts, loco_labels_ts = create_windowed_dataset_opp(test_df, FEATURES, str(\n",
    "    HI_LABEL_COL), MID_LABEL_COL, LOCO_LABEL_COL, window_size=SLIDING_WINDOW_LENGTH, stride=SLIDING_WINDOW_STEP)\n",
    "\n",
    "X_train = X_train.reshape(\n",
    "    (X_train.shape[0], N_WINDOW, N_TIMESTEP, len(FEATURES)))\n",
    "X_test = X_test.reshape(\n",
    "    (X_test.shape[0], N_WINDOW, N_TIMESTEP, len(FEATURES)))\n",
    "\n",
    "y_train = tf.keras.utils.to_categorical(y_train)\n",
    "y_test = tf.keras.utils.to_categorical(y_test)"
   ]
  },
  {
   "cell_type": "code",
   "execution_count": 7,
   "metadata": {},
   "outputs": [
    {
     "name": "stdout",
     "output_type": "stream",
     "text": [
      "(2685, 36, 25, 77)\n",
      "(2685, 6)\n"
     ]
    }
   ],
   "source": [
    "print(X_train.shape)\n",
    "print(y_train.shape)"
   ]
  },
  {
   "cell_type": "code",
   "execution_count": 8,
   "metadata": {},
   "outputs": [],
   "source": [
    "m_labels_tr = np.asarray(m_labels_tr).reshape((X_train.shape[0], N_WINDOW, N_TIMESTEP))\n",
    "m_labels_ts = np.asarray(m_labels_ts).reshape((X_test.shape[0], N_WINDOW, N_TIMESTEP))"
   ]
  },
  {
   "cell_type": "code",
   "execution_count": 9,
   "metadata": {},
   "outputs": [
    {
     "data": {
      "text/plain": [
       "(2685, 36, 25)"
      ]
     },
     "execution_count": 9,
     "metadata": {},
     "output_type": "execute_result"
    }
   ],
   "source": [
    "m_labels_tr.shape"
   ]
  },
  {
   "cell_type": "code",
   "execution_count": 10,
   "metadata": {},
   "outputs": [],
   "source": [
    "y_train_mid = np.zeros((X_train.shape[0], N_WINDOW))\n",
    "for i in range(len(y_train_mid)):\n",
    "    for j in range(N_WINDOW):\n",
    "        y_train_mid[i,j] = np.bincount(m_labels_tr[i, j]).argmax()\n",
    "        \n",
    "y_test_mid = np.zeros((X_test.shape[0], N_WINDOW))\n",
    "for i in range(len(y_test_mid)):\n",
    "    for j in range(N_WINDOW):\n",
    "        y_test_mid[i,j] = np.bincount(m_labels_ts[i, j]).argmax()"
   ]
  },
  {
   "cell_type": "code",
   "execution_count": 11,
   "metadata": {},
   "outputs": [],
   "source": [
    "y_train_mid = tf.keras.utils.to_categorical(y_train_mid)\n",
    "y_test_mid = tf.keras.utils.to_categorical(y_test_mid)"
   ]
  },
  {
   "cell_type": "code",
   "execution_count": 12,
   "metadata": {},
   "outputs": [
    {
     "data": {
      "text/plain": [
       "(2685, 36, 18)"
      ]
     },
     "execution_count": 12,
     "metadata": {},
     "output_type": "execute_result"
    }
   ],
   "source": [
    "y_train_mid.shape"
   ]
  },
  {
   "cell_type": "code",
   "execution_count": 13,
   "metadata": {},
   "outputs": [],
   "source": [
    "hparam_file = open('../configs/hyperparameters.yaml', mode='r')\n",
    "hyperparameters = yaml.load(hparam_file, Loader=yaml.FullLoader)\n",
    "hparams = hyperparameters['HSA_model']\n",
    "hparams['modality_indices'] = hparams['modality_indices']['opp']\n",
    "hparams['n_window'], hparams['n_timesteps'], hparams['n_features'], hparams['n_outputs'] = X_train.shape[1], X_train.shape[2], X_train.shape[3], y_train.shape[1]"
   ]
  },
  {
   "cell_type": "markdown",
   "metadata": {},
   "source": [
    "### Training"
   ]
  },
  {
   "cell_type": "code",
   "execution_count": 14,
   "metadata": {},
   "outputs": [
    {
     "name": "stdout",
     "output_type": "stream",
     "text": [
      "INFO:tensorflow:Using MirroredStrategy with devices ('/job:localhost/replica:0/task:0/device:GPU:1', '/job:localhost/replica:0/task:0/device:GPU:2', '/job:localhost/replica:0/task:0/device:GPU:3', '/job:localhost/replica:0/task:0/device:GPU:4', '/job:localhost/replica:0/task:0/device:GPU:5', '/job:localhost/replica:0/task:0/device:GPU:6', '/job:localhost/replica:0/task:0/device:GPU:7')\n",
      "Number of devices: 7\n"
     ]
    }
   ],
   "source": [
    "tf.keras.backend.clear_session()\n",
    "device_list = ['/gpu:'+str(i) for i in range(1,8)]\n",
    "strategy = tf.distribute.MirroredStrategy(devices=device_list)\n",
    "print('Number of devices: {}'.format(strategy.num_replicas_in_sync))\n",
    "with strategy.scope():\n",
    "    model = HSA_model_two_level(**hyperparameters['HSA_model']).get_compiled_model()"
   ]
  },
  {
   "cell_type": "code",
   "execution_count": 15,
   "metadata": {},
   "outputs": [
    {
     "name": "stdout",
     "output_type": "stream",
     "text": [
      "Model: \"model_1\"\n",
      "__________________________________________________________________________________________________\n",
      "Layer (type)                    Output Shape         Param #     Connected to                     \n",
      "==================================================================================================\n",
      "input_1 (InputLayer)            [(None, 36, 25, 77)] 0                                            \n",
      "__________________________________________________________________________________________________\n",
      "multi_window_encoder (MultiWind ((None, None, 64), ( 754112      input_1[0][0]                    \n",
      "__________________________________________________________________________________________________\n",
      "modality_encoder_block_7 (Modal (None, None, 64)     104000      multi_window_encoder[0][0]       \n",
      "__________________________________________________________________________________________________\n",
      "combined_sensor_self_attention_ ((None, 64), (None,  49856       modality_encoder_block_7[0][0]   \n",
      "__________________________________________________________________________________________________\n",
      "window_pred (Dense)             (None, None, 18)     1170        multi_window_encoder[0][0]       \n",
      "__________________________________________________________________________________________________\n",
      "session_pred (Dense)            (None, 6)            390         combined_sensor_self_attention_1[\n",
      "==================================================================================================\n",
      "Total params: 909,528\n",
      "Trainable params: 909,528\n",
      "Non-trainable params: 0\n",
      "__________________________________________________________________________________________________\n"
     ]
    }
   ],
   "source": [
    "model.summary()"
   ]
  },
  {
   "cell_type": "code",
   "execution_count": 16,
   "metadata": {},
   "outputs": [
    {
     "name": "stdout",
     "output_type": "stream",
     "text": [
      "Epoch 1/30\n",
      "INFO:tensorflow:batch_all_reduce: 288 all-reduces with algorithm = nccl, num_packs = 1\n",
      "INFO:tensorflow:Reduce to /job:localhost/replica:0/task:0/device:CPU:0 then broadcast to ('/job:localhost/replica:0/task:0/device:CPU:0',).\n",
      "INFO:tensorflow:Reduce to /job:localhost/replica:0/task:0/device:CPU:0 then broadcast to ('/job:localhost/replica:0/task:0/device:CPU:0',).\n",
      "INFO:tensorflow:Reduce to /job:localhost/replica:0/task:0/device:CPU:0 then broadcast to ('/job:localhost/replica:0/task:0/device:CPU:0',).\n",
      "INFO:tensorflow:Reduce to /job:localhost/replica:0/task:0/device:CPU:0 then broadcast to ('/job:localhost/replica:0/task:0/device:CPU:0',).\n",
      "INFO:tensorflow:Reduce to /job:localhost/replica:0/task:0/device:CPU:0 then broadcast to ('/job:localhost/replica:0/task:0/device:CPU:0',).\n",
      "INFO:tensorflow:Reduce to /job:localhost/replica:0/task:0/device:CPU:0 then broadcast to ('/job:localhost/replica:0/task:0/device:CPU:0',).\n",
      "INFO:tensorflow:Reduce to /job:localhost/replica:0/task:0/device:CPU:0 then broadcast to ('/job:localhost/replica:0/task:0/device:CPU:0',).\n",
      "INFO:tensorflow:Reduce to /job:localhost/replica:0/task:0/device:CPU:0 then broadcast to ('/job:localhost/replica:0/task:0/device:CPU:0',).\n",
      "INFO:tensorflow:Reduce to /job:localhost/replica:0/task:0/device:CPU:0 then broadcast to ('/job:localhost/replica:0/task:0/device:CPU:0',).\n",
      "INFO:tensorflow:Reduce to /job:localhost/replica:0/task:0/device:CPU:0 then broadcast to ('/job:localhost/replica:0/task:0/device:CPU:0',).\n",
      "INFO:tensorflow:batch_all_reduce: 288 all-reduces with algorithm = nccl, num_packs = 1\n",
      "38/38 [==============================] - 69s 2s/step - session_pred_loss: 1.4292 - window_pred_loss: 0.8974 - session_pred_accuracy: 0.4681 - loss: 2.3266 - window_pred_accuracy: 0.8191 - val_session_pred_loss: 0.8650 - val_window_pred_loss: 0.8774 - val_session_pred_accuracy: 0.6914 - val_loss: 1.7424 - val_window_pred_accuracy: 0.8288\n",
      "Epoch 2/30\n",
      "38/38 [==============================] - 15s 392ms/step - session_pred_loss: 0.6833 - window_pred_loss: 0.6349 - session_pred_accuracy: 0.7330 - loss: 1.3182 - window_pred_accuracy: 0.8441 - val_session_pred_loss: 0.6616 - val_window_pred_loss: 0.6658 - val_session_pred_accuracy: 0.7918 - val_loss: 1.3274 - val_window_pred_accuracy: 0.8204\n",
      "Epoch 3/30\n",
      "38/38 [==============================] - 13s 333ms/step - session_pred_loss: 0.3993 - window_pred_loss: 0.5350 - session_pred_accuracy: 0.8485 - loss: 0.9343 - window_pred_accuracy: 0.8573 - val_session_pred_loss: 0.7396 - val_window_pred_loss: 0.5847 - val_session_pred_accuracy: 0.7918 - val_loss: 1.3243 - val_window_pred_accuracy: 0.8357\n",
      "Epoch 4/30\n",
      "38/38 [==============================] - 13s 335ms/step - session_pred_loss: 0.3090 - window_pred_loss: 0.4929 - session_pred_accuracy: 0.8825 - loss: 0.8018 - window_pred_accuracy: 0.8628 - val_session_pred_loss: 0.8070 - val_window_pred_loss: 0.5587 - val_session_pred_accuracy: 0.8550 - val_loss: 1.3657 - val_window_pred_accuracy: 0.8521\n",
      "Epoch 5/30\n",
      "38/38 [==============================] - 13s 351ms/step - session_pred_loss: 0.2556 - window_pred_loss: 0.4881 - session_pred_accuracy: 0.9044 - loss: 0.7437 - window_pred_accuracy: 0.8651 - val_session_pred_loss: 0.7090 - val_window_pred_loss: 0.5324 - val_session_pred_accuracy: 0.8476 - val_loss: 1.2414 - val_window_pred_accuracy: 0.8503\n",
      "Epoch 6/30\n",
      "38/38 [==============================] - 13s 330ms/step - session_pred_loss: 0.2780 - window_pred_loss: 0.4556 - session_pred_accuracy: 0.8982 - loss: 0.7335 - window_pred_accuracy: 0.8704 - val_session_pred_loss: 0.5294 - val_window_pred_loss: 0.5381 - val_session_pred_accuracy: 0.8364 - val_loss: 1.0674 - val_window_pred_accuracy: 0.8509\n",
      "Epoch 7/30\n",
      "38/38 [==============================] - 13s 345ms/step - session_pred_loss: 0.2715 - window_pred_loss: 0.4547 - session_pred_accuracy: 0.9056 - loss: 0.7262 - window_pred_accuracy: 0.8677 - val_session_pred_loss: 0.6753 - val_window_pred_loss: 0.5198 - val_session_pred_accuracy: 0.8327 - val_loss: 1.1952 - val_window_pred_accuracy: 0.8476\n",
      "Epoch 8/30\n",
      "38/38 [==============================] - 13s 341ms/step - session_pred_loss: 0.1774 - window_pred_loss: 0.4209 - session_pred_accuracy: 0.9371 - loss: 0.5983 - window_pred_accuracy: 0.8747 - val_session_pred_loss: 0.6606 - val_window_pred_loss: 0.5024 - val_session_pred_accuracy: 0.8364 - val_loss: 1.1629 - val_window_pred_accuracy: 0.8569\n",
      "Epoch 9/30\n",
      "38/38 [==============================] - 13s 349ms/step - session_pred_loss: 0.1309 - window_pred_loss: 0.4054 - session_pred_accuracy: 0.9561 - loss: 0.5363 - window_pred_accuracy: 0.8780 - val_session_pred_loss: 0.6101 - val_window_pred_loss: 0.4865 - val_session_pred_accuracy: 0.8810 - val_loss: 1.0966 - val_window_pred_accuracy: 0.8562\n",
      "Epoch 10/30\n",
      "38/38 [==============================] - 12s 329ms/step - session_pred_loss: 0.1727 - window_pred_loss: 0.3932 - session_pred_accuracy: 0.9425 - loss: 0.5659 - window_pred_accuracy: 0.8800 - val_session_pred_loss: 0.5937 - val_window_pred_loss: 0.5250 - val_session_pred_accuracy: 0.8550 - val_loss: 1.1187 - val_window_pred_accuracy: 0.8457\n",
      "Epoch 11/30\n",
      "38/38 [==============================] - 13s 339ms/step - session_pred_loss: 0.1669 - window_pred_loss: 0.3879 - session_pred_accuracy: 0.9470 - loss: 0.5548 - window_pred_accuracy: 0.8827 - val_session_pred_loss: 0.6389 - val_window_pred_loss: 0.4791 - val_session_pred_accuracy: 0.8773 - val_loss: 1.1179 - val_window_pred_accuracy: 0.8591\n",
      "Epoch 12/30\n",
      "38/38 [==============================] - 13s 339ms/step - session_pred_loss: 0.1221 - window_pred_loss: 0.3719 - session_pred_accuracy: 0.9611 - loss: 0.4941 - window_pred_accuracy: 0.8842 - val_session_pred_loss: 0.5973 - val_window_pred_loss: 0.4727 - val_session_pred_accuracy: 0.8885 - val_loss: 1.0699 - val_window_pred_accuracy: 0.8671\n",
      "Epoch 13/30\n",
      "38/38 [==============================] - 12s 328ms/step - session_pred_loss: 0.1135 - window_pred_loss: 0.3632 - session_pred_accuracy: 0.9644 - loss: 0.4767 - window_pred_accuracy: 0.8881 - val_session_pred_loss: 0.5284 - val_window_pred_loss: 0.4597 - val_session_pred_accuracy: 0.8810 - val_loss: 0.9881 - val_window_pred_accuracy: 0.8696\n",
      "Epoch 14/30\n",
      "38/38 [==============================] - 13s 339ms/step - session_pred_loss: 0.1219 - window_pred_loss: 0.3445 - session_pred_accuracy: 0.9615 - loss: 0.4664 - window_pred_accuracy: 0.8921 - val_session_pred_loss: 0.7779 - val_window_pred_loss: 0.4470 - val_session_pred_accuracy: 0.8476 - val_loss: 1.2249 - val_window_pred_accuracy: 0.8642\n",
      "Epoch 15/30\n",
      "38/38 [==============================] - 13s 342ms/step - session_pred_loss: 0.0948 - window_pred_loss: 0.3481 - session_pred_accuracy: 0.9719 - loss: 0.4429 - window_pred_accuracy: 0.8915 - val_session_pred_loss: 0.6952 - val_window_pred_loss: 0.4506 - val_session_pred_accuracy: 0.8290 - val_loss: 1.1459 - val_window_pred_accuracy: 0.8633\n",
      "Epoch 16/30\n",
      "38/38 [==============================] - 13s 331ms/step - session_pred_loss: 0.0917 - window_pred_loss: 0.3331 - session_pred_accuracy: 0.9748 - loss: 0.4247 - window_pred_accuracy: 0.8938 - val_session_pred_loss: 0.7223 - val_window_pred_loss: 0.4634 - val_session_pred_accuracy: 0.8587 - val_loss: 1.1857 - val_window_pred_accuracy: 0.8672\n",
      "Epoch 17/30\n",
      "38/38 [==============================] - 13s 333ms/step - session_pred_loss: 0.0891 - window_pred_loss: 0.3253 - session_pred_accuracy: 0.9727 - loss: 0.4144 - window_pred_accuracy: 0.8965 - val_session_pred_loss: 0.7248 - val_window_pred_loss: 0.4403 - val_session_pred_accuracy: 0.8736 - val_loss: 1.1650 - val_window_pred_accuracy: 0.8693\n",
      "Epoch 18/30\n",
      "38/38 [==============================] - 13s 334ms/step - session_pred_loss: 0.0644 - window_pred_loss: 0.3036 - session_pred_accuracy: 0.9818 - loss: 0.3680 - window_pred_accuracy: 0.9024 - val_session_pred_loss: 0.5936 - val_window_pred_loss: 0.4315 - val_session_pred_accuracy: 0.8736 - val_loss: 1.0251 - val_window_pred_accuracy: 0.8637\n",
      "Epoch 19/30\n",
      "38/38 [==============================] - 13s 334ms/step - session_pred_loss: 0.0973 - window_pred_loss: 0.3224 - session_pred_accuracy: 0.9665 - loss: 0.4197 - window_pred_accuracy: 0.8984 - val_session_pred_loss: 0.6288 - val_window_pred_loss: 0.5012 - val_session_pred_accuracy: 0.8662 - val_loss: 1.1300 - val_window_pred_accuracy: 0.8524\n",
      "Epoch 20/30\n",
      "38/38 [==============================] - 13s 342ms/step - session_pred_loss: 0.0548 - window_pred_loss: 0.3043 - session_pred_accuracy: 0.9822 - loss: 0.3591 - window_pred_accuracy: 0.9023 - val_session_pred_loss: 0.6517 - val_window_pred_loss: 0.4315 - val_session_pred_accuracy: 0.8773 - val_loss: 1.0832 - val_window_pred_accuracy: 0.8627\n",
      "Epoch 21/30\n",
      "38/38 [==============================] - 13s 332ms/step - session_pred_loss: 0.1244 - window_pred_loss: 0.3129 - session_pred_accuracy: 0.9619 - loss: 0.4373 - window_pred_accuracy: 0.9001 - val_session_pred_loss: 0.6027 - val_window_pred_loss: 0.4597 - val_session_pred_accuracy: 0.8662 - val_loss: 1.0624 - val_window_pred_accuracy: 0.8575\n",
      "Epoch 22/30\n",
      "38/38 [==============================] - 13s 335ms/step - session_pred_loss: 0.1625 - window_pred_loss: 0.3244 - session_pred_accuracy: 0.9516 - loss: 0.4869 - window_pred_accuracy: 0.8969 - val_session_pred_loss: 0.5635 - val_window_pred_loss: 0.4498 - val_session_pred_accuracy: 0.8625 - val_loss: 1.0134 - val_window_pred_accuracy: 0.8551\n",
      "Epoch 23/30\n",
      "38/38 [==============================] - 13s 340ms/step - session_pred_loss: 0.1243 - window_pred_loss: 0.3158 - session_pred_accuracy: 0.9586 - loss: 0.4401 - window_pred_accuracy: 0.8989 - val_session_pred_loss: 0.5320 - val_window_pred_loss: 0.4370 - val_session_pred_accuracy: 0.8736 - val_loss: 0.9691 - val_window_pred_accuracy: 0.8580\n",
      "Epoch 24/30\n",
      "38/38 [==============================] - 13s 333ms/step - session_pred_loss: 0.0719 - window_pred_loss: 0.3074 - session_pred_accuracy: 0.9776 - loss: 0.3794 - window_pred_accuracy: 0.9010 - val_session_pred_loss: 0.5535 - val_window_pred_loss: 0.4540 - val_session_pred_accuracy: 0.9071 - val_loss: 1.0075 - val_window_pred_accuracy: 0.8572\n",
      "Epoch 25/30\n",
      "38/38 [==============================] - 13s 333ms/step - session_pred_loss: 0.0834 - window_pred_loss: 0.3024 - session_pred_accuracy: 0.9727 - loss: 0.3858 - window_pred_accuracy: 0.9018 - val_session_pred_loss: 0.6407 - val_window_pred_loss: 0.4639 - val_session_pred_accuracy: 0.8773 - val_loss: 1.1046 - val_window_pred_accuracy: 0.8550\n",
      "Epoch 26/30\n",
      "38/38 [==============================] - 13s 333ms/step - session_pred_loss: 0.1026 - window_pred_loss: 0.3189 - session_pred_accuracy: 0.9669 - loss: 0.4215 - window_pred_accuracy: 0.8985 - val_session_pred_loss: 0.6723 - val_window_pred_loss: 0.5007 - val_session_pred_accuracy: 0.8513 - val_loss: 1.1730 - val_window_pred_accuracy: 0.8547\n",
      "Epoch 27/30\n",
      "38/38 [==============================] - 12s 327ms/step - session_pred_loss: 0.1021 - window_pred_loss: 0.3221 - session_pred_accuracy: 0.9694 - loss: 0.4243 - window_pred_accuracy: 0.8971 - val_session_pred_loss: 0.4916 - val_window_pred_loss: 0.4952 - val_session_pred_accuracy: 0.8848 - val_loss: 0.9869 - val_window_pred_accuracy: 0.8502\n",
      "Epoch 28/30\n",
      "38/38 [==============================] - 13s 347ms/step - session_pred_loss: 0.0836 - window_pred_loss: 0.3090 - session_pred_accuracy: 0.9748 - loss: 0.3926 - window_pred_accuracy: 0.9000 - val_session_pred_loss: 0.5879 - val_window_pred_loss: 0.4864 - val_session_pred_accuracy: 0.8476 - val_loss: 1.0744 - val_window_pred_accuracy: 0.8607\n",
      "Epoch 29/30\n",
      "38/38 [==============================] - 13s 329ms/step - session_pred_loss: 0.0553 - window_pred_loss: 0.2794 - session_pred_accuracy: 0.9818 - loss: 0.3346 - window_pred_accuracy: 0.9088 - val_session_pred_loss: 0.8175 - val_window_pred_loss: 0.4839 - val_session_pred_accuracy: 0.8773 - val_loss: 1.3014 - val_window_pred_accuracy: 0.8557\n",
      "Epoch 30/30\n",
      "38/38 [==============================] - 12s 329ms/step - session_pred_loss: 0.0463 - window_pred_loss: 0.2750 - session_pred_accuracy: 0.9880 - loss: 0.3213 - window_pred_accuracy: 0.9096 - val_session_pred_loss: 0.6108 - val_window_pred_loss: 0.4716 - val_session_pred_accuracy: 0.8773 - val_loss: 1.0824 - val_window_pred_accuracy: 0.8564\n"
     ]
    },
    {
     "data": {
      "text/plain": [
       "<tensorflow.python.keras.callbacks.History at 0x7ff0e85bacd0>"
      ]
     },
     "execution_count": 16,
     "metadata": {},
     "output_type": "execute_result"
    }
   ],
   "source": [
    "model.fit(X_train, [y_train_mid, y_train], batch_size=64, epochs=30, validation_split=0.1)"
   ]
  },
  {
   "cell_type": "code",
   "execution_count": 17,
   "metadata": {},
   "outputs": [],
   "source": [
    "pred_mid, pred_sess = model(X_test)"
   ]
  },
  {
   "cell_type": "code",
   "execution_count": 18,
   "metadata": {},
   "outputs": [
    {
     "name": "stdout",
     "output_type": "stream",
     "text": [
      "              precision    recall  f1-score   support\n",
      "\n",
      "           0       0.82      0.88      0.85        57\n",
      "           1       1.00      0.85      0.92        26\n",
      "           2       0.91      0.94      0.93        72\n",
      "           3       0.97      0.95      0.96       146\n",
      "           4       0.97      0.88      0.92        72\n",
      "           5       0.94      0.96      0.95       226\n",
      "\n",
      "    accuracy                           0.93       599\n",
      "   macro avg       0.93      0.91      0.92       599\n",
      "weighted avg       0.94      0.93      0.93       599\n",
      "\n"
     ]
    }
   ],
   "source": [
    "print(classification_report(np.argmax(y_test, axis=1), np.argmax(pred_sess, axis=1)))"
   ]
  },
  {
   "cell_type": "code",
   "execution_count": 19,
   "metadata": {},
   "outputs": [],
   "source": [
    "import json\n",
    "activity_map = json.load(open(os.path.join('..','data', 'activity_maps', 'opp_activity.json')))"
   ]
  },
  {
   "cell_type": "code",
   "execution_count": 20,
   "metadata": {},
   "outputs": [
    {
     "data": {
      "text/plain": [
       "{'0': 'null',\n",
       " '1': 'Relaxing',\n",
       " '2': 'Coffee time',\n",
       " '3': 'Early morning',\n",
       " '4': 'Cleanup',\n",
       " '5': 'Sandwich time'}"
      ]
     },
     "execution_count": 20,
     "metadata": {},
     "output_type": "execute_result"
    }
   ],
   "source": [
    "activity_map"
   ]
  },
  {
   "cell_type": "code",
   "execution_count": 21,
   "metadata": {},
   "outputs": [
    {
     "data": {
      "text/plain": [
       "<AxesSubplot:>"
      ]
     },
     "execution_count": 21,
     "metadata": {},
     "output_type": "execute_result"
    },
    {
     "data": {
      "image/png": "[encoded data removed]",
      "text/plain": [
       "<Figure size 720x576 with 2 Axes>"
      ]
     },
     "metadata": {
      "needs_background": "light"
     },
     "output_type": "display_data"
    }
   ],
   "source": [
    "confm = confusion_matrix(np.argmax(y_test, axis=1), np.argmax(pred_sess, axis=1))\n",
    "activity_list = list(activity_map.values())\n",
    "df_cm = pd.DataFrame(confm, index=activity_list, columns=activity_list)\n",
    "plt.figure(figsize = (10,8))\n",
    "sns.heatmap(df_cm, annot=True, fmt='d', cmap=\"YlGnBu\")"
   ]
  },
  {
   "cell_type": "code",
   "execution_count": 22,
   "metadata": {},
   "outputs": [
    {
     "data": {
      "text/plain": [
       "(21564, 18)"
      ]
     },
     "execution_count": 22,
     "metadata": {},
     "output_type": "execute_result"
    }
   ],
   "source": [
    "pred_mid.numpy().reshape(-1, 18).shape"
   ]
  },
  {
   "cell_type": "code",
   "execution_count": 23,
   "metadata": {},
   "outputs": [
    {
     "data": {
      "text/plain": [
       "(21564, 18)"
      ]
     },
     "execution_count": 23,
     "metadata": {},
     "output_type": "execute_result"
    }
   ],
   "source": [
    "y_test_mid.reshape(-1, 18).shape"
   ]
  },
  {
   "cell_type": "code",
   "execution_count": 24,
   "metadata": {},
   "outputs": [
    {
     "name": "stdout",
     "output_type": "stream",
     "text": [
      "              precision    recall  f1-score   support\n",
      "\n",
      "           0       0.92      0.97      0.95     18088\n",
      "           1       0.41      0.27      0.33        73\n",
      "           2       0.64      0.76      0.69       188\n",
      "           3       0.74      0.39      0.51        87\n",
      "           4       1.00      0.08      0.15       114\n",
      "           5       0.76      0.50      0.60       554\n",
      "           6       0.84      0.73      0.78       392\n",
      "           7       0.44      0.32      0.37       236\n",
      "           8       0.43      0.66      0.52       187\n",
      "           9       0.21      0.09      0.12        82\n",
      "          10       0.09      0.06      0.07        71\n",
      "          11       0.33      0.15      0.20        55\n",
      "          12       1.00      0.17      0.29        47\n",
      "          13       0.48      0.60      0.53       146\n",
      "          14       0.47      0.58      0.52       161\n",
      "          15       0.89      0.34      0.49       144\n",
      "          16       0.79      0.32      0.45       782\n",
      "          17       0.39      0.12      0.18       157\n",
      "\n",
      "    accuracy                           0.89     21564\n",
      "   macro avg       0.60      0.39      0.43     21564\n",
      "weighted avg       0.88      0.89      0.87     21564\n",
      "\n"
     ]
    }
   ],
   "source": [
    "print(classification_report(np.argmax(y_test_mid.reshape(-1, 18), axis=1), np.argmax(pred_mid.numpy().reshape(-1, 18), axis=1)))"
   ]
  },
  {
   "cell_type": "code",
   "execution_count": null,
   "metadata": {},
   "outputs": [],
   "source": []
  }
 ],
 "metadata": {
  "kernelspec": {
   "display_name": "Python 3",
   "language": "python",
   "name": "python3"
  },
  "language_info": {
   "codemirror_mode": {
    "name": "ipython",
    "version": 3
   },
   "file_extension": ".py",
   "mimetype": "text/x-python",
   "name": "python",
   "nbconvert_exporter": "python",
   "pygments_lexer": "ipython3",
   "version": "3.8.5"
  }
 },
 "nbformat": 4,
 "nbformat_minor": 4
}
