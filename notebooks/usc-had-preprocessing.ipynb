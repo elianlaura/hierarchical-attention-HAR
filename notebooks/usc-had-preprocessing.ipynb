{
 "cells": [
  {
   "cell_type": "markdown",
   "metadata": {},
   "source": [
    "## Prepare csv"
   ]
  },
  {
   "cell_type": "code",
   "execution_count": 7,
   "metadata": {},
   "outputs": [],
   "source": [
    "import os\n",
    "import numpy as np\n",
    "import scipy.io\n",
    "import pandas as pd\n",
    "import seaborn as sns\n",
    "import matplotlib.pyplot as plt\n",
    "from scipy import stats"
   ]
  },
  {
   "cell_type": "code",
   "execution_count": 8,
   "metadata": {},
   "outputs": [],
   "source": [
    "DIR = '/home/hariub/data/HAR/raw/USC-HAD/'\n",
    "\n",
    "subject = []\n",
    "act_num = []\n",
    "sensor_readings = []\n",
    "\n",
    "def read_dir(directory):\n",
    "    for path, subdirs, files in os.walk(DIR):\n",
    "        for name in files:\n",
    "            if name.endswith('.mat'):\n",
    "                mat = scipy.io.loadmat(os.path.join(path, name))\n",
    "                subject.extend(mat['subject'])\n",
    "                sensor_readings.append(mat['sensor_readings'])\n",
    "\n",
    "                if mat.get('activity_number') is None:\n",
    "                    act_num.append('11')\n",
    "                else:\n",
    "                    act_num.append(mat['activity_number'])\n",
    "    return subject, act_num, sensor_readings\n",
    "\n",
    "subject, act_num, sensor_readings = read_dir(DIR)"
   ]
  },
  {
   "cell_type": "code",
   "execution_count": 10,
   "metadata": {},
   "outputs": [
    {
     "name": "stdout",
     "output_type": "stream",
     "text": [
      "Dataset Size : 2811490\n"
     ]
    }
   ],
   "source": [
    "# get acc + gyr sensor readings and put in df (dataframe)\n",
    "acc_x = []\n",
    "acc_y = []\n",
    "acc_z = []\n",
    "gyr_x = []\n",
    "gyr_y = []\n",
    "gyr_z = []\n",
    "\n",
    "act_label = []\n",
    "subject_id = []\n",
    "df = None\n",
    "\n",
    "for i in range(840):\n",
    "    for j in sensor_readings[i]:   \n",
    "        acc_x.append(j[0]) # acc_x\n",
    "        acc_y.append(j[1]) # acc_y\n",
    "        acc_z.append(j[2]) # acc_z\n",
    "        gyr_x.append(j[3]) # gyr_x\n",
    "        gyr_y.append(j[4]) # gyr_y\n",
    "        gyr_z.append(j[5]) # gyr_z\n",
    "        act_label.append(act_num[i])\n",
    "        subject_id.append(subject[i])\n",
    "        \n",
    "df = pd.DataFrame({'subject':subject_id,'acc_x':acc_x,'acc_y':acc_y,'acc_z':acc_z,'gyr_x':gyr_x,'gyr_y':gyr_y,'gyr_z':gyr_z,'activity':act_label})                   \n",
    "\n",
    "df = df[['subject','acc_x', 'acc_y', 'acc_z', 'gyr_x', 'gyr_y', 'gyr_z','activity']]\n",
    "\n",
    "df['activity']=df['activity'].astype(int)\n",
    "\n",
    "# print size of dataset\n",
    "print('Dataset Size :', len(df))"
   ]
  },
  {
   "cell_type": "code",
   "execution_count": 11,
   "metadata": {},
   "outputs": [
    {
     "data": {
      "text/html": [
       "<div>\n",
       "<style scoped>\n",
       "    .dataframe tbody tr th:only-of-type {\n",
       "        vertical-align: middle;\n",
       "    }\n",
       "\n",
       "    .dataframe tbody tr th {\n",
       "        vertical-align: top;\n",
       "    }\n",
       "\n",
       "    .dataframe thead th {\n",
       "        text-align: right;\n",
       "    }\n",
       "</style>\n",
       "<table border=\"1\" class=\"dataframe\">\n",
       "  <thead>\n",
       "    <tr style=\"text-align: right;\">\n",
       "      <th></th>\n",
       "      <th>subject</th>\n",
       "      <th>acc_x</th>\n",
       "      <th>acc_y</th>\n",
       "      <th>acc_z</th>\n",
       "      <th>gyr_x</th>\n",
       "      <th>gyr_y</th>\n",
       "      <th>gyr_z</th>\n",
       "      <th>activity</th>\n",
       "    </tr>\n",
       "  </thead>\n",
       "  <tbody>\n",
       "    <tr>\n",
       "      <th>0</th>\n",
       "      <td>11</td>\n",
       "      <td>0.788496</td>\n",
       "      <td>0.429586</td>\n",
       "      <td>0.158079</td>\n",
       "      <td>-9.520525</td>\n",
       "      <td>1.719961</td>\n",
       "      <td>-0.391400</td>\n",
       "      <td>2</td>\n",
       "    </tr>\n",
       "    <tr>\n",
       "      <th>1</th>\n",
       "      <td>11</td>\n",
       "      <td>0.795364</td>\n",
       "      <td>0.425966</td>\n",
       "      <td>0.176379</td>\n",
       "      <td>-8.312029</td>\n",
       "      <td>-0.693527</td>\n",
       "      <td>0.414264</td>\n",
       "      <td>2</td>\n",
       "    </tr>\n",
       "    <tr>\n",
       "      <th>2</th>\n",
       "      <td>11</td>\n",
       "      <td>0.819400</td>\n",
       "      <td>0.454920</td>\n",
       "      <td>0.205661</td>\n",
       "      <td>-5.492205</td>\n",
       "      <td>-3.495776</td>\n",
       "      <td>1.622760</td>\n",
       "      <td>2</td>\n",
       "    </tr>\n",
       "    <tr>\n",
       "      <th>3</th>\n",
       "      <td>11</td>\n",
       "      <td>0.815967</td>\n",
       "      <td>0.454920</td>\n",
       "      <td>0.212981</td>\n",
       "      <td>0.147443</td>\n",
       "      <td>-5.509936</td>\n",
       "      <td>0.817096</td>\n",
       "      <td>2</td>\n",
       "    </tr>\n",
       "    <tr>\n",
       "      <th>4</th>\n",
       "      <td>11</td>\n",
       "      <td>0.840003</td>\n",
       "      <td>0.454920</td>\n",
       "      <td>0.209321</td>\n",
       "      <td>3.772932</td>\n",
       "      <td>-9.135425</td>\n",
       "      <td>-0.794232</td>\n",
       "      <td>2</td>\n",
       "    </tr>\n",
       "  </tbody>\n",
       "</table>\n",
       "</div>"
      ],
      "text/plain": [
       "  subject     acc_x     acc_y     acc_z     gyr_x     gyr_y     gyr_z  \\\n",
       "0      11  0.788496  0.429586  0.158079 -9.520525  1.719961 -0.391400   \n",
       "1      11  0.795364  0.425966  0.176379 -8.312029 -0.693527  0.414264   \n",
       "2      11  0.819400  0.454920  0.205661 -5.492205 -3.495776  1.622760   \n",
       "3      11  0.815967  0.454920  0.212981  0.147443 -5.509936  0.817096   \n",
       "4      11  0.840003  0.454920  0.209321  3.772932 -9.135425 -0.794232   \n",
       "\n",
       "   activity  \n",
       "0         2  \n",
       "1         2  \n",
       "2         2  \n",
       "3         2  \n",
       "4         2  "
      ]
     },
     "execution_count": 11,
     "metadata": {},
     "output_type": "execute_result"
    }
   ],
   "source": [
    "df.head()"
   ]
  },
  {
   "cell_type": "code",
   "execution_count": 12,
   "metadata": {},
   "outputs": [],
   "source": [
    "# save csv file\n",
    "df.to_csv('../data/processed/usc-had.csv', index=False)"
   ]
  },
  {
   "cell_type": "code",
   "execution_count": null,
   "metadata": {},
   "outputs": [],
   "source": [
    "activity_map = { 1:'Walking Forward', 2:'Walking Left',  3:'Walking Right',\n",
    "                4:'Walking Upstairs', 5:'Walking Downstairs', 6:'Running Forward',\n",
    "                7:'Jumping Up', 8:'Sitting', 9:'Standing', 10: 'Sleeping',\n",
    "                11:'Elevator Up', 12:'Elevator Down'}\n",
    "activity_list = list(activity_map.values())"
   ]
  }
 ],
 "metadata": {
  "kernelspec": {
   "display_name": "Python 3",
   "language": "python",
   "name": "python3"
  },
  "language_info": {
   "codemirror_mode": {
    "name": "ipython",
    "version": 3
   },
   "file_extension": ".py",
   "mimetype": "text/x-python",
   "name": "python",
   "nbconvert_exporter": "python",
   "pygments_lexer": "ipython3",
   "version": "3.8.5"
  }
 },
 "nbformat": 4,
 "nbformat_minor": 4
}
