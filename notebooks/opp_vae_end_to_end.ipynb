{
 "cells": [
  {
   "cell_type": "code",
   "execution_count": 1,
   "metadata": {},
   "outputs": [],
   "source": [
    "import tensorflow as tf\n",
    "import numpy as np\n",
    "import pandas as pd\n",
    "from sklearn.metrics import classification_report, confusion_matrix, accuracy_score, f1_score\n",
    "import seaborn as sns\n",
    "import matplotlib.pyplot as plt\n",
    "import sys\n",
    "import yaml\n",
    "\n",
    "from tabulate import tabulate\n",
    "\n",
    "sys.path.append(\"../\")\n",
    "\n",
    "%load_ext autoreload\n",
    "%autoreload 2"
   ]
  },
  {
   "cell_type": "code",
   "execution_count": 2,
   "metadata": {},
   "outputs": [],
   "source": [
    "from preprocessing.opp_preprocess import *\n",
    "from model.hierarchical_self_attention_model import HSA_model_session_guided_window"
   ]
  },
  {
   "cell_type": "code",
   "execution_count": 3,
   "metadata": {},
   "outputs": [],
   "source": [
    "data_path = '/home/hariub/data/HAR/processed/clean_opp_nodrill.csv'\n",
    "df = pd.read_csv(data_path)\n",
    "\n",
    "metadata_file = open('../configs/metadata.yaml', mode='r')\n",
    "metadata = yaml.load(metadata_file, Loader=yaml.FullLoader)['opp_preprocess']\n",
    "FEATURES = [str(i) for i in range(77)]\n",
    "LOCO_LABEL_COL = 77\n",
    "MID_LABEL_COL = 78\n",
    "HI_LABEL_COL = 79\n",
    "SUBJECT_ID = 80\n",
    "RUN_ID = 81\n",
    "\n",
    "# df = df[df[str(HI_LABEL_COL)] != 0]\n",
    "df[FEATURES] = df[FEATURES].interpolate(method='linear', axis=0)\n",
    "df = df.fillna(0)\n",
    "\n",
    "scaler = StandardScaler()\n",
    "df[FEATURES] = scaler.fit_transform(df[FEATURES])"
   ]
  },
  {
   "cell_type": "code",
   "execution_count": 4,
   "metadata": {},
   "outputs": [],
   "source": [
    "NOVEL_CLASSES = [0]"
   ]
  },
  {
   "cell_type": "code",
   "execution_count": 5,
   "metadata": {},
   "outputs": [],
   "source": [
    "holdout_data = df.loc[df[str(MID_LABEL_COL)].isin(NOVEL_CLASSES)]\n",
    "novel_data = holdout_data.copy().reset_index(drop=True)\n",
    "\n",
    "df = df.drop(holdout_data.copy().index)\n",
    "df = df.reset_index(drop=True)"
   ]
  },
  {
   "cell_type": "code",
   "execution_count": 6,
   "metadata": {},
   "outputs": [],
   "source": [
    "BENCHMARK_TEST = ((df[str(SUBJECT_ID)] == 2) | (df[str(SUBJECT_ID)] == 3)) & (\n",
    "            (df[str(RUN_ID)] == 4) | (df[str(RUN_ID)] == 5))\n",
    "\n",
    "train_df = df[~ BENCHMARK_TEST]\n",
    "test_df = df[BENCHMARK_TEST]\n",
    "\n",
    "SLIDING_WINDOW_LENGTH = 30\n",
    "SLIDING_WINDOW_STEP = 15\n",
    "N_WINDOW, N_TIMESTEP = 10, 3\n",
    "\n",
    "X_train, y_train, m_labels_tr, loco_labels_tr = create_windowed_dataset_opp(train_df, FEATURES, str(\n",
    "    MID_LABEL_COL), MID_LABEL_COL, LOCO_LABEL_COL, window_size=SLIDING_WINDOW_LENGTH, stride=SLIDING_WINDOW_STEP)\n",
    "X_test, y_test, m_labels_ts, loco_labels_ts = create_windowed_dataset_opp(test_df, FEATURES, str(\n",
    "    MID_LABEL_COL), MID_LABEL_COL, LOCO_LABEL_COL, window_size=SLIDING_WINDOW_LENGTH, stride=SLIDING_WINDOW_STEP)\n",
    "\n",
    "X_train = X_train.reshape(\n",
    "    (X_train.shape[0], N_WINDOW, N_TIMESTEP, len(FEATURES)))\n",
    "X_test = X_test.reshape(\n",
    "    (X_test.shape[0], N_WINDOW, N_TIMESTEP, len(FEATURES)))\n",
    "\n",
    "y_train = tf.keras.utils.to_categorical(y_train)\n",
    "y_test = tf.keras.utils.to_categorical(y_test)"
   ]
  },
  {
   "cell_type": "code",
   "execution_count": 7,
   "metadata": {},
   "outputs": [],
   "source": [
    "X_holdout, y_holdout, m_labels_holdout, loco_labels_holdout = create_windowed_dataset_opp(novel_data,FEATURES,str(\n",
    "    MID_LABEL_COL), MID_LABEL_COL, LOCO_LABEL_COL, window_size=SLIDING_WINDOW_LENGTH, stride = SLIDING_WINDOW_STEP)\n",
    "\n",
    "X_holdout = X_holdout.reshape((X_holdout.shape[0], N_WINDOW, N_TIMESTEP, 77))\n",
    "y_holdout = tf.keras.utils.to_categorical(y_holdout)"
   ]
  },
  {
   "cell_type": "code",
   "execution_count": 8,
   "metadata": {},
   "outputs": [
    {
     "name": "stdout",
     "output_type": "stream",
     "text": [
      "(4637, 10, 3, 77)\n",
      "(4637, 18)\n",
      "(1038, 10, 3, 77)\n",
      "(1038, 18)\n",
      "(34946, 10, 3, 77)\n",
      "(34946, 1)\n"
     ]
    }
   ],
   "source": [
    "print(X_train.shape)\n",
    "print(y_train.shape)\n",
    "\n",
    "print(X_test.shape)\n",
    "print(y_test.shape)\n",
    "\n",
    "\n",
    "print(X_holdout.shape)\n",
    "print(y_holdout.shape)"
   ]
  },
  {
   "cell_type": "code",
   "execution_count": 9,
   "metadata": {},
   "outputs": [],
   "source": [
    "y_train_mid = np.repeat(np.expand_dims(y_train, axis=1), repeats=N_WINDOW, axis=1)\n",
    "# y_val_mid = np.repeat(np.expand_dims(y_val, axis=1), repeats=N_WINDOW, axis=1)\n",
    "y_test_mid = np.repeat(np.expand_dims(y_test, axis=1), repeats=N_WINDOW, axis=1)\n",
    "\n",
    "y_holdout_mid = np.repeat(np.expand_dims(y_holdout, axis=1), repeats=N_WINDOW, axis=1)"
   ]
  },
  {
   "cell_type": "code",
   "execution_count": 10,
   "metadata": {},
   "outputs": [],
   "source": [
    "hparam_file = open('../configs/hyperparameters.yaml', mode='r')\n",
    "hyperparameters = yaml.load(hparam_file, Loader=yaml.FullLoader)\n",
    "DATASET_NAME = 'opp'\n",
    "hparams_all = hyperparameters['HSA_model']\n",
    "hparams = hparams_all[DATASET_NAME]\n",
    "\n",
    "hparams['n_window'], hparams['n_timesteps'], hparams['n_features'], hparams['n_outputs'] = X_train.shape[1], X_train.shape[2], X_train.shape[3], y_train.shape[1]\n",
    "hparams['n_outputs_window']=  y_train.shape[1]"
   ]
  },
  {
   "cell_type": "markdown",
   "metadata": {},
   "source": [
    "## Training"
   ]
  },
  {
   "cell_type": "code",
   "execution_count": 11,
   "metadata": {},
   "outputs": [
    {
     "name": "stdout",
     "output_type": "stream",
     "text": [
      "8 Physical GPUs, 8 Logical GPUs\n"
     ]
    }
   ],
   "source": [
    "tf.keras.backend.clear_session()\n",
    "gpus = tf.config.experimental.list_physical_devices('GPU')\n",
    "if gpus:\n",
    "  try:\n",
    "    # Currently, memory growth needs to be the same across GPUs\n",
    "    for gpu in gpus:\n",
    "      tf.config.experimental.set_memory_growth(gpu, True)\n",
    "    logical_gpus = tf.config.experimental.list_logical_devices('GPU')\n",
    "    print(len(gpus), \"Physical GPUs,\", len(logical_gpus), \"Logical GPUs\")\n",
    "  except RuntimeError as e:\n",
    "    # Memory growth must be set before GPUs have been initialized\n",
    "    print(e)"
   ]
  },
  {
   "cell_type": "code",
   "execution_count": 12,
   "metadata": {},
   "outputs": [
    {
     "name": "stdout",
     "output_type": "stream",
     "text": [
      "INFO:tensorflow:Using MirroredStrategy with devices ('/job:localhost/replica:0/task:0/device:GPU:5', '/job:localhost/replica:0/task:0/device:GPU:6', '/job:localhost/replica:0/task:0/device:GPU:7')\n",
      "Number of devices: 3\n"
     ]
    }
   ],
   "source": [
    "device_list = ['/gpu:'+str(i) for i in range(5, 8)]\n",
    "strategy = tf.distribute.MirroredStrategy(devices=device_list)\n",
    "print('Number of devices: {}'.format(strategy.num_replicas_in_sync))\n",
    "with strategy.scope():\n",
    "    model = HSA_model_session_guided_window(**hparams).get_compiled_model()"
   ]
  },
  {
   "cell_type": "code",
   "execution_count": 13,
   "metadata": {},
   "outputs": [
    {
     "name": "stdout",
     "output_type": "stream",
     "text": [
      "Model: \"model_1\"\n",
      "__________________________________________________________________________________________________\n",
      "Layer (type)                    Output Shape         Param #     Connected to                     \n",
      "==================================================================================================\n",
      "input_1 (InputLayer)            [(None, 10, 3, 77)]  0                                            \n",
      "__________________________________________________________________________________________________\n",
      "multi_window_encoder (MultiWind ((None, None, 64), ( 754112      input_1[0][0]                    \n",
      "__________________________________________________________________________________________________\n",
      "modality_encoder_block_7 (Modal (None, None, 64)     104000      multi_window_encoder[0][0]       \n",
      "__________________________________________________________________________________________________\n",
      "combined_sensor_self_attention_ ((None, 64), (None,  49856       modality_encoder_block_7[0][0]   \n",
      "__________________________________________________________________________________________________\n",
      "tf_op_layer_Shape (TensorFlowOp [(2,)]               0           combined_sensor_self_attention_1[\n",
      "__________________________________________________________________________________________________\n",
      "tf_op_layer_ExpandDims (TensorF [(None, 1, 64)]      0           combined_sensor_self_attention_1[\n",
      "__________________________________________________________________________________________________\n",
      "tf_op_layer_strided_slice_7 (Te [(0,)]               0           tf_op_layer_Shape[0][0]          \n",
      "__________________________________________________________________________________________________\n",
      "tf_op_layer_strided_slice_8 (Te [(1,)]               0           tf_op_layer_Shape[0][0]          \n",
      "__________________________________________________________________________________________________\n",
      "tf_op_layer_Tile (TensorFlowOpL [(None, 10, 64)]     0           tf_op_layer_ExpandDims[0][0]     \n",
      "__________________________________________________________________________________________________\n",
      "tf_op_layer_concat (TensorFlowO [(2,)]               0           tf_op_layer_strided_slice_7[0][0]\n",
      "                                                                 tf_op_layer_strided_slice_8[0][0]\n",
      "__________________________________________________________________________________________________\n",
      "tf_op_layer_Reshape (TensorFlow [(None, 64)]         0           tf_op_layer_Tile[0][0]           \n",
      "                                                                 tf_op_layer_concat[0][0]         \n",
      "__________________________________________________________________________________________________\n",
      "reshape (Reshape)               (None, 10, 64)       0           tf_op_layer_Reshape[0][0]        \n",
      "__________________________________________________________________________________________________\n",
      "concatenate (Concatenate)       (None, 10, 128)      0           multi_window_encoder[0][0]       \n",
      "                                                                 reshape[0][0]                    \n",
      "__________________________________________________________________________________________________\n",
      "dense_108 (Dense)               (None, 10, 512)      66048       concatenate[0][0]                \n",
      "__________________________________________________________________________________________________\n",
      "dense_109 (Dense)               (None, 256)          16640       combined_sensor_self_attention_1[\n",
      "__________________________________________________________________________________________________\n",
      "window_pred (Dense)             (None, 10, 18)       9234        dense_108[0][0]                  \n",
      "__________________________________________________________________________________________________\n",
      "session_pred (Dense)            (None, 18)           4626        dense_109[0][0]                  \n",
      "==================================================================================================\n",
      "Total params: 1,004,516\n",
      "Trainable params: 1,004,516\n",
      "Non-trainable params: 0\n",
      "__________________________________________________________________________________________________\n"
     ]
    }
   ],
   "source": [
    "model.summary()"
   ]
  },
  {
   "cell_type": "code",
   "execution_count": 14,
   "metadata": {},
   "outputs": [],
   "source": [
    "checkpoint_filepath = \"opp_vae_checkpoints/cp-{epoch:04d}.ckpt\"\n",
    "\n",
    "model_checkpoint_callback = tf.keras.callbacks.ModelCheckpoint(filepath=checkpoint_filepath,\n",
    "                                                               save_weights_only=True)                            "
   ]
  },
  {
   "cell_type": "code",
   "execution_count": 15,
   "metadata": {},
   "outputs": [
    {
     "name": "stdout",
     "output_type": "stream",
     "text": [
      "Epoch 1/60\n",
      "INFO:tensorflow:batch_all_reduce: 292 all-reduces with algorithm = nccl, num_packs = 1\n",
      "INFO:tensorflow:Reduce to /job:localhost/replica:0/task:0/device:CPU:0 then broadcast to ('/job:localhost/replica:0/task:0/device:CPU:0',).\n",
      "INFO:tensorflow:Reduce to /job:localhost/replica:0/task:0/device:CPU:0 then broadcast to ('/job:localhost/replica:0/task:0/device:CPU:0',).\n",
      "INFO:tensorflow:Reduce to /job:localhost/replica:0/task:0/device:CPU:0 then broadcast to ('/job:localhost/replica:0/task:0/device:CPU:0',).\n",
      "INFO:tensorflow:Reduce to /job:localhost/replica:0/task:0/device:CPU:0 then broadcast to ('/job:localhost/replica:0/task:0/device:CPU:0',).\n",
      "INFO:tensorflow:Reduce to /job:localhost/replica:0/task:0/device:CPU:0 then broadcast to ('/job:localhost/replica:0/task:0/device:CPU:0',).\n",
      "INFO:tensorflow:Reduce to /job:localhost/replica:0/task:0/device:CPU:0 then broadcast to ('/job:localhost/replica:0/task:0/device:CPU:0',).\n",
      "INFO:tensorflow:Reduce to /job:localhost/replica:0/task:0/device:CPU:0 then broadcast to ('/job:localhost/replica:0/task:0/device:CPU:0',).\n",
      "INFO:tensorflow:Reduce to /job:localhost/replica:0/task:0/device:CPU:0 then broadcast to ('/job:localhost/replica:0/task:0/device:CPU:0',).\n",
      "INFO:tensorflow:Reduce to /job:localhost/replica:0/task:0/device:CPU:0 then broadcast to ('/job:localhost/replica:0/task:0/device:CPU:0',).\n",
      "INFO:tensorflow:Reduce to /job:localhost/replica:0/task:0/device:CPU:0 then broadcast to ('/job:localhost/replica:0/task:0/device:CPU:0',).\n",
      "INFO:tensorflow:batch_all_reduce: 292 all-reduces with algorithm = nccl, num_packs = 1\n",
      "11/11 [==============================] - 16s 1s/step - session_pred_accuracy: 0.3477 - session_pred_loss: 2.1559 - window_pred_accuracy: 0.4135 - window_pred_loss: 1.9088 - loss: 4.0648 - val_session_pred_accuracy: 0.3858 - val_session_pred_loss: 1.8347 - val_window_pred_accuracy: 0.5063 - val_window_pred_loss: 1.4536 - val_loss: 3.2883\n",
      "Epoch 2/60\n",
      "11/11 [==============================] - 2s 175ms/step - session_pred_accuracy: 0.5684 - session_pred_loss: 1.2977 - window_pred_accuracy: 0.6136 - window_pred_loss: 1.1186 - loss: 2.4163 - val_session_pred_accuracy: 0.5647 - val_session_pred_loss: 1.2121 - val_window_pred_accuracy: 0.5843 - val_window_pred_loss: 1.1029 - val_loss: 2.3150\n",
      "Epoch 3/60\n",
      "11/11 [==============================] - 2s 172ms/step - session_pred_accuracy: 0.6765 - session_pred_loss: 0.9320 - window_pred_accuracy: 0.6915 - window_pred_loss: 0.8370 - loss: 1.7690 - val_session_pred_accuracy: 0.6250 - val_session_pred_loss: 1.0141 - val_window_pred_accuracy: 0.6448 - val_window_pred_loss: 0.9554 - val_loss: 1.9696\n",
      "Epoch 4/60\n",
      "11/11 [==============================] - 2s 173ms/step - session_pred_accuracy: 0.7323 - session_pred_loss: 0.7365 - window_pred_accuracy: 0.7451 - window_pred_loss: 0.6817 - loss: 1.4182 - val_session_pred_accuracy: 0.7047 - val_session_pred_loss: 0.8038 - val_window_pred_accuracy: 0.6944 - val_window_pred_loss: 0.7880 - val_loss: 1.5918\n",
      "Epoch 5/60\n",
      "11/11 [==============================] - 2s 174ms/step - session_pred_accuracy: 0.7723 - session_pred_loss: 0.6400 - window_pred_accuracy: 0.7869 - window_pred_loss: 0.5874 - loss: 1.2273 - val_session_pred_accuracy: 0.7134 - val_session_pred_loss: 0.7874 - val_window_pred_accuracy: 0.7112 - val_window_pred_loss: 0.8013 - val_loss: 1.5888\n",
      "Epoch 6/60\n",
      "11/11 [==============================] - 2s 175ms/step - session_pred_accuracy: 0.7927 - session_pred_loss: 0.5617 - window_pred_accuracy: 0.8026 - window_pred_loss: 0.5257 - loss: 1.0874 - val_session_pred_accuracy: 0.7328 - val_session_pred_loss: 0.8245 - val_window_pred_accuracy: 0.7308 - val_window_pred_loss: 0.7723 - val_loss: 1.5968\n",
      "Epoch 7/60\n",
      "11/11 [==============================] - 2s 179ms/step - session_pred_accuracy: 0.8107 - session_pred_loss: 0.5027 - window_pred_accuracy: 0.8244 - window_pred_loss: 0.4706 - loss: 0.9733 - val_session_pred_accuracy: 0.7328 - val_session_pred_loss: 0.7338 - val_window_pred_accuracy: 0.7319 - val_window_pred_loss: 0.7329 - val_loss: 1.4667\n",
      "Epoch 8/60\n",
      "11/11 [==============================] - 2s 171ms/step - session_pred_accuracy: 0.8392 - session_pred_loss: 0.4427 - window_pred_accuracy: 0.8507 - window_pred_loss: 0.4152 - loss: 0.8579 - val_session_pred_accuracy: 0.7543 - val_session_pred_loss: 0.7228 - val_window_pred_accuracy: 0.7700 - val_window_pred_loss: 0.6873 - val_loss: 1.4100\n",
      "Epoch 9/60\n",
      "11/11 [==============================] - 2s 176ms/step - session_pred_accuracy: 0.8663 - session_pred_loss: 0.3725 - window_pred_accuracy: 0.8741 - window_pred_loss: 0.3493 - loss: 0.7218 - val_session_pred_accuracy: 0.7672 - val_session_pred_loss: 0.6651 - val_window_pred_accuracy: 0.7772 - val_window_pred_loss: 0.6513 - val_loss: 1.3164\n",
      "Epoch 10/60\n",
      "11/11 [==============================] - 2s 176ms/step - session_pred_accuracy: 0.8699 - session_pred_loss: 0.3605 - window_pred_accuracy: 0.8789 - window_pred_loss: 0.3333 - loss: 0.6939 - val_session_pred_accuracy: 0.7543 - val_session_pred_loss: 0.7324 - val_window_pred_accuracy: 0.7711 - val_window_pred_loss: 0.6579 - val_loss: 1.3903\n",
      "Epoch 11/60\n",
      "11/11 [==============================] - 2s 169ms/step - session_pred_accuracy: 0.8751 - session_pred_loss: 0.3502 - window_pred_accuracy: 0.8842 - window_pred_loss: 0.3253 - loss: 0.6754 - val_session_pred_accuracy: 0.7543 - val_session_pred_loss: 0.7508 - val_window_pred_accuracy: 0.7659 - val_window_pred_loss: 0.7642 - val_loss: 1.5150\n",
      "Epoch 12/60\n",
      "11/11 [==============================] - 2s 170ms/step - session_pred_accuracy: 0.8900 - session_pred_loss: 0.3026 - window_pred_accuracy: 0.8954 - window_pred_loss: 0.2833 - loss: 0.5859 - val_session_pred_accuracy: 0.7328 - val_session_pred_loss: 0.8157 - val_window_pred_accuracy: 0.7466 - val_window_pred_loss: 0.7651 - val_loss: 1.5808\n",
      "Epoch 13/60\n",
      "11/11 [==============================] - 2s 173ms/step - session_pred_accuracy: 0.9049 - session_pred_loss: 0.2645 - window_pred_accuracy: 0.9115 - window_pred_loss: 0.2470 - loss: 0.5115 - val_session_pred_accuracy: 0.7802 - val_session_pred_loss: 0.6482 - val_window_pred_accuracy: 0.7903 - val_window_pred_loss: 0.6394 - val_loss: 1.2877\n",
      "Epoch 14/60\n",
      "11/11 [==============================] - 2s 172ms/step - session_pred_accuracy: 0.9041 - session_pred_loss: 0.2612 - window_pred_accuracy: 0.9136 - window_pred_loss: 0.2367 - loss: 0.4979 - val_session_pred_accuracy: 0.7780 - val_session_pred_loss: 0.7504 - val_window_pred_accuracy: 0.7733 - val_window_pred_loss: 0.7497 - val_loss: 1.5001\n",
      "Epoch 15/60\n",
      "11/11 [==============================] - 2s 173ms/step - session_pred_accuracy: 0.9094 - session_pred_loss: 0.2545 - window_pred_accuracy: 0.9135 - window_pred_loss: 0.2392 - loss: 0.4937 - val_session_pred_accuracy: 0.7047 - val_session_pred_loss: 0.9258 - val_window_pred_accuracy: 0.7394 - val_window_pred_loss: 0.8658 - val_loss: 1.7917\n",
      "Epoch 16/60\n",
      "11/11 [==============================] - 2s 170ms/step - session_pred_accuracy: 0.9264 - session_pred_loss: 0.2169 - window_pred_accuracy: 0.9280 - window_pred_loss: 0.2028 - loss: 0.4197 - val_session_pred_accuracy: 0.7651 - val_session_pred_loss: 0.8190 - val_window_pred_accuracy: 0.7705 - val_window_pred_loss: 0.8235 - val_loss: 1.6425\n",
      "Epoch 17/60\n",
      "11/11 [==============================] - 2s 170ms/step - session_pred_accuracy: 0.9293 - session_pred_loss: 0.2079 - window_pred_accuracy: 0.9303 - window_pred_loss: 0.1951 - loss: 0.4030 - val_session_pred_accuracy: 0.7780 - val_session_pred_loss: 0.7802 - val_window_pred_accuracy: 0.7832 - val_window_pred_loss: 0.7925 - val_loss: 1.5728\n",
      "Epoch 18/60\n",
      "11/11 [==============================] - 2s 164ms/step - session_pred_accuracy: 0.9305 - session_pred_loss: 0.1917 - window_pred_accuracy: 0.9349 - window_pred_loss: 0.1795 - loss: 0.3712 - val_session_pred_accuracy: 0.7565 - val_session_pred_loss: 0.8041 - val_window_pred_accuracy: 0.7722 - val_window_pred_loss: 0.7997 - val_loss: 1.6038\n",
      "Epoch 19/60\n",
      "11/11 [==============================] - 2s 160ms/step - session_pred_accuracy: 0.9384 - session_pred_loss: 0.1774 - window_pred_accuracy: 0.9419 - window_pred_loss: 0.1640 - loss: 0.3414 - val_session_pred_accuracy: 0.8082 - val_session_pred_loss: 0.7084 - val_window_pred_accuracy: 0.8071 - val_window_pred_loss: 0.6992 - val_loss: 1.4076\n",
      "Epoch 20/60\n",
      "11/11 [==============================] - 2s 168ms/step - session_pred_accuracy: 0.9504 - session_pred_loss: 0.1401 - window_pred_accuracy: 0.9535 - window_pred_loss: 0.1322 - loss: 0.2723 - val_session_pred_accuracy: 0.8060 - val_session_pred_loss: 0.7779 - val_window_pred_accuracy: 0.8022 - val_window_pred_loss: 0.8119 - val_loss: 1.5898\n",
      "Epoch 21/60\n",
      "11/11 [==============================] - 2s 172ms/step - session_pred_accuracy: 0.9506 - session_pred_loss: 0.1440 - window_pred_accuracy: 0.9537 - window_pred_loss: 0.1347 - loss: 0.2787 - val_session_pred_accuracy: 0.7866 - val_session_pred_loss: 0.8442 - val_window_pred_accuracy: 0.7920 - val_window_pred_loss: 0.8630 - val_loss: 1.7072\n",
      "Epoch 22/60\n",
      "11/11 [==============================] - 2s 164ms/step - session_pred_accuracy: 0.9516 - session_pred_loss: 0.1414 - window_pred_accuracy: 0.9546 - window_pred_loss: 0.1313 - loss: 0.2727 - val_session_pred_accuracy: 0.7845 - val_session_pred_loss: 0.8957 - val_window_pred_accuracy: 0.7838 - val_window_pred_loss: 0.9639 - val_loss: 1.8596\n",
      "Epoch 23/60\n",
      "11/11 [==============================] - 2s 169ms/step - session_pred_accuracy: 0.9561 - session_pred_loss: 0.1232 - window_pred_accuracy: 0.9575 - window_pred_loss: 0.1160 - loss: 0.2392 - val_session_pred_accuracy: 0.7974 - val_session_pred_loss: 0.8516 - val_window_pred_accuracy: 0.7890 - val_window_pred_loss: 0.8484 - val_loss: 1.7000\n",
      "Epoch 24/60\n",
      "11/11 [==============================] - 2s 173ms/step - session_pred_accuracy: 0.9583 - session_pred_loss: 0.1263 - window_pred_accuracy: 0.9590 - window_pred_loss: 0.1176 - loss: 0.2438 - val_session_pred_accuracy: 0.7802 - val_session_pred_loss: 0.8690 - val_window_pred_accuracy: 0.7828 - val_window_pred_loss: 0.9021 - val_loss: 1.7711\n",
      "Epoch 25/60\n",
      "11/11 [==============================] - 2s 221ms/step - session_pred_accuracy: 0.9583 - session_pred_loss: 0.1176 - window_pred_accuracy: 0.9617 - window_pred_loss: 0.1068 - loss: 0.2245 - val_session_pred_accuracy: 0.7672 - val_session_pred_loss: 0.9749 - val_window_pred_accuracy: 0.7713 - val_window_pred_loss: 1.0186 - val_loss: 1.9935\n",
      "Epoch 26/60\n",
      "11/11 [==============================] - 2s 168ms/step - session_pred_accuracy: 0.9540 - session_pred_loss: 0.1324 - window_pred_accuracy: 0.9573 - window_pred_loss: 0.1217 - loss: 0.2541 - val_session_pred_accuracy: 0.7780 - val_session_pred_loss: 0.9111 - val_window_pred_accuracy: 0.7925 - val_window_pred_loss: 0.9062 - val_loss: 1.8173\n",
      "Epoch 27/60\n",
      "11/11 [==============================] - 2s 171ms/step - session_pred_accuracy: 0.9497 - session_pred_loss: 0.1449 - window_pred_accuracy: 0.9519 - window_pred_loss: 0.1359 - loss: 0.2808 - val_session_pred_accuracy: 0.7543 - val_session_pred_loss: 1.0064 - val_window_pred_accuracy: 0.7595 - val_window_pred_loss: 1.0626 - val_loss: 2.0690\n",
      "Epoch 28/60\n",
      "11/11 [==============================] - 2s 170ms/step - session_pred_accuracy: 0.9607 - session_pred_loss: 0.1180 - window_pred_accuracy: 0.9617 - window_pred_loss: 0.1076 - loss: 0.2257 - val_session_pred_accuracy: 0.7931 - val_session_pred_loss: 0.8550 - val_window_pred_accuracy: 0.8080 - val_window_pred_loss: 0.8895 - val_loss: 1.7445\n",
      "Epoch 29/60\n",
      "11/11 [==============================] - 2s 174ms/step - session_pred_accuracy: 0.9691 - session_pred_loss: 0.0935 - window_pred_accuracy: 0.9688 - window_pred_loss: 0.0885 - loss: 0.1821 - val_session_pred_accuracy: 0.7888 - val_session_pred_loss: 1.0086 - val_window_pred_accuracy: 0.7776 - val_window_pred_loss: 1.0313 - val_loss: 2.0399\n",
      "Epoch 30/60\n",
      "11/11 [==============================] - 2s 172ms/step - session_pred_accuracy: 0.9760 - session_pred_loss: 0.0737 - window_pred_accuracy: 0.9778 - window_pred_loss: 0.0666 - loss: 0.1403 - val_session_pred_accuracy: 0.8082 - val_session_pred_loss: 0.8608 - val_window_pred_accuracy: 0.8101 - val_window_pred_loss: 0.9113 - val_loss: 1.7720\n",
      "Epoch 31/60\n",
      "11/11 [==============================] - 2s 172ms/step - session_pred_accuracy: 0.9739 - session_pred_loss: 0.0817 - window_pred_accuracy: 0.9728 - window_pred_loss: 0.0769 - loss: 0.1585 - val_session_pred_accuracy: 0.7931 - val_session_pred_loss: 0.9560 - val_window_pred_accuracy: 0.7905 - val_window_pred_loss: 1.0240 - val_loss: 1.9800\n",
      "Epoch 32/60\n",
      "11/11 [==============================] - 2s 167ms/step - session_pred_accuracy: 0.9657 - session_pred_loss: 0.1054 - window_pred_accuracy: 0.9661 - window_pred_loss: 0.1008 - loss: 0.2062 - val_session_pred_accuracy: 0.8060 - val_session_pred_loss: 0.9986 - val_window_pred_accuracy: 0.8097 - val_window_pred_loss: 1.0455 - val_loss: 2.0441\n",
      "Epoch 33/60\n",
      "11/11 [==============================] - 2s 159ms/step - session_pred_accuracy: 0.9657 - session_pred_loss: 0.0954 - window_pred_accuracy: 0.9685 - window_pred_loss: 0.0877 - loss: 0.1830 - val_session_pred_accuracy: 0.7953 - val_session_pred_loss: 0.9861 - val_window_pred_accuracy: 0.8028 - val_window_pred_loss: 1.0241 - val_loss: 2.0102\n",
      "Epoch 34/60\n",
      "11/11 [==============================] - 2s 167ms/step - session_pred_accuracy: 0.9698 - session_pred_loss: 0.0931 - window_pred_accuracy: 0.9702 - window_pred_loss: 0.0868 - loss: 0.1799 - val_session_pred_accuracy: 0.7069 - val_session_pred_loss: 1.5082 - val_window_pred_accuracy: 0.7091 - val_window_pred_loss: 1.5682 - val_loss: 3.0764\n",
      "Epoch 35/60\n",
      "11/11 [==============================] - 2s 169ms/step - session_pred_accuracy: 0.9748 - session_pred_loss: 0.0772 - window_pred_accuracy: 0.9759 - window_pred_loss: 0.0713 - loss: 0.1486 - val_session_pred_accuracy: 0.7672 - val_session_pred_loss: 1.1312 - val_window_pred_accuracy: 0.7619 - val_window_pred_loss: 1.1914 - val_loss: 2.3225\n",
      "Epoch 36/60\n",
      "11/11 [==============================] - 2s 171ms/step - session_pred_accuracy: 0.9712 - session_pred_loss: 0.0821 - window_pred_accuracy: 0.9728 - window_pred_loss: 0.0760 - loss: 0.1581 - val_session_pred_accuracy: 0.8233 - val_session_pred_loss: 0.9200 - val_window_pred_accuracy: 0.8198 - val_window_pred_loss: 0.9594 - val_loss: 1.8794\n",
      "Epoch 37/60\n",
      "11/11 [==============================] - 2s 169ms/step - session_pred_accuracy: 0.9744 - session_pred_loss: 0.0716 - window_pred_accuracy: 0.9767 - window_pred_loss: 0.0653 - loss: 0.1369 - val_session_pred_accuracy: 0.8017 - val_session_pred_loss: 1.0175 - val_window_pred_accuracy: 0.8002 - val_window_pred_loss: 1.0703 - val_loss: 2.0878\n",
      "Epoch 38/60\n",
      "11/11 [==============================] - 2s 169ms/step - session_pred_accuracy: 0.9753 - session_pred_loss: 0.0662 - window_pred_accuracy: 0.9775 - window_pred_loss: 0.0615 - loss: 0.1277 - val_session_pred_accuracy: 0.7716 - val_session_pred_loss: 1.1919 - val_window_pred_accuracy: 0.7752 - val_window_pred_loss: 1.2369 - val_loss: 2.4288\n",
      "Epoch 39/60\n",
      "11/11 [==============================] - 2s 165ms/step - session_pred_accuracy: 0.9789 - session_pred_loss: 0.0581 - window_pred_accuracy: 0.9829 - window_pred_loss: 0.0501 - loss: 0.1082 - val_session_pred_accuracy: 0.8103 - val_session_pred_loss: 1.0468 - val_window_pred_accuracy: 0.8159 - val_window_pred_loss: 1.0907 - val_loss: 2.1375\n",
      "Epoch 40/60\n",
      "11/11 [==============================] - 2s 168ms/step - session_pred_accuracy: 0.9780 - session_pred_loss: 0.0662 - window_pred_accuracy: 0.9797 - window_pred_loss: 0.0611 - loss: 0.1273 - val_session_pred_accuracy: 0.7866 - val_session_pred_loss: 1.1156 - val_window_pred_accuracy: 0.7931 - val_window_pred_loss: 1.1661 - val_loss: 2.2816\n",
      "Epoch 41/60\n",
      "11/11 [==============================] - 2s 172ms/step - session_pred_accuracy: 0.9669 - session_pred_loss: 0.0885 - window_pred_accuracy: 0.9698 - window_pred_loss: 0.0835 - loss: 0.1721 - val_session_pred_accuracy: 0.8017 - val_session_pred_loss: 1.0592 - val_window_pred_accuracy: 0.8024 - val_window_pred_loss: 1.1264 - val_loss: 2.1856\n",
      "Epoch 42/60\n",
      "11/11 [==============================] - 2s 167ms/step - session_pred_accuracy: 0.9700 - session_pred_loss: 0.0868 - window_pred_accuracy: 0.9720 - window_pred_loss: 0.0783 - loss: 0.1651 - val_session_pred_accuracy: 0.8017 - val_session_pred_loss: 0.9368 - val_window_pred_accuracy: 0.8030 - val_window_pred_loss: 0.9771 - val_loss: 1.9139\n",
      "Epoch 43/60\n",
      "11/11 [==============================] - 2s 171ms/step - session_pred_accuracy: 0.9698 - session_pred_loss: 0.0841 - window_pred_accuracy: 0.9717 - window_pred_loss: 0.0777 - loss: 0.1618 - val_session_pred_accuracy: 0.7996 - val_session_pred_loss: 1.0024 - val_window_pred_accuracy: 0.8006 - val_window_pred_loss: 1.0652 - val_loss: 2.0676\n",
      "Epoch 44/60\n",
      "11/11 [==============================] - 2s 167ms/step - session_pred_accuracy: 0.9712 - session_pred_loss: 0.0909 - window_pred_accuracy: 0.9713 - window_pred_loss: 0.0848 - loss: 0.1757 - val_session_pred_accuracy: 0.7866 - val_session_pred_loss: 1.0385 - val_window_pred_accuracy: 0.7888 - val_window_pred_loss: 1.0691 - val_loss: 2.1076\n",
      "Epoch 45/60\n",
      "11/11 [==============================] - 2s 166ms/step - session_pred_accuracy: 0.9705 - session_pred_loss: 0.0848 - window_pred_accuracy: 0.9711 - window_pred_loss: 0.0786 - loss: 0.1634 - val_session_pred_accuracy: 0.8190 - val_session_pred_loss: 0.9965 - val_window_pred_accuracy: 0.8164 - val_window_pred_loss: 1.0784 - val_loss: 2.0748\n",
      "Epoch 46/60\n",
      "11/11 [==============================] - 2s 165ms/step - session_pred_accuracy: 0.9813 - session_pred_loss: 0.0582 - window_pred_accuracy: 0.9810 - window_pred_loss: 0.0543 - loss: 0.1125 - val_session_pred_accuracy: 0.8103 - val_session_pred_loss: 0.9545 - val_window_pred_accuracy: 0.8194 - val_window_pred_loss: 1.0001 - val_loss: 1.9546\n",
      "Epoch 47/60\n",
      "11/11 [==============================] - 2s 159ms/step - session_pred_accuracy: 0.9832 - session_pred_loss: 0.0501 - window_pred_accuracy: 0.9845 - window_pred_loss: 0.0457 - loss: 0.0958 - val_session_pred_accuracy: 0.7823 - val_session_pred_loss: 1.1227 - val_window_pred_accuracy: 0.7864 - val_window_pred_loss: 1.1714 - val_loss: 2.2941\n",
      "Epoch 48/60\n",
      "11/11 [==============================] - 2s 167ms/step - session_pred_accuracy: 0.9832 - session_pred_loss: 0.0464 - window_pred_accuracy: 0.9839 - window_pred_loss: 0.0433 - loss: 0.0898 - val_session_pred_accuracy: 0.8082 - val_session_pred_loss: 1.0630 - val_window_pred_accuracy: 0.8041 - val_window_pred_loss: 1.1232 - val_loss: 2.1862\n",
      "Epoch 49/60\n",
      "11/11 [==============================] - 2s 165ms/step - session_pred_accuracy: 0.9736 - session_pred_loss: 0.0728 - window_pred_accuracy: 0.9758 - window_pred_loss: 0.0687 - loss: 0.1414 - val_session_pred_accuracy: 0.8233 - val_session_pred_loss: 0.9528 - val_window_pred_accuracy: 0.8209 - val_window_pred_loss: 0.9824 - val_loss: 1.9352\n",
      "Epoch 50/60\n",
      "11/11 [==============================] - 2s 176ms/step - session_pred_accuracy: 0.9792 - session_pred_loss: 0.0601 - window_pred_accuracy: 0.9812 - window_pred_loss: 0.0544 - loss: 0.1145 - val_session_pred_accuracy: 0.8103 - val_session_pred_loss: 1.0340 - val_window_pred_accuracy: 0.8088 - val_window_pred_loss: 1.0847 - val_loss: 2.1187\n",
      "Epoch 51/60\n",
      "11/11 [==============================] - 2s 167ms/step - session_pred_accuracy: 0.9835 - session_pred_loss: 0.0567 - window_pred_accuracy: 0.9821 - window_pred_loss: 0.0538 - loss: 0.1105 - val_session_pred_accuracy: 0.7780 - val_session_pred_loss: 1.1863 - val_window_pred_accuracy: 0.7756 - val_window_pred_loss: 1.2270 - val_loss: 2.4132\n",
      "Epoch 52/60\n",
      "11/11 [==============================] - 2s 169ms/step - session_pred_accuracy: 0.9780 - session_pred_loss: 0.0653 - window_pred_accuracy: 0.9788 - window_pred_loss: 0.0613 - loss: 0.1266 - val_session_pred_accuracy: 0.8211 - val_session_pred_loss: 1.0046 - val_window_pred_accuracy: 0.8295 - val_window_pred_loss: 1.0464 - val_loss: 2.0510\n",
      "Epoch 53/60\n",
      "11/11 [==============================] - 2s 167ms/step - session_pred_accuracy: 0.9856 - session_pred_loss: 0.0458 - window_pred_accuracy: 0.9869 - window_pred_loss: 0.0412 - loss: 0.0870 - val_session_pred_accuracy: 0.8168 - val_session_pred_loss: 0.8749 - val_window_pred_accuracy: 0.8211 - val_window_pred_loss: 0.9075 - val_loss: 1.7824\n",
      "Epoch 54/60\n",
      "11/11 [==============================] - 2s 167ms/step - session_pred_accuracy: 0.9868 - session_pred_loss: 0.0400 - window_pred_accuracy: 0.9878 - window_pred_loss: 0.0389 - loss: 0.0789 - val_session_pred_accuracy: 0.7845 - val_session_pred_loss: 1.0968 - val_window_pred_accuracy: 0.7886 - val_window_pred_loss: 1.1507 - val_loss: 2.2475\n",
      "Epoch 55/60\n",
      "11/11 [==============================] - 2s 169ms/step - session_pred_accuracy: 0.9849 - session_pred_loss: 0.0493 - window_pred_accuracy: 0.9848 - window_pred_loss: 0.0475 - loss: 0.0968 - val_session_pred_accuracy: 0.8211 - val_session_pred_loss: 0.9777 - val_window_pred_accuracy: 0.8157 - val_window_pred_loss: 1.0115 - val_loss: 1.9892\n",
      "Epoch 56/60\n",
      "11/11 [==============================] - 2s 171ms/step - session_pred_accuracy: 0.9751 - session_pred_loss: 0.0743 - window_pred_accuracy: 0.9751 - window_pred_loss: 0.0734 - loss: 0.1477 - val_session_pred_accuracy: 0.7586 - val_session_pred_loss: 1.2743 - val_window_pred_accuracy: 0.7606 - val_window_pred_loss: 1.2990 - val_loss: 2.5734\n",
      "Epoch 57/60\n",
      "11/11 [==============================] - 2s 164ms/step - session_pred_accuracy: 0.9763 - session_pred_loss: 0.0687 - window_pred_accuracy: 0.9767 - window_pred_loss: 0.0663 - loss: 0.1350 - val_session_pred_accuracy: 0.7780 - val_session_pred_loss: 1.1637 - val_window_pred_accuracy: 0.7864 - val_window_pred_loss: 1.1895 - val_loss: 2.3531\n",
      "Epoch 58/60\n",
      "11/11 [==============================] - 2s 162ms/step - session_pred_accuracy: 0.9799 - session_pred_loss: 0.0653 - window_pred_accuracy: 0.9801 - window_pred_loss: 0.0593 - loss: 0.1246 - val_session_pred_accuracy: 0.7974 - val_session_pred_loss: 1.0349 - val_window_pred_accuracy: 0.7974 - val_window_pred_loss: 1.1049 - val_loss: 2.1398\n",
      "Epoch 59/60\n",
      "11/11 [==============================] - 2s 163ms/step - session_pred_accuracy: 0.9811 - session_pred_loss: 0.0497 - window_pred_accuracy: 0.9825 - window_pred_loss: 0.0484 - loss: 0.0981 - val_session_pred_accuracy: 0.8082 - val_session_pred_loss: 0.9928 - val_window_pred_accuracy: 0.8022 - val_window_pred_loss: 1.0516 - val_loss: 2.0444\n",
      "Epoch 60/60\n",
      "11/11 [==============================] - 2s 166ms/step - session_pred_accuracy: 0.9837 - session_pred_loss: 0.0474 - window_pred_accuracy: 0.9830 - window_pred_loss: 0.0454 - loss: 0.0928 - val_session_pred_accuracy: 0.8297 - val_session_pred_loss: 0.8695 - val_window_pred_accuracy: 0.8349 - val_window_pred_loss: 0.9254 - val_loss: 1.7949\n"
     ]
    },
    {
     "data": {
      "text/plain": [
       "<tensorflow.python.keras.callbacks.History at 0x7ff51058d400>"
      ]
     },
     "execution_count": 15,
     "metadata": {},
     "output_type": "execute_result"
    }
   ],
   "source": [
    "model.fit(X_train, [y_train_mid, y_train], batch_size=len(device_list) * 128, epochs=60, validation_split=0.1, use_multiprocessing=True, callbacks=[model_checkpoint_callback])"
   ]
  },
  {
   "cell_type": "code",
   "execution_count": 16,
   "metadata": {},
   "outputs": [],
   "source": [
    "pred_mid, pred_sess = model.predict(X_test, batch_size=len(device_list) * 64)"
   ]
  },
  {
   "cell_type": "code",
   "execution_count": 17,
   "metadata": {},
   "outputs": [],
   "source": [
    "activity_list = ['Other', 'Open Door 1', 'Open Door 2', 'Close Door 1',\n",
    "                    'Close Door 2', 'Open Fridge', 'Close Fridge', \n",
    "                    'Open Dishwasher', 'Close Dishwasher', 'Open Drawer 1', \n",
    "                    'Close Drawer 1', 'Open Drawer 2', 'Close Drawer 2', \n",
    "                    'Open Drawer 3', 'Close Drawer 3', 'Clean Table', \n",
    "                    'Drink from Cup', 'Toggle Switch']"
   ]
  },
  {
   "cell_type": "code",
   "execution_count": 18,
   "metadata": {},
   "outputs": [
    {
     "name": "stdout",
     "output_type": "stream",
     "text": [
      "                  precision    recall  f1-score   support\n",
      "\n",
      "     Open Door 1       0.72      0.76      0.74        38\n",
      "     Open Door 2       0.94      0.94      0.94        66\n",
      "    Close Door 1       0.64      0.85      0.73        41\n",
      "    Close Door 2       0.89      0.93      0.91        54\n",
      "     Open Fridge       0.94      0.84      0.89       141\n",
      "    Close Fridge       0.82      0.95      0.88        88\n",
      " Open Dishwasher       0.72      0.91      0.81        57\n",
      "Close Dishwasher       0.77      0.86      0.81        42\n",
      "   Open Drawer 1       0.44      0.40      0.42        20\n",
      "  Close Drawer 1       0.39      0.50      0.44        24\n",
      "   Open Drawer 2       0.55      0.57      0.56        21\n",
      "  Close Drawer 2       0.21      0.33      0.26        12\n",
      "   Open Drawer 3       0.89      0.69      0.78        36\n",
      "  Close Drawer 3       0.88      0.50      0.64        30\n",
      "     Clean Table       0.98      0.88      0.93        73\n",
      "  Drink from Cup       0.96      0.87      0.91       234\n",
      "   Toggle Switch       0.85      0.87      0.86        61\n",
      "\n",
      "        accuracy                           0.83      1038\n",
      "       macro avg       0.74      0.74      0.74      1038\n",
      "    weighted avg       0.85      0.83      0.84      1038\n",
      "\n"
     ]
    }
   ],
   "source": [
    "print(classification_report(np.argmax(y_test, axis=1), np.argmax(pred_sess, axis=1), target_names=activity_list[1:]))"
   ]
  },
  {
   "cell_type": "code",
   "execution_count": 19,
   "metadata": {},
   "outputs": [],
   "source": [
    "# import json\n",
    "# activity_map = json.load(open(os.path.join('..','data', 'activity_maps', 'opp_activity.json')))"
   ]
  },
  {
   "cell_type": "code",
   "execution_count": null,
   "metadata": {},
   "outputs": [],
   "source": []
  },
  {
   "cell_type": "code",
   "execution_count": 20,
   "metadata": {},
   "outputs": [
    {
     "data": {
      "text/plain": [
       "<AxesSubplot:>"
      ]
     },
     "execution_count": 20,
     "metadata": {},
     "output_type": "execute_result"
    },
    {
     "data": {
      "image/png": "[encoded data removed]",
      "text/plain": [
       "<Figure size 720x576 with 2 Axes>"
      ]
     },
     "metadata": {
      "needs_background": "light"
     },
     "output_type": "display_data"
    }
   ],
   "source": [
    "confm = confusion_matrix(np.argmax(y_test, axis=1), np.argmax(pred_sess, axis=1))\n",
    "df_cm = pd.DataFrame(confm, index=activity_list[1:], columns=activity_list[1:])\n",
    "plt.figure(figsize = (10,8))\n",
    "sns.heatmap(df_cm, annot=True, fmt='d', cmap=\"YlGnBu\")"
   ]
  },
  {
   "cell_type": "markdown",
   "metadata": {},
   "source": [
    "## VAE"
   ]
  },
  {
   "cell_type": "code",
   "execution_count": 21,
   "metadata": {},
   "outputs": [
    {
     "name": "stdout",
     "output_type": "stream",
     "text": [
      "input_1\n",
      "multi_window_encoder\n",
      "modality_encoder_block_7\n",
      "combined_sensor_self_attention_1\n",
      "tf_op_layer_Shape\n",
      "tf_op_layer_ExpandDims\n",
      "tf_op_layer_strided_slice_7\n",
      "tf_op_layer_strided_slice_8\n",
      "tf_op_layer_Tile\n",
      "tf_op_layer_concat\n",
      "tf_op_layer_Reshape\n",
      "reshape\n",
      "concatenate\n",
      "dense_108\n",
      "dense_109\n",
      "window_pred\n",
      "session_pred\n"
     ]
    }
   ],
   "source": [
    "for l in model.layers:\n",
    "    print(l.name)"
   ]
  },
  {
   "cell_type": "code",
   "execution_count": 22,
   "metadata": {},
   "outputs": [],
   "source": [
    "hierarchical_model = tf.keras.Model(inputs=model.input, outputs=model.get_layer('combined_sensor_self_attention_1').output, name='hierarchical_encoder')\n",
    "hierarchical_model.trainable = False"
   ]
  },
  {
   "cell_type": "code",
   "execution_count": 23,
   "metadata": {},
   "outputs": [
    {
     "name": "stdout",
     "output_type": "stream",
     "text": [
      "Model: \"hierarchical_encoder\"\n",
      "_________________________________________________________________\n",
      "Layer (type)                 Output Shape              Param #   \n",
      "=================================================================\n",
      "input_1 (InputLayer)         [(None, 10, 3, 77)]       0         \n",
      "_________________________________________________________________\n",
      "multi_window_encoder (MultiW ((None, None, 64), (None, 754112    \n",
      "_________________________________________________________________\n",
      "modality_encoder_block_7 (Mo (None, None, 64)          104000    \n",
      "_________________________________________________________________\n",
      "combined_sensor_self_attenti ((None, 64), (None, 1, No 49856     \n",
      "=================================================================\n",
      "Total params: 907,968\n",
      "Trainable params: 0\n",
      "Non-trainable params: 907,968\n",
      "_________________________________________________________________\n"
     ]
    }
   ],
   "source": [
    "hierarchical_model.summary()"
   ]
  },
  {
   "cell_type": "code",
   "execution_count": 24,
   "metadata": {},
   "outputs": [],
   "source": [
    "class Sampling(tf.keras.layers.Layer):\n",
    "    def call(self, inputs):\n",
    "        z_mean, z_log_var = inputs\n",
    "\n",
    "        batch = tf.shape(z_mean)[0]\n",
    "        dim = tf.shape(z_mean)[1]\n",
    "        \n",
    "        epsilon = tf.keras.backend.random_normal(shape=(batch, dim))\n",
    "        \n",
    "        return z_mean + tf.exp(0.5 * z_log_var) * epsilon\n",
    "\n",
    "\n",
    "class Encoder(tf.keras.layers.Layer):\n",
    "\n",
    "    def __init__(self, latent_dim=16, intermediate_dim=32, name=\"encoder\", **kwargs):\n",
    "        super(Encoder, self).__init__(name=name, **kwargs)\n",
    "        self.dense_proj = tf.keras.layers.Dense(intermediate_dim, activation=\"relu\")\n",
    "        \n",
    "        self.dense_mean = tf.keras.layers.Dense(latent_dim)\n",
    "        self.dense_log_var = tf.keras.layers.Dense(latent_dim)\n",
    "        \n",
    "        self.sampling = Sampling()\n",
    "\n",
    "    def call(self, inputs):\n",
    "        x = self.dense_proj(inputs)\n",
    "        \n",
    "        z_mean = self.dense_mean(x)\n",
    "        z_log_var = self.dense_log_var(x)\n",
    "        z = self.sampling((z_mean, z_log_var))\n",
    "        \n",
    "        return z_mean, z_log_var, z\n",
    "\n",
    "\n",
    "class Decoder(tf.keras.layers.Layer):\n",
    "\n",
    "    def __init__(self, original_dim, intermediate_dim=32, name=\"decoder\", **kwargs):\n",
    "        super(Decoder, self).__init__(name=name, **kwargs)\n",
    "        self.dense_proj = tf.keras.layers.Dense(intermediate_dim, activation=\"relu\")\n",
    "        self.dense_output = tf.keras.layers.Dense(original_dim, activation=\"sigmoid\")\n",
    "\n",
    "    def call(self, inputs):\n",
    "        x = self.dense_proj(inputs)\n",
    "        \n",
    "        return self.dense_output(x)\n",
    "\n",
    "class VariationalAutoEncoder(tf.keras.Model):\n",
    "    \"\"\"Combines the encoder and decoder into an end-to-end model for training.\"\"\"\n",
    "\n",
    "    def __init__(\n",
    "        self,\n",
    "        base_model,\n",
    "        original_dim,\n",
    "        intermediate_dim=128,\n",
    "        latent_dim=16,\n",
    "        name=\"autoencoder\",\n",
    "        **kwargs\n",
    "    ):\n",
    "        super(VariationalAutoEncoder, self).__init__(name=name, **kwargs)\n",
    "        self.base_model = base_model\n",
    "        \n",
    "        self.original_dim = original_dim\n",
    "        \n",
    "        self.encoder = Encoder(latent_dim=latent_dim, intermediate_dim=intermediate_dim)\n",
    "        self.decoder = Decoder(original_dim, intermediate_dim=intermediate_dim)\n",
    "\n",
    "    def call(self, inputs):\n",
    "        inputs, _ = self.base_model(inputs)\n",
    "        z_mean, z_log_var, z = self.encoder(inputs)\n",
    "        reconstructed = self.decoder(z)\n",
    "        \n",
    "        return reconstructed\n",
    "\n",
    "    def train_step(self, data):\n",
    "        with tf.GradientTape() as tape:\n",
    "            data, _ = self.base_model(data)\n",
    "            z_mean, z_log_var, z = self.encoder(data)\n",
    "            reconstructed = self.decoder(z)\n",
    "\n",
    "            kl_loss = -0.5 * tf.reduce_mean(z_log_var - tf.square(z_mean) - tf.exp(z_log_var) + 1)\n",
    "\n",
    "            reconstruction_loss = tf.reduce_mean(tf.keras.losses.mean_squared_error(data, reconstructed))\n",
    "            \n",
    "            total_loss = reconstruction_loss + kl_loss\n",
    "\n",
    "        grads = tape.gradient(total_loss, self.trainable_weights)\n",
    "\n",
    "        self.optimizer.apply_gradients(zip(grads, self.trainable_weights))\n",
    "\n",
    "        return {\n",
    "            \"loss\": total_loss,\n",
    "            \"reconstruction_loss\": reconstruction_loss,\n",
    "            \"kl_loss\": kl_loss,\n",
    "        }"
   ]
  },
  {
   "cell_type": "code",
   "execution_count": 25,
   "metadata": {},
   "outputs": [
    {
     "name": "stdout",
     "output_type": "stream",
     "text": [
      "Epoch 1/80\n",
      "37/37 [==============================] - 2s 47ms/step - loss: 1.4781 - reconstruction_loss: 1.3551 - kl_loss: 0.1230\n",
      "Epoch 2/80\n",
      "37/37 [==============================] - 2s 44ms/step - loss: 1.2445 - reconstruction_loss: 1.2205 - kl_loss: 0.0240\n",
      "Epoch 3/80\n",
      "37/37 [==============================] - 2s 44ms/step - loss: 1.1895 - reconstruction_loss: 1.1686 - kl_loss: 0.0209\n",
      "Epoch 4/80\n",
      "37/37 [==============================] - 2s 43ms/step - loss: 1.1628 - reconstruction_loss: 1.1347 - kl_loss: 0.0281\n",
      "Epoch 5/80\n",
      "37/37 [==============================] - 2s 44ms/step - loss: 1.1428 - reconstruction_loss: 1.1046 - kl_loss: 0.0381\n",
      "Epoch 6/80\n",
      "37/37 [==============================] - 2s 44ms/step - loss: 1.1295 - reconstruction_loss: 1.0854 - kl_loss: 0.0440\n",
      "Epoch 7/80\n",
      "37/37 [==============================] - 2s 44ms/step - loss: 1.1186 - reconstruction_loss: 1.0728 - kl_loss: 0.0457\n",
      "Epoch 8/80\n",
      "37/37 [==============================] - 2s 44ms/step - loss: 1.1130 - reconstruction_loss: 1.0647 - kl_loss: 0.0483\n",
      "Epoch 9/80\n",
      "37/37 [==============================] - 2s 44ms/step - loss: 1.1124 - reconstruction_loss: 1.0612 - kl_loss: 0.0512\n",
      "Epoch 10/80\n",
      "37/37 [==============================] - 2s 43ms/step - loss: 1.1095 - reconstruction_loss: 1.0571 - kl_loss: 0.0524\n",
      "Epoch 11/80\n",
      "37/37 [==============================] - 2s 44ms/step - loss: 1.1050 - reconstruction_loss: 1.0503 - kl_loss: 0.0547\n",
      "Epoch 12/80\n",
      "37/37 [==============================] - 2s 44ms/step - loss: 1.1012 - reconstruction_loss: 1.0444 - kl_loss: 0.0568\n",
      "Epoch 13/80\n",
      "37/37 [==============================] - 2s 44ms/step - loss: 1.0939 - reconstruction_loss: 1.0294 - kl_loss: 0.0645\n",
      "Epoch 14/80\n",
      "37/37 [==============================] - 2s 44ms/step - loss: 1.0933 - reconstruction_loss: 1.0213 - kl_loss: 0.0719\n",
      "Epoch 15/80\n",
      "37/37 [==============================] - 2s 44ms/step - loss: 1.0847 - reconstruction_loss: 1.0063 - kl_loss: 0.0784\n",
      "Epoch 16/80\n",
      "37/37 [==============================] - 2s 44ms/step - loss: 1.0792 - reconstruction_loss: 0.9964 - kl_loss: 0.0828\n",
      "Epoch 17/80\n",
      "37/37 [==============================] - 2s 44ms/step - loss: 1.0742 - reconstruction_loss: 0.9868 - kl_loss: 0.0874\n",
      "Epoch 18/80\n",
      "37/37 [==============================] - 2s 44ms/step - loss: 1.0729 - reconstruction_loss: 0.9815 - kl_loss: 0.0913\n",
      "Epoch 19/80\n",
      "37/37 [==============================] - 2s 44ms/step - loss: 1.0656 - reconstruction_loss: 0.9707 - kl_loss: 0.0949\n",
      "Epoch 20/80\n",
      "37/37 [==============================] - 2s 44ms/step - loss: 1.0590 - reconstruction_loss: 0.9594 - kl_loss: 0.0996\n",
      "Epoch 21/80\n",
      "37/37 [==============================] - 2s 44ms/step - loss: 1.0534 - reconstruction_loss: 0.9462 - kl_loss: 0.1072\n",
      "Epoch 22/80\n",
      "37/37 [==============================] - 2s 44ms/step - loss: 1.0510 - reconstruction_loss: 0.9416 - kl_loss: 0.1094\n",
      "Epoch 23/80\n",
      "37/37 [==============================] - 2s 44ms/step - loss: 1.0509 - reconstruction_loss: 0.9394 - kl_loss: 0.1115\n",
      "Epoch 24/80\n",
      "37/37 [==============================] - 2s 44ms/step - loss: 1.0408 - reconstruction_loss: 0.9246 - kl_loss: 0.1162\n",
      "Epoch 25/80\n",
      "37/37 [==============================] - 2s 44ms/step - loss: 1.0377 - reconstruction_loss: 0.9221 - kl_loss: 0.1156\n",
      "Epoch 26/80\n",
      "37/37 [==============================] - 2s 44ms/step - loss: 1.0327 - reconstruction_loss: 0.9146 - kl_loss: 0.1181\n",
      "Epoch 27/80\n",
      "37/37 [==============================] - 2s 43ms/step - loss: 1.0395 - reconstruction_loss: 0.9181 - kl_loss: 0.1214\n",
      "Epoch 28/80\n",
      "37/37 [==============================] - 2s 43ms/step - loss: 1.0329 - reconstruction_loss: 0.9103 - kl_loss: 0.1227\n",
      "Epoch 29/80\n",
      "37/37 [==============================] - 2s 44ms/step - loss: 1.0273 - reconstruction_loss: 0.9024 - kl_loss: 0.1249\n",
      "Epoch 30/80\n",
      "37/37 [==============================] - 2s 44ms/step - loss: 1.0279 - reconstruction_loss: 0.9006 - kl_loss: 0.1273\n",
      "Epoch 31/80\n",
      "37/37 [==============================] - 2s 43ms/step - loss: 1.0226 - reconstruction_loss: 0.8944 - kl_loss: 0.1281\n",
      "Epoch 32/80\n",
      "37/37 [==============================] - 2s 44ms/step - loss: 1.0185 - reconstruction_loss: 0.8898 - kl_loss: 0.1287\n",
      "Epoch 33/80\n",
      "37/37 [==============================] - 2s 43ms/step - loss: 1.0201 - reconstruction_loss: 0.8910 - kl_loss: 0.1290\n",
      "Epoch 34/80\n",
      "37/37 [==============================] - 2s 43ms/step - loss: 1.0183 - reconstruction_loss: 0.8880 - kl_loss: 0.1303\n",
      "Epoch 35/80\n",
      "37/37 [==============================] - 2s 44ms/step - loss: 1.0159 - reconstruction_loss: 0.8858 - kl_loss: 0.1302\n",
      "Epoch 36/80\n",
      "37/37 [==============================] - 2s 44ms/step - loss: 1.0176 - reconstruction_loss: 0.8852 - kl_loss: 0.1323\n",
      "Epoch 37/80\n",
      "37/37 [==============================] - 2s 44ms/step - loss: 1.0160 - reconstruction_loss: 0.8831 - kl_loss: 0.1330\n",
      "Epoch 38/80\n",
      "37/37 [==============================] - 2s 44ms/step - loss: 1.0164 - reconstruction_loss: 0.8796 - kl_loss: 0.1368\n",
      "Epoch 39/80\n",
      "37/37 [==============================] - 2s 44ms/step - loss: 1.0124 - reconstruction_loss: 0.8791 - kl_loss: 0.1332\n",
      "Epoch 40/80\n",
      "37/37 [==============================] - 2s 43ms/step - loss: 1.0113 - reconstruction_loss: 0.8762 - kl_loss: 0.1351\n",
      "Epoch 41/80\n",
      "37/37 [==============================] - 2s 44ms/step - loss: 1.0062 - reconstruction_loss: 0.8715 - kl_loss: 0.1347\n",
      "Epoch 42/80\n",
      "37/37 [==============================] - 2s 44ms/step - loss: 1.0058 - reconstruction_loss: 0.8709 - kl_loss: 0.1349\n",
      "Epoch 43/80\n",
      "37/37 [==============================] - 2s 44ms/step - loss: 1.0083 - reconstruction_loss: 0.8714 - kl_loss: 0.1369\n",
      "Epoch 44/80\n",
      "37/37 [==============================] - 2s 44ms/step - loss: 1.0052 - reconstruction_loss: 0.8676 - kl_loss: 0.1376\n",
      "Epoch 45/80\n",
      "37/37 [==============================] - 2s 43ms/step - loss: 1.0049 - reconstruction_loss: 0.8647 - kl_loss: 0.1402\n",
      "Epoch 46/80\n",
      "37/37 [==============================] - 2s 43ms/step - loss: 1.0012 - reconstruction_loss: 0.8604 - kl_loss: 0.1408\n",
      "Epoch 47/80\n",
      "37/37 [==============================] - 2s 44ms/step - loss: 1.0018 - reconstruction_loss: 0.8595 - kl_loss: 0.1423\n",
      "Epoch 48/80\n",
      "37/37 [==============================] - 2s 44ms/step - loss: 1.0006 - reconstruction_loss: 0.8562 - kl_loss: 0.1444\n",
      "Epoch 49/80\n",
      "37/37 [==============================] - 2s 43ms/step - loss: 0.9995 - reconstruction_loss: 0.8541 - kl_loss: 0.1454\n",
      "Epoch 50/80\n",
      "37/37 [==============================] - 2s 43ms/step - loss: 0.9940 - reconstruction_loss: 0.8492 - kl_loss: 0.1448\n",
      "Epoch 51/80\n",
      "37/37 [==============================] - 2s 43ms/step - loss: 0.9954 - reconstruction_loss: 0.8516 - kl_loss: 0.1438\n",
      "Epoch 52/80\n",
      "37/37 [==============================] - 2s 43ms/step - loss: 0.9916 - reconstruction_loss: 0.8468 - kl_loss: 0.1447\n",
      "Epoch 53/80\n",
      "37/37 [==============================] - 2s 44ms/step - loss: 0.9950 - reconstruction_loss: 0.8492 - kl_loss: 0.1458\n",
      "Epoch 54/80\n",
      "37/37 [==============================] - 2s 43ms/step - loss: 0.9933 - reconstruction_loss: 0.8467 - kl_loss: 0.1466\n",
      "Epoch 55/80\n",
      "37/37 [==============================] - 2s 43ms/step - loss: 0.9862 - reconstruction_loss: 0.8435 - kl_loss: 0.1426\n",
      "Epoch 56/80\n",
      "37/37 [==============================] - 2s 43ms/step - loss: 0.9879 - reconstruction_loss: 0.8409 - kl_loss: 0.1471\n",
      "Epoch 57/80\n",
      "37/37 [==============================] - 2s 44ms/step - loss: 0.9894 - reconstruction_loss: 0.8455 - kl_loss: 0.1439\n",
      "Epoch 58/80\n",
      "37/37 [==============================] - 2s 44ms/step - loss: 0.9882 - reconstruction_loss: 0.8409 - kl_loss: 0.1473\n",
      "Epoch 59/80\n",
      "37/37 [==============================] - 2s 44ms/step - loss: 0.9894 - reconstruction_loss: 0.8399 - kl_loss: 0.1495\n",
      "Epoch 60/80\n",
      "37/37 [==============================] - 2s 44ms/step - loss: 0.9851 - reconstruction_loss: 0.8368 - kl_loss: 0.1483\n",
      "Epoch 61/80\n",
      "37/37 [==============================] - 2s 43ms/step - loss: 0.9867 - reconstruction_loss: 0.8358 - kl_loss: 0.1509\n",
      "Epoch 62/80\n",
      "37/37 [==============================] - 2s 44ms/step - loss: 0.9880 - reconstruction_loss: 0.8376 - kl_loss: 0.1504\n",
      "Epoch 63/80\n",
      "37/37 [==============================] - 2s 43ms/step - loss: 0.9853 - reconstruction_loss: 0.8334 - kl_loss: 0.1519\n",
      "Epoch 64/80\n",
      "37/37 [==============================] - 2s 43ms/step - loss: 0.9871 - reconstruction_loss: 0.8376 - kl_loss: 0.1495\n",
      "Epoch 65/80\n",
      "37/37 [==============================] - 2s 43ms/step - loss: 0.9858 - reconstruction_loss: 0.8332 - kl_loss: 0.1526\n",
      "Epoch 66/80\n",
      "37/37 [==============================] - 2s 44ms/step - loss: 0.9847 - reconstruction_loss: 0.8337 - kl_loss: 0.1510\n",
      "Epoch 67/80\n",
      "37/37 [==============================] - 2s 44ms/step - loss: 0.9817 - reconstruction_loss: 0.8293 - kl_loss: 0.1525\n",
      "Epoch 68/80\n",
      "37/37 [==============================] - 2s 44ms/step - loss: 0.9814 - reconstruction_loss: 0.8273 - kl_loss: 0.1541\n",
      "Epoch 69/80\n",
      "37/37 [==============================] - 2s 44ms/step - loss: 0.9753 - reconstruction_loss: 0.8234 - kl_loss: 0.1518\n",
      "Epoch 70/80\n",
      "37/37 [==============================] - 2s 44ms/step - loss: 0.9763 - reconstruction_loss: 0.8229 - kl_loss: 0.1534\n",
      "Epoch 71/80\n",
      "37/37 [==============================] - 2s 44ms/step - loss: 0.9754 - reconstruction_loss: 0.8213 - kl_loss: 0.1541\n",
      "Epoch 72/80\n",
      "37/37 [==============================] - 2s 44ms/step - loss: 0.9763 - reconstruction_loss: 0.8237 - kl_loss: 0.1527\n",
      "Epoch 73/80\n",
      "37/37 [==============================] - 2s 44ms/step - loss: 0.9754 - reconstruction_loss: 0.8189 - kl_loss: 0.1565\n",
      "Epoch 74/80\n",
      "37/37 [==============================] - 2s 44ms/step - loss: 0.9721 - reconstruction_loss: 0.8192 - kl_loss: 0.1528\n",
      "Epoch 75/80\n",
      "37/37 [==============================] - 2s 44ms/step - loss: 0.9719 - reconstruction_loss: 0.8171 - kl_loss: 0.1548\n",
      "Epoch 76/80\n",
      "37/37 [==============================] - 2s 44ms/step - loss: 0.9719 - reconstruction_loss: 0.8180 - kl_loss: 0.1539\n",
      "Epoch 77/80\n",
      "37/37 [==============================] - 2s 44ms/step - loss: 0.9751 - reconstruction_loss: 0.8192 - kl_loss: 0.1559\n",
      "Epoch 78/80\n",
      "37/37 [==============================] - 2s 44ms/step - loss: 0.9726 - reconstruction_loss: 0.8164 - kl_loss: 0.1562\n",
      "Epoch 79/80\n",
      "37/37 [==============================] - 2s 44ms/step - loss: 0.9710 - reconstruction_loss: 0.8142 - kl_loss: 0.1568\n",
      "Epoch 80/80\n",
      "37/37 [==============================] - 2s 43ms/step - loss: 0.9738 - reconstruction_loss: 0.8177 - kl_loss: 0.1562\n"
     ]
    }
   ],
   "source": [
    "hsa_vae = VariationalAutoEncoder(base_model=hierarchical_model, original_dim=64)\n",
    "\n",
    "optimizer = tf.keras.optimizers.Adam(learning_rate=1e-3)\n",
    "hsa_vae.compile(optimizer)    \n",
    "\n",
    "vae_history = hsa_vae.fit(X_train, epochs=80, batch_size=128)"
   ]
  },
  {
   "cell_type": "markdown",
   "metadata": {},
   "source": [
    "## Novelty Result"
   ]
  },
  {
   "cell_type": "code",
   "execution_count": 26,
   "metadata": {},
   "outputs": [],
   "source": [
    "z_mean, z_log_var, z = hsa_vae.encoder(hierarchical_model.predict(X_holdout)[0])"
   ]
  },
  {
   "cell_type": "code",
   "execution_count": 27,
   "metadata": {},
   "outputs": [],
   "source": [
    "def kl_div(z_mean, z_log_var):\n",
    "    kl_loss = -0.5 * tf.math.reduce_mean((z_log_var - tf.square(z_mean) - tf.exp(z_log_var) + 1), axis=1)\n",
    "    return kl_loss.numpy()"
   ]
  },
  {
   "cell_type": "code",
   "execution_count": 28,
   "metadata": {},
   "outputs": [],
   "source": [
    "z_mean, z_log_var, z = hsa_vae.encoder(hierarchical_model.predict(X_train)[0])\n",
    "train_kl = kl_div(z_mean, z_log_var)"
   ]
  },
  {
   "cell_type": "code",
   "execution_count": 29,
   "metadata": {},
   "outputs": [],
   "source": [
    "z_mean, z_log_var, z = hsa_vae.encoder(hierarchical_model.predict(X_test)[0])\n",
    "test_kl = kl_div(z_mean, z_log_var)"
   ]
  },
  {
   "cell_type": "code",
   "execution_count": 30,
   "metadata": {},
   "outputs": [],
   "source": [
    "z_mean, z_log_var, z = hsa_vae.encoder(hierarchical_model.predict(X_holdout)[0])\n",
    "holdout_kl = kl_div(z_mean, z_log_var)"
   ]
  },
  {
   "cell_type": "code",
   "execution_count": 31,
   "metadata": {},
   "outputs": [],
   "source": [
    "def novelty_eval_kl(train_kl, test_kl, holdout_kl, mult=0.25):\n",
    "    threshold = np.mean(train_kl) - (mult * np.std(train_kl))\n",
    "    \n",
    "    y_holdout = (holdout_kl > threshold).astype(int)\n",
    "    y_true = np.ones(shape=holdout_kl.shape, dtype=int)\n",
    "    \n",
    "    y_test_n = (test_kl > threshold).astype(int)\n",
    "    _y_true = np.zeros(shape=test_kl.shape, dtype=int)\n",
    "    \n",
    "    y_holdout = np.append(y_holdout, y_test_n)\n",
    "    y_true = np.append(y_true, _y_true)\n",
    "    \n",
    "#     return accuracy_score(y_true, y_holdout), f1_score(y_true, y_holdout, average='macro')\n",
    "    \n",
    "    print(classification_report(y_true, y_holdout, labels=[0, 1], target_names=['KNOWN', 'NOVEL']))"
   ]
  },
  {
   "cell_type": "code",
   "execution_count": 32,
   "metadata": {},
   "outputs": [
    {
     "name": "stdout",
     "output_type": "stream",
     "text": [
      "              precision    recall  f1-score   support\n",
      "\n",
      "       KNOWN       0.02      0.22      0.03      1038\n",
      "       NOVEL       0.96      0.58      0.72     34946\n",
      "\n",
      "    accuracy                           0.57     35984\n",
      "   macro avg       0.49      0.40      0.38     35984\n",
      "weighted avg       0.93      0.57      0.70     35984\n",
      "\n"
     ]
    }
   ],
   "source": [
    "novelty_eval_kl(train_kl, test_kl, holdout_kl, mult=0.75)"
   ]
  },
  {
   "cell_type": "code",
   "execution_count": 33,
   "metadata": {},
   "outputs": [],
   "source": [
    "train_rec_loss = tf.keras.losses.mean_squared_error(hierarchical_model.predict(X_train)[0], hsa_vae.predict(X_train)).numpy()\n",
    "test_rec_loss = tf.keras.losses.mean_squared_error(hierarchical_model.predict(X_test)[0], hsa_vae.predict(X_test)).numpy()\n",
    "novel_rec_loss = tf.keras.losses.mean_squared_error(hierarchical_model.predict(X_holdout)[0], hsa_vae.predict(X_holdout)).numpy()"
   ]
  },
  {
   "cell_type": "code",
   "execution_count": 34,
   "metadata": {},
   "outputs": [
    {
     "data": {
      "text/plain": [
       "(4637,)"
      ]
     },
     "execution_count": 34,
     "metadata": {},
     "output_type": "execute_result"
    }
   ],
   "source": [
    "train_rec_loss.shape"
   ]
  },
  {
   "cell_type": "code",
   "execution_count": 35,
   "metadata": {},
   "outputs": [
    {
     "data": {
      "text/plain": [
       "(34946,)"
      ]
     },
     "execution_count": 35,
     "metadata": {},
     "output_type": "execute_result"
    }
   ],
   "source": [
    "novel_rec_loss.shape"
   ]
  },
  {
   "cell_type": "code",
   "execution_count": 40,
   "metadata": {},
   "outputs": [
    {
     "data": {
      "text/plain": [
       "<AxesSubplot:ylabel='Count'>"
      ]
     },
     "execution_count": 40,
     "metadata": {},
     "output_type": "execute_result"
    },
    {
     "data": {
      "image/png": "[encoded data removed]",
      "text/plain": [
       "<Figure size 432x288 with 1 Axes>"
      ]
     },
     "metadata": {
      "needs_background": "light"
     },
     "output_type": "display_data"
    }
   ],
   "source": [
    "sns.histplot(train_rec_loss)"
   ]
  },
  {
   "cell_type": "code",
   "execution_count": 41,
   "metadata": {},
   "outputs": [
    {
     "data": {
      "text/plain": [
       "<AxesSubplot:ylabel='Count'>"
      ]
     },
     "execution_count": 41,
     "metadata": {},
     "output_type": "execute_result"
    },
    {
     "data": {
      "image/png": "[encoded data removed]",
      "text/plain": [
       "<Figure size 432x288 with 1 Axes>"
      ]
     },
     "metadata": {
      "needs_background": "light"
     },
     "output_type": "display_data"
    }
   ],
   "source": [
    "sns.histplot(test_rec_loss)"
   ]
  },
  {
   "cell_type": "code",
   "execution_count": 42,
   "metadata": {},
   "outputs": [
    {
     "data": {
      "text/plain": [
       "<AxesSubplot:ylabel='Count'>"
      ]
     },
     "execution_count": 42,
     "metadata": {},
     "output_type": "execute_result"
    },
    {
     "data": {
      "image/png": "[encoded data removed]",
      "text/plain": [
       "<Figure size 432x288 with 1 Axes>"
      ]
     },
     "metadata": {
      "needs_background": "light"
     },
     "output_type": "display_data"
    }
   ],
   "source": [
    "sns.histplot(novel_rec_loss)"
   ]
  },
  {
   "cell_type": "code",
   "execution_count": 56,
   "metadata": {},
   "outputs": [
    {
     "data": {
      "text/plain": [
       "<AxesSubplot:xlabel='data', ylabel='Probability'>"
      ]
     },
     "execution_count": 56,
     "metadata": {},
     "output_type": "execute_result"
    },
    {
     "data": {
      "image/png": "[encoded data removed]",
      "text/plain": [
       "<Figure size 432x288 with 1 Axes>"
      ]
     },
     "metadata": {
      "needs_background": "light"
     },
     "output_type": "display_data"
    }
   ],
   "source": [
    "combined = pd.DataFrame({'data': novel_rec_loss, 'type': 'NULL'})\n",
    "combined = pd.concat([combined, pd.DataFrame({'data': test_rec_loss, 'type': 'KNOWN_TEST'})])\n",
    "combined = pd.concat([combined, pd.DataFrame({'data': train_rec_loss, 'type': 'KNOWN_TRAIN'})])\n",
    "sns.histplot(combined, x='data', hue='type', stat=\"probability\")"
   ]
  },
  {
   "cell_type": "code",
   "execution_count": 59,
   "metadata": {},
   "outputs": [
    {
     "data": {
      "text/plain": [
       "<AxesSubplot:xlabel='data', ylabel='Probability'>"
      ]
     },
     "execution_count": 59,
     "metadata": {},
     "output_type": "execute_result"
    },
    {
     "data": {
      "image/png": "[encoded data removed]",
      "text/plain": [
       "<Figure size 432x288 with 1 Axes>"
      ]
     },
     "metadata": {
      "needs_background": "light"
     },
     "output_type": "display_data"
    }
   ],
   "source": [
    "combined = pd.DataFrame()\n",
    "combined = pd.concat([combined, pd.DataFrame({'data': test_rec_loss, 'type': 'KNOWN_TEST'})])\n",
    "combined = pd.concat([combined, pd.DataFrame({'data': train_rec_loss, 'type': 'KNOWN_TRAIN'})])\n",
    "sns.histplot(combined, x='data', hue='type', stat=\"probability\")"
   ]
  },
  {
   "cell_type": "code",
   "execution_count": 36,
   "metadata": {},
   "outputs": [],
   "source": [
    "def novelty_eval_reconstrunction(train_rec_loss, test_rec_loss, novel_rec_loss, mult=0.25):\n",
    "    threshold = np.mean(train_rec_loss) - (mult * np.std(train_rec_loss))\n",
    "    \n",
    "    y_holdout = (novel_rec_loss > threshold).astype(int)\n",
    "    y_true = np.ones(shape=novel_rec_loss.shape, dtype=int)\n",
    "    \n",
    "    y_test_n = (test_rec_loss > threshold).astype(int)\n",
    "    _y_true = np.zeros(shape=test_rec_loss.shape, dtype=int)\n",
    "    \n",
    "    y_holdout = np.append(y_holdout, y_test_n)\n",
    "    y_true = np.append(y_true, _y_true)\n",
    "    \n",
    "    return accuracy_score(y_true, y_holdout), f1_score(y_true, y_holdout, average='macro'), \n",
    "    \n",
    "#     print(classification_report(y_true, y_holdout, labels=[0, 1], target_names=['KNOWN', 'NOVEL']))"
   ]
  },
  {
   "cell_type": "code",
   "execution_count": 37,
   "metadata": {},
   "outputs": [],
   "source": [
    "def hparam_search():\n",
    "    table = list()\n",
    "    thresh_vals = list(np.arange(0.0, 1.01, 0.01))\n",
    "    \n",
    "    idx = 0\n",
    "    \n",
    "    for m_val in thresh_vals:\n",
    "        result = novelty_eval_reconstrunction(train_rec_loss, test_rec_loss, novel_rec_loss, mult=m_val)\n",
    "        table.append([idx, m_val, result[0], result[1]])\n",
    "        \n",
    "        idx = idx + 1\n",
    "    \n",
    "    table = np.array(table)\n",
    "    sns.lineplot(table[:, 1], table[:, 2], label='Accuracy')\n",
    "    sns.lineplot(table[:, 1], table[:, 3], label='Macro F1')\n",
    "    plt.xlabel('Hyperparameter Value')\n",
    "    plt.title('Novelty Detection Experiement')\n",
    "    plt.show()\n",
    "    \n",
    "    top_acc = np.array(pd.Series(table[:, 2]).nlargest().index)\n",
    "    top_f1 = np.array(pd.Series(table[:, 3]).nlargest().index)\n",
    "    \n",
    "    print('Index with Top Accuracy and Macro F1 : ', top_acc, top_f1)\n",
    "    print('Most Important Index : ', np.intersect1d(top_acc, top_f1))\n",
    "    \n",
    "    print(tabulate(table, headers=['Index', 'Std. Multiplier Value', 'Accuracy', 'Macro F1'], tablefmt=\"grid\"))"
   ]
  },
  {
   "cell_type": "code",
   "execution_count": 38,
   "metadata": {},
   "outputs": [
    {
     "name": "stderr",
     "output_type": "stream",
     "text": [
      "/home/hariub/miniconda3/envs/tf2/lib/python3.8/site-packages/seaborn/_decorators.py:36: FutureWarning: Pass the following variables as keyword args: x, y. From version 0.12, the only valid positional argument will be `data`, and passing other arguments without an explicit keyword will result in an error or misinterpretation.\n",
      "  warnings.warn(\n",
      "/home/hariub/miniconda3/envs/tf2/lib/python3.8/site-packages/seaborn/_decorators.py:36: FutureWarning: Pass the following variables as keyword args: x, y. From version 0.12, the only valid positional argument will be `data`, and passing other arguments without an explicit keyword will result in an error or misinterpretation.\n",
      "  warnings.warn(\n"
     ]
    },
    {
     "data": {
      "image/png": "[encoded data removed]",
      "text/plain": [
       "<Figure size 432x288 with 1 Axes>"
      ]
     },
     "metadata": {
      "needs_background": "light"
     },
     "output_type": "display_data"
    },
    {
     "name": "stdout",
     "output_type": "stream",
     "text": [
      "Index with Top Accuracy and Macro F1 :  [100  99  98  97  96] [100  99  98  96  97]\n",
      "Most Important Index :  [ 96  97  98  99 100]\n",
      "+---------+-------------------------+------------+------------+\n",
      "|   Index |   Std. Multiplier Value |   Accuracy |   Macro F1 |\n",
      "+=========+=========================+============+============+\n",
      "|       0 |                    0    |   0.549494 |   0.38191  |\n",
      "+---------+-------------------------+------------+------------+\n",
      "|       1 |                    0.01 |   0.552885 |   0.383269 |\n",
      "+---------+-------------------------+------------+------------+\n",
      "|       2 |                    0.02 |   0.556581 |   0.384967 |\n",
      "+---------+-------------------------+------------+------------+\n",
      "|       3 |                    0.03 |   0.560193 |   0.386366 |\n",
      "+---------+-------------------------+------------+------------+\n",
      "|       4 |                    0.04 |   0.563806 |   0.387703 |\n",
      "+---------+-------------------------+------------+------------+\n",
      "|       5 |                    0.05 |   0.566946 |   0.388801 |\n",
      "+---------+-------------------------+------------+------------+\n",
      "|       6 |                    0.06 |   0.570754 |   0.390469 |\n",
      "+---------+-------------------------+------------+------------+\n",
      "|       7 |                    0.07 |   0.574561 |   0.392131 |\n",
      "+---------+-------------------------+------------+------------+\n",
      "|       8 |                    0.08 |   0.577924 |   0.393627 |\n",
      "+---------+-------------------------+------------+------------+\n",
      "|       9 |                    0.09 |   0.581258 |   0.394944 |\n",
      "+---------+-------------------------+------------+------------+\n",
      "|      10 |                    0.1  |   0.584815 |   0.396468 |\n",
      "+---------+-------------------------+------------+------------+\n",
      "|      11 |                    0.11 |   0.587984 |   0.397747 |\n",
      "+---------+-------------------------+------------+------------+\n",
      "|      12 |                    0.12 |   0.590735 |   0.398657 |\n",
      "+---------+-------------------------+------------+------------+\n",
      "|      13 |                    0.13 |   0.594153 |   0.399928 |\n",
      "+---------+-------------------------+------------+------------+\n",
      "|      14 |                    0.14 |   0.597404 |   0.401225 |\n",
      "+---------+-------------------------+------------+------------+\n",
      "|      15 |                    0.15 |   0.600156 |   0.402283 |\n",
      "+---------+-------------------------+------------+------------+\n",
      "|      16 |                    0.16 |   0.604074 |   0.403706 |\n",
      "+---------+-------------------------+------------+------------+\n",
      "|      17 |                    0.17 |   0.608215 |   0.405454 |\n",
      "+---------+-------------------------+------------+------------+\n",
      "|      18 |                    0.18 |   0.61205  |   0.406876 |\n",
      "+---------+-------------------------+------------+------------+\n",
      "|      19 |                    0.19 |   0.61519  |   0.408087 |\n",
      "+---------+-------------------------+------------+------------+\n",
      "|      20 |                    0.2  |   0.618108 |   0.40919  |\n",
      "+---------+-------------------------+------------+------------+\n",
      "|      21 |                    0.21 |   0.622082 |   0.410651 |\n",
      "+---------+-------------------------+------------+------------+\n",
      "|      22 |                    0.22 |   0.625445 |   0.411759 |\n",
      "+---------+-------------------------+------------+------------+\n",
      "|      23 |                    0.23 |   0.62928  |   0.413323 |\n",
      "+---------+-------------------------+------------+------------+\n",
      "|      24 |                    0.24 |   0.632698 |   0.414754 |\n",
      "+---------+-------------------------+------------+------------+\n",
      "|      25 |                    0.25 |   0.63531  |   0.415496 |\n",
      "+---------+-------------------------+------------+------------+\n",
      "|      26 |                    0.26 |   0.638951 |   0.416889 |\n",
      "+---------+-------------------------+------------+------------+\n",
      "|      27 |                    0.27 |   0.642008 |   0.417816 |\n",
      "+---------+-------------------------+------------+------------+\n",
      "|      28 |                    0.28 |   0.645454 |   0.418842 |\n",
      "+---------+-------------------------+------------+------------+\n",
      "|      29 |                    0.29 |   0.649428 |   0.420494 |\n",
      "+---------+-------------------------+------------+------------+\n",
      "|      30 |                    0.3  |   0.653124 |   0.422018 |\n",
      "+---------+-------------------------+------------+------------+\n",
      "|      31 |                    0.31 |   0.657431 |   0.423811 |\n",
      "+---------+-------------------------+------------+------------+\n",
      "|      32 |                    0.32 |   0.661016 |   0.425139 |\n",
      "+---------+-------------------------+------------+------------+\n",
      "|      33 |                    0.33 |   0.664351 |   0.426278 |\n",
      "+---------+-------------------------+------------+------------+\n",
      "|      34 |                    0.34 |   0.668102 |   0.427667 |\n",
      "+---------+-------------------------+------------+------------+\n",
      "|      35 |                    0.35 |   0.671354 |   0.428611 |\n",
      "+---------+-------------------------+------------+------------+\n",
      "|      36 |                    0.36 |   0.674383 |   0.429154 |\n",
      "+---------+-------------------------+------------+------------+\n",
      "|      37 |                    0.37 |   0.67819  |   0.430687 |\n",
      "+---------+-------------------------+------------+------------+\n",
      "|      38 |                    0.38 |   0.681608 |   0.431522 |\n",
      "+---------+-------------------------+------------+------------+\n",
      "|      39 |                    0.39 |   0.684943 |   0.432911 |\n",
      "+---------+-------------------------+------------+------------+\n",
      "|      40 |                    0.4  |   0.688612 |   0.433832 |\n",
      "+---------+-------------------------+------------+------------+\n",
      "|      41 |                    0.41 |   0.692836 |   0.435289 |\n",
      "+---------+-------------------------+------------+------------+\n",
      "|      42 |                    0.42 |   0.696587 |   0.436769 |\n",
      "+---------+-------------------------+------------+------------+\n",
      "|      43 |                    0.43 |   0.700645 |   0.438219 |\n",
      "+---------+-------------------------+------------+------------+\n",
      "|      44 |                    0.44 |   0.704508 |   0.439578 |\n",
      "+---------+-------------------------+------------+------------+\n",
      "|      45 |                    0.45 |   0.708287 |   0.440976 |\n",
      "+---------+-------------------------+------------+------------+\n",
      "|      46 |                    0.46 |   0.712011 |   0.442012 |\n",
      "+---------+-------------------------+------------+------------+\n",
      "|      47 |                    0.47 |   0.716124 |   0.443202 |\n",
      "+---------+-------------------------+------------+------------+\n",
      "|      48 |                    0.48 |   0.720237 |   0.444808 |\n",
      "+---------+-------------------------+------------+------------+\n",
      "|      49 |                    0.49 |   0.724489 |   0.446386 |\n",
      "+---------+-------------------------+------------+------------+\n",
      "|      50 |                    0.5  |   0.728852 |   0.448098 |\n",
      "+---------+-------------------------+------------+------------+\n",
      "|      51 |                    0.51 |   0.732687 |   0.449489 |\n",
      "+---------+-------------------------+------------+------------+\n",
      "|      52 |                    0.52 |   0.736327 |   0.450702 |\n",
      "+---------+-------------------------+------------+------------+\n",
      "|      53 |                    0.53 |   0.740273 |   0.45176  |\n",
      "+---------+-------------------------+------------+------------+\n",
      "|      54 |                    0.54 |   0.743414 |   0.452645 |\n",
      "+---------+-------------------------+------------+------------+\n",
      "|      55 |                    0.55 |   0.747388 |   0.454073 |\n",
      "+---------+-------------------------+------------+------------+\n",
      "|      56 |                    0.56 |   0.750861 |   0.455087 |\n",
      "+---------+-------------------------+------------+------------+\n",
      "|      57 |                    0.57 |   0.753641 |   0.455694 |\n",
      "+---------+-------------------------+------------+------------+\n",
      "|      58 |                    0.58 |   0.757309 |   0.456772 |\n",
      "+---------+-------------------------+------------+------------+\n",
      "|      59 |                    0.59 |   0.760588 |   0.457571 |\n",
      "+---------+-------------------------+------------+------------+\n",
      "|      60 |                    0.6  |   0.763728 |   0.458816 |\n",
      "+---------+-------------------------+------------+------------+\n",
      "|      61 |                    0.61 |   0.766841 |   0.459316 |\n",
      "+---------+-------------------------+------------+------------+\n",
      "|      62 |                    0.62 |   0.770231 |   0.460662 |\n",
      "+---------+-------------------------+------------+------------+\n",
      "|      63 |                    0.63 |   0.774066 |   0.461552 |\n",
      "+---------+-------------------------+------------+------------+\n",
      "|      64 |                    0.64 |   0.777623 |   0.462636 |\n",
      "+---------+-------------------------+------------+------------+\n",
      "|      65 |                    0.65 |   0.781097 |   0.463903 |\n",
      "+---------+-------------------------+------------+------------+\n",
      "|      66 |                    0.66 |   0.784321 |   0.464263 |\n",
      "+---------+-------------------------+------------+------------+\n",
      "|      67 |                    0.67 |   0.787572 |   0.464841 |\n",
      "+---------+-------------------------+------------+------------+\n",
      "|      68 |                    0.68 |   0.791157 |   0.465541 |\n",
      "+---------+-------------------------+------------+------------+\n",
      "|      69 |                    0.69 |   0.794409 |   0.46632  |\n",
      "+---------+-------------------------+------------+------------+\n",
      "|      70 |                    0.7  |   0.798299 |   0.46748  |\n",
      "+---------+-------------------------+------------+------------+\n",
      "|      71 |                    0.71 |   0.802551 |   0.468912 |\n",
      "+---------+-------------------------+------------+------------+\n",
      "|      72 |                    0.72 |   0.806442 |   0.46993  |\n",
      "+---------+-------------------------+------------+------------+\n",
      "|      73 |                    0.73 |   0.810471 |   0.470468 |\n",
      "+---------+-------------------------+------------+------------+\n",
      "|      74 |                    0.74 |   0.814834 |   0.471647 |\n",
      "+---------+-------------------------+------------+------------+\n",
      "|      75 |                    0.75 |   0.819448 |   0.47264  |\n",
      "+---------+-------------------------+------------+------------+\n",
      "|      76 |                    0.76 |   0.824505 |   0.473789 |\n",
      "+---------+-------------------------+------------+------------+\n",
      "|      77 |                    0.77 |   0.829841 |   0.475319 |\n",
      "+---------+-------------------------+------------+------------+\n",
      "|      78 |                    0.78 |   0.836372 |   0.477188 |\n",
      "+---------+-------------------------+------------+------------+\n",
      "|      79 |                    0.79 |   0.842819 |   0.47932  |\n",
      "+---------+-------------------------+------------+------------+\n",
      "|      80 |                    0.8  |   0.848627 |   0.479843 |\n",
      "+---------+-------------------------+------------+------------+\n",
      "|      81 |                    0.81 |   0.855269 |   0.481832 |\n",
      "+---------+-------------------------+------------+------------+\n",
      "|      82 |                    0.82 |   0.860938 |   0.482657 |\n",
      "+---------+-------------------------+------------+------------+\n",
      "|      83 |                    0.83 |   0.86808  |   0.484607 |\n",
      "+---------+-------------------------+------------+------------+\n",
      "|      84 |                    0.84 |   0.875111 |   0.485865 |\n",
      "+---------+-------------------------+------------+------------+\n",
      "|      85 |                    0.85 |   0.881725 |   0.486614 |\n",
      "+---------+-------------------------+------------+------------+\n",
      "|      86 |                    0.86 |   0.889201 |   0.488275 |\n",
      "+---------+-------------------------+------------+------------+\n",
      "|      87 |                    0.87 |   0.897538 |   0.490734 |\n",
      "+---------+-------------------------+------------+------------+\n",
      "|      88 |                    0.88 |   0.905819 |   0.491522 |\n",
      "+---------+-------------------------+------------+------------+\n",
      "|      89 |                    0.89 |   0.91399  |   0.492239 |\n",
      "+---------+-------------------------+------------+------------+\n",
      "|      90 |                    0.9  |   0.922855 |   0.494262 |\n",
      "+---------+-------------------------+------------+------------+\n",
      "|      91 |                    0.91 |   0.931164 |   0.49552  |\n",
      "+---------+-------------------------+------------+------------+\n",
      "|      92 |                    0.92 |   0.938028 |   0.497098 |\n",
      "+---------+-------------------------+------------+------------+\n",
      "|      93 |                    0.93 |   0.944531 |   0.497469 |\n",
      "+---------+-------------------------+------------+------------+\n",
      "|      94 |                    0.94 |   0.950061 |   0.497009 |\n",
      "+---------+-------------------------+------------+------------+\n",
      "|      95 |                    0.95 |   0.953729 |   0.497581 |\n",
      "+---------+-------------------------+------------+------------+\n",
      "|      96 |                    0.96 |   0.957009 |   0.497901 |\n",
      "+---------+-------------------------+------------+------------+\n",
      "|      97 |                    0.97 |   0.959287 |   0.497666 |\n",
      "+---------+-------------------------+------------+------------+\n",
      "|      98 |                    0.98 |   0.960955 |   0.498438 |\n",
      "+---------+-------------------------+------------+------------+\n",
      "|      99 |                    0.99 |   0.962205 |   0.499037 |\n",
      "+---------+-------------------------+------------+------------+\n",
      "|     100 |                    1    |   0.963456 |   0.499653 |\n",
      "+---------+-------------------------+------------+------------+\n"
     ]
    }
   ],
   "source": [
    "# Result\n",
    "hparam_search() "
   ]
  },
  {
   "cell_type": "code",
   "execution_count": null,
   "metadata": {},
   "outputs": [],
   "source": []
  },
  {
   "cell_type": "code",
   "execution_count": null,
   "metadata": {},
   "outputs": [],
   "source": []
  }
 ],
 "metadata": {
  "kernelspec": {
   "display_name": "Python 3",
   "language": "python",
   "name": "python3"
  },
  "language_info": {
   "codemirror_mode": {
    "name": "ipython",
    "version": 3
   },
   "file_extension": ".py",
   "mimetype": "text/x-python",
   "name": "python",
   "nbconvert_exporter": "python",
   "pygments_lexer": "ipython3",
   "version": "3.8.5"
  }
 },
 "nbformat": 4,
 "nbformat_minor": 4
}
