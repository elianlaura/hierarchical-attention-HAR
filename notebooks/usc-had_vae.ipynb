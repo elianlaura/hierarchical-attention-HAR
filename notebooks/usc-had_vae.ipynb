{
 "cells": [
  {
   "cell_type": "code",
   "execution_count": 1,
   "metadata": {},
   "outputs": [],
   "source": [
    "import tensorflow as tf\n",
    "import numpy as np\n",
    "import pandas as pd\n",
    "from sklearn.metrics import classification_report, confusion_matrix, accuracy_score, f1_score\n",
    "import seaborn as sns\n",
    "import matplotlib.pyplot as plt\n",
    "import sys\n",
    "import yaml\n",
    "\n",
    "sys.path.append(\"../\")\n",
    "\n",
    "%load_ext autoreload\n",
    "%autoreload 2"
   ]
  },
  {
   "cell_type": "code",
   "execution_count": 2,
   "metadata": {},
   "outputs": [],
   "source": [
    "from sklearn.preprocessing import StandardScaler\n",
    "from preprocessing.sliding_window import create_windowed_dataset\n",
    "from model.hierarchical_self_attention_model import HSA_model_session_guided_window"
   ]
  },
  {
   "cell_type": "markdown",
   "metadata": {},
   "source": [
    "### Data loading"
   ]
  },
  {
   "cell_type": "code",
   "execution_count": 3,
   "metadata": {},
   "outputs": [],
   "source": [
    "data_path = '../data/processed/usc-had.csv'\n",
    "df = pd.read_csv(data_path)"
   ]
  },
  {
   "cell_type": "code",
   "execution_count": 4,
   "metadata": {},
   "outputs": [
    {
     "data": {
      "text/html": [
       "<div>\n",
       "<style scoped>\n",
       "    .dataframe tbody tr th:only-of-type {\n",
       "        vertical-align: middle;\n",
       "    }\n",
       "\n",
       "    .dataframe tbody tr th {\n",
       "        vertical-align: top;\n",
       "    }\n",
       "\n",
       "    .dataframe thead th {\n",
       "        text-align: right;\n",
       "    }\n",
       "</style>\n",
       "<table border=\"1\" class=\"dataframe\">\n",
       "  <thead>\n",
       "    <tr style=\"text-align: right;\">\n",
       "      <th></th>\n",
       "      <th>subject</th>\n",
       "      <th>acc_x</th>\n",
       "      <th>acc_y</th>\n",
       "      <th>acc_z</th>\n",
       "      <th>gyr_x</th>\n",
       "      <th>gyr_y</th>\n",
       "      <th>gyr_z</th>\n",
       "      <th>activity</th>\n",
       "    </tr>\n",
       "  </thead>\n",
       "  <tbody>\n",
       "    <tr>\n",
       "      <th>0</th>\n",
       "      <td>11</td>\n",
       "      <td>0.788496</td>\n",
       "      <td>0.429586</td>\n",
       "      <td>0.158079</td>\n",
       "      <td>-9.520525</td>\n",
       "      <td>1.719961</td>\n",
       "      <td>-0.391400</td>\n",
       "      <td>2</td>\n",
       "    </tr>\n",
       "    <tr>\n",
       "      <th>1</th>\n",
       "      <td>11</td>\n",
       "      <td>0.795364</td>\n",
       "      <td>0.425966</td>\n",
       "      <td>0.176379</td>\n",
       "      <td>-8.312029</td>\n",
       "      <td>-0.693527</td>\n",
       "      <td>0.414264</td>\n",
       "      <td>2</td>\n",
       "    </tr>\n",
       "    <tr>\n",
       "      <th>2</th>\n",
       "      <td>11</td>\n",
       "      <td>0.819400</td>\n",
       "      <td>0.454920</td>\n",
       "      <td>0.205661</td>\n",
       "      <td>-5.492205</td>\n",
       "      <td>-3.495776</td>\n",
       "      <td>1.622760</td>\n",
       "      <td>2</td>\n",
       "    </tr>\n",
       "    <tr>\n",
       "      <th>3</th>\n",
       "      <td>11</td>\n",
       "      <td>0.815967</td>\n",
       "      <td>0.454920</td>\n",
       "      <td>0.212981</td>\n",
       "      <td>0.147443</td>\n",
       "      <td>-5.509936</td>\n",
       "      <td>0.817096</td>\n",
       "      <td>2</td>\n",
       "    </tr>\n",
       "    <tr>\n",
       "      <th>4</th>\n",
       "      <td>11</td>\n",
       "      <td>0.840003</td>\n",
       "      <td>0.454920</td>\n",
       "      <td>0.209321</td>\n",
       "      <td>3.772932</td>\n",
       "      <td>-9.135425</td>\n",
       "      <td>-0.794232</td>\n",
       "      <td>2</td>\n",
       "    </tr>\n",
       "  </tbody>\n",
       "</table>\n",
       "</div>"
      ],
      "text/plain": [
       "   subject     acc_x     acc_y     acc_z     gyr_x     gyr_y     gyr_z  \\\n",
       "0       11  0.788496  0.429586  0.158079 -9.520525  1.719961 -0.391400   \n",
       "1       11  0.795364  0.425966  0.176379 -8.312029 -0.693527  0.414264   \n",
       "2       11  0.819400  0.454920  0.205661 -5.492205 -3.495776  1.622760   \n",
       "3       11  0.815967  0.454920  0.212981  0.147443 -5.509936  0.817096   \n",
       "4       11  0.840003  0.454920  0.209321  3.772932 -9.135425 -0.794232   \n",
       "\n",
       "   activity  \n",
       "0         2  \n",
       "1         2  \n",
       "2         2  \n",
       "3         2  \n",
       "4         2  "
      ]
     },
     "execution_count": 4,
     "metadata": {},
     "output_type": "execute_result"
    }
   ],
   "source": [
    "df.head()"
   ]
  },
  {
   "cell_type": "code",
   "execution_count": 5,
   "metadata": {},
   "outputs": [],
   "source": [
    "FEATURES = ['acc_x', 'acc_y', 'acc_z', 'gyr_x', 'gyr_y', 'gyr_z']\n",
    "LABEL = 'activity'"
   ]
  },
  {
   "cell_type": "code",
   "execution_count": 6,
   "metadata": {},
   "outputs": [],
   "source": [
    "df = df.fillna(0)\n",
    "scaler = StandardScaler()\n",
    "df[FEATURES] = scaler.fit_transform(df[FEATURES])"
   ]
  },
  {
   "cell_type": "code",
   "execution_count": 7,
   "metadata": {},
   "outputs": [],
   "source": [
    "NOVEL_CLASSES = [3,4,10,11]"
   ]
  },
  {
   "cell_type": "code",
   "execution_count": 8,
   "metadata": {},
   "outputs": [],
   "source": [
    "holdout_data = df.loc[df[LABEL].isin(NOVEL_CLASSES)]\n",
    "novel_data = holdout_data.copy().reset_index(drop=True)\n",
    "\n",
    "df = df.drop(holdout_data.copy().index)\n",
    "df = df.reset_index(drop=True)"
   ]
  },
  {
   "cell_type": "code",
   "execution_count": 9,
   "metadata": {},
   "outputs": [],
   "source": [
    "hyperparameters = yaml.load(open('../configs/metadata.yaml', mode='r'), Loader=yaml.FullLoader)\n",
    "\n",
    "metadata = yaml.load(open('../configs/metadata.yaml', mode='r'), Loader=yaml.FullLoader)['uschad_preprocess']"
   ]
  },
  {
   "cell_type": "code",
   "execution_count": 10,
   "metadata": {},
   "outputs": [],
   "source": [
    "train_subject = [1, 2, 3, 4, 5, 6, 7, 8, 9, 10, 12]\n",
    "val_subject = [12]\n",
    "test_subject = [13, 14]"
   ]
  },
  {
   "cell_type": "code",
   "execution_count": 11,
   "metadata": {},
   "outputs": [],
   "source": [
    "train_df = df.loc[df['subject'].isin(train_subject)]\n",
    "val_df = df.loc[df['subject'].isin(val_subject)]\n",
    "test_df = df.loc[df['subject'].isin(test_subject)]\n",
    "\n",
    "SLIDING_WINDOW_LENGTH = metadata['sliding_win_len']\n",
    "SLIDING_WINDOW_STEP = metadata['sliding_win_stride']\n",
    "N_WINDOW, N_TIMESTEP = metadata['n_window'], metadata['n_timestep']\n",
    "\n",
    "# FEATURES = metadata['feature_list']\n",
    "\n",
    "X_train, y_train = create_windowed_dataset(\n",
    "    train_df, FEATURES, LABEL, window_size=SLIDING_WINDOW_LENGTH, stride=SLIDING_WINDOW_STEP)\n",
    "X_val, y_val = create_windowed_dataset(\n",
    "    val_df, FEATURES, LABEL, window_size=SLIDING_WINDOW_LENGTH, stride=SLIDING_WINDOW_STEP)\n",
    "X_test, y_test = create_windowed_dataset(\n",
    "    test_df, FEATURES, LABEL, window_size=SLIDING_WINDOW_LENGTH, stride=SLIDING_WINDOW_STEP)\n",
    "\n",
    "X_train = X_train.reshape(\n",
    "    (X_train.shape[0], N_WINDOW, N_TIMESTEP, len(FEATURES)))\n",
    "X_val = X_val.reshape(\n",
    "    (X_val.shape[0], N_WINDOW, N_TIMESTEP, len(FEATURES)))\n",
    "X_test = X_test.reshape(\n",
    "    (X_test.shape[0], N_WINDOW, N_TIMESTEP, len(FEATURES)))\n",
    "\n",
    "y_train = tf.keras.utils.to_categorical(y_train)\n",
    "y_val = tf.keras.utils.to_categorical(y_val)\n",
    "y_test = tf.keras.utils.to_categorical(y_test)"
   ]
  },
  {
   "cell_type": "code",
   "execution_count": 12,
   "metadata": {},
   "outputs": [],
   "source": [
    "X_holdout, y_holdout = create_windowed_dataset(novel_data, FEATURES,LABEL, window_size=SLIDING_WINDOW_LENGTH, stride=SLIDING_WINDOW_STEP)\n",
    "\n",
    "X_holdout = X_holdout.reshape((X_holdout.shape[0], N_WINDOW, N_TIMESTEP, len(FEATURES)))\n",
    "y_holdout = tf.keras.utils.to_categorical(y_holdout)"
   ]
  },
  {
   "cell_type": "code",
   "execution_count": 13,
   "metadata": {},
   "outputs": [
    {
     "name": "stdout",
     "output_type": "stream",
     "text": [
      "(12566, 10, 20, 6)\n",
      "(12566, 13)\n"
     ]
    }
   ],
   "source": [
    "print(X_train.shape)\n",
    "print(y_train.shape)"
   ]
  },
  {
   "cell_type": "code",
   "execution_count": 14,
   "metadata": {},
   "outputs": [],
   "source": [
    "y_train_mid = np.repeat(np.expand_dims(y_train, axis=1), repeats=metadata['n_window'], axis=1)\n",
    "y_val_mid = np.repeat(np.expand_dims(y_val, axis=1), repeats=metadata['n_window'], axis=1)\n",
    "y_test_mid = np.repeat(np.expand_dims(y_test, axis=1), repeats=metadata['n_window'], axis=1)"
   ]
  },
  {
   "cell_type": "code",
   "execution_count": 15,
   "metadata": {},
   "outputs": [],
   "source": [
    "y_holdout_mid = np.repeat(np.expand_dims(y_holdout, axis=1), repeats=N_WINDOW, axis=1)"
   ]
  },
  {
   "cell_type": "code",
   "execution_count": 16,
   "metadata": {},
   "outputs": [
    {
     "data": {
      "text/plain": [
       "(12566, 10, 13)"
      ]
     },
     "execution_count": 16,
     "metadata": {},
     "output_type": "execute_result"
    }
   ],
   "source": [
    "y_train_mid.shape"
   ]
  },
  {
   "cell_type": "code",
   "execution_count": 17,
   "metadata": {},
   "outputs": [],
   "source": [
    "hparam_file = open('../configs/hyperparameters.yaml', mode='r')\n",
    "hyperparameters = yaml.load(hparam_file, Loader=yaml.FullLoader)\n",
    "DATASET_NAME = 'uschad'\n",
    "hparams_all = hyperparameters['HSA_model']\n",
    "hparams = hparams_all[DATASET_NAME]\n",
    "\n",
    "hparams['n_window'], hparams['n_timesteps'], hparams['n_features'], hparams['n_outputs'] = X_train.shape[1], X_train.shape[2], X_train.shape[3], y_train.shape[1]\n",
    "hparams['n_outputs_window']=  y_train.shape[1]"
   ]
  },
  {
   "cell_type": "markdown",
   "metadata": {},
   "source": [
    "## Training"
   ]
  },
  {
   "cell_type": "code",
   "execution_count": 18,
   "metadata": {},
   "outputs": [
    {
     "name": "stdout",
     "output_type": "stream",
     "text": [
      "8 Physical GPUs, 8 Logical GPUs\n"
     ]
    }
   ],
   "source": [
    "gpus = tf.config.experimental.list_physical_devices('GPU')\n",
    "if gpus:\n",
    "  try:\n",
    "    # Currently, memory growth needs to be the same across GPUs\n",
    "    for gpu in gpus:\n",
    "      tf.config.experimental.set_memory_growth(gpu, True)\n",
    "    logical_gpus = tf.config.experimental.list_logical_devices('GPU')\n",
    "    print(len(gpus), \"Physical GPUs,\", len(logical_gpus), \"Logical GPUs\")\n",
    "  except RuntimeError as e:\n",
    "    # Memory growth must be set before GPUs have been initialized\n",
    "    print(e)"
   ]
  },
  {
   "cell_type": "code",
   "execution_count": 18,
   "metadata": {},
   "outputs": [
    {
     "name": "stdout",
     "output_type": "stream",
     "text": [
      "INFO:tensorflow:Using MirroredStrategy with devices ('/job:localhost/replica:0/task:0/device:GPU:7',)\n",
      "Number of devices: 1\n"
     ]
    }
   ],
   "source": [
    "tf.keras.backend.clear_session()\n",
    "device_list = ['/gpu:'+str(i) for i in range(7, 8)]\n",
    "strategy = tf.distribute.MirroredStrategy(devices=device_list)\n",
    "print('Number of devices: {}'.format(strategy.num_replicas_in_sync))\n",
    "with strategy.scope():\n",
    "    model = HSA_model_session_guided_window(**hparams).get_compiled_model()"
   ]
  },
  {
   "cell_type": "code",
   "execution_count": 19,
   "metadata": {},
   "outputs": [
    {
     "name": "stdout",
     "output_type": "stream",
     "text": [
      "Model: \"model_1\"\n",
      "__________________________________________________________________________________________________\n",
      "Layer (type)                    Output Shape         Param #     Connected to                     \n",
      "==================================================================================================\n",
      "input_1 (InputLayer)            [(None, 10, 20, 6)]  0                                            \n",
      "__________________________________________________________________________________________________\n",
      "multi_window_encoder (MultiWind ((None, None, 128),  989952      input_1[0][0]                    \n",
      "__________________________________________________________________________________________________\n",
      "modality_encoder_block_1 (Modal (None, None, 128)    675968      multi_window_encoder[0][0]       \n",
      "__________________________________________________________________________________________________\n",
      "combined_sensor_self_attention_ ((None, 128), (None, 329600      modality_encoder_block_1[0][0]   \n",
      "__________________________________________________________________________________________________\n",
      "tf_op_layer_Shape (TensorFlowOp [(2,)]               0           combined_sensor_self_attention_1[\n",
      "__________________________________________________________________________________________________\n",
      "tf_op_layer_ExpandDims (TensorF [(None, 1, 128)]     0           combined_sensor_self_attention_1[\n",
      "__________________________________________________________________________________________________\n",
      "tf_op_layer_strided_slice_1 (Te [(0,)]               0           tf_op_layer_Shape[0][0]          \n",
      "__________________________________________________________________________________________________\n",
      "tf_op_layer_strided_slice_2 (Te [(1,)]               0           tf_op_layer_Shape[0][0]          \n",
      "__________________________________________________________________________________________________\n",
      "tf_op_layer_Tile (TensorFlowOpL [(None, 10, 128)]    0           tf_op_layer_ExpandDims[0][0]     \n",
      "__________________________________________________________________________________________________\n",
      "tf_op_layer_concat (TensorFlowO [(2,)]               0           tf_op_layer_strided_slice_1[0][0]\n",
      "                                                                 tf_op_layer_strided_slice_2[0][0]\n",
      "__________________________________________________________________________________________________\n",
      "tf_op_layer_Reshape (TensorFlow [(None, 128)]        0           tf_op_layer_Tile[0][0]           \n",
      "                                                                 tf_op_layer_concat[0][0]         \n",
      "__________________________________________________________________________________________________\n",
      "reshape (Reshape)               (None, 10, 128)      0           tf_op_layer_Reshape[0][0]        \n",
      "__________________________________________________________________________________________________\n",
      "concatenate (Concatenate)       (None, 10, 256)      0           multi_window_encoder[0][0]       \n",
      "                                                                 reshape[0][0]                    \n",
      "__________________________________________________________________________________________________\n",
      "dense_36 (Dense)                (None, 10, 1024)     263168      concatenate[0][0]                \n",
      "__________________________________________________________________________________________________\n",
      "dense_37 (Dense)                (None, 512)          66048       combined_sensor_self_attention_1[\n",
      "__________________________________________________________________________________________________\n",
      "window_pred (Dense)             (None, 10, 13)       13325       dense_36[0][0]                   \n",
      "__________________________________________________________________________________________________\n",
      "session_pred (Dense)            (None, 13)           6669        dense_37[0][0]                   \n",
      "==================================================================================================\n",
      "Total params: 2,344,730\n",
      "Trainable params: 2,344,730\n",
      "Non-trainable params: 0\n",
      "__________________________________________________________________________________________________\n"
     ]
    }
   ],
   "source": [
    "model.summary()"
   ]
  },
  {
   "cell_type": "code",
   "execution_count": 20,
   "metadata": {},
   "outputs": [],
   "source": [
    "checkpoint_filepath = \"usc_checkpoints_vae/cp-{epoch:04d}.ckpt\"\n",
    "\n",
    "model_checkpoint_callback = tf.keras.callbacks.ModelCheckpoint(filepath=checkpoint_filepath,\n",
    "                                                               save_weights_only=True,\n",
    "                                                               verbose=1)"
   ]
  },
  {
   "cell_type": "code",
   "execution_count": 21,
   "metadata": {},
   "outputs": [
    {
     "name": "stdout",
     "output_type": "stream",
     "text": [
      "Epoch 1/30\n",
      "INFO:tensorflow:Reduce to /job:localhost/replica:0/task:0/device:CPU:0 then broadcast to ('/job:localhost/replica:0/task:0/device:CPU:0',).\n",
      "INFO:tensorflow:Reduce to /job:localhost/replica:0/task:0/device:CPU:0 then broadcast to ('/job:localhost/replica:0/task:0/device:CPU:0',).\n",
      "INFO:tensorflow:Reduce to /job:localhost/replica:0/task:0/device:CPU:0 then broadcast to ('/job:localhost/replica:0/task:0/device:CPU:0',).\n",
      "INFO:tensorflow:Reduce to /job:localhost/replica:0/task:0/device:CPU:0 then broadcast to ('/job:localhost/replica:0/task:0/device:CPU:0',).\n",
      "INFO:tensorflow:Reduce to /job:localhost/replica:0/task:0/device:CPU:0 then broadcast to ('/job:localhost/replica:0/task:0/device:CPU:0',).\n",
      "INFO:tensorflow:Reduce to /job:localhost/replica:0/task:0/device:CPU:0 then broadcast to ('/job:localhost/replica:0/task:0/device:CPU:0',).\n",
      "INFO:tensorflow:Reduce to /job:localhost/replica:0/task:0/device:CPU:0 then broadcast to ('/job:localhost/replica:0/task:0/device:CPU:0',).\n",
      "INFO:tensorflow:Reduce to /job:localhost/replica:0/task:0/device:CPU:0 then broadcast to ('/job:localhost/replica:0/task:0/device:CPU:0',).\n",
      "INFO:tensorflow:Reduce to /job:localhost/replica:0/task:0/device:CPU:0 then broadcast to ('/job:localhost/replica:0/task:0/device:CPU:0',).\n",
      "INFO:tensorflow:Reduce to /job:localhost/replica:0/task:0/device:CPU:0 then broadcast to ('/job:localhost/replica:0/task:0/device:CPU:0',).\n",
      "99/99 [==============================] - 34s 340ms/step - window_pred_accuracy: 0.7083 - session_pred_accuracy: 0.6912 - window_pred_loss: 0.7537 - loss: 1.5293 - session_pred_loss: 0.7756 - val_window_pred_accuracy: 0.9228 - val_session_pred_accuracy: 0.9027 - val_window_pred_loss: 0.2900 - val_loss: 0.6527 - val_session_pred_loss: 0.3627\n",
      "Epoch 2/30\n",
      "99/99 [==============================] - 31s 310ms/step - window_pred_accuracy: 0.8394 - session_pred_accuracy: 0.8395 - window_pred_loss: 0.4479 - loss: 0.8927 - session_pred_loss: 0.4448 - val_window_pred_accuracy: 0.9657 - val_session_pred_accuracy: 0.9653 - val_window_pred_loss: 0.1528 - val_loss: 0.3102 - val_session_pred_loss: 0.1574\n",
      "Epoch 3/30\n",
      "99/99 [==============================] - 30s 306ms/step - window_pred_accuracy: 0.8504 - session_pred_accuracy: 0.8521 - window_pred_loss: 0.4155 - loss: 0.8308 - session_pred_loss: 0.4153 - val_window_pred_accuracy: 0.9141 - val_session_pred_accuracy: 0.9143 - val_window_pred_loss: 0.2981 - val_loss: 0.5995 - val_session_pred_loss: 0.3014\n",
      "Epoch 4/30\n",
      "99/99 [==============================] - 30s 308ms/step - window_pred_accuracy: 0.7629 - session_pred_accuracy: 0.7593 - window_pred_loss: 0.6337 - loss: 1.2717 - session_pred_loss: 0.6380 - val_window_pred_accuracy: 0.9228 - val_session_pred_accuracy: 0.9227 - val_window_pred_loss: 0.3164 - val_loss: 0.6276 - val_session_pred_loss: 0.3112\n",
      "Epoch 5/30\n",
      "99/99 [==============================] - 31s 309ms/step - window_pred_accuracy: 0.8205 - session_pred_accuracy: 0.8228 - window_pred_loss: 0.4888 - loss: 0.9742 - session_pred_loss: 0.4854 - val_window_pred_accuracy: 0.9408 - val_session_pred_accuracy: 0.9422 - val_window_pred_loss: 0.2129 - val_loss: 0.4100 - val_session_pred_loss: 0.1971\n",
      "Epoch 6/30\n",
      "99/99 [==============================] - 31s 308ms/step - window_pred_accuracy: 0.8325 - session_pred_accuracy: 0.8330 - window_pred_loss: 0.4589 - loss: 0.9174 - session_pred_loss: 0.4584 - val_window_pred_accuracy: 0.8947 - val_session_pred_accuracy: 0.9033 - val_window_pred_loss: 0.3049 - val_loss: 0.5954 - val_session_pred_loss: 0.2905\n",
      "Epoch 7/30\n",
      "99/99 [==============================] - 31s 308ms/step - window_pred_accuracy: 0.7496 - session_pred_accuracy: 0.7400 - window_pred_loss: 0.6309 - loss: 1.2847 - session_pred_loss: 0.6538 - val_window_pred_accuracy: 0.9429 - val_session_pred_accuracy: 0.9458 - val_window_pred_loss: 0.2377 - val_loss: 0.4829 - val_session_pred_loss: 0.2452\n",
      "Epoch 8/30\n",
      "99/99 [==============================] - 18s 185ms/step - window_pred_accuracy: 0.7526 - session_pred_accuracy: 0.7262 - window_pred_loss: 0.6235 - loss: 1.2835 - session_pred_loss: 0.6600 - val_window_pred_accuracy: 0.8793 - val_session_pred_accuracy: 0.7303 - val_window_pred_loss: 0.5056 - val_loss: 1.2107 - val_session_pred_loss: 0.7052\n",
      "Epoch 9/30\n",
      "99/99 [==============================] - 18s 178ms/step - window_pred_accuracy: 0.7823 - session_pred_accuracy: 0.7777 - window_pred_loss: 0.5620 - loss: 1.1333 - session_pred_loss: 0.5713 - val_window_pred_accuracy: 0.9251 - val_session_pred_accuracy: 0.9280 - val_window_pred_loss: 0.2931 - val_loss: 0.5623 - val_session_pred_loss: 0.2692\n",
      "Epoch 10/30\n",
      "99/99 [==============================] - 18s 179ms/step - window_pred_accuracy: 0.8536 - session_pred_accuracy: 0.8533 - window_pred_loss: 0.3945 - loss: 0.7883 - session_pred_loss: 0.3938 - val_window_pred_accuracy: 0.9412 - val_session_pred_accuracy: 0.9222 - val_window_pred_loss: 0.2080 - val_loss: 0.4373 - val_session_pred_loss: 0.2293\n",
      "Epoch 11/30\n",
      "99/99 [==============================] - 18s 179ms/step - window_pred_accuracy: 0.8844 - session_pred_accuracy: 0.8838 - window_pred_loss: 0.3289 - loss: 0.6575 - session_pred_loss: 0.3286 - val_window_pred_accuracy: 0.9424 - val_session_pred_accuracy: 0.9427 - val_window_pred_loss: 0.2025 - val_loss: 0.3981 - val_session_pred_loss: 0.1956\n",
      "Epoch 12/30\n",
      "99/99 [==============================] - 18s 178ms/step - window_pred_accuracy: 0.8495 - session_pred_accuracy: 0.8504 - window_pred_loss: 0.4142 - loss: 0.8327 - session_pred_loss: 0.4185 - val_window_pred_accuracy: 0.9018 - val_session_pred_accuracy: 0.8948 - val_window_pred_loss: 0.2762 - val_loss: 0.5698 - val_session_pred_loss: 0.2936\n",
      "Epoch 13/30\n",
      "99/99 [==============================] - 18s 179ms/step - window_pred_accuracy: 0.8813 - session_pred_accuracy: 0.8833 - window_pred_loss: 0.3363 - loss: 0.6711 - session_pred_loss: 0.3349 - val_window_pred_accuracy: 0.9630 - val_session_pred_accuracy: 0.9642 - val_window_pred_loss: 0.1526 - val_loss: 0.3086 - val_session_pred_loss: 0.1560\n",
      "Epoch 14/30\n",
      "99/99 [==============================] - 27s 276ms/step - window_pred_accuracy: 0.8802 - session_pred_accuracy: 0.8800 - window_pred_loss: 0.3443 - loss: 0.6859 - session_pred_loss: 0.3416 - val_window_pred_accuracy: 0.9198 - val_session_pred_accuracy: 0.9238 - val_window_pred_loss: 0.2568 - val_loss: 0.5020 - val_session_pred_loss: 0.2452\n",
      "Epoch 15/30\n",
      "99/99 [==============================] - 28s 282ms/step - window_pred_accuracy: 0.9114 - session_pred_accuracy: 0.9125 - window_pred_loss: 0.2638 - loss: 0.5265 - session_pred_loss: 0.2627 - val_window_pred_accuracy: 0.9440 - val_session_pred_accuracy: 0.9453 - val_window_pred_loss: 0.2005 - val_loss: 0.3943 - val_session_pred_loss: 0.1937\n",
      "Epoch 16/30\n",
      "99/99 [==============================] - 28s 282ms/step - window_pred_accuracy: 0.9018 - session_pred_accuracy: 0.9016 - window_pred_loss: 0.2901 - loss: 0.5825 - session_pred_loss: 0.2923 - val_window_pred_accuracy: 0.9590 - val_session_pred_accuracy: 0.9595 - val_window_pred_loss: 0.1550 - val_loss: 0.3049 - val_session_pred_loss: 0.1499\n",
      "Epoch 17/30\n",
      "99/99 [==============================] - 28s 282ms/step - window_pred_accuracy: 0.9220 - session_pred_accuracy: 0.9221 - window_pred_loss: 0.2367 - loss: 0.4735 - session_pred_loss: 0.2368 - val_window_pred_accuracy: 0.9612 - val_session_pred_accuracy: 0.9621 - val_window_pred_loss: 0.1464 - val_loss: 0.2854 - val_session_pred_loss: 0.1390\n",
      "Epoch 18/30\n",
      "99/99 [==============================] - 28s 282ms/step - window_pred_accuracy: 0.9027 - session_pred_accuracy: 0.9018 - window_pred_loss: 0.2921 - loss: 0.5824 - session_pred_loss: 0.2902 - val_window_pred_accuracy: 0.5434 - val_session_pred_accuracy: 0.5047 - val_window_pred_loss: 0.7964 - val_loss: 1.6392 - val_session_pred_loss: 0.8428\n",
      "Epoch 19/30\n",
      "99/99 [==============================] - 28s 283ms/step - window_pred_accuracy: 0.8824 - session_pred_accuracy: 0.8813 - window_pred_loss: 0.3344 - loss: 0.6736 - session_pred_loss: 0.3393 - val_window_pred_accuracy: 0.9494 - val_session_pred_accuracy: 0.9511 - val_window_pred_loss: 0.1943 - val_loss: 0.3844 - val_session_pred_loss: 0.1901\n",
      "Epoch 20/30\n",
      "99/99 [==============================] - 28s 284ms/step - window_pred_accuracy: 0.8935 - session_pred_accuracy: 0.8940 - window_pred_loss: 0.3134 - loss: 0.6273 - session_pred_loss: 0.3139 - val_window_pred_accuracy: 0.8365 - val_session_pred_accuracy: 0.8333 - val_window_pred_loss: 0.3780 - val_loss: 0.7695 - val_session_pred_loss: 0.3915\n",
      "Epoch 21/30\n",
      "99/99 [==============================] - 28s 283ms/step - window_pred_accuracy: 0.9106 - session_pred_accuracy: 0.9094 - window_pred_loss: 0.2576 - loss: 0.5152 - session_pred_loss: 0.2576 - val_window_pred_accuracy: 0.9675 - val_session_pred_accuracy: 0.9706 - val_window_pred_loss: 0.1190 - val_loss: 0.2339 - val_session_pred_loss: 0.1149\n",
      "Epoch 22/30\n",
      "99/99 [==============================] - 28s 283ms/step - window_pred_accuracy: 0.8953 - session_pred_accuracy: 0.8958 - window_pred_loss: 0.3103 - loss: 0.6171 - session_pred_loss: 0.3069 - val_window_pred_accuracy: 0.9409 - val_session_pred_accuracy: 0.9338 - val_window_pred_loss: 0.2108 - val_loss: 0.4325 - val_session_pred_loss: 0.2218\n",
      "Epoch 23/30\n",
      "99/99 [==============================] - 28s 284ms/step - window_pred_accuracy: 0.9111 - session_pred_accuracy: 0.9111 - window_pred_loss: 0.2711 - loss: 0.5446 - session_pred_loss: 0.2735 - val_window_pred_accuracy: 0.9404 - val_session_pred_accuracy: 0.9406 - val_window_pred_loss: 0.1887 - val_loss: 0.3760 - val_session_pred_loss: 0.1873\n",
      "Epoch 24/30\n",
      "99/99 [==============================] - 28s 283ms/step - window_pred_accuracy: 0.8982 - session_pred_accuracy: 0.8998 - window_pred_loss: 0.3029 - loss: 0.6028 - session_pred_loss: 0.2999 - val_window_pred_accuracy: 0.9619 - val_session_pred_accuracy: 0.9616 - val_window_pred_loss: 0.1794 - val_loss: 0.3568 - val_session_pred_loss: 0.1774\n",
      "Epoch 25/30\n",
      "99/99 [==============================] - 28s 284ms/step - window_pred_accuracy: 0.9188 - session_pred_accuracy: 0.9194 - window_pred_loss: 0.2435 - loss: 0.4871 - session_pred_loss: 0.2436 - val_window_pred_accuracy: 0.9556 - val_session_pred_accuracy: 0.9569 - val_window_pred_loss: 0.1534 - val_loss: 0.3037 - val_session_pred_loss: 0.1503\n",
      "Epoch 26/30\n",
      "99/99 [==============================] - 28s 284ms/step - window_pred_accuracy: 0.9301 - session_pred_accuracy: 0.9308 - window_pred_loss: 0.2099 - loss: 0.4183 - session_pred_loss: 0.2084 - val_window_pred_accuracy: 0.9562 - val_session_pred_accuracy: 0.9569 - val_window_pred_loss: 0.1428 - val_loss: 0.2822 - val_session_pred_loss: 0.1394\n",
      "Epoch 27/30\n",
      "99/99 [==============================] - 28s 284ms/step - window_pred_accuracy: 0.9269 - session_pred_accuracy: 0.9272 - window_pred_loss: 0.2146 - loss: 0.4284 - session_pred_loss: 0.2139 - val_window_pred_accuracy: 0.9761 - val_session_pred_accuracy: 0.9769 - val_window_pred_loss: 0.1044 - val_loss: 0.2062 - val_session_pred_loss: 0.1018\n",
      "Epoch 28/30\n",
      "99/99 [==============================] - 28s 284ms/step - window_pred_accuracy: 0.9362 - session_pred_accuracy: 0.9366 - window_pred_loss: 0.1926 - loss: 0.3858 - session_pred_loss: 0.1932 - val_window_pred_accuracy: 0.9542 - val_session_pred_accuracy: 0.9569 - val_window_pred_loss: 0.1529 - val_loss: 0.2988 - val_session_pred_loss: 0.1460\n",
      "Epoch 29/30\n",
      "99/99 [==============================] - 28s 283ms/step - window_pred_accuracy: 0.9395 - session_pred_accuracy: 0.9398 - window_pred_loss: 0.1906 - loss: 0.3813 - session_pred_loss: 0.1907 - val_window_pred_accuracy: 0.9689 - val_session_pred_accuracy: 0.9695 - val_window_pred_loss: 0.1078 - val_loss: 0.2109 - val_session_pred_loss: 0.1031\n",
      "Epoch 30/30\n",
      "99/99 [==============================] - 28s 284ms/step - window_pred_accuracy: 0.9396 - session_pred_accuracy: 0.9406 - window_pred_loss: 0.1844 - loss: 0.3680 - session_pred_loss: 0.1836 - val_window_pred_accuracy: 0.9646 - val_session_pred_accuracy: 0.9674 - val_window_pred_loss: 0.1444 - val_loss: 0.2822 - val_session_pred_loss: 0.1378\n"
     ]
    }
   ],
   "source": [
    "history = model.fit(X_train, [y_train_mid, y_train], batch_size=len(device_list) * 128, epochs=30, validation_data=(X_val, [y_val_mid, y_val]), use_multiprocessing=True )"
   ]
  },
  {
   "cell_type": "code",
   "execution_count": 22,
   "metadata": {},
   "outputs": [],
   "source": [
    "pred_mid, pred_sess = model.predict(X_test, batch_size=len(device_list) * 128)"
   ]
  },
  {
   "cell_type": "code",
   "execution_count": 23,
   "metadata": {},
   "outputs": [],
   "source": [
    "activity_map = { 1:'Walking Forward', 2:'Walking Left', 5:'Walking Downstairs', 6:'Running Forward',\n",
    "                7:'Jumping Up', 8:'Sitting', 9:'Standing', 12:'Elevator Down'}\n",
    "activity_list = list(activity_map.values())"
   ]
  },
  {
   "cell_type": "code",
   "execution_count": 24,
   "metadata": {},
   "outputs": [
    {
     "name": "stdout",
     "output_type": "stream",
     "text": [
      "                    precision    recall  f1-score   support\n",
      "\n",
      "   Walking Forward       0.89      0.64      0.75       764\n",
      "      Walking Left       0.59      0.60      0.60       481\n",
      "Walking Downstairs       0.29      0.54      0.38       180\n",
      "   Running Forward       1.00      0.76      0.86       401\n",
      "        Jumping Up       0.82      0.85      0.84       179\n",
      "           Sitting       0.80      0.73      0.76       492\n",
      "          Standing       0.21      0.20      0.21       340\n",
      "     Elevator Down       0.14      0.29      0.19       178\n",
      "\n",
      "          accuracy                           0.60      3015\n",
      "         macro avg       0.59      0.58      0.57      3015\n",
      "      weighted avg       0.68      0.60      0.63      3015\n",
      "\n"
     ]
    }
   ],
   "source": [
    "print(classification_report(np.argmax(y_test, axis=1), np.argmax(pred_sess, axis=1), labels=list(activity_map.keys()), target_names=activity_list))"
   ]
  },
  {
   "cell_type": "code",
   "execution_count": 25,
   "metadata": {},
   "outputs": [
    {
     "data": {
      "text/plain": [
       "<AxesSubplot:>"
      ]
     },
     "execution_count": 25,
     "metadata": {},
     "output_type": "execute_result"
    },
    {
     "data": {
      "image/png": "[encoded data removed]",
      "text/plain": [
       "<Figure size 720x576 with 2 Axes>"
      ]
     },
     "metadata": {
      "needs_background": "light"
     },
     "output_type": "display_data"
    }
   ],
   "source": [
    "confm = confusion_matrix(np.argmax(y_test, axis=1), np.argmax(pred_sess, axis=1))\n",
    "# activity_list = list(activity_map.values())\n",
    "df_cm = pd.DataFrame(confm, index=activity_list, columns=activity_list)\n",
    "plt.figure(figsize = (10,8))\n",
    "sns.heatmap(df_cm, annot=True, fmt='d', cmap=\"YlGnBu\")"
   ]
  },
  {
   "cell_type": "code",
   "execution_count": null,
   "metadata": {},
   "outputs": [],
   "source": [
    "y_test_mid.shape"
   ]
  },
  {
   "cell_type": "code",
   "execution_count": null,
   "metadata": {},
   "outputs": [],
   "source": [
    "pred_mid.shape"
   ]
  },
  {
   "cell_type": "code",
   "execution_count": null,
   "metadata": {},
   "outputs": [],
   "source": [
    "print(classification_report(np.argmax(y_test_mid.reshape(-1, 13), axis=1), np.argmax(pred_mid.reshape(-1, 13), axis=1), labels=list(activity_map.keys()), target_names=activity_list))"
   ]
  },
  {
   "cell_type": "code",
   "execution_count": null,
   "metadata": {},
   "outputs": [],
   "source": [
    "confm = confusion_matrix(np.argmax(y_test_mid.reshape(-1, 13), axis=1), np.argmax(pred_mid.reshape(-1, 13), axis=1))\n",
    "# activity_list = list(activity_map.values())\n",
    "df_cm = pd.DataFrame(confm, index=activity_list, columns=activity_list)\n",
    "plt.figure(figsize = (10,8))\n",
    "sns.heatmap(df_cm, annot=True, fmt='d', cmap=\"YlGnBu\")"
   ]
  },
  {
   "cell_type": "code",
   "execution_count": null,
   "metadata": {},
   "outputs": [],
   "source": []
  },
  {
   "cell_type": "markdown",
   "metadata": {},
   "source": [
    "## VAE"
   ]
  },
  {
   "cell_type": "code",
   "execution_count": 26,
   "metadata": {},
   "outputs": [
    {
     "name": "stdout",
     "output_type": "stream",
     "text": [
      "input_1\n",
      "multi_window_encoder\n",
      "modality_encoder_block_1\n",
      "combined_sensor_self_attention_1\n",
      "tf_op_layer_Shape\n",
      "tf_op_layer_ExpandDims\n",
      "tf_op_layer_strided_slice_1\n",
      "tf_op_layer_strided_slice_2\n",
      "tf_op_layer_Tile\n",
      "tf_op_layer_concat\n",
      "tf_op_layer_Reshape\n",
      "reshape\n",
      "concatenate\n",
      "dense_36\n",
      "dense_37\n",
      "window_pred\n",
      "session_pred\n"
     ]
    }
   ],
   "source": [
    "for l in model.layers:\n",
    "    print(l.name)"
   ]
  },
  {
   "cell_type": "code",
   "execution_count": 27,
   "metadata": {},
   "outputs": [],
   "source": [
    "hierarchical_model = tf.keras.Model(inputs=model.input, outputs=model.get_layer('combined_sensor_self_attention_1').output, name='hierarchical_encoder')\n",
    "hierarchical_model.trainable = False"
   ]
  },
  {
   "cell_type": "code",
   "execution_count": 28,
   "metadata": {},
   "outputs": [
    {
     "name": "stdout",
     "output_type": "stream",
     "text": [
      "Model: \"hierarchical_encoder\"\n",
      "_________________________________________________________________\n",
      "Layer (type)                 Output Shape              Param #   \n",
      "=================================================================\n",
      "input_1 (InputLayer)         [(None, 10, 20, 6)]       0         \n",
      "_________________________________________________________________\n",
      "multi_window_encoder (MultiW ((None, None, 128), (None 989952    \n",
      "_________________________________________________________________\n",
      "modality_encoder_block_1 (Mo (None, None, 128)         675968    \n",
      "_________________________________________________________________\n",
      "combined_sensor_self_attenti ((None, 128), (None, 1, N 329600    \n",
      "=================================================================\n",
      "Total params: 1,995,520\n",
      "Trainable params: 0\n",
      "Non-trainable params: 1,995,520\n",
      "_________________________________________________________________\n"
     ]
    }
   ],
   "source": [
    "hierarchical_model.summary()"
   ]
  },
  {
   "cell_type": "code",
   "execution_count": 29,
   "metadata": {},
   "outputs": [],
   "source": [
    "class Sampling(tf.keras.layers.Layer):\n",
    "    def call(self, inputs):\n",
    "        z_mean, z_log_var = inputs\n",
    "\n",
    "        batch = tf.shape(z_mean)[0]\n",
    "        dim = tf.shape(z_mean)[1]\n",
    "        \n",
    "        epsilon = tf.keras.backend.random_normal(shape=(batch, dim))\n",
    "        \n",
    "        return z_mean + tf.exp(0.5 * z_log_var) * epsilon\n",
    "\n",
    "\n",
    "class Encoder(tf.keras.layers.Layer):\n",
    "\n",
    "    def __init__(self, latent_dim=16, intermediate_dim=32, name=\"encoder\", **kwargs):\n",
    "        super(Encoder, self).__init__(name=name, **kwargs)\n",
    "        self.dense_proj = tf.keras.layers.Dense(intermediate_dim, activation=\"relu\")\n",
    "        \n",
    "        self.dense_mean = tf.keras.layers.Dense(latent_dim)\n",
    "        self.dense_log_var = tf.keras.layers.Dense(latent_dim)\n",
    "        \n",
    "        self.sampling = Sampling()\n",
    "\n",
    "    def call(self, inputs):\n",
    "        x = self.dense_proj(inputs)\n",
    "        \n",
    "        z_mean = self.dense_mean(x)\n",
    "        z_log_var = self.dense_log_var(x)\n",
    "        z = self.sampling((z_mean, z_log_var))\n",
    "        \n",
    "        return z_mean, z_log_var, z\n",
    "\n",
    "\n",
    "class Decoder(tf.keras.layers.Layer):\n",
    "\n",
    "    def __init__(self, original_dim, intermediate_dim=32, name=\"decoder\", **kwargs):\n",
    "        super(Decoder, self).__init__(name=name, **kwargs)\n",
    "        self.dense_proj = tf.keras.layers.Dense(intermediate_dim, activation=\"relu\")\n",
    "        self.dense_output = tf.keras.layers.Dense(original_dim, activation=\"sigmoid\")\n",
    "\n",
    "    def call(self, inputs):\n",
    "        x = self.dense_proj(inputs)\n",
    "        \n",
    "        return self.dense_output(x)\n",
    "\n",
    "class VariationalAutoEncoder(tf.keras.Model):\n",
    "    \"\"\"Combines the encoder and decoder into an end-to-end model for training.\"\"\"\n",
    "\n",
    "    def __init__(\n",
    "        self,\n",
    "        base_model,\n",
    "        original_dim,\n",
    "        intermediate_dim=32,\n",
    "        latent_dim=16,\n",
    "        name=\"autoencoder\",\n",
    "        **kwargs\n",
    "    ):\n",
    "        super(VariationalAutoEncoder, self).__init__(name=name, **kwargs)\n",
    "        self.base_model = base_model\n",
    "        \n",
    "        self.original_dim = original_dim\n",
    "        \n",
    "        self.encoder = Encoder(latent_dim=latent_dim, intermediate_dim=intermediate_dim)\n",
    "        self.decoder = Decoder(original_dim, intermediate_dim=intermediate_dim)\n",
    "\n",
    "    def call(self, inputs):\n",
    "        inputs, _ = self.base_model(inputs)\n",
    "        z_mean, z_log_var, z = self.encoder(inputs)\n",
    "        reconstructed = self.decoder(z)\n",
    "        \n",
    "        return reconstructed\n",
    "\n",
    "    def train_step(self, data):\n",
    "        with tf.GradientTape() as tape:\n",
    "            # _data, label = data\n",
    "            _data = data\n",
    "            _data, _ = self.base_model(_data)\n",
    "            z_mean, z_log_var, z = self.encoder(_data)\n",
    "            reconstructed = self.decoder(z)\n",
    "\n",
    "            kl_loss = -0.5 * tf.reduce_mean(z_log_var - tf.square(z_mean) - tf.exp(z_log_var) + 1)            \n",
    "            reconstruction = tf.keras.losses.mean_squared_error(_data, reconstructed)\n",
    "            # weighted_reconstruction = tf.math.multiply(reconstruction, label)\n",
    "            # reconstruction_loss = tf.reduce_mean(weighted_reconstruction)\n",
    "            reconstruction_loss = tf.reduce_mean(reconstruction)\n",
    "            \n",
    "            total_loss = reconstruction_loss + kl_loss\n",
    "\n",
    "        grads = tape.gradient(total_loss, self.trainable_weights)\n",
    "\n",
    "        self.optimizer.apply_gradients(zip(grads, self.trainable_weights))\n",
    "\n",
    "        return {\n",
    "            \"loss\": total_loss,\n",
    "            \"reconstruction_loss\": reconstruction_loss,\n",
    "            \"kl_loss\": kl_loss,\n",
    "        }"
   ]
  },
  {
   "cell_type": "markdown",
   "metadata": {},
   "source": [
    "### Open set training"
   ]
  },
  {
   "cell_type": "code",
   "execution_count": 30,
   "metadata": {},
   "outputs": [
    {
     "name": "stdout",
     "output_type": "stream",
     "text": [
      "Epoch 1/60\n",
      "99/99 - 10s - reconstruction_loss: 0.9901 - kl_loss: 0.0831 - loss: 1.0732\n",
      "Epoch 2/60\n",
      "99/99 - 10s - reconstruction_loss: 0.8468 - kl_loss: 0.0045 - loss: 0.8513\n",
      "Epoch 3/60\n",
      "99/99 - 10s - reconstruction_loss: 0.8145 - kl_loss: 0.0019 - loss: 0.8164\n",
      "Epoch 4/60\n",
      "99/99 - 10s - reconstruction_loss: 0.8062 - kl_loss: 9.9122e-04 - loss: 0.8072\n",
      "Epoch 5/60\n",
      "99/99 - 10s - reconstruction_loss: 0.8031 - kl_loss: 8.3520e-04 - loss: 0.8040\n",
      "Epoch 6/60\n",
      "99/99 - 9s - reconstruction_loss: 0.8003 - kl_loss: 0.0011 - loss: 0.8014\n",
      "Epoch 7/60\n",
      "99/99 - 6s - reconstruction_loss: 0.7977 - kl_loss: 0.0019 - loss: 0.7996\n",
      "Epoch 8/60\n",
      "99/99 - 6s - reconstruction_loss: 0.7935 - kl_loss: 0.0041 - loss: 0.7976\n",
      "Epoch 9/60\n",
      "99/99 - 6s - reconstruction_loss: 0.7866 - kl_loss: 0.0087 - loss: 0.7953\n",
      "Epoch 10/60\n",
      "99/99 - 6s - reconstruction_loss: 0.7790 - kl_loss: 0.0133 - loss: 0.7923\n",
      "Epoch 11/60\n",
      "99/99 - 6s - reconstruction_loss: 0.7725 - kl_loss: 0.0167 - loss: 0.7892\n",
      "Epoch 12/60\n",
      "99/99 - 7s - reconstruction_loss: 0.7648 - kl_loss: 0.0214 - loss: 0.7862\n",
      "Epoch 13/60\n",
      "99/99 - 8s - reconstruction_loss: 0.7586 - kl_loss: 0.0247 - loss: 0.7833\n",
      "Epoch 14/60\n",
      "99/99 - 7s - reconstruction_loss: 0.7468 - kl_loss: 0.0319 - loss: 0.7787\n",
      "Epoch 15/60\n",
      "99/99 - 6s - reconstruction_loss: 0.7349 - kl_loss: 0.0392 - loss: 0.7741\n",
      "Epoch 16/60\n",
      "99/99 - 6s - reconstruction_loss: 0.7256 - kl_loss: 0.0444 - loss: 0.7700\n",
      "Epoch 17/60\n",
      "99/99 - 6s - reconstruction_loss: 0.7199 - kl_loss: 0.0478 - loss: 0.7677\n",
      "Epoch 18/60\n",
      "99/99 - 6s - reconstruction_loss: 0.7142 - kl_loss: 0.0504 - loss: 0.7646\n",
      "Epoch 19/60\n",
      "99/99 - 6s - reconstruction_loss: 0.7105 - kl_loss: 0.0525 - loss: 0.7629\n",
      "Epoch 20/60\n",
      "99/99 - 6s - reconstruction_loss: 0.7017 - kl_loss: 0.0575 - loss: 0.7592\n",
      "Epoch 21/60\n",
      "99/99 - 6s - reconstruction_loss: 0.6929 - kl_loss: 0.0636 - loss: 0.7565\n",
      "Epoch 22/60\n",
      "99/99 - 6s - reconstruction_loss: 0.6851 - kl_loss: 0.0663 - loss: 0.7515\n",
      "Epoch 23/60\n",
      "99/99 - 6s - reconstruction_loss: 0.6804 - kl_loss: 0.0693 - loss: 0.7497\n",
      "Epoch 24/60\n",
      "99/99 - 6s - reconstruction_loss: 0.6767 - kl_loss: 0.0711 - loss: 0.7478\n",
      "Epoch 25/60\n",
      "99/99 - 6s - reconstruction_loss: 0.6715 - kl_loss: 0.0730 - loss: 0.7445\n",
      "Epoch 26/60\n",
      "99/99 - 6s - reconstruction_loss: 0.6702 - kl_loss: 0.0752 - loss: 0.7453\n",
      "Epoch 27/60\n",
      "99/99 - 6s - reconstruction_loss: 0.6646 - kl_loss: 0.0778 - loss: 0.7424\n",
      "Epoch 28/60\n",
      "99/99 - 6s - reconstruction_loss: 0.6599 - kl_loss: 0.0785 - loss: 0.7384\n",
      "Epoch 29/60\n",
      "99/99 - 6s - reconstruction_loss: 0.6557 - kl_loss: 0.0811 - loss: 0.7368\n",
      "Epoch 30/60\n",
      "99/99 - 6s - reconstruction_loss: 0.6518 - kl_loss: 0.0815 - loss: 0.7333\n",
      "Epoch 31/60\n",
      "99/99 - 6s - reconstruction_loss: 0.6493 - kl_loss: 0.0829 - loss: 0.7322\n",
      "Epoch 32/60\n",
      "99/99 - 6s - reconstruction_loss: 0.6440 - kl_loss: 0.0867 - loss: 0.7307\n",
      "Epoch 33/60\n",
      "99/99 - 6s - reconstruction_loss: 0.6422 - kl_loss: 0.0866 - loss: 0.7288\n",
      "Epoch 34/60\n",
      "99/99 - 6s - reconstruction_loss: 0.6386 - kl_loss: 0.0889 - loss: 0.7274\n",
      "Epoch 35/60\n",
      "99/99 - 6s - reconstruction_loss: 0.6364 - kl_loss: 0.0901 - loss: 0.7265\n",
      "Epoch 36/60\n",
      "99/99 - 6s - reconstruction_loss: 0.6343 - kl_loss: 0.0899 - loss: 0.7242\n",
      "Epoch 37/60\n",
      "99/99 - 6s - reconstruction_loss: 0.6307 - kl_loss: 0.0926 - loss: 0.7233\n",
      "Epoch 38/60\n",
      "99/99 - 6s - reconstruction_loss: 0.6286 - kl_loss: 0.0938 - loss: 0.7224\n",
      "Epoch 39/60\n",
      "99/99 - 6s - reconstruction_loss: 0.6256 - kl_loss: 0.0941 - loss: 0.7197\n",
      "Epoch 40/60\n",
      "99/99 - 6s - reconstruction_loss: 0.6238 - kl_loss: 0.0951 - loss: 0.7188\n",
      "Epoch 41/60\n",
      "99/99 - 6s - reconstruction_loss: 0.6214 - kl_loss: 0.0958 - loss: 0.7172\n",
      "Epoch 42/60\n",
      "99/99 - 6s - reconstruction_loss: 0.6185 - kl_loss: 0.0966 - loss: 0.7151\n",
      "Epoch 43/60\n",
      "99/99 - 6s - reconstruction_loss: 0.6165 - kl_loss: 0.0987 - loss: 0.7152\n",
      "Epoch 44/60\n",
      "99/99 - 6s - reconstruction_loss: 0.6144 - kl_loss: 0.0994 - loss: 0.7139\n",
      "Epoch 45/60\n",
      "99/99 - 6s - reconstruction_loss: 0.6084 - kl_loss: 0.1011 - loss: 0.7095\n",
      "Epoch 46/60\n",
      "99/99 - 6s - reconstruction_loss: 0.6048 - kl_loss: 0.1030 - loss: 0.7078\n",
      "Epoch 47/60\n",
      "99/99 - 6s - reconstruction_loss: 0.6041 - kl_loss: 0.1044 - loss: 0.7085\n",
      "Epoch 48/60\n",
      "99/99 - 6s - reconstruction_loss: 0.6020 - kl_loss: 0.1053 - loss: 0.7073\n",
      "Epoch 49/60\n",
      "99/99 - 6s - reconstruction_loss: 0.5920 - kl_loss: 0.1089 - loss: 0.7008\n",
      "Epoch 58/60\n",
      "99/99 - 6s - reconstruction_loss: 0.5906 - kl_loss: 0.1097 - loss: 0.7003\n",
      "Epoch 59/60\n",
      "99/99 - 6s - reconstruction_loss: 0.5897 - kl_loss: 0.1101 - loss: 0.6998\n",
      "Epoch 60/60\n",
      "99/99 - 6s - reconstruction_loss: 0.5895 - kl_loss: 0.1095 - loss: 0.6990\n"
     ]
    }
   ],
   "source": [
    "with strategy.scope():\n",
    "    hsa_vae = VariationalAutoEncoder(base_model=hierarchical_model, original_dim=128)\n",
    "\n",
    "optimizer = tf.keras.optimizers.Adam(learning_rate=1e-3)\n",
    "hsa_vae.compile(optimizer)    \n",
    "\n",
    "vae_history = hsa_vae.fit(X_train, epochs=60, batch_size=128, verbose=2)"
   ]
  },
  {
   "cell_type": "markdown",
   "metadata": {},
   "source": [
    "## Novelty Result"
   ]
  },
  {
   "cell_type": "code",
   "execution_count": 31,
   "metadata": {},
   "outputs": [],
   "source": [
    "z_mean, z_log_var, z = hsa_vae.encoder(hierarchical_model.predict(X_holdout)[0])"
   ]
  },
  {
   "cell_type": "code",
   "execution_count": 32,
   "metadata": {},
   "outputs": [],
   "source": [
    "def kl_div(z_mean, z_log_var):\n",
    "    kl_loss = -0.5 * tf.math.reduce_mean((z_log_var - tf.square(z_mean) - tf.exp(z_log_var) + 1), axis=1)\n",
    "    return kl_loss.numpy()"
   ]
  },
  {
   "cell_type": "code",
   "execution_count": 33,
   "metadata": {},
   "outputs": [],
   "source": [
    "z_mean, z_log_var, z = hsa_vae.encoder(hierarchical_model.predict(X_train)[0])\n",
    "train_kl = kl_div(z_mean, z_log_var)"
   ]
  },
  {
   "cell_type": "code",
   "execution_count": 34,
   "metadata": {},
   "outputs": [],
   "source": [
    "z_mean, z_log_var, z = hsa_vae.encoder(hierarchical_model.predict(X_test)[0])\n",
    "test_kl = kl_div(z_mean, z_log_var)"
   ]
  },
  {
   "cell_type": "code",
   "execution_count": 35,
   "metadata": {},
   "outputs": [],
   "source": [
    "z_mean, z_log_var, z = hsa_vae.encoder(hierarchical_model.predict(X_holdout)[0])\n",
    "holdout_kl = kl_div(z_mean, z_log_var)"
   ]
  },
  {
   "cell_type": "code",
   "execution_count": 36,
   "metadata": {},
   "outputs": [],
   "source": [
    "def novelty_eval_kl(train_kl, test_kl, holdout_kl, mult=0.25):\n",
    "    threshold = np.mean(train_kl) - (mult * np.std(train_kl))\n",
    "    \n",
    "    y_holdout = (holdout_kl > threshold).astype(int)\n",
    "    y_true = np.ones(shape=holdout_kl.shape, dtype=int)\n",
    "    \n",
    "    y_test_n = (test_kl > threshold).astype(int)\n",
    "    _y_true = np.zeros(shape=test_kl.shape, dtype=int)\n",
    "    \n",
    "    y_holdout = np.append(y_holdout, y_test_n)\n",
    "    y_true = np.append(y_true, _y_true)\n",
    "    \n",
    "#     return accuracy_score(y_true, y_holdout), f1_score(y_true, y_holdout, average='macro')\n",
    "    \n",
    "    print(classification_report(y_true, y_holdout, labels=[0, 1], target_names=['KNOWN', 'NOVEL']))"
   ]
  },
  {
   "cell_type": "code",
   "execution_count": 37,
   "metadata": {},
   "outputs": [
    {
     "name": "stdout",
     "output_type": "stream",
     "text": [
      "              precision    recall  f1-score   support\n",
      "\n",
      "       KNOWN       0.20      0.36      0.25      3015\n",
      "       NOVEL       0.74      0.56      0.64      9991\n",
      "\n",
      "    accuracy                           0.51     13006\n",
      "   macro avg       0.47      0.46      0.44     13006\n",
      "weighted avg       0.61      0.51      0.55     13006\n",
      "\n"
     ]
    }
   ],
   "source": [
    "novelty_eval_kl(train_kl, test_kl, holdout_kl, mult=0.75)"
   ]
  },
  {
   "cell_type": "code",
   "execution_count": 38,
   "metadata": {},
   "outputs": [],
   "source": [
    "train_rec_loss = tf.keras.losses.mean_squared_error(hierarchical_model.predict(X_train)[0], hsa_vae.predict(X_train)).numpy()\n",
    "test_rec_loss = tf.keras.losses.mean_squared_error(hierarchical_model.predict(X_test)[0], hsa_vae.predict(X_test)).numpy()\n",
    "novel_rec_loss = tf.keras.losses.mean_squared_error(hierarchical_model.predict(X_holdout)[0], hsa_vae.predict(X_holdout)).numpy()"
   ]
  },
  {
   "cell_type": "code",
   "execution_count": 39,
   "metadata": {},
   "outputs": [
    {
     "data": {
      "text/plain": [
       "(12566,)"
      ]
     },
     "execution_count": 39,
     "metadata": {},
     "output_type": "execute_result"
    }
   ],
   "source": [
    "train_rec_loss.shape"
   ]
  },
  {
   "cell_type": "code",
   "execution_count": 40,
   "metadata": {},
   "outputs": [
    {
     "data": {
      "text/plain": [
       "(9991,)"
      ]
     },
     "execution_count": 40,
     "metadata": {},
     "output_type": "execute_result"
    }
   ],
   "source": [
    "novel_rec_loss.shape"
   ]
  },
  {
   "cell_type": "code",
   "execution_count": 41,
   "metadata": {},
   "outputs": [
    {
     "data": {
      "text/plain": [
       "<AxesSubplot:ylabel='Probability'>"
      ]
     },
     "execution_count": 41,
     "metadata": {},
     "output_type": "execute_result"
    },
    {
     "data": {
      "image/png": "[encoded data removed]",
      "text/plain": [
       "<Figure size 432x288 with 1 Axes>"
      ]
     },
     "metadata": {
      "needs_background": "light"
     },
     "output_type": "display_data"
    }
   ],
   "source": [
    "sns.histplot(train_rec_loss, stat=\"probability\")"
   ]
  },
  {
   "cell_type": "code",
   "execution_count": 42,
   "metadata": {},
   "outputs": [
    {
     "data": {
      "text/plain": [
       "<AxesSubplot:ylabel='Probability'>"
      ]
     },
     "execution_count": 42,
     "metadata": {},
     "output_type": "execute_result"
    },
    {
     "data": {
      "image/png": "[encoded data removed]",
      "text/plain": [
       "<Figure size 432x288 with 1 Axes>"
      ]
     },
     "metadata": {
      "needs_background": "light"
     },
     "output_type": "display_data"
    }
   ],
   "source": [
    "sns.histplot(test_rec_loss, stat=\"probability\")"
   ]
  },
  {
   "cell_type": "code",
   "execution_count": 43,
   "metadata": {},
   "outputs": [
    {
     "data": {
      "text/plain": [
       "<AxesSubplot:ylabel='Count'>"
      ]
     },
     "execution_count": 43,
     "metadata": {},
     "output_type": "execute_result"
    },
    {
     "data": {
      "image/png": "[encoded data removed]",
      "text/plain": [
       "<Figure size 432x288 with 1 Axes>"
      ]
     },
     "metadata": {
      "needs_background": "light"
     },
     "output_type": "display_data"
    }
   ],
   "source": [
    "sns.histplot(novel_rec_loss)"
   ]
  },
  {
   "cell_type": "code",
   "execution_count": 44,
   "metadata": {},
   "outputs": [
    {
     "data": {
      "text/plain": [
       "<AxesSubplot:xlabel='data', ylabel='Probability'>"
      ]
     },
     "execution_count": 44,
     "metadata": {},
     "output_type": "execute_result"
    },
    {
     "data": {
      "image/png": "[encoded data removed]",
      "text/plain": [
       "<Figure size 432x288 with 1 Axes>"
      ]
     },
     "metadata": {
      "needs_background": "light"
     },
     "output_type": "display_data"
    }
   ],
   "source": [
    "combined = pd.DataFrame({'data': novel_rec_loss, 'type': 'NULL'})\n",
    "combined = pd.concat([combined, pd.DataFrame({'data': test_rec_loss, 'type': 'KNOWN_TEST'})])\n",
    "combined = pd.concat([combined, pd.DataFrame({'data': train_rec_loss, 'type': 'KNOWN_TRAIN'})])\n",
    "sns.histplot(combined, x='data', hue='type', stat=\"probability\")"
   ]
  },
  {
   "cell_type": "code",
   "execution_count": 45,
   "metadata": {},
   "outputs": [
    {
     "data": {
      "text/plain": [
       "<AxesSubplot:xlabel='data', ylabel='Probability'>"
      ]
     },
     "execution_count": 45,
     "metadata": {},
     "output_type": "execute_result"
    },
    {
     "data": {
      "image/png": "[encoded data removed]",
      "text/plain": [
       "<Figure size 432x288 with 1 Axes>"
      ]
     },
     "metadata": {
      "needs_background": "light"
     },
     "output_type": "display_data"
    }
   ],
   "source": [
    "combined = pd.DataFrame()\n",
    "combined = pd.concat([combined, pd.DataFrame({'data': test_rec_loss, 'type': 'KNOWN_TEST'})])\n",
    "combined = pd.concat([combined, pd.DataFrame({'data': train_rec_loss, 'type': 'KNOWN_TRAIN'})])\n",
    "sns.histplot(combined, x='data', hue='type', stat=\"probability\")"
   ]
  },
  {
   "cell_type": "code",
   "execution_count": 46,
   "metadata": {},
   "outputs": [],
   "source": [
    "def novelty_eval_reconstrunction(train_rec_loss, test_rec_loss, novel_rec_loss, mult=0.25):\n",
    "    threshold = np.mean(train_rec_loss) - (mult * np.std(train_rec_loss))\n",
    "    \n",
    "    y_holdout = (novel_rec_loss > threshold).astype(int)\n",
    "    y_true = np.ones(shape=novel_rec_loss.shape, dtype=int)\n",
    "    \n",
    "    y_test_n = (test_rec_loss > threshold).astype(int)\n",
    "    _y_true = np.zeros(shape=test_rec_loss.shape, dtype=int)\n",
    "    \n",
    "    y_holdout = np.append(y_holdout, y_test_n)\n",
    "    y_true = np.append(y_true, _y_true)\n",
    "    \n",
    "    return accuracy_score(y_true, y_holdout), f1_score(y_true, y_holdout, average='macro'), \n",
    "    \n",
    "#     print(classification_report(y_true, y_holdout, labels=[0, 1], target_names=['KNOWN', 'NOVEL']))"
   ]
  },
  {
   "cell_type": "code",
   "execution_count": 47,
   "metadata": {},
   "outputs": [],
   "source": [
    "def hparam_search():\n",
    "    table = list()\n",
    "    thresh_vals = list(np.arange(0.0, 1.01, 0.01))\n",
    "    \n",
    "    idx = 0\n",
    "    \n",
    "    for m_val in thresh_vals:\n",
    "        result = novelty_eval_reconstrunction(train_rec_loss, test_rec_loss, novel_rec_loss, mult=m_val)\n",
    "        table.append([idx, m_val, result[0], result[1]])\n",
    "        \n",
    "        idx = idx + 1\n",
    "    \n",
    "    table = np.array(table)\n",
    "    sns.lineplot(table[:, 1], table[:, 2], label='Accuracy')\n",
    "    sns.lineplot(table[:, 1], table[:, 3], label='Macro F1')\n",
    "    plt.xlabel('Hyperparameter Value')\n",
    "    plt.title('Novelty Detection Experiement')\n",
    "    plt.show()\n",
    "    \n",
    "    top_acc = np.array(pd.Series(table[:, 2]).nlargest().index)\n",
    "    top_f1 = np.array(pd.Series(table[:, 3]).nlargest().index)\n",
    "    \n",
    "    print('Index with Top Accuracy and Macro F1 : ', top_acc, top_f1)\n",
    "    print('Most Important Index : ', np.intersect1d(top_acc, top_f1))\n",
    "    \n",
    "    print(tabulate(table, headers=['Index', 'Std. Multiplier Value', 'Accuracy', 'Macro F1'], tablefmt=\"grid\"))"
   ]
  },
  {
   "cell_type": "code",
   "execution_count": 48,
   "metadata": {},
   "outputs": [],
   "source": [
    "from tabulate import tabulate"
   ]
  },
  {
   "cell_type": "code",
   "execution_count": 49,
   "metadata": {},
   "outputs": [
    {
     "name": "stderr",
     "output_type": "stream",
     "text": [
      "/home/hariub/miniconda3/envs/tf2/lib/python3.8/site-packages/seaborn/_decorators.py:36: FutureWarning: Pass the following variables as keyword args: x, y. From version 0.12, the only valid positional argument will be `data`, and passing other arguments without an explicit keyword will result in an error or misinterpretation.\n",
      "  warnings.warn(\n",
      "/home/hariub/miniconda3/envs/tf2/lib/python3.8/site-packages/seaborn/_decorators.py:36: FutureWarning: Pass the following variables as keyword args: x, y. From version 0.12, the only valid positional argument will be `data`, and passing other arguments without an explicit keyword will result in an error or misinterpretation.\n",
      "  warnings.warn(\n"
     ]
    },
    {
     "data": {
      "image/png": "[encoded data removed]",
      "text/plain": [
       "<Figure size 432x288 with 1 Axes>"
      ]
     },
     "metadata": {
      "needs_background": "light"
     },
     "output_type": "display_data"
    },
    {
     "name": "stdout",
     "output_type": "stream",
     "text": [
      "Index with Top Accuracy and Macro F1 :  [100  99  98  97  96] [15 20 16 17 14]\n",
      "Most Important Index :  []\n",
      "+---------+-------------------------+------------+------------+\n",
      "|   Index |   Std. Multiplier Value |   Accuracy |   Macro F1 |\n",
      "+=========+=========================+============+============+\n",
      "|       0 |                    0    |   0.567584 |   0.513063 |\n",
      "+---------+-------------------------+------------+------------+\n",
      "|       1 |                    0.01 |   0.570198 |   0.514078 |\n",
      "+---------+-------------------------+------------+------------+\n",
      "|       2 |                    0.02 |   0.573197 |   0.515535 |\n",
      "+---------+-------------------------+------------+------------+\n",
      "|       3 |                    0.03 |   0.574581 |   0.51564  |\n",
      "+---------+-------------------------+------------+------------+\n",
      "|       4 |                    0.04 |   0.57781  |   0.517177 |\n",
      "+---------+-------------------------+------------+------------+\n",
      "|       5 |                    0.05 |   0.580348 |   0.518235 |\n",
      "+---------+-------------------------+------------+------------+\n",
      "|       6 |                    0.06 |   0.582347 |   0.518625 |\n",
      "+---------+-------------------------+------------+------------+\n",
      "|       7 |                    0.07 |   0.584346 |   0.518867 |\n",
      "+---------+-------------------------+------------+------------+\n",
      "|       8 |                    0.08 |   0.586422 |   0.519589 |\n",
      "+---------+-------------------------+------------+------------+\n",
      "|       9 |                    0.09 |   0.588113 |   0.519752 |\n",
      "+---------+-------------------------+------------+------------+\n",
      "|      10 |                    0.1  |   0.589651 |   0.519847 |\n",
      "+---------+-------------------------+------------+------------+\n",
      "|      11 |                    0.11 |   0.592034 |   0.520684 |\n",
      "+---------+-------------------------+------------+------------+\n",
      "|      12 |                    0.12 |   0.594726 |   0.521597 |\n",
      "+---------+-------------------------+------------+------------+\n",
      "|      13 |                    0.13 |   0.596801 |   0.521827 |\n",
      "+---------+-------------------------+------------+------------+\n",
      "|      14 |                    0.14 |   0.598954 |   0.522158 |\n",
      "+---------+-------------------------+------------+------------+\n",
      "|      15 |                    0.15 |   0.601876 |   0.523528 |\n",
      "+---------+-------------------------+------------+------------+\n",
      "|      16 |                    0.16 |   0.602952 |   0.522594 |\n",
      "+---------+-------------------------+------------+------------+\n",
      "|      17 |                    0.17 |   0.603952 |   0.522304 |\n",
      "+---------+-------------------------+------------+------------+\n",
      "|      18 |                    0.18 |   0.604875 |   0.521351 |\n",
      "+---------+-------------------------+------------+------------+\n",
      "|      19 |                    0.19 |   0.606643 |   0.521812 |\n",
      "+---------+-------------------------+------------+------------+\n",
      "|      20 |                    0.2  |   0.608873 |   0.522673 |\n",
      "+---------+-------------------------+------------+------------+\n",
      "|      21 |                    0.21 |   0.609795 |   0.521729 |\n",
      "+---------+-------------------------+------------+------------+\n",
      "|      22 |                    0.22 |   0.611333 |   0.521827 |\n",
      "+---------+-------------------------+------------+------------+\n",
      "|      23 |                    0.23 |   0.611487 |   0.519565 |\n",
      "+---------+-------------------------+------------+------------+\n",
      "|      24 |                    0.24 |   0.612487 |   0.518994 |\n",
      "+---------+-------------------------+------------+------------+\n",
      "|      25 |                    0.25 |   0.614024 |   0.518623 |\n",
      "+---------+-------------------------+------------+------------+\n",
      "|      26 |                    0.26 |   0.616331 |   0.519356 |\n",
      "+---------+-------------------------+------------+------------+\n",
      "|      27 |                    0.27 |   0.618099 |   0.519019 |\n",
      "+---------+-------------------------+------------+------------+\n",
      "|      28 |                    0.28 |   0.619099 |   0.518623 |\n",
      "+---------+-------------------------+------------+------------+\n",
      "|      29 |                    0.29 |   0.619406 |   0.516684 |\n",
      "+---------+-------------------------+------------+------------+\n",
      "|      30 |                    0.3  |   0.619868 |   0.515342 |\n",
      "+---------+-------------------------+------------+------------+\n",
      "|      31 |                    0.31 |   0.620714 |   0.514245 |\n",
      "+---------+-------------------------+------------+------------+\n",
      "|      32 |                    0.32 |   0.622174 |   0.513911 |\n",
      "+---------+-------------------------+------------+------------+\n",
      "|      33 |                    0.33 |   0.623481 |   0.512434 |\n",
      "+---------+-------------------------+------------+------------+\n",
      "|      34 |                    0.34 |   0.624635 |   0.511644 |\n",
      "+---------+-------------------------+------------+------------+\n",
      "|      35 |                    0.35 |   0.625481 |   0.510332 |\n",
      "+---------+-------------------------+------------+------------+\n",
      "|      36 |                    0.36 |   0.626403 |   0.509038 |\n",
      "+---------+-------------------------+------------+------------+\n",
      "|      37 |                    0.37 |   0.626941 |   0.507647 |\n",
      "+---------+-------------------------+------------+------------+\n",
      "|      38 |                    0.38 |   0.629017 |   0.508068 |\n",
      "+---------+-------------------------+------------+------------+\n",
      "|      39 |                    0.39 |   0.630017 |   0.507144 |\n",
      "+---------+-------------------------+------------+------------+\n",
      "|      40 |                    0.4  |   0.63117  |   0.506298 |\n",
      "+---------+-------------------------+------------+------------+\n",
      "|      41 |                    0.41 |   0.632477 |   0.505219 |\n",
      "+---------+-------------------------+------------+------------+\n",
      "|      42 |                    0.42 |   0.633477 |   0.504319 |\n",
      "+---------+-------------------------+------------+------------+\n",
      "|      43 |                    0.43 |   0.634707 |   0.503016 |\n",
      "+---------+-------------------------+------------+------------+\n",
      "|      44 |                    0.44 |   0.636168 |   0.502693 |\n",
      "+---------+-------------------------+------------+------------+\n",
      "|      45 |                    0.45 |   0.637167 |   0.501609 |\n",
      "+---------+-------------------------+------------+------------+\n",
      "|      46 |                    0.46 |   0.639013 |   0.501165 |\n",
      "+---------+-------------------------+------------+------------+\n",
      "|      47 |                    0.47 |   0.640627 |   0.500991 |\n",
      "+---------+-------------------------+------------+------------+\n",
      "|      48 |                    0.48 |   0.642857 |   0.501089 |\n",
      "+---------+-------------------------+------------+------------+\n",
      "|      49 |                    0.49 |   0.643318 |   0.499897 |\n",
      "+---------+-------------------------+------------+------------+\n",
      "|      50 |                    0.5  |   0.64401  |   0.498603 |\n",
      "+---------+-------------------------+------------+------------+\n",
      "|      51 |                    0.51 |   0.64601  |   0.498957 |\n",
      "+---------+-------------------------+------------+------------+\n",
      "|      52 |                    0.52 |   0.64724  |   0.498206 |\n",
      "+---------+-------------------------+------------+------------+\n",
      "|      53 |                    0.53 |   0.649393 |   0.498267 |\n",
      "+---------+-------------------------+------------+------------+\n",
      "|      54 |                    0.54 |   0.650392 |   0.497446 |\n",
      "+---------+-------------------------+------------+------------+\n",
      "|      55 |                    0.55 |   0.652776 |   0.497737 |\n",
      "+---------+-------------------------+------------+------------+\n",
      "|      56 |                    0.56 |   0.653698 |   0.496828 |\n",
      "+---------+-------------------------+------------+------------+\n",
      "|      57 |                    0.57 |   0.655928 |   0.496855 |\n",
      "+---------+-------------------------+------------+------------+\n",
      "|      58 |                    0.58 |   0.657389 |   0.496373 |\n",
      "+---------+-------------------------+------------+------------+\n",
      "|      59 |                    0.59 |   0.659388 |   0.496341 |\n",
      "+---------+-------------------------+------------+------------+\n",
      "|      60 |                    0.6  |   0.660926 |   0.495736 |\n",
      "+---------+-------------------------+------------+------------+\n",
      "|      61 |                    0.61 |   0.662617 |   0.49587  |\n",
      "+---------+-------------------------+------------+------------+\n",
      "|      62 |                    0.62 |   0.664693 |   0.495966 |\n",
      "+---------+-------------------------+------------+------------+\n",
      "|      63 |                    0.63 |   0.667461 |   0.496887 |\n",
      "+---------+-------------------------+------------+------------+\n",
      "|      64 |                    0.64 |   0.669076 |   0.496249 |\n",
      "+---------+-------------------------+------------+------------+\n",
      "|      65 |                    0.65 |   0.671536 |   0.496112 |\n",
      "+---------+-------------------------+------------+------------+\n",
      "|      66 |                    0.66 |   0.673382 |   0.49613  |\n",
      "+---------+-------------------------+------------+------------+\n",
      "|      67 |                    0.67 |   0.676073 |   0.49637  |\n",
      "+---------+-------------------------+------------+------------+\n",
      "|      68 |                    0.68 |   0.677841 |   0.49514  |\n",
      "+---------+-------------------------+------------+------------+\n",
      "|      69 |                    0.69 |   0.678841 |   0.49354  |\n",
      "+---------+-------------------------+------------+------------+\n",
      "|      70 |                    0.7  |   0.681685 |   0.494682 |\n",
      "+---------+-------------------------+------------+------------+\n",
      "|      71 |                    0.71 |   0.683377 |   0.4939   |\n",
      "+---------+-------------------------+------------+------------+\n",
      "|      72 |                    0.72 |   0.68553  |   0.493366 |\n",
      "+---------+-------------------------+------------+------------+\n",
      "|      73 |                    0.73 |   0.688067 |   0.493029 |\n",
      "+---------+-------------------------+------------+------------+\n",
      "|      74 |                    0.74 |   0.689297 |   0.491391 |\n",
      "+---------+-------------------------+------------+------------+\n",
      "|      75 |                    0.75 |   0.692219 |   0.490876 |\n",
      "+---------+-------------------------+------------+------------+\n",
      "|      76 |                    0.76 |   0.694987 |   0.48955  |\n",
      "+---------+-------------------------+------------+------------+\n",
      "|      77 |                    0.77 |   0.698293 |   0.489815 |\n",
      "+---------+-------------------------+------------+------------+\n",
      "|      78 |                    0.78 |   0.701215 |   0.489992 |\n",
      "+---------+-------------------------+------------+------------+\n",
      "|      79 |                    0.79 |   0.705059 |   0.491381 |\n",
      "+---------+-------------------------+------------+------------+\n",
      "|      80 |                    0.8  |   0.708058 |   0.491198 |\n",
      "+---------+-------------------------+------------+------------+\n",
      "|      81 |                    0.81 |   0.711441 |   0.490103 |\n",
      "+---------+-------------------------+------------+------------+\n",
      "|      82 |                    0.82 |   0.715285 |   0.490485 |\n",
      "+---------+-------------------------+------------+------------+\n",
      "|      83 |                    0.83 |   0.71936  |   0.491337 |\n",
      "+---------+-------------------------+------------+------------+\n",
      "|      84 |                    0.84 |   0.722666 |   0.489773 |\n",
      "+---------+-------------------------+------------+------------+\n",
      "|      85 |                    0.85 |   0.723666 |   0.485594 |\n",
      "+---------+-------------------------+------------+------------+\n",
      "|      86 |                    0.86 |   0.726511 |   0.484133 |\n",
      "+---------+-------------------------+------------+------------+\n",
      "|      87 |                    0.87 |   0.727587 |   0.480149 |\n",
      "+---------+-------------------------+------------+------------+\n",
      "|      88 |                    0.88 |   0.728894 |   0.47723  |\n",
      "+---------+-------------------------+------------+------------+\n",
      "|      89 |                    0.89 |   0.730278 |   0.474038 |\n",
      "+---------+-------------------------+------------+------------+\n",
      "|      90 |                    0.9  |   0.731278 |   0.470993 |\n",
      "+---------+-------------------------+------------+------------+\n",
      "|      91 |                    0.91 |   0.732816 |   0.46767  |\n",
      "+---------+-------------------------+------------+------------+\n",
      "|      92 |                    0.92 |   0.734353 |   0.466106 |\n",
      "+---------+-------------------------+------------+------------+\n",
      "|      93 |                    0.93 |   0.735814 |   0.465642 |\n",
      "+---------+-------------------------+------------+------------+\n",
      "|      94 |                    0.94 |   0.737275 |   0.464922 |\n",
      "+---------+-------------------------+------------+------------+\n",
      "|      95 |                    0.95 |   0.739428 |   0.464511 |\n",
      "+---------+-------------------------+------------+------------+\n",
      "|      96 |                    0.96 |   0.741196 |   0.463888 |\n",
      "+---------+-------------------------+------------+------------+\n",
      "|      97 |                    0.97 |   0.743349 |   0.463918 |\n",
      "+---------+-------------------------+------------+------------+\n",
      "|      98 |                    0.98 |   0.745348 |   0.463355 |\n",
      "+---------+-------------------------+------------+------------+\n",
      "|      99 |                    0.99 |   0.746809 |   0.462513 |\n",
      "+---------+-------------------------+------------+------------+\n",
      "|     100 |                    1    |   0.748654 |   0.461044 |\n",
      "+---------+-------------------------+------------+------------+\n"
     ]
    }
   ],
   "source": [
    "# Result\n",
    "hparam_search() "
   ]
  },
  {
   "cell_type": "code",
   "execution_count": null,
   "metadata": {},
   "outputs": [],
   "source": []
  },
  {
   "cell_type": "code",
   "execution_count": null,
   "metadata": {},
   "outputs": [],
   "source": []
  }
 ],
 "metadata": {
  "kernelspec": {
   "display_name": "Python 3",
   "language": "python",
   "name": "python3"
  },
  "language_info": {
   "codemirror_mode": {
    "name": "ipython",
    "version": 3
   },
   "file_extension": ".py",
   "mimetype": "text/x-python",
   "name": "python",
   "nbconvert_exporter": "python",
   "pygments_lexer": "ipython3",
   "version": "3.8.5"
  }
 },
 "nbformat": 4,
 "nbformat_minor": 4
}
