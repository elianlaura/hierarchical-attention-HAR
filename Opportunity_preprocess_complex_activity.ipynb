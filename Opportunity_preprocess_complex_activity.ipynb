{
  "nbformat": 4,
  "nbformat_minor": 0,
  "metadata": {
    "colab": {
      "name": "Opportunity_preprocess_complex_activity.ipynb",
      "provenance": [],
      "collapsed_sections": [],
      "toc_visible": true,
      "authorship_tag": "ABX9TyNJ81T1t0fE4MbkEWmeNS+P",
      "include_colab_link": true
    },
    "kernelspec": {
      "name": "python3",
      "display_name": "Python 3"
    },
    "widgets": {
      "application/vnd.jupyter.widget-state+json": {
        "693e43a69f9d4280a3066c215dd27bd4": {
          "model_module": "@jupyter-widgets/controls",
          "model_name": "HBoxModel",
          "state": {
            "_view_name": "HBoxView",
            "_dom_classes": [],
            "_model_name": "HBoxModel",
            "_view_module": "@jupyter-widgets/controls",
            "_model_module_version": "1.5.0",
            "_view_count": null,
            "_view_module_version": "1.5.0",
            "box_style": "",
            "layout": "IPY_MODEL_2f11be14abd542c79816d8b1da97329a",
            "_model_module": "@jupyter-widgets/controls",
            "children": [
              "IPY_MODEL_155d3945e3ae456db63eb70dfd60d21c",
              "IPY_MODEL_f359ae36572c4c029b9823a343cb3bdd"
            ]
          }
        },
        "2f11be14abd542c79816d8b1da97329a": {
          "model_module": "@jupyter-widgets/base",
          "model_name": "LayoutModel",
          "state": {
            "_view_name": "LayoutView",
            "grid_template_rows": null,
            "right": null,
            "justify_content": null,
            "_view_module": "@jupyter-widgets/base",
            "overflow": null,
            "_model_module_version": "1.2.0",
            "_view_count": null,
            "flex_flow": null,
            "width": null,
            "min_width": null,
            "border": null,
            "align_items": null,
            "bottom": null,
            "_model_module": "@jupyter-widgets/base",
            "top": null,
            "grid_column": null,
            "overflow_y": null,
            "overflow_x": null,
            "grid_auto_flow": null,
            "grid_area": null,
            "grid_template_columns": null,
            "flex": null,
            "_model_name": "LayoutModel",
            "justify_items": null,
            "grid_row": null,
            "max_height": null,
            "align_content": null,
            "visibility": null,
            "align_self": null,
            "height": null,
            "min_height": null,
            "padding": null,
            "grid_auto_rows": null,
            "grid_gap": null,
            "max_width": null,
            "order": null,
            "_view_module_version": "1.2.0",
            "grid_template_areas": null,
            "object_position": null,
            "object_fit": null,
            "grid_auto_columns": null,
            "margin": null,
            "display": null,
            "left": null
          }
        },
        "155d3945e3ae456db63eb70dfd60d21c": {
          "model_module": "@jupyter-widgets/controls",
          "model_name": "IntProgressModel",
          "state": {
            "_view_name": "ProgressView",
            "style": "IPY_MODEL_ef8b9b3ee1a34dd89953dd8c8c5bb8bc",
            "_dom_classes": [],
            "description": "Reading file 20 of 20: 100%",
            "_model_name": "IntProgressModel",
            "bar_style": "success",
            "max": 20,
            "_view_module": "@jupyter-widgets/controls",
            "_model_module_version": "1.5.0",
            "value": 20,
            "_view_count": null,
            "_view_module_version": "1.5.0",
            "orientation": "horizontal",
            "min": 0,
            "description_tooltip": null,
            "_model_module": "@jupyter-widgets/controls",
            "layout": "IPY_MODEL_12879c47d8904acc8187ef90be3e7df9"
          }
        },
        "f359ae36572c4c029b9823a343cb3bdd": {
          "model_module": "@jupyter-widgets/controls",
          "model_name": "HTMLModel",
          "state": {
            "_view_name": "HTMLView",
            "style": "IPY_MODEL_18e09ac9ca634f1cb120dc4ca021a597",
            "_dom_classes": [],
            "description": "",
            "_model_name": "HTMLModel",
            "placeholder": "​",
            "_view_module": "@jupyter-widgets/controls",
            "_model_module_version": "1.5.0",
            "value": " 20/20 [00:41&lt;00:00,  2.07s/it]",
            "_view_count": null,
            "_view_module_version": "1.5.0",
            "description_tooltip": null,
            "_model_module": "@jupyter-widgets/controls",
            "layout": "IPY_MODEL_9b07e02ab2e340c08ab0cfa16b69cab1"
          }
        },
        "ef8b9b3ee1a34dd89953dd8c8c5bb8bc": {
          "model_module": "@jupyter-widgets/controls",
          "model_name": "ProgressStyleModel",
          "state": {
            "_view_name": "StyleView",
            "_model_name": "ProgressStyleModel",
            "description_width": "initial",
            "_view_module": "@jupyter-widgets/base",
            "_model_module_version": "1.5.0",
            "_view_count": null,
            "_view_module_version": "1.2.0",
            "bar_color": null,
            "_model_module": "@jupyter-widgets/controls"
          }
        },
        "12879c47d8904acc8187ef90be3e7df9": {
          "model_module": "@jupyter-widgets/base",
          "model_name": "LayoutModel",
          "state": {
            "_view_name": "LayoutView",
            "grid_template_rows": null,
            "right": null,
            "justify_content": null,
            "_view_module": "@jupyter-widgets/base",
            "overflow": null,
            "_model_module_version": "1.2.0",
            "_view_count": null,
            "flex_flow": null,
            "width": null,
            "min_width": null,
            "border": null,
            "align_items": null,
            "bottom": null,
            "_model_module": "@jupyter-widgets/base",
            "top": null,
            "grid_column": null,
            "overflow_y": null,
            "overflow_x": null,
            "grid_auto_flow": null,
            "grid_area": null,
            "grid_template_columns": null,
            "flex": null,
            "_model_name": "LayoutModel",
            "justify_items": null,
            "grid_row": null,
            "max_height": null,
            "align_content": null,
            "visibility": null,
            "align_self": null,
            "height": null,
            "min_height": null,
            "padding": null,
            "grid_auto_rows": null,
            "grid_gap": null,
            "max_width": null,
            "order": null,
            "_view_module_version": "1.2.0",
            "grid_template_areas": null,
            "object_position": null,
            "object_fit": null,
            "grid_auto_columns": null,
            "margin": null,
            "display": null,
            "left": null
          }
        },
        "18e09ac9ca634f1cb120dc4ca021a597": {
          "model_module": "@jupyter-widgets/controls",
          "model_name": "DescriptionStyleModel",
          "state": {
            "_view_name": "StyleView",
            "_model_name": "DescriptionStyleModel",
            "description_width": "",
            "_view_module": "@jupyter-widgets/base",
            "_model_module_version": "1.5.0",
            "_view_count": null,
            "_view_module_version": "1.2.0",
            "_model_module": "@jupyter-widgets/controls"
          }
        },
        "9b07e02ab2e340c08ab0cfa16b69cab1": {
          "model_module": "@jupyter-widgets/base",
          "model_name": "LayoutModel",
          "state": {
            "_view_name": "LayoutView",
            "grid_template_rows": null,
            "right": null,
            "justify_content": null,
            "_view_module": "@jupyter-widgets/base",
            "overflow": null,
            "_model_module_version": "1.2.0",
            "_view_count": null,
            "flex_flow": null,
            "width": null,
            "min_width": null,
            "border": null,
            "align_items": null,
            "bottom": null,
            "_model_module": "@jupyter-widgets/base",
            "top": null,
            "grid_column": null,
            "overflow_y": null,
            "overflow_x": null,
            "grid_auto_flow": null,
            "grid_area": null,
            "grid_template_columns": null,
            "flex": null,
            "_model_name": "LayoutModel",
            "justify_items": null,
            "grid_row": null,
            "max_height": null,
            "align_content": null,
            "visibility": null,
            "align_self": null,
            "height": null,
            "min_height": null,
            "padding": null,
            "grid_auto_rows": null,
            "grid_gap": null,
            "max_width": null,
            "order": null,
            "_view_module_version": "1.2.0",
            "grid_template_areas": null,
            "object_position": null,
            "object_fit": null,
            "grid_auto_columns": null,
            "margin": null,
            "display": null,
            "left": null
          }
        }
      }
    }
  },
  "cells": [
    {
      "cell_type": "markdown",
      "metadata": {
        "id": "view-in-github",
        "colab_type": "text"
      },
      "source": [
        "<a href=\"https://colab.research.google.com/github/Saif-M-Dhrubo/hierarchical-attention-HAR/blob/master/Opportunity_preprocess_complex_activity.ipynb\" target=\"_parent\"><img src=\"https://colab.research.google.com/assets/colab-badge.svg\" alt=\"Open In Colab\"/></a>"
      ]
    },
    {
      "cell_type": "markdown",
      "metadata": {
        "id": "XFmc75YnJmUe",
        "colab_type": "text"
      },
      "source": [
        "## Downloading"
      ]
    },
    {
      "cell_type": "code",
      "metadata": {
        "id": "G2MIoI-MJp1f",
        "colab_type": "code",
        "outputId": "2f1bc652-b797-4c69-fd0d-18370fcf7d8b",
        "colab": {
          "base_uri": "https://localhost:8080/",
          "height": 258
        }
      },
      "source": [
        "!wget --no-check-certificate https://archive.ics.uci.edu/ml/machine-learning-databases/00226/OpportunityUCIDataset.zip\n",
        "!unzip -q OpportunityUCIDataset.zip"
      ],
      "execution_count": 0,
      "outputs": [
        {
          "output_type": "stream",
          "text": [
            "--2020-04-03 17:43:51--  https://archive.ics.uci.edu/ml/machine-learning-databases/00226/OpportunityUCIDataset.zip\n",
            "Resolving archive.ics.uci.edu (archive.ics.uci.edu)... 128.195.10.252\n",
            "Connecting to archive.ics.uci.edu (archive.ics.uci.edu)|128.195.10.252|:443... connected.\n",
            "WARNING: cannot verify archive.ics.uci.edu's certificate, issued by ‘CN=InCommon RSA Server CA,OU=InCommon,O=Internet2,L=Ann Arbor,ST=MI,C=US’:\n",
            "  Issued certificate has expired.\n",
            "HTTP request sent, awaiting response... 200 OK\n",
            "Length: 306636009 (292M) [application/x-httpd-php]\n",
            "Saving to: ‘OpportunityUCIDataset.zip’\n",
            "\n",
            "OpportunityUCIDatas 100%[===================>] 292.43M  21.9MB/s    in 14s     \n",
            "\n",
            "2020-04-03 17:44:06 (20.7 MB/s) - ‘OpportunityUCIDataset.zip’ saved [306636009/306636009]\n",
            "\n"
          ],
          "name": "stdout"
        }
      ]
    },
    {
      "cell_type": "markdown",
      "metadata": {
        "id": "YFm3ezZ-Kt0m",
        "colab_type": "text"
      },
      "source": [
        "### Preprocessing"
      ]
    },
    {
      "cell_type": "code",
      "metadata": {
        "id": "dE-wYcndQZ2Q",
        "colab_type": "code",
        "colab": {}
      },
      "source": [
        "import numpy as np\n",
        "\n",
        "import csv\n",
        "\n",
        "from tqdm.autonotebook import tqdm, trange"
      ],
      "execution_count": 0,
      "outputs": []
    },
    {
      "cell_type": "code",
      "metadata": {
        "id": "4wXLAoxqDieQ",
        "colab_type": "code",
        "colab": {}
      },
      "source": [
        "# Hardcoded names of the files defining the OPPORTUNITY challenge data. As named in the original data.\n",
        "file_list = ['S1-ADL1.dat', 'S1-ADL2.dat', 'S1-ADL3.dat', 'S1-ADL4.dat', 'S1-ADL5.dat', 'S1-Drill.dat',\n",
        "             'S2-ADL1.dat', 'S2-ADL2.dat', 'S2-ADL3.dat', 'S2-ADL4.dat', 'S2-ADL5.dat', 'S2-Drill.dat',\n",
        "             'S3-ADL1.dat', 'S3-ADL2.dat', 'S3-ADL3.dat', 'S3-ADL4.dat', 'S3-ADL5.dat', 'S3-Drill.dat',\n",
        "             'S4-ADL1.dat', 'S4-ADL2.dat', 'S4-ADL3.dat', 'S4-ADL4.dat', 'S4-ADL5.dat', 'S4-Drill.dat']\n",
        "\n",
        "## drill sessions do not contain any high level activity annotation\n",
        "file_list_nodrill = ['S1-ADL1.dat', 'S1-ADL2.dat', 'S1-ADL3.dat', 'S1-ADL4.dat', 'S1-ADL5.dat',\n",
        "             'S2-ADL1.dat', 'S2-ADL2.dat', 'S2-ADL3.dat', 'S2-ADL4.dat', 'S2-ADL5.dat',\n",
        "             'S3-ADL1.dat', 'S3-ADL2.dat', 'S3-ADL3.dat', 'S3-ADL4.dat', 'S3-ADL5.dat', \n",
        "             'S4-ADL1.dat', 'S4-ADL2.dat', 'S4-ADL3.dat', 'S4-ADL4.dat', 'S4-ADL5.dat']\n",
        "\n",
        "mid_label_map = [\n",
        "            (0,      'Other'),\n",
        "            (406516, 'Open Door 1'),\n",
        "            (406517, 'Open Door 2'),\n",
        "            (404516, 'Close Door 1'),\n",
        "            (404517, 'Close Door 2'),\n",
        "            (406520, 'Open Fridge'),\n",
        "            (404520, 'Close Fridge'),\n",
        "            (406505, 'Open Dishwasher'),\n",
        "            (404505, 'Close Dishwasher'),\n",
        "            (406519, 'Open Drawer 1'),\n",
        "            (404519, 'Close Drawer 1'),\n",
        "            (406511, 'Open Drawer 2'),\n",
        "            (404511, 'Close Drawer 2'),\n",
        "            (406508, 'Open Drawer 3'),\n",
        "            (404508, 'Close Drawer 3'),\n",
        "            (408512, 'Clean Table'),\n",
        "            (407521, 'Drink from Cup'),\n",
        "            (405506, 'Toggle Switch')]\n",
        "mid_label_to_id = {str(x[0]): i for i, x in enumerate(mid_label_map)}\n",
        "mid_idToLabel = [x[1] for x in mid_label_map]\n",
        "\n",
        "hi_label_map = [(0, 'Other'),\n",
        "                (101, 'Relaxing'), (102, 'Coffee time'),\n",
        "                (103, 'Early morning'), (104, 'Cleanup'),\n",
        "                (105, 'Sandwich time')]\n",
        "\n",
        "hi_label_to_id = {str(x[0]): i for i, x in enumerate(hi_label_map)}\n",
        "hi_idToLabel = [x[1] for x in hi_label_map]\n",
        "\n",
        "\n",
        "cols = [\n",
        "        38,  39,  40,  41,  42,  43,  44,  45,  46,  51,  52,  53,  54,\n",
        "        55,  56,  57,  58,  59,  64,  65,  66,  67,  68,  69,  70,  71,\n",
        "        72,  77,  78,  79,  80,  81,  82,  83,  84,  85,  90,  91,  92,\n",
        "        93,  94,  95,  96,  97,  98, 103, 104, 105, 106, 107, 108, 109,\n",
        "       110, 111, 112, 113, 114, 115, 116, 117, 118, 119, 120, 121, 122,\n",
        "       123, 124, 125, 126, 127, 128, 129, 130, 131, 132, 133, 134, 245, 250]\n",
        "\n",
        "selected_cols = np.asarray(cols)-1"
      ],
      "execution_count": 0,
      "outputs": []
    },
    {
      "cell_type": "code",
      "metadata": {
        "id": "XDP1vhufKv1U",
        "colab_type": "code",
        "colab": {}
      },
      "source": [
        "def readOpportunityFiles(filelist, cols, mid_label_to_id, hi_label_to_id):\n",
        "    data = []\n",
        "    mid_labels = []\n",
        "    hi_labels = []\n",
        "    subject_mapping = []\n",
        "    \n",
        "    with trange(len(filelist)) as t:\n",
        "        for i, filename in enumerate(filelist):\n",
        "            t.set_description('Reading file %d of %d' % (i+1, len(filelist)))\n",
        "            t.update(1)\n",
        "            with open(f'OpportunityUCIDataset/dataset/{filename}', 'r') as f:\n",
        "                reader = csv.reader(f, delimiter=' ')\n",
        "                subject_info = [int(filename[1]), filename[3:7]]\n",
        "                for line in reader:\n",
        "                    elem = []\n",
        "                    for ind in cols:\n",
        "                        elem.append(line[ind])\n",
        "                    if sum([x != 'NaN' for x in elem]) > 40:\n",
        "                        data.append([float(x) for x in elem[:-2]])\n",
        "                        mid_labels.append(mid_label_to_id[elem[-1]])\n",
        "                        hi_labels.append(hi_label_to_id[elem[-2]])\n",
        "                        subject_mapping.append(subject_info)\n",
        "\n",
        "    return np.asarray(data), np.asarray(mid_labels, dtype=int), np.asarray(hi_labels, dtype=int), np.asarray(subject_mapping)"
      ],
      "execution_count": 0,
      "outputs": []
    },
    {
      "cell_type": "code",
      "metadata": {
        "id": "xDJmrKf5IN_T",
        "colab_type": "code",
        "outputId": "6bcf1715-1385-48d4-daa4-d8bba832aa22",
        "colab": {
          "base_uri": "https://localhost:8080/",
          "height": 66,
          "referenced_widgets": [
            "693e43a69f9d4280a3066c215dd27bd4",
            "2f11be14abd542c79816d8b1da97329a",
            "155d3945e3ae456db63eb70dfd60d21c",
            "f359ae36572c4c029b9823a343cb3bdd",
            "ef8b9b3ee1a34dd89953dd8c8c5bb8bc",
            "12879c47d8904acc8187ef90be3e7df9",
            "18e09ac9ca634f1cb120dc4ca021a597",
            "9b07e02ab2e340c08ab0cfa16b69cab1"
          ]
        }
      },
      "source": [
        "data, mid_labels, hi_labels, subject_mapping = readOpportunityFiles(file_list_nodrill, selected_cols, mid_label_to_id, hi_label_to_id)"
      ],
      "execution_count": 0,
      "outputs": [
        {
          "output_type": "display_data",
          "data": {
            "application/vnd.jupyter.widget-view+json": {
              "model_id": "693e43a69f9d4280a3066c215dd27bd4",
              "version_minor": 0,
              "version_major": 2
            },
            "text/plain": [
              "HBox(children=(IntProgress(value=0, max=20), HTML(value='')))"
            ]
          },
          "metadata": {
            "tags": []
          }
        },
        {
          "output_type": "stream",
          "text": [
            "\n"
          ],
          "name": "stdout"
        }
      ]
    },
    {
      "cell_type": "code",
      "metadata": {
        "id": "SFDnBgA2KfHU",
        "colab_type": "code",
        "outputId": "e5494b36-81fc-4eaa-ec06-174529518ea0",
        "colab": {
          "base_uri": "https://localhost:8080/",
          "height": 102
        }
      },
      "source": [
        "np.unique(mid_labels, return_counts=True)"
      ],
      "execution_count": 0,
      "outputs": [
        {
          "output_type": "execute_result",
          "data": {
            "text/plain": [
              "(array([ 0,  1,  2,  3,  4,  5,  6,  7,  8,  9, 10, 11, 12, 13, 14, 15, 16,\n",
              "        17]),\n",
              " array([524219,   6213,   6356,   4958,   5096,  11523,  10344,   4555,\n",
              "          4231,   2958,   2724,   2720,   2343,   3870,   3722,   5901,\n",
              "         24462,   4481]))"
            ]
          },
          "metadata": {
            "tags": []
          },
          "execution_count": 53
        }
      ]
    },
    {
      "cell_type": "code",
      "metadata": {
        "id": "cII0LZrGKrL6",
        "colab_type": "code",
        "outputId": "1f2f6303-f305-44aa-d078-2986f3311844",
        "colab": {
          "base_uri": "https://localhost:8080/",
          "height": 51
        }
      },
      "source": [
        "np.unique(hi_labels, return_counts=True)"
      ],
      "execution_count": 0,
      "outputs": [
        {
          "output_type": "execute_result",
          "data": {
            "text/plain": [
              "(array([0, 1, 2, 3, 4, 5]),\n",
              " array([104068,  43090,  88113, 138449,  82678, 174278]))"
            ]
          },
          "metadata": {
            "tags": []
          },
          "execution_count": 54
        }
      ]
    },
    {
      "cell_type": "code",
      "metadata": {
        "id": "p9WUs0pFNwxq",
        "colab_type": "code",
        "outputId": "f0d47315-122e-43d8-9b63-5c1f89667ab4",
        "colab": {
          "base_uri": "https://localhost:8080/",
          "height": 299
        }
      },
      "source": [
        "import seaborn as sns\n",
        "\n",
        "sns.barplot(y=[327716,  43090,  88113, 138449,  82678, 174278], x= list(range(6)))"
      ],
      "execution_count": 0,
      "outputs": [
        {
          "output_type": "stream",
          "text": [
            "ERROR! Session/line number was not unique in database. History logging moved to new session 61\n"
          ],
          "name": "stdout"
        },
        {
          "output_type": "execute_result",
          "data": {
            "text/plain": [
              "<matplotlib.axes._subplots.AxesSubplot at 0x7f178bffaef0>"
            ]
          },
          "metadata": {
            "tags": []
          },
          "execution_count": 41
        },
        {
          "output_type": "display_data",
          "data": {
            "image/png": "[encoded data removed]",
            "text/plain": [
              "<Figure size 432x288 with 1 Axes>"
            ]
          },
          "metadata": {
            "tags": []
          }
        }
      ]
    },
    {
      "cell_type": "code",
      "metadata": {
        "id": "VdE7FIB7PsOB",
        "colab_type": "code",
        "outputId": "2b27d16c-1b0c-4ff7-85c9-e8e534f84013",
        "colab": {
          "base_uri": "https://localhost:8080/",
          "height": 282
        }
      },
      "source": [
        "sns.barplot(y=[104068,  43090,  88113, 138449,  82678, 174278], x= list(range(6)))"
      ],
      "execution_count": 0,
      "outputs": [
        {
          "output_type": "execute_result",
          "data": {
            "text/plain": [
              "<matplotlib.axes._subplots.AxesSubplot at 0x7f178bf9c3c8>"
            ]
          },
          "metadata": {
            "tags": []
          },
          "execution_count": 55
        },
        {
          "output_type": "display_data",
          "data": {
            "image/png": "[encoded data removed]",
            "text/plain": [
              "<Figure size 432x288 with 1 Axes>"
            ]
          },
          "metadata": {
            "tags": []
          }
        }
      ]
    },
    {
      "cell_type": "code",
      "metadata": {
        "id": "yOVP2ZVKOPg5",
        "colab_type": "code",
        "outputId": "4f8d70f5-2318-4fe2-ad70-459123cf9666",
        "colab": {
          "base_uri": "https://localhost:8080/",
          "height": 282
        }
      },
      "source": [
        "sns.barplot(y=[614649,  14105,  14675,  13383,  13739,  17778,  16120,  11399,\n",
        "         10453,   8156,   6852,   7597,   6761,   9466,   9286,  15507,\n",
        "         53463,  10935], x= list(range(18)))"
      ],
      "execution_count": 0,
      "outputs": [
        {
          "output_type": "execute_result",
          "data": {
            "text/plain": [
              "<matplotlib.axes._subplots.AxesSubplot at 0x7f178bf63f98>"
            ]
          },
          "metadata": {
            "tags": []
          },
          "execution_count": 44
        },
        {
          "output_type": "display_data",
          "data": {
            "image/png": "[encoded data removed]",
            "text/plain": [
              "<Figure size 432x288 with 1 Axes>"
            ]
          },
          "metadata": {
            "tags": []
          }
        }
      ]
    },
    {
      "cell_type": "code",
      "metadata": {
        "id": "I4i34WaQOjma",
        "colab_type": "code",
        "outputId": "3f599a76-3041-450c-cb1b-5bcbe315e88c",
        "colab": {
          "base_uri": "https://localhost:8080/",
          "height": 34
        }
      },
      "source": [
        "subject_mapping[600000]"
      ],
      "execution_count": 0,
      "outputs": [
        {
          "output_type": "execute_result",
          "data": {
            "text/plain": [
              "array(['3', 'Dril'], dtype='<U21')"
            ]
          },
          "metadata": {
            "tags": []
          },
          "execution_count": 50
        }
      ]
    },
    {
      "cell_type": "code",
      "metadata": {
        "id": "qfpY2voLQyYK",
        "colab_type": "code",
        "colab": {}
      },
      "source": [
        "np.savez_compressed('opp.npz', data=data, mid_labels=mid_labels, hi_labels = hi_labels, subject_mapping=subject_mapping)"
      ],
      "execution_count": 0,
      "outputs": []
    },
    {
      "cell_type": "code",
      "metadata": {
        "id": "imTok-O1Qybe",
        "colab_type": "code",
        "colab": {}
      },
      "source": [
        ""
      ],
      "execution_count": 0,
      "outputs": []
    },
    {
      "cell_type": "code",
      "metadata": {
        "id": "GkCxYrCOGuL2",
        "colab_type": "code",
        "colab": {}
      },
      "source": [
        "## preprocessing and imputation used in on-attn-har\n",
        "\n",
        "data_y = data_y.astype(int)\n",
        "\n",
        "# Perform linear interpolation\n",
        "data_x = np.array([Series(i).interpolate() for i in data_x.T]).T\n",
        "\n",
        "# Remaining missing data are converted to zero\n",
        "data_x[np.isnan(data_x)] = 0\n",
        "\n",
        "# All sensor channels are normalized\n",
        "from sklearn.preprocessing import StandardScaler\n",
        "\n",
        "scaler = StandardScaler()\n",
        "data_x = scaler.fit_transform(data_x)"
      ],
      "execution_count": 0,
      "outputs": []
    }
  ]
}