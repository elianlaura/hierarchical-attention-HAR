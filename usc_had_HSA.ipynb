{
  "nbformat": 4,
  "nbformat_minor": 0,
  "metadata": {
    "colab": {
      "name": "usc-had-HSA.ipynb",
      "provenance": [],
      "collapsed_sections": [],
      "toc_visible": true,
      "authorship_tag": "ABX9TyO4Paly2kJD11OrZJKU1lMC",
      "include_colab_link": true
    },
    "kernelspec": {
      "name": "python3",
      "display_name": "Python 3"
    },
    "accelerator": "GPU"
  },
  "cells": [
    {
      "cell_type": "markdown",
      "metadata": {
        "id": "view-in-github",
        "colab_type": "text"
      },
      "source": [
        "<a href=\"https://colab.research.google.com/github/saif-mahmud/hierarchical-attention-HAR/blob/master/usc_had_HSA.ipynb\" target=\"_parent\"><img src=\"https://colab.research.google.com/assets/colab-badge.svg\" alt=\"Open In Colab\"/></a>"
      ]
    },
    {
      "cell_type": "code",
      "metadata": {
        "id": "quYPaxVtKLK1",
        "colab_type": "code",
        "colab": {}
      },
      "source": [
        ""
      ],
      "execution_count": 0,
      "outputs": []
    },
    {
      "cell_type": "markdown",
      "metadata": {
        "id": "oJXwa8MPUYEC",
        "colab_type": "text"
      },
      "source": [
        "### Data Download and Preprocessing"
      ]
    },
    {
      "cell_type": "markdown",
      "metadata": {
        "id": "DCL7a6UKUZvj",
        "colab_type": "text"
      },
      "source": [
        "#### Raw Data Download"
      ]
    },
    {
      "cell_type": "code",
      "metadata": {
        "id": "NnL9S3hCXVuy",
        "colab_type": "code",
        "outputId": "e197973e-8aae-41cd-ea34-f2030df11fe8",
        "colab": {
          "base_uri": "https://localhost:8080/",
          "height": 204
        }
      },
      "source": [
        "!wget http://sipi.usc.edu/had/USC-HAD.zip\n",
        "!unzip -q USC-HAD.zip"
      ],
      "execution_count": 0,
      "outputs": [
        {
          "output_type": "stream",
          "text": [
            "--2020-06-02 15:37:46--  http://sipi.usc.edu/had/USC-HAD.zip\n",
            "Resolving sipi.usc.edu (sipi.usc.edu)... 128.125.20.90\n",
            "Connecting to sipi.usc.edu (sipi.usc.edu)|128.125.20.90|:80... connected.\n",
            "HTTP request sent, awaiting response... 200 OK\n",
            "Length: 44583390 (43M) [application/zip]\n",
            "Saving to: ‘USC-HAD.zip’\n",
            "\n",
            "\rUSC-HAD.zip           0%[                    ]       0  --.-KB/s               \rUSC-HAD.zip           5%[>                   ]   2.29M  11.0MB/s               \rUSC-HAD.zip          54%[=========>          ]  23.14M  56.7MB/s               \rUSC-HAD.zip         100%[===================>]  42.52M  71.8MB/s    in 0.6s    \n",
            "\n",
            "2020-06-02 15:37:47 (71.8 MB/s) - ‘USC-HAD.zip’ saved [44583390/44583390]\n",
            "\n"
          ],
          "name": "stdout"
        }
      ]
    },
    {
      "cell_type": "markdown",
      "metadata": {
        "id": "oruQW-gIZMdX",
        "colab_type": "text"
      },
      "source": [
        "#### Library Import"
      ]
    },
    {
      "cell_type": "code",
      "metadata": {
        "id": "rsz1KmIc4lTI",
        "colab_type": "code",
        "outputId": "37734188-3791-4a03-a5c9-1c0c81406322",
        "colab": {
          "base_uri": "https://localhost:8080/",
          "height": 71
        }
      },
      "source": [
        "%tensorflow_version 2.x\n",
        "%load_ext tensorboard\n",
        "\n",
        "import os\n",
        "\n",
        "import tensorflow as tf\n",
        "import numpy as np\n",
        "import scipy.io\n",
        "import pandas as pd\n",
        "import seaborn as sns\n",
        "import matplotlib.pyplot as plt\n",
        "from scipy import stats"
      ],
      "execution_count": 0,
      "outputs": [
        {
          "output_type": "stream",
          "text": [
            "/usr/local/lib/python3.6/dist-packages/statsmodels/tools/_testing.py:19: FutureWarning: pandas.util.testing is deprecated. Use the functions in the public API at pandas.testing instead.\n",
            "  import pandas.util.testing as tm\n"
          ],
          "name": "stderr"
        }
      ]
    },
    {
      "cell_type": "markdown",
      "metadata": {
        "id": "v7jK7XOAWIZb",
        "colab_type": "text"
      },
      "source": [
        "#### Data Preprocessing"
      ]
    },
    {
      "cell_type": "code",
      "metadata": {
        "id": "z1Fe-n18adlU",
        "colab_type": "code",
        "colab": {}
      },
      "source": [
        "DIR = './USC-HAD/'\n",
        "\n",
        "subject = []\n",
        "act_num = []\n",
        "sensor_readings = []\n",
        "\n",
        "def read_dir(directory):\n",
        "    for path, subdirs, files in os.walk(DIR):\n",
        "        for name in files:\n",
        "            if name.endswith('.mat'):\n",
        "                mat = scipy.io.loadmat(os.path.join(path, name))\n",
        "                subject.extend(mat['subject'])\n",
        "                sensor_readings.append(mat['sensor_readings'])\n",
        "\n",
        "                if mat.get('activity_number') is None:\n",
        "                    act_num.append('11')\n",
        "                else:\n",
        "                    act_num.append(mat['activity_number'])\n",
        "    return subject, act_num, sensor_readings\n",
        "\n",
        "subject, act_num, sensor_readings = read_dir(DIR)"
      ],
      "execution_count": 0,
      "outputs": []
    },
    {
      "cell_type": "code",
      "metadata": {
        "id": "Ci3b2z6perF9",
        "colab_type": "code",
        "outputId": "2a0d428d-e1ae-4352-cfbf-006f783927b6",
        "colab": {
          "base_uri": "https://localhost:8080/",
          "height": 34
        }
      },
      "source": [
        "# get acc + gyr sensor readings and put in df (dataframe)\n",
        "acc_x = []\n",
        "acc_y = []\n",
        "acc_z = []\n",
        "gyr_x = []\n",
        "gyr_y = []\n",
        "gyr_z = []\n",
        "\n",
        "act_label = []\n",
        "subject_id = []\n",
        "df = None\n",
        "\n",
        "for i in range(840):\n",
        "    for j in sensor_readings[i]:   \n",
        "        acc_x.append(j[0]) # acc_x\n",
        "        acc_y.append(j[1]) # acc_y\n",
        "        acc_z.append(j[2]) # acc_z\n",
        "        gyr_x.append(j[3]) # gyr_x\n",
        "        gyr_y.append(j[4]) # gyr_y\n",
        "        gyr_z.append(j[5]) # gyr_z\n",
        "        act_label.append(act_num[i])\n",
        "        subject_id.append(subject[i])\n",
        "        \n",
        "df = pd.DataFrame({'subject':subject_id,'acc_x':acc_x,'acc_y':acc_y,'acc_z':acc_z,'gyr_x':gyr_x,'gyr_y':gyr_y,'gyr_z':gyr_z,'activity':act_label})                   \n",
        "\n",
        "df = df[['subject','acc_x', 'acc_y', 'acc_z', 'gyr_x', 'gyr_y', 'gyr_z','activity']]\n",
        "\n",
        "df['activity']=df['activity'].astype(int)\n",
        "\n",
        "# save csv file\n",
        "df.to_csv('usc-had_raw.csv', index=False)\n",
        "\n",
        "# print size of dataset\n",
        "print('Dataset Size :', len(df))"
      ],
      "execution_count": 0,
      "outputs": [
        {
          "output_type": "stream",
          "text": [
            "Dataset Size : 2811490\n"
          ],
          "name": "stdout"
        }
      ]
    },
    {
      "cell_type": "code",
      "metadata": {
        "id": "Tpcs_wUs6g0d",
        "colab_type": "code",
        "colab": {}
      },
      "source": [
        "activity_map = { 1:'Walking Forward', 2:'Walking Left',  3:'Walking Right',\n",
        "                4:'Walking Upstairs', 5:'Walking Downstairs', 6:'Running Forward',\n",
        "                7:'Jumping Up', 8:'Sitting', 9:'Standing', 10: 'Sleeping',\n",
        "                11:'Elevator Up', 12:'Elevator Down'}\n",
        "activity_list = list(activity_map.values())"
      ],
      "execution_count": 0,
      "outputs": []
    },
    {
      "cell_type": "code",
      "metadata": {
        "id": "OJ_VqorPfDlo",
        "colab_type": "code",
        "outputId": "2399102c-e7f3-47ca-9e7a-9d6b5f9dc48c",
        "colab": {
          "base_uri": "https://localhost:8080/",
          "height": 272
        }
      },
      "source": [
        "df.info()"
      ],
      "execution_count": 0,
      "outputs": [
        {
          "output_type": "stream",
          "text": [
            "<class 'pandas.core.frame.DataFrame'>\n",
            "RangeIndex: 2811490 entries, 0 to 2811489\n",
            "Data columns (total 8 columns):\n",
            " #   Column    Dtype  \n",
            "---  ------    -----  \n",
            " 0   subject   object \n",
            " 1   acc_x     float64\n",
            " 2   acc_y     float64\n",
            " 3   acc_z     float64\n",
            " 4   gyr_x     float64\n",
            " 5   gyr_y     float64\n",
            " 6   gyr_z     float64\n",
            " 7   activity  int64  \n",
            "dtypes: float64(6), int64(1), object(1)\n",
            "memory usage: 171.6+ MB\n"
          ],
          "name": "stdout"
        }
      ]
    },
    {
      "cell_type": "markdown",
      "metadata": {
        "id": "a4HcjGxnguVs",
        "colab_type": "text"
      },
      "source": [
        "#### Data Visualization"
      ]
    },
    {
      "cell_type": "code",
      "metadata": {
        "id": "S7PH91Gzx3dK",
        "colab_type": "code",
        "outputId": "df5fc56b-c7d0-4f48-d5ea-837a4374f9ef",
        "colab": {
          "base_uri": "https://localhost:8080/",
          "height": 285
        }
      },
      "source": [
        "df['activity'].value_counts(normalize=True).plot(kind='bar')"
      ],
      "execution_count": 0,
      "outputs": [
        {
          "output_type": "execute_result",
          "data": {
            "text/plain": [
              "<matplotlib.axes._subplots.AxesSubplot at 0x7f5ecaa5a160>"
            ]
          },
          "metadata": {
            "tags": []
          },
          "execution_count": 7
        },
        {
          "output_type": "display_data",
          "data": {
            "image/png": "[encoded data removed]",
            "text/plain": [
              "<Figure size 432x288 with 1 Axes>"
            ]
          },
          "metadata": {
            "tags": [],
            "needs_background": "light"
          }
        }
      ]
    },
    {
      "cell_type": "markdown",
      "metadata": {
        "id": "yzBEITh0o3Zx",
        "colab_type": "text"
      },
      "source": [
        "#### Train-Test Split"
      ]
    },
    {
      "cell_type": "code",
      "metadata": {
        "id": "D6LZdACazdAJ",
        "colab_type": "code",
        "outputId": "a1e5887e-c357-4d19-bd5d-5b2666c38cf3",
        "colab": {
          "base_uri": "https://localhost:8080/",
          "height": 68
        }
      },
      "source": [
        "saved_df = pd.read_csv('usc-had_raw.csv')\n",
        "saved_df.columns"
      ],
      "execution_count": 0,
      "outputs": [
        {
          "output_type": "execute_result",
          "data": {
            "text/plain": [
              "Index(['subject', 'acc_x', 'acc_y', 'acc_z', 'gyr_x', 'gyr_y', 'gyr_z',\n",
              "       'activity'],\n",
              "      dtype='object')"
            ]
          },
          "metadata": {
            "tags": []
          },
          "execution_count": 8
        }
      ]
    },
    {
      "cell_type": "code",
      "metadata": {
        "id": "JCRCdlE0ha9Z",
        "colab_type": "code",
        "colab": {}
      },
      "source": [
        "train_subject = [1, 2, 3, 4, 5, 6, 7, 8, 9, 10]\n",
        "validation_subject = [11, 12]\n",
        "test_subject = [13, 14]\n",
        "\n",
        "x_columns = ['acc_x', 'acc_y', 'acc_z', 'gyr_x', 'gyr_y', 'gyr_z']\n",
        "y_columns = 'activity'"
      ],
      "execution_count": 0,
      "outputs": []
    },
    {
      "cell_type": "code",
      "metadata": {
        "id": "Z8XRARXymKvv",
        "colab_type": "code",
        "colab": {}
      },
      "source": [
        "def get_exp_data(downsample=False):\n",
        "    train_df = saved_df.loc[saved_df['subject'].isin(train_subject)]\n",
        "    validation_df = saved_df.loc[saved_df['subject'].isin(validation_subject)]\n",
        "    test_df = saved_df.loc[saved_df['subject'].isin(test_subject)]\n",
        "    \n",
        "    if downsample:\n",
        "        train_df = train_df[::3,:]\n",
        "        validation_df = validation_dfn[::3,:]\n",
        "        test_df = test_df[::3,:]\n",
        "\n",
        "    return train_df, validation_df, test_df"
      ],
      "execution_count": 0,
      "outputs": []
    },
    {
      "cell_type": "code",
      "metadata": {
        "id": "F4_3Bx0WZDAs",
        "colab_type": "code",
        "colab": {}
      },
      "source": [
        "train_df, val_df, test_df = get_exp_data(downsample=False)"
      ],
      "execution_count": 0,
      "outputs": []
    },
    {
      "cell_type": "markdown",
      "metadata": {
        "id": "HWhVW32BthuJ",
        "colab_type": "text"
      },
      "source": [
        "### Window - session"
      ]
    },
    {
      "cell_type": "code",
      "metadata": {
        "id": "sEqeYSYk0dj4",
        "colab_type": "code",
        "colab": {}
      },
      "source": [
        "SLIDING_WINDOW_LENGTH = 1000\n",
        "SLIDING_WINDOW_STEP = 500"
      ],
      "execution_count": 0,
      "outputs": []
    },
    {
      "cell_type": "code",
      "metadata": {
        "id": "3Z3BeBjQtlW5",
        "colab_type": "code",
        "colab": {}
      },
      "source": [
        "def create_windowed_dataset(df, features= x_columns, class_label = y_columns, window_size=32, stride = 16):\n",
        "    X = df[features].values\n",
        "    y = df[class_label].values\n",
        "    segments = []\n",
        "    labels = []\n",
        "\n",
        "    seg_start= 0\n",
        "    seg_end = window_size\n",
        "    while seg_end <= len(X):\n",
        "        if len(np.unique(y[seg_start:seg_end])) == 1: #valid-window\n",
        "            segments.append(X[seg_start:seg_end])\n",
        "            labels.append(y[seg_start]) # doesn't matter all same labels\n",
        "\n",
        "            seg_start += stride\n",
        "            seg_end = seg_start + window_size\n",
        "\n",
        "        else: #mixed- discard last few samples, move start to the new activity\n",
        "            current_label = y[seg_start]\n",
        "            for i in range(seg_start, seg_end):\n",
        "                if y[i] != current_label:\n",
        "                    seg_start = i\n",
        "                    seg_end = seg_start + window_size\n",
        "                    break\n",
        "\n",
        "    return np.asarray(segments).astype(np.float32), np.asarray(labels)"
      ],
      "execution_count": 0,
      "outputs": []
    },
    {
      "cell_type": "code",
      "metadata": {
        "id": "woEXO_h3yfmi",
        "colab_type": "code",
        "outputId": "8bed0f2a-11fa-4288-d725-d561bdf9357d",
        "colab": {
          "base_uri": "https://localhost:8080/",
          "height": 217
        }
      },
      "source": [
        "X_train, y_train = create_windowed_dataset(train_df, window_size=SLIDING_WINDOW_LENGTH, stride = SLIDING_WINDOW_STEP)\n",
        "X_val, y_val = create_windowed_dataset(val_df, window_size=SLIDING_WINDOW_LENGTH, stride = SLIDING_WINDOW_STEP)\n",
        "X_test, y_test = create_windowed_dataset(test_df, window_size=SLIDING_WINDOW_LENGTH, stride = SLIDING_WINDOW_STEP)"
      ],
      "execution_count": 0,
      "outputs": [
        {
          "output_type": "error",
          "ename": "NameError",
          "evalue": "ignored",
          "traceback": [
            "\u001b[0;31m---------------------------------------------------------------------------\u001b[0m",
            "\u001b[0;31mNameError\u001b[0m                                 Traceback (most recent call last)",
            "\u001b[0;32m<ipython-input-2-7dda3cccd2b6>\u001b[0m in \u001b[0;36m<module>\u001b[0;34m()\u001b[0m\n\u001b[0;32m----> 1\u001b[0;31m \u001b[0mX_train\u001b[0m\u001b[0;34m,\u001b[0m \u001b[0my_train\u001b[0m \u001b[0;34m=\u001b[0m \u001b[0mcreate_windowed_dataset\u001b[0m\u001b[0;34m(\u001b[0m\u001b[0mtrain_df\u001b[0m\u001b[0;34m,\u001b[0m \u001b[0mwindow_size\u001b[0m\u001b[0;34m=\u001b[0m\u001b[0mSLIDING_WINDOW_LENGTH\u001b[0m\u001b[0;34m,\u001b[0m \u001b[0mstride\u001b[0m \u001b[0;34m=\u001b[0m \u001b[0mSLIDING_WINDOW_STEP\u001b[0m\u001b[0;34m)\u001b[0m\u001b[0;34m\u001b[0m\u001b[0;34m\u001b[0m\u001b[0m\n\u001b[0m\u001b[1;32m      2\u001b[0m \u001b[0mX_val\u001b[0m\u001b[0;34m,\u001b[0m \u001b[0my_val\u001b[0m \u001b[0;34m=\u001b[0m \u001b[0mcreate_windowed_dataset\u001b[0m\u001b[0;34m(\u001b[0m\u001b[0mval_df\u001b[0m\u001b[0;34m,\u001b[0m \u001b[0mwindow_size\u001b[0m\u001b[0;34m=\u001b[0m\u001b[0mSLIDING_WINDOW_LENGTH\u001b[0m\u001b[0;34m,\u001b[0m \u001b[0mstride\u001b[0m \u001b[0;34m=\u001b[0m \u001b[0mSLIDING_WINDOW_STEP\u001b[0m\u001b[0;34m)\u001b[0m\u001b[0;34m\u001b[0m\u001b[0;34m\u001b[0m\u001b[0m\n\u001b[1;32m      3\u001b[0m \u001b[0mX_test\u001b[0m\u001b[0;34m,\u001b[0m \u001b[0my_test\u001b[0m \u001b[0;34m=\u001b[0m \u001b[0mcreate_windowed_dataset\u001b[0m\u001b[0;34m(\u001b[0m\u001b[0mtest_df\u001b[0m\u001b[0;34m,\u001b[0m \u001b[0mwindow_size\u001b[0m\u001b[0;34m=\u001b[0m\u001b[0mSLIDING_WINDOW_LENGTH\u001b[0m\u001b[0;34m,\u001b[0m \u001b[0mstride\u001b[0m \u001b[0;34m=\u001b[0m \u001b[0mSLIDING_WINDOW_STEP\u001b[0m\u001b[0;34m)\u001b[0m\u001b[0;34m\u001b[0m\u001b[0;34m\u001b[0m\u001b[0m\n",
            "\u001b[0;31mNameError\u001b[0m: name 'create_windowed_dataset' is not defined"
          ]
        }
      ]
    },
    {
      "cell_type": "code",
      "metadata": {
        "id": "3_I0wQ1QfEkd",
        "colab_type": "code",
        "outputId": "50550a75-dbf5-4667-c308-0f61bad56c78",
        "colab": {
          "base_uri": "https://localhost:8080/",
          "height": 163
        }
      },
      "source": [
        "pd.Series(y_train).value_counts()"
      ],
      "execution_count": 0,
      "outputs": [
        {
          "output_type": "error",
          "ename": "NameError",
          "evalue": "ignored",
          "traceback": [
            "\u001b[0;31m---------------------------------------------------------------------------\u001b[0m",
            "\u001b[0;31mNameError\u001b[0m                                 Traceback (most recent call last)",
            "\u001b[0;32m<ipython-input-3-108461e8aab8>\u001b[0m in \u001b[0;36m<module>\u001b[0;34m()\u001b[0m\n\u001b[0;32m----> 1\u001b[0;31m \u001b[0mpd\u001b[0m\u001b[0;34m.\u001b[0m\u001b[0mSeries\u001b[0m\u001b[0;34m(\u001b[0m\u001b[0my_train\u001b[0m\u001b[0;34m)\u001b[0m\u001b[0;34m.\u001b[0m\u001b[0mvalue_counts\u001b[0m\u001b[0;34m(\u001b[0m\u001b[0;34m)\u001b[0m\u001b[0;34m\u001b[0m\u001b[0;34m\u001b[0m\u001b[0m\n\u001b[0m",
            "\u001b[0;31mNameError\u001b[0m: name 'pd' is not defined"
          ]
        }
      ]
    },
    {
      "cell_type": "code",
      "metadata": {
        "id": "rDZzo11Afyti",
        "colab_type": "code",
        "colab": {}
      },
      "source": [
        "# count = 1\n",
        "# prev = y_train[0]\n",
        "# for wndw in y_train:\n",
        "#     if wndw == prev:\n",
        "#         count+=1\n",
        "#     else:\n",
        "#         print(f'{activity_map[prev]} -  {count} windows')\n",
        "#         count=1\n",
        "#     prev=wndw"
      ],
      "execution_count": 0,
      "outputs": []
    },
    {
      "cell_type": "code",
      "metadata": {
        "id": "nxFhQUNVgPjA",
        "colab_type": "code",
        "colab": {}
      },
      "source": [
        "N_WINDOW= 20\n",
        "N_TIMESTEP = 50"
      ],
      "execution_count": 0,
      "outputs": []
    },
    {
      "cell_type": "code",
      "metadata": {
        "id": "OsG1hNNji4Wc",
        "colab_type": "code",
        "outputId": "b2cccd82-3bb6-46de-ee0b-ed8893e413d7",
        "colab": {
          "base_uri": "https://localhost:8080/",
          "height": 231
        }
      },
      "source": [
        "X_train = X_train.reshape((X_train.shape[0], N_WINDOW, N_TIMESTEP, 6))\n",
        "X_val = X_val.reshape((X_val.shape[0], N_WINDOW, N_TIMESTEP, 6))\n",
        "X_test = X_test.reshape((X_test.shape[0], N_WINDOW, N_TIMESTEP, 6))\n",
        "\n",
        "y_train = tf.keras.utils.to_categorical(y_train-1)\n",
        "y_val = tf.keras.utils.to_categorical(y_val-1)\n",
        "y_test = tf.keras.utils.to_categorical(y_test-1)"
      ],
      "execution_count": 0,
      "outputs": [
        {
          "output_type": "error",
          "ename": "NameError",
          "evalue": "ignored",
          "traceback": [
            "\u001b[0;31m---------------------------------------------------------------------------\u001b[0m",
            "\u001b[0;31mNameError\u001b[0m                                 Traceback (most recent call last)",
            "\u001b[0;32m<ipython-input-1-4ddb1d376157>\u001b[0m in \u001b[0;36m<module>\u001b[0;34m()\u001b[0m\n\u001b[0;32m----> 1\u001b[0;31m \u001b[0mX_train\u001b[0m \u001b[0;34m=\u001b[0m \u001b[0mX_train\u001b[0m\u001b[0;34m.\u001b[0m\u001b[0mreshape\u001b[0m\u001b[0;34m(\u001b[0m\u001b[0;34m(\u001b[0m\u001b[0mX_train\u001b[0m\u001b[0;34m.\u001b[0m\u001b[0mshape\u001b[0m\u001b[0;34m[\u001b[0m\u001b[0;36m0\u001b[0m\u001b[0;34m]\u001b[0m\u001b[0;34m,\u001b[0m \u001b[0mN_WINDOW\u001b[0m\u001b[0;34m,\u001b[0m \u001b[0mN_TIMESTEP\u001b[0m\u001b[0;34m,\u001b[0m \u001b[0;36m6\u001b[0m\u001b[0;34m)\u001b[0m\u001b[0;34m)\u001b[0m\u001b[0;34m\u001b[0m\u001b[0;34m\u001b[0m\u001b[0m\n\u001b[0m\u001b[1;32m      2\u001b[0m \u001b[0mX_val\u001b[0m \u001b[0;34m=\u001b[0m \u001b[0mX_val\u001b[0m\u001b[0;34m.\u001b[0m\u001b[0mreshape\u001b[0m\u001b[0;34m(\u001b[0m\u001b[0;34m(\u001b[0m\u001b[0mX_val\u001b[0m\u001b[0;34m.\u001b[0m\u001b[0mshape\u001b[0m\u001b[0;34m[\u001b[0m\u001b[0;36m0\u001b[0m\u001b[0;34m]\u001b[0m\u001b[0;34m,\u001b[0m \u001b[0mN_WINDOW\u001b[0m\u001b[0;34m,\u001b[0m \u001b[0mN_TIMESTEP\u001b[0m\u001b[0;34m,\u001b[0m \u001b[0;36m6\u001b[0m\u001b[0;34m)\u001b[0m\u001b[0;34m)\u001b[0m\u001b[0;34m\u001b[0m\u001b[0;34m\u001b[0m\u001b[0m\n\u001b[1;32m      3\u001b[0m \u001b[0mX_test\u001b[0m \u001b[0;34m=\u001b[0m \u001b[0mX_test\u001b[0m\u001b[0;34m.\u001b[0m\u001b[0mreshape\u001b[0m\u001b[0;34m(\u001b[0m\u001b[0;34m(\u001b[0m\u001b[0mX_test\u001b[0m\u001b[0;34m.\u001b[0m\u001b[0mshape\u001b[0m\u001b[0;34m[\u001b[0m\u001b[0;36m0\u001b[0m\u001b[0;34m]\u001b[0m\u001b[0;34m,\u001b[0m \u001b[0mN_WINDOW\u001b[0m\u001b[0;34m,\u001b[0m \u001b[0mN_TIMESTEP\u001b[0m\u001b[0;34m,\u001b[0m \u001b[0;36m6\u001b[0m\u001b[0;34m)\u001b[0m\u001b[0;34m)\u001b[0m\u001b[0;34m\u001b[0m\u001b[0;34m\u001b[0m\u001b[0m\n\u001b[1;32m      4\u001b[0m \u001b[0;34m\u001b[0m\u001b[0m\n\u001b[1;32m      5\u001b[0m \u001b[0my_train\u001b[0m \u001b[0;34m=\u001b[0m \u001b[0mpd\u001b[0m\u001b[0;34m.\u001b[0m\u001b[0mget_dummies\u001b[0m\u001b[0;34m(\u001b[0m\u001b[0my_train\u001b[0m\u001b[0;34m)\u001b[0m\u001b[0;34m\u001b[0m\u001b[0;34m\u001b[0m\u001b[0m\n",
            "\u001b[0;31mNameError\u001b[0m: name 'X_train' is not defined"
          ]
        }
      ]
    },
    {
      "cell_type": "code",
      "metadata": {
        "id": "AWo6YyT405eM",
        "colab_type": "code",
        "outputId": "44fd07fa-780d-4348-d3e9-30431ecfef08",
        "colab": {
          "base_uri": "https://localhost:8080/",
          "height": 119
        }
      },
      "source": [
        "print(X_train.shape)\n",
        "print(y_train.shape)\n",
        "\n",
        "print(X_val.shape)\n",
        "print(y_val.shape)\n",
        "\n",
        "print(X_test.shape)\n",
        "print(y_test.shape)"
      ],
      "execution_count": 0,
      "outputs": [
        {
          "output_type": "stream",
          "text": [
            "(2882, 20, 50, 6)\n",
            "(2882, 12)\n",
            "(918, 20, 50, 6)\n",
            "(918, 12)\n",
            "(786, 20, 50, 6)\n",
            "(786, 12)\n"
          ],
          "name": "stdout"
        }
      ]
    },
    {
      "cell_type": "markdown",
      "metadata": {
        "id": "FhRBTzCt50jV",
        "colab_type": "text"
      },
      "source": [
        "## tf data"
      ]
    },
    {
      "cell_type": "code",
      "metadata": {
        "id": "8j_NC1-q5y7J",
        "colab_type": "code",
        "colab": {}
      },
      "source": [
        "train_dataset = tf.data.Dataset.from_tensor_slices((X_train, y_train))\n",
        "val_dataset = tf.data.Dataset.from_tensor_slices((X_val, y_val))"
      ],
      "execution_count": 0,
      "outputs": []
    },
    {
      "cell_type": "code",
      "metadata": {
        "id": "JvZcFltUJmxQ",
        "colab_type": "code",
        "colab": {}
      },
      "source": [
        "test_dataset = tf.data.Dataset.from_tensor_slices(X_test)\n",
        "test_dataset = test_dataset.batch(32)"
      ],
      "execution_count": 0,
      "outputs": []
    },
    {
      "cell_type": "code",
      "metadata": {
        "id": "HHDhgq3G7JiJ",
        "colab_type": "code",
        "colab": {}
      },
      "source": [
        "BATCH_SIZE = 64\n",
        "SHUFFLE_BUFFER_SIZE = 512\n",
        "\n",
        "train_dataset = train_dataset.shuffle(SHUFFLE_BUFFER_SIZE).batch(BATCH_SIZE)\n",
        "val_dataset = val_dataset.shuffle(SHUFFLE_BUFFER_SIZE).batch(32)"
      ],
      "execution_count": 0,
      "outputs": []
    },
    {
      "cell_type": "markdown",
      "metadata": {
        "id": "dP8sVlP9rirJ",
        "colab_type": "text"
      },
      "source": [
        "## Model"
      ]
    },
    {
      "cell_type": "code",
      "metadata": {
        "id": "bGlJDgDrZrHt",
        "colab_type": "code",
        "colab": {}
      },
      "source": [
        "class PositionalEncoding(tf.keras.layers.Layer):\n",
        "\n",
        "    def __init__(self, position, d_model, include_dropout=True, dropout_rate=0.2):\n",
        "        super(PositionalEncoding, self).__init__()\n",
        "        self.d_model = d_model\n",
        "        self.pos_encoding = self.positional_encoding(position, d_model)\n",
        "        self.include_dropout = include_dropout\n",
        "        if include_dropout:\n",
        "            self.dropout = tf.keras.layers.Dropout(rate=dropout_rate)\n",
        "\n",
        "    def get_angles(self, position, i, d_model):\n",
        "        angles = 1 / tf.pow(10000, (2 * (i // 2)) / tf.cast(d_model, tf.float32))\n",
        "        return position * angles\n",
        "\n",
        "    def positional_encoding(self, position, d_model):\n",
        "        angle_rads = self.get_angles(\n",
        "            position=tf.range(position, dtype=tf.float32)[:, tf.newaxis],\n",
        "            i=tf.range(d_model, dtype=tf.float32)[tf.newaxis, :],\n",
        "            d_model=d_model)\n",
        "        # apply sin to even index in the array\n",
        "        sines = tf.math.sin(angle_rads[:, 0::2])\n",
        "        # apply cos to odd index in the array\n",
        "        cosines = tf.math.cos(angle_rads[:, 1::2])\n",
        "\n",
        "        pos_encoding = tf.concat([sines, cosines], axis=-1)\n",
        "        pos_encoding = pos_encoding[tf.newaxis, ...]\n",
        "        return tf.cast(pos_encoding, tf.float32)\n",
        "\n",
        "    def call(self, x):\n",
        "        x *= tf.math.sqrt(tf.cast(self.d_model, tf.float32))\n",
        "        x = x + self.pos_encoding[:, :tf.shape(x)[1], :]\n",
        "        if self.include_dropout:\n",
        "            x = self.dropout(x)\n",
        "        return x"
      ],
      "execution_count": 0,
      "outputs": []
    },
    {
      "cell_type": "code",
      "metadata": {
        "id": "PrTMmEDdjXEt",
        "colab_type": "code",
        "colab": {}
      },
      "source": [
        "class LearnedPositionalEncoding(tf.keras.layers.Layer):\n",
        "    def __init__(self, num_positions, d_model, include_dropout=True, dropout_rate=0.2):\n",
        "        super(LearnedPositionalEncoding, self).__init__()\n",
        "        self.d_model = d_model\n",
        "        self.pos_encoding = tf.keras.layers.Embedding(num_positions, d_model)\n",
        "        self.include_dropout = include_dropout\n",
        "        if include_dropout:\n",
        "            self.dropout = tf.keras.layers.Dropout(rate=dropout_rate)\n",
        "\n",
        "    def call(self, x):\n",
        "        x *= tf.math.sqrt(tf.cast(self.d_model, tf.float32))\n",
        "        x = x + self.pos_encoding(tf.expand_dims(tf.range(tf.shape(x)[1]), axis=0))\n",
        "        if self.include_dropout:\n",
        "            x = self.dropout(x)\n",
        "        return x"
      ],
      "execution_count": 0,
      "outputs": []
    },
    {
      "cell_type": "code",
      "metadata": {
        "id": "KYT3Tbh4QhnL",
        "colab_type": "code",
        "colab": {}
      },
      "source": [
        "def scaled_dot_product_attention(q, k, v, mask):\n",
        "    \"\"\"Calculate the attention weights.\n",
        "    q, k, v must have matching leading dimensions.\n",
        "    k, v must have matching penultimate dimension, i.e.: seq_len_k = seq_len_v.\n",
        "    The mask has different shapes depending on its type(padding or look ahead) \n",
        "    but it must be broadcastable for addition.\n",
        "\n",
        "    Args:\n",
        "    q: query shape == (..., seq_len_q, depth)\n",
        "    k: key shape == (..., seq_len_k, depth)\n",
        "    v: value shape == (..., seq_len_v, depth_v)\n",
        "    mask: Float tensor with shape broadcastable \n",
        "            to (..., seq_len_q, seq_len_k). Defaults to None.\n",
        "\n",
        "    Returns:\n",
        "    output, attention_weights\n",
        "    \"\"\"\n",
        "\n",
        "    matmul_qk = tf.matmul(q, k, transpose_b=True)  # (..., seq_len_q, seq_len_k)\n",
        "\n",
        "    # scale matmul_qk\n",
        "    dk = tf.cast(tf.shape(k)[-1], tf.float32)\n",
        "    scaled_attention_logits = matmul_qk / tf.math.sqrt(dk)\n",
        "\n",
        "    # add the mask to the scaled tensor.\n",
        "    if mask is not None:\n",
        "        scaled_attention_logits += (mask * -1e9)  \n",
        "\n",
        "    # softmax is normalized on the last axis (seq_len_k) so that the scores\n",
        "    # add up to 1.\n",
        "    attention_weights = tf.nn.softmax(scaled_attention_logits, axis=-1)  # (..., seq_len_q, seq_len_k)\n",
        "\n",
        "    output = tf.matmul(attention_weights, v)  # (..., seq_len_q, depth_v)\n",
        "\n",
        "    return output, attention_weights\n",
        "\n",
        "\n",
        "class MultiHeadAttention(tf.keras.layers.Layer):\n",
        "    def __init__(self, d_model, num_heads):\n",
        "        super(MultiHeadAttention, self).__init__()\n",
        "        self.num_heads = num_heads\n",
        "        self.d_model = d_model\n",
        "\n",
        "        assert d_model % self.num_heads == 0\n",
        "\n",
        "        self.depth = d_model // self.num_heads\n",
        "\n",
        "        self.wq = tf.keras.layers.Dense(d_model,use_bias=False)\n",
        "        self.wk = tf.keras.layers.Dense(d_model,use_bias=True)\n",
        "        self.wv = tf.keras.layers.Dense(d_model,use_bias=True)\n",
        "\n",
        "        self.dense = tf.keras.layers.Dense(d_model)\n",
        "        \n",
        "    def split_heads(self, x, batch_size):\n",
        "        \"\"\"Split the last dimension into (num_heads, depth).\n",
        "        Transpose the result such that the shape is (batch_size, num_heads, seq_len, depth)\n",
        "        \"\"\"\n",
        "        x = tf.reshape(x, (batch_size, -1, self.num_heads, self.depth))\n",
        "        return tf.transpose(x, perm=[0, 2, 1, 3])\n",
        "\n",
        "    def call(self, v, k, q, mask):\n",
        "        batch_size = tf.shape(q)[0]\n",
        "\n",
        "        q = self.wq(q)  # (batch_size, seq_len, d_model)\n",
        "        k = self.wk(k)  # (batch_size, seq_len, d_model)\n",
        "        v = self.wv(v)  # (batch_size, seq_len, d_model)\n",
        "\n",
        "        q = self.split_heads(q, batch_size)  # (batch_size, num_heads, seq_len_q, depth)\n",
        "        k = self.split_heads(k, batch_size)  # (batch_size, num_heads, seq_len_k, depth)\n",
        "        v = self.split_heads(v, batch_size)  # (batch_size, num_heads, seq_len_v, depth)\n",
        "\n",
        "        # scaled_attention.shape == (batch_size, num_heads, seq_len_q, depth)\n",
        "        # attention_weights.shape == (batch_size, num_heads, seq_len_q, seq_len_k)\n",
        "        scaled_attention, attention_weights = scaled_dot_product_attention(\n",
        "            q, k, v, mask)\n",
        "\n",
        "        scaled_attention = tf.transpose(scaled_attention, perm=[0, 2, 1, 3])  # (batch_size, seq_len_q, num_heads, depth)\n",
        "\n",
        "        concat_attention = tf.reshape(scaled_attention, \n",
        "                                        (batch_size, -1, self.d_model))  # (batch_size, seq_len_q, d_model)\n",
        "\n",
        "        output = self.dense(concat_attention)  # (batch_size, seq_len_q, d_model)\n",
        "            \n",
        "        return output, attention_weights\n",
        "\n",
        "\n",
        "def point_wise_feed_forward_network(d_model, dff):\n",
        "    return tf.keras.Sequential([\n",
        "        tf.keras.layers.Dense(dff, activation='relu'),  # (batch_size, seq_len, dff)\n",
        "        tf.keras.layers.Dense(d_model)  # (batch_size, seq_len, d_model)\n",
        "    ])\n"
      ],
      "execution_count": 0,
      "outputs": []
    },
    {
      "cell_type": "code",
      "metadata": {
        "id": "odawothQxCMO",
        "colab_type": "code",
        "colab": {}
      },
      "source": [
        "class AggregateAttention(tf.keras.layers.Layer):\n",
        "    def __init__(self, d_model, num_heads):\n",
        "        super(AggregateAttention, self).__init__()\n",
        "        self.mha = MultiHeadAttention(d_model, num_heads)\n",
        "        self.d_model = d_model\n",
        "        self.query = self.add_weight(\"learned_query\",\n",
        "                                     shape=[1, 1, self.d_model],\n",
        "                                     initializer=tf.keras.initializers.Orthogonal())  \n",
        "    \n",
        "    def call(self, v, k):\n",
        "        batched_query = tf.tile(self.query, [tf.shape(v)[0],1,1])\n",
        "        output, attention_weights = self.mha(v, k, batched_query, mask=None)\n",
        "        output = tf.squeeze(output, axis=1)\n",
        "        attention_weights = tf.squeeze(attention_weights, axis=2)\n",
        "        return output, attention_weights"
      ],
      "execution_count": 0,
      "outputs": []
    },
    {
      "cell_type": "code",
      "metadata": {
        "id": "syJtH2GUhVTF",
        "colab_type": "code",
        "colab": {}
      },
      "source": [
        "class AggregateAttentionBlock(tf.keras.layers.Layer):\n",
        "    def __init__(self, d_model, num_heads, dff, expand_dim_factor, rate=0.1):\n",
        "        super(AggregateAttentionBlock, self).__init__()\n",
        "        self.aga = AggregateAttention(d_model*expand_dim_factor, num_heads)\n",
        "        self.ffn = point_wise_feed_forward_network(d_model*expand_dim_factor, dff*expand_dim_factor)\n",
        "\n",
        "        self.layernorm = tf.keras.layers.LayerNormalization(epsilon=1e-6)\n",
        "\n",
        "        self.dropout1 = tf.keras.layers.Dropout(rate)\n",
        "        self.dropout2 = tf.keras.layers.Dropout(rate)\n",
        "\n",
        "    def call(self, x, training):\n",
        "        attn_output, attn_scores = self.aga(x, x)\n",
        "        attn_output = self.dropout1(attn_output, training=training)\n",
        "        \n",
        "        ffn_output = self.ffn(attn_output)  # (batch_size, d_model)\n",
        "        ffn_output = self.dropout2(ffn_output, training=training)\n",
        "        out = self.layernorm(ffn_output + attn_output)  # (batch_size, d_model)\n",
        "        return out, attn_scores"
      ],
      "execution_count": 0,
      "outputs": []
    },
    {
      "cell_type": "code",
      "metadata": {
        "id": "tg1dh_ajyO8l",
        "colab_type": "code",
        "colab": {}
      },
      "source": [
        "class SelfAttentionBlock(tf.keras.layers.Layer):\n",
        "  def __init__(self, d_model, num_heads, dff, rate=0.1):\n",
        "    super(SelfAttentionBlock, self).__init__()\n",
        "\n",
        "    self.mha = MultiHeadAttention(d_model, num_heads)\n",
        "    self.ffn = point_wise_feed_forward_network(d_model, dff)\n",
        "\n",
        "    self.layernorm1 = tf.keras.layers.LayerNormalization(epsilon=1e-6)\n",
        "    self.layernorm2 = tf.keras.layers.LayerNormalization(epsilon=1e-6)\n",
        "    \n",
        "    self.dropout1 = tf.keras.layers.Dropout(rate)\n",
        "    self.dropout2 = tf.keras.layers.Dropout(rate)\n",
        "    \n",
        "  def call(self, x, training, mask=None):\n",
        "\n",
        "    attn_output, _ = self.mha(x, x, x, mask)  # (batch_size, input_seq_len, d_model)\n",
        "    attn_output = self.dropout1(attn_output, training=training)\n",
        "    out1 = self.layernorm1(x + attn_output)  # (batch_size, input_seq_len, d_model)\n",
        "    \n",
        "    ffn_output = self.ffn(out1)  # (batch_size, input_seq_len, d_model)\n",
        "    ffn_output = self.dropout2(ffn_output, training=training)\n",
        "    out2 = self.layernorm2(out1 + ffn_output)  # (batch_size, input_seq_len, d_model)\n",
        "    \n",
        "    return out2\n"
      ],
      "execution_count": 0,
      "outputs": []
    },
    {
      "cell_type": "code",
      "metadata": {
        "id": "xXotyreEfoNY",
        "colab_type": "code",
        "colab": {}
      },
      "source": [
        "class EncoderBlock(tf.keras.layers.Layer):\n",
        "    def __init__(self, n_timesteps, d_model, num_heads, dff, num_sa_blocks=1, add_pe=True, pe_type = 'learned', expand_dim_factor=1, dropout_rate=0.1):\n",
        "        super(EncoderBlock, self).__init__()\n",
        "        self.add_pe = add_pe\n",
        "        if self.add_pe:\n",
        "            if pe_type == 'fixed': \n",
        "                self.pe = PositionalEncoding(n_timesteps, d_model, dropout_rate=dropout_rate)\n",
        "            else:\n",
        "                self.pe = LearnedPositionalEncoding(n_timesteps, d_model, dropout_rate=dropout_rate)\n",
        "        self.pe = PositionalEncoding(n_timesteps, d_model)\n",
        "        self.self_attn_blocks = tf.keras.Sequential(\n",
        "            [SelfAttentionBlock(d_model, num_heads, dff, dropout_rate) for _ in range(num_sa_blocks)]\n",
        "            )\n",
        "        self.attn_aggr = AggregateAttentionBlock(d_model, num_heads, dff, expand_dim_factor, dropout_rate)\n",
        "\n",
        "    def call(self, x):\n",
        "        if self.add_pe:\n",
        "            x = self.pe(x)\n",
        "        x = self.self_attn_blocks(x)\n",
        "        x, _  = self.attn_aggr(x)\n",
        "        return x\n",
        "\n",
        "    def compute_output_shape(x, input_shape):\n",
        "        return tf.TensorShape([input_shape[0], input_shape[-1]])"
      ],
      "execution_count": 0,
      "outputs": []
    },
    {
      "cell_type": "code",
      "metadata": {
        "id": "yHIYaBr4ZvCN",
        "colab_type": "code",
        "colab": {}
      },
      "source": [
        "class HSAEncoder(tf.keras.layers.Layer):\n",
        "    def __init__(self, n_window, n_timesteps, d_model, num_heads, dff, expand_dim_factor, dropout_rate=0.1):\n",
        "        super(HSAEncoder, self).__init__()\n",
        "        self.n_window = n_window\n",
        "        self.d_model = d_model\n",
        "        self.n_timesteps = n_timesteps\n",
        "        self.expand_dim_factor = expand_dim_factor\n",
        "        self.window_encoder = EncoderBlock(n_timesteps, d_model, num_heads,dff,\n",
        "                                           num_sa_blocks=2, add_pe=True,\n",
        "                                           pe_type = 'learned',\n",
        "                                           expand_dim_factor = expand_dim_factor, \n",
        "                                           dropout_rate=dropout_rate)\n",
        "        self.session_encoder = EncoderBlock(n_window, d_model*expand_dim_factor,\n",
        "                                            num_heads,dff*expand_dim_factor,\n",
        "                                            num_sa_blocks=2, add_pe=True,\n",
        "                                            pe_type = 'learned',\n",
        "                                            expand_dim_factor = expand_dim_factor,\n",
        "                                            dropout_rate=dropout_rate)\n",
        "     \n",
        "        \n",
        "    def call(self, x):\n",
        "        batch_size = tf.shape(x)[0]\n",
        "        x = tf.reshape(x, (-1, self.n_timesteps, self.d_model)) # all sessions in batch dim\n",
        "        x = self.window_encoder(x)\n",
        "        x = tf.reshape(x, (batch_size, -1, self.d_model*self.expand_dim_factor))\n",
        "        x = self.session_encoder(x)\n",
        "        return x\n",
        "\n",
        "\n",
        "    def compute_output_shape(x, input_shape):\n",
        "        return tf.TensorShape([input_shape, self.d_model*self.expand_dim_factor**2])"
      ],
      "execution_count": 0,
      "outputs": []
    },
    {
      "cell_type": "code",
      "metadata": {
        "id": "9nTBFpugUyus",
        "colab_type": "code",
        "colab": {}
      },
      "source": [
        "class MLPClassifier(tf.keras.layers.Layer):\n",
        "    def __init__(self, num_classes, hidden_layers = [64]):\n",
        "        super(MLPClassifier, self).__init__()\n",
        "        self.layers = tf.keras.Sequential(\n",
        "            [tf.keras.layers.Dense(num_units, activation='relu') for num_units in hidden_layers]\n",
        "        )\n",
        "        self.final_layer = tf.keras.layers.Dense(num_classes, activation='softmax')\n",
        "        self.dropout = tf.keras.layers.Dropout(0.3)\n",
        "\n",
        "    def call(self, x):\n",
        "        x = self.layers(x)\n",
        "        x = self.dropout(x)\n",
        "        return self.final_layer(x)"
      ],
      "execution_count": 0,
      "outputs": []
    },
    {
      "cell_type": "code",
      "metadata": {
        "id": "JymbZtqkjAC3",
        "colab_type": "code",
        "colab": {}
      },
      "source": [
        "class HARModel(tf.keras.Model):\n",
        "    def __init__(self, num_classes, n_window, n_timesteps, d_model, num_heads, dff,expand_dim_factor=1, dropout_rate=0.3):\n",
        "        super(HARModel, self).__init__()\n",
        "        self.data_transform = tf.keras.layers.TimeDistributed(tf.keras.layers.Conv1D(d_model, 1, activation='relu'))\n",
        "        self.encoder = HSAEncoder(n_window, n_timesteps, d_model, num_heads, dff,expand_dim_factor, dropout_rate)\n",
        "        self.classifier = MLPClassifier(num_classes)\n",
        "\n",
        "    def call(self, x):\n",
        "        x = self.data_transform(x)\n",
        "        x = self.encoder(x)\n",
        "        return self.classifier(x)"
      ],
      "execution_count": 0,
      "outputs": []
    },
    {
      "cell_type": "markdown",
      "metadata": {
        "id": "Iu8Nliz42Cey",
        "colab_type": "text"
      },
      "source": [
        "## Training"
      ]
    },
    {
      "cell_type": "code",
      "metadata": {
        "id": "N-SEtee02BoR",
        "colab_type": "code",
        "colab": {}
      },
      "source": [
        "model = HARModel(num_classes=12, n_window=N_WINDOW, n_timesteps=N_TIMESTEP,\n",
        "                 d_model=64, num_heads=4, dff=128, expand_dim_factor=2, dropout_rate=0.1)"
      ],
      "execution_count": 0,
      "outputs": []
    },
    {
      "cell_type": "code",
      "metadata": {
        "id": "hwtAmh292fQp",
        "colab_type": "code",
        "colab": {}
      },
      "source": [
        "tf.keras.backend.clear_session()\n",
        "model.compile(tf.keras.optimizers.Adam(),\n",
        "              loss=tf.keras.losses.CategoricalCrossentropy(label_smoothing=0.2),\n",
        "              metrics=['accuracy'])"
      ],
      "execution_count": 0,
      "outputs": []
    },
    {
      "cell_type": "code",
      "metadata": {
        "id": "wyr2iUaIEM6g",
        "colab_type": "code",
        "outputId": "c1ab9b91-30f6-4339-b2aa-ffffc73a76e8",
        "colab": {
          "base_uri": "https://localhost:8080/",
          "height": 255
        }
      },
      "source": [
        "model.build((64, N_WINDOW,N_TIMESTEP, 6))\n",
        "model.summary()"
      ],
      "execution_count": 0,
      "outputs": [
        {
          "output_type": "stream",
          "text": [
            "Model: \"har_model\"\n",
            "_________________________________________________________________\n",
            "Layer (type)                 Output Shape              Param #   \n",
            "=================================================================\n",
            "time_distributed (TimeDistri multiple                  448       \n",
            "_________________________________________________________________\n",
            "hsa_encoder (HSAEncoder)     multiple                  908416    \n",
            "_________________________________________________________________\n",
            "mlp_classifier (MLPClassifie multiple                  17228     \n",
            "=================================================================\n",
            "Total params: 926,092\n",
            "Trainable params: 926,092\n",
            "Non-trainable params: 0\n",
            "_________________________________________________________________\n"
          ],
          "name": "stdout"
        }
      ]
    },
    {
      "cell_type": "code",
      "metadata": {
        "id": "J6pXbUj33I_X",
        "colab_type": "code",
        "outputId": "812d60e5-1b36-443a-e856-76497c21e039",
        "colab": {
          "base_uri": "https://localhost:8080/",
          "height": 1000
        }
      },
      "source": [
        "history = model.fit(train_dataset, epochs=30, validation_data=val_dataset)"
      ],
      "execution_count": 0,
      "outputs": [
        {
          "output_type": "stream",
          "text": [
            "Epoch 1/30\n",
            "46/46 [==============================] - 3s 74ms/step - loss: 1.4127 - accuracy: 0.7609 - val_loss: 2.0046 - val_accuracy: 0.4085\n",
            "Epoch 2/30\n",
            "46/46 [==============================] - 3s 74ms/step - loss: 1.4285 - accuracy: 0.7585 - val_loss: 1.7001 - val_accuracy: 0.5948\n",
            "Epoch 3/30\n",
            "46/46 [==============================] - 3s 73ms/step - loss: 1.3756 - accuracy: 0.7783 - val_loss: 1.5210 - val_accuracy: 0.6721\n",
            "Epoch 4/30\n",
            "46/46 [==============================] - 3s 72ms/step - loss: 1.4371 - accuracy: 0.7495 - val_loss: 1.7763 - val_accuracy: 0.5218\n",
            "Epoch 5/30\n",
            "46/46 [==============================] - 3s 74ms/step - loss: 1.6490 - accuracy: 0.6031 - val_loss: 1.6385 - val_accuracy: 0.5708\n",
            "Epoch 6/30\n",
            "46/46 [==============================] - 3s 73ms/step - loss: 1.4575 - accuracy: 0.7120 - val_loss: 1.8112 - val_accuracy: 0.4967\n",
            "Epoch 7/30\n",
            "46/46 [==============================] - 3s 73ms/step - loss: 1.3940 - accuracy: 0.7516 - val_loss: 1.5424 - val_accuracy: 0.6362\n",
            "Epoch 8/30\n",
            "46/46 [==============================] - 3s 72ms/step - loss: 1.4495 - accuracy: 0.7200 - val_loss: 1.5603 - val_accuracy: 0.5708\n",
            "Epoch 9/30\n",
            "46/46 [==============================] - 3s 72ms/step - loss: 1.3914 - accuracy: 0.7509 - val_loss: 1.4996 - val_accuracy: 0.6580\n",
            "Epoch 10/30\n",
            "46/46 [==============================] - 3s 74ms/step - loss: 1.3760 - accuracy: 0.7759 - val_loss: 1.6274 - val_accuracy: 0.5468\n",
            "Epoch 11/30\n",
            "46/46 [==============================] - 3s 73ms/step - loss: 1.3588 - accuracy: 0.7765 - val_loss: 1.5124 - val_accuracy: 0.6569\n",
            "Epoch 12/30\n",
            "46/46 [==============================] - 3s 73ms/step - loss: 1.3332 - accuracy: 0.8026 - val_loss: 1.5966 - val_accuracy: 0.6024\n",
            "Epoch 13/30\n",
            "46/46 [==============================] - 3s 74ms/step - loss: 1.3019 - accuracy: 0.8151 - val_loss: 1.7582 - val_accuracy: 0.5338\n",
            "Epoch 14/30\n",
            "46/46 [==============================] - 3s 75ms/step - loss: 1.2961 - accuracy: 0.8178 - val_loss: 1.7849 - val_accuracy: 0.5817\n",
            "Epoch 15/30\n",
            "46/46 [==============================] - 3s 73ms/step - loss: 1.3410 - accuracy: 0.7894 - val_loss: 1.4311 - val_accuracy: 0.6939\n",
            "Epoch 16/30\n",
            "46/46 [==============================] - 3s 72ms/step - loss: 1.3571 - accuracy: 0.7845 - val_loss: 1.7472 - val_accuracy: 0.5403\n",
            "Epoch 17/30\n",
            "46/46 [==============================] - 3s 74ms/step - loss: 1.3523 - accuracy: 0.7873 - val_loss: 1.8392 - val_accuracy: 0.4967\n",
            "Epoch 18/30\n",
            "46/46 [==============================] - 3s 74ms/step - loss: 1.3629 - accuracy: 0.7738 - val_loss: 1.4721 - val_accuracy: 0.6558\n",
            "Epoch 19/30\n",
            "46/46 [==============================] - 3s 74ms/step - loss: 1.2972 - accuracy: 0.8126 - val_loss: 1.4926 - val_accuracy: 0.6449\n",
            "Epoch 20/30\n",
            "46/46 [==============================] - 3s 73ms/step - loss: 1.3981 - accuracy: 0.7547 - val_loss: 1.5101 - val_accuracy: 0.6449\n",
            "Epoch 21/30\n",
            "46/46 [==============================] - 3s 74ms/step - loss: 1.3185 - accuracy: 0.8050 - val_loss: 1.6271 - val_accuracy: 0.6013\n",
            "Epoch 22/30\n",
            "46/46 [==============================] - 3s 75ms/step - loss: 1.2875 - accuracy: 0.8234 - val_loss: 1.3963 - val_accuracy: 0.7135\n",
            "Epoch 23/30\n",
            "46/46 [==============================] - 3s 76ms/step - loss: 1.4058 - accuracy: 0.7509 - val_loss: 1.6047 - val_accuracy: 0.5610\n",
            "Epoch 24/30\n",
            "46/46 [==============================] - 3s 75ms/step - loss: 1.2930 - accuracy: 0.8105 - val_loss: 1.5791 - val_accuracy: 0.6111\n",
            "Epoch 25/30\n",
            "46/46 [==============================] - 3s 75ms/step - loss: 1.2575 - accuracy: 0.8425 - val_loss: 1.8514 - val_accuracy: 0.5185\n",
            "Epoch 26/30\n",
            "46/46 [==============================] - 3s 75ms/step - loss: 1.2602 - accuracy: 0.8362 - val_loss: 1.8474 - val_accuracy: 0.5283\n",
            "Epoch 27/30\n",
            "46/46 [==============================] - 3s 74ms/step - loss: 1.2742 - accuracy: 0.8317 - val_loss: 1.7955 - val_accuracy: 0.5959\n",
            "Epoch 28/30\n",
            "46/46 [==============================] - 3s 74ms/step - loss: 1.2879 - accuracy: 0.8178 - val_loss: 1.7699 - val_accuracy: 0.5316\n",
            "Epoch 29/30\n",
            "46/46 [==============================] - 3s 73ms/step - loss: 1.4035 - accuracy: 0.7658 - val_loss: 1.4696 - val_accuracy: 0.6427\n",
            "Epoch 30/30\n",
            "46/46 [==============================] - 3s 74ms/step - loss: 1.3055 - accuracy: 0.8078 - val_loss: 1.4042 - val_accuracy: 0.6950\n"
          ],
          "name": "stdout"
        }
      ]
    },
    {
      "cell_type": "code",
      "metadata": {
        "id": "xYneMI-9JTns",
        "colab_type": "code",
        "colab": {}
      },
      "source": [
        "pred = model.predict(test_dataset)"
      ],
      "execution_count": 0,
      "outputs": []
    },
    {
      "cell_type": "code",
      "metadata": {
        "id": "ALnMbWiDSy94",
        "colab_type": "code",
        "colab": {}
      },
      "source": [
        "from sklearn.metrics import classification_report, confusion_matrix"
      ],
      "execution_count": 0,
      "outputs": []
    },
    {
      "cell_type": "code",
      "metadata": {
        "id": "EV3mZ8d3KJ2D",
        "colab_type": "code",
        "outputId": "738e5dfd-dbc2-4819-e5db-81464f2a7635",
        "colab": {
          "base_uri": "https://localhost:8080/",
          "height": 394
        }
      },
      "source": [
        "print(classification_report(np.argmax(y_test, axis=1), np.argmax(pred, axis=1)))"
      ],
      "execution_count": 0,
      "outputs": [
        {
          "output_type": "stream",
          "text": [
            "              precision    recall  f1-score   support\n",
            "\n",
            "           0       0.73      0.70      0.71       143\n",
            "           1       0.97      0.38      0.54        85\n",
            "           2       0.82      0.86      0.84        71\n",
            "           3       0.07      0.04      0.05        25\n",
            "           4       0.14      0.26      0.18        23\n",
            "           5       0.50      0.74      0.59        69\n",
            "           6       0.50      0.38      0.43        24\n",
            "           7       0.24      0.49      0.32        90\n",
            "           8       0.45      0.65      0.53        60\n",
            "           9       0.73      0.08      0.14       142\n",
            "          10       0.36      0.91      0.52        32\n",
            "          11       0.00      0.00      0.00        22\n",
            "\n",
            "    accuracy                           0.49       786\n",
            "   macro avg       0.46      0.46      0.41       786\n",
            "weighted avg       0.59      0.49      0.46       786\n",
            "\n"
          ],
          "name": "stdout"
        },
        {
          "output_type": "stream",
          "text": [
            "/usr/local/lib/python3.6/dist-packages/sklearn/metrics/_classification.py:1272: UndefinedMetricWarning: Precision and F-score are ill-defined and being set to 0.0 in labels with no predicted samples. Use `zero_division` parameter to control this behavior.\n",
            "  _warn_prf(average, modifier, msg_start, len(result))\n"
          ],
          "name": "stderr"
        }
      ]
    },
    {
      "cell_type": "code",
      "metadata": {
        "id": "6BIMGjpMSxTa",
        "colab_type": "code",
        "outputId": "73463d04-382a-44db-a418-4d01473587ef",
        "colab": {
          "base_uri": "https://localhost:8080/",
          "height": 588
        }
      },
      "source": [
        "confm = confusion_matrix(np.argmax(y_test, axis=1), np.argmax(pred, axis=1))\n",
        "\n",
        "df_cm = pd.DataFrame(confm, index=activity_list, columns=activity_list)\n",
        "plt.figure(figsize = (10,8))\n",
        "sns.heatmap(df_cm, annot=True, fmt='d', cmap=\"YlGnBu\")"
      ],
      "execution_count": 0,
      "outputs": [
        {
          "output_type": "execute_result",
          "data": {
            "text/plain": [
              "<matplotlib.axes._subplots.AxesSubplot at 0x7f5d3cfd8358>"
            ]
          },
          "metadata": {
            "tags": []
          },
          "execution_count": 72
        },
        {
          "output_type": "display_data",
          "data": {
            "image/png": "[encoded data removed]",
            "text/plain": [
              "<Figure size 720x576 with 2 Axes>"
            ]
          },
          "metadata": {
            "tags": [],
            "needs_background": "light"
          }
        }
      ]
    },
    {
      "cell_type": "code",
      "metadata": {
        "id": "6N2iInx1i7Uq",
        "colab_type": "code",
        "outputId": "becfbbb6-34e1-47b5-d901-b46608d184d0",
        "colab": {
          "base_uri": "https://localhost:8080/",
          "height": 289
        }
      },
      "source": [
        "!nvidia-smi"
      ],
      "execution_count": 0,
      "outputs": [
        {
          "output_type": "stream",
          "text": [
            "Tue Jun  2 15:40:20 2020       \n",
            "+-----------------------------------------------------------------------------+\n",
            "| NVIDIA-SMI 440.82       Driver Version: 418.67       CUDA Version: 10.1     |\n",
            "|-------------------------------+----------------------+----------------------+\n",
            "| GPU  Name        Persistence-M| Bus-Id        Disp.A | Volatile Uncorr. ECC |\n",
            "| Fan  Temp  Perf  Pwr:Usage/Cap|         Memory-Usage | GPU-Util  Compute M. |\n",
            "|===============================+======================+======================|\n",
            "|   0  Tesla P100-PCIE...  Off  | 00000000:00:04.0 Off |                    0 |\n",
            "| N/A   49C    P0    34W / 250W |   4771MiB / 16280MiB |      0%      Default |\n",
            "+-------------------------------+----------------------+----------------------+\n",
            "                                                                               \n",
            "+-----------------------------------------------------------------------------+\n",
            "| Processes:                                                       GPU Memory |\n",
            "|  GPU       PID   Type   Process name                             Usage      |\n",
            "|=============================================================================|\n",
            "+-----------------------------------------------------------------------------+\n"
          ],
          "name": "stdout"
        }
      ]
    },
    {
      "cell_type": "code",
      "metadata": {
        "id": "HA2tRXMskm_9",
        "colab_type": "code",
        "colab": {}
      },
      "source": [
        ""
      ],
      "execution_count": 0,
      "outputs": []
    }
  ]
}